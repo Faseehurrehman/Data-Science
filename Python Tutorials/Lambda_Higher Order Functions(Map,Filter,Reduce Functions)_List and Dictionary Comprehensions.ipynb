{
 "cells": [
  {
   "cell_type": "markdown",
   "id": "c332bf96",
   "metadata": {},
   "source": [
    "<b> They are used along with higher order functions. Higer order functions use another functions to do its work and their return statements are functions"
   ]
  },
  {
   "cell_type": "markdown",
   "id": "d698dc48",
   "metadata": {},
   "source": [
    "<b> Syntax: lambda (keyword), Input, Expression"
   ]
  },
  {
   "cell_type": "markdown",
   "id": "5c76de62",
   "metadata": {},
   "source": [
    "<b> Difference with Simple Function: <br>\n",
    "    1 - Lambda Function has no return value.It returns full function, rather than value.<br>\n",
    "    2 - Lambda Function is written in only one line. <br>\n",
    "    3 - Lamda Function is not used for code reusability.<br>\n",
    "    4 - Lambda Function has no name."
   ]
  },
  {
   "cell_type": "code",
   "execution_count": 4,
   "id": "173f9a53",
   "metadata": {},
   "outputs": [],
   "source": [
    "lmb = lambda x: x**2"
   ]
  },
  {
   "cell_type": "code",
   "execution_count": 8,
   "id": "5191ec25",
   "metadata": {},
   "outputs": [
    {
     "data": {
      "text/plain": [
       "function"
      ]
     },
     "execution_count": 8,
     "metadata": {},
     "output_type": "execute_result"
    }
   ],
   "source": [
    "type(lmb)"
   ]
  },
  {
   "cell_type": "code",
   "execution_count": 5,
   "id": "267e2689",
   "metadata": {},
   "outputs": [
    {
     "data": {
      "text/plain": [
       "4"
      ]
     },
     "execution_count": 5,
     "metadata": {},
     "output_type": "execute_result"
    }
   ],
   "source": [
    "lmb(2)"
   ]
  },
  {
   "cell_type": "code",
   "execution_count": 6,
   "id": "66c5346a",
   "metadata": {},
   "outputs": [],
   "source": [
    "lmb = lambda x,y : x+y"
   ]
  },
  {
   "cell_type": "code",
   "execution_count": 7,
   "id": "3c479440",
   "metadata": {},
   "outputs": [
    {
     "data": {
      "text/plain": [
       "5"
      ]
     },
     "execution_count": 7,
     "metadata": {},
     "output_type": "execute_result"
    }
   ],
   "source": [
    "lmb(2,3)"
   ]
  },
  {
   "cell_type": "code",
   "execution_count": 10,
   "id": "1c78779b",
   "metadata": {},
   "outputs": [],
   "source": [
    "# to check given string has first letter 'a'\n",
    "\n",
    "b = lambda x : x[0]=='a'"
   ]
  },
  {
   "cell_type": "code",
   "execution_count": 11,
   "id": "7ffdd3f5",
   "metadata": {},
   "outputs": [
    {
     "data": {
      "text/plain": [
       "True"
      ]
     },
     "execution_count": 11,
     "metadata": {},
     "output_type": "execute_result"
    }
   ],
   "source": [
    "b('apple')"
   ]
  },
  {
   "cell_type": "code",
   "execution_count": 12,
   "id": "67145fde",
   "metadata": {},
   "outputs": [
    {
     "data": {
      "text/plain": [
       "False"
      ]
     },
     "execution_count": 12,
     "metadata": {},
     "output_type": "execute_result"
    }
   ],
   "source": [
    "b('banana')"
   ]
  },
  {
   "cell_type": "code",
   "execution_count": 16,
   "id": "cb8cf081",
   "metadata": {},
   "outputs": [],
   "source": [
    "# to use with conditions- e.g. given number is odd or even ?\n",
    "\n",
    "b = lambda x : 'Even' if x%2 == 0 else 'Odd'"
   ]
  },
  {
   "cell_type": "code",
   "execution_count": 17,
   "id": "e5a0f54d",
   "metadata": {},
   "outputs": [
    {
     "data": {
      "text/plain": [
       "'Even'"
      ]
     },
     "execution_count": 17,
     "metadata": {},
     "output_type": "execute_result"
    }
   ],
   "source": [
    "b(2)"
   ]
  },
  {
   "cell_type": "code",
   "execution_count": 18,
   "id": "86eb3765",
   "metadata": {},
   "outputs": [
    {
     "data": {
      "text/plain": [
       "'Odd'"
      ]
     },
     "execution_count": 18,
     "metadata": {},
     "output_type": "execute_result"
    }
   ],
   "source": [
    "b(3)"
   ]
  },
  {
   "cell_type": "markdown",
   "id": "2b29faee",
   "metadata": {},
   "source": [
    "## Higher Order Functions"
   ]
  },
  {
   "cell_type": "code",
   "execution_count": 37,
   "id": "dc3c23de",
   "metadata": {},
   "outputs": [],
   "source": [
    "\n",
    "def return_sum(List):\n",
    "    \n",
    "    even_sum = 0\n",
    "    odd_sum = 0\n",
    "    div_sum = 0\n",
    "    \n",
    "    for i in List:\n",
    "        if i%2 ==0:\n",
    "            even_sum = even_sum + i\n",
    "        if i%2 !=0:\n",
    "            odd_sum = odd_sum + i\n",
    "        if i%3 ==0:\n",
    "            div_sum = div_sum + i\n",
    "    return(even_sum,odd_sum,div_sum)"
   ]
  },
  {
   "cell_type": "code",
   "execution_count": 38,
   "id": "16be7553",
   "metadata": {},
   "outputs": [
    {
     "data": {
      "text/plain": [
       "(188, 118, 156)"
      ]
     },
     "execution_count": 38,
     "metadata": {},
     "output_type": "execute_result"
    }
   ],
   "source": [
    "return_sum([12,14,21,23,56,78,45,29,28])"
   ]
  },
  {
   "cell_type": "code",
   "execution_count": 36,
   "id": "efbd537e",
   "metadata": {},
   "outputs": [
    {
     "name": "stdout",
     "output_type": "stream",
     "text": [
      "176\n",
      "129\n",
      "144\n"
     ]
    }
   ],
   "source": [
    "# OR Use Higher Order Function\n",
    "\n",
    "def return_sum(func,L):\n",
    "    \n",
    "    result = 0\n",
    "    for i in L:\n",
    "        if func(i):\n",
    "            result = result + i\n",
    "    return result\n",
    "\n",
    "L = [11,14,21,23,56,78,45,29,28]\n",
    "x = lambda x:x%2 == 0\n",
    "y = lambda x:x%2 != 0\n",
    "z = lambda x:x%3 == 0\n",
    "\n",
    "print(return_sum(x,L))\n",
    "print(return_sum(y,L))\n",
    "print(return_sum(z,L))"
   ]
  },
  {
   "cell_type": "markdown",
   "id": "39e1bb2f",
   "metadata": {},
   "source": [
    "### Built in Higher Order Functions:\n",
    "#### 1 - Map Function\n",
    "#### 2 - Filter Function\n",
    "#### 3 - Reduce Function"
   ]
  },
  {
   "cell_type": "markdown",
   "id": "b4226c3e",
   "metadata": {},
   "source": [
    "# 1 - Map Function"
   ]
  },
  {
   "cell_type": "code",
   "execution_count": 58,
   "id": "b96c2cd8",
   "metadata": {},
   "outputs": [],
   "source": [
    "# It expects two things: i) Function - Lambda ii) Iterable\n",
    "# It can perform operation on each item in list"
   ]
  },
  {
   "cell_type": "code",
   "execution_count": 47,
   "id": "a706de95",
   "metadata": {},
   "outputs": [
    {
     "data": {
      "text/plain": [
       "<map at 0x2b68d6c58b0>"
      ]
     },
     "execution_count": 47,
     "metadata": {},
     "output_type": "execute_result"
    }
   ],
   "source": [
    "# to double value of each item in list\n",
    "L = [10,14,21,23,56,78,45,29,28]\n",
    "map(lambda x: x*2,L)"
   ]
  },
  {
   "cell_type": "code",
   "execution_count": 48,
   "id": "088b2cb6",
   "metadata": {},
   "outputs": [
    {
     "data": {
      "text/plain": [
       "[20, 28, 42, 46, 112, 156, 90, 58, 56]"
      ]
     },
     "execution_count": 48,
     "metadata": {},
     "output_type": "execute_result"
    }
   ],
   "source": [
    "# convert map object into list to see result\n",
    "list(map(lambda x: x*2,L))"
   ]
  },
  {
   "cell_type": "code",
   "execution_count": 49,
   "id": "4adb03bd",
   "metadata": {},
   "outputs": [
    {
     "data": {
      "text/plain": [
       "[True, True, False, False, True, True, False, False, True]"
      ]
     },
     "execution_count": 49,
     "metadata": {},
     "output_type": "execute_result"
    }
   ],
   "source": [
    "# to check each item in list is even or not\n",
    "list(map(lambda x:x%2==0,L))"
   ]
  },
  {
   "cell_type": "code",
   "execution_count": 53,
   "id": "c8aec0a1",
   "metadata": {},
   "outputs": [],
   "source": [
    "# to fetch names, emails in a form of list\n",
    "\n",
    "students = [\n",
    "    {\n",
    "        'name':'Jacob',\n",
    "        'email':'jacob@gmail.com',\n",
    "        'password':'12345',\n",
    "    },\n",
    "    {\n",
    "        'name':'John',\n",
    "        'email':'john@gmail.com',\n",
    "        'password':'32145',\n",
    "    }\n",
    "]"
   ]
  },
  {
   "cell_type": "code",
   "execution_count": 55,
   "id": "fb1d5ea6",
   "metadata": {},
   "outputs": [
    {
     "data": {
      "text/plain": [
       "['Jacob', 'John']"
      ]
     },
     "execution_count": 55,
     "metadata": {},
     "output_type": "execute_result"
    }
   ],
   "source": [
    "list(map(lambda student:student['name'],students))"
   ]
  },
  {
   "cell_type": "code",
   "execution_count": 56,
   "id": "5cc3082e",
   "metadata": {},
   "outputs": [
    {
     "data": {
      "text/plain": [
       "['jacob@gmail.com', 'john@gmail.com']"
      ]
     },
     "execution_count": 56,
     "metadata": {},
     "output_type": "execute_result"
    }
   ],
   "source": [
    "list(map(lambda student:student['email'],students))"
   ]
  },
  {
   "cell_type": "markdown",
   "id": "f76f6796",
   "metadata": {},
   "source": [
    "# 2- Filter Function"
   ]
  },
  {
   "cell_type": "code",
   "execution_count": 60,
   "id": "4cc1453f",
   "metadata": {},
   "outputs": [],
   "source": [
    "# to fetch values by putting some condition"
   ]
  },
  {
   "cell_type": "code",
   "execution_count": 62,
   "id": "d0347108",
   "metadata": {},
   "outputs": [
    {
     "data": {
      "text/plain": [
       "[4, 5, 5, 6]"
      ]
     },
     "execution_count": 62,
     "metadata": {},
     "output_type": "execute_result"
    }
   ],
   "source": [
    "# to fetch values greater than 4\n",
    "\n",
    "L = [1,2,3,4,5,5,6]\n",
    "list(filter(lambda x:x>=4,L))"
   ]
  },
  {
   "cell_type": "code",
   "execution_count": 68,
   "id": "8993b717",
   "metadata": {},
   "outputs": [
    {
     "data": {
      "text/plain": [
       "['apple']"
      ]
     },
     "execution_count": 68,
     "metadata": {},
     "output_type": "execute_result"
    }
   ],
   "source": [
    "# to fetch those fruits whose names starts with 'a'\n",
    "Fruits = ['apple','orange','mango','grape','banana']\n",
    "list(filter(lambda x:x[0]=='a',Fruits))"
   ]
  },
  {
   "cell_type": "code",
   "execution_count": 69,
   "id": "5aeb99ca",
   "metadata": {},
   "outputs": [
    {
     "data": {
      "text/plain": [
       "['apple', 'orange', 'grape']"
      ]
     },
     "execution_count": 69,
     "metadata": {},
     "output_type": "execute_result"
    }
   ],
   "source": [
    "# to fetch those fruits whose names contains word 'e'\n",
    "Fruits = ['apple','orange','mango','grape','banana']\n",
    "list(filter(lambda fruit:'e' in fruit,Fruits))"
   ]
  },
  {
   "cell_type": "markdown",
   "id": "5c3b99fc",
   "metadata": {},
   "source": [
    "<b> Difference between Map and Filter Functions:<br>\n",
    "    Map Function - Do operation on each item in list <br>\n",
    "    Fliter Function - Filter out on given filtered condition"
   ]
  },
  {
   "cell_type": "markdown",
   "id": "e99c6fa7",
   "metadata": {},
   "source": [
    "# 3 - Reduce Function"
   ]
  },
  {
   "cell_type": "code",
   "execution_count": 70,
   "id": "c5eae8d2",
   "metadata": {},
   "outputs": [],
   "source": [
    "# first you need to import functools\n",
    "import functools"
   ]
  },
  {
   "cell_type": "code",
   "execution_count": 71,
   "id": "c3e355b0",
   "metadata": {},
   "outputs": [],
   "source": [
    "# Reduce function reduces list\n",
    "L = [1,2,3,4,5,5,6,7]   # By 1+2=3, 3+3 =6, 6+4=10, 10+5=15, 15+5=20, 20+6=26, 26+7=33"
   ]
  },
  {
   "cell_type": "code",
   "execution_count": 72,
   "id": "99563044",
   "metadata": {},
   "outputs": [
    {
     "data": {
      "text/plain": [
       "33"
      ]
     },
     "execution_count": 72,
     "metadata": {},
     "output_type": "execute_result"
    }
   ],
   "source": [
    "functools.reduce(lambda x,y:x+y,L)"
   ]
  },
  {
   "cell_type": "code",
   "execution_count": 73,
   "id": "2a219553",
   "metadata": {},
   "outputs": [
    {
     "data": {
      "text/plain": [
       "9"
      ]
     },
     "execution_count": 73,
     "metadata": {},
     "output_type": "execute_result"
    }
   ],
   "source": [
    "L1 = [1,2,3,4,5,5,6,7,8,9]\n",
    "functools.reduce(lambda x,y:x if x>y else y,L1) # 1,2=2, 2,3 =3, 3,4=4, 4,5=5, 5,5=5, 5,6=6, 6,7=7, 7,8=8, 8,9=9"
   ]
  },
  {
   "cell_type": "markdown",
   "id": "df0cf283",
   "metadata": {},
   "source": [
    "# List Comprehension"
   ]
  },
  {
   "cell_type": "markdown",
   "id": "abeef2e5",
   "metadata": {},
   "source": [
    "<b> It is a technique to create list from another list programatically"
   ]
  },
  {
   "cell_type": "code",
   "execution_count": 75,
   "id": "301ca3f1",
   "metadata": {},
   "outputs": [
    {
     "data": {
      "text/plain": [
       "[2, 4, 6, 8, 10, 12, 14]"
      ]
     },
     "execution_count": 75,
     "metadata": {},
     "output_type": "execute_result"
    }
   ],
   "source": [
    "# Create list in which each item is double of the previous corresponding list items. We can do by either map function, loop or the following method\n",
    "L = [1,2,3,4,5,6,7]\n",
    "L1 = [item*2 for item in L]\n",
    "L1"
   ]
  },
  {
   "cell_type": "code",
   "execution_count": 76,
   "id": "beeed3e9",
   "metadata": {},
   "outputs": [
    {
     "data": {
      "text/plain": [
       "[0, 1, 4, 9, 16, 25, 36, 49, 64, 81]"
      ]
     },
     "execution_count": 76,
     "metadata": {},
     "output_type": "execute_result"
    }
   ],
   "source": [
    "L2 = [i**2 for i in range(10)]\n",
    "L2"
   ]
  },
  {
   "cell_type": "code",
   "execution_count": 77,
   "id": "4326c499",
   "metadata": {},
   "outputs": [
    {
     "data": {
      "text/plain": [
       "[1, 9, 25, 49, 81]"
      ]
     },
     "execution_count": 77,
     "metadata": {},
     "output_type": "execute_result"
    }
   ],
   "source": [
    "L3 = [i**2 for i in range(10) if i%2 !=0] # taking power of only odd numbers\n",
    "L3"
   ]
  },
  {
   "cell_type": "code",
   "execution_count": 78,
   "id": "57834e5c",
   "metadata": {},
   "outputs": [
    {
     "data": {
      "text/plain": [
       "['apple', 'orange', 'mango', 'grape', 'banana']"
      ]
     },
     "execution_count": 78,
     "metadata": {},
     "output_type": "execute_result"
    }
   ],
   "source": [
    "Fruits"
   ]
  },
  {
   "cell_type": "code",
   "execution_count": 81,
   "id": "33d22980",
   "metadata": {},
   "outputs": [
    {
     "data": {
      "text/plain": [
       "['apple']"
      ]
     },
     "execution_count": 81,
     "metadata": {},
     "output_type": "execute_result"
    }
   ],
   "source": [
    "L = [fruit for fruit in Fruits if fruit[0]=='a']  # fruits starting with alphabet 'a'\n",
    "L"
   ]
  },
  {
   "cell_type": "markdown",
   "id": "cf11cb57",
   "metadata": {},
   "source": [
    "# Dictionary Comprehension"
   ]
  },
  {
   "cell_type": "code",
   "execution_count": 82,
   "id": "b7e08ff7",
   "metadata": {},
   "outputs": [],
   "source": [
    "D = {'Name':'John','Gender':'Male','Age':30}"
   ]
  },
  {
   "cell_type": "code",
   "execution_count": 84,
   "id": "549d936a",
   "metadata": {},
   "outputs": [
    {
     "data": {
      "text/plain": [
       "dict_items([('Name', 'John'), ('Gender', 'Male'), ('Age', 30)])"
      ]
     },
     "execution_count": 84,
     "metadata": {},
     "output_type": "execute_result"
    }
   ],
   "source": [
    "D.items()  # Creates list of tuples. Each tuple contains key, value pair"
   ]
  },
  {
   "cell_type": "code",
   "execution_count": 87,
   "id": "b54a194a",
   "metadata": {},
   "outputs": [
    {
     "data": {
      "text/plain": [
       "{'Name': 'John', 'Gender': 'Male'}"
      ]
     },
     "execution_count": 87,
     "metadata": {},
     "output_type": "execute_result"
    }
   ],
   "source": [
    "# Create dictionary in which length of key is greater than 3\n",
    "D1 = {key:value for key,value in D.items() if len(key)>3}\n",
    "D1"
   ]
  },
  {
   "cell_type": "code",
   "execution_count": 88,
   "id": "c3a5b4ff",
   "metadata": {},
   "outputs": [
    {
     "data": {
      "text/plain": [
       "{1: 1, 2: 4, 3: 9, 4: 16, 5: 25}"
      ]
     },
     "execution_count": 88,
     "metadata": {},
     "output_type": "execute_result"
    }
   ],
   "source": [
    "# Craetion from List\n",
    "L = [1,2,3,4,5]\n",
    "D = {item:item**2 for item in L}\n",
    "D"
   ]
  },
  {
   "cell_type": "code",
   "execution_count": 89,
   "id": "913de2e3",
   "metadata": {},
   "outputs": [
    {
     "data": {
      "text/plain": [
       "{2: 4, 4: 16}"
      ]
     },
     "execution_count": 89,
     "metadata": {},
     "output_type": "execute_result"
    }
   ],
   "source": [
    "D = {item:item**2 for item in L if item%2==0} # for only even items\n",
    "D"
   ]
  }
 ],
 "metadata": {
  "kernelspec": {
   "display_name": "Python 3 (ipykernel)",
   "language": "python",
   "name": "python3"
  },
  "language_info": {
   "codemirror_mode": {
    "name": "ipython",
    "version": 3
   },
   "file_extension": ".py",
   "mimetype": "text/x-python",
   "name": "python",
   "nbconvert_exporter": "python",
   "pygments_lexer": "ipython3",
   "version": "3.9.12"
  }
 },
 "nbformat": 4,
 "nbformat_minor": 5
}
