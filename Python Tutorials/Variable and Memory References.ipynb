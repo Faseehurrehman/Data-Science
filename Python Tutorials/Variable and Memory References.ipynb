{
 "cells": [
  {
   "cell_type": "markdown",
   "id": "08c6c9a7",
   "metadata": {},
   "source": [
    "## Call By Object Reference"
   ]
  },
  {
   "cell_type": "code",
   "execution_count": 1,
   "id": "a87f84f6",
   "metadata": {},
   "outputs": [],
   "source": [
    "a = 4 # The value is stored at specific address of RAM, and then putting it equal to a we basically point a to that address, is called as 'Call By Object Reference'"
   ]
  },
  {
   "cell_type": "code",
   "execution_count": 2,
   "id": "9eaf291b",
   "metadata": {},
   "outputs": [
    {
     "data": {
      "text/plain": [
       "2513260669328"
      ]
     },
     "execution_count": 2,
     "metadata": {},
     "output_type": "execute_result"
    }
   ],
   "source": [
    "id(a) # address of value 4"
   ]
  },
  {
   "cell_type": "code",
   "execution_count": 5,
   "id": "dcfc6b76",
   "metadata": {},
   "outputs": [
    {
     "data": {
      "text/plain": [
       "'0x2492a026990'"
      ]
     },
     "execution_count": 5,
     "metadata": {},
     "output_type": "execute_result"
    }
   ],
   "source": [
    "hex(2513260669328) # hexadecimal address of value 4"
   ]
  },
  {
   "cell_type": "code",
   "execution_count": 3,
   "id": "b5c078e6",
   "metadata": {},
   "outputs": [
    {
     "ename": "NameError",
     "evalue": "name 'b' is not defined",
     "output_type": "error",
     "traceback": [
      "\u001b[1;31m---------------------------------------------------------------------------\u001b[0m",
      "\u001b[1;31mNameError\u001b[0m                                 Traceback (most recent call last)",
      "Input \u001b[1;32mIn [3]\u001b[0m, in \u001b[0;36m<cell line: 2>\u001b[1;34m()\u001b[0m\n\u001b[0;32m      1\u001b[0m \u001b[38;5;66;03m# Python call variable as name\u001b[39;00m\n\u001b[1;32m----> 2\u001b[0m \u001b[43mb\u001b[49m\n",
      "\u001b[1;31mNameError\u001b[0m: name 'b' is not defined"
     ]
    }
   ],
   "source": [
    "# Python call variable as name\n",
    "b"
   ]
  },
  {
   "cell_type": "markdown",
   "id": "7cb98df3",
   "metadata": {},
   "source": [
    "## Aliasing"
   ]
  },
  {
   "cell_type": "markdown",
   "id": "785003ec",
   "metadata": {},
   "source": [
    "<b> By this address remains same of variables"
   ]
  },
  {
   "cell_type": "code",
   "execution_count": 6,
   "id": "98fa1b40",
   "metadata": {},
   "outputs": [],
   "source": [
    "a = 4"
   ]
  },
  {
   "cell_type": "code",
   "execution_count": 7,
   "id": "c11a04db",
   "metadata": {},
   "outputs": [],
   "source": [
    "b = a  # Aliasing\n",
    "c = b  # Aliasing"
   ]
  },
  {
   "cell_type": "code",
   "execution_count": 11,
   "id": "4f8bb01a",
   "metadata": {},
   "outputs": [
    {
     "data": {
      "text/plain": [
       "2513260669328"
      ]
     },
     "execution_count": 11,
     "metadata": {},
     "output_type": "execute_result"
    }
   ],
   "source": [
    "id(4)"
   ]
  },
  {
   "cell_type": "code",
   "execution_count": 8,
   "id": "aa1c60a9",
   "metadata": {},
   "outputs": [
    {
     "data": {
      "text/plain": [
       "2513260669328"
      ]
     },
     "execution_count": 8,
     "metadata": {},
     "output_type": "execute_result"
    }
   ],
   "source": [
    "id(a)"
   ]
  },
  {
   "cell_type": "code",
   "execution_count": 9,
   "id": "391f9d39",
   "metadata": {},
   "outputs": [
    {
     "data": {
      "text/plain": [
       "2513260669328"
      ]
     },
     "execution_count": 9,
     "metadata": {},
     "output_type": "execute_result"
    }
   ],
   "source": [
    "id(b)"
   ]
  },
  {
   "cell_type": "code",
   "execution_count": 10,
   "id": "5ed6daed",
   "metadata": {},
   "outputs": [
    {
     "data": {
      "text/plain": [
       "2513260669328"
      ]
     },
     "execution_count": 10,
     "metadata": {},
     "output_type": "execute_result"
    }
   ],
   "source": [
    "id(c)"
   ]
  },
  {
   "cell_type": "markdown",
   "id": "27e6d3b0",
   "metadata": {},
   "source": [
    "<b> The above results show the same address of all variables after alising"
   ]
  },
  {
   "cell_type": "code",
   "execution_count": 12,
   "id": "1c0d857b",
   "metadata": {},
   "outputs": [],
   "source": [
    "# Deleting - if we delete aliased variable, but this this will not affect results of aliased variables\n",
    "del a"
   ]
  },
  {
   "cell_type": "code",
   "execution_count": 18,
   "id": "704f8c9d",
   "metadata": {},
   "outputs": [
    {
     "data": {
      "text/plain": [
       "(3, 3)"
      ]
     },
     "execution_count": 18,
     "metadata": {},
     "output_type": "execute_result"
    }
   ],
   "source": [
    "b, c  # It shows after deleting variable a, still values of b and c are 4. Because by deleting a,means it is not referred to value 4 any more. Basically, we delete connection between value 4 and a "
   ]
  },
  {
   "cell_type": "markdown",
   "id": "b89e674d",
   "metadata": {},
   "source": [
    "# Editing "
   ]
  },
  {
   "cell_type": "code",
   "execution_count": 19,
   "id": "b812d451",
   "metadata": {},
   "outputs": [],
   "source": [
    "a = 3"
   ]
  },
  {
   "cell_type": "code",
   "execution_count": 20,
   "id": "bf07c3a8",
   "metadata": {},
   "outputs": [],
   "source": [
    "b = a\n",
    "c = b"
   ]
  },
  {
   "cell_type": "code",
   "execution_count": 21,
   "id": "856a1d31",
   "metadata": {},
   "outputs": [],
   "source": [
    "# if we change reference of a\n",
    "a = 1"
   ]
  },
  {
   "cell_type": "code",
   "execution_count": 22,
   "id": "f04c387e",
   "metadata": {},
   "outputs": [
    {
     "data": {
      "text/plain": [
       "(3, 3)"
      ]
     },
     "execution_count": 22,
     "metadata": {},
     "output_type": "execute_result"
    }
   ],
   "source": [
    "b,c"
   ]
  },
  {
   "cell_type": "markdown",
   "id": "a78f0320",
   "metadata": {},
   "source": [
    "<b> The results of b and c remain same, no change in its values after changing value of a"
   ]
  },
  {
   "cell_type": "markdown",
   "id": "ac13449a",
   "metadata": {},
   "source": [
    "## Reference Counting"
   ]
  },
  {
   "cell_type": "code",
   "execution_count": 24,
   "id": "ffb4492b",
   "metadata": {},
   "outputs": [],
   "source": [
    "import sys"
   ]
  },
  {
   "cell_type": "code",
   "execution_count": 25,
   "id": "ae865d1b",
   "metadata": {},
   "outputs": [],
   "source": [
    "a = 2\n",
    "b = a\n",
    "c = a"
   ]
  },
  {
   "cell_type": "code",
   "execution_count": 26,
   "id": "d0c1517f",
   "metadata": {},
   "outputs": [
    {
     "data": {
      "text/plain": [
       "3653"
      ]
     },
     "execution_count": 26,
     "metadata": {},
     "output_type": "execute_result"
    }
   ],
   "source": [
    "sys.getrefcount(a)"
   ]
  },
  {
   "cell_type": "markdown",
   "id": "b3556087",
   "metadata": {},
   "source": [
    "<b> The above result shows that there are total 3650 variables in our running software instead of above 3 variables (a, b, c) which are referred to address where 2 is stored. Because 2 is a common value."
   ]
  },
  {
   "cell_type": "code",
   "execution_count": 27,
   "id": "807a53c6",
   "metadata": {},
   "outputs": [],
   "source": [
    "# Let take uncommon value:\n",
    "a = 773\n",
    "b = a\n",
    "c = b "
   ]
  },
  {
   "cell_type": "code",
   "execution_count": 29,
   "id": "0040c6a1",
   "metadata": {},
   "outputs": [
    {
     "data": {
      "text/plain": [
       "4"
      ]
     },
     "execution_count": 29,
     "metadata": {},
     "output_type": "execute_result"
    }
   ],
   "source": [
    "sys.getrefcount(a)"
   ]
  },
  {
   "cell_type": "markdown",
   "id": "d84a74b9",
   "metadata": {},
   "source": [
    "<b> The above result shows that there are three variables (a,b,c and 4th one is sys.getrefcount which has been used to find count) which is referred to 773 in our python"
   ]
  },
  {
   "cell_type": "markdown",
   "id": "7e98ba3e",
   "metadata": {},
   "source": [
    "## Garbage Collection"
   ]
  },
  {
   "cell_type": "code",
   "execution_count": 32,
   "id": "6aa2f9ed",
   "metadata": {},
   "outputs": [],
   "source": [
    "# Since we delete variable, basically we disconnect its reference to value. So, value remains as it as in memory. If there is any value which has not been referred by any variable, then it is garbage which just occupies memory. To tackle this, Python run its internal program to remove this garbage without any user input"
   ]
  },
  {
   "cell_type": "markdown",
   "id": "9dea10d4",
   "metadata": {},
   "source": [
    "## Weird Stuff"
   ]
  },
  {
   "cell_type": "code",
   "execution_count": 33,
   "id": "c8ca3ea9",
   "metadata": {},
   "outputs": [],
   "source": [
    "# From -5 to 256, the address of variables remain same, then beyond these values, address does not remain same"
   ]
  },
  {
   "cell_type": "code",
   "execution_count": 34,
   "id": "b461cc46",
   "metadata": {},
   "outputs": [],
   "source": [
    "a = 4\n",
    "b = 4"
   ]
  },
  {
   "cell_type": "code",
   "execution_count": 35,
   "id": "05aac54f",
   "metadata": {},
   "outputs": [
    {
     "data": {
      "text/plain": [
       "(2513260669328, 2513260669328)"
      ]
     },
     "execution_count": 35,
     "metadata": {},
     "output_type": "execute_result"
    }
   ],
   "source": [
    "id(a),id(b)"
   ]
  },
  {
   "cell_type": "code",
   "execution_count": 36,
   "id": "493305f3",
   "metadata": {},
   "outputs": [
    {
     "data": {
      "text/plain": [
       "True"
      ]
     },
     "execution_count": 36,
     "metadata": {},
     "output_type": "execute_result"
    }
   ],
   "source": [
    "a = 256\n",
    "b = 256\n",
    "a is b  # Is there address of both is same"
   ]
  },
  {
   "cell_type": "code",
   "execution_count": 37,
   "id": "bd123453",
   "metadata": {},
   "outputs": [
    {
     "data": {
      "text/plain": [
       "False"
      ]
     },
     "execution_count": 37,
     "metadata": {},
     "output_type": "execute_result"
    }
   ],
   "source": [
    "a = 257\n",
    "b = 257 # basically b creates its own cell to store value 257\n",
    "a is b"
   ]
  },
  {
   "cell_type": "code",
   "execution_count": 38,
   "id": "0fa674fe",
   "metadata": {},
   "outputs": [
    {
     "data": {
      "text/plain": [
       "(2513375314448, 2513375314480)"
      ]
     },
     "execution_count": 38,
     "metadata": {},
     "output_type": "execute_result"
    }
   ],
   "source": [
    "id(a),id(b)"
   ]
  },
  {
   "cell_type": "code",
   "execution_count": 39,
   "id": "1e929c20",
   "metadata": {},
   "outputs": [
    {
     "data": {
      "text/plain": [
       "True"
      ]
     },
     "execution_count": 39,
     "metadata": {},
     "output_type": "execute_result"
    }
   ],
   "source": [
    "a = -5\n",
    "b = -5\n",
    "a is b"
   ]
  },
  {
   "cell_type": "code",
   "execution_count": 40,
   "id": "d690fd81",
   "metadata": {},
   "outputs": [
    {
     "data": {
      "text/plain": [
       "(2513375314576, 2513375314288)"
      ]
     },
     "execution_count": 40,
     "metadata": {},
     "output_type": "execute_result"
    }
   ],
   "source": [
    "a = -6\n",
    "b = -6\n",
    "id(a),id(b)"
   ]
  },
  {
   "cell_type": "markdown",
   "id": "4e8e7c75",
   "metadata": {},
   "source": [
    "<b>For Strings"
   ]
  },
  {
   "cell_type": "code",
   "execution_count": 41,
   "id": "9e54d1f5",
   "metadata": {},
   "outputs": [
    {
     "data": {
      "text/plain": [
       "True"
      ]
     },
     "execution_count": 41,
     "metadata": {},
     "output_type": "execute_result"
    }
   ],
   "source": [
    "a = 'Python'\n",
    "b = 'Python'\n",
    "a is b"
   ]
  },
  {
   "cell_type": "code",
   "execution_count": 42,
   "id": "1a648c34",
   "metadata": {},
   "outputs": [
    {
     "data": {
      "text/plain": [
       "(2513374989680, 2513374636272)"
      ]
     },
     "execution_count": 42,
     "metadata": {},
     "output_type": "execute_result"
    }
   ],
   "source": [
    "a = 'Python plus'\n",
    "b = 'Python plus'\n",
    "id(a),id(b)"
   ]
  },
  {
   "cell_type": "code",
   "execution_count": 47,
   "id": "857a61b3",
   "metadata": {},
   "outputs": [
    {
     "data": {
      "text/plain": [
       "(2513375144176, 2513375145584)"
      ]
     },
     "execution_count": 47,
     "metadata": {},
     "output_type": "execute_result"
    }
   ],
   "source": [
    "a = 'pyhton_inst'\n",
    "b = 'python_inst'\n",
    "id(a), id(b)   # In case of identifiers, address remains same"
   ]
  },
  {
   "cell_type": "markdown",
   "id": "0eb8de56",
   "metadata": {},
   "source": [
    "## Mutabilty"
   ]
  },
  {
   "cell_type": "code",
   "execution_count": 49,
   "id": "10ae4048",
   "metadata": {},
   "outputs": [],
   "source": [
    "# List\n",
    "L = [1,2,3]"
   ]
  },
  {
   "cell_type": "code",
   "execution_count": 50,
   "id": "19f0b1bf",
   "metadata": {},
   "outputs": [
    {
     "data": {
      "text/plain": [
       "2513345702848"
      ]
     },
     "execution_count": 50,
     "metadata": {},
     "output_type": "execute_result"
    }
   ],
   "source": [
    "id(L)"
   ]
  },
  {
   "cell_type": "code",
   "execution_count": 51,
   "id": "038d3a66",
   "metadata": {},
   "outputs": [
    {
     "data": {
      "text/plain": [
       "[100, 2, 3]"
      ]
     },
     "execution_count": 51,
     "metadata": {},
     "output_type": "execute_result"
    }
   ],
   "source": [
    "L[0]=100\n",
    "L"
   ]
  },
  {
   "cell_type": "code",
   "execution_count": 52,
   "id": "414bc9b5",
   "metadata": {},
   "outputs": [
    {
     "data": {
      "text/plain": [
       "2513345702848"
      ]
     },
     "execution_count": 52,
     "metadata": {},
     "output_type": "execute_result"
    }
   ],
   "source": [
    "id(L)"
   ]
  },
  {
   "cell_type": "markdown",
   "id": "9d65aa13",
   "metadata": {},
   "source": [
    "<b>Since list is mutable, so address remains same after updating list"
   ]
  },
  {
   "cell_type": "code",
   "execution_count": 59,
   "id": "cb427793",
   "metadata": {},
   "outputs": [
    {
     "data": {
      "text/plain": [
       "2513375274496"
      ]
     },
     "execution_count": 59,
     "metadata": {},
     "output_type": "execute_result"
    }
   ],
   "source": [
    "# Tuple\n",
    "T1 = (1,2,3)\n",
    "id(T1)"
   ]
  },
  {
   "cell_type": "code",
   "execution_count": 60,
   "id": "73255096",
   "metadata": {},
   "outputs": [
    {
     "data": {
      "text/plain": [
       "(1, 2, 3, 5, 6)"
      ]
     },
     "execution_count": 60,
     "metadata": {},
     "output_type": "execute_result"
    }
   ],
   "source": [
    "T1 = T1 + (5,6)\n",
    "T1"
   ]
  },
  {
   "cell_type": "code",
   "execution_count": 61,
   "id": "f41b87af",
   "metadata": {},
   "outputs": [
    {
     "data": {
      "text/plain": [
       "2513375418144"
      ]
     },
     "execution_count": 61,
     "metadata": {},
     "output_type": "execute_result"
    }
   ],
   "source": [
    "id(T1)"
   ]
  },
  {
   "cell_type": "markdown",
   "id": "3b14c9c9",
   "metadata": {},
   "source": [
    "<b> Since tuple is immutable, so address changes after updating"
   ]
  },
  {
   "cell_type": "code",
   "execution_count": 62,
   "id": "1dcc7eba",
   "metadata": {},
   "outputs": [
    {
     "data": {
      "text/plain": [
       "2513309055792"
      ]
     },
     "execution_count": 62,
     "metadata": {},
     "output_type": "execute_result"
    }
   ],
   "source": [
    "# String\n",
    "a = 'python'\n",
    "id(a)"
   ]
  },
  {
   "cell_type": "code",
   "execution_count": 63,
   "id": "1af94440",
   "metadata": {},
   "outputs": [
    {
     "data": {
      "text/plain": [
       "'pythonC++'"
      ]
     },
     "execution_count": 63,
     "metadata": {},
     "output_type": "execute_result"
    }
   ],
   "source": [
    "a = a + 'C++'\n",
    "a"
   ]
  },
  {
   "cell_type": "code",
   "execution_count": 64,
   "id": "ab10e97c",
   "metadata": {},
   "outputs": [
    {
     "data": {
      "text/plain": [
       "2513373970672"
      ]
     },
     "execution_count": 64,
     "metadata": {},
     "output_type": "execute_result"
    }
   ],
   "source": [
    "id(a)"
   ]
  },
  {
   "cell_type": "markdown",
   "id": "a3b356b7",
   "metadata": {},
   "source": [
    "<b> Since string is immutable, so address changes"
   ]
  },
  {
   "cell_type": "markdown",
   "id": "45d53d73",
   "metadata": {},
   "source": [
    "## Cloning"
   ]
  },
  {
   "cell_type": "code",
   "execution_count": 65,
   "id": "411e9e51",
   "metadata": {},
   "outputs": [
    {
     "data": {
      "text/plain": [
       "2513375306240"
      ]
     },
     "execution_count": 65,
     "metadata": {},
     "output_type": "execute_result"
    }
   ],
   "source": [
    "L = [1,2,3]\n",
    "id(L)"
   ]
  },
  {
   "cell_type": "code",
   "execution_count": 66,
   "id": "17c667ad",
   "metadata": {},
   "outputs": [],
   "source": [
    "L1 = L"
   ]
  },
  {
   "cell_type": "code",
   "execution_count": 67,
   "id": "44ca764c",
   "metadata": {},
   "outputs": [],
   "source": [
    "L1.append(5)"
   ]
  },
  {
   "cell_type": "code",
   "execution_count": 68,
   "id": "12fe8fda",
   "metadata": {},
   "outputs": [
    {
     "data": {
      "text/plain": [
       "[1, 2, 3, 5]"
      ]
     },
     "execution_count": 68,
     "metadata": {},
     "output_type": "execute_result"
    }
   ],
   "source": [
    "L1"
   ]
  },
  {
   "cell_type": "code",
   "execution_count": 69,
   "id": "f2bc61de",
   "metadata": {},
   "outputs": [
    {
     "data": {
      "text/plain": [
       "[1, 2, 3, 5]"
      ]
     },
     "execution_count": 69,
     "metadata": {},
     "output_type": "execute_result"
    }
   ],
   "source": [
    "L"
   ]
  },
  {
   "cell_type": "markdown",
   "id": "a647903b",
   "metadata": {},
   "source": [
    "<b> The above result shows that if we update copyed list, then value in original list also changes"
   ]
  },
  {
   "cell_type": "code",
   "execution_count": 70,
   "id": "f8ec5aad",
   "metadata": {},
   "outputs": [
    {
     "data": {
      "text/plain": [
       "[1, 2, 3, 5]"
      ]
     },
     "execution_count": 70,
     "metadata": {},
     "output_type": "execute_result"
    }
   ],
   "source": [
    "# To tackel this, use cloning:\n",
    "L"
   ]
  },
  {
   "cell_type": "code",
   "execution_count": 73,
   "id": "489bffd3",
   "metadata": {},
   "outputs": [],
   "source": [
    "L1 = L[:]"
   ]
  },
  {
   "cell_type": "code",
   "execution_count": 74,
   "id": "bd0e9f00",
   "metadata": {},
   "outputs": [
    {
     "data": {
      "text/plain": [
       "[1, 2, 3, 5]"
      ]
     },
     "execution_count": 74,
     "metadata": {},
     "output_type": "execute_result"
    }
   ],
   "source": [
    "L1"
   ]
  },
  {
   "cell_type": "code",
   "execution_count": 75,
   "id": "d86137f8",
   "metadata": {},
   "outputs": [
    {
     "data": {
      "text/plain": [
       "[1, 2, 3, 5, 100]"
      ]
     },
     "execution_count": 75,
     "metadata": {},
     "output_type": "execute_result"
    }
   ],
   "source": [
    "L1.append(100)\n",
    "L1"
   ]
  },
  {
   "cell_type": "code",
   "execution_count": 76,
   "id": "55a7d682",
   "metadata": {},
   "outputs": [
    {
     "data": {
      "text/plain": [
       "[1, 2, 3, 5]"
      ]
     },
     "execution_count": 76,
     "metadata": {},
     "output_type": "execute_result"
    }
   ],
   "source": [
    "L"
   ]
  },
  {
   "cell_type": "markdown",
   "id": "26a09bd4",
   "metadata": {},
   "source": [
    "<b> So after cloning there is no change in original list"
   ]
  },
  {
   "cell_type": "code",
   "execution_count": 80,
   "id": "67d33f72",
   "metadata": {},
   "outputs": [],
   "source": [
    "# The following mutability is possible\n",
    "a = (1,2,3,[4,5])"
   ]
  },
  {
   "cell_type": "code",
   "execution_count": 78,
   "id": "38224e0f",
   "metadata": {},
   "outputs": [],
   "source": [
    "a[-1][-1]=100"
   ]
  },
  {
   "cell_type": "code",
   "execution_count": 79,
   "id": "4925d49a",
   "metadata": {},
   "outputs": [
    {
     "data": {
      "text/plain": [
       "(1, 2, 3, [4, 100])"
      ]
     },
     "execution_count": 79,
     "metadata": {},
     "output_type": "execute_result"
    }
   ],
   "source": [
    "a"
   ]
  },
  {
   "cell_type": "code",
   "execution_count": 81,
   "id": "276b9299",
   "metadata": {},
   "outputs": [],
   "source": [
    "# The following mutability is not possible:\n",
    "b = (1,2,3,(4,5))"
   ]
  },
  {
   "cell_type": "code",
   "execution_count": 82,
   "id": "3893bba6",
   "metadata": {},
   "outputs": [
    {
     "ename": "TypeError",
     "evalue": "'tuple' object does not support item assignment",
     "output_type": "error",
     "traceback": [
      "\u001b[1;31m---------------------------------------------------------------------------\u001b[0m",
      "\u001b[1;31mTypeError\u001b[0m                                 Traceback (most recent call last)",
      "Input \u001b[1;32mIn [82]\u001b[0m, in \u001b[0;36m<cell line: 1>\u001b[1;34m()\u001b[0m\n\u001b[1;32m----> 1\u001b[0m b[\u001b[38;5;241m-\u001b[39m\u001b[38;5;241m1\u001b[39m][\u001b[38;5;241m-\u001b[39m\u001b[38;5;241m1\u001b[39m]\u001b[38;5;241m=\u001b[39m\u001b[38;5;241m100\u001b[39m\n",
      "\u001b[1;31mTypeError\u001b[0m: 'tuple' object does not support item assignment"
     ]
    }
   ],
   "source": [
    "b[-1][-1]=100"
   ]
  },
  {
   "cell_type": "code",
   "execution_count": 83,
   "id": "5243affd",
   "metadata": {},
   "outputs": [],
   "source": [
    "a = [1,2]\n",
    "b = [3,4]"
   ]
  },
  {
   "cell_type": "code",
   "execution_count": 84,
   "id": "7da3fe9c",
   "metadata": {},
   "outputs": [],
   "source": [
    "c =(a,b)"
   ]
  },
  {
   "cell_type": "code",
   "execution_count": 85,
   "id": "f948d72a",
   "metadata": {},
   "outputs": [],
   "source": [
    "c[0][0]=100"
   ]
  },
  {
   "cell_type": "code",
   "execution_count": 86,
   "id": "2fff9b4f",
   "metadata": {},
   "outputs": [
    {
     "data": {
      "text/plain": [
       "([100, 2], [3, 4])"
      ]
     },
     "execution_count": 86,
     "metadata": {},
     "output_type": "execute_result"
    }
   ],
   "source": [
    "c"
   ]
  }
 ],
 "metadata": {
  "kernelspec": {
   "display_name": "Python 3 (ipykernel)",
   "language": "python",
   "name": "python3"
  },
  "language_info": {
   "codemirror_mode": {
    "name": "ipython",
    "version": 3
   },
   "file_extension": ".py",
   "mimetype": "text/x-python",
   "name": "python",
   "nbconvert_exporter": "python",
   "pygments_lexer": "ipython3",
   "version": "3.9.12"
  }
 },
 "nbformat": 4,
 "nbformat_minor": 5
}
