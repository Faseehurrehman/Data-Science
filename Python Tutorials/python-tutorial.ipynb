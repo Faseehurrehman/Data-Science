{
 "cells": [
  {
   "cell_type": "markdown",
   "id": "1c919760",
   "metadata": {
    "papermill": {
     "duration": 0.090184,
     "end_time": "2022-10-18T16:25:38.780031",
     "exception": false,
     "start_time": "2022-10-18T16:25:38.689847",
     "status": "completed"
    },
    "tags": []
   },
   "source": [
    "**Python is a case sensitive programming language.There is difference between uppercase and lowercase. They can't be used interchangeably.**"
   ]
  },
  {
   "cell_type": "markdown",
   "id": "5ee6558e",
   "metadata": {
    "papermill": {
     "duration": 0.080876,
     "end_time": "2022-10-18T16:25:38.942756",
     "exception": false,
     "start_time": "2022-10-18T16:25:38.861880",
     "status": "completed"
    },
    "tags": []
   },
   "source": [
    "# Print Function"
   ]
  },
  {
   "cell_type": "code",
   "execution_count": 1,
   "id": "05f71e14",
   "metadata": {
    "execution": {
     "iopub.execute_input": "2022-10-18T16:25:39.109659Z",
     "iopub.status.busy": "2022-10-18T16:25:39.109162Z",
     "iopub.status.idle": "2022-10-18T16:25:39.122260Z",
     "shell.execute_reply": "2022-10-18T16:25:39.120944Z"
    },
    "papermill": {
     "duration": 0.101257,
     "end_time": "2022-10-18T16:25:39.125256",
     "exception": false,
     "start_time": "2022-10-18T16:25:39.023999",
     "status": "completed"
    },
    "tags": []
   },
   "outputs": [
    {
     "name": "stdout",
     "output_type": "stream",
     "text": [
      "\n"
     ]
    }
   ],
   "source": [
    "print() # empty will be printed"
   ]
  },
  {
   "cell_type": "code",
   "execution_count": 2,
   "id": "24c15692",
   "metadata": {
    "execution": {
     "iopub.execute_input": "2022-10-18T16:25:39.293497Z",
     "iopub.status.busy": "2022-10-18T16:25:39.291753Z",
     "iopub.status.idle": "2022-10-18T16:25:39.298964Z",
     "shell.execute_reply": "2022-10-18T16:25:39.297140Z"
    },
    "papermill": {
     "duration": 0.096147,
     "end_time": "2022-10-18T16:25:39.302263",
     "exception": false,
     "start_time": "2022-10-18T16:25:39.206116",
     "status": "completed"
    },
    "tags": []
   },
   "outputs": [
    {
     "name": "stdout",
     "output_type": "stream",
     "text": [
      "2\n",
      "Google\n"
     ]
    }
   ],
   "source": [
    "print(2)\n",
    "print('Google')"
   ]
  },
  {
   "cell_type": "code",
   "execution_count": 3,
   "id": "d5128298",
   "metadata": {
    "execution": {
     "iopub.execute_input": "2022-10-18T16:25:39.473507Z",
     "iopub.status.busy": "2022-10-18T16:25:39.473053Z",
     "iopub.status.idle": "2022-10-18T16:25:39.543264Z",
     "shell.execute_reply": "2022-10-18T16:25:39.541478Z"
    },
    "papermill": {
     "duration": 0.155623,
     "end_time": "2022-10-18T16:25:39.544907",
     "exception": true,
     "start_time": "2022-10-18T16:25:39.389284",
     "status": "failed"
    },
    "tags": []
   },
   "outputs": [
    {
     "ename": "NameError",
     "evalue": "name 'Google' is not defined",
     "output_type": "error",
     "traceback": [
      "\u001b[0;31m---------------------------------------------------------------------------\u001b[0m",
      "\u001b[0;31mNameError\u001b[0m                                 Traceback (most recent call last)",
      "\u001b[0;32m/tmp/ipykernel_19/561556423.py\u001b[0m in \u001b[0;36m<module>\u001b[0;34m\u001b[0m\n\u001b[0;32m----> 1\u001b[0;31m \u001b[0mprint\u001b[0m\u001b[0;34m(\u001b[0m\u001b[0mGoogle\u001b[0m\u001b[0;34m)\u001b[0m \u001b[0;31m# Without quotes, print_function will print error\u001b[0m\u001b[0;34m\u001b[0m\u001b[0;34m\u001b[0m\u001b[0m\n\u001b[0m",
      "\u001b[0;31mNameError\u001b[0m: name 'Google' is not defined"
     ]
    }
   ],
   "source": [
    "print(Google) # Without quotes, print_function will print error"
   ]
  },
  {
   "cell_type": "code",
   "execution_count": null,
   "id": "2a16aaac",
   "metadata": {
    "execution": {
     "iopub.execute_input": "2022-10-07T15:24:49.548977Z",
     "iopub.status.busy": "2022-10-07T15:24:49.548464Z",
     "iopub.status.idle": "2022-10-07T15:24:49.555769Z",
     "shell.execute_reply": "2022-10-07T15:24:49.554645Z",
     "shell.execute_reply.started": "2022-10-07T15:24:49.548940Z"
    },
    "papermill": {
     "duration": null,
     "end_time": null,
     "exception": null,
     "start_time": null,
     "status": "pending"
    },
    "tags": []
   },
   "outputs": [],
   "source": [
    "print(1,2,3,'python')"
   ]
  },
  {
   "cell_type": "code",
   "execution_count": null,
   "id": "25edd533",
   "metadata": {
    "execution": {
     "iopub.execute_input": "2022-10-12T07:56:57.248372Z",
     "iopub.status.busy": "2022-10-12T07:56:57.247944Z",
     "iopub.status.idle": "2022-10-12T07:56:57.255080Z",
     "shell.execute_reply": "2022-10-12T07:56:57.253776Z",
     "shell.execute_reply.started": "2022-10-12T07:56:57.248335Z"
    },
    "papermill": {
     "duration": null,
     "end_time": null,
     "exception": null,
     "start_time": null,
     "status": "pending"
    },
    "tags": []
   },
   "outputs": [],
   "source": [
    "# to play with print function\n",
    "print(1,2,3)\n",
    "print(1,2,3,sep='Love') # replacing spaces with Love\n",
    "print(1,2,3, sep='/') # replacing spaces with slash (/)"
   ]
  },
  {
   "cell_type": "code",
   "execution_count": null,
   "id": "cff15459",
   "metadata": {
    "execution": {
     "iopub.execute_input": "2022-10-12T03:30:58.810541Z",
     "iopub.status.busy": "2022-10-12T03:30:58.810070Z",
     "iopub.status.idle": "2022-10-12T03:30:58.816485Z",
     "shell.execute_reply": "2022-10-12T03:30:58.815274Z",
     "shell.execute_reply.started": "2022-10-12T03:30:58.810490Z"
    },
    "papermill": {
     "duration": null,
     "end_time": null,
     "exception": null,
     "start_time": null,
     "status": "pending"
    },
    "tags": []
   },
   "outputs": [],
   "source": [
    "# if we wite second print function, its output comes in the next line. Because print function has default value of end = '/n'\n",
    "print(1)\n",
    "print(2)"
   ]
  },
  {
   "cell_type": "code",
   "execution_count": null,
   "id": "253f06dc",
   "metadata": {
    "execution": {
     "iopub.execute_input": "2022-10-12T07:57:30.332855Z",
     "iopub.status.busy": "2022-10-12T07:57:30.332447Z",
     "iopub.status.idle": "2022-10-12T07:57:30.339516Z",
     "shell.execute_reply": "2022-10-12T07:57:30.338084Z",
     "shell.execute_reply.started": "2022-10-12T07:57:30.332819Z"
    },
    "papermill": {
     "duration": null,
     "end_time": null,
     "exception": null,
     "start_time": null,
     "status": "pending"
    },
    "tags": []
   },
   "outputs": [],
   "source": [
    "# If we want to print the output of the next print function in the same line, the modify with end value\n",
    "print(1, end = ' ') # so next output will come in the same line separated by space\n",
    "print(2)\n",
    "\n",
    "print(1, end = 'Python') # Here next output will come in the same line separated by python\n",
    "print(2)"
   ]
  },
  {
   "cell_type": "markdown",
   "id": "ed13a82b",
   "metadata": {
    "papermill": {
     "duration": null,
     "end_time": null,
     "exception": null,
     "start_time": null,
     "status": "pending"
    },
    "tags": []
   },
   "source": [
    "# Data Types"
   ]
  },
  {
   "cell_type": "markdown",
   "id": "b7355116",
   "metadata": {
    "papermill": {
     "duration": null,
     "end_time": null,
     "exception": null,
     "start_time": null,
     "status": "pending"
    },
    "tags": []
   },
   "source": [
    "**1- Basic Types - (Integer, Float, String, Boolian, Complex)<br>\n",
    "2- Container Types - (Lists, Tuples, Sets, Dictionaries)<br>\n",
    "3- User Defined Types - Class**"
   ]
  },
  {
   "cell_type": "markdown",
   "id": "f599e347",
   "metadata": {
    "papermill": {
     "duration": null,
     "end_time": null,
     "exception": null,
     "start_time": null,
     "status": "pending"
    },
    "tags": []
   },
   "source": [
    "**1- Basic Types - (Integer, Float, String, Boolian, Complex)**"
   ]
  },
  {
   "cell_type": "code",
   "execution_count": null,
   "id": "ec29c739",
   "metadata": {
    "execution": {
     "iopub.execute_input": "2022-10-12T03:37:04.064438Z",
     "iopub.status.busy": "2022-10-12T03:37:04.063377Z",
     "iopub.status.idle": "2022-10-12T03:37:04.072054Z",
     "shell.execute_reply": "2022-10-12T03:37:04.070876Z",
     "shell.execute_reply.started": "2022-10-12T03:37:04.064392Z"
    },
    "papermill": {
     "duration": null,
     "end_time": null,
     "exception": null,
     "start_time": null,
     "status": "pending"
    },
    "tags": []
   },
   "outputs": [],
   "source": [
    "# Integer\n",
    "print(2)\n",
    "type(2)"
   ]
  },
  {
   "cell_type": "code",
   "execution_count": null,
   "id": "3ce2ab24",
   "metadata": {
    "execution": {
     "iopub.execute_input": "2022-10-12T03:37:00.708459Z",
     "iopub.status.busy": "2022-10-12T03:37:00.707515Z",
     "iopub.status.idle": "2022-10-12T03:37:00.716043Z",
     "shell.execute_reply": "2022-10-12T03:37:00.715041Z",
     "shell.execute_reply.started": "2022-10-12T03:37:00.708412Z"
    },
    "papermill": {
     "duration": null,
     "end_time": null,
     "exception": null,
     "start_time": null,
     "status": "pending"
    },
    "tags": []
   },
   "outputs": [],
   "source": [
    "# Float\n",
    "print(2.4)\n",
    "type(2.4)"
   ]
  },
  {
   "cell_type": "code",
   "execution_count": null,
   "id": "748de61c",
   "metadata": {
    "execution": {
     "iopub.execute_input": "2022-10-12T03:37:22.570267Z",
     "iopub.status.busy": "2022-10-12T03:37:22.569830Z",
     "iopub.status.idle": "2022-10-12T03:37:22.577936Z",
     "shell.execute_reply": "2022-10-12T03:37:22.576794Z",
     "shell.execute_reply.started": "2022-10-12T03:37:22.570235Z"
    },
    "papermill": {
     "duration": null,
     "end_time": null,
     "exception": null,
     "start_time": null,
     "status": "pending"
    },
    "tags": []
   },
   "outputs": [],
   "source": [
    "# String\n",
    "print('Google')\n",
    "type('Google')"
   ]
  },
  {
   "cell_type": "code",
   "execution_count": null,
   "id": "d7dbd2d4",
   "metadata": {
    "execution": {
     "iopub.execute_input": "2022-10-12T03:37:39.014427Z",
     "iopub.status.busy": "2022-10-12T03:37:39.013977Z",
     "iopub.status.idle": "2022-10-12T03:37:39.023264Z",
     "shell.execute_reply": "2022-10-12T03:37:39.021729Z",
     "shell.execute_reply.started": "2022-10-12T03:37:39.014390Z"
    },
    "papermill": {
     "duration": null,
     "end_time": null,
     "exception": null,
     "start_time": null,
     "status": "pending"
    },
    "tags": []
   },
   "outputs": [],
   "source": [
    "# Boolian\n",
    "print(True)\n",
    "print(False)\n",
    "type(True)\n",
    "type(False)"
   ]
  },
  {
   "cell_type": "code",
   "execution_count": null,
   "id": "2395e1b9",
   "metadata": {
    "execution": {
     "iopub.execute_input": "2022-10-07T15:29:02.480960Z",
     "iopub.status.busy": "2022-10-07T15:29:02.480489Z",
     "iopub.status.idle": "2022-10-07T15:29:02.501124Z",
     "shell.execute_reply": "2022-10-07T15:29:02.499418Z",
     "shell.execute_reply.started": "2022-10-07T15:29:02.480924Z"
    },
    "papermill": {
     "duration": null,
     "end_time": null,
     "exception": null,
     "start_time": null,
     "status": "pending"
    },
    "tags": []
   },
   "outputs": [],
   "source": [
    "print(false) # Error shows that python programming language is case sensitive"
   ]
  },
  {
   "cell_type": "code",
   "execution_count": null,
   "id": "892728cb",
   "metadata": {
    "execution": {
     "iopub.execute_input": "2022-10-12T03:37:57.821196Z",
     "iopub.status.busy": "2022-10-12T03:37:57.820743Z",
     "iopub.status.idle": "2022-10-12T03:37:57.828148Z",
     "shell.execute_reply": "2022-10-12T03:37:57.827210Z",
     "shell.execute_reply.started": "2022-10-12T03:37:57.821160Z"
    },
    "papermill": {
     "duration": null,
     "end_time": null,
     "exception": null,
     "start_time": null,
     "status": "pending"
    },
    "tags": []
   },
   "outputs": [],
   "source": [
    "# Complex\n",
    "print(5+6j)\n",
    "type(5+6j)"
   ]
  },
  {
   "cell_type": "markdown",
   "id": "6f5fe0d0",
   "metadata": {
    "papermill": {
     "duration": null,
     "end_time": null,
     "exception": null,
     "start_time": null,
     "status": "pending"
    },
    "tags": []
   },
   "source": [
    "**2- Container Types - (Lists, Tuples, Sets, Dictionaries)**"
   ]
  },
  {
   "cell_type": "code",
   "execution_count": null,
   "id": "57da26b0",
   "metadata": {
    "execution": {
     "iopub.execute_input": "2022-10-12T07:58:31.277711Z",
     "iopub.status.busy": "2022-10-12T07:58:31.277261Z",
     "iopub.status.idle": "2022-10-12T07:58:31.284414Z",
     "shell.execute_reply": "2022-10-12T07:58:31.283254Z",
     "shell.execute_reply.started": "2022-10-12T07:58:31.277678Z"
    },
    "papermill": {
     "duration": null,
     "end_time": null,
     "exception": null,
     "start_time": null,
     "status": "pending"
    },
    "tags": []
   },
   "outputs": [],
   "source": [
    "# List\n",
    "print([1,2,3,4])\n",
    "\n",
    "# Tuple\n",
    "print((1,2,3,4))\n",
    "\n",
    "# Set\n",
    "print({1,2,3,4})\n",
    "\n",
    "# Dictionary\n",
    "print({'City':'Islamabad','Number':123})"
   ]
  },
  {
   "cell_type": "markdown",
   "id": "85792373",
   "metadata": {
    "papermill": {
     "duration": null,
     "end_time": null,
     "exception": null,
     "start_time": null,
     "status": "pending"
    },
    "tags": []
   },
   "source": [
    "# Variables"
   ]
  },
  {
   "cell_type": "markdown",
   "id": "b667aa6d",
   "metadata": {
    "papermill": {
     "duration": null,
     "end_time": null,
     "exception": null,
     "start_time": null,
     "status": "pending"
    },
    "tags": []
   },
   "source": [
    "**Variables are containers for future use.<br>\n",
    "When as a programmer we don't know which value user will insert, then we create variable at that place.<br>\n",
    "There is no variabe declaration in Python.<br>\n",
    "In Python, variable is not binded to any data type. We can change data type of variable.**"
   ]
  },
  {
   "cell_type": "code",
   "execution_count": null,
   "id": "637d7b58",
   "metadata": {
    "execution": {
     "iopub.execute_input": "2022-10-12T03:43:38.221554Z",
     "iopub.status.busy": "2022-10-12T03:43:38.221027Z",
     "iopub.status.idle": "2022-10-12T03:43:38.226701Z",
     "shell.execute_reply": "2022-10-12T03:43:38.225835Z",
     "shell.execute_reply.started": "2022-10-12T03:43:38.221501Z"
    },
    "papermill": {
     "duration": null,
     "end_time": null,
     "exception": null,
     "start_time": null,
     "status": "pending"
    },
    "tags": []
   },
   "outputs": [],
   "source": [
    "name = 'Ali'"
   ]
  },
  {
   "cell_type": "code",
   "execution_count": null,
   "id": "632ca591",
   "metadata": {
    "execution": {
     "iopub.execute_input": "2022-10-12T03:43:49.678681Z",
     "iopub.status.busy": "2022-10-12T03:43:49.677257Z",
     "iopub.status.idle": "2022-10-12T03:43:49.698378Z",
     "shell.execute_reply": "2022-10-12T03:43:49.694869Z",
     "shell.execute_reply.started": "2022-10-12T03:43:49.678627Z"
    },
    "papermill": {
     "duration": null,
     "end_time": null,
     "exception": null,
     "start_time": null,
     "status": "pending"
    },
    "tags": []
   },
   "outputs": [],
   "source": [
    "name = Ali # storing string without quotations will result error"
   ]
  },
  {
   "cell_type": "markdown",
   "id": "e7ae4e6c",
   "metadata": {
    "papermill": {
     "duration": null,
     "end_time": null,
     "exception": null,
     "start_time": null,
     "status": "pending"
    },
    "tags": []
   },
   "source": [
    "**Difference between Dynamic Typing and Static Typing<br>\n",
    "1- Dynamic Typing - While creating variable in Python,Php, there is no need to specify about data type of the variable. <br>\n",
    "2-  Static Typing - While creating variable in C,C++,Java, there is always need to specify about data type of the variable.**"
   ]
  },
  {
   "cell_type": "code",
   "execution_count": null,
   "id": "0748af29",
   "metadata": {
    "execution": {
     "iopub.execute_input": "2022-10-12T07:59:10.578524Z",
     "iopub.status.busy": "2022-10-12T07:59:10.578110Z",
     "iopub.status.idle": "2022-10-12T07:59:10.588277Z",
     "shell.execute_reply": "2022-10-12T07:59:10.586976Z",
     "shell.execute_reply.started": "2022-10-12T07:59:10.578490Z"
    },
    "papermill": {
     "duration": null,
     "end_time": null,
     "exception": null,
     "start_time": null,
     "status": "pending"
    },
    "tags": []
   },
   "outputs": [],
   "source": [
    "# In Python Language:\n",
    "n1 = 2\n",
    "type(n1)\n",
    "\n",
    "# In C, C++, Java Languages:\n",
    "# int n1 = 2\n",
    "# type(n1)"
   ]
  },
  {
   "cell_type": "markdown",
   "id": "5816d355",
   "metadata": {
    "papermill": {
     "duration": null,
     "end_time": null,
     "exception": null,
     "start_time": null,
     "status": "pending"
    },
    "tags": []
   },
   "source": [
    "**Difference between Dynamic Binding and Static Binding<br>\n",
    "1- Dynamic Binding - In Python, variable is not binded to any data type. We can change data type of variable. A variable can store multiple data types.<br>\n",
    "2- Static Binding - In C, C++, variable is binded to specific data type and we can't change it later.**"
   ]
  },
  {
   "cell_type": "code",
   "execution_count": null,
   "id": "69a9cffc",
   "metadata": {
    "execution": {
     "iopub.execute_input": "2022-10-12T04:00:29.208674Z",
     "iopub.status.busy": "2022-10-12T04:00:29.208216Z",
     "iopub.status.idle": "2022-10-12T04:00:29.217148Z",
     "shell.execute_reply": "2022-10-12T04:00:29.215748Z",
     "shell.execute_reply.started": "2022-10-12T04:00:29.208630Z"
    },
    "papermill": {
     "duration": null,
     "end_time": null,
     "exception": null,
     "start_time": null,
     "status": "pending"
    },
    "tags": []
   },
   "outputs": [],
   "source": [
    "# In Python Language:\n",
    "name = 'Ali'\n",
    "name"
   ]
  },
  {
   "cell_type": "code",
   "execution_count": null,
   "id": "c0edd4ea",
   "metadata": {
    "execution": {
     "iopub.execute_input": "2022-10-12T04:01:05.344009Z",
     "iopub.status.busy": "2022-10-12T04:01:05.343515Z",
     "iopub.status.idle": "2022-10-12T04:01:05.352409Z",
     "shell.execute_reply": "2022-10-12T04:01:05.351061Z",
     "shell.execute_reply.started": "2022-10-12T04:01:05.343972Z"
    },
    "papermill": {
     "duration": null,
     "end_time": null,
     "exception": null,
     "start_time": null,
     "status": "pending"
    },
    "tags": []
   },
   "outputs": [],
   "source": [
    "name = 1\n",
    "name"
   ]
  },
  {
   "cell_type": "code",
   "execution_count": null,
   "id": "1ff84751",
   "metadata": {
    "execution": {
     "iopub.execute_input": "2022-10-12T04:01:11.560443Z",
     "iopub.status.busy": "2022-10-12T04:01:11.560030Z",
     "iopub.status.idle": "2022-10-12T04:01:11.568495Z",
     "shell.execute_reply": "2022-10-12T04:01:11.567055Z",
     "shell.execute_reply.started": "2022-10-12T04:01:11.560411Z"
    },
    "papermill": {
     "duration": null,
     "end_time": null,
     "exception": null,
     "start_time": null,
     "status": "pending"
    },
    "tags": []
   },
   "outputs": [],
   "source": [
    "name=True\n",
    "name"
   ]
  },
  {
   "cell_type": "code",
   "execution_count": null,
   "id": "9214f8f0",
   "metadata": {
    "execution": {
     "iopub.execute_input": "2022-10-12T04:03:13.411785Z",
     "iopub.status.busy": "2022-10-12T04:03:13.411158Z",
     "iopub.status.idle": "2022-10-12T04:03:13.417192Z",
     "shell.execute_reply": "2022-10-12T04:03:13.415890Z",
     "shell.execute_reply.started": "2022-10-12T04:03:13.411733Z"
    },
    "papermill": {
     "duration": null,
     "end_time": null,
     "exception": null,
     "start_time": null,
     "status": "pending"
    },
    "tags": []
   },
   "outputs": [],
   "source": [
    "# In C, C++, Java Languages:\n",
    "#str name = 'Ali  # The variable 'name' has been binded with string data type and it will remain forever in program."
   ]
  },
  {
   "cell_type": "markdown",
   "id": "d66fe50b",
   "metadata": {
    "papermill": {
     "duration": null,
     "end_time": null,
     "exception": null,
     "start_time": null,
     "status": "pending"
    },
    "tags": []
   },
   "source": [
    "* <h1> Variable Binding"
   ]
  },
  {
   "cell_type": "markdown",
   "id": "043a722d",
   "metadata": {
    "papermill": {
     "duration": null,
     "end_time": null,
     "exception": null,
     "start_time": null,
     "status": "pending"
    },
    "tags": []
   },
   "source": [
    "**The process to store value in variable is called Variable Binding.It has two methods: <br>\n",
    "1- Single Binding <br>\n",
    "2- Multiple Binding**"
   ]
  },
  {
   "cell_type": "markdown",
   "id": "5f920dd5",
   "metadata": {
    "papermill": {
     "duration": null,
     "end_time": null,
     "exception": null,
     "start_time": null,
     "status": "pending"
    },
    "tags": []
   },
   "source": [
    "<h2> 1 - Single Binding"
   ]
  },
  {
   "cell_type": "code",
   "execution_count": null,
   "id": "7c2f5856",
   "metadata": {
    "execution": {
     "iopub.execute_input": "2022-10-11T07:35:09.839891Z",
     "iopub.status.busy": "2022-10-11T07:35:09.839443Z",
     "iopub.status.idle": "2022-10-11T07:35:09.848976Z",
     "shell.execute_reply": "2022-10-11T07:35:09.847884Z",
     "shell.execute_reply.started": "2022-10-11T07:35:09.839855Z"
    },
    "papermill": {
     "duration": null,
     "end_time": null,
     "exception": null,
     "start_time": null,
     "status": "pending"
    },
    "tags": []
   },
   "outputs": [],
   "source": [
    "a=3\n",
    "a"
   ]
  },
  {
   "cell_type": "markdown",
   "id": "ab41265f",
   "metadata": {
    "papermill": {
     "duration": null,
     "end_time": null,
     "exception": null,
     "start_time": null,
     "status": "pending"
    },
    "tags": []
   },
   "source": [
    "<h2>2 -  Multiple Binding"
   ]
  },
  {
   "cell_type": "code",
   "execution_count": null,
   "id": "cebcc232",
   "metadata": {
    "execution": {
     "iopub.execute_input": "2022-10-12T08:00:51.638535Z",
     "iopub.status.busy": "2022-10-12T08:00:51.638077Z",
     "iopub.status.idle": "2022-10-12T08:00:51.645816Z",
     "shell.execute_reply": "2022-10-12T08:00:51.644497Z",
     "shell.execute_reply.started": "2022-10-12T08:00:51.638495Z"
    },
    "papermill": {
     "duration": null,
     "end_time": null,
     "exception": null,
     "start_time": null,
     "status": "pending"
    },
    "tags": []
   },
   "outputs": [],
   "source": [
    "a=5;b=3;c=6\n",
    "print('b',b)\n",
    "a,b,c=2,4,7\n",
    "print('a',a)\n",
    "a=b=c=4\n",
    "print('c',c)"
   ]
  },
  {
   "cell_type": "code",
   "execution_count": null,
   "id": "82588368",
   "metadata": {
    "papermill": {
     "duration": null,
     "end_time": null,
     "exception": null,
     "start_time": null,
     "status": "pending"
    },
    "tags": []
   },
   "outputs": [],
   "source": []
  },
  {
   "cell_type": "code",
   "execution_count": null,
   "id": "350aa622",
   "metadata": {
    "execution": {
     "iopub.execute_input": "2022-10-11T13:57:09.212087Z",
     "iopub.status.busy": "2022-10-11T13:57:09.211596Z",
     "iopub.status.idle": "2022-10-11T13:57:09.227103Z",
     "shell.execute_reply": "2022-10-11T13:57:09.225620Z",
     "shell.execute_reply.started": "2022-10-11T13:57:09.212046Z"
    },
    "papermill": {
     "duration": null,
     "end_time": null,
     "exception": null,
     "start_time": null,
     "status": "pending"
    },
    "tags": []
   },
   "outputs": [],
   "source": [
    "name='Ahmed' #String\n",
    "gpa=3.7 #Float\n",
    "salary=45000 #Integer\n",
    "email=\"ahmed.ii@gmail.com\" #String\n",
    "isMarried=False #Boolean\n",
    "\n",
    "print(name,email,isMarried)"
   ]
  },
  {
   "cell_type": "markdown",
   "id": "0ee00eea",
   "metadata": {
    "papermill": {
     "duration": null,
     "end_time": null,
     "exception": null,
     "start_time": null,
     "status": "pending"
    },
    "tags": []
   },
   "source": [
    "# Comment"
   ]
  },
  {
   "cell_type": "markdown",
   "id": "e595eff0",
   "metadata": {
    "papermill": {
     "duration": null,
     "end_time": null,
     "exception": null,
     "start_time": null,
     "status": "pending"
    },
    "tags": []
   },
   "source": [
    "**It is a line of code which compiler or interpreter ignores or don't execute. It helps in communication and code readabality.**"
   ]
  },
  {
   "cell_type": "code",
   "execution_count": null,
   "id": "0aa4ec64",
   "metadata": {
    "execution": {
     "iopub.execute_input": "2022-10-11T07:45:57.227158Z",
     "iopub.status.busy": "2022-10-11T07:45:57.226751Z",
     "iopub.status.idle": "2022-10-11T07:45:57.231912Z",
     "shell.execute_reply": "2022-10-11T07:45:57.230408Z",
     "shell.execute_reply.started": "2022-10-11T07:45:57.227124Z"
    },
    "papermill": {
     "duration": null,
     "end_time": null,
     "exception": null,
     "start_time": null,
     "status": "pending"
    },
    "tags": []
   },
   "outputs": [],
   "source": [
    "#selfie\n",
    "#bestie"
   ]
  },
  {
   "cell_type": "markdown",
   "id": "119f1100",
   "metadata": {
    "papermill": {
     "duration": null,
     "end_time": null,
     "exception": null,
     "start_time": null,
     "status": "pending"
    },
    "tags": []
   },
   "source": [
    "# Keywords"
   ]
  },
  {
   "cell_type": "markdown",
   "id": "96b3f222",
   "metadata": {
    "papermill": {
     "duration": null,
     "end_time": null,
     "exception": null,
     "start_time": null,
     "status": "pending"
    },
    "tags": []
   },
   "source": [
    "**Python is a case sensitive programming language.<br>\n",
    "In programming, a keyword is a word that is reserved by a program because the word has a specific meaning.<br>\n",
    "Keyword can be command or parameters. Every programming language has a set of keywords that can not be used as variable names.**"
   ]
  },
  {
   "cell_type": "code",
   "execution_count": null,
   "id": "d82e6d17",
   "metadata": {
    "execution": {
     "iopub.execute_input": "2022-10-12T04:10:21.949827Z",
     "iopub.status.busy": "2022-10-12T04:10:21.948395Z",
     "iopub.status.idle": "2022-10-12T04:10:21.956514Z",
     "shell.execute_reply": "2022-10-12T04:10:21.955069Z",
     "shell.execute_reply.started": "2022-10-12T04:10:21.949764Z"
    },
    "papermill": {
     "duration": null,
     "end_time": null,
     "exception": null,
     "start_time": null,
     "status": "pending"
    },
    "tags": []
   },
   "outputs": [],
   "source": [
    "import keyword\n",
    "print(keyword.kwlist)"
   ]
  },
  {
   "cell_type": "markdown",
   "id": "dd2ad781",
   "metadata": {
    "papermill": {
     "duration": null,
     "end_time": null,
     "exception": null,
     "start_time": null,
     "status": "pending"
    },
    "tags": []
   },
   "source": [
    "**1- and  <br>  2- as <br>   3- assert<br>    4- break<br>    5- class<br>    6- continue<br>    7- def  <br>  8- del <br>  9- elif<br>    10- else<br>    11- except <br>   12- finally  <br>  13- false <br>   14- for  <br>  15- from <br>   16- global <br>  17- if   <br>18- import    <br>19- in  <br>  20- is  <br>  21- lambda <br>   22- nonlocal <br>   23- None   <br> 24- not  <br> 25- or  <br> 26- pass <br>   27- raise <br>   28- return <br>   29- True  <br>   30- try <br>   31- with <br>   32- while <br>   33- yield**"
   ]
  },
  {
   "cell_type": "markdown",
   "id": "9f7b19d8",
   "metadata": {
    "papermill": {
     "duration": null,
     "end_time": null,
     "exception": null,
     "start_time": null,
     "status": "pending"
    },
    "tags": []
   },
   "source": [
    "# Identifiers"
   ]
  },
  {
   "cell_type": "markdown",
   "id": "4c30cc18",
   "metadata": {
    "papermill": {
     "duration": null,
     "end_time": null,
     "exception": null,
     "start_time": null,
     "status": "pending"
    },
    "tags": []
   },
   "source": [
    "**A Python identifier is a name used to identify variable, function, class, module or other object.<br>Important points to note: <br>\n",
    "1- Can be a combination of lowercase, uppercase, digits. <br>\n",
    "2- Can't start with a digit.<br>\n",
    "3- Can't use special characters (#,@,!,$,%) <br>\n",
    "4- Can have any length.<br>\n",
    "5- Can start with variable or underscore.<br>\n",
    "6- Kewords can't be used as identifiers.**"
   ]
  },
  {
   "cell_type": "code",
   "execution_count": null,
   "id": "838cfbc0",
   "metadata": {
    "execution": {
     "iopub.execute_input": "2022-10-12T04:20:53.881470Z",
     "iopub.status.busy": "2022-10-12T04:20:53.881020Z",
     "iopub.status.idle": "2022-10-12T04:20:53.889605Z",
     "shell.execute_reply": "2022-10-12T04:20:53.888374Z",
     "shell.execute_reply.started": "2022-10-12T04:20:53.881434Z"
    },
    "papermill": {
     "duration": null,
     "end_time": null,
     "exception": null,
     "start_time": null,
     "status": "pending"
    },
    "tags": []
   },
   "outputs": [],
   "source": [
    "name='Ali' # Name can be any alphabet\n",
    "_=2        # Name can be underscore\n",
    "name,_"
   ]
  },
  {
   "cell_type": "code",
   "execution_count": null,
   "id": "cafd2fca",
   "metadata": {
    "execution": {
     "iopub.execute_input": "2022-10-12T04:21:25.107816Z",
     "iopub.status.busy": "2022-10-12T04:21:25.107317Z",
     "iopub.status.idle": "2022-10-12T04:21:25.115711Z",
     "shell.execute_reply": "2022-10-12T04:21:25.113998Z",
     "shell.execute_reply.started": "2022-10-12T04:21:25.107776Z"
    },
    "papermill": {
     "duration": null,
     "end_time": null,
     "exception": null,
     "start_time": null,
     "status": "pending"
    },
    "tags": []
   },
   "outputs": [],
   "source": [
    "2='Ali' # Name can't be any digit\n",
    "2"
   ]
  },
  {
   "cell_type": "code",
   "execution_count": null,
   "id": "4b05c764",
   "metadata": {
    "execution": {
     "iopub.execute_input": "2022-10-12T04:23:58.289685Z",
     "iopub.status.busy": "2022-10-12T04:23:58.289197Z",
     "iopub.status.idle": "2022-10-12T04:23:58.296321Z",
     "shell.execute_reply": "2022-10-12T04:23:58.294986Z",
     "shell.execute_reply.started": "2022-10-12T04:23:58.289646Z"
    },
    "papermill": {
     "duration": null,
     "end_time": null,
     "exception": null,
     "start_time": null,
     "status": "pending"
    },
    "tags": []
   },
   "outputs": [],
   "source": [
    "@ ='Ali'  # Name can't be any special character\n",
    "@"
   ]
  },
  {
   "cell_type": "code",
   "execution_count": null,
   "id": "ddc8b02d",
   "metadata": {
    "execution": {
     "iopub.execute_input": "2022-10-12T04:24:48.029598Z",
     "iopub.status.busy": "2022-10-12T04:24:48.029177Z",
     "iopub.status.idle": "2022-10-12T04:24:48.036356Z",
     "shell.execute_reply": "2022-10-12T04:24:48.035029Z",
     "shell.execute_reply.started": "2022-10-12T04:24:48.029564Z"
    },
    "papermill": {
     "duration": null,
     "end_time": null,
     "exception": null,
     "start_time": null,
     "status": "pending"
    },
    "tags": []
   },
   "outputs": [],
   "source": [
    "1name='Ali'# Name can't start with digit\n",
    "1name"
   ]
  },
  {
   "cell_type": "code",
   "execution_count": null,
   "id": "d8f7a1cd",
   "metadata": {
    "execution": {
     "iopub.execute_input": "2022-10-12T04:25:31.544127Z",
     "iopub.status.busy": "2022-10-12T04:25:31.543668Z",
     "iopub.status.idle": "2022-10-12T04:25:31.551690Z",
     "shell.execute_reply": "2022-10-12T04:25:31.550282Z",
     "shell.execute_reply.started": "2022-10-12T04:25:31.544093Z"
    },
    "papermill": {
     "duration": null,
     "end_time": null,
     "exception": null,
     "start_time": null,
     "status": "pending"
    },
    "tags": []
   },
   "outputs": [],
   "source": [
    "name1='Ali'  # This is valid name\n",
    "name1"
   ]
  },
  {
   "cell_type": "code",
   "execution_count": null,
   "id": "1b07574e",
   "metadata": {
    "execution": {
     "iopub.execute_input": "2022-10-12T04:26:25.889018Z",
     "iopub.status.busy": "2022-10-12T04:26:25.888585Z",
     "iopub.status.idle": "2022-10-12T04:26:25.896470Z",
     "shell.execute_reply": "2022-10-12T04:26:25.894775Z",
     "shell.execute_reply.started": "2022-10-12T04:26:25.888983Z"
    },
    "papermill": {
     "duration": null,
     "end_time": null,
     "exception": null,
     "start_time": null,
     "status": "pending"
    },
    "tags": []
   },
   "outputs": [],
   "source": [
    "name$='Ali'"
   ]
  },
  {
   "cell_type": "code",
   "execution_count": null,
   "id": "a75dcf94",
   "metadata": {
    "execution": {
     "iopub.execute_input": "2022-10-12T04:27:13.130479Z",
     "iopub.status.busy": "2022-10-12T04:27:13.129999Z",
     "iopub.status.idle": "2022-10-12T04:27:13.140418Z",
     "shell.execute_reply": "2022-10-12T04:27:13.138785Z",
     "shell.execute_reply.started": "2022-10-12T04:27:13.130442Z"
    },
    "papermill": {
     "duration": null,
     "end_time": null,
     "exception": null,
     "start_time": null,
     "status": "pending"
    },
    "tags": []
   },
   "outputs": [],
   "source": [
    "False = 'Ali' # Can't use keyword as identifier\n",
    "False"
   ]
  },
  {
   "cell_type": "code",
   "execution_count": null,
   "id": "b253e16a",
   "metadata": {
    "execution": {
     "iopub.execute_input": "2022-10-11T12:29:18.825875Z",
     "iopub.status.busy": "2022-10-11T12:29:18.825477Z",
     "iopub.status.idle": "2022-10-11T12:29:18.834848Z",
     "shell.execute_reply": "2022-10-11T12:29:18.833685Z",
     "shell.execute_reply.started": "2022-10-11T12:29:18.825842Z"
    },
    "papermill": {
     "duration": null,
     "end_time": null,
     "exception": null,
     "start_time": null,
     "status": "pending"
    },
    "tags": []
   },
   "outputs": [],
   "source": [
    "nanannansjidndjnwididwinifnfnnfenf='Ali'\n",
    "nanannansjidndjnwididwinifnfnnfenf"
   ]
  },
  {
   "cell_type": "markdown",
   "id": "cdb10b85",
   "metadata": {
    "papermill": {
     "duration": null,
     "end_time": null,
     "exception": null,
     "start_time": null,
     "status": "pending"
    },
    "tags": []
   },
   "source": [
    "# Good Coding Practices"
   ]
  },
  {
   "cell_type": "markdown",
   "id": "98a71110",
   "metadata": {
    "papermill": {
     "duration": null,
     "end_time": null,
     "exception": null,
     "start_time": null,
     "status": "pending"
    },
    "tags": []
   },
   "source": [
    "**1- Descriptive identifiers <br>\n",
    "2- Descriptive file names <br>\n",
    "3- Frequent Comments<br>\n",
    "4- Indentation**"
   ]
  },
  {
   "cell_type": "markdown",
   "id": "ebd291ab",
   "metadata": {
    "papermill": {
     "duration": null,
     "end_time": null,
     "exception": null,
     "start_time": null,
     "status": "pending"
    },
    "tags": []
   },
   "source": [
    "# Statemets"
   ]
  },
  {
   "cell_type": "markdown",
   "id": "2796c03a",
   "metadata": {
    "papermill": {
     "duration": null,
     "end_time": null,
     "exception": null,
     "start_time": null,
     "status": "pending"
    },
    "tags": []
   },
   "source": [
    "**Any line in Python program which is executable. <br>\n",
    "Examples: <br>\n",
    "--> a=b+c <br>\n",
    "--> print('Hello World!') <br>\n",
    "--> input('Enter Your Name')<br>\n",
    "--> a=4**"
   ]
  },
  {
   "cell_type": "markdown",
   "id": "06c544c8",
   "metadata": {
    "papermill": {
     "duration": null,
     "end_time": null,
     "exception": null,
     "start_time": null,
     "status": "pending"
    },
    "tags": []
   },
   "source": [
    "# Expressions"
   ]
  },
  {
   "cell_type": "markdown",
   "id": "c5396384",
   "metadata": {
    "papermill": {
     "duration": null,
     "end_time": null,
     "exception": null,
     "start_time": null,
     "status": "pending"
    },
    "tags": []
   },
   "source": [
    "**A combination of operators and operands that is interpreted to produce some other value. <br>\n",
    "Example: <br>\n",
    "--> 2 + 4**"
   ]
  },
  {
   "cell_type": "markdown",
   "id": "ab7a5d11",
   "metadata": {
    "papermill": {
     "duration": null,
     "end_time": null,
     "exception": null,
     "start_time": null,
     "status": "pending"
    },
    "tags": []
   },
   "source": [
    "<h1> Literals"
   ]
  },
  {
   "cell_type": "markdown",
   "id": "a6acff20",
   "metadata": {
    "papermill": {
     "duration": null,
     "end_time": null,
     "exception": null,
     "start_time": null,
     "status": "pending"
    },
    "tags": []
   },
   "source": [
    "**The Values given to variable.<br>\n",
    "Types of Literals:<br>\n",
    "1- Numerical Literals <br>\n",
    "2- Boolian Literals <br>\n",
    "3- String Literals <br>\n",
    "4- Special Literal**"
   ]
  },
  {
   "cell_type": "markdown",
   "id": "8b7efaab",
   "metadata": {
    "papermill": {
     "duration": null,
     "end_time": null,
     "exception": null,
     "start_time": null,
     "status": "pending"
    },
    "tags": []
   },
   "source": [
    "<h2> 1 - Numerical Literals"
   ]
  },
  {
   "cell_type": "code",
   "execution_count": null,
   "id": "f6fe9b20",
   "metadata": {
    "execution": {
     "iopub.execute_input": "2022-10-12T07:44:20.662692Z",
     "iopub.status.busy": "2022-10-12T07:44:20.662282Z",
     "iopub.status.idle": "2022-10-12T07:44:20.668293Z",
     "shell.execute_reply": "2022-10-12T07:44:20.667434Z",
     "shell.execute_reply.started": "2022-10-12T07:44:20.662656Z"
    },
    "papermill": {
     "duration": null,
     "end_time": null,
     "exception": null,
     "start_time": null,
     "status": "pending"
    },
    "tags": []
   },
   "outputs": [],
   "source": [
    "a=100 # Decimal Literal\n",
    "b = 0b0010 # Binary Literal (0010 is 2 in bits)\n",
    "c=0o310 # Octal Literal\n",
    "d=0x12c # Hexadecimal Literal\n",
    "print(a,b,c,d)"
   ]
  },
  {
   "cell_type": "code",
   "execution_count": null,
   "id": "79fe20dc",
   "metadata": {
    "execution": {
     "iopub.execute_input": "2022-10-12T07:45:56.854000Z",
     "iopub.status.busy": "2022-10-12T07:45:56.853571Z",
     "iopub.status.idle": "2022-10-12T07:45:56.861682Z",
     "shell.execute_reply": "2022-10-12T07:45:56.860024Z",
     "shell.execute_reply.started": "2022-10-12T07:45:56.853958Z"
    },
    "papermill": {
     "duration": null,
     "end_time": null,
     "exception": null,
     "start_time": null,
     "status": "pending"
    },
    "tags": []
   },
   "outputs": [],
   "source": [
    "# Float Literal\n",
    "a=10.5\n",
    "b=1.5e4 \n",
    "c=1.5e-3\n",
    "print(a,b,c)"
   ]
  },
  {
   "cell_type": "code",
   "execution_count": null,
   "id": "732c7b93",
   "metadata": {
    "execution": {
     "iopub.execute_input": "2022-10-12T07:47:52.090379Z",
     "iopub.status.busy": "2022-10-12T07:47:52.089916Z",
     "iopub.status.idle": "2022-10-12T07:47:52.097460Z",
     "shell.execute_reply": "2022-10-12T07:47:52.096107Z",
     "shell.execute_reply.started": "2022-10-12T07:47:52.090319Z"
    },
    "papermill": {
     "duration": null,
     "end_time": null,
     "exception": null,
     "start_time": null,
     "status": "pending"
    },
    "tags": []
   },
   "outputs": [],
   "source": [
    "# Complex Literal\n",
    "x = 3 + 2j\n",
    "y = 2 - 7j\n",
    "z = 2j\n",
    "print(x,y,z,z.imag,z.real)"
   ]
  },
  {
   "cell_type": "markdown",
   "id": "780e41ad",
   "metadata": {
    "papermill": {
     "duration": null,
     "end_time": null,
     "exception": null,
     "start_time": null,
     "status": "pending"
    },
    "tags": []
   },
   "source": [
    "<h2> 2 - Boolian Literals"
   ]
  },
  {
   "cell_type": "code",
   "execution_count": null,
   "id": "72f218ed",
   "metadata": {
    "execution": {
     "iopub.execute_input": "2022-10-12T07:50:09.281332Z",
     "iopub.status.busy": "2022-10-12T07:50:09.280894Z",
     "iopub.status.idle": "2022-10-12T07:50:09.288138Z",
     "shell.execute_reply": "2022-10-12T07:50:09.286782Z",
     "shell.execute_reply.started": "2022-10-12T07:50:09.281286Z"
    },
    "papermill": {
     "duration": null,
     "end_time": null,
     "exception": null,
     "start_time": null,
     "status": "pending"
    },
    "tags": []
   },
   "outputs": [],
   "source": [
    "a=True+4 # In Pythom True means 1 (So 1 + 4 = 5)\n",
    "b=False-3 # In Python False means 0 (So 0 - 3 = -3)\n",
    "print(a,b)"
   ]
  },
  {
   "cell_type": "markdown",
   "id": "983bf7bc",
   "metadata": {
    "papermill": {
     "duration": null,
     "end_time": null,
     "exception": null,
     "start_time": null,
     "status": "pending"
    },
    "tags": []
   },
   "source": [
    "<h2> 3 - String Literals"
   ]
  },
  {
   "cell_type": "code",
   "execution_count": null,
   "id": "a27641d0",
   "metadata": {
    "execution": {
     "iopub.execute_input": "2022-10-12T07:53:24.564331Z",
     "iopub.status.busy": "2022-10-12T07:53:24.563913Z",
     "iopub.status.idle": "2022-10-12T07:53:24.572382Z",
     "shell.execute_reply": "2022-10-12T07:53:24.570908Z",
     "shell.execute_reply.started": "2022-10-12T07:53:24.564297Z"
    },
    "papermill": {
     "duration": null,
     "end_time": null,
     "exception": null,
     "start_time": null,
     "status": "pending"
    },
    "tags": []
   },
   "outputs": [],
   "source": [
    "str = \"This is Python\" # Strings\n",
    "char = 'D' # Characters\n",
    "multiline_str=\"\"\"This is multiline string\"\"\" # Multiline String\n",
    "raw_str=r\"raw\\n string\" #Raw String\n",
    "\n",
    "print(str)\n",
    "print(char)\n",
    "print(multiline_str)\n",
    "print(raw_str)"
   ]
  },
  {
   "cell_type": "markdown",
   "id": "ae96b0ce",
   "metadata": {
    "papermill": {
     "duration": null,
     "end_time": null,
     "exception": null,
     "start_time": null,
     "status": "pending"
    },
    "tags": []
   },
   "source": [
    "<h2> 4 - Special Literal"
   ]
  },
  {
   "cell_type": "code",
   "execution_count": null,
   "id": "934b7ead",
   "metadata": {
    "execution": {
     "iopub.execute_input": "2022-10-12T07:54:14.477299Z",
     "iopub.status.busy": "2022-10-12T07:54:14.476200Z",
     "iopub.status.idle": "2022-10-12T07:54:14.483351Z",
     "shell.execute_reply": "2022-10-12T07:54:14.481991Z",
     "shell.execute_reply.started": "2022-10-12T07:54:14.477255Z"
    },
    "papermill": {
     "duration": null,
     "end_time": null,
     "exception": null,
     "start_time": null,
     "status": "pending"
    },
    "tags": []
   },
   "outputs": [],
   "source": [
    "x= None # In a project if we have to use multiple variables. In beginning, we don't have any value of that respective variable, then declare variable with None which will be replaced by some value later.\n",
    "print(x)"
   ]
  },
  {
   "cell_type": "markdown",
   "id": "3d46ac16",
   "metadata": {
    "papermill": {
     "duration": null,
     "end_time": null,
     "exception": null,
     "start_time": null,
     "status": "pending"
    },
    "tags": []
   },
   "source": [
    "# Input function - to take user input"
   ]
  },
  {
   "cell_type": "markdown",
   "id": "b5de9137",
   "metadata": {
    "papermill": {
     "duration": null,
     "end_time": null,
     "exception": null,
     "start_time": null,
     "status": "pending"
    },
    "tags": []
   },
   "source": [
    "**Difference between Static and Dynamic Softwares<br>\n",
    "1- Static Softwares - Where user can't enter input. e.g. Clock, Calander, University Website, Blog,etc.<br>\n",
    "2- Dynamic Softwares - Where user can enter input. e.g. Youtube, Instagram, Facebook, Whatsapp, Daraz, etc.**"
   ]
  },
  {
   "cell_type": "code",
   "execution_count": null,
   "id": "67f342d2",
   "metadata": {
    "execution": {
     "iopub.execute_input": "2022-10-12T04:41:57.954982Z",
     "iopub.status.busy": "2022-10-12T04:41:57.954436Z",
     "iopub.status.idle": "2022-10-12T04:42:04.467832Z",
     "shell.execute_reply": "2022-10-12T04:42:04.466647Z",
     "shell.execute_reply.started": "2022-10-12T04:41:57.954940Z"
    },
    "papermill": {
     "duration": null,
     "end_time": null,
     "exception": null,
     "start_time": null,
     "status": "pending"
    },
    "tags": []
   },
   "outputs": [],
   "source": [
    "input() # Result shows that output will be in string format"
   ]
  },
  {
   "cell_type": "code",
   "execution_count": null,
   "id": "08d7f5f4",
   "metadata": {
    "execution": {
     "iopub.execute_input": "2022-10-07T15:33:54.533736Z",
     "iopub.status.busy": "2022-10-07T15:33:54.533233Z",
     "iopub.status.idle": "2022-10-07T15:34:02.555487Z",
     "shell.execute_reply": "2022-10-07T15:34:02.554299Z",
     "shell.execute_reply.started": "2022-10-07T15:33:54.533700Z"
    },
    "papermill": {
     "duration": null,
     "end_time": null,
     "exception": null,
     "start_time": null,
     "status": "pending"
    },
    "tags": []
   },
   "outputs": [],
   "source": [
    "# Suitable way is to guide user that what to do\n",
    "input('Enter Your Name')"
   ]
  },
  {
   "cell_type": "code",
   "execution_count": null,
   "id": "f3a5460e",
   "metadata": {
    "execution": {
     "iopub.execute_input": "2022-10-07T15:34:23.454465Z",
     "iopub.status.busy": "2022-10-07T15:34:23.454016Z",
     "iopub.status.idle": "2022-10-07T15:34:36.882104Z",
     "shell.execute_reply": "2022-10-07T15:34:36.881236Z",
     "shell.execute_reply.started": "2022-10-07T15:34:23.454431Z"
    },
    "papermill": {
     "duration": null,
     "end_time": null,
     "exception": null,
     "start_time": null,
     "status": "pending"
    },
    "tags": []
   },
   "outputs": [],
   "source": [
    "input('Enter Your ID')"
   ]
  },
  {
   "cell_type": "markdown",
   "id": "0ecff67f",
   "metadata": {
    "papermill": {
     "duration": null,
     "end_time": null,
     "exception": null,
     "start_time": null,
     "status": "pending"
    },
    "tags": []
   },
   "source": [
    "* <h2> Program For Addition by User Values"
   ]
  },
  {
   "cell_type": "code",
   "execution_count": null,
   "id": "65785f6c",
   "metadata": {
    "execution": {
     "iopub.execute_input": "2022-10-12T08:02:58.522523Z",
     "iopub.status.busy": "2022-10-12T08:02:58.522043Z",
     "iopub.status.idle": "2022-10-12T08:03:03.820840Z",
     "shell.execute_reply": "2022-10-12T08:03:03.819597Z",
     "shell.execute_reply.started": "2022-10-12T08:02:58.522478Z"
    },
    "papermill": {
     "duration": null,
     "end_time": null,
     "exception": null,
     "start_time": null,
     "status": "pending"
    },
    "tags": []
   },
   "outputs": [],
   "source": [
    "# input needs to be stored in variable so that it may be used afterwards\n",
    "a=input('Enter First Value')\n",
    "b=input('Enter Second Value')\n",
    "\n",
    "\n",
    "a+b  # If we add these values, it will not be added because these are in string form."
   ]
  },
  {
   "cell_type": "code",
   "execution_count": null,
   "id": "73f801a0",
   "metadata": {
    "execution": {
     "iopub.execute_input": "2022-10-12T04:48:59.609754Z",
     "iopub.status.busy": "2022-10-12T04:48:59.609311Z",
     "iopub.status.idle": "2022-10-12T04:48:59.616737Z",
     "shell.execute_reply": "2022-10-12T04:48:59.615598Z",
     "shell.execute_reply.started": "2022-10-12T04:48:59.609715Z"
    },
    "papermill": {
     "duration": null,
     "end_time": null,
     "exception": null,
     "start_time": null,
     "status": "pending"
    },
    "tags": []
   },
   "outputs": [],
   "source": [
    "# Because input taken by input function from user is in string format. It is because string is universal format.\n",
    "type(a),type(b)"
   ]
  },
  {
   "cell_type": "markdown",
   "id": "fbb44df4",
   "metadata": {
    "papermill": {
     "duration": null,
     "end_time": null,
     "exception": null,
     "start_time": null,
     "status": "pending"
    },
    "tags": []
   },
   "source": [
    "**So we first need to convert strings into numerical values using int**"
   ]
  },
  {
   "cell_type": "code",
   "execution_count": null,
   "id": "b093cc30",
   "metadata": {
    "execution": {
     "iopub.execute_input": "2022-10-07T15:44:37.083219Z",
     "iopub.status.busy": "2022-10-07T15:44:37.082717Z",
     "iopub.status.idle": "2022-10-07T15:44:37.092783Z",
     "shell.execute_reply": "2022-10-07T15:44:37.090466Z",
     "shell.execute_reply.started": "2022-10-07T15:44:37.083178Z"
    },
    "papermill": {
     "duration": null,
     "end_time": null,
     "exception": null,
     "start_time": null,
     "status": "pending"
    },
    "tags": []
   },
   "outputs": [],
   "source": [
    "c = int(a) + int (b)\n",
    "c"
   ]
  },
  {
   "cell_type": "markdown",
   "id": "605cf400",
   "metadata": {
    "papermill": {
     "duration": null,
     "end_time": null,
     "exception": null,
     "start_time": null,
     "status": "pending"
    },
    "tags": []
   },
   "source": [
    "* <h2> Program for Multiplication by User Values"
   ]
  },
  {
   "cell_type": "code",
   "execution_count": null,
   "id": "5c1ba2e2",
   "metadata": {
    "execution": {
     "iopub.execute_input": "2022-10-07T15:49:00.151297Z",
     "iopub.status.busy": "2022-10-07T15:49:00.150844Z",
     "iopub.status.idle": "2022-10-07T15:49:11.663964Z",
     "shell.execute_reply": "2022-10-07T15:49:11.662492Z",
     "shell.execute_reply.started": "2022-10-07T15:49:00.151263Z"
    },
    "papermill": {
     "duration": null,
     "end_time": null,
     "exception": null,
     "start_time": null,
     "status": "pending"
    },
    "tags": []
   },
   "outputs": [],
   "source": [
    "fname = int(input('Enter First Value'))\n",
    "sname = float(input('Enter Second Value'))\n",
    "\n",
    "result = fname * 5 * sname\n",
    "print('Result : ',result)"
   ]
  },
  {
   "cell_type": "markdown",
   "id": "565ed485",
   "metadata": {
    "papermill": {
     "duration": null,
     "end_time": null,
     "exception": null,
     "start_time": null,
     "status": "pending"
    },
    "tags": []
   },
   "source": [
    "<h1> Type Conversion"
   ]
  },
  {
   "cell_type": "markdown",
   "id": "b0a15c3d",
   "metadata": {
    "papermill": {
     "duration": null,
     "end_time": null,
     "exception": null,
     "start_time": null,
     "status": "pending"
    },
    "tags": []
   },
   "source": [
    "**Type conversion is not a permanent operation.<br>Type Conversion is of two type:<br>\n",
    "1- Implicit Conversion <br>\n",
    "2- Explicit Conversion**"
   ]
  },
  {
   "cell_type": "markdown",
   "id": "ef377b24",
   "metadata": {
    "papermill": {
     "duration": null,
     "end_time": null,
     "exception": null,
     "start_time": null,
     "status": "pending"
    },
    "tags": []
   },
   "source": [
    "<h2> 1 - Implicit Conversion"
   ]
  },
  {
   "cell_type": "code",
   "execution_count": null,
   "id": "1e0f094b",
   "metadata": {
    "execution": {
     "iopub.execute_input": "2022-10-12T08:05:37.107916Z",
     "iopub.status.busy": "2022-10-12T08:05:37.107506Z",
     "iopub.status.idle": "2022-10-12T08:05:37.114606Z",
     "shell.execute_reply": "2022-10-12T08:05:37.113247Z",
     "shell.execute_reply.started": "2022-10-12T08:05:37.107882Z"
    },
    "papermill": {
     "duration": null,
     "end_time": null,
     "exception": null,
     "start_time": null,
     "status": "pending"
    },
    "tags": []
   },
   "outputs": [],
   "source": [
    "print(5+4.5) # There is addition of integer and float and there is result without any error. In this way, python interpreter do conversion internally.\n",
    "\n",
    "print(4 + 6+7j) # integer + complex\n",
    "\n",
    "print(3.2 + 2-3j) # float + complex"
   ]
  },
  {
   "cell_type": "markdown",
   "id": "7e8b8f9f",
   "metadata": {
    "papermill": {
     "duration": null,
     "end_time": null,
     "exception": null,
     "start_time": null,
     "status": "pending"
    },
    "tags": []
   },
   "source": [
    "<h2> 2 - Explicit Conversion"
   ]
  },
  {
   "cell_type": "markdown",
   "id": "d0896e37",
   "metadata": {
    "papermill": {
     "duration": null,
     "end_time": null,
     "exception": null,
     "start_time": null,
     "status": "pending"
    },
    "tags": []
   },
   "source": [
    "**In this, user himself apply conversion.**"
   ]
  },
  {
   "cell_type": "code",
   "execution_count": null,
   "id": "039722da",
   "metadata": {
    "execution": {
     "iopub.execute_input": "2022-10-12T04:51:48.787710Z",
     "iopub.status.busy": "2022-10-12T04:51:48.787177Z",
     "iopub.status.idle": "2022-10-12T04:51:48.807553Z",
     "shell.execute_reply": "2022-10-12T04:51:48.805794Z",
     "shell.execute_reply.started": "2022-10-12T04:51:48.787668Z"
    },
    "papermill": {
     "duration": null,
     "end_time": null,
     "exception": null,
     "start_time": null,
     "status": "pending"
    },
    "tags": []
   },
   "outputs": [],
   "source": [
    "# There should be logic in conversion. The conversion will be when it will be possible. As 'Islamabad' can not be converted into integer. But '123' cam be converted into integer.\n",
    "int('Ali') # Error will show that Ali can not be converted into integer"
   ]
  },
  {
   "cell_type": "code",
   "execution_count": null,
   "id": "a1e41338",
   "metadata": {
    "execution": {
     "iopub.execute_input": "2022-10-12T08:06:36.474727Z",
     "iopub.status.busy": "2022-10-12T08:06:36.474338Z",
     "iopub.status.idle": "2022-10-12T08:06:36.481921Z",
     "shell.execute_reply": "2022-10-12T08:06:36.481029Z",
     "shell.execute_reply.started": "2022-10-12T08:06:36.474697Z"
    },
    "papermill": {
     "duration": null,
     "end_time": null,
     "exception": null,
     "start_time": null,
     "status": "pending"
    },
    "tags": []
   },
   "outputs": [],
   "source": [
    "int('123')"
   ]
  },
  {
   "cell_type": "code",
   "execution_count": null,
   "id": "29432d10",
   "metadata": {
    "execution": {
     "iopub.execute_input": "2022-10-07T15:55:27.082173Z",
     "iopub.status.busy": "2022-10-07T15:55:27.081709Z",
     "iopub.status.idle": "2022-10-07T15:55:27.102130Z",
     "shell.execute_reply": "2022-10-07T15:55:27.100494Z",
     "shell.execute_reply.started": "2022-10-07T15:55:27.082136Z"
    },
    "papermill": {
     "duration": null,
     "end_time": null,
     "exception": null,
     "start_time": null,
     "status": "pending"
    },
    "tags": []
   },
   "outputs": [],
   "source": [
    "# Also complex can not be converted into numerical (int or float)\n",
    "int(3+5j)"
   ]
  },
  {
   "cell_type": "code",
   "execution_count": null,
   "id": "f8a87a2b",
   "metadata": {
    "execution": {
     "iopub.execute_input": "2022-10-12T08:07:17.001783Z",
     "iopub.status.busy": "2022-10-12T08:07:17.001303Z",
     "iopub.status.idle": "2022-10-12T08:07:17.009788Z",
     "shell.execute_reply": "2022-10-12T08:07:17.008392Z",
     "shell.execute_reply.started": "2022-10-12T08:07:17.001743Z"
    },
    "papermill": {
     "duration": null,
     "end_time": null,
     "exception": null,
     "start_time": null,
     "status": "pending"
    },
    "tags": []
   },
   "outputs": [],
   "source": [
    "# string into integer\n",
    "int('4') # The result shows that 4 in string form can be converted into value"
   ]
  },
  {
   "cell_type": "code",
   "execution_count": null,
   "id": "7b86df86",
   "metadata": {
    "execution": {
     "iopub.execute_input": "2022-10-07T15:53:25.443682Z",
     "iopub.status.busy": "2022-10-07T15:53:25.443139Z",
     "iopub.status.idle": "2022-10-07T15:53:25.450405Z",
     "shell.execute_reply": "2022-10-07T15:53:25.449349Z",
     "shell.execute_reply.started": "2022-10-07T15:53:25.443636Z"
    },
    "papermill": {
     "duration": null,
     "end_time": null,
     "exception": null,
     "start_time": null,
     "status": "pending"
    },
    "tags": []
   },
   "outputs": [],
   "source": [
    "# float into integer\n",
    "int(4.2)"
   ]
  },
  {
   "cell_type": "code",
   "execution_count": null,
   "id": "d34f35fb",
   "metadata": {
    "execution": {
     "iopub.execute_input": "2022-10-07T15:53:51.177123Z",
     "iopub.status.busy": "2022-10-07T15:53:51.176635Z",
     "iopub.status.idle": "2022-10-07T15:53:51.185131Z",
     "shell.execute_reply": "2022-10-07T15:53:51.183701Z",
     "shell.execute_reply.started": "2022-10-07T15:53:51.177087Z"
    },
    "papermill": {
     "duration": null,
     "end_time": null,
     "exception": null,
     "start_time": null,
     "status": "pending"
    },
    "tags": []
   },
   "outputs": [],
   "source": [
    "# integer into float\n",
    "float(2)"
   ]
  },
  {
   "cell_type": "code",
   "execution_count": null,
   "id": "40cb4bea",
   "metadata": {
    "execution": {
     "iopub.execute_input": "2022-10-12T04:58:11.723156Z",
     "iopub.status.busy": "2022-10-12T04:58:11.722757Z",
     "iopub.status.idle": "2022-10-12T04:58:11.729001Z",
     "shell.execute_reply": "2022-10-12T04:58:11.728241Z",
     "shell.execute_reply.started": "2022-10-12T04:58:11.723126Z"
    },
    "papermill": {
     "duration": null,
     "end_time": null,
     "exception": null,
     "start_time": null,
     "status": "pending"
    },
    "tags": []
   },
   "outputs": [],
   "source": [
    "# string into float\n",
    "float('43')"
   ]
  },
  {
   "cell_type": "code",
   "execution_count": null,
   "id": "9549a573",
   "metadata": {
    "execution": {
     "iopub.execute_input": "2022-10-07T15:56:57.952273Z",
     "iopub.status.busy": "2022-10-07T15:56:57.951787Z",
     "iopub.status.idle": "2022-10-07T15:56:57.962336Z",
     "shell.execute_reply": "2022-10-07T15:56:57.960927Z",
     "shell.execute_reply.started": "2022-10-07T15:56:57.952236Z"
    },
    "papermill": {
     "duration": null,
     "end_time": null,
     "exception": null,
     "start_time": null,
     "status": "pending"
    },
    "tags": []
   },
   "outputs": [],
   "source": [
    "# integer into string\n",
    "str(4)"
   ]
  },
  {
   "cell_type": "code",
   "execution_count": null,
   "id": "f2444d7a",
   "metadata": {
    "execution": {
     "iopub.execute_input": "2022-10-12T04:57:58.596950Z",
     "iopub.status.busy": "2022-10-12T04:57:58.596038Z",
     "iopub.status.idle": "2022-10-12T04:57:58.606138Z",
     "shell.execute_reply": "2022-10-12T04:57:58.604774Z",
     "shell.execute_reply.started": "2022-10-12T04:57:58.596910Z"
    },
    "papermill": {
     "duration": null,
     "end_time": null,
     "exception": null,
     "start_time": null,
     "status": "pending"
    },
    "tags": []
   },
   "outputs": [],
   "source": [
    "# float into string\n",
    "str(3.2)"
   ]
  },
  {
   "cell_type": "code",
   "execution_count": null,
   "id": "6999f834",
   "metadata": {
    "execution": {
     "iopub.execute_input": "2022-10-07T15:57:17.795437Z",
     "iopub.status.busy": "2022-10-07T15:57:17.794117Z",
     "iopub.status.idle": "2022-10-07T15:57:17.802124Z",
     "shell.execute_reply": "2022-10-07T15:57:17.800985Z",
     "shell.execute_reply.started": "2022-10-07T15:57:17.795373Z"
    },
    "papermill": {
     "duration": null,
     "end_time": null,
     "exception": null,
     "start_time": null,
     "status": "pending"
    },
    "tags": []
   },
   "outputs": [],
   "source": [
    "# float into string\n",
    "str(3.3)"
   ]
  },
  {
   "cell_type": "code",
   "execution_count": null,
   "id": "9f5ddd67",
   "metadata": {
    "execution": {
     "iopub.execute_input": "2022-10-12T04:59:13.627023Z",
     "iopub.status.busy": "2022-10-12T04:59:13.626581Z",
     "iopub.status.idle": "2022-10-12T04:59:13.634194Z",
     "shell.execute_reply": "2022-10-12T04:59:13.633072Z",
     "shell.execute_reply.started": "2022-10-12T04:59:13.626988Z"
    },
    "papermill": {
     "duration": null,
     "end_time": null,
     "exception": null,
     "start_time": null,
     "status": "pending"
    },
    "tags": []
   },
   "outputs": [],
   "source": [
    "# complex into string\n",
    "str(3+6j)"
   ]
  },
  {
   "cell_type": "code",
   "execution_count": null,
   "id": "5b60d735",
   "metadata": {
    "execution": {
     "iopub.execute_input": "2022-10-07T15:57:55.403767Z",
     "iopub.status.busy": "2022-10-07T15:57:55.403240Z",
     "iopub.status.idle": "2022-10-07T15:57:55.410809Z",
     "shell.execute_reply": "2022-10-07T15:57:55.409835Z",
     "shell.execute_reply.started": "2022-10-07T15:57:55.403722Z"
    },
    "papermill": {
     "duration": null,
     "end_time": null,
     "exception": null,
     "start_time": null,
     "status": "pending"
    },
    "tags": []
   },
   "outputs": [],
   "source": [
    "# integer into complex\n",
    "complex(3)"
   ]
  },
  {
   "cell_type": "code",
   "execution_count": null,
   "id": "8d93a383",
   "metadata": {
    "execution": {
     "iopub.execute_input": "2022-10-07T15:58:21.844336Z",
     "iopub.status.busy": "2022-10-07T15:58:21.843090Z",
     "iopub.status.idle": "2022-10-07T15:58:21.851524Z",
     "shell.execute_reply": "2022-10-07T15:58:21.850215Z",
     "shell.execute_reply.started": "2022-10-07T15:58:21.844286Z"
    },
    "papermill": {
     "duration": null,
     "end_time": null,
     "exception": null,
     "start_time": null,
     "status": "pending"
    },
    "tags": []
   },
   "outputs": [],
   "source": [
    "# float into complex\n",
    "complex(3.3)"
   ]
  },
  {
   "cell_type": "code",
   "execution_count": null,
   "id": "b18d611c",
   "metadata": {
    "execution": {
     "iopub.execute_input": "2022-10-12T04:59:47.665637Z",
     "iopub.status.busy": "2022-10-12T04:59:47.665172Z",
     "iopub.status.idle": "2022-10-12T04:59:47.671730Z",
     "shell.execute_reply": "2022-10-12T04:59:47.670912Z",
     "shell.execute_reply.started": "2022-10-12T04:59:47.665598Z"
    },
    "papermill": {
     "duration": null,
     "end_time": null,
     "exception": null,
     "start_time": null,
     "status": "pending"
    },
    "tags": []
   },
   "outputs": [],
   "source": [
    "# string into complex\n",
    "complex('2+3j')"
   ]
  },
  {
   "cell_type": "code",
   "execution_count": null,
   "id": "5380add1",
   "metadata": {
    "execution": {
     "iopub.execute_input": "2022-10-12T08:08:06.727593Z",
     "iopub.status.busy": "2022-10-12T08:08:06.727209Z",
     "iopub.status.idle": "2022-10-12T08:08:06.732671Z",
     "shell.execute_reply": "2022-10-12T08:08:06.731705Z",
     "shell.execute_reply.started": "2022-10-12T08:08:06.727563Z"
    },
    "papermill": {
     "duration": null,
     "end_time": null,
     "exception": null,
     "start_time": null,
     "status": "pending"
    },
    "tags": []
   },
   "outputs": [],
   "source": [
    "# string into list\n",
    "print(list('Hello'))"
   ]
  },
  {
   "cell_type": "code",
   "execution_count": null,
   "id": "6bd62d34",
   "metadata": {
    "execution": {
     "iopub.execute_input": "2022-10-12T05:01:26.339551Z",
     "iopub.status.busy": "2022-10-12T05:01:26.339064Z",
     "iopub.status.idle": "2022-10-12T05:01:26.346737Z",
     "shell.execute_reply": "2022-10-12T05:01:26.345875Z",
     "shell.execute_reply.started": "2022-10-12T05:01:26.339499Z"
    },
    "papermill": {
     "duration": null,
     "end_time": null,
     "exception": null,
     "start_time": null,
     "status": "pending"
    },
    "tags": []
   },
   "outputs": [],
   "source": [
    "# string into tuple\n",
    "tuple('Hello')"
   ]
  },
  {
   "cell_type": "markdown",
   "id": "8468730a",
   "metadata": {
    "papermill": {
     "duration": null,
     "end_time": null,
     "exception": null,
     "start_time": null,
     "status": "pending"
    },
    "tags": []
   },
   "source": [
    "<h1> Operators"
   ]
  },
  {
   "cell_type": "markdown",
   "id": "61681e40",
   "metadata": {
    "papermill": {
     "duration": null,
     "end_time": null,
     "exception": null,
     "start_time": null,
     "status": "pending"
    },
    "tags": []
   },
   "source": [
    "**Operators are used to perform operation on variables and values.<br>\n",
    "Python has the following operators: <br>\n",
    "1- Aritmatic <br>\n",
    "2- Comparison<br>\n",
    "3- Logical<br>\n",
    "4- Bitwise<br>\n",
    "5- Assignment<br>\n",
    "6- Membership**"
   ]
  },
  {
   "cell_type": "markdown",
   "id": "90f3adbe",
   "metadata": {
    "papermill": {
     "duration": null,
     "end_time": null,
     "exception": null,
     "start_time": null,
     "status": "pending"
    },
    "tags": []
   },
   "source": [
    "<h2> 1- Arithmatic Operators (+,-,/,%,*,%,**)"
   ]
  },
  {
   "cell_type": "code",
   "execution_count": null,
   "id": "b1ee602e",
   "metadata": {
    "execution": {
     "iopub.execute_input": "2022-10-12T08:22:11.642119Z",
     "iopub.status.busy": "2022-10-12T08:22:11.641673Z",
     "iopub.status.idle": "2022-10-12T08:22:11.649718Z",
     "shell.execute_reply": "2022-10-12T08:22:11.648384Z",
     "shell.execute_reply.started": "2022-10-12T08:22:11.642083Z"
    },
    "papermill": {
     "duration": null,
     "end_time": null,
     "exception": null,
     "start_time": null,
     "status": "pending"
    },
    "tags": []
   },
   "outputs": [],
   "source": [
    "a=2\n",
    "b=3\n",
    "c=a+b\n",
    "d=a-b\n",
    "e=a*b \n",
    "f=b/a # Division (quotient)\n",
    "g=b%a # Modulus (remainder)\n",
    "h = a**2 # power of\n",
    "i = 9//2 # integer division (answer converted into integer) \n",
    "print('Addition:',c,'Difference:',d,'Multiplication:',e,'Division:',f,'Remainder:',g,'Power of:',h,'Integer Division:',i)"
   ]
  },
  {
   "cell_type": "code",
   "execution_count": null,
   "id": "f0c6a93c",
   "metadata": {
    "execution": {
     "iopub.execute_input": "2022-10-12T08:14:42.431381Z",
     "iopub.status.busy": "2022-10-12T08:14:42.430957Z",
     "iopub.status.idle": "2022-10-12T08:14:42.437015Z",
     "shell.execute_reply": "2022-10-12T08:14:42.435965Z",
     "shell.execute_reply.started": "2022-10-12T08:14:42.431345Z"
    },
    "papermill": {
     "duration": null,
     "end_time": null,
     "exception": null,
     "start_time": null,
     "status": "pending"
    },
    "tags": []
   },
   "outputs": [],
   "source": [
    "print(10/3) # Division Quotient\n",
    "print(10//3) # Integer Division\n",
    "print(10%3) # Remainder"
   ]
  },
  {
   "cell_type": "markdown",
   "id": "f3bf6ffc",
   "metadata": {
    "papermill": {
     "duration": null,
     "end_time": null,
     "exception": null,
     "start_time": null,
     "status": "pending"
    },
    "tags": []
   },
   "source": [
    "**2- Comparison Operators (>,>=, <, <=, !=,==)**"
   ]
  },
  {
   "cell_type": "code",
   "execution_count": null,
   "id": "1c68c933",
   "metadata": {
    "execution": {
     "iopub.execute_input": "2022-10-12T08:23:16.155969Z",
     "iopub.status.busy": "2022-10-12T08:23:16.155585Z",
     "iopub.status.idle": "2022-10-12T08:23:16.162653Z",
     "shell.execute_reply": "2022-10-12T08:23:16.161628Z",
     "shell.execute_reply.started": "2022-10-12T08:23:16.155937Z"
    },
    "papermill": {
     "duration": null,
     "end_time": null,
     "exception": null,
     "start_time": null,
     "status": "pending"
    },
    "tags": []
   },
   "outputs": [],
   "source": [
    "a=110\n",
    "print('The value of a is ',a)\n",
    "print(a>10)\n",
    "print(a>=100)\n",
    "print(a<10)\n",
    "print(a<=10)\n",
    "print(a==10)\n",
    "print(a!=10)"
   ]
  },
  {
   "cell_type": "code",
   "execution_count": null,
   "id": "704e898e",
   "metadata": {
    "execution": {
     "iopub.execute_input": "2022-10-12T08:24:57.572700Z",
     "iopub.status.busy": "2022-10-12T08:24:57.572293Z",
     "iopub.status.idle": "2022-10-12T08:24:57.579948Z",
     "shell.execute_reply": "2022-10-12T08:24:57.578662Z",
     "shell.execute_reply.started": "2022-10-12T08:24:57.572664Z"
    },
    "papermill": {
     "duration": null,
     "end_time": null,
     "exception": null,
     "start_time": null,
     "status": "pending"
    },
    "tags": []
   },
   "outputs": [],
   "source": [
    "x = 2\n",
    "y = 3\n",
    "\n",
    "print(x>y)\n",
    "print(x<y)\n",
    "print(x>=y)\n",
    "print(x<=y)\n",
    "print(x==y)\n",
    "print(x!=y)"
   ]
  },
  {
   "cell_type": "markdown",
   "id": "b22bad11",
   "metadata": {
    "papermill": {
     "duration": null,
     "end_time": null,
     "exception": null,
     "start_time": null,
     "status": "pending"
    },
    "tags": []
   },
   "source": [
    "<h2> 3- Logical Operators (and, or, not)"
   ]
  },
  {
   "cell_type": "code",
   "execution_count": null,
   "id": "24020bec",
   "metadata": {
    "execution": {
     "iopub.execute_input": "2022-10-12T08:27:26.894876Z",
     "iopub.status.busy": "2022-10-12T08:27:26.894454Z",
     "iopub.status.idle": "2022-10-12T08:27:26.901782Z",
     "shell.execute_reply": "2022-10-12T08:27:26.900555Z",
     "shell.execute_reply.started": "2022-10-12T08:27:26.894841Z"
    },
    "papermill": {
     "duration": null,
     "end_time": null,
     "exception": null,
     "start_time": null,
     "status": "pending"
    },
    "tags": []
   },
   "outputs": [],
   "source": [
    "x = True\n",
    "y = False\n",
    "\n",
    "print(x or y) # If any value is true, the result will be true\n",
    "print(x and y) # For it to be true, both values need to be true\n",
    "print(not x)\n",
    "print(not y)"
   ]
  },
  {
   "cell_type": "code",
   "execution_count": null,
   "id": "e8a2d391",
   "metadata": {
    "execution": {
     "iopub.execute_input": "2022-10-11T14:06:53.878557Z",
     "iopub.status.busy": "2022-10-11T14:06:53.878083Z",
     "iopub.status.idle": "2022-10-11T14:06:53.886298Z",
     "shell.execute_reply": "2022-10-11T14:06:53.885044Z",
     "shell.execute_reply.started": "2022-10-11T14:06:53.878516Z"
    },
    "papermill": {
     "duration": null,
     "end_time": null,
     "exception": null,
     "start_time": null,
     "status": "pending"
    },
    "tags": []
   },
   "outputs": [],
   "source": [
    "a=10\n",
    "b=30\n",
    "print((a>100) or (a<=11))\n",
    "print((a>5) and (b<=50))"
   ]
  },
  {
   "cell_type": "markdown",
   "id": "0a3eb04e",
   "metadata": {
    "papermill": {
     "duration": null,
     "end_time": null,
     "exception": null,
     "start_time": null,
     "status": "pending"
    },
    "tags": []
   },
   "source": [
    "**4- Bitwise Operators (&, |, ^, ~, >>, <<)**"
   ]
  },
  {
   "cell_type": "markdown",
   "id": "609746ee",
   "metadata": {
    "papermill": {
     "duration": null,
     "end_time": null,
     "exception": null,
     "start_time": null,
     "status": "pending"
    },
    "tags": []
   },
   "source": [
    "**Bitwise Operators work on binary values. They are useful during image processing. While applying filters on images, firstly we convert images into binary format. Then we apply filters using these bitwise operators.**"
   ]
  },
  {
   "cell_type": "code",
   "execution_count": null,
   "id": "3512fd5d",
   "metadata": {
    "execution": {
     "iopub.execute_input": "2022-10-12T08:29:17.122360Z",
     "iopub.status.busy": "2022-10-12T08:29:17.121944Z",
     "iopub.status.idle": "2022-10-12T08:29:17.128930Z",
     "shell.execute_reply": "2022-10-12T08:29:17.127644Z",
     "shell.execute_reply.started": "2022-10-12T08:29:17.122326Z"
    },
    "papermill": {
     "duration": null,
     "end_time": null,
     "exception": null,
     "start_time": null,
     "status": "pending"
    },
    "tags": []
   },
   "outputs": [],
   "source": [
    "x = 2  # binary value of 2: 010\n",
    "y = 3  # binary value of 3: 011\n",
    "\n",
    "                     # 010\n",
    "                     # 011\n",
    "                     # --- Apply AND Operator\n",
    "                     #  010 (2)\n",
    "\n",
    "print (2&3)  # AND Operator"
   ]
  },
  {
   "cell_type": "code",
   "execution_count": null,
   "id": "4ac5e314",
   "metadata": {
    "execution": {
     "iopub.execute_input": "2022-10-12T08:33:33.100046Z",
     "iopub.status.busy": "2022-10-12T08:33:33.099640Z",
     "iopub.status.idle": "2022-10-12T08:33:33.105309Z",
     "shell.execute_reply": "2022-10-12T08:33:33.104257Z",
     "shell.execute_reply.started": "2022-10-12T08:33:33.100016Z"
    },
    "papermill": {
     "duration": null,
     "end_time": null,
     "exception": null,
     "start_time": null,
     "status": "pending"
    },
    "tags": []
   },
   "outputs": [],
   "source": [
    "x = 2  # binary value of 2: 010\n",
    "y = 3  # binary value of 3: 011\n",
    "\n",
    "                     # 010\n",
    "                     # 011\n",
    "                     # --- Apply OR Operator\n",
    "                     # 011 (3)\n",
    "\n",
    "print (2|3) # OR Operator"
   ]
  },
  {
   "cell_type": "code",
   "execution_count": null,
   "id": "d54525fc",
   "metadata": {
    "execution": {
     "iopub.execute_input": "2022-10-12T08:36:01.782025Z",
     "iopub.status.busy": "2022-10-12T08:36:01.781639Z",
     "iopub.status.idle": "2022-10-12T08:36:01.787386Z",
     "shell.execute_reply": "2022-10-12T08:36:01.786244Z",
     "shell.execute_reply.started": "2022-10-12T08:36:01.781994Z"
    },
    "papermill": {
     "duration": null,
     "end_time": null,
     "exception": null,
     "start_time": null,
     "status": "pending"
    },
    "tags": []
   },
   "outputs": [],
   "source": [
    "print(2^3) #XOR"
   ]
  },
  {
   "cell_type": "code",
   "execution_count": null,
   "id": "ea90ed3c",
   "metadata": {
    "execution": {
     "iopub.execute_input": "2022-10-12T08:34:54.509080Z",
     "iopub.status.busy": "2022-10-12T08:34:54.508667Z",
     "iopub.status.idle": "2022-10-12T08:34:54.515557Z",
     "shell.execute_reply": "2022-10-12T08:34:54.514218Z",
     "shell.execute_reply.started": "2022-10-12T08:34:54.509046Z"
    },
    "papermill": {
     "duration": null,
     "end_time": null,
     "exception": null,
     "start_time": null,
     "status": "pending"
    },
    "tags": []
   },
   "outputs": [],
   "source": [
    "print(x>>2)\n",
    "print(y<<3)\n",
    "print(~x)"
   ]
  },
  {
   "cell_type": "markdown",
   "id": "81b4af18",
   "metadata": {
    "papermill": {
     "duration": null,
     "end_time": null,
     "exception": null,
     "start_time": null,
     "status": "pending"
    },
    "tags": []
   },
   "source": [
    "<h2> 5- Assignment Operators(=, +=)"
   ]
  },
  {
   "cell_type": "code",
   "execution_count": null,
   "id": "aeadf417",
   "metadata": {
    "execution": {
     "iopub.execute_input": "2022-10-12T08:40:46.192950Z",
     "iopub.status.busy": "2022-10-12T08:40:46.192559Z",
     "iopub.status.idle": "2022-10-12T08:40:46.199928Z",
     "shell.execute_reply": "2022-10-12T08:40:46.198597Z",
     "shell.execute_reply.started": "2022-10-12T08:40:46.192918Z"
    },
    "papermill": {
     "duration": null,
     "end_time": null,
     "exception": null,
     "start_time": null,
     "status": "pending"
    },
    "tags": []
   },
   "outputs": [],
   "source": [
    "a=3\n",
    "print(a)\n",
    "a+=3 # OR a = a + 3\n",
    "print(a)\n",
    "a*=3 # 6 * 3 = 18\n",
    "print(a)"
   ]
  },
  {
   "cell_type": "markdown",
   "id": "ffc3f6d9",
   "metadata": {
    "papermill": {
     "duration": null,
     "end_time": null,
     "exception": null,
     "start_time": null,
     "status": "pending"
    },
    "tags": []
   },
   "source": [
    "<h2> 6 - Identity Operators"
   ]
  },
  {
   "cell_type": "markdown",
   "id": "8618d676",
   "metadata": {
    "papermill": {
     "duration": null,
     "end_time": null,
     "exception": null,
     "start_time": null,
     "status": "pending"
    },
    "tags": []
   },
   "source": [
    "**It is used to check whether any two variables are at same memory location or not.**"
   ]
  },
  {
   "cell_type": "code",
   "execution_count": null,
   "id": "c4d62702",
   "metadata": {
    "execution": {
     "iopub.execute_input": "2022-10-12T08:51:58.412571Z",
     "iopub.status.busy": "2022-10-12T08:51:58.412144Z",
     "iopub.status.idle": "2022-10-12T08:51:58.418684Z",
     "shell.execute_reply": "2022-10-12T08:51:58.417697Z",
     "shell.execute_reply.started": "2022-10-12T08:51:58.412536Z"
    },
    "papermill": {
     "duration": null,
     "end_time": null,
     "exception": null,
     "start_time": null,
     "status": "pending"
    },
    "tags": []
   },
   "outputs": [],
   "source": [
    "a=3\n",
    "b=3\n",
    "\n",
    "print(a is b) # The true result shows these two variables are at same memory location."
   ]
  },
  {
   "cell_type": "code",
   "execution_count": null,
   "id": "5dbeac9b",
   "metadata": {
    "execution": {
     "iopub.execute_input": "2022-10-12T08:59:50.704367Z",
     "iopub.status.busy": "2022-10-12T08:59:50.703891Z",
     "iopub.status.idle": "2022-10-12T08:59:50.712049Z",
     "shell.execute_reply": "2022-10-12T08:59:50.710671Z",
     "shell.execute_reply.started": "2022-10-12T08:59:50.704328Z"
    },
    "papermill": {
     "duration": null,
     "end_time": null,
     "exception": null,
     "start_time": null,
     "status": "pending"
    },
    "tags": []
   },
   "outputs": [],
   "source": [
    "a = 'Ali'\n",
    "b = 'Ali'\n",
    "print(a is not b)\n",
    "print(a is b)\n",
    "\n",
    "list1 = [1,2,3]\n",
    "list2 = [1,2,3]\n",
    "print(list1 is list2)"
   ]
  },
  {
   "cell_type": "markdown",
   "id": "6302847a",
   "metadata": {
    "papermill": {
     "duration": null,
     "end_time": null,
     "exception": null,
     "start_time": null,
     "status": "pending"
    },
    "tags": []
   },
   "source": [
    "**The above result shows that two similar things does not guarantte that they are at same location.**"
   ]
  },
  {
   "cell_type": "code",
   "execution_count": null,
   "id": "d650824e",
   "metadata": {
    "execution": {
     "iopub.execute_input": "2022-10-12T08:56:03.836623Z",
     "iopub.status.busy": "2022-10-12T08:56:03.836218Z",
     "iopub.status.idle": "2022-10-12T08:56:03.843087Z",
     "shell.execute_reply": "2022-10-12T08:56:03.841973Z",
     "shell.execute_reply.started": "2022-10-12T08:56:03.836588Z"
    },
    "papermill": {
     "duration": null,
     "end_time": null,
     "exception": null,
     "start_time": null,
     "status": "pending"
    },
    "tags": []
   },
   "outputs": [],
   "source": [
    "a= 'Hello-world'\n",
    "b= 'Hello-world'\n",
    "print(a is b)"
   ]
  },
  {
   "cell_type": "markdown",
   "id": "cfe7a586",
   "metadata": {
    "papermill": {
     "duration": null,
     "end_time": null,
     "exception": null,
     "start_time": null,
     "status": "pending"
    },
    "tags": []
   },
   "source": [
    "<h2> 7- Membership Operators (in, not in)"
   ]
  },
  {
   "cell_type": "code",
   "execution_count": null,
   "id": "b1dc0bd4",
   "metadata": {
    "execution": {
     "iopub.execute_input": "2022-10-12T08:57:23.773944Z",
     "iopub.status.busy": "2022-10-12T08:57:23.773555Z",
     "iopub.status.idle": "2022-10-12T08:57:23.780916Z",
     "shell.execute_reply": "2022-10-12T08:57:23.779348Z",
     "shell.execute_reply.started": "2022-10-12T08:57:23.773911Z"
    },
    "papermill": {
     "duration": null,
     "end_time": null,
     "exception": null,
     "start_time": null,
     "status": "pending"
    },
    "tags": []
   },
   "outputs": [],
   "source": [
    "city='Islamabad'\n",
    "print('Isl' in city)\n",
    "print('Lah' not in city)"
   ]
  },
  {
   "cell_type": "code",
   "execution_count": null,
   "id": "0f8f47c8",
   "metadata": {
    "execution": {
     "iopub.execute_input": "2022-10-12T08:58:19.822869Z",
     "iopub.status.busy": "2022-10-12T08:58:19.822442Z",
     "iopub.status.idle": "2022-10-12T08:58:19.829322Z",
     "shell.execute_reply": "2022-10-12T08:58:19.827896Z",
     "shell.execute_reply.started": "2022-10-12T08:58:19.822831Z"
    },
    "papermill": {
     "duration": null,
     "end_time": null,
     "exception": null,
     "start_time": null,
     "status": "pending"
    },
    "tags": []
   },
   "outputs": [],
   "source": [
    "x= [1,2,3] # List\n",
    "print(2 in x)\n",
    "\n",
    "y =(1,2,3) # Tuple\n",
    "print(4 in y)"
   ]
  },
  {
   "cell_type": "markdown",
   "id": "20047754",
   "metadata": {
    "papermill": {
     "duration": null,
     "end_time": null,
     "exception": null,
     "start_time": null,
     "status": "pending"
    },
    "tags": []
   },
   "source": [
    "# If-else Statements"
   ]
  },
  {
   "cell_type": "code",
   "execution_count": null,
   "id": "b7d2c78f",
   "metadata": {
    "execution": {
     "iopub.execute_input": "2022-10-07T05:05:17.057436Z",
     "iopub.status.busy": "2022-10-07T05:05:17.057020Z",
     "iopub.status.idle": "2022-10-07T05:05:23.190695Z",
     "shell.execute_reply": "2022-10-07T05:05:23.189897Z",
     "shell.execute_reply.started": "2022-10-07T05:05:17.057395Z"
    },
    "papermill": {
     "duration": null,
     "end_time": null,
     "exception": null,
     "start_time": null,
     "status": "pending"
    },
    "tags": []
   },
   "outputs": [],
   "source": [
    "marks1 = input('Put marks')\n",
    "print(marks1)"
   ]
  },
  {
   "cell_type": "code",
   "execution_count": null,
   "id": "25b8ae4e",
   "metadata": {
    "execution": {
     "iopub.execute_input": "2022-10-07T05:11:48.402247Z",
     "iopub.status.busy": "2022-10-07T05:11:48.401812Z",
     "iopub.status.idle": "2022-10-07T05:11:54.567797Z",
     "shell.execute_reply": "2022-10-07T05:11:54.566412Z",
     "shell.execute_reply.started": "2022-10-07T05:11:48.402212Z"
    },
    "papermill": {
     "duration": null,
     "end_time": null,
     "exception": null,
     "start_time": null,
     "status": "pending"
    },
    "tags": []
   },
   "outputs": [],
   "source": [
    "marks2=eval(input('Put marks'))\n",
    "print(marks2)"
   ]
  },
  {
   "cell_type": "code",
   "execution_count": null,
   "id": "b6bf027b",
   "metadata": {
    "execution": {
     "iopub.execute_input": "2022-10-07T05:18:41.528053Z",
     "iopub.status.busy": "2022-10-07T05:18:41.527653Z",
     "iopub.status.idle": "2022-10-07T05:18:44.984179Z",
     "shell.execute_reply": "2022-10-07T05:18:44.982958Z",
     "shell.execute_reply.started": "2022-10-07T05:18:41.528018Z"
    },
    "papermill": {
     "duration": null,
     "end_time": null,
     "exception": null,
     "start_time": null,
     "status": "pending"
    },
    "tags": []
   },
   "outputs": [],
   "source": [
    "marks=eval(input('Enter the marks')) #eval casts from string to integer\n",
    "print(marks)\n",
    "\n",
    "if marks < 40 :\n",
    "    print('Grade: F')\n",
    "elif (marks >=40) and (marks < 55):\n",
    "    print('Grade: D')\n",
    "elif (marks >= 55 ) and (marks < 70 ):\n",
    "    print('Grade: C')\n",
    "elif (marks >=70 ) and (marks < 85):\n",
    "    print('Grade: B')\n",
    "else:\n",
    "    print('Grade: A')"
   ]
  },
  {
   "cell_type": "code",
   "execution_count": null,
   "id": "92757c28",
   "metadata": {
    "execution": {
     "iopub.execute_input": "2022-10-11T14:19:01.321557Z",
     "iopub.status.busy": "2022-10-11T14:19:01.321137Z",
     "iopub.status.idle": "2022-10-11T14:19:13.992015Z",
     "shell.execute_reply": "2022-10-11T14:19:13.990647Z",
     "shell.execute_reply.started": "2022-10-11T14:19:01.321526Z"
    },
    "papermill": {
     "duration": null,
     "end_time": null,
     "exception": null,
     "start_time": null,
     "status": "pending"
    },
    "tags": []
   },
   "outputs": [],
   "source": [
    "email = input('Enter Your Email')\n",
    "password = input('Enter Your Password')\n",
    "\n",
    "if email == 'abc@gmail.com' and password == '1234':\n",
    "    print('Welcome')\n",
    "else:\n",
    "    print('You Are Not Allowed')"
   ]
  },
  {
   "cell_type": "code",
   "execution_count": null,
   "id": "ede55954",
   "metadata": {
    "execution": {
     "iopub.execute_input": "2022-10-12T02:52:19.477323Z",
     "iopub.status.busy": "2022-10-12T02:52:19.476921Z",
     "iopub.status.idle": "2022-10-12T02:52:39.998521Z",
     "shell.execute_reply": "2022-10-12T02:52:39.997524Z",
     "shell.execute_reply.started": "2022-10-12T02:52:19.477292Z"
    },
    "papermill": {
     "duration": null,
     "end_time": null,
     "exception": null,
     "start_time": null,
     "status": "pending"
    },
    "tags": []
   },
   "outputs": [],
   "source": [
    "email = input('Enter Your Email')\n",
    "if '@' in email:\n",
    "    password=input('Enter Your Password')\n",
    "    if email == 'abc@gmail.com' and password == '1234':\n",
    "        print('Welcome')\n",
    "    elif email == 'abc@gmail.com' and password !='1234':\n",
    "        print('Wrong Password')\n",
    "        password=input('Enter Your Password Again')\n",
    "        if password=='1234':\n",
    "            print('Welcome Finally')\n",
    "        else:\n",
    "            print('Sorry. You Are Not Allowed')\n",
    "    else:\n",
    "        print('You Are Not Allowed')\n",
    "else:\n",
    "    print('Wrong Email Format')"
   ]
  },
  {
   "cell_type": "code",
   "execution_count": null,
   "id": "0d7381c7",
   "metadata": {
    "execution": {
     "iopub.execute_input": "2022-10-15T17:15:14.686502Z",
     "iopub.status.busy": "2022-10-15T17:15:14.685704Z",
     "iopub.status.idle": "2022-10-15T17:15:44.580609Z",
     "shell.execute_reply": "2022-10-15T17:15:44.579765Z",
     "shell.execute_reply.started": "2022-10-15T17:15:14.686460Z"
    },
    "papermill": {
     "duration": null,
     "end_time": null,
     "exception": null,
     "start_time": null,
     "status": "pending"
    },
    "tags": []
   },
   "outputs": [],
   "source": [
    "email = input('Enter Your Email')\n",
    "if '@' in email:\n",
    "    password=input('Enter Your Password')\n",
    "    if len(password) < 6:\n",
    "        print('Password should be minimum of 6 characters')\n",
    "    else:\n",
    "        if email == 'abc@gmail.com' and password == '123456':\n",
    "            print('Welcome')\n",
    "        elif email == 'abc@gmail.com' and password !='123456':\n",
    "            print('Wrong Password')\n",
    "            password=input('Enter Your Password Again')\n",
    "            if password=='123456':\n",
    "                print('Welcome Finally')\n",
    "            else:\n",
    "                print('Sorry. You Are Not Allowed')\n",
    "        else:\n",
    "            print('You Are Not Allowed')\n",
    "else:\n",
    "    print('Wrong Email Format')"
   ]
  },
  {
   "cell_type": "markdown",
   "id": "b54be5d4",
   "metadata": {
    "papermill": {
     "duration": null,
     "end_time": null,
     "exception": null,
     "start_time": null,
     "status": "pending"
    },
    "tags": []
   },
   "source": [
    "<h1> Loops"
   ]
  },
  {
   "cell_type": "markdown",
   "id": "8afa52e5",
   "metadata": {
    "papermill": {
     "duration": null,
     "end_time": null,
     "exception": null,
     "start_time": null,
     "status": "pending"
    },
    "tags": []
   },
   "source": [
    "**1- While Loop <br>\n",
    "2- For Loop<br>\n",
    "While Loop is used when we already don't know that how many number of iterations will be needed.**"
   ]
  },
  {
   "cell_type": "markdown",
   "id": "0402b67e",
   "metadata": {
    "papermill": {
     "duration": null,
     "end_time": null,
     "exception": null,
     "start_time": null,
     "status": "pending"
    },
    "tags": []
   },
   "source": [
    "<h2> 1 - While Loop"
   ]
  },
  {
   "cell_type": "code",
   "execution_count": null,
   "id": "7b0840d7",
   "metadata": {
    "execution": {
     "iopub.execute_input": "2022-10-12T03:07:34.849554Z",
     "iopub.status.busy": "2022-10-12T03:07:34.849067Z",
     "iopub.status.idle": "2022-10-12T03:07:37.433044Z",
     "shell.execute_reply": "2022-10-12T03:07:37.432180Z",
     "shell.execute_reply.started": "2022-10-12T03:07:34.849498Z"
    },
    "papermill": {
     "duration": null,
     "end_time": null,
     "exception": null,
     "start_time": null,
     "status": "pending"
    },
    "tags": []
   },
   "outputs": [],
   "source": [
    "# To Print table of number \n",
    "\n",
    "number = input('Enter Your Number') \n",
    "int(number)\n",
    "i=1\n",
    "while i !=11:\n",
    "    print(i * number)\n",
    "    i = i+1\n",
    "\n",
    "# It shows wrong result. The correct result explanation is given below."
   ]
  },
  {
   "cell_type": "code",
   "execution_count": null,
   "id": "0631ad18",
   "metadata": {
    "execution": {
     "iopub.execute_input": "2022-10-12T03:07:55.845169Z",
     "iopub.status.busy": "2022-10-12T03:07:55.844769Z",
     "iopub.status.idle": "2022-10-12T03:07:58.743673Z",
     "shell.execute_reply": "2022-10-12T03:07:58.742463Z",
     "shell.execute_reply.started": "2022-10-12T03:07:55.845137Z"
    },
    "papermill": {
     "duration": null,
     "end_time": null,
     "exception": null,
     "start_time": null,
     "status": "pending"
    },
    "tags": []
   },
   "outputs": [],
   "source": [
    "number = input('Enter Your Number') # OR write as:  number = int(input('Enter Your Number'))\n",
    "number = int(number)\n",
    "i=1\n",
    "while i !=11:\n",
    "    print(i * number)\n",
    "    i = i+1"
   ]
  },
  {
   "cell_type": "code",
   "execution_count": null,
   "id": "2233bfe6",
   "metadata": {
    "execution": {
     "iopub.execute_input": "2022-10-12T03:11:07.243135Z",
     "iopub.status.busy": "2022-10-12T03:11:07.242710Z",
     "iopub.status.idle": "2022-10-12T03:11:07.250664Z",
     "shell.execute_reply": "2022-10-12T03:11:07.249586Z",
     "shell.execute_reply.started": "2022-10-12T03:11:07.243104Z"
    },
    "papermill": {
     "duration": null,
     "end_time": null,
     "exception": null,
     "start_time": null,
     "status": "pending"
    },
    "tags": []
   },
   "outputs": [],
   "source": [
    "# Because\n",
    "number=\"8\"  \n",
    "type(number)"
   ]
  },
  {
   "cell_type": "code",
   "execution_count": null,
   "id": "9e0f64a6",
   "metadata": {
    "execution": {
     "iopub.execute_input": "2022-10-12T03:11:52.241944Z",
     "iopub.status.busy": "2022-10-12T03:11:52.241485Z",
     "iopub.status.idle": "2022-10-12T03:11:52.248464Z",
     "shell.execute_reply": "2022-10-12T03:11:52.247143Z",
     "shell.execute_reply.started": "2022-10-12T03:11:52.241910Z"
    },
    "papermill": {
     "duration": null,
     "end_time": null,
     "exception": null,
     "start_time": null,
     "status": "pending"
    },
    "tags": []
   },
   "outputs": [],
   "source": [
    "# Converting string into integer\n",
    "int(number)"
   ]
  },
  {
   "cell_type": "code",
   "execution_count": null,
   "id": "d7aefa83",
   "metadata": {
    "execution": {
     "iopub.execute_input": "2022-10-12T03:12:03.558205Z",
     "iopub.status.busy": "2022-10-12T03:12:03.557781Z",
     "iopub.status.idle": "2022-10-12T03:12:03.565509Z",
     "shell.execute_reply": "2022-10-12T03:12:03.564351Z",
     "shell.execute_reply.started": "2022-10-12T03:12:03.558172Z"
    },
    "papermill": {
     "duration": null,
     "end_time": null,
     "exception": null,
     "start_time": null,
     "status": "pending"
    },
    "tags": []
   },
   "outputs": [],
   "source": [
    "type(number) # Type conversion has not been done permanently"
   ]
  },
  {
   "cell_type": "code",
   "execution_count": null,
   "id": "cafbb78f",
   "metadata": {
    "execution": {
     "iopub.execute_input": "2022-10-12T03:13:10.077182Z",
     "iopub.status.busy": "2022-10-12T03:13:10.076739Z",
     "iopub.status.idle": "2022-10-12T03:13:10.084885Z",
     "shell.execute_reply": "2022-10-12T03:13:10.083601Z",
     "shell.execute_reply.started": "2022-10-12T03:13:10.077148Z"
    },
    "papermill": {
     "duration": null,
     "end_time": null,
     "exception": null,
     "start_time": null,
     "status": "pending"
    },
    "tags": []
   },
   "outputs": [],
   "source": [
    "# to permanently store in integer format,\n",
    "number = int(number)\n",
    "type(number)"
   ]
  },
  {
   "cell_type": "code",
   "execution_count": null,
   "id": "207bfee6",
   "metadata": {
    "execution": {
     "iopub.execute_input": "2022-10-12T09:20:35.202565Z",
     "iopub.status.busy": "2022-10-12T09:20:35.202178Z",
     "iopub.status.idle": "2022-10-12T09:20:38.582012Z",
     "shell.execute_reply": "2022-10-12T09:20:38.580900Z",
     "shell.execute_reply.started": "2022-10-12T09:20:35.202534Z"
    },
    "papermill": {
     "duration": null,
     "end_time": null,
     "exception": null,
     "start_time": null,
     "status": "pending"
    },
    "tags": []
   },
   "outputs": [],
   "source": [
    "# Table of Other Number\n",
    "\n",
    "number = int(input('Enter Your Number'))\n",
    "i = 1\n",
    "while i <=10:\n",
    "    print(number,'*',i,'=',number * i)\n",
    "    i = i + 1"
   ]
  },
  {
   "cell_type": "code",
   "execution_count": null,
   "id": "b276a921",
   "metadata": {
    "execution": {
     "iopub.execute_input": "2022-10-12T09:24:55.039372Z",
     "iopub.status.busy": "2022-10-12T09:24:55.038919Z",
     "iopub.status.idle": "2022-10-12T09:24:58.807026Z",
     "shell.execute_reply": "2022-10-12T09:24:58.805778Z",
     "shell.execute_reply.started": "2022-10-12T09:24:55.039325Z"
    },
    "papermill": {
     "duration": null,
     "end_time": null,
     "exception": null,
     "start_time": null,
     "status": "pending"
    },
    "tags": []
   },
   "outputs": [],
   "source": [
    "number = int(input('Enter Your Number'))\n",
    "i = 1\n",
    "while i <=10:\n",
    "    print(number,'*',i,'=',number * i)\n",
    "    i = i + 1"
   ]
  },
  {
   "cell_type": "markdown",
   "id": "138e88c5",
   "metadata": {
    "papermill": {
     "duration": null,
     "end_time": null,
     "exception": null,
     "start_time": null,
     "status": "pending"
    },
    "tags": []
   },
   "source": [
    "* <h3> Guess Game"
   ]
  },
  {
   "cell_type": "code",
   "execution_count": null,
   "id": "8b65ebfc",
   "metadata": {
    "execution": {
     "iopub.execute_input": "2022-10-12T10:07:08.215223Z",
     "iopub.status.busy": "2022-10-12T10:07:08.214784Z",
     "iopub.status.idle": "2022-10-12T10:07:24.039961Z",
     "shell.execute_reply": "2022-10-12T10:07:24.039066Z",
     "shell.execute_reply.started": "2022-10-12T10:07:08.215177Z"
    },
    "papermill": {
     "duration": null,
     "end_time": null,
     "exception": null,
     "start_time": null,
     "status": "pending"
    },
    "tags": []
   },
   "outputs": [],
   "source": [
    "import random\n",
    "\n",
    "jackpot = random.randint(1,50)\n",
    "guess = int(input('Enter Your Guess Number'))\n",
    "counter = 1\n",
    "while guess != jackpot:\n",
    "    if guess < jackpot:\n",
    "        print('Guess Higher')\n",
    "    else:\n",
    "        print('Guess Lower')\n",
    "    \n",
    "    guess = int(input('Enter Your Guess Number'))\n",
    "    counter+=1\n",
    "\n",
    "print('Hurrah! Correct Guess Number')\n",
    "print('You have taken',counter,'attempts')"
   ]
  },
  {
   "cell_type": "markdown",
   "id": "b12a77a5",
   "metadata": {
    "papermill": {
     "duration": null,
     "end_time": null,
     "exception": null,
     "start_time": null,
     "status": "pending"
    },
    "tags": []
   },
   "source": [
    "<h2> 2 - For Loop"
   ]
  },
  {
   "cell_type": "markdown",
   "id": "10b3957b",
   "metadata": {
    "papermill": {
     "duration": null,
     "end_time": null,
     "exception": null,
     "start_time": null,
     "status": "pending"
    },
    "tags": []
   },
   "source": [
    "* <h4> Use of Range Function"
   ]
  },
  {
   "cell_type": "code",
   "execution_count": null,
   "id": "f3caf506",
   "metadata": {
    "execution": {
     "iopub.execute_input": "2022-10-12T10:10:46.829628Z",
     "iopub.status.busy": "2022-10-12T10:10:46.829096Z",
     "iopub.status.idle": "2022-10-12T10:10:46.837552Z",
     "shell.execute_reply": "2022-10-12T10:10:46.836173Z",
     "shell.execute_reply.started": "2022-10-12T10:10:46.829578Z"
    },
    "papermill": {
     "duration": null,
     "end_time": null,
     "exception": null,
     "start_time": null,
     "status": "pending"
    },
    "tags": []
   },
   "outputs": [],
   "source": [
    "range(1,10) # internally it generates numbers"
   ]
  },
  {
   "cell_type": "code",
   "execution_count": null,
   "id": "cc8d68ab",
   "metadata": {
    "execution": {
     "iopub.execute_input": "2022-10-12T10:12:00.914618Z",
     "iopub.status.busy": "2022-10-12T10:12:00.913806Z",
     "iopub.status.idle": "2022-10-12T10:12:00.923032Z",
     "shell.execute_reply": "2022-10-12T10:12:00.921967Z",
     "shell.execute_reply.started": "2022-10-12T10:12:00.914558Z"
    },
    "papermill": {
     "duration": null,
     "end_time": null,
     "exception": null,
     "start_time": null,
     "status": "pending"
    },
    "tags": []
   },
   "outputs": [],
   "source": [
    "list(range(1,10)) # to see which numbers were generated"
   ]
  },
  {
   "cell_type": "code",
   "execution_count": null,
   "id": "9deff983",
   "metadata": {
    "execution": {
     "iopub.execute_input": "2022-10-12T10:13:18.072763Z",
     "iopub.status.busy": "2022-10-12T10:13:18.072309Z",
     "iopub.status.idle": "2022-10-12T10:13:18.080813Z",
     "shell.execute_reply": "2022-10-12T10:13:18.079884Z",
     "shell.execute_reply.started": "2022-10-12T10:13:18.072728Z"
    },
    "papermill": {
     "duration": null,
     "end_time": null,
     "exception": null,
     "start_time": null,
     "status": "pending"
    },
    "tags": []
   },
   "outputs": [],
   "source": [
    "range(5) # It means 5 is end number, and starting number is taken 0"
   ]
  },
  {
   "cell_type": "code",
   "execution_count": null,
   "id": "325955e1",
   "metadata": {
    "execution": {
     "iopub.execute_input": "2022-10-12T10:15:01.317422Z",
     "iopub.status.busy": "2022-10-12T10:15:01.317023Z",
     "iopub.status.idle": "2022-10-12T10:15:01.324889Z",
     "shell.execute_reply": "2022-10-12T10:15:01.323694Z",
     "shell.execute_reply.started": "2022-10-12T10:15:01.317389Z"
    },
    "papermill": {
     "duration": null,
     "end_time": null,
     "exception": null,
     "start_time": null,
     "status": "pending"
    },
    "tags": []
   },
   "outputs": [],
   "source": [
    "tuple(range(12,31,3))"
   ]
  },
  {
   "cell_type": "code",
   "execution_count": null,
   "id": "509df36a",
   "metadata": {
    "execution": {
     "iopub.execute_input": "2022-10-12T03:18:14.353065Z",
     "iopub.status.busy": "2022-10-12T03:18:14.352562Z",
     "iopub.status.idle": "2022-10-12T03:18:14.359822Z",
     "shell.execute_reply": "2022-10-12T03:18:14.358493Z",
     "shell.execute_reply.started": "2022-10-12T03:18:14.353026Z"
    },
    "papermill": {
     "duration": null,
     "end_time": null,
     "exception": null,
     "start_time": null,
     "status": "pending"
    },
    "tags": []
   },
   "outputs": [],
   "source": [
    "for i in range(1,11): # Iteration of for loop on range function\n",
    "    print(i)"
   ]
  },
  {
   "cell_type": "code",
   "execution_count": null,
   "id": "8998b8ba",
   "metadata": {
    "execution": {
     "iopub.execute_input": "2022-10-12T03:18:45.984955Z",
     "iopub.status.busy": "2022-10-12T03:18:45.984509Z",
     "iopub.status.idle": "2022-10-12T03:18:45.991057Z",
     "shell.execute_reply": "2022-10-12T03:18:45.989760Z",
     "shell.execute_reply.started": "2022-10-12T03:18:45.984917Z"
    },
    "papermill": {
     "duration": null,
     "end_time": null,
     "exception": null,
     "start_time": null,
     "status": "pending"
    },
    "tags": []
   },
   "outputs": [],
   "source": [
    "for i in range(1,11):\n",
    "    print('Python')"
   ]
  },
  {
   "cell_type": "code",
   "execution_count": null,
   "id": "65e795cc",
   "metadata": {
    "execution": {
     "iopub.execute_input": "2022-10-12T03:19:16.508644Z",
     "iopub.status.busy": "2022-10-12T03:19:16.508170Z",
     "iopub.status.idle": "2022-10-12T03:19:16.514599Z",
     "shell.execute_reply": "2022-10-12T03:19:16.513361Z",
     "shell.execute_reply.started": "2022-10-12T03:19:16.508607Z"
    },
    "papermill": {
     "duration": null,
     "end_time": null,
     "exception": null,
     "start_time": null,
     "status": "pending"
    },
    "tags": []
   },
   "outputs": [],
   "source": [
    "for i in range(1,10,2): # Here 2 is the step argumnet (1+2=3, 3+2=5)\n",
    "    print(i)"
   ]
  },
  {
   "cell_type": "code",
   "execution_count": null,
   "id": "bb64ce15",
   "metadata": {
    "execution": {
     "iopub.execute_input": "2022-10-12T03:21:02.887798Z",
     "iopub.status.busy": "2022-10-12T03:21:02.886543Z",
     "iopub.status.idle": "2022-10-12T03:21:02.894118Z",
     "shell.execute_reply": "2022-10-12T03:21:02.892867Z",
     "shell.execute_reply.started": "2022-10-12T03:21:02.887750Z"
    },
    "papermill": {
     "duration": null,
     "end_time": null,
     "exception": null,
     "start_time": null,
     "status": "pending"
    },
    "tags": []
   },
   "outputs": [],
   "source": [
    "for i in range(10,1,-2): # (10-2=8,8-2=6)\n",
    "    print(i)"
   ]
  },
  {
   "cell_type": "code",
   "execution_count": null,
   "id": "12a86a4a",
   "metadata": {
    "execution": {
     "iopub.execute_input": "2022-10-15T12:46:09.019178Z",
     "iopub.status.busy": "2022-10-15T12:46:09.018549Z",
     "iopub.status.idle": "2022-10-15T12:46:09.046916Z",
     "shell.execute_reply": "2022-10-15T12:46:09.045575Z",
     "shell.execute_reply.started": "2022-10-15T12:46:09.019030Z"
    },
    "papermill": {
     "duration": null,
     "end_time": null,
     "exception": null,
     "start_time": null,
     "status": "pending"
    },
    "tags": []
   },
   "outputs": [],
   "source": [
    "for i in [1,2,3,4]:\n",
    "    print(i)"
   ]
  },
  {
   "cell_type": "code",
   "execution_count": null,
   "id": "c58864af",
   "metadata": {
    "execution": {
     "iopub.execute_input": "2022-10-12T11:56:36.446670Z",
     "iopub.status.busy": "2022-10-12T11:56:36.446244Z",
     "iopub.status.idle": "2022-10-12T11:56:36.452588Z",
     "shell.execute_reply": "2022-10-12T11:56:36.451331Z",
     "shell.execute_reply.started": "2022-10-12T11:56:36.446635Z"
    },
    "papermill": {
     "duration": null,
     "end_time": null,
     "exception": null,
     "start_time": null,
     "status": "pending"
    },
    "tags": []
   },
   "outputs": [],
   "source": [
    "for i in (1,2,3,4):\n",
    "    print(i)"
   ]
  },
  {
   "cell_type": "code",
   "execution_count": null,
   "id": "260fb5fe",
   "metadata": {
    "execution": {
     "iopub.execute_input": "2022-10-12T11:58:07.851380Z",
     "iopub.status.busy": "2022-10-12T11:58:07.850967Z",
     "iopub.status.idle": "2022-10-12T11:58:07.857750Z",
     "shell.execute_reply": "2022-10-12T11:58:07.856649Z",
     "shell.execute_reply.started": "2022-10-12T11:58:07.851344Z"
    },
    "papermill": {
     "duration": null,
     "end_time": null,
     "exception": null,
     "start_time": null,
     "status": "pending"
    },
    "tags": []
   },
   "outputs": [],
   "source": [
    "for i in {1,2,3,4}:\n",
    "    print(i)"
   ]
  },
  {
   "cell_type": "code",
   "execution_count": null,
   "id": "bdeb7ffd",
   "metadata": {
    "execution": {
     "iopub.execute_input": "2022-10-12T03:22:26.018931Z",
     "iopub.status.busy": "2022-10-12T03:22:26.018513Z",
     "iopub.status.idle": "2022-10-12T03:22:26.024769Z",
     "shell.execute_reply": "2022-10-12T03:22:26.023546Z",
     "shell.execute_reply.started": "2022-10-12T03:22:26.018899Z"
    },
    "papermill": {
     "duration": null,
     "end_time": null,
     "exception": null,
     "start_time": null,
     "status": "pending"
    },
    "tags": []
   },
   "outputs": [],
   "source": [
    "for i in 'Islamabad': # iteration of for loop on sequence of 'Islamabad'\n",
    "    print(i)"
   ]
  },
  {
   "cell_type": "code",
   "execution_count": null,
   "id": "171f448c",
   "metadata": {
    "execution": {
     "iopub.execute_input": "2022-10-12T03:22:54.445434Z",
     "iopub.status.busy": "2022-10-12T03:22:54.444643Z",
     "iopub.status.idle": "2022-10-12T03:22:54.451002Z",
     "shell.execute_reply": "2022-10-12T03:22:54.449790Z",
     "shell.execute_reply.started": "2022-10-12T03:22:54.445397Z"
    },
    "papermill": {
     "duration": null,
     "end_time": null,
     "exception": null,
     "start_time": null,
     "status": "pending"
    },
    "tags": []
   },
   "outputs": [],
   "source": [
    "for i in 'Islamabad':\n",
    "    print('Lahore')"
   ]
  },
  {
   "cell_type": "code",
   "execution_count": null,
   "id": "17db1770",
   "metadata": {
    "execution": {
     "iopub.execute_input": "2022-10-16T05:08:42.055585Z",
     "iopub.status.busy": "2022-10-16T05:08:42.055137Z",
     "iopub.status.idle": "2022-10-16T05:08:42.062170Z",
     "shell.execute_reply": "2022-10-16T05:08:42.061022Z",
     "shell.execute_reply.started": "2022-10-16T05:08:42.055547Z"
    },
    "papermill": {
     "duration": null,
     "end_time": null,
     "exception": null,
     "start_time": null,
     "status": "pending"
    },
    "tags": []
   },
   "outputs": [],
   "source": [
    "for i in range(2,10,3):\n",
    "    for j in range(0,4,2):\n",
    "        print('Hello World ',j)"
   ]
  },
  {
   "cell_type": "code",
   "execution_count": null,
   "id": "f6c18bb5",
   "metadata": {
    "execution": {
     "iopub.execute_input": "2022-10-16T05:20:08.144786Z",
     "iopub.status.busy": "2022-10-16T05:20:08.144340Z",
     "iopub.status.idle": "2022-10-16T05:20:08.151506Z",
     "shell.execute_reply": "2022-10-16T05:20:08.150145Z",
     "shell.execute_reply.started": "2022-10-16T05:20:08.144751Z"
    },
    "papermill": {
     "duration": null,
     "end_time": null,
     "exception": null,
     "start_time": null,
     "status": "pending"
    },
    "tags": []
   },
   "outputs": [],
   "source": [
    "for i in range(1,6):\n",
    "    for j in range(0,i):\n",
    "        print('*', end = ' ')  # to print starts in same line by end argument\n",
    "    print('')  # to change the line"
   ]
  },
  {
   "cell_type": "code",
   "execution_count": null,
   "id": "4de15ff1",
   "metadata": {
    "execution": {
     "iopub.execute_input": "2022-10-16T05:22:48.650565Z",
     "iopub.status.busy": "2022-10-16T05:22:48.650126Z",
     "iopub.status.idle": "2022-10-16T05:22:48.657323Z",
     "shell.execute_reply": "2022-10-16T05:22:48.656117Z",
     "shell.execute_reply.started": "2022-10-16T05:22:48.650528Z"
    },
    "papermill": {
     "duration": null,
     "end_time": null,
     "exception": null,
     "start_time": null,
     "status": "pending"
    },
    "tags": []
   },
   "outputs": [],
   "source": [
    "for i in range(1,6):\n",
    "    for j in range(0,i):\n",
    "        print('*', end = ' ')  # to print starts in same line\n",
    "    print('@')  # to change the line"
   ]
  },
  {
   "cell_type": "code",
   "execution_count": null,
   "id": "a4f036b2",
   "metadata": {
    "execution": {
     "iopub.execute_input": "2022-10-16T05:21:38.429932Z",
     "iopub.status.busy": "2022-10-16T05:21:38.429524Z",
     "iopub.status.idle": "2022-10-16T05:21:38.436411Z",
     "shell.execute_reply": "2022-10-16T05:21:38.435157Z",
     "shell.execute_reply.started": "2022-10-16T05:21:38.429894Z"
    },
    "papermill": {
     "duration": null,
     "end_time": null,
     "exception": null,
     "start_time": null,
     "status": "pending"
    },
    "tags": []
   },
   "outputs": [],
   "source": [
    "for i in range(1,6):\n",
    "    print('#')\n",
    "    for j in range(0,i):\n",
    "        print('*', end = ' ')  # to print starts in same line\n",
    "    print('@')  # to change the line"
   ]
  },
  {
   "cell_type": "code",
   "execution_count": null,
   "id": "f217d81c",
   "metadata": {
    "execution": {
     "iopub.execute_input": "2022-10-15T12:47:14.156297Z",
     "iopub.status.busy": "2022-10-15T12:47:14.155740Z",
     "iopub.status.idle": "2022-10-15T12:47:14.171593Z",
     "shell.execute_reply": "2022-10-15T12:47:14.170014Z",
     "shell.execute_reply.started": "2022-10-15T12:47:14.156246Z"
    },
    "papermill": {
     "duration": null,
     "end_time": null,
     "exception": null,
     "start_time": null,
     "status": "pending"
    },
    "tags": []
   },
   "outputs": [],
   "source": [
    "planets = ['Mercury', 'Venus', 'Earth', 'Mars', 'Jupiter', 'Saturn', 'Uranus', 'Neptune']\n",
    "for planet in planets:\n",
    "    print(planet, end=' ') # print all on same line"
   ]
  },
  {
   "cell_type": "code",
   "execution_count": null,
   "id": "f3dd1e40",
   "metadata": {
    "execution": {
     "iopub.execute_input": "2022-10-15T12:47:43.270658Z",
     "iopub.status.busy": "2022-10-15T12:47:43.270271Z",
     "iopub.status.idle": "2022-10-15T12:47:43.277583Z",
     "shell.execute_reply": "2022-10-15T12:47:43.276142Z",
     "shell.execute_reply.started": "2022-10-15T12:47:43.270625Z"
    },
    "papermill": {
     "duration": null,
     "end_time": null,
     "exception": null,
     "start_time": null,
     "status": "pending"
    },
    "tags": []
   },
   "outputs": [],
   "source": [
    "planets = ['Mercury', 'Venus', 'Earth', 'Mars', 'Jupiter', 'Saturn', 'Uranus', 'Neptune']\n",
    "for planet in planets:\n",
    "    print(planet) # By default, end = ' /n'"
   ]
  },
  {
   "cell_type": "code",
   "execution_count": null,
   "id": "db21877b",
   "metadata": {
    "execution": {
     "iopub.execute_input": "2022-10-15T12:48:27.005694Z",
     "iopub.status.busy": "2022-10-15T12:48:27.005208Z",
     "iopub.status.idle": "2022-10-15T12:48:27.016918Z",
     "shell.execute_reply": "2022-10-15T12:48:27.015357Z",
     "shell.execute_reply.started": "2022-10-15T12:48:27.005658Z"
    },
    "papermill": {
     "duration": null,
     "end_time": null,
     "exception": null,
     "start_time": null,
     "status": "pending"
    },
    "tags": []
   },
   "outputs": [],
   "source": [
    "multiplications = (2,3,4,5)\n",
    "product = 1\n",
    "for mult in multiplications:\n",
    "    product = product * mult\n",
    "product"
   ]
  },
  {
   "cell_type": "code",
   "execution_count": null,
   "id": "8ca1c05d",
   "metadata": {
    "execution": {
     "iopub.execute_input": "2022-10-15T12:48:59.627904Z",
     "iopub.status.busy": "2022-10-15T12:48:59.627445Z",
     "iopub.status.idle": "2022-10-15T12:48:59.635644Z",
     "shell.execute_reply": "2022-10-15T12:48:59.634147Z",
     "shell.execute_reply.started": "2022-10-15T12:48:59.627867Z"
    },
    "papermill": {
     "duration": null,
     "end_time": null,
     "exception": null,
     "start_time": null,
     "status": "pending"
    },
    "tags": []
   },
   "outputs": [],
   "source": [
    "text = 'steganograpHy is the practicE of conceaLing a file, message, image, or video within another fiLe, message, image, Or video.'\n",
    "# print all the uppercase letters in s, one at a time\n",
    "for char in text:\n",
    "    if char.isupper():\n",
    "        print(char, end='')"
   ]
  },
  {
   "cell_type": "code",
   "execution_count": null,
   "id": "9f06ed87",
   "metadata": {
    "execution": {
     "iopub.execute_input": "2022-10-15T12:49:14.991276Z",
     "iopub.status.busy": "2022-10-15T12:49:14.990789Z",
     "iopub.status.idle": "2022-10-15T12:49:14.997881Z",
     "shell.execute_reply": "2022-10-15T12:49:14.996644Z",
     "shell.execute_reply.started": "2022-10-15T12:49:14.991235Z"
    },
    "papermill": {
     "duration": null,
     "end_time": null,
     "exception": null,
     "start_time": null,
     "status": "pending"
    },
    "tags": []
   },
   "outputs": [],
   "source": [
    "i = 0\n",
    "while i < 10:\n",
    "    print(i, end=' ')\n",
    "    i+=1"
   ]
  },
  {
   "cell_type": "markdown",
   "id": "414de666",
   "metadata": {
    "papermill": {
     "duration": null,
     "end_time": null,
     "exception": null,
     "start_time": null,
     "status": "pending"
    },
    "tags": []
   },
   "source": [
    "<h2> Break Statement"
   ]
  },
  {
   "cell_type": "markdown",
   "id": "09b1b567",
   "metadata": {
    "papermill": {
     "duration": null,
     "end_time": null,
     "exception": null,
     "start_time": null,
     "status": "pending"
    },
    "tags": []
   },
   "source": [
    "**Searching is good example for break statement.**"
   ]
  },
  {
   "cell_type": "code",
   "execution_count": null,
   "id": "08bcb872",
   "metadata": {
    "execution": {
     "iopub.execute_input": "2022-10-15T12:52:09.765442Z",
     "iopub.status.busy": "2022-10-15T12:52:09.764987Z",
     "iopub.status.idle": "2022-10-15T12:52:09.772824Z",
     "shell.execute_reply": "2022-10-15T12:52:09.771093Z",
     "shell.execute_reply.started": "2022-10-15T12:52:09.765406Z"
    },
    "papermill": {
     "duration": null,
     "end_time": null,
     "exception": null,
     "start_time": null,
     "status": "pending"
    },
    "tags": []
   },
   "outputs": [],
   "source": [
    "for i in range(1,11):\n",
    "    if i == 7:\n",
    "        break     # When number 7 will come, loop will break\n",
    "    print(i)"
   ]
  },
  {
   "cell_type": "markdown",
   "id": "d8343b51",
   "metadata": {
    "papermill": {
     "duration": null,
     "end_time": null,
     "exception": null,
     "start_time": null,
     "status": "pending"
    },
    "tags": []
   },
   "source": [
    "<h2> Continue Statement"
   ]
  },
  {
   "cell_type": "markdown",
   "id": "d4c89ad7",
   "metadata": {
    "papermill": {
     "duration": null,
     "end_time": null,
     "exception": null,
     "start_time": null,
     "status": "pending"
    },
    "tags": []
   },
   "source": [
    "**Examles:<br>\n",
    "i - Recommendation is good example of continue statement.<br>\n",
    "ii - To display products which are on stock, and using continue statement the products which are out of stock will not be printed out.**"
   ]
  },
  {
   "cell_type": "code",
   "execution_count": null,
   "id": "d26a4950",
   "metadata": {
    "execution": {
     "iopub.execute_input": "2022-10-15T12:53:29.195297Z",
     "iopub.status.busy": "2022-10-15T12:53:29.194788Z",
     "iopub.status.idle": "2022-10-15T12:53:29.201707Z",
     "shell.execute_reply": "2022-10-15T12:53:29.200398Z",
     "shell.execute_reply.started": "2022-10-15T12:53:29.195258Z"
    },
    "papermill": {
     "duration": null,
     "end_time": null,
     "exception": null,
     "start_time": null,
     "status": "pending"
    },
    "tags": []
   },
   "outputs": [],
   "source": [
    "for i in range(1,11):\n",
    "    if i == 7:\n",
    "        continue     # code after continue statement will not be printed out if condition fulfills\n",
    "    print(i)"
   ]
  },
  {
   "cell_type": "markdown",
   "id": "c41eeef9",
   "metadata": {
    "papermill": {
     "duration": null,
     "end_time": null,
     "exception": null,
     "start_time": null,
     "status": "pending"
    },
    "tags": []
   },
   "source": [
    "<h2> Pass Statement"
   ]
  },
  {
   "cell_type": "markdown",
   "id": "cc5c4e26",
   "metadata": {
    "papermill": {
     "duration": null,
     "end_time": null,
     "exception": null,
     "start_time": null,
     "status": "pending"
    },
    "tags": []
   },
   "source": [
    "**When we are unsure what logic to use, we apply pass statement.**"
   ]
  },
  {
   "cell_type": "code",
   "execution_count": null,
   "id": "0e544c29",
   "metadata": {
    "execution": {
     "iopub.execute_input": "2022-10-15T15:10:57.650622Z",
     "iopub.status.busy": "2022-10-15T15:10:57.649942Z",
     "iopub.status.idle": "2022-10-15T15:10:57.655866Z",
     "shell.execute_reply": "2022-10-15T15:10:57.654434Z",
     "shell.execute_reply.started": "2022-10-15T15:10:57.650586Z"
    },
    "papermill": {
     "duration": null,
     "end_time": null,
     "exception": null,
     "start_time": null,
     "status": "pending"
    },
    "tags": []
   },
   "outputs": [],
   "source": [
    "for i in range (1,11):\n",
    "    pass               # When you don't know the logic to use, we use pass statement"
   ]
  },
  {
   "cell_type": "markdown",
   "id": "aa2acdcf",
   "metadata": {
    "papermill": {
     "duration": null,
     "end_time": null,
     "exception": null,
     "start_time": null,
     "status": "pending"
    },
    "tags": []
   },
   "source": [
    "# Python Bulit-in Functions"
   ]
  },
  {
   "cell_type": "markdown",
   "id": "7d85037e",
   "metadata": {
    "papermill": {
     "duration": null,
     "end_time": null,
     "exception": null,
     "start_time": null,
     "status": "pending"
    },
    "tags": []
   },
   "source": [
    "**Function is a block of code which gives output after giving input to it**"
   ]
  },
  {
   "cell_type": "markdown",
   "id": "946e218f",
   "metadata": {
    "papermill": {
     "duration": null,
     "end_time": null,
     "exception": null,
     "start_time": null,
     "status": "pending"
    },
    "tags": []
   },
   "source": [
    "**Built-in Functions:<br>\n",
    "1 - abs()\n",
    "aiter()\n",
    "all()\n",
    "any()\n",
    "anext()\n",
    "ascii()<br>\n",
    "2 - bin()\n",
    "bool()\n",
    "breakpoint()\n",
    "bytearray()\n",
    "bytes()<br>\n",
    "3 - callable()\n",
    "chr()\n",
    "classmethod()\n",
    "compile()\n",
    "complex()<br>\n",
    "4 - delattr()\n",
    "dict()\n",
    "dir()\n",
    "divmod()<br>\n",
    "5 - enumerate()\n",
    "eval()\n",
    "exec()<br>\n",
    "6 - filter()\n",
    "float()\n",
    "format()\n",
    "frozenset()<br>\n",
    "7 - getattr()\n",
    "globals()<br>\n",
    "8 - hasattr()\n",
    "hash()\n",
    "help()\n",
    "hex()<br>\n",
    "9 - id()\n",
    "input()\n",
    "int()\n",
    "isinstance()\n",
    "issubclass()\n",
    "iter()<br>\n",
    "10 - len()\n",
    "list()\n",
    "locals()<br>\n",
    "11 - map()\n",
    "max()\n",
    "memoryview()\n",
    "min()<br>\n",
    "12 - next()<br>\n",
    "13 - object()\n",
    "oct()\n",
    "open()\n",
    "ord()<br>\n",
    "14 - pow()\n",
    "print()\n",
    "property()<br>\n",
    "15 - range()\n",
    "repr()\n",
    "reversed()\n",
    "round()<br>\n",
    "16 - set()\n",
    "setattr()\n",
    "slice()\n",
    "sorted()\n",
    "staticmethod()\n",
    "str()\n",
    "sum()\n",
    "super()<br>\n",
    "17 - tuple()\n",
    "18 - type()<br>\n",
    "19 - vars()<br>\n",
    "20 - zip()<br>\n",
    "21 - import()**"
   ]
  },
  {
   "cell_type": "code",
   "execution_count": null,
   "id": "d1facd90",
   "metadata": {
    "execution": {
     "iopub.execute_input": "2022-10-16T05:47:48.801916Z",
     "iopub.status.busy": "2022-10-16T05:47:48.801519Z",
     "iopub.status.idle": "2022-10-16T05:47:48.807419Z",
     "shell.execute_reply": "2022-10-16T05:47:48.806219Z",
     "shell.execute_reply.started": "2022-10-16T05:47:48.801886Z"
    },
    "papermill": {
     "duration": null,
     "end_time": null,
     "exception": null,
     "start_time": null,
     "status": "pending"
    },
    "tags": []
   },
   "outputs": [],
   "source": [
    "# Print function\n",
    "print('Hello World')"
   ]
  },
  {
   "cell_type": "code",
   "execution_count": null,
   "id": "7a2264f8",
   "metadata": {
    "execution": {
     "iopub.execute_input": "2022-10-16T05:50:05.848486Z",
     "iopub.status.busy": "2022-10-16T05:50:05.848042Z",
     "iopub.status.idle": "2022-10-16T05:50:09.180272Z",
     "shell.execute_reply": "2022-10-16T05:50:09.179202Z",
     "shell.execute_reply.started": "2022-10-16T05:50:05.848453Z"
    },
    "papermill": {
     "duration": null,
     "end_time": null,
     "exception": null,
     "start_time": null,
     "status": "pending"
    },
    "tags": []
   },
   "outputs": [],
   "source": [
    "# Input Function\n",
    "input(\"Enter Your Name/Number\")  # It's output is in string format"
   ]
  },
  {
   "cell_type": "code",
   "execution_count": null,
   "id": "df61e5d9",
   "metadata": {
    "execution": {
     "iopub.execute_input": "2022-10-16T05:52:49.527477Z",
     "iopub.status.busy": "2022-10-16T05:52:49.527031Z",
     "iopub.status.idle": "2022-10-16T05:52:49.534184Z",
     "shell.execute_reply": "2022-10-16T05:52:49.533074Z",
     "shell.execute_reply.started": "2022-10-16T05:52:49.527434Z"
    },
    "papermill": {
     "duration": null,
     "end_time": null,
     "exception": null,
     "start_time": null,
     "status": "pending"
    },
    "tags": []
   },
   "outputs": [],
   "source": [
    "# Type Function - to detect variable data type\n",
    "a = 3\n",
    "b = 'Ali'\n",
    "c = True\n",
    "print(type(a))\n",
    "print(type(b))\n",
    "print(type(c))\n"
   ]
  },
  {
   "cell_type": "code",
   "execution_count": null,
   "id": "dc7f27dc",
   "metadata": {
    "execution": {
     "iopub.execute_input": "2022-10-16T05:55:06.445750Z",
     "iopub.status.busy": "2022-10-16T05:55:06.445303Z",
     "iopub.status.idle": "2022-10-16T05:55:06.451807Z",
     "shell.execute_reply": "2022-10-16T05:55:06.451000Z",
     "shell.execute_reply.started": "2022-10-16T05:55:06.445713Z"
    },
    "papermill": {
     "duration": null,
     "end_time": null,
     "exception": null,
     "start_time": null,
     "status": "pending"
    },
    "tags": []
   },
   "outputs": [],
   "source": [
    "# Int Function - Type conversion function\n",
    "print(int('3'))\n",
    "print(float('3'))\n",
    "print(str(2))\n",
    "print(complex('3'))"
   ]
  },
  {
   "cell_type": "code",
   "execution_count": null,
   "id": "64d83ee8",
   "metadata": {
    "execution": {
     "iopub.execute_input": "2022-10-16T07:31:57.331654Z",
     "iopub.status.busy": "2022-10-16T07:31:57.330638Z",
     "iopub.status.idle": "2022-10-16T07:31:57.336078Z",
     "shell.execute_reply": "2022-10-16T07:31:57.334959Z",
     "shell.execute_reply.started": "2022-10-16T07:31:57.331610Z"
    },
    "papermill": {
     "duration": null,
     "end_time": null,
     "exception": null,
     "start_time": null,
     "status": "pending"
    },
    "tags": []
   },
   "outputs": [],
   "source": [
    "# Import Function\n",
    "import pandas"
   ]
  },
  {
   "cell_type": "code",
   "execution_count": null,
   "id": "d82f06b4",
   "metadata": {
    "execution": {
     "iopub.execute_input": "2022-10-16T05:57:12.931617Z",
     "iopub.status.busy": "2022-10-16T05:57:12.931224Z",
     "iopub.status.idle": "2022-10-16T05:57:12.937634Z",
     "shell.execute_reply": "2022-10-16T05:57:12.936674Z",
     "shell.execute_reply.started": "2022-10-16T05:57:12.931586Z"
    },
    "papermill": {
     "duration": null,
     "end_time": null,
     "exception": null,
     "start_time": null,
     "status": "pending"
    },
    "tags": []
   },
   "outputs": [],
   "source": [
    "# Absolute Function - It is a modulus\n",
    "print(abs(3))\n",
    "print(abs(-3))"
   ]
  },
  {
   "cell_type": "code",
   "execution_count": null,
   "id": "03e6687c",
   "metadata": {
    "execution": {
     "iopub.execute_input": "2022-10-16T05:58:41.455532Z",
     "iopub.status.busy": "2022-10-16T05:58:41.455126Z",
     "iopub.status.idle": "2022-10-16T05:58:41.461665Z",
     "shell.execute_reply": "2022-10-16T05:58:41.460467Z",
     "shell.execute_reply.started": "2022-10-16T05:58:41.455500Z"
    },
    "papermill": {
     "duration": null,
     "end_time": null,
     "exception": null,
     "start_time": null,
     "status": "pending"
    },
    "tags": []
   },
   "outputs": [],
   "source": [
    "# Power Function\n",
    "print(pow(2,3))\n",
    "print(pow(2,-3))"
   ]
  },
  {
   "cell_type": "code",
   "execution_count": null,
   "id": "ae13ca51",
   "metadata": {
    "execution": {
     "iopub.execute_input": "2022-10-16T06:07:27.964769Z",
     "iopub.status.busy": "2022-10-16T06:07:27.964321Z",
     "iopub.status.idle": "2022-10-16T06:07:27.972731Z",
     "shell.execute_reply": "2022-10-16T06:07:27.971414Z",
     "shell.execute_reply.started": "2022-10-16T06:07:27.964735Z"
    },
    "papermill": {
     "duration": null,
     "end_time": null,
     "exception": null,
     "start_time": null,
     "status": "pending"
    },
    "tags": []
   },
   "outputs": [],
   "source": [
    "# Min/Max Function - applied on iterables(list,tuple,set)\n",
    "print(min([1,2,3,4])) # Apply on list\n",
    "print(max([1,2,3,4])) # Apply on list\n",
    "print(min((1,2,3,4))) # Apply on tuple\n",
    "print(min({1,2,3,4})) # Apply on set\n",
    "\n",
    "print(min('Islamabad'))  # Printing lesser ASCII value\n",
    "print(max('Islamabad'))  # Printing greater ASCII value"
   ]
  },
  {
   "cell_type": "code",
   "execution_count": null,
   "id": "92a2e697",
   "metadata": {
    "execution": {
     "iopub.execute_input": "2022-10-16T06:13:55.647320Z",
     "iopub.status.busy": "2022-10-16T06:13:55.646880Z",
     "iopub.status.idle": "2022-10-16T06:13:55.655569Z",
     "shell.execute_reply": "2022-10-16T06:13:55.654249Z",
     "shell.execute_reply.started": "2022-10-16T06:13:55.647286Z"
    },
    "papermill": {
     "duration": null,
     "end_time": null,
     "exception": null,
     "start_time": null,
     "status": "pending"
    },
    "tags": []
   },
   "outputs": [],
   "source": [
    "# Round Function - Printing decimal values\n",
    "print(round(1.233456,0))\n",
    "print(round(1.233456,1))\n",
    "print(round(1.233456,2))\n",
    "print(round(1.233456,3))\n",
    "print(round(1.233456,4))\n",
    "print(round(1.233456,5))\n",
    "print(round(1.233456,6))\n",
    "print(round(1.233456,7))\n",
    "\n",
    "c = 22/7\n",
    "print(c,4)"
   ]
  },
  {
   "cell_type": "code",
   "execution_count": null,
   "id": "41c56adf",
   "metadata": {
    "execution": {
     "iopub.execute_input": "2022-10-16T06:17:14.807345Z",
     "iopub.status.busy": "2022-10-16T06:17:14.806904Z",
     "iopub.status.idle": "2022-10-16T06:17:14.814932Z",
     "shell.execute_reply": "2022-10-16T06:17:14.813811Z",
     "shell.execute_reply.started": "2022-10-16T06:17:14.807311Z"
    },
    "papermill": {
     "duration": null,
     "end_time": null,
     "exception": null,
     "start_time": null,
     "status": "pending"
    },
    "tags": []
   },
   "outputs": [],
   "source": [
    "# Divmod Function - Return tuple in a form of (x//y, x%y)  -  (integer division,remainder)\n",
    "x = 10\n",
    "y = 3\n",
    "divmod(x,y)"
   ]
  },
  {
   "cell_type": "code",
   "execution_count": null,
   "id": "de627bbc",
   "metadata": {
    "execution": {
     "iopub.execute_input": "2022-10-16T06:19:57.415409Z",
     "iopub.status.busy": "2022-10-16T06:19:57.415018Z",
     "iopub.status.idle": "2022-10-16T06:19:57.421782Z",
     "shell.execute_reply": "2022-10-16T06:19:57.420434Z",
     "shell.execute_reply.started": "2022-10-16T06:19:57.415378Z"
    },
    "papermill": {
     "duration": null,
     "end_time": null,
     "exception": null,
     "start_time": null,
     "status": "pending"
    },
    "tags": []
   },
   "outputs": [],
   "source": [
    "# bin/oct/hex functions - to print out binary, octal or hexadecimal value\n",
    "print(bin(98))\n",
    "print(oct(98))\n",
    "print(hex(98))"
   ]
  },
  {
   "cell_type": "code",
   "execution_count": null,
   "id": "71a9faf4",
   "metadata": {
    "execution": {
     "iopub.execute_input": "2022-10-16T06:22:18.812255Z",
     "iopub.status.busy": "2022-10-16T06:22:18.811835Z",
     "iopub.status.idle": "2022-10-16T06:22:18.819584Z",
     "shell.execute_reply": "2022-10-16T06:22:18.818439Z",
     "shell.execute_reply.started": "2022-10-16T06:22:18.812223Z"
    },
    "papermill": {
     "duration": null,
     "end_time": null,
     "exception": null,
     "start_time": null,
     "status": "pending"
    },
    "tags": []
   },
   "outputs": [],
   "source": [
    "# id funtion - to find address where the value is stored in memory\n",
    "x = 100 # 100 value is stored in memory\n",
    "\n",
    "# Now to find its stored address\n",
    "id(x)"
   ]
  },
  {
   "cell_type": "code",
   "execution_count": null,
   "id": "e713aa0b",
   "metadata": {
    "execution": {
     "iopub.execute_input": "2022-10-16T07:14:30.041342Z",
     "iopub.status.busy": "2022-10-16T07:14:30.040889Z",
     "iopub.status.idle": "2022-10-16T07:14:30.047226Z",
     "shell.execute_reply": "2022-10-16T07:14:30.046133Z",
     "shell.execute_reply.started": "2022-10-16T07:14:30.041315Z"
    },
    "papermill": {
     "duration": null,
     "end_time": null,
     "exception": null,
     "start_time": null,
     "status": "pending"
    },
    "tags": []
   },
   "outputs": [],
   "source": [
    "# ord function - To print ASCII oce of character\n",
    "\n",
    "print(ord('C'))\n",
    "print(ord('c'))\n",
    "print(ord('4'))\n",
    "print(ord('@'))"
   ]
  },
  {
   "cell_type": "code",
   "execution_count": null,
   "id": "82870dc0",
   "metadata": {
    "execution": {
     "iopub.execute_input": "2022-10-16T07:28:28.308506Z",
     "iopub.status.busy": "2022-10-16T07:28:28.308073Z",
     "iopub.status.idle": "2022-10-16T07:28:28.314302Z",
     "shell.execute_reply": "2022-10-16T07:28:28.313272Z",
     "shell.execute_reply.started": "2022-10-16T07:28:28.308477Z"
    },
    "papermill": {
     "duration": null,
     "end_time": null,
     "exception": null,
     "start_time": null,
     "status": "pending"
    },
    "tags": []
   },
   "outputs": [],
   "source": [
    "# Len Function - Find length of iterables(list,tuple,set,dictionary)\n",
    "print(len([1,2,3]))\n",
    "print(len((1,2,3,4)))\n",
    "print(len({1,2,3,4})) # length of dictionary will be number of unique vlaues in it\n",
    "\n",
    "print(len('Islamabad'))\n"
   ]
  },
  {
   "cell_type": "code",
   "execution_count": null,
   "id": "a985766e",
   "metadata": {
    "execution": {
     "iopub.execute_input": "2022-10-16T07:27:23.050157Z",
     "iopub.status.busy": "2022-10-16T07:27:23.049759Z",
     "iopub.status.idle": "2022-10-16T07:27:23.056378Z",
     "shell.execute_reply": "2022-10-16T07:27:23.055209Z",
     "shell.execute_reply.started": "2022-10-16T07:27:23.050127Z"
    },
    "papermill": {
     "duration": null,
     "end_time": null,
     "exception": null,
     "start_time": null,
     "status": "pending"
    },
    "tags": []
   },
   "outputs": [],
   "source": [
    "# Sum Function - Addition of numeric values in iterables\n",
    "print(sum([1,2,3,4]))  # List\n",
    "print(sum({1,2,3,4}))  # Set\n",
    "print(sum((1,2,3,4)))  # Tuple"
   ]
  },
  {
   "cell_type": "code",
   "execution_count": null,
   "id": "17edd548",
   "metadata": {
    "execution": {
     "iopub.execute_input": "2022-10-16T07:29:59.465425Z",
     "iopub.status.busy": "2022-10-16T07:29:59.465017Z",
     "iopub.status.idle": "2022-10-16T07:29:59.472051Z",
     "shell.execute_reply": "2022-10-16T07:29:59.470955Z",
     "shell.execute_reply.started": "2022-10-16T07:29:59.465397Z"
    },
    "papermill": {
     "duration": null,
     "end_time": null,
     "exception": null,
     "start_time": null,
     "status": "pending"
    },
    "tags": []
   },
   "outputs": [],
   "source": [
    "# Help Function - to read documentation of any function\n",
    "help('sum')"
   ]
  },
  {
   "cell_type": "markdown",
   "id": "d1db59c7",
   "metadata": {
    "papermill": {
     "duration": null,
     "end_time": null,
     "exception": null,
     "start_time": null,
     "status": "pending"
    },
    "tags": []
   },
   "source": [
    "# Python Built-in Modules"
   ]
  },
  {
   "cell_type": "markdown",
   "id": "4ca898ea",
   "metadata": {
    "papermill": {
     "duration": null,
     "end_time": null,
     "exception": null,
     "start_time": null,
     "status": "pending"
    },
    "tags": []
   },
   "source": [
    "**It is considered same as code library. It is a file containing a set of functions you want to include in your application. It is used for code reusablity.**"
   ]
  },
  {
   "cell_type": "code",
   "execution_count": null,
   "id": "11296241",
   "metadata": {
    "execution": {
     "iopub.execute_input": "2022-10-16T07:57:59.472261Z",
     "iopub.status.busy": "2022-10-16T07:57:59.471892Z",
     "iopub.status.idle": "2022-10-16T08:00:05.436695Z",
     "shell.execute_reply": "2022-10-16T08:00:05.435315Z",
     "shell.execute_reply.started": "2022-10-16T07:57:59.472229Z"
    },
    "papermill": {
     "duration": null,
     "end_time": null,
     "exception": null,
     "start_time": null,
     "status": "pending"
    },
    "tags": []
   },
   "outputs": [],
   "source": [
    "# to check modules in Python\n",
    "help('modules')"
   ]
  },
  {
   "cell_type": "code",
   "execution_count": null,
   "id": "9c909ed8",
   "metadata": {
    "execution": {
     "iopub.execute_input": "2022-10-16T08:02:25.938924Z",
     "iopub.status.busy": "2022-10-16T08:02:25.938436Z",
     "iopub.status.idle": "2022-10-16T08:02:25.944249Z",
     "shell.execute_reply": "2022-10-16T08:02:25.943097Z",
     "shell.execute_reply.started": "2022-10-16T08:02:25.938847Z"
    },
    "papermill": {
     "duration": null,
     "end_time": null,
     "exception": null,
     "start_time": null,
     "status": "pending"
    },
    "tags": []
   },
   "outputs": [],
   "source": [
    "# Math module\n",
    "import math"
   ]
  },
  {
   "cell_type": "code",
   "execution_count": null,
   "id": "add1f57f",
   "metadata": {
    "execution": {
     "iopub.execute_input": "2022-10-16T08:18:03.076782Z",
     "iopub.status.busy": "2022-10-16T08:18:03.076356Z",
     "iopub.status.idle": "2022-10-16T08:18:03.085061Z",
     "shell.execute_reply": "2022-10-16T08:18:03.083954Z",
     "shell.execute_reply.started": "2022-10-16T08:18:03.076753Z"
    },
    "papermill": {
     "duration": null,
     "end_time": null,
     "exception": null,
     "start_time": null,
     "status": "pending"
    },
    "tags": []
   },
   "outputs": [],
   "source": [
    "# to use list of functions in this module\n",
    "print('sin(23) :',math.sin(23))\n",
    "print('cos(23) :',math.cos(23))\n",
    "print('tan(23) :',math.tan(23))\n",
    "print('sinh(23) :',math.sinh(23))\n",
    "print('log(23) :',math.log(23))\n",
    "\n",
    "print('The value of e :',math.e)\n",
    "print('The value of pi :',math.pi)\n",
    "print('radian(23) :',math.radians(20))\n",
    "print('degree(23) :',math.degrees(23))\n",
    "print('Factorial of 10 :',math.factorial(10))\n",
    "print('ceil(6.3) :',math.ceil(6.3))\n",
    "print('floor(6.3) :',math.floor(6.3))\n",
    "print('Sqrt of 23 :',math.sqrt(23))\n",
    "print('Remainder :',math.remainder(10,3))\n",
    "print('exp(23) :',math.exp(23))"
   ]
  },
  {
   "cell_type": "code",
   "execution_count": null,
   "id": "66ac3b94",
   "metadata": {
    "execution": {
     "iopub.execute_input": "2022-10-16T08:19:10.170062Z",
     "iopub.status.busy": "2022-10-16T08:19:10.169587Z",
     "iopub.status.idle": "2022-10-16T08:19:10.174664Z",
     "shell.execute_reply": "2022-10-16T08:19:10.173816Z",
     "shell.execute_reply.started": "2022-10-16T08:19:10.169996Z"
    },
    "papermill": {
     "duration": null,
     "end_time": null,
     "exception": null,
     "start_time": null,
     "status": "pending"
    },
    "tags": []
   },
   "outputs": [],
   "source": [
    "# Random Module\n",
    "import random"
   ]
  },
  {
   "cell_type": "code",
   "execution_count": null,
   "id": "5ae0f62c",
   "metadata": {
    "execution": {
     "iopub.execute_input": "2022-10-16T08:24:25.949466Z",
     "iopub.status.busy": "2022-10-16T08:24:25.949103Z",
     "iopub.status.idle": "2022-10-16T08:24:25.955725Z",
     "shell.execute_reply": "2022-10-16T08:24:25.955056Z",
     "shell.execute_reply.started": "2022-10-16T08:24:25.949437Z"
    },
    "papermill": {
     "duration": null,
     "end_time": null,
     "exception": null,
     "start_time": null,
     "status": "pending"
    },
    "tags": []
   },
   "outputs": [],
   "source": [
    "# Use of number of functions in random module\n",
    "a = [1,2,3,4]\n",
    "print(random.randint(1,50)) # to generate random numbers between 1 and 50\n",
    "random.shuffle(a)\n",
    "a"
   ]
  },
  {
   "cell_type": "code",
   "execution_count": null,
   "id": "2afac501",
   "metadata": {
    "execution": {
     "iopub.execute_input": "2022-10-16T08:28:40.541375Z",
     "iopub.status.busy": "2022-10-16T08:28:40.540924Z",
     "iopub.status.idle": "2022-10-16T08:28:40.545406Z",
     "shell.execute_reply": "2022-10-16T08:28:40.544622Z",
     "shell.execute_reply.started": "2022-10-16T08:28:40.541340Z"
    },
    "papermill": {
     "duration": null,
     "end_time": null,
     "exception": null,
     "start_time": null,
     "status": "pending"
    },
    "tags": []
   },
   "outputs": [],
   "source": [
    "# Time Module\n",
    "import time"
   ]
  },
  {
   "cell_type": "code",
   "execution_count": null,
   "id": "966e6914",
   "metadata": {
    "execution": {
     "iopub.execute_input": "2022-10-16T08:37:45.197419Z",
     "iopub.status.busy": "2022-10-16T08:37:45.196486Z",
     "iopub.status.idle": "2022-10-16T08:37:45.203569Z",
     "shell.execute_reply": "2022-10-16T08:37:45.202334Z",
     "shell.execute_reply.started": "2022-10-16T08:37:45.197370Z"
    },
    "papermill": {
     "duration": null,
     "end_time": null,
     "exception": null,
     "start_time": null,
     "status": "pending"
    },
    "tags": []
   },
   "outputs": [],
   "source": [
    "print(time.time()) # time from 1st Jan, 1970  in seconds\n",
    "print(time.ctime()) # current time\n",
    "print(time.localtime())"
   ]
  },
  {
   "cell_type": "code",
   "execution_count": null,
   "id": "b32ef675",
   "metadata": {
    "execution": {
     "iopub.execute_input": "2022-10-16T08:33:59.750664Z",
     "iopub.status.busy": "2022-10-16T08:33:59.749629Z",
     "iopub.status.idle": "2022-10-16T08:34:04.760504Z",
     "shell.execute_reply": "2022-10-16T08:34:04.759328Z",
     "shell.execute_reply.started": "2022-10-16T08:33:59.750627Z"
    },
    "papermill": {
     "duration": null,
     "end_time": null,
     "exception": null,
     "start_time": null,
     "status": "pending"
    },
    "tags": []
   },
   "outputs": [],
   "source": [
    "print('Hello')\n",
    "time.sleep(5)   # Delay between two print outputs of 5 seconds\n",
    "print('World')"
   ]
  },
  {
   "cell_type": "code",
   "execution_count": null,
   "id": "a4d1d5bb",
   "metadata": {
    "execution": {
     "iopub.execute_input": "2022-10-16T08:39:00.743147Z",
     "iopub.status.busy": "2022-10-16T08:39:00.742103Z",
     "iopub.status.idle": "2022-10-16T08:39:00.748082Z",
     "shell.execute_reply": "2022-10-16T08:39:00.746820Z",
     "shell.execute_reply.started": "2022-10-16T08:39:00.743089Z"
    },
    "papermill": {
     "duration": null,
     "end_time": null,
     "exception": null,
     "start_time": null,
     "status": "pending"
    },
    "tags": []
   },
   "outputs": [],
   "source": [
    "# os module\n",
    "import os"
   ]
  },
  {
   "cell_type": "code",
   "execution_count": null,
   "id": "8c10f410",
   "metadata": {
    "execution": {
     "iopub.execute_input": "2022-10-16T08:40:15.631498Z",
     "iopub.status.busy": "2022-10-16T08:40:15.631018Z",
     "iopub.status.idle": "2022-10-16T08:40:15.638483Z",
     "shell.execute_reply": "2022-10-16T08:40:15.636851Z",
     "shell.execute_reply.started": "2022-10-16T08:40:15.631456Z"
    },
    "papermill": {
     "duration": null,
     "end_time": null,
     "exception": null,
     "start_time": null,
     "status": "pending"
    },
    "tags": []
   },
   "outputs": [],
   "source": [
    "print(os.getcwd())  # to print current working directory\n",
    "print(os.listdir())  # converting files into directory"
   ]
  },
  {
   "cell_type": "markdown",
   "id": "168bd80e",
   "metadata": {
    "papermill": {
     "duration": null,
     "end_time": null,
     "exception": null,
     "start_time": null,
     "status": "pending"
    },
    "tags": []
   },
   "source": [
    "# Python Strings"
   ]
  },
  {
   "cell_type": "markdown",
   "id": "ad1db599",
   "metadata": {
    "papermill": {
     "duration": null,
     "end_time": null,
     "exception": null,
     "start_time": null,
     "status": "pending"
    },
    "tags": []
   },
   "source": [
    "**Strings are sequence of characters. In Python, strings are sequence of unicode characters.<br>\n",
    "Machine understands binary vlaues. So we first convert strings into ASCII values and then into binary values.<br>\n",
    "Strings are immutable**"
   ]
  },
  {
   "cell_type": "markdown",
   "id": "030d90e6",
   "metadata": {
    "papermill": {
     "duration": null,
     "end_time": null,
     "exception": null,
     "start_time": null,
     "status": "pending"
    },
    "tags": []
   },
   "source": [
    "<h3> 1 - Creating a String"
   ]
  },
  {
   "cell_type": "code",
   "execution_count": null,
   "id": "f985c17e",
   "metadata": {
    "execution": {
     "iopub.execute_input": "2022-10-15T15:16:25.327335Z",
     "iopub.status.busy": "2022-10-15T15:16:25.326941Z",
     "iopub.status.idle": "2022-10-15T15:16:25.337025Z",
     "shell.execute_reply": "2022-10-15T15:16:25.335662Z",
     "shell.execute_reply.started": "2022-10-15T15:16:25.327304Z"
    },
    "papermill": {
     "duration": null,
     "end_time": null,
     "exception": null,
     "start_time": null,
     "status": "pending"
    },
    "tags": []
   },
   "outputs": [],
   "source": [
    "city = 'Lahore'   # Using single inverted commas\n",
    "city"
   ]
  },
  {
   "cell_type": "code",
   "execution_count": null,
   "id": "18b27440",
   "metadata": {
    "execution": {
     "iopub.execute_input": "2022-10-16T09:04:30.391243Z",
     "iopub.status.busy": "2022-10-16T09:04:30.390840Z",
     "iopub.status.idle": "2022-10-16T09:04:30.398869Z",
     "shell.execute_reply": "2022-10-16T09:04:30.397729Z",
     "shell.execute_reply.started": "2022-10-16T09:04:30.391211Z"
    },
    "papermill": {
     "duration": null,
     "end_time": null,
     "exception": null,
     "start_time": null,
     "status": "pending"
    },
    "tags": []
   },
   "outputs": [],
   "source": [
    "city = \"Lahore\"  # Using double inverted commas. The importance of double inverted commas comes when we need to write (\"It's a good book\") - where apostrophy is used\n",
    "city"
   ]
  },
  {
   "cell_type": "code",
   "execution_count": null,
   "id": "21e7c300",
   "metadata": {
    "execution": {
     "iopub.execute_input": "2022-10-15T15:22:02.767393Z",
     "iopub.status.busy": "2022-10-15T15:22:02.766992Z",
     "iopub.status.idle": "2022-10-15T15:22:02.774821Z",
     "shell.execute_reply": "2022-10-15T15:22:02.773596Z",
     "shell.execute_reply.started": "2022-10-15T15:22:02.767360Z"
    },
    "papermill": {
     "duration": null,
     "end_time": null,
     "exception": null,
     "start_time": null,
     "status": "pending"
    },
    "tags": []
   },
   "outputs": [],
   "source": [
    "city = '''Lahore'''  # Using triple single inverted commas - mostly triple inverted commas are used to write multi line string or paragraph\n",
    "city"
   ]
  },
  {
   "cell_type": "code",
   "execution_count": null,
   "id": "1e032806",
   "metadata": {
    "execution": {
     "iopub.execute_input": "2022-10-15T15:22:05.765367Z",
     "iopub.status.busy": "2022-10-15T15:22:05.764980Z",
     "iopub.status.idle": "2022-10-15T15:22:05.773626Z",
     "shell.execute_reply": "2022-10-15T15:22:05.772387Z",
     "shell.execute_reply.started": "2022-10-15T15:22:05.765336Z"
    },
    "papermill": {
     "duration": null,
     "end_time": null,
     "exception": null,
     "start_time": null,
     "status": "pending"
    },
    "tags": []
   },
   "outputs": [],
   "source": [
    "city = \"\"\"Lahore\"\"\"  # # Using triple double inverted commas - mostly triple inverted commas are used to write multi line string or paragraph\n",
    "city"
   ]
  },
  {
   "cell_type": "code",
   "execution_count": null,
   "id": "17dbc555",
   "metadata": {
    "execution": {
     "iopub.execute_input": "2022-10-15T15:25:20.594464Z",
     "iopub.status.busy": "2022-10-15T15:25:20.594050Z",
     "iopub.status.idle": "2022-10-15T15:25:20.601340Z",
     "shell.execute_reply": "2022-10-15T15:25:20.600379Z",
     "shell.execute_reply.started": "2022-10-15T15:25:20.594427Z"
    },
    "papermill": {
     "duration": null,
     "end_time": null,
     "exception": null,
     "start_time": null,
     "status": "pending"
    },
    "tags": []
   },
   "outputs": [],
   "source": [
    "city = str('Lahore')  # Using str function\n",
    "city"
   ]
  },
  {
   "cell_type": "code",
   "execution_count": null,
   "id": "8d461df5",
   "metadata": {
    "execution": {
     "iopub.execute_input": "2022-10-15T15:25:27.019168Z",
     "iopub.status.busy": "2022-10-15T15:25:27.018777Z",
     "iopub.status.idle": "2022-10-15T15:25:27.026929Z",
     "shell.execute_reply": "2022-10-15T15:25:27.025477Z",
     "shell.execute_reply.started": "2022-10-15T15:25:27.019138Z"
    },
    "papermill": {
     "duration": null,
     "end_time": null,
     "exception": null,
     "start_time": null,
     "status": "pending"
    },
    "tags": []
   },
   "outputs": [],
   "source": [
    "str(7)"
   ]
  },
  {
   "cell_type": "markdown",
   "id": "7f94f5db",
   "metadata": {
    "papermill": {
     "duration": null,
     "end_time": null,
     "exception": null,
     "start_time": null,
     "status": "pending"
    },
    "tags": []
   },
   "source": [
    "<h3> 2 - Accessing Substrings from a String"
   ]
  },
  {
   "cell_type": "code",
   "execution_count": null,
   "id": "ee15fcba",
   "metadata": {
    "execution": {
     "iopub.execute_input": "2022-10-15T15:27:38.220525Z",
     "iopub.status.busy": "2022-10-15T15:27:38.219964Z",
     "iopub.status.idle": "2022-10-15T15:27:38.228257Z",
     "shell.execute_reply": "2022-10-15T15:27:38.226802Z",
     "shell.execute_reply.started": "2022-10-15T15:27:38.220482Z"
    },
    "papermill": {
     "duration": null,
     "end_time": null,
     "exception": null,
     "start_time": null,
     "status": "pending"
    },
    "tags": []
   },
   "outputs": [],
   "source": [
    "city = str()  # Empty string\n",
    "city"
   ]
  },
  {
   "cell_type": "markdown",
   "id": "7f1eeb11",
   "metadata": {
    "papermill": {
     "duration": null,
     "end_time": null,
     "exception": null,
     "start_time": null,
     "status": "pending"
    },
    "tags": []
   },
   "source": [
    "* <h4> Indexing"
   ]
  },
  {
   "cell_type": "markdown",
   "id": "e3456a6b",
   "metadata": {
    "papermill": {
     "duration": null,
     "end_time": null,
     "exception": null,
     "start_time": null,
     "status": "pending"
    },
    "tags": []
   },
   "source": [
    "**Types of Indexing: <br>\n",
    "i - Positive Indexing - strarting from 0, from left to right<br>\n",
    "ii - Negative Indexing - starting from -1, from right to left**"
   ]
  },
  {
   "cell_type": "markdown",
   "id": "67efffa4",
   "metadata": {
    "papermill": {
     "duration": null,
     "end_time": null,
     "exception": null,
     "start_time": null,
     "status": "pending"
    },
    "tags": []
   },
   "source": [
    "**Pyhton stores string in a form index**"
   ]
  },
  {
   "cell_type": "code",
   "execution_count": null,
   "id": "5662a029",
   "metadata": {
    "execution": {
     "iopub.execute_input": "2022-10-16T09:07:17.094251Z",
     "iopub.status.busy": "2022-10-16T09:07:17.093432Z",
     "iopub.status.idle": "2022-10-16T09:07:17.100039Z",
     "shell.execute_reply": "2022-10-16T09:07:17.099169Z",
     "shell.execute_reply.started": "2022-10-16T09:07:17.094211Z"
    },
    "papermill": {
     "duration": null,
     "end_time": null,
     "exception": null,
     "start_time": null,
     "status": "pending"
    },
    "tags": []
   },
   "outputs": [],
   "source": [
    "city = 'Lahore'\n",
    "print(city [0])\n",
    "print(city [4])\n",
    "print(city [-3])  # to print 3rd last character"
   ]
  },
  {
   "cell_type": "code",
   "execution_count": null,
   "id": "eee18c9d",
   "metadata": {
    "execution": {
     "iopub.execute_input": "2022-10-16T09:08:21.672611Z",
     "iopub.status.busy": "2022-10-16T09:08:21.672179Z",
     "iopub.status.idle": "2022-10-16T09:08:21.780554Z",
     "shell.execute_reply": "2022-10-16T09:08:21.779257Z",
     "shell.execute_reply.started": "2022-10-16T09:08:21.672576Z"
    },
    "papermill": {
     "duration": null,
     "end_time": null,
     "exception": null,
     "start_time": null,
     "status": "pending"
    },
    "tags": []
   },
   "outputs": [],
   "source": [
    "print(city[6])  # The error shows that we don't have 6th index character"
   ]
  },
  {
   "cell_type": "markdown",
   "id": "43e2b528",
   "metadata": {
    "papermill": {
     "duration": null,
     "end_time": null,
     "exception": null,
     "start_time": null,
     "status": "pending"
    },
    "tags": []
   },
   "source": [
    "* <h4> Slicing"
   ]
  },
  {
   "cell_type": "markdown",
   "id": "07d38bd9",
   "metadata": {
    "papermill": {
     "duration": null,
     "end_time": null,
     "exception": null,
     "start_time": null,
     "status": "pending"
    },
    "tags": []
   },
   "source": [
    "**To extracting string from the given string**"
   ]
  },
  {
   "cell_type": "code",
   "execution_count": null,
   "id": "57b97a98",
   "metadata": {
    "execution": {
     "iopub.execute_input": "2022-10-16T09:25:28.872186Z",
     "iopub.status.busy": "2022-10-16T09:25:28.871496Z",
     "iopub.status.idle": "2022-10-16T09:25:28.879590Z",
     "shell.execute_reply": "2022-10-16T09:25:28.878657Z",
     "shell.execute_reply.started": "2022-10-16T09:25:28.872152Z"
    },
    "papermill": {
     "duration": null,
     "end_time": null,
     "exception": null,
     "start_time": null,
     "status": "pending"
    },
    "tags": []
   },
   "outputs": [],
   "source": [
    "city1 = 'Karachiisbeautifulcity'\n",
    "print(city [1:])\n",
    "print(city[:3])\n",
    "print(city[-3:-1])\n",
    "print(city[-2:])\n",
    "print(city[:-3])\n",
    "print(city[:])  # to print whole string\n",
    "print(city[1:5:2])\n",
    "print(city1[0:10:3])\n",
    "print(city1[-5:-1:2])\n",
    "print(city1[0:6:-1])  # it will print out empty string because starting and final should be in negative also\n",
    "print(city1[::2])\n",
    "print(city1[::-1]) # to print the reverse string\n",
    "print(city1[-1:-5:-1]) # reverse order"
   ]
  },
  {
   "cell_type": "markdown",
   "id": "2e5c9642",
   "metadata": {
    "papermill": {
     "duration": null,
     "end_time": null,
     "exception": null,
     "start_time": null,
     "status": "pending"
    },
    "tags": []
   },
   "source": [
    "**Difference Between Indexing and Slicing:<br>\n",
    " Indexing is used to obtain individual elements whereas Slicing is used to obtain a sequence of elements.**"
   ]
  },
  {
   "cell_type": "markdown",
   "id": "9c1c44e3",
   "metadata": {
    "papermill": {
     "duration": null,
     "end_time": null,
     "exception": null,
     "start_time": null,
     "status": "pending"
    },
    "tags": []
   },
   "source": [
    "<h3> 3 - Deletion and Editing a String"
   ]
  },
  {
   "cell_type": "code",
   "execution_count": null,
   "id": "cb4c14e7",
   "metadata": {
    "execution": {
     "iopub.execute_input": "2022-10-15T15:52:40.607748Z",
     "iopub.status.busy": "2022-10-15T15:52:40.607342Z",
     "iopub.status.idle": "2022-10-15T15:52:40.612055Z",
     "shell.execute_reply": "2022-10-15T15:52:40.611164Z",
     "shell.execute_reply.started": "2022-10-15T15:52:40.607699Z"
    },
    "papermill": {
     "duration": null,
     "end_time": null,
     "exception": null,
     "start_time": null,
     "status": "pending"
    },
    "tags": []
   },
   "outputs": [],
   "source": [
    "city = 'Islamabad'"
   ]
  },
  {
   "cell_type": "code",
   "execution_count": null,
   "id": "c4682df7",
   "metadata": {
    "execution": {
     "iopub.execute_input": "2022-10-15T15:52:54.852337Z",
     "iopub.status.busy": "2022-10-15T15:52:54.851133Z",
     "iopub.status.idle": "2022-10-15T15:52:54.870313Z",
     "shell.execute_reply": "2022-10-15T15:52:54.868317Z",
     "shell.execute_reply.started": "2022-10-15T15:52:54.852285Z"
    },
    "papermill": {
     "duration": null,
     "end_time": null,
     "exception": null,
     "start_time": null,
     "status": "pending"
    },
    "tags": []
   },
   "outputs": [],
   "source": [
    "city[0] = 'F'  # Updating the 0th index value of city with F"
   ]
  },
  {
   "cell_type": "markdown",
   "id": "38cf92b9",
   "metadata": {
    "papermill": {
     "duration": null,
     "end_time": null,
     "exception": null,
     "start_time": null,
     "status": "pending"
    },
    "tags": []
   },
   "source": [
    "**The error shows that strings in python are immutable data type or can't be changed.**"
   ]
  },
  {
   "cell_type": "code",
   "execution_count": null,
   "id": "8e7712fb",
   "metadata": {
    "execution": {
     "iopub.execute_input": "2022-10-15T15:56:10.988074Z",
     "iopub.status.busy": "2022-10-15T15:56:10.987641Z",
     "iopub.status.idle": "2022-10-15T15:56:11.005127Z",
     "shell.execute_reply": "2022-10-15T15:56:11.003239Z",
     "shell.execute_reply.started": "2022-10-15T15:56:10.988040Z"
    },
    "papermill": {
     "duration": null,
     "end_time": null,
     "exception": null,
     "start_time": null,
     "status": "pending"
    },
    "tags": []
   },
   "outputs": [],
   "source": [
    "city[0] = \"Tpk\""
   ]
  },
  {
   "cell_type": "code",
   "execution_count": null,
   "id": "2101da5f",
   "metadata": {
    "execution": {
     "iopub.execute_input": "2022-10-15T15:56:51.096037Z",
     "iopub.status.busy": "2022-10-15T15:56:51.095085Z",
     "iopub.status.idle": "2022-10-15T15:56:51.102589Z",
     "shell.execute_reply": "2022-10-15T15:56:51.101771Z",
     "shell.execute_reply.started": "2022-10-15T15:56:51.095989Z"
    },
    "papermill": {
     "duration": null,
     "end_time": null,
     "exception": null,
     "start_time": null,
     "status": "pending"
    },
    "tags": []
   },
   "outputs": [],
   "source": [
    "# But we can reassign any other string\n",
    "city = 'Karachi'\n",
    "city"
   ]
  },
  {
   "cell_type": "code",
   "execution_count": null,
   "id": "171c76be",
   "metadata": {
    "execution": {
     "iopub.execute_input": "2022-10-15T15:57:55.798247Z",
     "iopub.status.busy": "2022-10-15T15:57:55.797829Z",
     "iopub.status.idle": "2022-10-15T15:57:55.803702Z",
     "shell.execute_reply": "2022-10-15T15:57:55.802207Z",
     "shell.execute_reply.started": "2022-10-15T15:57:55.798214Z"
    },
    "papermill": {
     "duration": null,
     "end_time": null,
     "exception": null,
     "start_time": null,
     "status": "pending"
    },
    "tags": []
   },
   "outputs": [],
   "source": [
    "# To comletely delete string, use del keyword\n",
    "del city"
   ]
  },
  {
   "cell_type": "code",
   "execution_count": null,
   "id": "1939b2ca",
   "metadata": {
    "execution": {
     "iopub.execute_input": "2022-10-15T15:58:00.229948Z",
     "iopub.status.busy": "2022-10-15T15:58:00.229465Z",
     "iopub.status.idle": "2022-10-15T15:58:00.245444Z",
     "shell.execute_reply": "2022-10-15T15:58:00.243772Z",
     "shell.execute_reply.started": "2022-10-15T15:58:00.229910Z"
    },
    "papermill": {
     "duration": null,
     "end_time": null,
     "exception": null,
     "start_time": null,
     "status": "pending"
    },
    "tags": []
   },
   "outputs": [],
   "source": [
    "city  # The error shows that string in city variable has been deleted permanently."
   ]
  },
  {
   "cell_type": "code",
   "execution_count": null,
   "id": "7caf7375",
   "metadata": {
    "execution": {
     "iopub.execute_input": "2022-10-15T15:59:05.766380Z",
     "iopub.status.busy": "2022-10-15T15:59:05.765947Z",
     "iopub.status.idle": "2022-10-15T15:59:05.782766Z",
     "shell.execute_reply": "2022-10-15T15:59:05.781342Z",
     "shell.execute_reply.started": "2022-10-15T15:59:05.766345Z"
    },
    "papermill": {
     "duration": null,
     "end_time": null,
     "exception": null,
     "start_time": null,
     "status": "pending"
    },
    "tags": []
   },
   "outputs": [],
   "source": [
    "city = 'Islamabad'\n",
    "del city[0]"
   ]
  },
  {
   "cell_type": "markdown",
   "id": "49df8871",
   "metadata": {
    "papermill": {
     "duration": null,
     "end_time": null,
     "exception": null,
     "start_time": null,
     "status": "pending"
    },
    "tags": []
   },
   "source": [
    "**In python, parts of string also can't be deleted as we can't edit part of string. Only entire string can be deleted.**"
   ]
  },
  {
   "cell_type": "markdown",
   "id": "7fca0325",
   "metadata": {
    "papermill": {
     "duration": null,
     "end_time": null,
     "exception": null,
     "start_time": null,
     "status": "pending"
    },
    "tags": []
   },
   "source": [
    "<h3> 4 - String Operations"
   ]
  },
  {
   "cell_type": "code",
   "execution_count": null,
   "id": "a333b646",
   "metadata": {
    "execution": {
     "iopub.execute_input": "2022-10-15T16:06:57.249041Z",
     "iopub.status.busy": "2022-10-15T16:06:57.248331Z",
     "iopub.status.idle": "2022-10-15T16:06:57.253965Z",
     "shell.execute_reply": "2022-10-15T16:06:57.253093Z",
     "shell.execute_reply.started": "2022-10-15T16:06:57.248992Z"
    },
    "papermill": {
     "duration": null,
     "end_time": null,
     "exception": null,
     "start_time": null,
     "status": "pending"
    },
    "tags": []
   },
   "outputs": [],
   "source": [
    "city1 = 'Islamabad'\n",
    "city2 = 'Lahore'"
   ]
  },
  {
   "cell_type": "markdown",
   "id": "a96118d2",
   "metadata": {
    "papermill": {
     "duration": null,
     "end_time": null,
     "exception": null,
     "start_time": null,
     "status": "pending"
    },
    "tags": []
   },
   "source": [
    "**i - Arithmatic Operations**"
   ]
  },
  {
   "cell_type": "markdown",
   "id": "23cc9305",
   "metadata": {
    "papermill": {
     "duration": null,
     "end_time": null,
     "exception": null,
     "start_time": null,
     "status": "pending"
    },
    "tags": []
   },
   "source": [
    "* **Multiplication**"
   ]
  },
  {
   "cell_type": "code",
   "execution_count": null,
   "id": "8dd2c763",
   "metadata": {
    "execution": {
     "iopub.execute_input": "2022-10-15T16:07:12.812515Z",
     "iopub.status.busy": "2022-10-15T16:07:12.812112Z",
     "iopub.status.idle": "2022-10-15T16:07:12.820119Z",
     "shell.execute_reply": "2022-10-15T16:07:12.818664Z",
     "shell.execute_reply.started": "2022-10-15T16:07:12.812485Z"
    },
    "papermill": {
     "duration": null,
     "end_time": null,
     "exception": null,
     "start_time": null,
     "status": "pending"
    },
    "tags": []
   },
   "outputs": [],
   "source": [
    "city1 * 3"
   ]
  },
  {
   "cell_type": "code",
   "execution_count": null,
   "id": "1b488ca3",
   "metadata": {
    "execution": {
     "iopub.execute_input": "2022-10-16T09:52:37.092818Z",
     "iopub.status.busy": "2022-10-16T09:52:37.091775Z",
     "iopub.status.idle": "2022-10-16T09:52:37.098843Z",
     "shell.execute_reply": "2022-10-16T09:52:37.097544Z",
     "shell.execute_reply.started": "2022-10-16T09:52:37.092770Z"
    },
    "papermill": {
     "duration": null,
     "end_time": null,
     "exception": null,
     "start_time": null,
     "status": "pending"
    },
    "tags": []
   },
   "outputs": [],
   "source": [
    "print('*' * 50)"
   ]
  },
  {
   "cell_type": "code",
   "execution_count": null,
   "id": "1a5adfee",
   "metadata": {
    "execution": {
     "iopub.execute_input": "2022-10-15T16:06:30.186831Z",
     "iopub.status.busy": "2022-10-15T16:06:30.186317Z",
     "iopub.status.idle": "2022-10-15T16:06:30.203642Z",
     "shell.execute_reply": "2022-10-15T16:06:30.201882Z",
     "shell.execute_reply.started": "2022-10-15T16:06:30.186792Z"
    },
    "papermill": {
     "duration": null,
     "end_time": null,
     "exception": null,
     "start_time": null,
     "status": "pending"
    },
    "tags": []
   },
   "outputs": [],
   "source": [
    "city1 * city2"
   ]
  },
  {
   "cell_type": "markdown",
   "id": "1aca89bb",
   "metadata": {
    "papermill": {
     "duration": null,
     "end_time": null,
     "exception": null,
     "start_time": null,
     "status": "pending"
    },
    "tags": []
   },
   "source": [
    "* **Addition**"
   ]
  },
  {
   "cell_type": "code",
   "execution_count": null,
   "id": "6e12eeb5",
   "metadata": {
    "execution": {
     "iopub.execute_input": "2022-10-15T16:08:11.431325Z",
     "iopub.status.busy": "2022-10-15T16:08:11.430945Z",
     "iopub.status.idle": "2022-10-15T16:08:11.447330Z",
     "shell.execute_reply": "2022-10-15T16:08:11.446284Z",
     "shell.execute_reply.started": "2022-10-15T16:08:11.431295Z"
    },
    "papermill": {
     "duration": null,
     "end_time": null,
     "exception": null,
     "start_time": null,
     "status": "pending"
    },
    "tags": []
   },
   "outputs": [],
   "source": [
    "city1 + 2"
   ]
  },
  {
   "cell_type": "code",
   "execution_count": null,
   "id": "39fc2dac",
   "metadata": {
    "execution": {
     "iopub.execute_input": "2022-10-15T16:08:30.345967Z",
     "iopub.status.busy": "2022-10-15T16:08:30.345218Z",
     "iopub.status.idle": "2022-10-15T16:08:30.353378Z",
     "shell.execute_reply": "2022-10-15T16:08:30.352061Z",
     "shell.execute_reply.started": "2022-10-15T16:08:30.345925Z"
    },
    "papermill": {
     "duration": null,
     "end_time": null,
     "exception": null,
     "start_time": null,
     "status": "pending"
    },
    "tags": []
   },
   "outputs": [],
   "source": [
    "city1 + city2    # This is called as String Concatenation"
   ]
  },
  {
   "cell_type": "code",
   "execution_count": null,
   "id": "a538f184",
   "metadata": {
    "execution": {
     "iopub.execute_input": "2022-10-16T09:44:45.636073Z",
     "iopub.status.busy": "2022-10-16T09:44:45.635638Z",
     "iopub.status.idle": "2022-10-16T09:44:45.644413Z",
     "shell.execute_reply": "2022-10-16T09:44:45.643257Z",
     "shell.execute_reply.started": "2022-10-16T09:44:45.636009Z"
    },
    "papermill": {
     "duration": null,
     "end_time": null,
     "exception": null,
     "start_time": null,
     "status": "pending"
    },
    "tags": []
   },
   "outputs": [],
   "source": [
    "'Hello' + 'Beautiful' + 'World'"
   ]
  },
  {
   "cell_type": "markdown",
   "id": "073619e0",
   "metadata": {
    "papermill": {
     "duration": null,
     "end_time": null,
     "exception": null,
     "start_time": null,
     "status": "pending"
    },
    "tags": []
   },
   "source": [
    "* **Difference**"
   ]
  },
  {
   "cell_type": "markdown",
   "id": "6b5aadbb",
   "metadata": {
    "papermill": {
     "duration": null,
     "end_time": null,
     "exception": null,
     "start_time": null,
     "status": "pending"
    },
    "tags": []
   },
   "source": [
    "**Subtraction doesn't work**"
   ]
  },
  {
   "cell_type": "code",
   "execution_count": null,
   "id": "294cdf3c",
   "metadata": {
    "execution": {
     "iopub.execute_input": "2022-10-15T16:10:13.834658Z",
     "iopub.status.busy": "2022-10-15T16:10:13.834205Z",
     "iopub.status.idle": "2022-10-15T16:10:13.851465Z",
     "shell.execute_reply": "2022-10-15T16:10:13.849808Z",
     "shell.execute_reply.started": "2022-10-15T16:10:13.834619Z"
    },
    "papermill": {
     "duration": null,
     "end_time": null,
     "exception": null,
     "start_time": null,
     "status": "pending"
    },
    "tags": []
   },
   "outputs": [],
   "source": [
    "city1 - 1"
   ]
  },
  {
   "cell_type": "code",
   "execution_count": null,
   "id": "e123dcfb",
   "metadata": {
    "execution": {
     "iopub.execute_input": "2022-10-15T16:10:23.395992Z",
     "iopub.status.busy": "2022-10-15T16:10:23.395149Z",
     "iopub.status.idle": "2022-10-15T16:10:23.411305Z",
     "shell.execute_reply": "2022-10-15T16:10:23.409444Z",
     "shell.execute_reply.started": "2022-10-15T16:10:23.395947Z"
    },
    "papermill": {
     "duration": null,
     "end_time": null,
     "exception": null,
     "start_time": null,
     "status": "pending"
    },
    "tags": []
   },
   "outputs": [],
   "source": [
    "city1 - city2"
   ]
  },
  {
   "cell_type": "markdown",
   "id": "06ceb93b",
   "metadata": {
    "papermill": {
     "duration": null,
     "end_time": null,
     "exception": null,
     "start_time": null,
     "status": "pending"
    },
    "tags": []
   },
   "source": [
    "* **Division**"
   ]
  },
  {
   "cell_type": "markdown",
   "id": "df7b52d8",
   "metadata": {
    "papermill": {
     "duration": null,
     "end_time": null,
     "exception": null,
     "start_time": null,
     "status": "pending"
    },
    "tags": []
   },
   "source": [
    "**Division also does not apply in strings**"
   ]
  },
  {
   "cell_type": "code",
   "execution_count": null,
   "id": "34921abc",
   "metadata": {
    "execution": {
     "iopub.execute_input": "2022-10-16T09:55:19.031581Z",
     "iopub.status.busy": "2022-10-16T09:55:19.030435Z",
     "iopub.status.idle": "2022-10-16T09:55:19.136599Z",
     "shell.execute_reply": "2022-10-16T09:55:19.135284Z",
     "shell.execute_reply.started": "2022-10-16T09:55:19.031532Z"
    },
    "papermill": {
     "duration": null,
     "end_time": null,
     "exception": null,
     "start_time": null,
     "status": "pending"
    },
    "tags": []
   },
   "outputs": [],
   "source": [
    "city = 'Lahore'\n",
    "city1 = 'Lah'\n",
    "\n",
    "print(city/city1)"
   ]
  },
  {
   "cell_type": "markdown",
   "id": "da25fcc7",
   "metadata": {
    "papermill": {
     "duration": null,
     "end_time": null,
     "exception": null,
     "start_time": null,
     "status": "pending"
    },
    "tags": []
   },
   "source": [
    "* **Power of**"
   ]
  },
  {
   "cell_type": "markdown",
   "id": "b435f26b",
   "metadata": {
    "papermill": {
     "duration": null,
     "end_time": null,
     "exception": null,
     "start_time": null,
     "status": "pending"
    },
    "tags": []
   },
   "source": [
    "**Power also does not apply here in strings**"
   ]
  },
  {
   "cell_type": "code",
   "execution_count": null,
   "id": "ead16b86",
   "metadata": {
    "execution": {
     "iopub.execute_input": "2022-10-15T16:11:16.519580Z",
     "iopub.status.busy": "2022-10-15T16:11:16.519184Z",
     "iopub.status.idle": "2022-10-15T16:11:16.537593Z",
     "shell.execute_reply": "2022-10-15T16:11:16.535793Z",
     "shell.execute_reply.started": "2022-10-15T16:11:16.519548Z"
    },
    "papermill": {
     "duration": null,
     "end_time": null,
     "exception": null,
     "start_time": null,
     "status": "pending"
    },
    "tags": []
   },
   "outputs": [],
   "source": [
    "city1**3"
   ]
  },
  {
   "cell_type": "code",
   "execution_count": null,
   "id": "52f48d7e",
   "metadata": {
    "execution": {
     "iopub.execute_input": "2022-10-16T09:56:22.597214Z",
     "iopub.status.busy": "2022-10-16T09:56:22.596743Z",
     "iopub.status.idle": "2022-10-16T09:56:22.707831Z",
     "shell.execute_reply": "2022-10-16T09:56:22.706347Z",
     "shell.execute_reply.started": "2022-10-16T09:56:22.597180Z"
    },
    "papermill": {
     "duration": null,
     "end_time": null,
     "exception": null,
     "start_time": null,
     "status": "pending"
    },
    "tags": []
   },
   "outputs": [],
   "source": [
    "print(\"@\"**2)"
   ]
  },
  {
   "cell_type": "markdown",
   "id": "d0fcf5d2",
   "metadata": {
    "papermill": {
     "duration": null,
     "end_time": null,
     "exception": null,
     "start_time": null,
     "status": "pending"
    },
    "tags": []
   },
   "source": [
    "**ii - Relational / Comaprison Operations**"
   ]
  },
  {
   "cell_type": "code",
   "execution_count": null,
   "id": "ff329d13",
   "metadata": {
    "execution": {
     "iopub.execute_input": "2022-10-15T16:13:48.137273Z",
     "iopub.status.busy": "2022-10-15T16:13:48.136810Z",
     "iopub.status.idle": "2022-10-15T16:13:48.145236Z",
     "shell.execute_reply": "2022-10-15T16:13:48.143786Z",
     "shell.execute_reply.started": "2022-10-15T16:13:48.137236Z"
    },
    "papermill": {
     "duration": null,
     "end_time": null,
     "exception": null,
     "start_time": null,
     "status": "pending"
    },
    "tags": []
   },
   "outputs": [],
   "source": [
    "\"Islamabad\" > 'Lahore'"
   ]
  },
  {
   "cell_type": "markdown",
   "id": "e5b33911",
   "metadata": {
    "papermill": {
     "duration": null,
     "end_time": null,
     "exception": null,
     "start_time": null,
     "status": "pending"
    },
    "tags": []
   },
   "source": [
    "**The word which comes earlier in dictionary is considered smaller.(This is called checking Lexiographically - which word will come earlier in dictionary) Since Lahore comes later than Islamabad, so Lahore is greater.That's why the result is False**"
   ]
  },
  {
   "cell_type": "code",
   "execution_count": null,
   "id": "9f52b4ab",
   "metadata": {
    "execution": {
     "iopub.execute_input": "2022-10-16T04:57:31.621472Z",
     "iopub.status.busy": "2022-10-16T04:57:31.621017Z",
     "iopub.status.idle": "2022-10-16T04:57:31.653180Z",
     "shell.execute_reply": "2022-10-16T04:57:31.652111Z",
     "shell.execute_reply.started": "2022-10-16T04:57:31.621382Z"
    },
    "papermill": {
     "duration": null,
     "end_time": null,
     "exception": null,
     "start_time": null,
     "status": "pending"
    },
    "tags": []
   },
   "outputs": [],
   "source": [
    "a ='Lahore'\n",
    "b = 'Lahore'\n",
    "c = 'lahore'\n",
    "a == b"
   ]
  },
  {
   "cell_type": "code",
   "execution_count": null,
   "id": "c40f4bc1",
   "metadata": {
    "execution": {
     "iopub.execute_input": "2022-10-16T04:57:34.325556Z",
     "iopub.status.busy": "2022-10-16T04:57:34.325184Z",
     "iopub.status.idle": "2022-10-16T04:57:34.332203Z",
     "shell.execute_reply": "2022-10-16T04:57:34.331005Z",
     "shell.execute_reply.started": "2022-10-16T04:57:34.325525Z"
    },
    "papermill": {
     "duration": null,
     "end_time": null,
     "exception": null,
     "start_time": null,
     "status": "pending"
    },
    "tags": []
   },
   "outputs": [],
   "source": [
    "a == c"
   ]
  },
  {
   "cell_type": "markdown",
   "id": "5eee8000",
   "metadata": {
    "papermill": {
     "duration": null,
     "end_time": null,
     "exception": null,
     "start_time": null,
     "status": "pending"
    },
    "tags": []
   },
   "source": [
    "**The False result shows that python is case sensitive language. It considers differently lowercase and uppercase words.**"
   ]
  },
  {
   "cell_type": "code",
   "execution_count": null,
   "id": "775187da",
   "metadata": {
    "execution": {
     "iopub.execute_input": "2022-10-16T10:02:41.700209Z",
     "iopub.status.busy": "2022-10-16T10:02:41.699375Z",
     "iopub.status.idle": "2022-10-16T10:02:41.707528Z",
     "shell.execute_reply": "2022-10-16T10:02:41.706317Z",
     "shell.execute_reply.started": "2022-10-16T10:02:41.700166Z"
    },
    "papermill": {
     "duration": null,
     "end_time": null,
     "exception": null,
     "start_time": null,
     "status": "pending"
    },
    "tags": []
   },
   "outputs": [],
   "source": [
    "\"kol\" > \"Kol\"  # Since capital letters comes earlier so Kol with capital letter is smaller than kol with small letter"
   ]
  },
  {
   "cell_type": "code",
   "execution_count": null,
   "id": "1afecebb",
   "metadata": {
    "papermill": {
     "duration": null,
     "end_time": null,
     "exception": null,
     "start_time": null,
     "status": "pending"
    },
    "tags": []
   },
   "outputs": [],
   "source": []
  },
  {
   "cell_type": "markdown",
   "id": "8af41c81",
   "metadata": {
    "papermill": {
     "duration": null,
     "end_time": null,
     "exception": null,
     "start_time": null,
     "status": "pending"
    },
    "tags": []
   },
   "source": [
    "<h3> 4 - Logical Operations"
   ]
  },
  {
   "cell_type": "markdown",
   "id": "b709b68f",
   "metadata": {
    "papermill": {
     "duration": null,
     "end_time": null,
     "exception": null,
     "start_time": null,
     "status": "pending"
    },
    "tags": []
   },
   "source": [
    "**Python considers empty string False and non-empty string as True**"
   ]
  },
  {
   "cell_type": "code",
   "execution_count": null,
   "id": "5ba808d7",
   "metadata": {
    "execution": {
     "iopub.execute_input": "2022-10-16T10:05:59.316303Z",
     "iopub.status.busy": "2022-10-16T10:05:59.315754Z",
     "iopub.status.idle": "2022-10-16T10:05:59.322999Z",
     "shell.execute_reply": "2022-10-16T10:05:59.321544Z",
     "shell.execute_reply.started": "2022-10-16T10:05:59.316273Z"
    },
    "papermill": {
     "duration": null,
     "end_time": null,
     "exception": null,
     "start_time": null,
     "status": "pending"
    },
    "tags": []
   },
   "outputs": [],
   "source": [
    "\"\" and \"world\"  # It means '0' , '1' It's result will be False.So nothing will print out"
   ]
  },
  {
   "cell_type": "code",
   "execution_count": null,
   "id": "694c317d",
   "metadata": {
    "execution": {
     "iopub.execute_input": "2022-10-16T10:06:51.119153Z",
     "iopub.status.busy": "2022-10-16T10:06:51.118378Z",
     "iopub.status.idle": "2022-10-16T10:06:51.126815Z",
     "shell.execute_reply": "2022-10-16T10:06:51.125457Z",
     "shell.execute_reply.started": "2022-10-16T10:06:51.119110Z"
    },
    "papermill": {
     "duration": null,
     "end_time": null,
     "exception": null,
     "start_time": null,
     "status": "pending"
    },
    "tags": []
   },
   "outputs": [],
   "source": [
    "\"\" or \"world\"  # It's result will be True. So word will be printed out"
   ]
  },
  {
   "cell_type": "code",
   "execution_count": null,
   "id": "506212a2",
   "metadata": {
    "execution": {
     "iopub.execute_input": "2022-10-16T10:10:05.471167Z",
     "iopub.status.busy": "2022-10-16T10:10:05.470734Z",
     "iopub.status.idle": "2022-10-16T10:10:05.477956Z",
     "shell.execute_reply": "2022-10-16T10:10:05.477059Z",
     "shell.execute_reply.started": "2022-10-16T10:10:05.471135Z"
    },
    "papermill": {
     "duration": null,
     "end_time": null,
     "exception": null,
     "start_time": null,
     "status": "pending"
    },
    "tags": []
   },
   "outputs": [],
   "source": [
    "\"hello\" or 'world'  # It means '1' , '1'. Because in start it is one, so hello will be printed out"
   ]
  },
  {
   "cell_type": "code",
   "execution_count": null,
   "id": "b4f51845",
   "metadata": {
    "execution": {
     "iopub.execute_input": "2022-10-16T10:10:51.725876Z",
     "iopub.status.busy": "2022-10-16T10:10:51.725498Z",
     "iopub.status.idle": "2022-10-16T10:10:51.732531Z",
     "shell.execute_reply": "2022-10-16T10:10:51.731309Z",
     "shell.execute_reply.started": "2022-10-16T10:10:51.725848Z"
    },
    "papermill": {
     "duration": null,
     "end_time": null,
     "exception": null,
     "start_time": null,
     "status": "pending"
    },
    "tags": []
   },
   "outputs": [],
   "source": [
    "\"hello\"  and  \"world\"  # Since the truth of this logic comes from second word so second word \"world\" will be printed out"
   ]
  },
  {
   "cell_type": "code",
   "execution_count": null,
   "id": "2129efdc",
   "metadata": {
    "execution": {
     "iopub.execute_input": "2022-10-16T10:11:36.219411Z",
     "iopub.status.busy": "2022-10-16T10:11:36.219019Z",
     "iopub.status.idle": "2022-10-16T10:11:36.226896Z",
     "shell.execute_reply": "2022-10-16T10:11:36.225688Z",
     "shell.execute_reply.started": "2022-10-16T10:11:36.219382Z"
    },
    "papermill": {
     "duration": null,
     "end_time": null,
     "exception": null,
     "start_time": null,
     "status": "pending"
    },
    "tags": []
   },
   "outputs": [],
   "source": [
    "not 'hello'  # It means opposite of True(because of hello word)"
   ]
  },
  {
   "cell_type": "code",
   "execution_count": null,
   "id": "aaaa8a07",
   "metadata": {
    "execution": {
     "iopub.execute_input": "2022-10-16T10:13:00.917234Z",
     "iopub.status.busy": "2022-10-16T10:13:00.916841Z",
     "iopub.status.idle": "2022-10-16T10:13:00.923977Z",
     "shell.execute_reply": "2022-10-16T10:13:00.923001Z",
     "shell.execute_reply.started": "2022-10-16T10:13:00.917205Z"
    },
    "papermill": {
     "duration": null,
     "end_time": null,
     "exception": null,
     "start_time": null,
     "status": "pending"
    },
    "tags": []
   },
   "outputs": [],
   "source": [
    "not \"\"    # It means opposite of False(due to empty string)"
   ]
  },
  {
   "cell_type": "markdown",
   "id": "38c75974",
   "metadata": {
    "papermill": {
     "duration": null,
     "end_time": null,
     "exception": null,
     "start_time": null,
     "status": "pending"
    },
    "tags": []
   },
   "source": [
    "<h3> 6 - String Iteration"
   ]
  },
  {
   "cell_type": "code",
   "execution_count": null,
   "id": "e887e509",
   "metadata": {
    "execution": {
     "iopub.execute_input": "2022-10-15T16:22:38.529610Z",
     "iopub.status.busy": "2022-10-15T16:22:38.528825Z",
     "iopub.status.idle": "2022-10-15T16:22:38.535808Z",
     "shell.execute_reply": "2022-10-15T16:22:38.534392Z",
     "shell.execute_reply.started": "2022-10-15T16:22:38.529566Z"
    },
    "papermill": {
     "duration": null,
     "end_time": null,
     "exception": null,
     "start_time": null,
     "status": "pending"
    },
    "tags": []
   },
   "outputs": [],
   "source": [
    "for i in 'Islamabad':\n",
    "    print(i)"
   ]
  },
  {
   "cell_type": "code",
   "execution_count": null,
   "id": "b26c86a6",
   "metadata": {
    "execution": {
     "iopub.execute_input": "2022-10-16T10:15:57.550946Z",
     "iopub.status.busy": "2022-10-16T10:15:57.549705Z",
     "iopub.status.idle": "2022-10-16T10:15:57.556393Z",
     "shell.execute_reply": "2022-10-16T10:15:57.555641Z",
     "shell.execute_reply.started": "2022-10-16T10:15:57.550899Z"
    },
    "papermill": {
     "duration": null,
     "end_time": null,
     "exception": null,
     "start_time": null,
     "status": "pending"
    },
    "tags": []
   },
   "outputs": [],
   "source": [
    "a = \"Hello World\"\n",
    "for i in a[1:5]:\n",
    "    print(i)"
   ]
  },
  {
   "cell_type": "code",
   "execution_count": null,
   "id": "ac467530",
   "metadata": {
    "execution": {
     "iopub.execute_input": "2022-10-16T10:16:37.803154Z",
     "iopub.status.busy": "2022-10-16T10:16:37.802756Z",
     "iopub.status.idle": "2022-10-16T10:16:37.809629Z",
     "shell.execute_reply": "2022-10-16T10:16:37.808297Z",
     "shell.execute_reply.started": "2022-10-16T10:16:37.803122Z"
    },
    "papermill": {
     "duration": null,
     "end_time": null,
     "exception": null,
     "start_time": null,
     "status": "pending"
    },
    "tags": []
   },
   "outputs": [],
   "source": [
    "for i in a[1::2]:\n",
    "    print(i)"
   ]
  },
  {
   "cell_type": "code",
   "execution_count": null,
   "id": "7cf94ee6",
   "metadata": {
    "execution": {
     "iopub.execute_input": "2022-10-16T10:17:30.857602Z",
     "iopub.status.busy": "2022-10-16T10:17:30.857219Z",
     "iopub.status.idle": "2022-10-16T10:17:30.863847Z",
     "shell.execute_reply": "2022-10-16T10:17:30.862787Z",
     "shell.execute_reply.started": "2022-10-16T10:17:30.857571Z"
    },
    "papermill": {
     "duration": null,
     "end_time": null,
     "exception": null,
     "start_time": null,
     "status": "pending"
    },
    "tags": []
   },
   "outputs": [],
   "source": [
    "for i in a[::-1]:\n",
    "    print(i)"
   ]
  },
  {
   "cell_type": "markdown",
   "id": "1f4ff403",
   "metadata": {
    "papermill": {
     "duration": null,
     "end_time": null,
     "exception": null,
     "start_time": null,
     "status": "pending"
    },
    "tags": []
   },
   "source": [
    "<h3> 7 - Membership Operator"
   ]
  },
  {
   "cell_type": "code",
   "execution_count": null,
   "id": "3ca93358",
   "metadata": {
    "execution": {
     "iopub.execute_input": "2022-10-15T16:24:35.457102Z",
     "iopub.status.busy": "2022-10-15T16:24:35.456631Z",
     "iopub.status.idle": "2022-10-15T16:24:35.464946Z",
     "shell.execute_reply": "2022-10-15T16:24:35.463767Z",
     "shell.execute_reply.started": "2022-10-15T16:24:35.457065Z"
    },
    "papermill": {
     "duration": null,
     "end_time": null,
     "exception": null,
     "start_time": null,
     "status": "pending"
    },
    "tags": []
   },
   "outputs": [],
   "source": [
    "'Isl' in 'Islamabad'"
   ]
  },
  {
   "cell_type": "code",
   "execution_count": null,
   "id": "4eb2dcc2",
   "metadata": {
    "execution": {
     "iopub.execute_input": "2022-10-15T16:24:58.892021Z",
     "iopub.status.busy": "2022-10-15T16:24:58.891608Z",
     "iopub.status.idle": "2022-10-15T16:24:58.899814Z",
     "shell.execute_reply": "2022-10-15T16:24:58.898814Z",
     "shell.execute_reply.started": "2022-10-15T16:24:58.891989Z"
    },
    "papermill": {
     "duration": null,
     "end_time": null,
     "exception": null,
     "start_time": null,
     "status": "pending"
    },
    "tags": []
   },
   "outputs": [],
   "source": [
    "'Ims' in 'Islamabad'"
   ]
  },
  {
   "cell_type": "code",
   "execution_count": null,
   "id": "2465da5e",
   "metadata": {
    "execution": {
     "iopub.execute_input": "2022-10-15T16:25:36.623976Z",
     "iopub.status.busy": "2022-10-15T16:25:36.622896Z",
     "iopub.status.idle": "2022-10-15T16:25:36.630442Z",
     "shell.execute_reply": "2022-10-15T16:25:36.629554Z",
     "shell.execute_reply.started": "2022-10-15T16:25:36.623936Z"
    },
    "papermill": {
     "duration": null,
     "end_time": null,
     "exception": null,
     "start_time": null,
     "status": "pending"
    },
    "tags": []
   },
   "outputs": [],
   "source": [
    "'Ims' not in 'Islamabad'"
   ]
  },
  {
   "cell_type": "markdown",
   "id": "212445a1",
   "metadata": {
    "papermill": {
     "duration": null,
     "end_time": null,
     "exception": null,
     "start_time": null,
     "status": "pending"
    },
    "tags": []
   },
   "source": [
    "<h3> 8 - String Formatting"
   ]
  },
  {
   "cell_type": "code",
   "execution_count": null,
   "id": "18b219ee",
   "metadata": {
    "execution": {
     "iopub.execute_input": "2022-10-15T16:29:29.044513Z",
     "iopub.status.busy": "2022-10-15T16:29:29.044089Z",
     "iopub.status.idle": "2022-10-15T16:29:29.053252Z",
     "shell.execute_reply": "2022-10-15T16:29:29.052293Z",
     "shell.execute_reply.started": "2022-10-15T16:29:29.044478Z"
    },
    "papermill": {
     "duration": null,
     "end_time": null,
     "exception": null,
     "start_time": null,
     "status": "pending"
    },
    "tags": []
   },
   "outputs": [],
   "source": [
    "\"Islamabad is {} city of Pakistan. It got inaugurated in {}.\".format('capital',1960)"
   ]
  },
  {
   "cell_type": "code",
   "execution_count": null,
   "id": "bb626b9e",
   "metadata": {
    "execution": {
     "iopub.execute_input": "2022-10-15T16:31:07.994480Z",
     "iopub.status.busy": "2022-10-15T16:31:07.994028Z",
     "iopub.status.idle": "2022-10-15T16:31:08.001289Z",
     "shell.execute_reply": "2022-10-15T16:31:08.000442Z",
     "shell.execute_reply.started": "2022-10-15T16:31:07.994444Z"
    },
    "papermill": {
     "duration": null,
     "end_time": null,
     "exception": null,
     "start_time": null,
     "status": "pending"
    },
    "tags": []
   },
   "outputs": [],
   "source": [
    "\"Islamabad is {} city of Pakistan. It got inaugurated in {}. Before that, {} was the capital city of Pakistan\".format('capital',1960,'Karachi')"
   ]
  },
  {
   "cell_type": "code",
   "execution_count": null,
   "id": "78f309b6",
   "metadata": {
    "execution": {
     "iopub.execute_input": "2022-10-15T16:34:40.003937Z",
     "iopub.status.busy": "2022-10-15T16:34:40.003479Z",
     "iopub.status.idle": "2022-10-15T16:34:40.010816Z",
     "shell.execute_reply": "2022-10-15T16:34:40.009663Z",
     "shell.execute_reply.started": "2022-10-15T16:34:40.003899Z"
    },
    "papermill": {
     "duration": null,
     "end_time": null,
     "exception": null,
     "start_time": null,
     "status": "pending"
    },
    "tags": []
   },
   "outputs": [],
   "source": [
    "\"Islamabad is {0} city of Pakistan. It got inaugurated in {1}. Before that, it was the {0} city of Pakistan.\".format('capital',1960)"
   ]
  },
  {
   "cell_type": "code",
   "execution_count": null,
   "id": "d1ba4903",
   "metadata": {
    "execution": {
     "iopub.execute_input": "2022-10-15T16:35:46.118686Z",
     "iopub.status.busy": "2022-10-15T16:35:46.118246Z",
     "iopub.status.idle": "2022-10-15T16:35:46.126038Z",
     "shell.execute_reply": "2022-10-15T16:35:46.124907Z",
     "shell.execute_reply.started": "2022-10-15T16:35:46.118646Z"
    },
    "papermill": {
     "duration": null,
     "end_time": null,
     "exception": null,
     "start_time": null,
     "status": "pending"
    },
    "tags": []
   },
   "outputs": [],
   "source": [
    "\"Islamabad is {0} city of Pakistan. It got inaugurated in {0}. Before that, it was the {0} city of Pakistan.\".format('capital',1960)"
   ]
  },
  {
   "cell_type": "code",
   "execution_count": null,
   "id": "13efc69a",
   "metadata": {
    "execution": {
     "iopub.execute_input": "2022-10-16T13:23:14.705422Z",
     "iopub.status.busy": "2022-10-16T13:23:14.705085Z",
     "iopub.status.idle": "2022-10-16T13:23:14.713825Z",
     "shell.execute_reply": "2022-10-16T13:23:14.712632Z",
     "shell.execute_reply.started": "2022-10-16T13:23:14.705397Z"
    },
    "papermill": {
     "duration": null,
     "end_time": null,
     "exception": null,
     "start_time": null,
     "status": "pending"
    },
    "tags": []
   },
   "outputs": [],
   "source": [
    "# Another Method of Formatting:\n",
    "\"Islamabad is a {name} of capital city of Pakistan. It got inaugurated in {Year}.\".format(name = 'city',Year = 1960)"
   ]
  },
  {
   "cell_type": "code",
   "execution_count": null,
   "id": "7fa8fe36",
   "metadata": {
    "execution": {
     "iopub.execute_input": "2022-10-16T13:25:43.178894Z",
     "iopub.status.busy": "2022-10-16T13:25:43.178625Z",
     "iopub.status.idle": "2022-10-16T13:25:43.185111Z",
     "shell.execute_reply": "2022-10-16T13:25:43.184187Z",
     "shell.execute_reply.started": "2022-10-16T13:25:43.178872Z"
    },
    "papermill": {
     "duration": null,
     "end_time": null,
     "exception": null,
     "start_time": null,
     "status": "pending"
    },
    "tags": []
   },
   "outputs": [],
   "source": [
    "\"My name is {name} and I belong to {city}. My weight is {weight}\".format(weight = 60, name = 'Ali',city ='Lahore', country ='Pakistan')"
   ]
  },
  {
   "cell_type": "markdown",
   "id": "e9093f00",
   "metadata": {
    "papermill": {
     "duration": null,
     "end_time": null,
     "exception": null,
     "start_time": null,
     "status": "pending"
    },
    "tags": []
   },
   "source": [
    "<h3> 9 - String Functions"
   ]
  },
  {
   "cell_type": "markdown",
   "id": "07c404c9",
   "metadata": {
    "papermill": {
     "duration": null,
     "end_time": null,
     "exception": null,
     "start_time": null,
     "status": "pending"
    },
    "tags": []
   },
   "source": [
    "**i - Common Functions**"
   ]
  },
  {
   "cell_type": "markdown",
   "id": "988b3533",
   "metadata": {
    "papermill": {
     "duration": null,
     "end_time": null,
     "exception": null,
     "start_time": null,
     "status": "pending"
    },
    "tags": []
   },
   "source": [
    "* **Length Function**"
   ]
  },
  {
   "cell_type": "code",
   "execution_count": null,
   "id": "b85182b0",
   "metadata": {
    "execution": {
     "iopub.execute_input": "2022-10-16T04:58:42.681496Z",
     "iopub.status.busy": "2022-10-16T04:58:42.681042Z",
     "iopub.status.idle": "2022-10-16T04:58:42.685881Z",
     "shell.execute_reply": "2022-10-16T04:58:42.685111Z",
     "shell.execute_reply.started": "2022-10-16T04:58:42.681459Z"
    },
    "papermill": {
     "duration": null,
     "end_time": null,
     "exception": null,
     "start_time": null,
     "status": "pending"
    },
    "tags": []
   },
   "outputs": [],
   "source": [
    "city1 = 'Islamabad'"
   ]
  },
  {
   "cell_type": "code",
   "execution_count": null,
   "id": "a0baf33b",
   "metadata": {
    "execution": {
     "iopub.execute_input": "2022-10-15T17:08:42.918308Z",
     "iopub.status.busy": "2022-10-15T17:08:42.917887Z",
     "iopub.status.idle": "2022-10-15T17:08:42.926565Z",
     "shell.execute_reply": "2022-10-15T17:08:42.925240Z",
     "shell.execute_reply.started": "2022-10-15T17:08:42.918268Z"
    },
    "papermill": {
     "duration": null,
     "end_time": null,
     "exception": null,
     "start_time": null,
     "status": "pending"
    },
    "tags": []
   },
   "outputs": [],
   "source": [
    "len(city1)  # Finding length of word. It also includes spaces,punctuations,etc."
   ]
  },
  {
   "cell_type": "code",
   "execution_count": null,
   "id": "52e845f1",
   "metadata": {
    "execution": {
     "iopub.execute_input": "2022-10-15T17:08:29.383409Z",
     "iopub.status.busy": "2022-10-15T17:08:29.382934Z",
     "iopub.status.idle": "2022-10-15T17:08:29.391176Z",
     "shell.execute_reply": "2022-10-15T17:08:29.390030Z",
     "shell.execute_reply.started": "2022-10-15T17:08:29.383373Z"
    },
    "papermill": {
     "duration": null,
     "end_time": null,
     "exception": null,
     "start_time": null,
     "status": "pending"
    },
    "tags": []
   },
   "outputs": [],
   "source": [
    "len('Hello,       World')"
   ]
  },
  {
   "cell_type": "markdown",
   "id": "a6abd823",
   "metadata": {
    "papermill": {
     "duration": null,
     "end_time": null,
     "exception": null,
     "start_time": null,
     "status": "pending"
    },
    "tags": []
   },
   "source": [
    "* **Min Function**"
   ]
  },
  {
   "cell_type": "code",
   "execution_count": null,
   "id": "a8b79768",
   "metadata": {
    "execution": {
     "iopub.execute_input": "2022-10-16T10:22:24.428061Z",
     "iopub.status.busy": "2022-10-16T10:22:24.427697Z",
     "iopub.status.idle": "2022-10-16T10:22:24.433854Z",
     "shell.execute_reply": "2022-10-16T10:22:24.433020Z",
     "shell.execute_reply.started": "2022-10-16T10:22:24.428034Z"
    },
    "papermill": {
     "duration": null,
     "end_time": null,
     "exception": null,
     "start_time": null,
     "status": "pending"
    },
    "tags": []
   },
   "outputs": [],
   "source": [
    "min(city1)  # to find lesser ASCII value character in word. ASCII values: A=65,B=66,.. a=97"
   ]
  },
  {
   "cell_type": "code",
   "execution_count": null,
   "id": "d2bae0e1",
   "metadata": {
    "execution": {
     "iopub.execute_input": "2022-10-16T05:00:35.249332Z",
     "iopub.status.busy": "2022-10-16T05:00:35.248167Z",
     "iopub.status.idle": "2022-10-16T05:00:35.255393Z",
     "shell.execute_reply": "2022-10-16T05:00:35.254219Z",
     "shell.execute_reply.started": "2022-10-16T05:00:35.249290Z"
    },
    "papermill": {
     "duration": null,
     "end_time": null,
     "exception": null,
     "start_time": null,
     "status": "pending"
    },
    "tags": []
   },
   "outputs": [],
   "source": [
    "print(min(city1))\n",
    "print(min('islamabad'))\n",
    "print(min('I@lamabad'))"
   ]
  },
  {
   "cell_type": "markdown",
   "id": "4b925713",
   "metadata": {
    "papermill": {
     "duration": null,
     "end_time": null,
     "exception": null,
     "start_time": null,
     "status": "pending"
    },
    "tags": []
   },
   "source": [
    "* **Max Function**"
   ]
  },
  {
   "cell_type": "markdown",
   "id": "69923a9f",
   "metadata": {
    "papermill": {
     "duration": null,
     "end_time": null,
     "exception": null,
     "start_time": null,
     "status": "pending"
    },
    "tags": []
   },
   "source": [
    "**To find the maximum ASCII value character**"
   ]
  },
  {
   "cell_type": "code",
   "execution_count": null,
   "id": "daab2418",
   "metadata": {
    "execution": {
     "iopub.execute_input": "2022-10-15T17:25:20.233816Z",
     "iopub.status.busy": "2022-10-15T17:25:20.232990Z",
     "iopub.status.idle": "2022-10-15T17:25:20.241525Z",
     "shell.execute_reply": "2022-10-15T17:25:20.240184Z",
     "shell.execute_reply.started": "2022-10-15T17:25:20.233766Z"
    },
    "papermill": {
     "duration": null,
     "end_time": null,
     "exception": null,
     "start_time": null,
     "status": "pending"
    },
    "tags": []
   },
   "outputs": [],
   "source": [
    "max('Islamabad')"
   ]
  },
  {
   "cell_type": "markdown",
   "id": "e11c2bff",
   "metadata": {
    "papermill": {
     "duration": null,
     "end_time": null,
     "exception": null,
     "start_time": null,
     "status": "pending"
    },
    "tags": []
   },
   "source": [
    "* **Sorted Function**"
   ]
  },
  {
   "cell_type": "code",
   "execution_count": null,
   "id": "b3ebad41",
   "metadata": {
    "execution": {
     "iopub.execute_input": "2022-10-15T17:27:29.621089Z",
     "iopub.status.busy": "2022-10-15T17:27:29.620675Z",
     "iopub.status.idle": "2022-10-15T17:27:29.627961Z",
     "shell.execute_reply": "2022-10-15T17:27:29.627100Z",
     "shell.execute_reply.started": "2022-10-15T17:27:29.621057Z"
    },
    "papermill": {
     "duration": null,
     "end_time": null,
     "exception": null,
     "start_time": null,
     "status": "pending"
    },
    "tags": []
   },
   "outputs": [],
   "source": [
    "sorted('Islamabad') # Sorting according to ASCII codes - In Ascending Order"
   ]
  },
  {
   "cell_type": "code",
   "execution_count": null,
   "id": "c0689601",
   "metadata": {
    "execution": {
     "iopub.execute_input": "2022-10-15T17:27:49.192825Z",
     "iopub.status.busy": "2022-10-15T17:27:49.192280Z",
     "iopub.status.idle": "2022-10-15T17:27:49.200664Z",
     "shell.execute_reply": "2022-10-15T17:27:49.199091Z",
     "shell.execute_reply.started": "2022-10-15T17:27:49.192785Z"
    },
    "papermill": {
     "duration": null,
     "end_time": null,
     "exception": null,
     "start_time": null,
     "status": "pending"
    },
    "tags": []
   },
   "outputs": [],
   "source": [
    "sorted('Lahore@9')"
   ]
  },
  {
   "cell_type": "code",
   "execution_count": null,
   "id": "854a5fff",
   "metadata": {
    "execution": {
     "iopub.execute_input": "2022-10-15T17:29:15.270122Z",
     "iopub.status.busy": "2022-10-15T17:29:15.269698Z",
     "iopub.status.idle": "2022-10-15T17:29:15.277163Z",
     "shell.execute_reply": "2022-10-15T17:29:15.276312Z",
     "shell.execute_reply.started": "2022-10-15T17:29:15.270090Z"
    },
    "papermill": {
     "duration": null,
     "end_time": null,
     "exception": null,
     "start_time": null,
     "status": "pending"
    },
    "tags": []
   },
   "outputs": [],
   "source": [
    "sorted('Islamabad',reverse = True) # to sort in descending order"
   ]
  },
  {
   "cell_type": "markdown",
   "id": "9c7ae011",
   "metadata": {
    "papermill": {
     "duration": null,
     "end_time": null,
     "exception": null,
     "start_time": null,
     "status": "pending"
    },
    "tags": []
   },
   "source": [
    "**ii - Special Functions**"
   ]
  },
  {
   "cell_type": "markdown",
   "id": "dfdbd037",
   "metadata": {
    "papermill": {
     "duration": null,
     "end_time": null,
     "exception": null,
     "start_time": null,
     "status": "pending"
    },
    "tags": []
   },
   "source": [
    "**These functions are only applied on strings**"
   ]
  },
  {
   "cell_type": "markdown",
   "id": "35588956",
   "metadata": {
    "papermill": {
     "duration": null,
     "end_time": null,
     "exception": null,
     "start_time": null,
     "status": "pending"
    },
    "tags": []
   },
   "source": [
    "* **Upper Function**"
   ]
  },
  {
   "cell_type": "code",
   "execution_count": null,
   "id": "d6da4845",
   "metadata": {
    "execution": {
     "iopub.execute_input": "2022-10-15T17:31:04.194844Z",
     "iopub.status.busy": "2022-10-15T17:31:04.194400Z",
     "iopub.status.idle": "2022-10-15T17:31:04.202382Z",
     "shell.execute_reply": "2022-10-15T17:31:04.201245Z",
     "shell.execute_reply.started": "2022-10-15T17:31:04.194808Z"
    },
    "papermill": {
     "duration": null,
     "end_time": null,
     "exception": null,
     "start_time": null,
     "status": "pending"
    },
    "tags": []
   },
   "outputs": [],
   "source": [
    "'Islamabad'.upper()"
   ]
  },
  {
   "cell_type": "markdown",
   "id": "09b23350",
   "metadata": {
    "papermill": {
     "duration": null,
     "end_time": null,
     "exception": null,
     "start_time": null,
     "status": "pending"
    },
    "tags": []
   },
   "source": [
    "* **Lower Function**"
   ]
  },
  {
   "cell_type": "code",
   "execution_count": null,
   "id": "5c640ffb",
   "metadata": {
    "execution": {
     "iopub.execute_input": "2022-10-15T17:31:42.767650Z",
     "iopub.status.busy": "2022-10-15T17:31:42.766731Z",
     "iopub.status.idle": "2022-10-15T17:31:42.774992Z",
     "shell.execute_reply": "2022-10-15T17:31:42.773853Z",
     "shell.execute_reply.started": "2022-10-15T17:31:42.767605Z"
    },
    "papermill": {
     "duration": null,
     "end_time": null,
     "exception": null,
     "start_time": null,
     "status": "pending"
    },
    "tags": []
   },
   "outputs": [],
   "source": [
    "'Islamabad'.lower()"
   ]
  },
  {
   "cell_type": "markdown",
   "id": "90319631",
   "metadata": {
    "papermill": {
     "duration": null,
     "end_time": null,
     "exception": null,
     "start_time": null,
     "status": "pending"
    },
    "tags": []
   },
   "source": [
    "* **Capitalize Function**"
   ]
  },
  {
   "cell_type": "code",
   "execution_count": null,
   "id": "564641c3",
   "metadata": {
    "execution": {
     "iopub.execute_input": "2022-10-15T17:33:31.438474Z",
     "iopub.status.busy": "2022-10-15T17:33:31.438036Z",
     "iopub.status.idle": "2022-10-15T17:33:31.445383Z",
     "shell.execute_reply": "2022-10-15T17:33:31.444544Z",
     "shell.execute_reply.started": "2022-10-15T17:33:31.438438Z"
    },
    "papermill": {
     "duration": null,
     "end_time": null,
     "exception": null,
     "start_time": null,
     "status": "pending"
    },
    "tags": []
   },
   "outputs": [],
   "source": [
    "\"hello everyone in World\".capitalize() # It will capitalize first alphabet and remaining will be converted into small letters"
   ]
  },
  {
   "cell_type": "markdown",
   "id": "aee5529e",
   "metadata": {
    "papermill": {
     "duration": null,
     "end_time": null,
     "exception": null,
     "start_time": null,
     "status": "pending"
    },
    "tags": []
   },
   "source": [
    "* **Title Function**"
   ]
  },
  {
   "cell_type": "code",
   "execution_count": null,
   "id": "a04a8d3b",
   "metadata": {
    "execution": {
     "iopub.execute_input": "2022-10-16T13:17:38.056844Z",
     "iopub.status.busy": "2022-10-16T13:17:38.056553Z",
     "iopub.status.idle": "2022-10-16T13:17:38.063105Z",
     "shell.execute_reply": "2022-10-16T13:17:38.061586Z",
     "shell.execute_reply.started": "2022-10-16T13:17:38.056822Z"
    },
    "papermill": {
     "duration": null,
     "end_time": null,
     "exception": null,
     "start_time": null,
     "status": "pending"
    },
    "tags": []
   },
   "outputs": [],
   "source": [
    "city = 'Karachi is a beutiful city. It is capital.'\n",
    "print(city.title())  "
   ]
  },
  {
   "cell_type": "markdown",
   "id": "ce6eae03",
   "metadata": {
    "papermill": {
     "duration": null,
     "end_time": null,
     "exception": null,
     "start_time": null,
     "status": "pending"
    },
    "tags": []
   },
   "source": [
    "* **Swapcase Function**"
   ]
  },
  {
   "cell_type": "code",
   "execution_count": null,
   "id": "6353d82e",
   "metadata": {
    "execution": {
     "iopub.execute_input": "2022-10-16T10:33:03.950265Z",
     "iopub.status.busy": "2022-10-16T10:33:03.949856Z",
     "iopub.status.idle": "2022-10-16T10:33:03.956202Z",
     "shell.execute_reply": "2022-10-16T10:33:03.955186Z",
     "shell.execute_reply.started": "2022-10-16T10:33:03.950235Z"
    },
    "papermill": {
     "duration": null,
     "end_time": null,
     "exception": null,
     "start_time": null,
     "status": "pending"
    },
    "tags": []
   },
   "outputs": [],
   "source": [
    "'koLKaTtA'.swapcase()  # It will convert upper to lower and lower to uppercase letters"
   ]
  },
  {
   "cell_type": "markdown",
   "id": "12440e8c",
   "metadata": {
    "papermill": {
     "duration": null,
     "end_time": null,
     "exception": null,
     "start_time": null,
     "status": "pending"
    },
    "tags": []
   },
   "source": [
    "* **Count Function**"
   ]
  },
  {
   "cell_type": "markdown",
   "id": "00d9ba9c",
   "metadata": {
    "papermill": {
     "duration": null,
     "end_time": null,
     "exception": null,
     "start_time": null,
     "status": "pending"
    },
    "tags": []
   },
   "source": [
    "**To find frequency of substring in any string**"
   ]
  },
  {
   "cell_type": "code",
   "execution_count": null,
   "id": "1d833e41",
   "metadata": {
    "execution": {
     "iopub.execute_input": "2022-10-16T10:36:09.797252Z",
     "iopub.status.busy": "2022-10-16T10:36:09.796846Z",
     "iopub.status.idle": "2022-10-16T10:36:09.802627Z",
     "shell.execute_reply": "2022-10-16T10:36:09.801593Z",
     "shell.execute_reply.started": "2022-10-16T10:36:09.797222Z"
    },
    "papermill": {
     "duration": null,
     "end_time": null,
     "exception": null,
     "start_time": null,
     "status": "pending"
    },
    "tags": []
   },
   "outputs": [],
   "source": [
    "print(\"Islamabad\".count('a')) # 'a' has come 3 times\n",
    "print(\"Islamabad\".count('bad'))"
   ]
  },
  {
   "cell_type": "markdown",
   "id": "d8102940",
   "metadata": {
    "papermill": {
     "duration": null,
     "end_time": null,
     "exception": null,
     "start_time": null,
     "status": "pending"
    },
    "tags": []
   },
   "source": [
    "* **Find/Index Functions - Same working**"
   ]
  },
  {
   "cell_type": "code",
   "execution_count": null,
   "id": "0b0a3b7d",
   "metadata": {
    "execution": {
     "iopub.execute_input": "2022-10-16T10:42:45.124336Z",
     "iopub.status.busy": "2022-10-16T10:42:45.123483Z",
     "iopub.status.idle": "2022-10-16T10:42:45.231806Z",
     "shell.execute_reply": "2022-10-16T10:42:45.230372Z",
     "shell.execute_reply.started": "2022-10-16T10:42:45.124289Z"
    },
    "papermill": {
     "duration": null,
     "end_time": null,
     "exception": null,
     "start_time": null,
     "status": "pending"
    },
    "tags": []
   },
   "outputs": [],
   "source": [
    "print('Islamabad'.find('m')) # position of m character. It tells first occurence of character\n",
    "print('Islamabad'.index('m'))\n",
    "print('Islamabad'.find('a'))\n",
    "print('Islamabad'.find('bad'))\n",
    "print('Islamabad'.find('K'))  # The result -1 shows that particular character is not present in string\n",
    "print('Islamabad'.index('K'))  # But it's result will be different than find function when particular character is not present in string\n"
   ]
  },
  {
   "cell_type": "markdown",
   "id": "6d3ca091",
   "metadata": {
    "papermill": {
     "duration": null,
     "end_time": null,
     "exception": null,
     "start_time": null,
     "status": "pending"
    },
    "tags": []
   },
   "source": [
    "* **Endswith/Startswith Functions**"
   ]
  },
  {
   "cell_type": "code",
   "execution_count": null,
   "id": "038b26e5",
   "metadata": {
    "papermill": {
     "duration": null,
     "end_time": null,
     "exception": null,
     "start_time": null,
     "status": "pending"
    },
    "tags": []
   },
   "outputs": [],
   "source": [
    "print(city.endswith('.'))    # endswith function\n",
    "print(city.endswith('It'))    # endswith function"
   ]
  },
  {
   "cell_type": "markdown",
   "id": "6bdf9550",
   "metadata": {
    "papermill": {
     "duration": null,
     "end_time": null,
     "exception": null,
     "start_time": null,
     "status": "pending"
    },
    "tags": []
   },
   "source": [
    "* **Split Function**"
   ]
  },
  {
   "cell_type": "code",
   "execution_count": null,
   "id": "df011bde",
   "metadata": {
    "papermill": {
     "duration": null,
     "end_time": null,
     "exception": null,
     "start_time": null,
     "status": "pending"
    },
    "tags": []
   },
   "outputs": [],
   "source": [
    "print(city.split())  # It will break string and will put into list\n",
    "print(city.split('is'))  # can be splitted according to our desire"
   ]
  },
  {
   "cell_type": "markdown",
   "id": "2fd20ed1",
   "metadata": {
    "papermill": {
     "duration": null,
     "end_time": null,
     "exception": null,
     "start_time": null,
     "status": "pending"
    },
    "tags": []
   },
   "source": [
    "* **Join Function - reverse of split function**"
   ]
  },
  {
   "cell_type": "code",
   "execution_count": null,
   "id": "c36b7443",
   "metadata": {
    "execution": {
     "iopub.execute_input": "2022-10-16T13:41:33.522892Z",
     "iopub.status.busy": "2022-10-16T13:41:33.522585Z",
     "iopub.status.idle": "2022-10-16T13:41:33.529797Z",
     "shell.execute_reply": "2022-10-16T13:41:33.528553Z",
     "shell.execute_reply.started": "2022-10-16T13:41:33.522868Z"
    },
    "papermill": {
     "duration": null,
     "end_time": null,
     "exception": null,
     "start_time": null,
     "status": "pending"
    },
    "tags": []
   },
   "outputs": [],
   "source": [
    "list = ['Karachi', 'is', 'a', 'beutiful', 'city.', 'It', 'is', 'capital.']\n",
    "\" \".join(list) # joining on the basis of space"
   ]
  },
  {
   "cell_type": "markdown",
   "id": "6b2aa593",
   "metadata": {
    "papermill": {
     "duration": null,
     "end_time": null,
     "exception": null,
     "start_time": null,
     "status": "pending"
    },
    "tags": []
   },
   "source": [
    "* **Replace Function**"
   ]
  },
  {
   "cell_type": "code",
   "execution_count": null,
   "id": "82126f78",
   "metadata": {
    "execution": {
     "iopub.execute_input": "2022-10-16T13:43:05.672369Z",
     "iopub.status.busy": "2022-10-16T13:43:05.672013Z",
     "iopub.status.idle": "2022-10-16T13:43:05.676481Z",
     "shell.execute_reply": "2022-10-16T13:43:05.675860Z",
     "shell.execute_reply.started": "2022-10-16T13:43:05.672344Z"
    },
    "papermill": {
     "duration": null,
     "end_time": null,
     "exception": null,
     "start_time": null,
     "status": "pending"
    },
    "tags": []
   },
   "outputs": [],
   "source": [
    "print(city.replace('K','c'))"
   ]
  },
  {
   "cell_type": "markdown",
   "id": "5dbc4534",
   "metadata": {
    "papermill": {
     "duration": null,
     "end_time": null,
     "exception": null,
     "start_time": null,
     "status": "pending"
    },
    "tags": []
   },
   "source": [
    "* **Strip Function**"
   ]
  },
  {
   "cell_type": "code",
   "execution_count": null,
   "id": "36cef835",
   "metadata": {
    "execution": {
     "iopub.execute_input": "2022-10-16T13:46:31.087624Z",
     "iopub.status.busy": "2022-10-16T13:46:31.087295Z",
     "iopub.status.idle": "2022-10-16T13:46:31.092959Z",
     "shell.execute_reply": "2022-10-16T13:46:31.092208Z",
     "shell.execute_reply.started": "2022-10-16T13:46:31.087600Z"
    },
    "papermill": {
     "duration": null,
     "end_time": null,
     "exception": null,
     "start_time": null,
     "status": "pending"
    },
    "tags": []
   },
   "outputs": [],
   "source": [
    "# It removes trailing and leading spaces in string\n",
    "name = \"         -- Ali     \"\n",
    "print(name)\n",
    "\n",
    "print(name.strip())"
   ]
  },
  {
   "cell_type": "code",
   "execution_count": null,
   "id": "2fdcdf2b",
   "metadata": {
    "execution": {
     "iopub.execute_input": "2022-10-16T13:32:18.060117Z",
     "iopub.status.busy": "2022-10-16T13:32:18.059778Z",
     "iopub.status.idle": "2022-10-16T13:32:18.065878Z",
     "shell.execute_reply": "2022-10-16T13:32:18.065025Z",
     "shell.execute_reply.started": "2022-10-16T13:32:18.060083Z"
    },
    "papermill": {
     "duration": null,
     "end_time": null,
     "exception": null,
     "start_time": null,
     "status": "pending"
    },
    "tags": []
   },
   "outputs": [],
   "source": [
    "print('Flat30'.isalnum()) # Is there alphabet or numric in string\n",
    "print('Flat'.isalnum())\n",
    "print('Flat30'.isalpha())\n",
    "print('Flat'.isalpha())\n",
    "print('30'.isdecimal())\n",
    "print('30'.isdigit())\n",
    "print('30A'.isdigit())\n",
    "print('hello world'.isidentifier())\n",
    "print('hello_world'.isidentifier())\n",
    "print('hello world'.islower())"
   ]
  },
  {
   "cell_type": "markdown",
   "id": "a5aa761e",
   "metadata": {
    "papermill": {
     "duration": null,
     "end_time": null,
     "exception": null,
     "start_time": null,
     "status": "pending"
    },
    "tags": []
   },
   "source": [
    "<h1> Lists"
   ]
  },
  {
   "cell_type": "markdown",
   "id": "084cb463",
   "metadata": {
    "papermill": {
     "duration": null,
     "end_time": null,
     "exception": null,
     "start_time": null,
     "status": "pending"
    },
    "tags": []
   },
   "source": [
    "* <h2>Difference Between List and Array<br>\n",
    "1 - Array is only Homogeneous List whereas List can be Heterogeneous List<br>\n",
    "2 - Arrays are much faster<br>\n",
    "3 - Lists are more programmer friendly"
   ]
  },
  {
   "cell_type": "markdown",
   "id": "0d778be2",
   "metadata": {
    "papermill": {
     "duration": null,
     "end_time": null,
     "exception": null,
     "start_time": null,
     "status": "pending"
    },
    "tags": []
   },
   "source": [
    "* <h2> Homogeneous List - Consists of elements from same data types"
   ]
  },
  {
   "cell_type": "code",
   "execution_count": null,
   "id": "0b46471d",
   "metadata": {
    "execution": {
     "iopub.execute_input": "2022-10-18T11:49:42.554141Z",
     "iopub.status.busy": "2022-10-18T11:49:42.553710Z",
     "iopub.status.idle": "2022-10-18T11:49:42.560601Z",
     "shell.execute_reply": "2022-10-18T11:49:42.559310Z",
     "shell.execute_reply.started": "2022-10-18T11:49:42.554108Z"
    },
    "papermill": {
     "duration": null,
     "end_time": null,
     "exception": null,
     "start_time": null,
     "status": "pending"
    },
    "tags": []
   },
   "outputs": [],
   "source": [
    "li1 = [1,2,3,4]     # Only integers\n",
    "li2 = ['Python','C++','Java']  # Only strings\n",
    "li3 = [[1,2],[3,4]]  # Only lists\n",
    "li4 = [True, False]  # Only boolian data types\n",
    "li5 = [2+3j,5-3j]    # Only complex data types"
   ]
  },
  {
   "cell_type": "markdown",
   "id": "64226255",
   "metadata": {
    "papermill": {
     "duration": null,
     "end_time": null,
     "exception": null,
     "start_time": null,
     "status": "pending"
    },
    "tags": []
   },
   "source": [
    "* <h2> Heterogeneous List - Consists of elements from different data types"
   ]
  },
  {
   "cell_type": "code",
   "execution_count": null,
   "id": "f9645270",
   "metadata": {
    "execution": {
     "iopub.execute_input": "2022-10-18T11:50:57.413423Z",
     "iopub.status.busy": "2022-10-18T11:50:57.412977Z",
     "iopub.status.idle": "2022-10-18T11:50:57.419157Z",
     "shell.execute_reply": "2022-10-18T11:50:57.417920Z",
     "shell.execute_reply.started": "2022-10-18T11:50:57.413384Z"
    },
    "papermill": {
     "duration": null,
     "end_time": null,
     "exception": null,
     "start_time": null,
     "status": "pending"
    },
    "tags": []
   },
   "outputs": [],
   "source": [
    "li = [1,2,'Python',True,[3,4]]"
   ]
  },
  {
   "cell_type": "markdown",
   "id": "53bf2cbf",
   "metadata": {
    "papermill": {
     "duration": null,
     "end_time": null,
     "exception": null,
     "start_time": null,
     "status": "pending"
    },
    "tags": []
   },
   "source": [
    "<h2> 1 - Creation of List"
   ]
  },
  {
   "cell_type": "code",
   "execution_count": null,
   "id": "1a05d24c",
   "metadata": {
    "execution": {
     "iopub.execute_input": "2022-10-18T11:51:56.427940Z",
     "iopub.status.busy": "2022-10-18T11:51:56.426557Z",
     "iopub.status.idle": "2022-10-18T11:51:56.434340Z",
     "shell.execute_reply": "2022-10-18T11:51:56.433087Z",
     "shell.execute_reply.started": "2022-10-18T11:51:56.427876Z"
    },
    "papermill": {
     "duration": null,
     "end_time": null,
     "exception": null,
     "start_time": null,
     "status": "pending"
    },
    "tags": []
   },
   "outputs": [],
   "source": [
    "li1 = [3,4,5]    # Homogeneous List\n",
    "li = [1,2,'Python',True,2-3j]  # Heterogeneous List"
   ]
  },
  {
   "cell_type": "code",
   "execution_count": null,
   "id": "15218411",
   "metadata": {
    "execution": {
     "iopub.execute_input": "2022-10-18T11:52:13.963454Z",
     "iopub.status.busy": "2022-10-18T11:52:13.962011Z",
     "iopub.status.idle": "2022-10-18T11:52:13.970048Z",
     "shell.execute_reply": "2022-10-18T11:52:13.969147Z",
     "shell.execute_reply.started": "2022-10-18T11:52:13.963410Z"
    },
    "papermill": {
     "duration": null,
     "end_time": null,
     "exception": null,
     "start_time": null,
     "status": "pending"
    },
    "tags": []
   },
   "outputs": [],
   "source": [
    "# Multi dimensional list\n",
    "li = [1,2,3,4,[5,6]] # 2 D list\n",
    "li2 = [[[1,2],[3,4]],[[5,6],[7,8]]] # 3 D List\n",
    "li3 = list(\"Python\")  # Using list function\n",
    "print(li)\n",
    "print(li2)\n",
    "print(li3)"
   ]
  },
  {
   "cell_type": "markdown",
   "id": "0900d312",
   "metadata": {
    "papermill": {
     "duration": null,
     "end_time": null,
     "exception": null,
     "start_time": null,
     "status": "pending"
    },
    "tags": []
   },
   "source": [
    "<h2> 2 - Accessing of a List"
   ]
  },
  {
   "cell_type": "code",
   "execution_count": null,
   "id": "65c13c12",
   "metadata": {
    "papermill": {
     "duration": null,
     "end_time": null,
     "exception": null,
     "start_time": null,
     "status": "pending"
    },
    "tags": []
   },
   "outputs": [],
   "source": []
  },
  {
   "cell_type": "code",
   "execution_count": null,
   "id": "8e27f297",
   "metadata": {
    "papermill": {
     "duration": null,
     "end_time": null,
     "exception": null,
     "start_time": null,
     "status": "pending"
    },
    "tags": []
   },
   "outputs": [],
   "source": []
  },
  {
   "cell_type": "code",
   "execution_count": null,
   "id": "146bac78",
   "metadata": {
    "papermill": {
     "duration": null,
     "end_time": null,
     "exception": null,
     "start_time": null,
     "status": "pending"
    },
    "tags": []
   },
   "outputs": [],
   "source": []
  },
  {
   "cell_type": "markdown",
   "id": "e23a9660",
   "metadata": {
    "papermill": {
     "duration": null,
     "end_time": null,
     "exception": null,
     "start_time": null,
     "status": "pending"
    },
    "tags": []
   },
   "source": [
    "<b>* Slicing <br>\n",
    "<b>* Indexing <br>\n",
    "<b>* Append <br>\n",
    "<b>* Extend <br>\n",
    "<b>* Reverse <br>\n",
    "<b>* Remove <br>\n",
    "<b>* Pop <br>\n",
    "<b>* Sorting "
   ]
  },
  {
   "cell_type": "code",
   "execution_count": null,
   "id": "1554eda8",
   "metadata": {
    "execution": {
     "iopub.execute_input": "2022-10-18T11:44:18.601236Z",
     "iopub.status.busy": "2022-10-18T11:44:18.600585Z",
     "iopub.status.idle": "2022-10-18T11:44:18.634874Z",
     "shell.execute_reply": "2022-10-18T11:44:18.633722Z",
     "shell.execute_reply.started": "2022-10-18T11:44:18.601083Z"
    },
    "papermill": {
     "duration": null,
     "end_time": null,
     "exception": null,
     "start_time": null,
     "status": "pending"
    },
    "tags": []
   },
   "outputs": [],
   "source": [
    "list(\"Python\")"
   ]
  },
  {
   "cell_type": "code",
   "execution_count": null,
   "id": "d51f7182",
   "metadata": {
    "papermill": {
     "duration": null,
     "end_time": null,
     "exception": null,
     "start_time": null,
     "status": "pending"
    },
    "tags": []
   },
   "outputs": [],
   "source": []
  },
  {
   "cell_type": "code",
   "execution_count": null,
   "id": "8dd7207f",
   "metadata": {
    "execution": {
     "iopub.execute_input": "2022-10-15T04:36:44.651216Z",
     "iopub.status.busy": "2022-10-15T04:36:44.650799Z",
     "iopub.status.idle": "2022-10-15T04:36:44.656871Z",
     "shell.execute_reply": "2022-10-15T04:36:44.655495Z",
     "shell.execute_reply.started": "2022-10-15T04:36:44.651191Z"
    },
    "papermill": {
     "duration": null,
     "end_time": null,
     "exception": null,
     "start_time": null,
     "status": "pending"
    },
    "tags": []
   },
   "outputs": [],
   "source": [
    "marks=[12,12,14,14,12,14,13,15,16,17]"
   ]
  },
  {
   "cell_type": "code",
   "execution_count": null,
   "id": "3c5934ad",
   "metadata": {
    "execution": {
     "iopub.execute_input": "2022-10-07T05:50:41.569075Z",
     "iopub.status.busy": "2022-10-07T05:50:41.567883Z",
     "iopub.status.idle": "2022-10-07T05:50:41.575324Z",
     "shell.execute_reply": "2022-10-07T05:50:41.574000Z",
     "shell.execute_reply.started": "2022-10-07T05:50:41.569036Z"
    },
    "papermill": {
     "duration": null,
     "end_time": null,
     "exception": null,
     "start_time": null,
     "status": "pending"
    },
    "tags": []
   },
   "outputs": [],
   "source": [
    "marks[1]"
   ]
  },
  {
   "cell_type": "code",
   "execution_count": null,
   "id": "67894b2b",
   "metadata": {
    "execution": {
     "iopub.execute_input": "2022-10-07T05:50:22.781307Z",
     "iopub.status.busy": "2022-10-07T05:50:22.780920Z",
     "iopub.status.idle": "2022-10-07T05:50:22.787901Z",
     "shell.execute_reply": "2022-10-07T05:50:22.787057Z",
     "shell.execute_reply.started": "2022-10-07T05:50:22.781277Z"
    },
    "papermill": {
     "duration": null,
     "end_time": null,
     "exception": null,
     "start_time": null,
     "status": "pending"
    },
    "tags": []
   },
   "outputs": [],
   "source": [
    "marks[0],marks[3],marks[6]"
   ]
  },
  {
   "cell_type": "code",
   "execution_count": null,
   "id": "e55956b8",
   "metadata": {
    "execution": {
     "iopub.execute_input": "2022-10-15T04:37:13.489840Z",
     "iopub.status.busy": "2022-10-15T04:37:13.489552Z",
     "iopub.status.idle": "2022-10-15T04:37:13.493870Z",
     "shell.execute_reply": "2022-10-15T04:37:13.493050Z",
     "shell.execute_reply.started": "2022-10-15T04:37:13.489814Z"
    },
    "papermill": {
     "duration": null,
     "end_time": null,
     "exception": null,
     "start_time": null,
     "status": "pending"
    },
    "tags": []
   },
   "outputs": [],
   "source": [
    "marks[0] = 120"
   ]
  },
  {
   "cell_type": "code",
   "execution_count": null,
   "id": "cd5fb44f",
   "metadata": {
    "execution": {
     "iopub.execute_input": "2022-10-15T04:37:16.235078Z",
     "iopub.status.busy": "2022-10-15T04:37:16.234739Z",
     "iopub.status.idle": "2022-10-15T04:37:16.242203Z",
     "shell.execute_reply": "2022-10-15T04:37:16.240816Z",
     "shell.execute_reply.started": "2022-10-15T04:37:16.235051Z"
    },
    "papermill": {
     "duration": null,
     "end_time": null,
     "exception": null,
     "start_time": null,
     "status": "pending"
    },
    "tags": []
   },
   "outputs": [],
   "source": [
    "marks"
   ]
  },
  {
   "cell_type": "code",
   "execution_count": null,
   "id": "bb78d27a",
   "metadata": {
    "execution": {
     "iopub.execute_input": "2022-10-07T11:10:22.418185Z",
     "iopub.status.busy": "2022-10-07T11:10:22.417744Z",
     "iopub.status.idle": "2022-10-07T11:10:22.425853Z",
     "shell.execute_reply": "2022-10-07T11:10:22.424685Z",
     "shell.execute_reply.started": "2022-10-07T11:10:22.418148Z"
    },
    "papermill": {
     "duration": null,
     "end_time": null,
     "exception": null,
     "start_time": null,
     "status": "pending"
    },
    "tags": []
   },
   "outputs": [],
   "source": [
    "list = [n**2 for n in range(1,5)]\n",
    "list"
   ]
  },
  {
   "cell_type": "code",
   "execution_count": null,
   "id": "e44ba86e",
   "metadata": {
    "execution": {
     "iopub.execute_input": "2022-10-07T11:11:47.827958Z",
     "iopub.status.busy": "2022-10-07T11:11:47.827552Z",
     "iopub.status.idle": "2022-10-07T11:11:47.835897Z",
     "shell.execute_reply": "2022-10-07T11:11:47.834635Z",
     "shell.execute_reply.started": "2022-10-07T11:11:47.827927Z"
    },
    "papermill": {
     "duration": null,
     "end_time": null,
     "exception": null,
     "start_time": null,
     "status": "pending"
    },
    "tags": []
   },
   "outputs": [],
   "source": [
    "# OR\n",
    "squares = []\n",
    "for n in range(1,5):\n",
    "    squares.append(n**2)\n",
    "squares"
   ]
  },
  {
   "cell_type": "markdown",
   "id": "9116b4c4",
   "metadata": {
    "papermill": {
     "duration": null,
     "end_time": null,
     "exception": null,
     "start_time": null,
     "status": "pending"
    },
    "tags": []
   },
   "source": [
    "* ### Slicing"
   ]
  },
  {
   "cell_type": "code",
   "execution_count": null,
   "id": "0ea2c6de",
   "metadata": {
    "execution": {
     "iopub.execute_input": "2022-10-07T05:53:58.417838Z",
     "iopub.status.busy": "2022-10-07T05:53:58.417077Z",
     "iopub.status.idle": "2022-10-07T05:53:58.425232Z",
     "shell.execute_reply": "2022-10-07T05:53:58.423911Z",
     "shell.execute_reply.started": "2022-10-07T05:53:58.417802Z"
    },
    "papermill": {
     "duration": null,
     "end_time": null,
     "exception": null,
     "start_time": null,
     "status": "pending"
    },
    "tags": []
   },
   "outputs": [],
   "source": [
    "marks[0:4] # Excluding 4th index"
   ]
  },
  {
   "cell_type": "code",
   "execution_count": null,
   "id": "b86df78b",
   "metadata": {
    "execution": {
     "iopub.execute_input": "2022-10-07T05:54:26.171406Z",
     "iopub.status.busy": "2022-10-07T05:54:26.171017Z",
     "iopub.status.idle": "2022-10-07T05:54:26.178575Z",
     "shell.execute_reply": "2022-10-07T05:54:26.177330Z",
     "shell.execute_reply.started": "2022-10-07T05:54:26.171375Z"
    },
    "papermill": {
     "duration": null,
     "end_time": null,
     "exception": null,
     "start_time": null,
     "status": "pending"
    },
    "tags": []
   },
   "outputs": [],
   "source": [
    "marks[1:4]"
   ]
  },
  {
   "cell_type": "code",
   "execution_count": null,
   "id": "fdd34620",
   "metadata": {
    "execution": {
     "iopub.execute_input": "2022-10-07T05:55:53.757045Z",
     "iopub.status.busy": "2022-10-07T05:55:53.756590Z",
     "iopub.status.idle": "2022-10-07T05:55:53.765134Z",
     "shell.execute_reply": "2022-10-07T05:55:53.763698Z",
     "shell.execute_reply.started": "2022-10-07T05:55:53.757009Z"
    },
    "papermill": {
     "duration": null,
     "end_time": null,
     "exception": null,
     "start_time": null,
     "status": "pending"
    },
    "tags": []
   },
   "outputs": [],
   "source": [
    "marks[3:] # Starting from index 3rd and then printing all remaining values"
   ]
  },
  {
   "cell_type": "code",
   "execution_count": null,
   "id": "0e59f2e5",
   "metadata": {
    "execution": {
     "iopub.execute_input": "2022-10-07T05:57:37.402903Z",
     "iopub.status.busy": "2022-10-07T05:57:37.402491Z",
     "iopub.status.idle": "2022-10-07T05:57:37.409988Z",
     "shell.execute_reply": "2022-10-07T05:57:37.408942Z",
     "shell.execute_reply.started": "2022-10-07T05:57:37.402867Z"
    },
    "papermill": {
     "duration": null,
     "end_time": null,
     "exception": null,
     "start_time": null,
     "status": "pending"
    },
    "tags": []
   },
   "outputs": [],
   "source": [
    "marks[:3] # Printing all values till excluding 3rd index"
   ]
  },
  {
   "cell_type": "code",
   "execution_count": null,
   "id": "d1dc493f",
   "metadata": {
    "execution": {
     "iopub.execute_input": "2022-10-07T05:58:22.402621Z",
     "iopub.status.busy": "2022-10-07T05:58:22.402185Z",
     "iopub.status.idle": "2022-10-07T05:58:22.409437Z",
     "shell.execute_reply": "2022-10-07T05:58:22.408264Z",
     "shell.execute_reply.started": "2022-10-07T05:58:22.402586Z"
    },
    "papermill": {
     "duration": null,
     "end_time": null,
     "exception": null,
     "start_time": null,
     "status": "pending"
    },
    "tags": []
   },
   "outputs": [],
   "source": [
    "marks[:-5]"
   ]
  },
  {
   "cell_type": "code",
   "execution_count": null,
   "id": "878da6b9",
   "metadata": {
    "execution": {
     "iopub.execute_input": "2022-10-07T06:00:59.224005Z",
     "iopub.status.busy": "2022-10-07T06:00:59.223580Z",
     "iopub.status.idle": "2022-10-07T06:00:59.232623Z",
     "shell.execute_reply": "2022-10-07T06:00:59.231245Z",
     "shell.execute_reply.started": "2022-10-07T06:00:59.223970Z"
    },
    "papermill": {
     "duration": null,
     "end_time": null,
     "exception": null,
     "start_time": null,
     "status": "pending"
    },
    "tags": []
   },
   "outputs": [],
   "source": [
    "len(marks)"
   ]
  },
  {
   "cell_type": "code",
   "execution_count": null,
   "id": "4ef365aa",
   "metadata": {
    "execution": {
     "iopub.execute_input": "2022-10-07T06:00:39.931641Z",
     "iopub.status.busy": "2022-10-07T06:00:39.931227Z",
     "iopub.status.idle": "2022-10-07T06:00:39.937673Z",
     "shell.execute_reply": "2022-10-07T06:00:39.936428Z",
     "shell.execute_reply.started": "2022-10-07T06:00:39.931606Z"
    },
    "papermill": {
     "duration": null,
     "end_time": null,
     "exception": null,
     "start_time": null,
     "status": "pending"
    },
    "tags": []
   },
   "outputs": [],
   "source": [
    "for i in range(len(marks)):\n",
    "    print(marks[i])"
   ]
  },
  {
   "cell_type": "markdown",
   "id": "cdc7ac56",
   "metadata": {
    "papermill": {
     "duration": null,
     "end_time": null,
     "exception": null,
     "start_time": null,
     "status": "pending"
    },
    "tags": []
   },
   "source": [
    "* ### Append"
   ]
  },
  {
   "cell_type": "code",
   "execution_count": null,
   "id": "38689c29",
   "metadata": {
    "execution": {
     "iopub.execute_input": "2022-10-07T06:09:56.242032Z",
     "iopub.status.busy": "2022-10-07T06:09:56.241017Z",
     "iopub.status.idle": "2022-10-07T06:09:56.248867Z",
     "shell.execute_reply": "2022-10-07T06:09:56.247814Z",
     "shell.execute_reply.started": "2022-10-07T06:09:56.241993Z"
    },
    "papermill": {
     "duration": null,
     "end_time": null,
     "exception": null,
     "start_time": null,
     "status": "pending"
    },
    "tags": []
   },
   "outputs": [],
   "source": [
    "marks.append(34)\n",
    "marks"
   ]
  },
  {
   "cell_type": "code",
   "execution_count": null,
   "id": "bffdc2bf",
   "metadata": {
    "execution": {
     "iopub.execute_input": "2022-10-07T06:10:15.884376Z",
     "iopub.status.busy": "2022-10-07T06:10:15.883651Z",
     "iopub.status.idle": "2022-10-07T06:10:15.893121Z",
     "shell.execute_reply": "2022-10-07T06:10:15.891802Z",
     "shell.execute_reply.started": "2022-10-07T06:10:15.884326Z"
    },
    "papermill": {
     "duration": null,
     "end_time": null,
     "exception": null,
     "start_time": null,
     "status": "pending"
    },
    "tags": []
   },
   "outputs": [],
   "source": [
    "marks.append('python')\n",
    "marks"
   ]
  },
  {
   "cell_type": "markdown",
   "id": "66048d0b",
   "metadata": {
    "papermill": {
     "duration": null,
     "end_time": null,
     "exception": null,
     "start_time": null,
     "status": "pending"
    },
    "tags": []
   },
   "source": [
    "* ### Extend - to appnd multiple values in list"
   ]
  },
  {
   "cell_type": "code",
   "execution_count": null,
   "id": "1a95c2a9",
   "metadata": {
    "execution": {
     "iopub.execute_input": "2022-10-07T06:11:30.017254Z",
     "iopub.status.busy": "2022-10-07T06:11:30.016847Z",
     "iopub.status.idle": "2022-10-07T06:11:30.024692Z",
     "shell.execute_reply": "2022-10-07T06:11:30.023353Z",
     "shell.execute_reply.started": "2022-10-07T06:11:30.017223Z"
    },
    "papermill": {
     "duration": null,
     "end_time": null,
     "exception": null,
     "start_time": null,
     "status": "pending"
    },
    "tags": []
   },
   "outputs": [],
   "source": [
    "marks.extend([32,'C++','30'])\n",
    "marks"
   ]
  },
  {
   "cell_type": "markdown",
   "id": "0fc4fbab",
   "metadata": {
    "papermill": {
     "duration": null,
     "end_time": null,
     "exception": null,
     "start_time": null,
     "status": "pending"
    },
    "tags": []
   },
   "source": [
    "* ### Remove "
   ]
  },
  {
   "cell_type": "code",
   "execution_count": null,
   "id": "b84ccebc",
   "metadata": {
    "execution": {
     "iopub.execute_input": "2022-10-07T06:12:56.002747Z",
     "iopub.status.busy": "2022-10-07T06:12:56.002300Z",
     "iopub.status.idle": "2022-10-07T06:12:56.010997Z",
     "shell.execute_reply": "2022-10-07T06:12:56.009671Z",
     "shell.execute_reply.started": "2022-10-07T06:12:56.002711Z"
    },
    "papermill": {
     "duration": null,
     "end_time": null,
     "exception": null,
     "start_time": null,
     "status": "pending"
    },
    "tags": []
   },
   "outputs": [],
   "source": [
    "marks.remove(34)\n",
    "marks"
   ]
  },
  {
   "cell_type": "code",
   "execution_count": null,
   "id": "834e13e0",
   "metadata": {
    "execution": {
     "iopub.execute_input": "2022-10-07T06:16:24.277835Z",
     "iopub.status.busy": "2022-10-07T06:16:24.277399Z",
     "iopub.status.idle": "2022-10-07T06:16:24.286743Z",
     "shell.execute_reply": "2022-10-07T06:16:24.285567Z",
     "shell.execute_reply.started": "2022-10-07T06:16:24.277800Z"
    },
    "papermill": {
     "duration": null,
     "end_time": null,
     "exception": null,
     "start_time": null,
     "status": "pending"
    },
    "tags": []
   },
   "outputs": [],
   "source": [
    "marks.remove('python')\n",
    "marks.remove('C++')\n",
    "marks.remove('30')\n",
    "marks"
   ]
  },
  {
   "cell_type": "markdown",
   "id": "3e812261",
   "metadata": {
    "papermill": {
     "duration": null,
     "end_time": null,
     "exception": null,
     "start_time": null,
     "status": "pending"
    },
    "tags": []
   },
   "source": [
    "* ### Count "
   ]
  },
  {
   "cell_type": "code",
   "execution_count": null,
   "id": "fa51df4b",
   "metadata": {
    "execution": {
     "iopub.execute_input": "2022-10-07T06:17:43.306980Z",
     "iopub.status.busy": "2022-10-07T06:17:43.306566Z",
     "iopub.status.idle": "2022-10-07T06:17:43.313381Z",
     "shell.execute_reply": "2022-10-07T06:17:43.312556Z",
     "shell.execute_reply.started": "2022-10-07T06:17:43.306949Z"
    },
    "papermill": {
     "duration": null,
     "end_time": null,
     "exception": null,
     "start_time": null,
     "status": "pending"
    },
    "tags": []
   },
   "outputs": [],
   "source": [
    "marks.count(12)"
   ]
  },
  {
   "cell_type": "markdown",
   "id": "2160ec6a",
   "metadata": {
    "papermill": {
     "duration": null,
     "end_time": null,
     "exception": null,
     "start_time": null,
     "status": "pending"
    },
    "tags": []
   },
   "source": [
    "* ### Pop - to remove item at specific position. Using index "
   ]
  },
  {
   "cell_type": "code",
   "execution_count": null,
   "id": "7acb3018",
   "metadata": {
    "execution": {
     "iopub.execute_input": "2022-10-07T06:18:54.084101Z",
     "iopub.status.busy": "2022-10-07T06:18:54.083679Z",
     "iopub.status.idle": "2022-10-07T06:18:54.091871Z",
     "shell.execute_reply": "2022-10-07T06:18:54.090626Z",
     "shell.execute_reply.started": "2022-10-07T06:18:54.084065Z"
    },
    "papermill": {
     "duration": null,
     "end_time": null,
     "exception": null,
     "start_time": null,
     "status": "pending"
    },
    "tags": []
   },
   "outputs": [],
   "source": [
    "marks"
   ]
  },
  {
   "cell_type": "code",
   "execution_count": null,
   "id": "5d50e449",
   "metadata": {
    "execution": {
     "iopub.execute_input": "2022-10-07T06:19:02.534586Z",
     "iopub.status.busy": "2022-10-07T06:19:02.534152Z",
     "iopub.status.idle": "2022-10-07T06:19:02.541874Z",
     "shell.execute_reply": "2022-10-07T06:19:02.540673Z",
     "shell.execute_reply.started": "2022-10-07T06:19:02.534550Z"
    },
    "papermill": {
     "duration": null,
     "end_time": null,
     "exception": null,
     "start_time": null,
     "status": "pending"
    },
    "tags": []
   },
   "outputs": [],
   "source": [
    "marks.pop() #last item removing"
   ]
  },
  {
   "cell_type": "code",
   "execution_count": null,
   "id": "e22c6bda",
   "metadata": {
    "execution": {
     "iopub.execute_input": "2022-10-07T06:19:07.252838Z",
     "iopub.status.busy": "2022-10-07T06:19:07.252389Z",
     "iopub.status.idle": "2022-10-07T06:19:07.260801Z",
     "shell.execute_reply": "2022-10-07T06:19:07.259858Z",
     "shell.execute_reply.started": "2022-10-07T06:19:07.252801Z"
    },
    "papermill": {
     "duration": null,
     "end_time": null,
     "exception": null,
     "start_time": null,
     "status": "pending"
    },
    "tags": []
   },
   "outputs": [],
   "source": [
    "marks"
   ]
  },
  {
   "cell_type": "code",
   "execution_count": null,
   "id": "eac0bf29",
   "metadata": {
    "execution": {
     "iopub.execute_input": "2022-10-07T06:19:32.408929Z",
     "iopub.status.busy": "2022-10-07T06:19:32.408510Z",
     "iopub.status.idle": "2022-10-07T06:19:32.416429Z",
     "shell.execute_reply": "2022-10-07T06:19:32.415161Z",
     "shell.execute_reply.started": "2022-10-07T06:19:32.408892Z"
    },
    "papermill": {
     "duration": null,
     "end_time": null,
     "exception": null,
     "start_time": null,
     "status": "pending"
    },
    "tags": []
   },
   "outputs": [],
   "source": [
    "marks.pop(0) # removing item at 0th index\n",
    "marks"
   ]
  },
  {
   "cell_type": "markdown",
   "id": "febf9c39",
   "metadata": {
    "papermill": {
     "duration": null,
     "end_time": null,
     "exception": null,
     "start_time": null,
     "status": "pending"
    },
    "tags": []
   },
   "source": [
    "* ### Reverse "
   ]
  },
  {
   "cell_type": "code",
   "execution_count": null,
   "id": "4062f298",
   "metadata": {
    "execution": {
     "iopub.execute_input": "2022-10-07T06:21:42.313071Z",
     "iopub.status.busy": "2022-10-07T06:21:42.312669Z",
     "iopub.status.idle": "2022-10-07T06:21:42.320798Z",
     "shell.execute_reply": "2022-10-07T06:21:42.319569Z",
     "shell.execute_reply.started": "2022-10-07T06:21:42.313027Z"
    },
    "papermill": {
     "duration": null,
     "end_time": null,
     "exception": null,
     "start_time": null,
     "status": "pending"
    },
    "tags": []
   },
   "outputs": [],
   "source": [
    "marks"
   ]
  },
  {
   "cell_type": "code",
   "execution_count": null,
   "id": "9a8829bb",
   "metadata": {
    "execution": {
     "iopub.execute_input": "2022-10-07T06:22:03.273270Z",
     "iopub.status.busy": "2022-10-07T06:22:03.272855Z",
     "iopub.status.idle": "2022-10-07T06:22:03.279716Z",
     "shell.execute_reply": "2022-10-07T06:22:03.278561Z",
     "shell.execute_reply.started": "2022-10-07T06:22:03.273237Z"
    },
    "papermill": {
     "duration": null,
     "end_time": null,
     "exception": null,
     "start_time": null,
     "status": "pending"
    },
    "tags": []
   },
   "outputs": [],
   "source": [
    "marks.reverse() # to reverse the order of the list\n",
    "marks"
   ]
  },
  {
   "cell_type": "markdown",
   "id": "b17d733f",
   "metadata": {
    "papermill": {
     "duration": null,
     "end_time": null,
     "exception": null,
     "start_time": null,
     "status": "pending"
    },
    "tags": []
   },
   "source": [
    "* ### Sorting "
   ]
  },
  {
   "cell_type": "code",
   "execution_count": null,
   "id": "38879a99",
   "metadata": {
    "execution": {
     "iopub.execute_input": "2022-10-07T06:23:15.041182Z",
     "iopub.status.busy": "2022-10-07T06:23:15.040770Z",
     "iopub.status.idle": "2022-10-07T06:23:15.048874Z",
     "shell.execute_reply": "2022-10-07T06:23:15.047770Z",
     "shell.execute_reply.started": "2022-10-07T06:23:15.041151Z"
    },
    "papermill": {
     "duration": null,
     "end_time": null,
     "exception": null,
     "start_time": null,
     "status": "pending"
    },
    "tags": []
   },
   "outputs": [],
   "source": [
    "marks"
   ]
  },
  {
   "cell_type": "code",
   "execution_count": null,
   "id": "8c7880fd",
   "metadata": {
    "execution": {
     "iopub.execute_input": "2022-10-07T06:23:37.328962Z",
     "iopub.status.busy": "2022-10-07T06:23:37.328569Z",
     "iopub.status.idle": "2022-10-07T06:23:37.336473Z",
     "shell.execute_reply": "2022-10-07T06:23:37.335091Z",
     "shell.execute_reply.started": "2022-10-07T06:23:37.328931Z"
    },
    "papermill": {
     "duration": null,
     "end_time": null,
     "exception": null,
     "start_time": null,
     "status": "pending"
    },
    "tags": []
   },
   "outputs": [],
   "source": [
    "marks.sort() # Ascending Order\n",
    "marks"
   ]
  },
  {
   "cell_type": "code",
   "execution_count": null,
   "id": "6509fa6b",
   "metadata": {
    "execution": {
     "iopub.execute_input": "2022-10-07T06:25:07.733878Z",
     "iopub.status.busy": "2022-10-07T06:25:07.732931Z",
     "iopub.status.idle": "2022-10-07T06:25:07.742211Z",
     "shell.execute_reply": "2022-10-07T06:25:07.740717Z",
     "shell.execute_reply.started": "2022-10-07T06:25:07.733834Z"
    },
    "papermill": {
     "duration": null,
     "end_time": null,
     "exception": null,
     "start_time": null,
     "status": "pending"
    },
    "tags": []
   },
   "outputs": [],
   "source": [
    "marks.sort(reverse=True) # Descending Order\n",
    "marks"
   ]
  },
  {
   "cell_type": "markdown",
   "id": "34524b70",
   "metadata": {
    "papermill": {
     "duration": null,
     "end_time": null,
     "exception": null,
     "start_time": null,
     "status": "pending"
    },
    "tags": []
   },
   "source": [
    "* ### Index "
   ]
  },
  {
   "cell_type": "code",
   "execution_count": null,
   "id": "7936b721",
   "metadata": {
    "execution": {
     "iopub.execute_input": "2022-10-07T06:26:52.545138Z",
     "iopub.status.busy": "2022-10-07T06:26:52.544077Z",
     "iopub.status.idle": "2022-10-07T06:26:52.551426Z",
     "shell.execute_reply": "2022-10-07T06:26:52.550550Z",
     "shell.execute_reply.started": "2022-10-07T06:26:52.545095Z"
    },
    "papermill": {
     "duration": null,
     "end_time": null,
     "exception": null,
     "start_time": null,
     "status": "pending"
    },
    "tags": []
   },
   "outputs": [],
   "source": [
    "marks.index(17) # to print the index of the specific value"
   ]
  },
  {
   "cell_type": "markdown",
   "id": "39b0edf4",
   "metadata": {
    "papermill": {
     "duration": null,
     "end_time": null,
     "exception": null,
     "start_time": null,
     "status": "pending"
    },
    "tags": []
   },
   "source": [
    "# Sets"
   ]
  },
  {
   "cell_type": "markdown",
   "id": "163a0f6d",
   "metadata": {
    "papermill": {
     "duration": null,
     "end_time": null,
     "exception": null,
     "start_time": null,
     "status": "pending"
    },
    "tags": []
   },
   "source": [
    "**It does not allow indexing**"
   ]
  },
  {
   "cell_type": "code",
   "execution_count": null,
   "id": "d1fe1e29",
   "metadata": {
    "execution": {
     "iopub.execute_input": "2022-10-15T04:22:50.872188Z",
     "iopub.status.busy": "2022-10-15T04:22:50.871670Z",
     "iopub.status.idle": "2022-10-15T04:22:50.876893Z",
     "shell.execute_reply": "2022-10-15T04:22:50.875972Z",
     "shell.execute_reply.started": "2022-10-15T04:22:50.872162Z"
    },
    "papermill": {
     "duration": null,
     "end_time": null,
     "exception": null,
     "start_time": null,
     "status": "pending"
    },
    "tags": []
   },
   "outputs": [],
   "source": [
    "my_set={17,12,12,12,14,16,17,14,15,16,'Python'}"
   ]
  },
  {
   "cell_type": "code",
   "execution_count": null,
   "id": "0ef23b3f",
   "metadata": {
    "execution": {
     "iopub.execute_input": "2022-10-15T04:22:54.164965Z",
     "iopub.status.busy": "2022-10-15T04:22:54.164110Z",
     "iopub.status.idle": "2022-10-15T04:22:54.178402Z",
     "shell.execute_reply": "2022-10-15T04:22:54.176986Z",
     "shell.execute_reply.started": "2022-10-15T04:22:54.164929Z"
    },
    "papermill": {
     "duration": null,
     "end_time": null,
     "exception": null,
     "start_time": null,
     "status": "pending"
    },
    "tags": []
   },
   "outputs": [],
   "source": [
    "my_set[0]"
   ]
  },
  {
   "cell_type": "code",
   "execution_count": null,
   "id": "72ac23da",
   "metadata": {
    "execution": {
     "iopub.execute_input": "2022-10-07T06:51:40.643289Z",
     "iopub.status.busy": "2022-10-07T06:51:40.642400Z",
     "iopub.status.idle": "2022-10-07T06:51:40.650531Z",
     "shell.execute_reply": "2022-10-07T06:51:40.649248Z",
     "shell.execute_reply.started": "2022-10-07T06:51:40.643252Z"
    },
    "papermill": {
     "duration": null,
     "end_time": null,
     "exception": null,
     "start_time": null,
     "status": "pending"
    },
    "tags": []
   },
   "outputs": [],
   "source": [
    "my_set # It does not print duplicate values"
   ]
  },
  {
   "cell_type": "code",
   "execution_count": null,
   "id": "8e445963",
   "metadata": {
    "execution": {
     "iopub.execute_input": "2022-10-07T06:52:23.703998Z",
     "iopub.status.busy": "2022-10-07T06:52:23.703552Z",
     "iopub.status.idle": "2022-10-07T06:52:23.710732Z",
     "shell.execute_reply": "2022-10-07T06:52:23.709546Z",
     "shell.execute_reply.started": "2022-10-07T06:52:23.703958Z"
    },
    "papermill": {
     "duration": null,
     "end_time": null,
     "exception": null,
     "start_time": null,
     "status": "pending"
    },
    "tags": []
   },
   "outputs": [],
   "source": [
    "# to remove duplicated values from list\n",
    "\n",
    "marks"
   ]
  },
  {
   "cell_type": "code",
   "execution_count": null,
   "id": "37856f55",
   "metadata": {
    "execution": {
     "iopub.execute_input": "2022-10-07T06:52:39.402496Z",
     "iopub.status.busy": "2022-10-07T06:52:39.401429Z",
     "iopub.status.idle": "2022-10-07T06:52:39.410239Z",
     "shell.execute_reply": "2022-10-07T06:52:39.408955Z",
     "shell.execute_reply.started": "2022-10-07T06:52:39.402414Z"
    },
    "papermill": {
     "duration": null,
     "end_time": null,
     "exception": null,
     "start_time": null,
     "status": "pending"
    },
    "tags": []
   },
   "outputs": [],
   "source": [
    "set(marks)"
   ]
  },
  {
   "cell_type": "code",
   "execution_count": null,
   "id": "734d7a8a",
   "metadata": {
    "execution": {
     "iopub.execute_input": "2022-10-07T06:53:06.266833Z",
     "iopub.status.busy": "2022-10-07T06:53:06.266398Z",
     "iopub.status.idle": "2022-10-07T06:53:06.274114Z",
     "shell.execute_reply": "2022-10-07T06:53:06.272693Z",
     "shell.execute_reply.started": "2022-10-07T06:53:06.266796Z"
    },
    "papermill": {
     "duration": null,
     "end_time": null,
     "exception": null,
     "start_time": null,
     "status": "pending"
    },
    "tags": []
   },
   "outputs": [],
   "source": [
    "# Now convert this set into list\n",
    "\n",
    "list(set(marks))"
   ]
  },
  {
   "cell_type": "code",
   "execution_count": null,
   "id": "4571c913",
   "metadata": {
    "execution": {
     "iopub.execute_input": "2022-10-07T06:56:22.927152Z",
     "iopub.status.busy": "2022-10-07T06:56:22.926718Z",
     "iopub.status.idle": "2022-10-07T06:56:22.933107Z",
     "shell.execute_reply": "2022-10-07T06:56:22.931741Z",
     "shell.execute_reply.started": "2022-10-07T06:56:22.927114Z"
    },
    "papermill": {
     "duration": null,
     "end_time": null,
     "exception": null,
     "start_time": null,
     "status": "pending"
    },
    "tags": []
   },
   "outputs": [],
   "source": [
    "# Applying operations in sets\n",
    "set1={17,12,12,12,14,16,17,14,15,16}\n",
    "set2={21,23,12,24,45}"
   ]
  },
  {
   "cell_type": "code",
   "execution_count": null,
   "id": "94f9f3f2",
   "metadata": {
    "execution": {
     "iopub.execute_input": "2022-10-07T06:56:33.615914Z",
     "iopub.status.busy": "2022-10-07T06:56:33.615269Z",
     "iopub.status.idle": "2022-10-07T06:56:33.622784Z",
     "shell.execute_reply": "2022-10-07T06:56:33.621470Z",
     "shell.execute_reply.started": "2022-10-07T06:56:33.615876Z"
    },
    "papermill": {
     "duration": null,
     "end_time": null,
     "exception": null,
     "start_time": null,
     "status": "pending"
    },
    "tags": []
   },
   "outputs": [],
   "source": [
    "set1.difference(set2) # to print those values of set1 which are not present in set2"
   ]
  },
  {
   "cell_type": "code",
   "execution_count": null,
   "id": "6f3a03a0",
   "metadata": {
    "execution": {
     "iopub.execute_input": "2022-10-07T06:57:43.122321Z",
     "iopub.status.busy": "2022-10-07T06:57:43.121546Z",
     "iopub.status.idle": "2022-10-07T06:57:43.129791Z",
     "shell.execute_reply": "2022-10-07T06:57:43.128565Z",
     "shell.execute_reply.started": "2022-10-07T06:57:43.122280Z"
    },
    "papermill": {
     "duration": null,
     "end_time": null,
     "exception": null,
     "start_time": null,
     "status": "pending"
    },
    "tags": []
   },
   "outputs": [],
   "source": [
    "set1.intersection(set2) # Taking intersection of set1 and set2"
   ]
  },
  {
   "cell_type": "code",
   "execution_count": null,
   "id": "d59cf3bb",
   "metadata": {
    "execution": {
     "iopub.execute_input": "2022-10-07T06:58:32.214941Z",
     "iopub.status.busy": "2022-10-07T06:58:32.213803Z",
     "iopub.status.idle": "2022-10-07T06:58:32.222367Z",
     "shell.execute_reply": "2022-10-07T06:58:32.221209Z",
     "shell.execute_reply.started": "2022-10-07T06:58:32.214892Z"
    },
    "papermill": {
     "duration": null,
     "end_time": null,
     "exception": null,
     "start_time": null,
     "status": "pending"
    },
    "tags": []
   },
   "outputs": [],
   "source": [
    "set1.union(set2) # Taking union of set1 and set2, and also not printing duplicates"
   ]
  },
  {
   "cell_type": "code",
   "execution_count": null,
   "id": "351d050d",
   "metadata": {
    "execution": {
     "iopub.execute_input": "2022-10-07T06:59:27.286855Z",
     "iopub.status.busy": "2022-10-07T06:59:27.286405Z",
     "iopub.status.idle": "2022-10-07T06:59:27.296328Z",
     "shell.execute_reply": "2022-10-07T06:59:27.295056Z",
     "shell.execute_reply.started": "2022-10-07T06:59:27.286818Z"
    },
    "papermill": {
     "duration": null,
     "end_time": null,
     "exception": null,
     "start_time": null,
     "status": "pending"
    },
    "tags": []
   },
   "outputs": [],
   "source": [
    "set1.symmetric_difference(set2) # Printing all values of set1 and set 2, but excluding intersection values"
   ]
  },
  {
   "cell_type": "markdown",
   "id": "62fa4169",
   "metadata": {
    "papermill": {
     "duration": null,
     "end_time": null,
     "exception": null,
     "start_time": null,
     "status": "pending"
    },
    "tags": []
   },
   "source": [
    "# Tuples"
   ]
  },
  {
   "cell_type": "markdown",
   "id": "707e4a74",
   "metadata": {
    "papermill": {
     "duration": null,
     "end_time": null,
     "exception": null,
     "start_time": null,
     "status": "pending"
    },
    "tags": []
   },
   "source": [
    "**It is a constant list whose elements can't be altered.**"
   ]
  },
  {
   "cell_type": "code",
   "execution_count": null,
   "id": "c82140ff",
   "metadata": {
    "execution": {
     "iopub.execute_input": "2022-10-15T04:21:06.263938Z",
     "iopub.status.busy": "2022-10-15T04:21:06.263612Z",
     "iopub.status.idle": "2022-10-15T04:21:06.268318Z",
     "shell.execute_reply": "2022-10-15T04:21:06.267370Z",
     "shell.execute_reply.started": "2022-10-15T04:21:06.263912Z"
    },
    "papermill": {
     "duration": null,
     "end_time": null,
     "exception": null,
     "start_time": null,
     "status": "pending"
    },
    "tags": []
   },
   "outputs": [],
   "source": [
    "my_tuple = (12,12.30,34,43,45,13)"
   ]
  },
  {
   "cell_type": "code",
   "execution_count": null,
   "id": "2c35f7ee",
   "metadata": {
    "execution": {
     "iopub.execute_input": "2022-10-15T04:20:14.059473Z",
     "iopub.status.busy": "2022-10-15T04:20:14.059153Z",
     "iopub.status.idle": "2022-10-15T04:20:14.067886Z",
     "shell.execute_reply": "2022-10-15T04:20:14.066570Z",
     "shell.execute_reply.started": "2022-10-15T04:20:14.059448Z"
    },
    "papermill": {
     "duration": null,
     "end_time": null,
     "exception": null,
     "start_time": null,
     "status": "pending"
    },
    "tags": []
   },
   "outputs": [],
   "source": [
    "type(my_tuple)"
   ]
  },
  {
   "cell_type": "code",
   "execution_count": null,
   "id": "b0aeef8f",
   "metadata": {
    "execution": {
     "iopub.execute_input": "2022-10-15T04:20:34.448385Z",
     "iopub.status.busy": "2022-10-15T04:20:34.448044Z",
     "iopub.status.idle": "2022-10-15T04:20:34.454065Z",
     "shell.execute_reply": "2022-10-15T04:20:34.453418Z",
     "shell.execute_reply.started": "2022-10-15T04:20:34.448361Z"
    },
    "papermill": {
     "duration": null,
     "end_time": null,
     "exception": null,
     "start_time": null,
     "status": "pending"
    },
    "tags": []
   },
   "outputs": [],
   "source": [
    "my_tuple[0]"
   ]
  },
  {
   "cell_type": "code",
   "execution_count": null,
   "id": "162480a8",
   "metadata": {
    "execution": {
     "iopub.execute_input": "2022-10-15T04:21:19.724135Z",
     "iopub.status.busy": "2022-10-15T04:21:19.723808Z",
     "iopub.status.idle": "2022-10-15T04:21:19.731850Z",
     "shell.execute_reply": "2022-10-15T04:21:19.730155Z",
     "shell.execute_reply.started": "2022-10-15T04:21:19.724109Z"
    },
    "papermill": {
     "duration": null,
     "end_time": null,
     "exception": null,
     "start_time": null,
     "status": "pending"
    },
    "tags": []
   },
   "outputs": [],
   "source": [
    "my_tuple"
   ]
  },
  {
   "cell_type": "code",
   "execution_count": null,
   "id": "86fa5d01",
   "metadata": {
    "execution": {
     "iopub.execute_input": "2022-10-15T04:24:39.975980Z",
     "iopub.status.busy": "2022-10-15T04:24:39.975665Z",
     "iopub.status.idle": "2022-10-15T04:24:39.982079Z",
     "shell.execute_reply": "2022-10-15T04:24:39.980900Z",
     "shell.execute_reply.started": "2022-10-15T04:24:39.975956Z"
    },
    "papermill": {
     "duration": null,
     "end_time": null,
     "exception": null,
     "start_time": null,
     "status": "pending"
    },
    "tags": []
   },
   "outputs": [],
   "source": [
    "for i in range(len(my_tuple)):\n",
    "    print(my_tuple[i])"
   ]
  },
  {
   "cell_type": "code",
   "execution_count": null,
   "id": "08df8fb6",
   "metadata": {
    "execution": {
     "iopub.execute_input": "2022-10-15T04:29:24.106947Z",
     "iopub.status.busy": "2022-10-15T04:29:24.106535Z",
     "iopub.status.idle": "2022-10-15T04:29:24.113994Z",
     "shell.execute_reply": "2022-10-15T04:29:24.112851Z",
     "shell.execute_reply.started": "2022-10-15T04:29:24.106893Z"
    },
    "papermill": {
     "duration": null,
     "end_time": null,
     "exception": null,
     "start_time": null,
     "status": "pending"
    },
    "tags": []
   },
   "outputs": [],
   "source": [
    "len(my_tuple)"
   ]
  },
  {
   "cell_type": "code",
   "execution_count": null,
   "id": "a8b7c174",
   "metadata": {
    "execution": {
     "iopub.execute_input": "2022-10-15T04:36:19.597814Z",
     "iopub.status.busy": "2022-10-15T04:36:19.597500Z",
     "iopub.status.idle": "2022-10-15T04:36:19.611241Z",
     "shell.execute_reply": "2022-10-15T04:36:19.609313Z",
     "shell.execute_reply.started": "2022-10-15T04:36:19.597789Z"
    },
    "papermill": {
     "duration": null,
     "end_time": null,
     "exception": null,
     "start_time": null,
     "status": "pending"
    },
    "tags": []
   },
   "outputs": [],
   "source": [
    "my_tuple[0]=221 # Error shows values can not be updated in tuple"
   ]
  },
  {
   "cell_type": "code",
   "execution_count": null,
   "id": "3b414956",
   "metadata": {
    "execution": {
     "iopub.execute_input": "2022-10-15T04:42:03.120941Z",
     "iopub.status.busy": "2022-10-15T04:42:03.120597Z",
     "iopub.status.idle": "2022-10-15T04:42:03.125173Z",
     "shell.execute_reply": "2022-10-15T04:42:03.124408Z",
     "shell.execute_reply.started": "2022-10-15T04:42:03.120915Z"
    },
    "papermill": {
     "duration": null,
     "end_time": null,
     "exception": null,
     "start_time": null,
     "status": "pending"
    },
    "tags": []
   },
   "outputs": [],
   "source": [
    "my_tuple = (12,12,30,13,34,45,13)"
   ]
  },
  {
   "cell_type": "markdown",
   "id": "4b48c82c",
   "metadata": {
    "papermill": {
     "duration": null,
     "end_time": null,
     "exception": null,
     "start_time": null,
     "status": "pending"
    },
    "tags": []
   },
   "source": [
    "**It can only be updated if we first convert it into other data type (list).**"
   ]
  },
  {
   "cell_type": "code",
   "execution_count": null,
   "id": "41914db2",
   "metadata": {
    "execution": {
     "iopub.execute_input": "2022-10-15T04:42:05.730839Z",
     "iopub.status.busy": "2022-10-15T04:42:05.730533Z",
     "iopub.status.idle": "2022-10-15T04:42:05.736144Z",
     "shell.execute_reply": "2022-10-15T04:42:05.734656Z",
     "shell.execute_reply.started": "2022-10-15T04:42:05.730815Z"
    },
    "papermill": {
     "duration": null,
     "end_time": null,
     "exception": null,
     "start_time": null,
     "status": "pending"
    },
    "tags": []
   },
   "outputs": [],
   "source": [
    "my_tuple=list(my_tuple) # converting tuple into list\n",
    "my_tuple[0] = 221  # updating value\n",
    "my_tuple = tuple(my_tuple)"
   ]
  },
  {
   "cell_type": "code",
   "execution_count": null,
   "id": "58423943",
   "metadata": {
    "execution": {
     "iopub.execute_input": "2022-10-15T04:42:12.468823Z",
     "iopub.status.busy": "2022-10-15T04:42:12.468480Z",
     "iopub.status.idle": "2022-10-15T04:42:12.476865Z",
     "shell.execute_reply": "2022-10-15T04:42:12.475003Z",
     "shell.execute_reply.started": "2022-10-15T04:42:12.468796Z"
    },
    "papermill": {
     "duration": null,
     "end_time": null,
     "exception": null,
     "start_time": null,
     "status": "pending"
    },
    "tags": []
   },
   "outputs": [],
   "source": [
    "my_tuple"
   ]
  },
  {
   "cell_type": "code",
   "execution_count": null,
   "id": "3aa882f6",
   "metadata": {
    "execution": {
     "iopub.execute_input": "2022-10-15T04:43:33.188416Z",
     "iopub.status.busy": "2022-10-15T04:43:33.188087Z",
     "iopub.status.idle": "2022-10-15T04:43:33.196386Z",
     "shell.execute_reply": "2022-10-15T04:43:33.195582Z",
     "shell.execute_reply.started": "2022-10-15T04:43:33.188391Z"
    },
    "papermill": {
     "duration": null,
     "end_time": null,
     "exception": null,
     "start_time": null,
     "status": "pending"
    },
    "tags": []
   },
   "outputs": [],
   "source": [
    "my_tuple.count(12)"
   ]
  },
  {
   "cell_type": "code",
   "execution_count": null,
   "id": "0c08ca08",
   "metadata": {
    "execution": {
     "iopub.execute_input": "2022-10-15T04:43:57.485068Z",
     "iopub.status.busy": "2022-10-15T04:43:57.484742Z",
     "iopub.status.idle": "2022-10-15T04:43:57.493243Z",
     "shell.execute_reply": "2022-10-15T04:43:57.491580Z",
     "shell.execute_reply.started": "2022-10-15T04:43:57.485044Z"
    },
    "papermill": {
     "duration": null,
     "end_time": null,
     "exception": null,
     "start_time": null,
     "status": "pending"
    },
    "tags": []
   },
   "outputs": [],
   "source": [
    "my_tuple.index(30)  # index of value 30"
   ]
  },
  {
   "cell_type": "markdown",
   "id": "5d387322",
   "metadata": {
    "papermill": {
     "duration": null,
     "end_time": null,
     "exception": null,
     "start_time": null,
     "status": "pending"
    },
    "tags": []
   },
   "source": [
    "# Dictionary - Stores key value pair"
   ]
  },
  {
   "cell_type": "code",
   "execution_count": null,
   "id": "80fb5e8c",
   "metadata": {
    "execution": {
     "iopub.execute_input": "2022-10-15T04:52:55.268067Z",
     "iopub.status.busy": "2022-10-15T04:52:55.267773Z",
     "iopub.status.idle": "2022-10-15T04:52:55.273935Z",
     "shell.execute_reply": "2022-10-15T04:52:55.273024Z",
     "shell.execute_reply.started": "2022-10-15T04:52:55.268042Z"
    },
    "papermill": {
     "duration": null,
     "end_time": null,
     "exception": null,
     "start_time": null,
     "status": "pending"
    },
    "tags": []
   },
   "outputs": [],
   "source": [
    "my_dict = {'one':123,'fiber':22.1,78:'String'} # key and value can be of any types\n",
    "my_dict"
   ]
  },
  {
   "cell_type": "code",
   "execution_count": null,
   "id": "b3ab2290",
   "metadata": {
    "execution": {
     "iopub.execute_input": "2022-10-15T04:53:13.795968Z",
     "iopub.status.busy": "2022-10-15T04:53:13.795666Z",
     "iopub.status.idle": "2022-10-15T04:53:13.802634Z",
     "shell.execute_reply": "2022-10-15T04:53:13.801716Z",
     "shell.execute_reply.started": "2022-10-15T04:53:13.795944Z"
    },
    "papermill": {
     "duration": null,
     "end_time": null,
     "exception": null,
     "start_time": null,
     "status": "pending"
    },
    "tags": []
   },
   "outputs": [],
   "source": [
    "my_dict['one']"
   ]
  },
  {
   "cell_type": "code",
   "execution_count": null,
   "id": "b59304b3",
   "metadata": {
    "execution": {
     "iopub.execute_input": "2022-10-15T05:01:36.091421Z",
     "iopub.status.busy": "2022-10-15T05:01:36.091080Z",
     "iopub.status.idle": "2022-10-15T05:01:36.099655Z",
     "shell.execute_reply": "2022-10-15T05:01:36.098031Z",
     "shell.execute_reply.started": "2022-10-15T05:01:36.091395Z"
    },
    "papermill": {
     "duration": null,
     "end_time": null,
     "exception": null,
     "start_time": null,
     "status": "pending"
    },
    "tags": []
   },
   "outputs": [],
   "source": [
    "my_dict['one'] = 1000 # to update the value\n",
    "my_dict"
   ]
  },
  {
   "cell_type": "code",
   "execution_count": null,
   "id": "4facd0f7",
   "metadata": {
    "execution": {
     "iopub.execute_input": "2022-10-15T05:02:45.778398Z",
     "iopub.status.busy": "2022-10-15T05:02:45.778046Z",
     "iopub.status.idle": "2022-10-15T05:02:45.784699Z",
     "shell.execute_reply": "2022-10-15T05:02:45.783457Z",
     "shell.execute_reply.started": "2022-10-15T05:02:45.778373Z"
    },
    "papermill": {
     "duration": null,
     "end_time": null,
     "exception": null,
     "start_time": null,
     "status": "pending"
    },
    "tags": []
   },
   "outputs": [],
   "source": [
    "for (key,value) in my_dict.items():\n",
    "    print(key,value)"
   ]
  },
  {
   "cell_type": "code",
   "execution_count": null,
   "id": "d4e8095d",
   "metadata": {
    "execution": {
     "iopub.execute_input": "2022-10-15T05:12:17.462016Z",
     "iopub.status.busy": "2022-10-15T05:12:17.461701Z",
     "iopub.status.idle": "2022-10-15T05:12:17.468849Z",
     "shell.execute_reply": "2022-10-15T05:12:17.467585Z",
     "shell.execute_reply.started": "2022-10-15T05:12:17.461991Z"
    },
    "papermill": {
     "duration": null,
     "end_time": null,
     "exception": null,
     "start_time": null,
     "status": "pending"
    },
    "tags": []
   },
   "outputs": [],
   "source": [
    "# Find all the vehicles whose prices are less than 8000?\n",
    "cars = {'sedan':12000,'suzoki':6000,'mehran':200,'civic':20000,'corola':2000}\n",
    "\n",
    "for (key,value) in cars.items():\n",
    "    if value < 8000:\n",
    "        print(key,value)"
   ]
  },
  {
   "cell_type": "code",
   "execution_count": null,
   "id": "e29482b9",
   "metadata": {
    "execution": {
     "iopub.execute_input": "2022-10-15T05:18:21.520273Z",
     "iopub.status.busy": "2022-10-15T05:18:21.519925Z",
     "iopub.status.idle": "2022-10-15T05:18:21.528408Z",
     "shell.execute_reply": "2022-10-15T05:18:21.527149Z",
     "shell.execute_reply.started": "2022-10-15T05:18:21.520247Z"
    },
    "papermill": {
     "duration": null,
     "end_time": null,
     "exception": null,
     "start_time": null,
     "status": "pending"
    },
    "tags": []
   },
   "outputs": [],
   "source": [
    "# Remove the second occurence of 56\n",
    "\n",
    "list = [12,34,43,54,56,23,56,12]\n",
    "list = list.pop(6)\n",
    "list\n",
    "# Remove all the occurences of 56\n"
   ]
  },
  {
   "cell_type": "code",
   "execution_count": null,
   "id": "ad9ea2ee",
   "metadata": {
    "papermill": {
     "duration": null,
     "end_time": null,
     "exception": null,
     "start_time": null,
     "status": "pending"
    },
    "tags": []
   },
   "outputs": [],
   "source": []
  },
  {
   "cell_type": "code",
   "execution_count": null,
   "id": "46ee0753",
   "metadata": {
    "papermill": {
     "duration": null,
     "end_time": null,
     "exception": null,
     "start_time": null,
     "status": "pending"
    },
    "tags": []
   },
   "outputs": [],
   "source": []
  },
  {
   "cell_type": "markdown",
   "id": "6209eefe",
   "metadata": {
    "papermill": {
     "duration": null,
     "end_time": null,
     "exception": null,
     "start_time": null,
     "status": "pending"
    },
    "tags": []
   },
   "source": []
  }
 ],
 "metadata": {
  "kernelspec": {
   "display_name": "Python 3 (ipykernel)",
   "language": "python",
   "name": "python3"
  },
  "language_info": {
   "codemirror_mode": {
    "name": "ipython",
    "version": 3
   },
   "file_extension": ".py",
   "mimetype": "text/x-python",
   "name": "python",
   "nbconvert_exporter": "python",
   "pygments_lexer": "ipython3",
   "version": "3.9.12"
  },
  "papermill": {
   "default_parameters": {},
   "duration": 12.401395,
   "end_time": "2022-10-18T16:25:40.361792",
   "environment_variables": {},
   "exception": true,
   "input_path": "__notebook__.ipynb",
   "output_path": "__notebook__.ipynb",
   "parameters": {},
   "start_time": "2022-10-18T16:25:27.960397",
   "version": "2.3.4"
  }
 },
 "nbformat": 4,
 "nbformat_minor": 5
}
