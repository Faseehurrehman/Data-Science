{
 "cells": [
  {
   "cell_type": "markdown",
   "id": "823230f8",
   "metadata": {},
   "source": [
    "## Comment"
   ]
  },
  {
   "cell_type": "markdown",
   "id": "977d489a",
   "metadata": {},
   "source": [
    "<b> A block of code for some purpose"
   ]
  },
  {
   "cell_type": "raw",
   "id": "b684f7ba",
   "metadata": {},
   "source": [
    "Components of Function:\n",
    "def (keyword), function_name (valid identifier), argument or parameter(input to function), colon, string (doc string - to tell about function), Body, return, call of function"
   ]
  },
  {
   "cell_type": "code",
   "execution_count": 44,
   "id": "e732ce7e",
   "metadata": {
    "scrolled": true
   },
   "outputs": [
    {
     "name": "stdout",
     "output_type": "stream",
     "text": [
      "Odd\n",
      "Even\n",
      "Odd\n",
      "Even\n",
      "Odd\n",
      "Even\n",
      "Odd\n",
      "Even\n",
      "Odd\n",
      "Even\n",
      "\n",
      "    This function tells if number is odd or even\n",
      "    input - any valid integer\n",
      "    output - odd/even\n",
      "    Created By - Faseeh\n",
      "    Last edited - 20 Oct 2022\n",
      "    \n",
      "    \n"
     ]
    }
   ],
   "source": [
    "def is_even(a):\n",
    "    \"\"\"\n",
    "    This function tells if number is odd or even\n",
    "    input - any valid integer\n",
    "    output - odd/even\n",
    "    Created By - Faseeh\n",
    "    Last edited - 20 Oct 2022\n",
    "    \n",
    "    \"\"\"\n",
    "    if a%2==0:\n",
    "        return 'Even'\n",
    "    else:\n",
    "        return 'Odd'\n",
    "for i in range(1,11):\n",
    "    print(is_even(i))\n",
    "\n",
    "print(is_even.__doc__)  # to print document string of function"
   ]
  },
  {
   "cell_type": "code",
   "execution_count": 51,
   "id": "8b8bf806",
   "metadata": {},
   "outputs": [
    {
     "name": "stdout",
     "output_type": "stream",
     "text": [
      "Even\n",
      "Even\n"
     ]
    }
   ],
   "source": [
    "def is_even(a):   # a is called as parameter\n",
    "    if type(a)==int:\n",
    "        if a%2==0:\n",
    "            print('Even')\n",
    "            return 'Even'\n",
    "        else:\n",
    "            print('Odd')\n",
    "            return 'Odd'\n",
    "    else:\n",
    "        print('Not Allowed')\n",
    "\n",
    "x = is_even(2)  # 2 is called as argument\n",
    "print(x)\n",
    "\n"
   ]
  },
  {
   "cell_type": "markdown",
   "id": "e728562f",
   "metadata": {},
   "source": [
    "## Arguments"
   ]
  },
  {
   "cell_type": "code",
   "execution_count": 52,
   "id": "5e9b7980",
   "metadata": {},
   "outputs": [
    {
     "data": {
      "text/plain": [
       "'\\nIn Python, there are four different types of arguments:\\n1 - Default Arguments\\n2 - Positional Arguments\\n3 - Keyword Arguments\\n4 - Arbitrary Arguments\\n'"
      ]
     },
     "execution_count": 52,
     "metadata": {},
     "output_type": "execute_result"
    }
   ],
   "source": [
    "\"\"\"\n",
    "In Python, there are four different types of arguments:\n",
    "1 - Default Arguments\n",
    "2 - Positional Arguments\n",
    "3 - Keyword Arguments\n",
    "4 - Arbitrary Arguments\n",
    "\"\"\""
   ]
  },
  {
   "cell_type": "code",
   "execution_count": 53,
   "id": "e92ab93f",
   "metadata": {},
   "outputs": [],
   "source": [
    "def power(a,b):\n",
    "    return a**b"
   ]
  },
  {
   "cell_type": "code",
   "execution_count": 54,
   "id": "9e50f8f1",
   "metadata": {},
   "outputs": [
    {
     "data": {
      "text/plain": [
       "8"
      ]
     },
     "execution_count": 54,
     "metadata": {},
     "output_type": "execute_result"
    }
   ],
   "source": [
    "power(2,3)"
   ]
  },
  {
   "cell_type": "code",
   "execution_count": 56,
   "id": "99bc11c8",
   "metadata": {},
   "outputs": [
    {
     "ename": "TypeError",
     "evalue": "power() missing 1 required positional argument: 'b'",
     "output_type": "error",
     "traceback": [
      "\u001b[1;31m---------------------------------------------------------------------------\u001b[0m",
      "\u001b[1;31mTypeError\u001b[0m                                 Traceback (most recent call last)",
      "Input \u001b[1;32mIn [56]\u001b[0m, in \u001b[0;36m<cell line: 1>\u001b[1;34m()\u001b[0m\n\u001b[1;32m----> 1\u001b[0m \u001b[43mpower\u001b[49m\u001b[43m(\u001b[49m\u001b[38;5;241;43m2\u001b[39;49m\u001b[43m)\u001b[49m\n",
      "\u001b[1;31mTypeError\u001b[0m: power() missing 1 required positional argument: 'b'"
     ]
    }
   ],
   "source": [
    "power(2)  # Code crashes becuase function is designed to have two inputs but we have provided one input"
   ]
  },
  {
   "cell_type": "code",
   "execution_count": 59,
   "id": "6672f84a",
   "metadata": {
    "scrolled": false
   },
   "outputs": [
    {
     "ename": "TypeError",
     "evalue": "power() missing 2 required positional arguments: 'a' and 'b'",
     "output_type": "error",
     "traceback": [
      "\u001b[1;31m---------------------------------------------------------------------------\u001b[0m",
      "\u001b[1;31mTypeError\u001b[0m                                 Traceback (most recent call last)",
      "Input \u001b[1;32mIn [59]\u001b[0m, in \u001b[0;36m<cell line: 1>\u001b[1;34m()\u001b[0m\n\u001b[1;32m----> 1\u001b[0m \u001b[43mpower\u001b[49m\u001b[43m(\u001b[49m\u001b[43m)\u001b[49m\n",
      "\u001b[1;31mTypeError\u001b[0m: power() missing 2 required positional arguments: 'a' and 'b'"
     ]
    }
   ],
   "source": [
    "power() # Crashing of code has same reason as you are providing no input"
   ]
  },
  {
   "cell_type": "markdown",
   "id": "48dca5a2",
   "metadata": {},
   "source": [
    "<b> 1 - Default Arguments"
   ]
  },
  {
   "cell_type": "code",
   "execution_count": 60,
   "id": "a19813fe",
   "metadata": {},
   "outputs": [
    {
     "name": "stdout",
     "output_type": "stream",
     "text": [
      "8\n"
     ]
    }
   ],
   "source": [
    "# To avoid this crash, default arguments are provided\n",
    "def power(a=1,b=1):\n",
    "# Here a=1 and b=1 are default arguments\n",
    "    return a**b\n",
    "\n",
    "x=power(2,3) \n",
    "print(x)\n"
   ]
  },
  {
   "cell_type": "markdown",
   "id": "f28633de",
   "metadata": {},
   "source": [
    "<b> 2 - Positional Arguments"
   ]
  },
  {
   "cell_type": "code",
   "execution_count": 63,
   "id": "59a2a4f8",
   "metadata": {},
   "outputs": [
    {
     "data": {
      "text/plain": [
       "16"
      ]
     },
     "execution_count": 63,
     "metadata": {},
     "output_type": "execute_result"
    }
   ],
   "source": [
    "power(4,2) #  Whatever order is in arguments, the same will be received in parameters. This behavior is called as Positional Arguments."
   ]
  },
  {
   "cell_type": "code",
   "execution_count": 61,
   "id": "0f4d5b3b",
   "metadata": {},
   "outputs": [
    {
     "data": {
      "text/plain": [
       "3"
      ]
     },
     "execution_count": 61,
     "metadata": {},
     "output_type": "execute_result"
    }
   ],
   "source": [
    "power(3)"
   ]
  },
  {
   "cell_type": "code",
   "execution_count": 62,
   "id": "bd86d8c6",
   "metadata": {
    "scrolled": true
   },
   "outputs": [
    {
     "data": {
      "text/plain": [
       "5"
      ]
     },
     "execution_count": 62,
     "metadata": {},
     "output_type": "execute_result"
    }
   ],
   "source": [
    "power(5)"
   ]
  },
  {
   "cell_type": "markdown",
   "id": "cdc3b5e7",
   "metadata": {},
   "source": [
    "<b> The above results show that now function does not crash due to default arguments"
   ]
  },
  {
   "cell_type": "code",
   "execution_count": 65,
   "id": "bc5e5996",
   "metadata": {},
   "outputs": [],
   "source": [
    "def power(a=1,b=1):\n",
    "    return a**b"
   ]
  },
  {
   "cell_type": "markdown",
   "id": "9bd50a05",
   "metadata": {},
   "source": [
    "<b> 3 - Keyword Arguments"
   ]
  },
  {
   "cell_type": "code",
   "execution_count": 64,
   "id": "8a7180cd",
   "metadata": {},
   "outputs": [
    {
     "data": {
      "text/plain": [
       "125"
      ]
     },
     "execution_count": 64,
     "metadata": {},
     "output_type": "execute_result"
    }
   ],
   "source": [
    "power(b=3,a=5)  # Manifestation of Keyword Arguments (5 ** 3). Because a will receive 5 and b will receive 3, irrespective of any order. Keyword Agument override positional argument"
   ]
  },
  {
   "cell_type": "markdown",
   "id": "a28b186d",
   "metadata": {},
   "source": [
    "<b> Keyword arguments help when we have numerous parameters and don't remember in which order they are"
   ]
  },
  {
   "cell_type": "code",
   "execution_count": 66,
   "id": "394e6d72",
   "metadata": {},
   "outputs": [],
   "source": [
    "def function(name,age,gender,password):\n",
    "    s1 = name + age + gender + password\n",
    "    return s1"
   ]
  },
  {
   "cell_type": "code",
   "execution_count": 69,
   "id": "e6464b42",
   "metadata": {
    "scrolled": true
   },
   "outputs": [
    {
     "data": {
      "text/plain": [
       "'Ali twenty-one male 123'"
      ]
     },
     "execution_count": 69,
     "metadata": {},
     "output_type": "execute_result"
    }
   ],
   "source": [
    "function(password ='123',gender = 'male ',name = 'Ali ',age='twenty-one ')"
   ]
  },
  {
   "cell_type": "code",
   "execution_count": null,
   "id": "5e44408f",
   "metadata": {},
   "outputs": [],
   "source": []
  },
  {
   "cell_type": "code",
   "execution_count": 20,
   "id": "cd692613",
   "metadata": {},
   "outputs": [
    {
     "name": "stdout",
     "output_type": "stream",
     "text": [
      "Enter First Number2\n",
      "Enter Second Number4\n",
      "16\n",
      "16\n"
     ]
    }
   ],
   "source": [
    "def power(a,b):\n",
    "    print(a**b)\n",
    "    return (a**b)\n",
    "x = int(input('Enter First Number'))\n",
    "y = int(input('Enter Second Number'))\n",
    "print(power(x,y))"
   ]
  },
  {
   "cell_type": "code",
   "execution_count": null,
   "id": "b10a30d9",
   "metadata": {},
   "outputs": [],
   "source": []
  },
  {
   "cell_type": "code",
   "execution_count": 73,
   "id": "ff3f3154",
   "metadata": {},
   "outputs": [
    {
     "name": "stdout",
     "output_type": "stream",
     "text": [
      "(1, 2, 5)\n",
      "<class 'tuple'>\n",
      "10\n"
     ]
    }
   ],
   "source": [
    "def flexi(*number):  # * arcstric\n",
    "    product=1\n",
    "    print(number) # It is a tuple\n",
    "    print(type(number))\n",
    "    for i in number:  # running loop in tuple\n",
    "        product=product*i\n",
    "    return product\n",
    "\n",
    "x=flexi(1,2,5)\n",
    "print(x)"
   ]
  },
  {
   "cell_type": "code",
   "execution_count": 70,
   "id": "c3f2327e",
   "metadata": {},
   "outputs": [
    {
     "data": {
      "text/plain": [
       "2"
      ]
     },
     "execution_count": 70,
     "metadata": {},
     "output_type": "execute_result"
    }
   ],
   "source": [
    "flexi(1,2)"
   ]
  },
  {
   "cell_type": "code",
   "execution_count": 71,
   "id": "12d9f976",
   "metadata": {
    "scrolled": true
   },
   "outputs": [
    {
     "data": {
      "text/plain": [
       "24"
      ]
     },
     "execution_count": 71,
     "metadata": {},
     "output_type": "execute_result"
    }
   ],
   "source": [
    "flexi(2,3,4)"
   ]
  },
  {
   "cell_type": "markdown",
   "id": "8c60e37c",
   "metadata": {},
   "source": [
    "## Global Variable And Local Variable"
   ]
  },
  {
   "cell_type": "markdown",
   "id": "b8d603c5",
   "metadata": {},
   "source": [
    "<b> 1 - Global Variable is in main program. It is not in any function<br>\n",
    "    2 - Local Variable creates inside function and destroys with function<br>\n",
    "    3 - If function has not local variable then it can use global variable<br>\n",
    "    4 - Function only can use global variable but it can not make changes in it"
   ]
  },
  {
   "cell_type": "code",
   "execution_count": 30,
   "id": "0804e031",
   "metadata": {
    "scrolled": true
   },
   "outputs": [
    {
     "name": "stdout",
     "output_type": "stream",
     "text": [
      "inside func_a\n",
      "None\n",
      "inside func_b\n",
      "7\n"
     ]
    }
   ],
   "source": [
    "def func_a():\n",
    "    print(\"inside func_a\")\n",
    "\n",
    "def func_b(y):\n",
    "    print(\"inside func_b\")\n",
    "    return  y\n",
    "\n",
    "print(func_a())  # Calling func_a\n",
    "print(5+func_b(2)) # Calling func_b\n"
   ]
  },
  {
   "cell_type": "code",
   "execution_count": 32,
   "id": "00240b6f",
   "metadata": {},
   "outputs": [
    {
     "name": "stdout",
     "output_type": "stream",
     "text": [
      "2\n",
      "5\n"
     ]
    }
   ],
   "source": [
    "def f(y):\n",
    "    x=1  # This is local variable\n",
    "    x +=1\n",
    "    print(x) # Here the only change will occur with local value of x\n",
    "\n",
    "x = 5  # This is global variable\n",
    "f(x)   # Passing value of x by calling f. By this value of y will also become 5\n",
    "print(x) # it will print x=5 (global value of x)\n"
   ]
  },
  {
   "cell_type": "code",
   "execution_count": 33,
   "id": "052074a8",
   "metadata": {},
   "outputs": [
    {
     "name": "stdout",
     "output_type": "stream",
     "text": [
      "5\n",
      "6\n",
      "5\n"
     ]
    }
   ],
   "source": [
    "def g(y):\n",
    "    print(x)\n",
    "    print(x+1) # Here only change will occur in local value of x. If function has not its local variable then it can use global variable. But itcan't update in global variable\n",
    "\n",
    "x=5\n",
    "g(x)\n",
    "print(x)"
   ]
  },
  {
   "cell_type": "code",
   "execution_count": 75,
   "id": "8535635e",
   "metadata": {},
   "outputs": [
    {
     "ename": "UnboundLocalError",
     "evalue": "local variable 'x' referenced before assignment",
     "output_type": "error",
     "traceback": [
      "\u001b[1;31m---------------------------------------------------------------------------\u001b[0m",
      "\u001b[1;31mUnboundLocalError\u001b[0m                         Traceback (most recent call last)",
      "Input \u001b[1;32mIn [75]\u001b[0m, in \u001b[0;36m<cell line: 5>\u001b[1;34m()\u001b[0m\n\u001b[0;32m      2\u001b[0m     x \u001b[38;5;241m+\u001b[39m\u001b[38;5;241m=\u001b[39m\u001b[38;5;241m1\u001b[39m  \u001b[38;5;66;03m# Since here value of x is not defined in local, so when it will be applied to change global value of x so it will show error\u001b[39;00m\n\u001b[0;32m      4\u001b[0m x \u001b[38;5;241m=\u001b[39m \u001b[38;5;241m5\u001b[39m\n\u001b[1;32m----> 5\u001b[0m \u001b[43mh\u001b[49m\u001b[43m(\u001b[49m\u001b[43mx\u001b[49m\u001b[43m)\u001b[49m\n\u001b[0;32m      6\u001b[0m \u001b[38;5;28mprint\u001b[39m(x)\n",
      "Input \u001b[1;32mIn [75]\u001b[0m, in \u001b[0;36mh\u001b[1;34m(y)\u001b[0m\n\u001b[0;32m      1\u001b[0m \u001b[38;5;28;01mdef\u001b[39;00m \u001b[38;5;21mh\u001b[39m(y):\n\u001b[1;32m----> 2\u001b[0m     x \u001b[38;5;241m+\u001b[39m\u001b[38;5;241m=\u001b[39m\u001b[38;5;241m1\u001b[39m\n",
      "\u001b[1;31mUnboundLocalError\u001b[0m: local variable 'x' referenced before assignment"
     ]
    }
   ],
   "source": [
    "def h(y):\n",
    "    x +=1  # Since here value of x is not defined in local, so when it will be applied to change global value of x so it will show error\n",
    "\n",
    "x = 5\n",
    "h(x)\n",
    "print(x)\n"
   ]
  },
  {
   "cell_type": "code",
   "execution_count": 76,
   "id": "ddfb552d",
   "metadata": {},
   "outputs": [
    {
     "name": "stdout",
     "output_type": "stream",
     "text": [
      "6\n"
     ]
    }
   ],
   "source": [
    "# To make changes in gloabl variable by function using global keyword inside function. But it is not recommended.\n",
    "def h(y):\n",
    "    global x\n",
    "    x +=1  \n",
    "x = 5\n",
    "h(x)\n",
    "print(x)"
   ]
  },
  {
   "cell_type": "code",
   "execution_count": 36,
   "id": "84ad4f4d",
   "metadata": {},
   "outputs": [
    {
     "name": "stdout",
     "output_type": "stream",
     "text": [
      "4\n",
      "z =  4\n",
      "x =  3\n"
     ]
    }
   ],
   "source": [
    "def f(x):\n",
    "    x = x + 1\n",
    "    print(x)\n",
    "    return x\n",
    "\n",
    "x = 3\n",
    "z = f(x)\n",
    "print(\"z = \", z)\n",
    "print(\"x = \", x)\n"
   ]
  },
  {
   "cell_type": "code",
   "execution_count": 77,
   "id": "69a45527",
   "metadata": {},
   "outputs": [],
   "source": [
    "# Nested  Functions\n",
    "\n",
    "def f():\n",
    "    print(\"inside f\")\n",
    "    \n",
    "    def g():\n",
    "        print(\"inside g\")\n",
    "    g()"
   ]
  },
  {
   "cell_type": "code",
   "execution_count": 78,
   "id": "0405506a",
   "metadata": {},
   "outputs": [
    {
     "name": "stdout",
     "output_type": "stream",
     "text": [
      "inside f\n",
      "inside g\n"
     ]
    }
   ],
   "source": [
    "f()"
   ]
  },
  {
   "cell_type": "code",
   "execution_count": 79,
   "id": "b988c9e7",
   "metadata": {},
   "outputs": [
    {
     "ename": "TypeError",
     "evalue": "g() missing 1 required positional argument: 'x'",
     "output_type": "error",
     "traceback": [
      "\u001b[1;31m---------------------------------------------------------------------------\u001b[0m",
      "\u001b[1;31mTypeError\u001b[0m                                 Traceback (most recent call last)",
      "Input \u001b[1;32mIn [79]\u001b[0m, in \u001b[0;36m<cell line: 2>\u001b[1;34m()\u001b[0m\n\u001b[0;32m      1\u001b[0m \u001b[38;5;66;03m# if we call nested function\u001b[39;00m\n\u001b[1;32m----> 2\u001b[0m \u001b[43mg\u001b[49m\u001b[43m(\u001b[49m\u001b[43m)\u001b[49m\n",
      "\u001b[1;31mTypeError\u001b[0m: g() missing 1 required positional argument: 'x'"
     ]
    }
   ],
   "source": [
    "# if we call nested function\n",
    "g()"
   ]
  },
  {
   "cell_type": "markdown",
   "id": "1972b93c",
   "metadata": {},
   "source": [
    "<b> The error show that main program does not know about g function ( As nested function is hidden from main program ). Main program can not access g function without f function"
   ]
  },
  {
   "cell_type": "code",
   "execution_count": 86,
   "id": "5e161bcb",
   "metadata": {},
   "outputs": [
    {
     "name": "stdout",
     "output_type": "stream",
     "text": [
      "4\n",
      "abc\n",
      "abc\n",
      "4\n",
      "3\n"
     ]
    }
   ],
   "source": [
    "\n",
    "def g(x):\n",
    "    def h():\n",
    "        x ='abc'\n",
    "        print(x)\n",
    "        return x\n",
    "    x = x + 1\n",
    "    print(x)\n",
    "    print(h())\n",
    "    return x\n",
    "\n",
    "x = 3\n",
    "z = g(x)\n",
    "print(z)\n",
    "print(x)\n"
   ]
  },
  {
   "cell_type": "markdown",
   "id": "ff6748cd",
   "metadata": {},
   "source": [
    "## Functions are Objects"
   ]
  },
  {
   "cell_type": "code",
   "execution_count": 20,
   "id": "a164d7ff",
   "metadata": {},
   "outputs": [],
   "source": [
    "def fun(num):\n",
    "    return num**2"
   ]
  },
  {
   "cell_type": "code",
   "execution_count": 21,
   "id": "787b70d4",
   "metadata": {
    "scrolled": true
   },
   "outputs": [
    {
     "data": {
      "text/plain": [
       "4"
      ]
     },
     "execution_count": 21,
     "metadata": {},
     "output_type": "execute_result"
    }
   ],
   "source": [
    "fun(2)"
   ]
  },
  {
   "cell_type": "code",
   "execution_count": 22,
   "id": "3da4faee",
   "metadata": {},
   "outputs": [
    {
     "data": {
      "text/plain": [
       "16"
      ]
     },
     "execution_count": 22,
     "metadata": {},
     "output_type": "execute_result"
    }
   ],
   "source": [
    "fun(4)"
   ]
  },
  {
   "cell_type": "code",
   "execution_count": 23,
   "id": "ec178150",
   "metadata": {},
   "outputs": [],
   "source": [
    "x = fun   # Aliasing"
   ]
  },
  {
   "cell_type": "code",
   "execution_count": 24,
   "id": "1ffafadf",
   "metadata": {},
   "outputs": [
    {
     "data": {
      "text/plain": [
       "9"
      ]
     },
     "execution_count": 24,
     "metadata": {},
     "output_type": "execute_result"
    }
   ],
   "source": [
    "x(3)"
   ]
  },
  {
   "cell_type": "code",
   "execution_count": 6,
   "id": "8c26f532",
   "metadata": {},
   "outputs": [
    {
     "data": {
      "text/plain": [
       "16"
      ]
     },
     "execution_count": 6,
     "metadata": {},
     "output_type": "execute_result"
    }
   ],
   "source": [
    "x(4)"
   ]
  },
  {
   "cell_type": "code",
   "execution_count": 7,
   "id": "728927b1",
   "metadata": {},
   "outputs": [
    {
     "data": {
      "text/plain": [
       "function"
      ]
     },
     "execution_count": 7,
     "metadata": {},
     "output_type": "execute_result"
    }
   ],
   "source": [
    "type(x)"
   ]
  },
  {
   "cell_type": "code",
   "execution_count": 25,
   "id": "afc9faa5",
   "metadata": {},
   "outputs": [],
   "source": [
    "del fun"
   ]
  },
  {
   "cell_type": "code",
   "execution_count": 26,
   "id": "134302e0",
   "metadata": {},
   "outputs": [
    {
     "ename": "NameError",
     "evalue": "name 'fun' is not defined",
     "output_type": "error",
     "traceback": [
      "\u001b[1;31m---------------------------------------------------------------------------\u001b[0m",
      "\u001b[1;31mNameError\u001b[0m                                 Traceback (most recent call last)",
      "Input \u001b[1;32mIn [26]\u001b[0m, in \u001b[0;36m<cell line: 1>\u001b[1;34m()\u001b[0m\n\u001b[1;32m----> 1\u001b[0m \u001b[43mfun\u001b[49m\n",
      "\u001b[1;31mNameError\u001b[0m: name 'fun' is not defined"
     ]
    }
   ],
   "source": [
    "fun"
   ]
  },
  {
   "cell_type": "code",
   "execution_count": 27,
   "id": "90546592",
   "metadata": {},
   "outputs": [
    {
     "data": {
      "text/plain": [
       "4"
      ]
     },
     "execution_count": 27,
     "metadata": {},
     "output_type": "execute_result"
    }
   ],
   "source": [
    "x(2)"
   ]
  },
  {
   "cell_type": "code",
   "execution_count": 28,
   "id": "21a9073b",
   "metadata": {},
   "outputs": [],
   "source": [
    "# function as an object in list\n",
    "L1 = [1,2,3,x]"
   ]
  },
  {
   "cell_type": "code",
   "execution_count": 29,
   "id": "ade42330",
   "metadata": {},
   "outputs": [
    {
     "data": {
      "text/plain": [
       "9"
      ]
     },
     "execution_count": 29,
     "metadata": {},
     "output_type": "execute_result"
    }
   ],
   "source": [
    "L1[-1](3)"
   ]
  },
  {
   "cell_type": "code",
   "execution_count": 31,
   "id": "02dd4fbd",
   "metadata": {},
   "outputs": [
    {
     "data": {
      "text/plain": [
       "[1, 2, 3, 25]"
      ]
     },
     "execution_count": 31,
     "metadata": {},
     "output_type": "execute_result"
    }
   ],
   "source": [
    "L = [1,2,3,x(5)]\n",
    "L"
   ]
  },
  {
   "cell_type": "code",
   "execution_count": 40,
   "id": "af0933c9",
   "metadata": {},
   "outputs": [
    {
     "name": "stdout",
     "output_type": "stream",
     "text": [
      "inside func_c\n",
      "inside func_a\n",
      "None\n"
     ]
    }
   ],
   "source": [
    "# Function as an argument, also return of function can be as another function\n",
    "def func_a():\n",
    "    print('inside func_a')\n",
    "    \n",
    "def func_c(z):\n",
    "    print('inside func_c')\n",
    "    return z()\n",
    "\n",
    "print(func_c(func_a))"
   ]
  },
  {
   "cell_type": "code",
   "execution_count": 36,
   "id": "aaf78267",
   "metadata": {},
   "outputs": [
    {
     "name": "stdout",
     "output_type": "stream",
     "text": [
      "7\n"
     ]
    }
   ],
   "source": [
    "def f():\n",
    "    def x(a,b):\n",
    "        return a+b\n",
    "    return x\n",
    "\n",
    "val = f()(3,4)\n",
    "print(val)"
   ]
  },
  {
   "cell_type": "code",
   "execution_count": null,
   "id": "c467c4ca",
   "metadata": {},
   "outputs": [],
   "source": []
  }
 ],
 "metadata": {
  "kernelspec": {
   "display_name": "Python 3 (ipykernel)",
   "language": "python",
   "name": "python3"
  },
  "language_info": {
   "codemirror_mode": {
    "name": "ipython",
    "version": 3
   },
   "file_extension": ".py",
   "mimetype": "text/x-python",
   "name": "python",
   "nbconvert_exporter": "python",
   "pygments_lexer": "ipython3",
   "version": "3.9.12"
  }
 },
 "nbformat": 4,
 "nbformat_minor": 5
}
