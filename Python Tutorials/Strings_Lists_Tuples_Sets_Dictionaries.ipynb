{
 "cells": [
  {
   "cell_type": "markdown",
   "id": "45875e36",
   "metadata": {},
   "source": [
    "# Python Strings"
   ]
  },
  {
   "cell_type": "markdown",
   "id": "cf6e9dbd",
   "metadata": {},
   "source": [
    "<h4>1 - Creation of String<br>\n",
    "    \n",
    "   2 - Accessing a Substring From a String <br>\n",
    "    \n",
    "   3 - Editing / Deleting a String <br>\n",
    "   \n",
    "   4 - String Operations <br>\n",
    "   \n",
    "   5 - String Formatting <br>\n",
    "   \n",
    "   6 - String Functions"
   ]
  },
  {
   "cell_type": "markdown",
   "id": "be82a680",
   "metadata": {},
   "source": [
    "## 1 - Creation of a String"
   ]
  },
  {
   "cell_type": "code",
   "execution_count": 3,
   "id": "f5b07879",
   "metadata": {},
   "outputs": [
    {
     "data": {
      "text/plain": [
       "'Lahore'"
      ]
     },
     "execution_count": 3,
     "metadata": {},
     "output_type": "execute_result"
    }
   ],
   "source": [
    "city = 'Lahore'     # Using single inverted commas\n",
    "city"
   ]
  },
  {
   "cell_type": "code",
   "execution_count": 6,
   "id": "7fdb7fb5",
   "metadata": {},
   "outputs": [
    {
     "data": {
      "text/plain": [
       "('Lahore', \"It's my beautiful house\")"
      ]
     },
     "execution_count": 6,
     "metadata": {},
     "output_type": "execute_result"
    }
   ],
   "source": [
    "city = \"Lahore\"     # Using double inverted commas. \n",
    "st = \"It's my beautiful house\"   # The importance of double inverted commas comes when we need to write (\"It's a good book\") - where apostrophy is used\n",
    "city,st"
   ]
  },
  {
   "cell_type": "code",
   "execution_count": 13,
   "id": "24206386",
   "metadata": {},
   "outputs": [],
   "source": [
    "city = '''Lahore'''    # Using triple single inverted commas \n",
    "city1 = \"\"\"Islamabad\"\"\"\n",
    "st1 = \"\"\"Pakistan, officially the Islamic Republic of Pakistan, is a country in South Asia. It is the world's fifth-most populous country, with a population of almost 242 million, and has the world's second-largest Muslim population. \"\"\"     # Mostly triple inverted commas are used to write multi line string or paragraph"
   ]
  },
  {
   "cell_type": "code",
   "execution_count": 10,
   "id": "52b9c4e0",
   "metadata": {},
   "outputs": [
    {
     "name": "stdout",
     "output_type": "stream",
     "text": [
      "Lahore\n",
      "Islamabad\n",
      "Pakistan, officially the Islamic Republic of Pakistan, is a country in South Asia. It is the world's fifth-most populous country, with a population of almost 242 million, and has the world's second-largest Muslim population. \n"
     ]
    }
   ],
   "source": [
    "print(city)\n",
    "print(city1)\n",
    "print(st1)"
   ]
  },
  {
   "cell_type": "code",
   "execution_count": 14,
   "id": "52b40fc3",
   "metadata": {},
   "outputs": [
    {
     "name": "stdout",
     "output_type": "stream",
     "text": [
      "5\n",
      "ali\n"
     ]
    }
   ],
   "source": [
    "# Using string function\n",
    "print(str(5))\n",
    "print(str('ali'))"
   ]
  },
  {
   "cell_type": "code",
   "execution_count": 15,
   "id": "1cc4fcfa",
   "metadata": {},
   "outputs": [
    {
     "data": {
      "text/plain": [
       "''"
      ]
     },
     "execution_count": 15,
     "metadata": {},
     "output_type": "execute_result"
    }
   ],
   "source": [
    "# Creation of empty string\n",
    "str()"
   ]
  },
  {
   "cell_type": "markdown",
   "id": "6621f02b",
   "metadata": {},
   "source": [
    "## 2 - Accessing a Substring From a String"
   ]
  },
  {
   "cell_type": "markdown",
   "id": "f7184dcd",
   "metadata": {},
   "source": [
    "###  Indexing - to access individual element from string"
   ]
  },
  {
   "cell_type": "code",
   "execution_count": 18,
   "id": "1dbaf9a2",
   "metadata": {},
   "outputs": [
    {
     "data": {
      "text/plain": [
       "'I'"
      ]
     },
     "execution_count": 18,
     "metadata": {},
     "output_type": "execute_result"
    }
   ],
   "source": [
    "city = \"I2live3in4Lahore\"\n",
    "city[0]"
   ]
  },
  {
   "cell_type": "code",
   "execution_count": 19,
   "id": "1c2b2932",
   "metadata": {},
   "outputs": [
    {
     "data": {
      "text/plain": [
       "'e'"
      ]
     },
     "execution_count": 19,
     "metadata": {},
     "output_type": "execute_result"
    }
   ],
   "source": [
    "city[-1]"
   ]
  },
  {
   "cell_type": "code",
   "execution_count": 20,
   "id": "df4b8aba",
   "metadata": {},
   "outputs": [
    {
     "data": {
      "text/plain": [
       "'e'"
      ]
     },
     "execution_count": 20,
     "metadata": {},
     "output_type": "execute_result"
    }
   ],
   "source": [
    "city[5]"
   ]
  },
  {
   "cell_type": "code",
   "execution_count": 21,
   "id": "41328989",
   "metadata": {},
   "outputs": [
    {
     "data": {
      "text/plain": [
       "'L'"
      ]
     },
     "execution_count": 21,
     "metadata": {},
     "output_type": "execute_result"
    }
   ],
   "source": [
    "city[-6]"
   ]
  },
  {
   "cell_type": "markdown",
   "id": "4e0742f5",
   "metadata": {},
   "source": [
    "### Slicing - to access a sequence of elements from a string"
   ]
  },
  {
   "cell_type": "code",
   "execution_count": 26,
   "id": "caf2e9a3",
   "metadata": {},
   "outputs": [
    {
     "data": {
      "text/plain": [
       "'I2l'"
      ]
     },
     "execution_count": 26,
     "metadata": {},
     "output_type": "execute_result"
    }
   ],
   "source": [
    "city[:3]   # starting from 0th index, excluding last index"
   ]
  },
  {
   "cell_type": "code",
   "execution_count": 24,
   "id": "00c2ebed",
   "metadata": {},
   "outputs": [
    {
     "data": {
      "text/plain": [
       "'2live'"
      ]
     },
     "execution_count": 24,
     "metadata": {},
     "output_type": "execute_result"
    }
   ],
   "source": [
    "city[1:6]"
   ]
  },
  {
   "cell_type": "code",
   "execution_count": 25,
   "id": "82094092",
   "metadata": {},
   "outputs": [
    {
     "data": {
      "text/plain": [
       "'2live3in4Lahore'"
      ]
     },
     "execution_count": 25,
     "metadata": {},
     "output_type": "execute_result"
    }
   ],
   "source": [
    "city[1:]   # printing all elements from 1st index to onwards"
   ]
  },
  {
   "cell_type": "code",
   "execution_count": 27,
   "id": "f413f38b",
   "metadata": {},
   "outputs": [
    {
     "data": {
      "text/plain": [
       "'2ie'"
      ]
     },
     "execution_count": 27,
     "metadata": {},
     "output_type": "execute_result"
    }
   ],
   "source": [
    "city[1:6:2]  # 2 is called step parameter"
   ]
  },
  {
   "cell_type": "code",
   "execution_count": 30,
   "id": "0caa8f12",
   "metadata": {},
   "outputs": [
    {
     "data": {
      "text/plain": [
       "'erohaL4ni3evil2I'"
      ]
     },
     "execution_count": 30,
     "metadata": {},
     "output_type": "execute_result"
    }
   ],
   "source": [
    "city[::-1]  # to print all elements in reverse order"
   ]
  },
  {
   "cell_type": "code",
   "execution_count": 31,
   "id": "c01c0a3b",
   "metadata": {},
   "outputs": [
    {
     "data": {
      "text/plain": [
       "'hore'"
      ]
     },
     "execution_count": 31,
     "metadata": {},
     "output_type": "execute_result"
    }
   ],
   "source": [
    "city[-4:]  # strting from -4th index to -1st index"
   ]
  },
  {
   "cell_type": "markdown",
   "id": "d8787a2a",
   "metadata": {},
   "source": [
    "## 3 - Editing / Deleting a String"
   ]
  },
  {
   "cell_type": "markdown",
   "id": "2a69fc15",
   "metadata": {},
   "source": [
    "<b> Strings are Immutables. We can not update or delete part of string"
   ]
  },
  {
   "cell_type": "code",
   "execution_count": 32,
   "id": "f5a7ba72",
   "metadata": {},
   "outputs": [
    {
     "data": {
      "text/plain": [
       "'I2live3in4Lahore'"
      ]
     },
     "execution_count": 32,
     "metadata": {},
     "output_type": "execute_result"
    }
   ],
   "source": [
    "city"
   ]
  },
  {
   "cell_type": "code",
   "execution_count": 33,
   "id": "453eaa75",
   "metadata": {},
   "outputs": [
    {
     "ename": "TypeError",
     "evalue": "'str' object does not support item assignment",
     "output_type": "error",
     "traceback": [
      "\u001b[1;31m---------------------------------------------------------------------------\u001b[0m",
      "\u001b[1;31mTypeError\u001b[0m                                 Traceback (most recent call last)",
      "Input \u001b[1;32mIn [33]\u001b[0m, in \u001b[0;36m<cell line: 1>\u001b[1;34m()\u001b[0m\n\u001b[1;32m----> 1\u001b[0m city[\u001b[38;5;241m0\u001b[39m]\u001b[38;5;241m=\u001b[39m\u001b[38;5;124m'\u001b[39m\u001b[38;5;124mM\u001b[39m\u001b[38;5;124m'\u001b[39m\n",
      "\u001b[1;31mTypeError\u001b[0m: 'str' object does not support item assignment"
     ]
    }
   ],
   "source": [
    "city[0]='M'"
   ]
  },
  {
   "cell_type": "code",
   "execution_count": 34,
   "id": "55681ae2",
   "metadata": {},
   "outputs": [
    {
     "ename": "TypeError",
     "evalue": "'str' object does not support item assignment",
     "output_type": "error",
     "traceback": [
      "\u001b[1;31m---------------------------------------------------------------------------\u001b[0m",
      "\u001b[1;31mTypeError\u001b[0m                                 Traceback (most recent call last)",
      "Input \u001b[1;32mIn [34]\u001b[0m, in \u001b[0;36m<cell line: 1>\u001b[1;34m()\u001b[0m\n\u001b[1;32m----> 1\u001b[0m city[\u001b[38;5;241m1\u001b[39m:\u001b[38;5;241m4\u001b[39m]\u001b[38;5;241m=\u001b[39m\u001b[38;5;241m345\u001b[39m\n",
      "\u001b[1;31mTypeError\u001b[0m: 'str' object does not support item assignment"
     ]
    }
   ],
   "source": [
    "city[1:4]=345"
   ]
  },
  {
   "cell_type": "code",
   "execution_count": 35,
   "id": "fa59dd89",
   "metadata": {},
   "outputs": [
    {
     "data": {
      "text/plain": [
       "'Lahore'"
      ]
     },
     "execution_count": 35,
     "metadata": {},
     "output_type": "execute_result"
    }
   ],
   "source": [
    "# But we can replace whole string\n",
    "city = 'Lahore'\n",
    "city"
   ]
  },
  {
   "cell_type": "code",
   "execution_count": 36,
   "id": "b1709b77",
   "metadata": {},
   "outputs": [
    {
     "ename": "TypeError",
     "evalue": "'str' object doesn't support item deletion",
     "output_type": "error",
     "traceback": [
      "\u001b[1;31m---------------------------------------------------------------------------\u001b[0m",
      "\u001b[1;31mTypeError\u001b[0m                                 Traceback (most recent call last)",
      "Input \u001b[1;32mIn [36]\u001b[0m, in \u001b[0;36m<cell line: 2>\u001b[1;34m()\u001b[0m\n\u001b[0;32m      1\u001b[0m \u001b[38;5;66;03m# Similarly for Deleting:\u001b[39;00m\n\u001b[1;32m----> 2\u001b[0m \u001b[38;5;28;01mdel\u001b[39;00m city[\u001b[38;5;241m0\u001b[39m]\n",
      "\u001b[1;31mTypeError\u001b[0m: 'str' object doesn't support item deletion"
     ]
    }
   ],
   "source": [
    "# Similarly for Deleting:\n",
    "del city[0]    # The error shows that we can not delete part of string"
   ]
  },
  {
   "cell_type": "code",
   "execution_count": 41,
   "id": "f3a9ee3e",
   "metadata": {},
   "outputs": [
    {
     "ename": "NameError",
     "evalue": "name 'city' is not defined",
     "output_type": "error",
     "traceback": [
      "\u001b[1;31m---------------------------------------------------------------------------\u001b[0m",
      "\u001b[1;31mNameError\u001b[0m                                 Traceback (most recent call last)",
      "Input \u001b[1;32mIn [41]\u001b[0m, in \u001b[0;36m<cell line: 2>\u001b[1;34m()\u001b[0m\n\u001b[0;32m      1\u001b[0m \u001b[38;5;66;03m# But we can delete whole string\u001b[39;00m\n\u001b[1;32m----> 2\u001b[0m \u001b[38;5;28;01mdel\u001b[39;00m city\n\u001b[0;32m      3\u001b[0m city\n",
      "\u001b[1;31mNameError\u001b[0m: name 'city' is not defined"
     ]
    }
   ],
   "source": [
    "# But we can delete whole string\n",
    "del city\n",
    "city    # The result shows that city has been deleted"
   ]
  },
  {
   "cell_type": "markdown",
   "id": "e6e5aaf4",
   "metadata": {},
   "source": [
    "## 4 - String Operations"
   ]
  },
  {
   "cell_type": "markdown",
   "id": "6aa41167",
   "metadata": {},
   "source": [
    "<b> i - Arithmatic Operations"
   ]
  },
  {
   "cell_type": "code",
   "execution_count": 39,
   "id": "90590938",
   "metadata": {},
   "outputs": [
    {
     "data": {
      "text/plain": [
       "'LahoreIslamabad'"
      ]
     },
     "execution_count": 39,
     "metadata": {},
     "output_type": "execute_result"
    }
   ],
   "source": [
    "# Concatenation / Addition\n",
    "\"Lahore\" + \"Islamabad\""
   ]
  },
  {
   "cell_type": "code",
   "execution_count": 40,
   "id": "69201e47",
   "metadata": {},
   "outputs": [
    {
     "data": {
      "text/plain": [
       "'LahoreLahoreLahore'"
      ]
     },
     "execution_count": 40,
     "metadata": {},
     "output_type": "execute_result"
    }
   ],
   "source": [
    "# Multiplication\n",
    "\"Lahore\" * 3"
   ]
  },
  {
   "cell_type": "code",
   "execution_count": 44,
   "id": "05305610",
   "metadata": {},
   "outputs": [
    {
     "data": {
      "text/plain": [
       "'**************************************************'"
      ]
     },
     "execution_count": 44,
     "metadata": {},
     "output_type": "execute_result"
    }
   ],
   "source": [
    "\"*\" * 50    # printing different patterns"
   ]
  },
  {
   "cell_type": "code",
   "execution_count": 43,
   "id": "c326728b",
   "metadata": {
    "scrolled": true
   },
   "outputs": [
    {
     "ename": "TypeError",
     "evalue": "unsupported operand type(s) for /: 'str' and 'str'",
     "output_type": "error",
     "traceback": [
      "\u001b[1;31m---------------------------------------------------------------------------\u001b[0m",
      "\u001b[1;31mTypeError\u001b[0m                                 Traceback (most recent call last)",
      "Input \u001b[1;32mIn [43]\u001b[0m, in \u001b[0;36m<cell line: 3>\u001b[1;34m()\u001b[0m\n\u001b[0;32m      1\u001b[0m \u001b[38;5;66;03m# We can't apply difference, division, power of operations in strings\u001b[39;00m\n\u001b[1;32m----> 3\u001b[0m \u001b[38;5;124;43m\"\u001b[39;49m\u001b[38;5;124;43mLahore\u001b[39;49m\u001b[38;5;124;43m\"\u001b[39;49m\u001b[43m \u001b[49m\u001b[38;5;241;43m/\u001b[39;49m\u001b[43m \u001b[49m\u001b[38;5;124;43m\"\u001b[39;49m\u001b[38;5;124;43mIslamabad\u001b[39;49m\u001b[38;5;124;43m\"\u001b[39;49m\n",
      "\u001b[1;31mTypeError\u001b[0m: unsupported operand type(s) for /: 'str' and 'str'"
     ]
    }
   ],
   "source": [
    "# We can't apply difference, division, power of operations in strings\n",
    "\n",
    "\"Lahore\" / \"Islamabad\""
   ]
  },
  {
   "cell_type": "markdown",
   "id": "82569470",
   "metadata": {},
   "source": [
    "<b> ii - Relational Operations"
   ]
  },
  {
   "cell_type": "code",
   "execution_count": 46,
   "id": "5a47c386",
   "metadata": {
    "scrolled": true
   },
   "outputs": [
    {
     "data": {
      "text/plain": [
       "True"
      ]
     },
     "execution_count": 46,
     "metadata": {},
     "output_type": "execute_result"
    }
   ],
   "source": [
    "'Islamabad' < 'Lahore'   # The word which comes later in dictionary will be greater"
   ]
  },
  {
   "cell_type": "code",
   "execution_count": 51,
   "id": "98d419c5",
   "metadata": {},
   "outputs": [
    {
     "data": {
      "text/plain": [
       "False"
      ]
     },
     "execution_count": 51,
     "metadata": {},
     "output_type": "execute_result"
    }
   ],
   "source": [
    "'Mol' > 'mol'   # Since capital letters comes earlier so Mol with capital letter is smaller than mol with small letter"
   ]
  },
  {
   "cell_type": "code",
   "execution_count": 47,
   "id": "a8313547",
   "metadata": {
    "scrolled": true
   },
   "outputs": [
    {
     "data": {
      "text/plain": [
       "False"
      ]
     },
     "execution_count": 47,
     "metadata": {},
     "output_type": "execute_result"
    }
   ],
   "source": [
    "\"Islamabad\" == \"islamabad\"  # False result shows that Python is case sensitive language. It differentiate between upper and lower case letters"
   ]
  },
  {
   "cell_type": "markdown",
   "id": "6053eb04",
   "metadata": {},
   "source": [
    "<b> iii - Logical Operations"
   ]
  },
  {
   "cell_type": "code",
   "execution_count": 52,
   "id": "a18877a4",
   "metadata": {},
   "outputs": [
    {
     "data": {
      "text/plain": [
       "''"
      ]
     },
     "execution_count": 52,
     "metadata": {},
     "output_type": "execute_result"
    }
   ],
   "source": [
    "\"\" and \"world\"  # Python considers empty string False and non-empty string as True.It means '0' , '1' It's result will be False.So nothing will print out"
   ]
  },
  {
   "cell_type": "code",
   "execution_count": 53,
   "id": "75f933eb",
   "metadata": {},
   "outputs": [
    {
     "data": {
      "text/plain": [
       "'world'"
      ]
     },
     "execution_count": 53,
     "metadata": {},
     "output_type": "execute_result"
    }
   ],
   "source": [
    "\"\" or \"world\"  # It's result will be True. So world will be printed out"
   ]
  },
  {
   "cell_type": "code",
   "execution_count": 54,
   "id": "1460ef83",
   "metadata": {},
   "outputs": [
    {
     "data": {
      "text/plain": [
       "'hello'"
      ]
     },
     "execution_count": 54,
     "metadata": {},
     "output_type": "execute_result"
    }
   ],
   "source": [
    "\"hello\" or 'world'  # It means '1' , '1'. Because in start it is one, so hello will be printed out"
   ]
  },
  {
   "cell_type": "code",
   "execution_count": 55,
   "id": "10f4124a",
   "metadata": {},
   "outputs": [
    {
     "data": {
      "text/plain": [
       "'world'"
      ]
     },
     "execution_count": 55,
     "metadata": {},
     "output_type": "execute_result"
    }
   ],
   "source": [
    "\"hello\"  and  \"world\"  # Since the truth of this logic comes from second word so second word \"world\" will be printed out"
   ]
  },
  {
   "cell_type": "code",
   "execution_count": 56,
   "id": "7be99b8c",
   "metadata": {},
   "outputs": [
    {
     "data": {
      "text/plain": [
       "False"
      ]
     },
     "execution_count": 56,
     "metadata": {},
     "output_type": "execute_result"
    }
   ],
   "source": [
    "not 'hello'  # It means opposite of True(because  'hello' is true word)"
   ]
  },
  {
   "cell_type": "code",
   "execution_count": 57,
   "id": "9a9c4f7e",
   "metadata": {},
   "outputs": [
    {
     "data": {
      "text/plain": [
       "True"
      ]
     },
     "execution_count": 57,
     "metadata": {},
     "output_type": "execute_result"
    }
   ],
   "source": [
    "not \"\"    # It means opposite of False(due to empty string is False)"
   ]
  },
  {
   "cell_type": "markdown",
   "id": "c17f1c83",
   "metadata": {},
   "source": [
    "<b>iv - Membership Operator"
   ]
  },
  {
   "cell_type": "code",
   "execution_count": 62,
   "id": "42efb7b3",
   "metadata": {},
   "outputs": [
    {
     "data": {
      "text/plain": [
       "True"
      ]
     },
     "execution_count": 62,
     "metadata": {},
     "output_type": "execute_result"
    }
   ],
   "source": [
    "'Isl' in 'Islamabad'"
   ]
  },
  {
   "cell_type": "code",
   "execution_count": 63,
   "id": "37a008e9",
   "metadata": {},
   "outputs": [
    {
     "data": {
      "text/plain": [
       "False"
      ]
     },
     "execution_count": 63,
     "metadata": {},
     "output_type": "execute_result"
    }
   ],
   "source": [
    "'Ims' in 'Islamabad'"
   ]
  },
  {
   "cell_type": "code",
   "execution_count": 64,
   "id": "7f4c0f4f",
   "metadata": {},
   "outputs": [
    {
     "data": {
      "text/plain": [
       "True"
      ]
     },
     "execution_count": 64,
     "metadata": {},
     "output_type": "execute_result"
    }
   ],
   "source": [
    "'Ims' not in 'Islamabad'"
   ]
  },
  {
   "cell_type": "markdown",
   "id": "db3440bc",
   "metadata": {},
   "source": [
    "<b>v - String Iteration"
   ]
  },
  {
   "cell_type": "code",
   "execution_count": 58,
   "id": "df0ce8d9",
   "metadata": {},
   "outputs": [
    {
     "name": "stdout",
     "output_type": "stream",
     "text": [
      "I\n",
      "s\n",
      "l\n",
      "a\n",
      "m\n",
      "a\n",
      "b\n",
      "a\n",
      "d\n"
     ]
    }
   ],
   "source": [
    "for i in 'Islamabad':\n",
    "    print(i)"
   ]
  },
  {
   "cell_type": "code",
   "execution_count": 59,
   "id": "dc9255ae",
   "metadata": {},
   "outputs": [
    {
     "name": "stdout",
     "output_type": "stream",
     "text": [
      "e\n",
      "l\n",
      "l\n",
      "o\n"
     ]
    }
   ],
   "source": [
    "a = \"Hello World\"\n",
    "for i in a[1:5]:\n",
    "    print(i)"
   ]
  },
  {
   "cell_type": "code",
   "execution_count": 60,
   "id": "fb6edfc3",
   "metadata": {},
   "outputs": [
    {
     "name": "stdout",
     "output_type": "stream",
     "text": [
      "e\n",
      "l\n",
      " \n",
      "o\n",
      "l\n"
     ]
    }
   ],
   "source": [
    "for i in a[1::2]:\n",
    "    print(i)"
   ]
  },
  {
   "cell_type": "code",
   "execution_count": 61,
   "id": "61011adf",
   "metadata": {},
   "outputs": [
    {
     "name": "stdout",
     "output_type": "stream",
     "text": [
      "d\n",
      "l\n",
      "r\n",
      "o\n",
      "W\n",
      " \n",
      "o\n",
      "l\n",
      "l\n",
      "e\n",
      "H\n"
     ]
    }
   ],
   "source": [
    "for i in a[::-1]:\n",
    "    print(i)"
   ]
  },
  {
   "cell_type": "markdown",
   "id": "4f13e15e",
   "metadata": {},
   "source": [
    "## 5 - String Formatting"
   ]
  },
  {
   "cell_type": "code",
   "execution_count": 65,
   "id": "316eeb7e",
   "metadata": {},
   "outputs": [
    {
     "data": {
      "text/plain": [
       "'Islamabad is capital city of Pakistan. It got inaugurated in 1960.'"
      ]
     },
     "execution_count": 65,
     "metadata": {},
     "output_type": "execute_result"
    }
   ],
   "source": [
    "\"Islamabad is {} city of Pakistan. It got inaugurated in {}.\".format('capital',1960)"
   ]
  },
  {
   "cell_type": "code",
   "execution_count": 66,
   "id": "d4703151",
   "metadata": {},
   "outputs": [
    {
     "data": {
      "text/plain": [
       "'Islamabad is capital city of Pakistan. It got inaugurated in 1960. Before that, Karachi was the capital city of Pakistan'"
      ]
     },
     "execution_count": 66,
     "metadata": {},
     "output_type": "execute_result"
    }
   ],
   "source": [
    "\"Islamabad is {} city of Pakistan. It got inaugurated in {}. Before that, {} was the capital city of Pakistan\".format('capital',1960,'Karachi')"
   ]
  },
  {
   "cell_type": "code",
   "execution_count": 67,
   "id": "d07b3884",
   "metadata": {},
   "outputs": [
    {
     "data": {
      "text/plain": [
       "'Islamabad is capital city of Pakistan. It got inaugurated in 1960. Before that, it was the capital city of Pakistan.'"
      ]
     },
     "execution_count": 67,
     "metadata": {},
     "output_type": "execute_result"
    }
   ],
   "source": [
    "\"Islamabad is {0} city of Pakistan. It got inaugurated in {1}. Before that, it was the {0} city of Pakistan.\".format('capital',1960)"
   ]
  },
  {
   "cell_type": "code",
   "execution_count": 68,
   "id": "8f9553d7",
   "metadata": {},
   "outputs": [
    {
     "data": {
      "text/plain": [
       "'Islamabad is capital city of Pakistan. It got inaugurated in capital. Before that, it was the capital city of Pakistan.'"
      ]
     },
     "execution_count": 68,
     "metadata": {},
     "output_type": "execute_result"
    }
   ],
   "source": [
    "\"Islamabad is {0} city of Pakistan. It got inaugurated in {0}. Before that, it was the {0} city of Pakistan.\".format('capital',1960)"
   ]
  },
  {
   "cell_type": "code",
   "execution_count": 69,
   "id": "48fbcedb",
   "metadata": {},
   "outputs": [
    {
     "data": {
      "text/plain": [
       "'Islamabad is a city of capital city of Pakistan. It got inaugurated in 1960.'"
      ]
     },
     "execution_count": 69,
     "metadata": {},
     "output_type": "execute_result"
    }
   ],
   "source": [
    "# Another Method of Formatting:\n",
    "\"Islamabad is a {name} of capital city of Pakistan. It got inaugurated in {Year}.\".format(name = 'city',Year = 1960)"
   ]
  },
  {
   "cell_type": "code",
   "execution_count": 70,
   "id": "dbddc58f",
   "metadata": {},
   "outputs": [
    {
     "data": {
      "text/plain": [
       "'My name is Ali and I belong to Lahore. My weight is 60'"
      ]
     },
     "execution_count": 70,
     "metadata": {},
     "output_type": "execute_result"
    }
   ],
   "source": [
    "\"My name is {name} and I belong to {city}. My weight is {weight}\".format(weight = 60, name = 'Ali',city ='Lahore', country ='Pakistan')"
   ]
  },
  {
   "cell_type": "markdown",
   "id": "2d7348bd",
   "metadata": {},
   "source": [
    "## 6 - String Functions"
   ]
  },
  {
   "cell_type": "markdown",
   "id": "291502fb",
   "metadata": {},
   "source": [
    "<b> i - Common Functions"
   ]
  },
  {
   "cell_type": "code",
   "execution_count": 74,
   "id": "f448782d",
   "metadata": {
    "scrolled": true
   },
   "outputs": [
    {
     "data": {
      "text/plain": [
       "(6, 18)"
      ]
     },
     "execution_count": 74,
     "metadata": {},
     "output_type": "execute_result"
    }
   ],
   "source": [
    "# Len Function -  Finding length of word. It also includes spaces,punctuations,etc.\n",
    "len('Lahore'),len('Hello,       World')"
   ]
  },
  {
   "cell_type": "code",
   "execution_count": 79,
   "id": "fcdf345e",
   "metadata": {},
   "outputs": [
    {
     "data": {
      "text/plain": [
       "('8', 's')"
      ]
     },
     "execution_count": 79,
     "metadata": {},
     "output_type": "execute_result"
    }
   ],
   "source": [
    "# Min / Max Functions - # to find lesser or greater ASCII value characters in word. ASCII values: A=65,B=66,.. a=97\n",
    "city = 'Islamabad@8'\n",
    "min(city), max(city)"
   ]
  },
  {
   "cell_type": "code",
   "execution_count": 80,
   "id": "04d8b1c3",
   "metadata": {},
   "outputs": [
    {
     "data": {
      "text/plain": [
       "['8', '@', 'I', 'a', 'a', 'a', 'b', 'd', 'l', 'm', 's']"
      ]
     },
     "execution_count": 80,
     "metadata": {},
     "output_type": "execute_result"
    }
   ],
   "source": [
    "# sorted function - It does not permanently change string order\n",
    "sorted(city)  # Sorting according to ASCII codes - In Ascending Order"
   ]
  },
  {
   "cell_type": "code",
   "execution_count": 83,
   "id": "3ef2e545",
   "metadata": {},
   "outputs": [
    {
     "data": {
      "text/plain": [
       "'Islamabad@8'"
      ]
     },
     "execution_count": 83,
     "metadata": {},
     "output_type": "execute_result"
    }
   ],
   "source": [
    "city"
   ]
  },
  {
   "cell_type": "code",
   "execution_count": 85,
   "id": "93a5474b",
   "metadata": {},
   "outputs": [
    {
     "data": {
      "text/plain": [
       "['s', 'm', 'l', 'd', 'b', 'a', 'a', 'a', 'I', '@', '8']"
      ]
     },
     "execution_count": 85,
     "metadata": {},
     "output_type": "execute_result"
    }
   ],
   "source": [
    "sorted(city, reverse = True) # to sort in descending order"
   ]
  },
  {
   "cell_type": "code",
   "execution_count": 86,
   "id": "b2789140",
   "metadata": {},
   "outputs": [
    {
     "data": {
      "text/plain": [
       "'Islamabad@8'"
      ]
     },
     "execution_count": 86,
     "metadata": {},
     "output_type": "execute_result"
    }
   ],
   "source": [
    "city"
   ]
  },
  {
   "cell_type": "markdown",
   "id": "fdd3f5a1",
   "metadata": {},
   "source": [
    "<b> ii - Special String Functions"
   ]
  },
  {
   "cell_type": "markdown",
   "id": "be9a2278",
   "metadata": {},
   "source": [
    "<b> These all are temporary operations unless we store its results in another variable"
   ]
  },
  {
   "cell_type": "code",
   "execution_count": 93,
   "id": "7b56e535",
   "metadata": {},
   "outputs": [
    {
     "data": {
      "text/plain": [
       "'ISLAMABAD@8'"
      ]
     },
     "execution_count": 93,
     "metadata": {},
     "output_type": "execute_result"
    }
   ],
   "source": [
    "# Upper Function\n",
    "city.upper() "
   ]
  },
  {
   "cell_type": "code",
   "execution_count": 94,
   "id": "4b343fd9",
   "metadata": {},
   "outputs": [
    {
     "data": {
      "text/plain": [
       "'islamabad@8'"
      ]
     },
     "execution_count": 94,
     "metadata": {},
     "output_type": "execute_result"
    }
   ],
   "source": [
    "# Lower Function\n",
    "city.lower() "
   ]
  },
  {
   "cell_type": "code",
   "execution_count": 95,
   "id": "df04f09d",
   "metadata": {},
   "outputs": [
    {
     "data": {
      "text/plain": [
       "'Hello everyone in world'"
      ]
     },
     "execution_count": 95,
     "metadata": {},
     "output_type": "execute_result"
    }
   ],
   "source": [
    "# Capitalize Function\n",
    "\"hello everyone in World\".capitalize() # It will capitalize first alphabet and remaining will be converted into small letters"
   ]
  },
  {
   "cell_type": "code",
   "execution_count": 97,
   "id": "36b87ce2",
   "metadata": {},
   "outputs": [
    {
     "data": {
      "text/plain": [
       "'Karachi Is A Beutiful City. It Is Capital.'"
      ]
     },
     "execution_count": 97,
     "metadata": {},
     "output_type": "execute_result"
    }
   ],
   "source": [
    "# Title Function\n",
    "city1 = 'Karachi is a beutiful city. It is capital.'\n",
    "city1.title()"
   ]
  },
  {
   "cell_type": "code",
   "execution_count": 98,
   "id": "ed745de1",
   "metadata": {},
   "outputs": [
    {
     "data": {
      "text/plain": [
       "'KOlkAtTa'"
      ]
     },
     "execution_count": 98,
     "metadata": {},
     "output_type": "execute_result"
    }
   ],
   "source": [
    "# Swapcase Function\n",
    "'koLKaTtA'.swapcase()  # It will convert upper to lower and lower to uppercase letters"
   ]
  },
  {
   "cell_type": "code",
   "execution_count": 101,
   "id": "4697b972",
   "metadata": {},
   "outputs": [
    {
     "data": {
      "text/plain": [
       "(5, 1)"
      ]
     },
     "execution_count": 101,
     "metadata": {},
     "output_type": "execute_result"
    }
   ],
   "source": [
    "# Count Function - To find frequency of substring in any string\n",
    "city1.count('a'), city.count('Is')"
   ]
  },
  {
   "cell_type": "code",
   "execution_count": 103,
   "id": "7308311d",
   "metadata": {},
   "outputs": [
    {
     "name": "stdout",
     "output_type": "stream",
     "text": [
      "At Index:  4\n",
      "At Index:  4\n",
      "At Index:  3\n",
      "At Index:  6\n",
      "At Index:  -1\n"
     ]
    },
    {
     "ename": "ValueError",
     "evalue": "substring not found",
     "output_type": "error",
     "traceback": [
      "\u001b[1;31m---------------------------------------------------------------------------\u001b[0m",
      "\u001b[1;31mValueError\u001b[0m                                Traceback (most recent call last)",
      "Input \u001b[1;32mIn [103]\u001b[0m, in \u001b[0;36m<cell line: 7>\u001b[1;34m()\u001b[0m\n\u001b[0;32m      5\u001b[0m \u001b[38;5;28mprint\u001b[39m(\u001b[38;5;124m'\u001b[39m\u001b[38;5;124mAt Index: \u001b[39m\u001b[38;5;124m'\u001b[39m,\u001b[38;5;124m'\u001b[39m\u001b[38;5;124mIslamabad\u001b[39m\u001b[38;5;124m'\u001b[39m\u001b[38;5;241m.\u001b[39mfind(\u001b[38;5;124m'\u001b[39m\u001b[38;5;124mbad\u001b[39m\u001b[38;5;124m'\u001b[39m))\n\u001b[0;32m      6\u001b[0m \u001b[38;5;28mprint\u001b[39m(\u001b[38;5;124m'\u001b[39m\u001b[38;5;124mAt Index: \u001b[39m\u001b[38;5;124m'\u001b[39m,\u001b[38;5;124m'\u001b[39m\u001b[38;5;124mIslamabad\u001b[39m\u001b[38;5;124m'\u001b[39m\u001b[38;5;241m.\u001b[39mfind(\u001b[38;5;124m'\u001b[39m\u001b[38;5;124mK\u001b[39m\u001b[38;5;124m'\u001b[39m))  \u001b[38;5;66;03m# The result -1 shows that particular character is not present in string\u001b[39;00m\n\u001b[1;32m----> 7\u001b[0m \u001b[38;5;28mprint\u001b[39m(\u001b[38;5;124m'\u001b[39m\u001b[38;5;124mAt Index: \u001b[39m\u001b[38;5;124m'\u001b[39m,\u001b[38;5;124;43m'\u001b[39;49m\u001b[38;5;124;43mIslamabad\u001b[39;49m\u001b[38;5;124;43m'\u001b[39;49m\u001b[38;5;241;43m.\u001b[39;49m\u001b[43mindex\u001b[49m\u001b[43m(\u001b[49m\u001b[38;5;124;43m'\u001b[39;49m\u001b[38;5;124;43mK\u001b[39;49m\u001b[38;5;124;43m'\u001b[39;49m\u001b[43m)\u001b[49m)\n",
      "\u001b[1;31mValueError\u001b[0m: substring not found"
     ]
    }
   ],
   "source": [
    "# Find / Index Functions - Same working\n",
    "print('At Index: ','Islamabad'.find('m')) # position of m character in index value. It tells first occurence of character\n",
    "print('At Index: ','Islamabad'.index('m'))\n",
    "print('At Index: ','Islamabad'.find('a'))\n",
    "print('At Index: ','Islamabad'.find('bad'))\n",
    "print('At Index: ','Islamabad'.find('K'))  # The result -1 shows that particular character is not present in string\n",
    "print('At Index: ','Islamabad'.index('K'))  # But it's result will be different than find function when particular character is not present in string"
   ]
  },
  {
   "cell_type": "code",
   "execution_count": 108,
   "id": "e3352f9f",
   "metadata": {},
   "outputs": [
    {
     "name": "stdout",
     "output_type": "stream",
     "text": [
      "Islamabad@8\n"
     ]
    },
    {
     "data": {
      "text/plain": [
       "(False, False, True)"
      ]
     },
     "execution_count": 108,
     "metadata": {},
     "output_type": "execute_result"
    }
   ],
   "source": [
    "# Endswith / Startswith Functions\n",
    "print(city)\n",
    "city.endswith('.'),city.startswith('F'),city.endswith('8')"
   ]
  },
  {
   "cell_type": "code",
   "execution_count": 111,
   "id": "f21c053a",
   "metadata": {},
   "outputs": [
    {
     "data": {
      "text/plain": [
       "['Karachi', 'is', 'a', 'beutiful', 'city.', 'It', 'is', 'capital.']"
      ]
     },
     "execution_count": 111,
     "metadata": {},
     "output_type": "execute_result"
    }
   ],
   "source": [
    "# Split Function\n",
    "city1.split()"
   ]
  },
  {
   "cell_type": "code",
   "execution_count": 113,
   "id": "7ffd314a",
   "metadata": {},
   "outputs": [
    {
     "data": {
      "text/plain": [
       "'Karachi is a beutiful city. It is capital.'"
      ]
     },
     "execution_count": 113,
     "metadata": {},
     "output_type": "execute_result"
    }
   ],
   "source": [
    "# Join Function - Reverse of split function\n",
    "list = ['Karachi', 'is', 'a', 'beutiful', 'city.', 'It', 'is', 'capital.']\n",
    "\" \".join(list)"
   ]
  },
  {
   "cell_type": "code",
   "execution_count": 114,
   "id": "6ecf3278",
   "metadata": {},
   "outputs": [
    {
     "data": {
      "text/plain": [
       "'Marachi is a beutiful city. It is capital.'"
      ]
     },
     "execution_count": 114,
     "metadata": {},
     "output_type": "execute_result"
    }
   ],
   "source": [
    "# Replace Function\n",
    "city1.replace('K','M')"
   ]
  },
  {
   "cell_type": "code",
   "execution_count": 115,
   "id": "6bed7a9b",
   "metadata": {},
   "outputs": [
    {
     "name": "stdout",
     "output_type": "stream",
     "text": [
      "         -- Ali     \n",
      "-- Ali\n"
     ]
    }
   ],
   "source": [
    "# Strip Function - It removes trailing and leading spaces in string\n",
    "name = \"         -- Ali     \"\n",
    "print(name)\n",
    "\n",
    "print(name.strip())"
   ]
  },
  {
   "cell_type": "code",
   "execution_count": 116,
   "id": "47b11efb",
   "metadata": {
    "scrolled": true
   },
   "outputs": [
    {
     "name": "stdout",
     "output_type": "stream",
     "text": [
      "True\n",
      "True\n",
      "False\n",
      "True\n",
      "True\n",
      "True\n",
      "False\n",
      "False\n",
      "True\n",
      "True\n"
     ]
    }
   ],
   "source": [
    "print('Flat30'.isalnum()) # Is there alphabet or numric in string\n",
    "print('Flat'.isalnum())\n",
    "print('Flat30'.isalpha())\n",
    "print('Flat'.isalpha())\n",
    "print('30'.isdecimal())\n",
    "print('30'.isdigit())\n",
    "print('30A'.isdigit())\n",
    "print('hello world'.isidentifier())\n",
    "print('hello_world'.isidentifier())\n",
    "print('hello world'.islower())"
   ]
  },
  {
   "cell_type": "code",
   "execution_count": null,
   "id": "b124880a",
   "metadata": {},
   "outputs": [],
   "source": []
  },
  {
   "cell_type": "markdown",
   "id": "60ee7ead",
   "metadata": {},
   "source": [
    "# List"
   ]
  },
  {
   "cell_type": "markdown",
   "id": "984eb21f",
   "metadata": {},
   "source": [
    "<b> Lists in Python are mutable"
   ]
  },
  {
   "cell_type": "markdown",
   "id": "b5cc81da",
   "metadata": {},
   "source": [
    "<b>Difference Between List and Array<br>\n",
    "1 - Array is only Homogeneous List whereas List can be Heterogeneous List<br>\n",
    "2 - Arrays are much faster<br>\n",
    "3 - Lists are more programmer friendly"
   ]
  },
  {
   "cell_type": "markdown",
   "id": "893b16e9",
   "metadata": {},
   "source": [
    "### Homogeneous List - Consists of elements from same data types"
   ]
  },
  {
   "cell_type": "code",
   "execution_count": 2,
   "id": "19da8c08",
   "metadata": {},
   "outputs": [],
   "source": [
    "li1 = [1,2,3,4]     # Only integers\n",
    "li2 = ['Python','C++','Java']  # Only strings\n",
    "li3 = [[1,2],[3,4]]  # Only lists\n",
    "li4 = [True, False]  # Only boolian data types\n",
    "li5 = [2+3j,5-3j]    # Only complex data types"
   ]
  },
  {
   "cell_type": "markdown",
   "id": "ed53e85c",
   "metadata": {},
   "source": [
    "### Heterogeneous List - Consists of elements from different data types"
   ]
  },
  {
   "cell_type": "code",
   "execution_count": 3,
   "id": "6d73a79b",
   "metadata": {},
   "outputs": [],
   "source": [
    "li = [1,2,'Python',True,[3,4]]"
   ]
  },
  {
   "cell_type": "markdown",
   "id": "09673122",
   "metadata": {},
   "source": [
    "## 1 - Creation of List"
   ]
  },
  {
   "cell_type": "code",
   "execution_count": 4,
   "id": "3394f12e",
   "metadata": {},
   "outputs": [],
   "source": [
    "li1 = [3,4,5]    # Homogeneous List\n",
    "li = [1,2,'Python',True,2-3j]  # Heterogeneous List"
   ]
  },
  {
   "cell_type": "code",
   "execution_count": 5,
   "id": "1297564a",
   "metadata": {},
   "outputs": [
    {
     "name": "stdout",
     "output_type": "stream",
     "text": [
      "[1, 2, 3, 4, [5, 6]]\n",
      "[[[1, 2], [3, 4]], [[5, 6], [7, 8]]]\n",
      "['P', 'y', 't', 'h', 'o', 'n']\n"
     ]
    }
   ],
   "source": [
    "# Multi dimensional list\n",
    "li = [1,2,3,4,[5,6]] # 2 D list\n",
    "li2 = [[[1,2],[3,4]],[[5,6],[7,8]]] # 3 D List\n",
    "li3 = list(\"Python\")  # Using list function\n",
    "print(li)\n",
    "print(li2)\n",
    "print(li3)"
   ]
  },
  {
   "cell_type": "code",
   "execution_count": 35,
   "id": "083a7222",
   "metadata": {},
   "outputs": [
    {
     "data": {
      "text/plain": [
       "[]"
      ]
     },
     "execution_count": 35,
     "metadata": {},
     "output_type": "execute_result"
    }
   ],
   "source": [
    "a = list() # Creating Emplty List\n",
    "a "
   ]
  },
  {
   "cell_type": "markdown",
   "id": "a740ba0f",
   "metadata": {},
   "source": [
    "## 2 - Accessing Items of a List"
   ]
  },
  {
   "cell_type": "code",
   "execution_count": 6,
   "id": "1f023efe",
   "metadata": {},
   "outputs": [],
   "source": [
    "l1 = [1,2,3,4,5]    \n",
    "l2 = [1,2,3,4,[5,6]]\n",
    "l3 = [[[1,2],[3,4]],[[5,6],[7,8]]]"
   ]
  },
  {
   "cell_type": "markdown",
   "id": "36f386f5",
   "metadata": {},
   "source": [
    "### Indexing"
   ]
  },
  {
   "cell_type": "code",
   "execution_count": 8,
   "id": "c829f983",
   "metadata": {},
   "outputs": [
    {
     "data": {
      "text/plain": [
       "1"
      ]
     },
     "execution_count": 8,
     "metadata": {},
     "output_type": "execute_result"
    }
   ],
   "source": [
    "l1[0]"
   ]
  },
  {
   "cell_type": "code",
   "execution_count": 9,
   "id": "6254fdd1",
   "metadata": {},
   "outputs": [
    {
     "data": {
      "text/plain": [
       "[5, 6]"
      ]
     },
     "execution_count": 9,
     "metadata": {},
     "output_type": "execute_result"
    }
   ],
   "source": [
    "l2[-1]"
   ]
  },
  {
   "cell_type": "code",
   "execution_count": 11,
   "id": "8d09d1d7",
   "metadata": {},
   "outputs": [
    {
     "data": {
      "text/plain": [
       "5"
      ]
     },
     "execution_count": 11,
     "metadata": {},
     "output_type": "execute_result"
    }
   ],
   "source": [
    "l2[-1][0]"
   ]
  },
  {
   "cell_type": "code",
   "execution_count": 15,
   "id": "0840000b",
   "metadata": {},
   "outputs": [
    {
     "data": {
      "text/plain": [
       "[7, 8]"
      ]
     },
     "execution_count": 15,
     "metadata": {},
     "output_type": "execute_result"
    }
   ],
   "source": [
    "l3[1][1]"
   ]
  },
  {
   "cell_type": "code",
   "execution_count": 10,
   "id": "d2f8a2e8",
   "metadata": {},
   "outputs": [
    {
     "data": {
      "text/plain": [
       "7"
      ]
     },
     "execution_count": 10,
     "metadata": {},
     "output_type": "execute_result"
    }
   ],
   "source": [
    "l3[1][1][0]"
   ]
  },
  {
   "cell_type": "markdown",
   "id": "1fb09e52",
   "metadata": {},
   "source": [
    "### Slicing"
   ]
  },
  {
   "cell_type": "code",
   "execution_count": 13,
   "id": "a23e99af",
   "metadata": {},
   "outputs": [
    {
     "data": {
      "text/plain": [
       "[1, 2, 3]"
      ]
     },
     "execution_count": 13,
     "metadata": {},
     "output_type": "execute_result"
    }
   ],
   "source": [
    "l1[:3]"
   ]
  },
  {
   "cell_type": "code",
   "execution_count": 16,
   "id": "65918fd4",
   "metadata": {},
   "outputs": [
    {
     "data": {
      "text/plain": [
       "[[[5, 6], [7, 8]]]"
      ]
     },
     "execution_count": 16,
     "metadata": {},
     "output_type": "execute_result"
    }
   ],
   "source": [
    "l3[1:]"
   ]
  },
  {
   "cell_type": "markdown",
   "id": "32fea8c4",
   "metadata": {},
   "source": [
    "## 3 - Editing a List"
   ]
  },
  {
   "cell_type": "code",
   "execution_count": 17,
   "id": "94628dc1",
   "metadata": {},
   "outputs": [
    {
     "data": {
      "text/plain": [
       "[1, 2, 3, 4, 5]"
      ]
     },
     "execution_count": 17,
     "metadata": {},
     "output_type": "execute_result"
    }
   ],
   "source": [
    "l1"
   ]
  },
  {
   "cell_type": "code",
   "execution_count": 18,
   "id": "e774aa12",
   "metadata": {},
   "outputs": [],
   "source": [
    "l1[0]=500"
   ]
  },
  {
   "cell_type": "code",
   "execution_count": 19,
   "id": "cd1d1050",
   "metadata": {},
   "outputs": [
    {
     "data": {
      "text/plain": [
       "[500, 2, 3, 4, 5]"
      ]
     },
     "execution_count": 19,
     "metadata": {},
     "output_type": "execute_result"
    }
   ],
   "source": [
    "l1"
   ]
  },
  {
   "cell_type": "code",
   "execution_count": 20,
   "id": "0502be09",
   "metadata": {},
   "outputs": [
    {
     "data": {
      "text/plain": [
       "[20, 30, 40, 4, 5]"
      ]
     },
     "execution_count": 20,
     "metadata": {},
     "output_type": "execute_result"
    }
   ],
   "source": [
    "l1[:3]=[20,30,40]\n",
    "l1"
   ]
  },
  {
   "cell_type": "code",
   "execution_count": 21,
   "id": "f293ec1c",
   "metadata": {},
   "outputs": [
    {
     "data": {
      "text/plain": [
       "[20, 30, 40, 4, 'Python']"
      ]
     },
     "execution_count": 21,
     "metadata": {},
     "output_type": "execute_result"
    }
   ],
   "source": [
    "l1[-1]='Python'\n",
    "l1"
   ]
  },
  {
   "cell_type": "markdown",
   "id": "c5f7b2cb",
   "metadata": {},
   "source": [
    "### Adding element in a list"
   ]
  },
  {
   "cell_type": "code",
   "execution_count": 22,
   "id": "b7dd819a",
   "metadata": {},
   "outputs": [
    {
     "data": {
      "text/plain": [
       "[20, 30, 40, 4, 'Python']"
      ]
     },
     "execution_count": 22,
     "metadata": {},
     "output_type": "execute_result"
    }
   ],
   "source": [
    "l1"
   ]
  },
  {
   "cell_type": "code",
   "execution_count": 25,
   "id": "5c84c2c2",
   "metadata": {},
   "outputs": [],
   "source": [
    "# Append Function - to add single element at the end of the list\n",
    "l1.append(100)"
   ]
  },
  {
   "cell_type": "code",
   "execution_count": 24,
   "id": "05552753",
   "metadata": {},
   "outputs": [
    {
     "data": {
      "text/plain": [
       "[20, 30, 40, 4, 'Python', 100]"
      ]
     },
     "execution_count": 24,
     "metadata": {},
     "output_type": "execute_result"
    }
   ],
   "source": [
    "l1"
   ]
  },
  {
   "cell_type": "code",
   "execution_count": 26,
   "id": "399b9152",
   "metadata": {},
   "outputs": [],
   "source": [
    "# Extend Function - to add multiple elements in list\n",
    "l1.extend([200,300])"
   ]
  },
  {
   "cell_type": "code",
   "execution_count": 27,
   "id": "2b7cb89e",
   "metadata": {},
   "outputs": [
    {
     "data": {
      "text/plain": [
       "[20, 30, 40, 4, 'Python', 100, 100, 200, 300]"
      ]
     },
     "execution_count": 27,
     "metadata": {},
     "output_type": "execute_result"
    }
   ],
   "source": [
    "l1"
   ]
  },
  {
   "cell_type": "code",
   "execution_count": 28,
   "id": "8550a2af",
   "metadata": {},
   "outputs": [],
   "source": [
    "l1.extend('Lahore') # Extend Function converts each element of string into list and then added in list"
   ]
  },
  {
   "cell_type": "code",
   "execution_count": 29,
   "id": "eedb8a6d",
   "metadata": {},
   "outputs": [
    {
     "data": {
      "text/plain": [
       "[20, 30, 40, 4, 'Python', 100, 100, 200, 300, 'L', 'a', 'h', 'o', 'r', 'e']"
      ]
     },
     "execution_count": 29,
     "metadata": {},
     "output_type": "execute_result"
    }
   ],
   "source": [
    "l1"
   ]
  },
  {
   "cell_type": "code",
   "execution_count": 30,
   "id": "532cfd3d",
   "metadata": {},
   "outputs": [],
   "source": [
    "l1.append('hello')  # But in case of append string is added in single word"
   ]
  },
  {
   "cell_type": "code",
   "execution_count": 31,
   "id": "6ccda4a4",
   "metadata": {
    "scrolled": true
   },
   "outputs": [
    {
     "data": {
      "text/plain": [
       "[20,\n",
       " 30,\n",
       " 40,\n",
       " 4,\n",
       " 'Python',\n",
       " 100,\n",
       " 100,\n",
       " 200,\n",
       " 300,\n",
       " 'L',\n",
       " 'a',\n",
       " 'h',\n",
       " 'o',\n",
       " 'r',\n",
       " 'e',\n",
       " 'hello']"
      ]
     },
     "execution_count": 31,
     "metadata": {},
     "output_type": "execute_result"
    }
   ],
   "source": [
    "l1"
   ]
  },
  {
   "cell_type": "code",
   "execution_count": 32,
   "id": "b54c2ae9",
   "metadata": {},
   "outputs": [],
   "source": [
    "# Insert Function - to add element at desired position\n",
    "l1.insert(1,'1000')  # adding value of 1000 at 1st index"
   ]
  },
  {
   "cell_type": "code",
   "execution_count": 33,
   "id": "3e4bdd95",
   "metadata": {
    "scrolled": true
   },
   "outputs": [
    {
     "data": {
      "text/plain": [
       "[20,\n",
       " '1000',\n",
       " 30,\n",
       " 40,\n",
       " 4,\n",
       " 'Python',\n",
       " 100,\n",
       " 100,\n",
       " 200,\n",
       " 300,\n",
       " 'L',\n",
       " 'a',\n",
       " 'h',\n",
       " 'o',\n",
       " 'r',\n",
       " 'e',\n",
       " 'hello']"
      ]
     },
     "execution_count": 33,
     "metadata": {},
     "output_type": "execute_result"
    }
   ],
   "source": [
    "l1"
   ]
  },
  {
   "cell_type": "markdown",
   "id": "2fccb63a",
   "metadata": {},
   "source": [
    "## 4- Deleting Element From a List"
   ]
  },
  {
   "cell_type": "code",
   "execution_count": 36,
   "id": "1ce331cb",
   "metadata": {},
   "outputs": [
    {
     "data": {
      "text/plain": [
       "[]"
      ]
     },
     "execution_count": 36,
     "metadata": {},
     "output_type": "execute_result"
    }
   ],
   "source": [
    "a"
   ]
  },
  {
   "cell_type": "code",
   "execution_count": 37,
   "id": "6ea3ddb6",
   "metadata": {},
   "outputs": [],
   "source": [
    "# Del Function - to remove entire list\n",
    "del a  "
   ]
  },
  {
   "cell_type": "code",
   "execution_count": 38,
   "id": "52eb2132",
   "metadata": {
    "scrolled": true
   },
   "outputs": [
    {
     "ename": "NameError",
     "evalue": "name 'a' is not defined",
     "output_type": "error",
     "traceback": [
      "\u001b[1;31m---------------------------------------------------------------------------\u001b[0m",
      "\u001b[1;31mNameError\u001b[0m                                 Traceback (most recent call last)",
      "Input \u001b[1;32mIn [38]\u001b[0m, in \u001b[0;36m<cell line: 1>\u001b[1;34m()\u001b[0m\n\u001b[1;32m----> 1\u001b[0m \u001b[43ma\u001b[49m\n",
      "\u001b[1;31mNameError\u001b[0m: name 'a' is not defined"
     ]
    }
   ],
   "source": [
    "a"
   ]
  },
  {
   "cell_type": "code",
   "execution_count": 39,
   "id": "2ab40555",
   "metadata": {
    "scrolled": true
   },
   "outputs": [
    {
     "data": {
      "text/plain": [
       "[20,\n",
       " '1000',\n",
       " 30,\n",
       " 40,\n",
       " 4,\n",
       " 'Python',\n",
       " 100,\n",
       " 100,\n",
       " 200,\n",
       " 300,\n",
       " 'L',\n",
       " 'a',\n",
       " 'h',\n",
       " 'o',\n",
       " 'r',\n",
       " 'e',\n",
       " 'hello']"
      ]
     },
     "execution_count": 39,
     "metadata": {},
     "output_type": "execute_result"
    }
   ],
   "source": [
    "l1"
   ]
  },
  {
   "cell_type": "code",
   "execution_count": 40,
   "id": "62ff4e0f",
   "metadata": {},
   "outputs": [],
   "source": [
    "del l1[1]  # to delete part from list"
   ]
  },
  {
   "cell_type": "code",
   "execution_count": 41,
   "id": "2ddd259d",
   "metadata": {},
   "outputs": [
    {
     "data": {
      "text/plain": [
       "[20,\n",
       " 30,\n",
       " 40,\n",
       " 4,\n",
       " 'Python',\n",
       " 100,\n",
       " 100,\n",
       " 200,\n",
       " 300,\n",
       " 'L',\n",
       " 'a',\n",
       " 'h',\n",
       " 'o',\n",
       " 'r',\n",
       " 'e',\n",
       " 'hello']"
      ]
     },
     "execution_count": 41,
     "metadata": {},
     "output_type": "execute_result"
    }
   ],
   "source": [
    "l1"
   ]
  },
  {
   "cell_type": "code",
   "execution_count": 42,
   "id": "e7b55d3f",
   "metadata": {},
   "outputs": [],
   "source": [
    "del l1[-7:-1]"
   ]
  },
  {
   "cell_type": "code",
   "execution_count": 43,
   "id": "a37fb3db",
   "metadata": {},
   "outputs": [
    {
     "data": {
      "text/plain": [
       "[20, 30, 40, 4, 'Python', 100, 100, 200, 300, 'hello']"
      ]
     },
     "execution_count": 43,
     "metadata": {},
     "output_type": "execute_result"
    }
   ],
   "source": [
    "l1"
   ]
  },
  {
   "cell_type": "code",
   "execution_count": 44,
   "id": "a4818a43",
   "metadata": {},
   "outputs": [
    {
     "data": {
      "text/plain": [
       "[1, 2, 3, 4, [5, 6]]"
      ]
     },
     "execution_count": 44,
     "metadata": {},
     "output_type": "execute_result"
    }
   ],
   "source": [
    "l2"
   ]
  },
  {
   "cell_type": "code",
   "execution_count": 45,
   "id": "7402d9ba",
   "metadata": {},
   "outputs": [],
   "source": [
    "del l2[-1][0]"
   ]
  },
  {
   "cell_type": "code",
   "execution_count": 46,
   "id": "80b95e4d",
   "metadata": {},
   "outputs": [
    {
     "data": {
      "text/plain": [
       "[1, 2, 3, 4, [6]]"
      ]
     },
     "execution_count": 46,
     "metadata": {},
     "output_type": "execute_result"
    }
   ],
   "source": [
    "l2"
   ]
  },
  {
   "cell_type": "code",
   "execution_count": 47,
   "id": "34f7f554",
   "metadata": {},
   "outputs": [
    {
     "data": {
      "text/plain": [
       "[20, 30, 40, 4, 'Python', 100, 100, 200, 300, 'hello']"
      ]
     },
     "execution_count": 47,
     "metadata": {},
     "output_type": "execute_result"
    }
   ],
   "source": [
    "# Remove function - to remove single desired value\n",
    "l1"
   ]
  },
  {
   "cell_type": "code",
   "execution_count": 48,
   "id": "ce6e64c9",
   "metadata": {},
   "outputs": [],
   "source": [
    "l1.remove('Python')"
   ]
  },
  {
   "cell_type": "code",
   "execution_count": 49,
   "id": "8505a26a",
   "metadata": {},
   "outputs": [
    {
     "data": {
      "text/plain": [
       "[20, 30, 40, 4, 100, 100, 200, 300, 'hello']"
      ]
     },
     "execution_count": 49,
     "metadata": {},
     "output_type": "execute_result"
    }
   ],
   "source": [
    "l1"
   ]
  },
  {
   "cell_type": "code",
   "execution_count": 50,
   "id": "d3f12dce",
   "metadata": {},
   "outputs": [],
   "source": [
    "l1.append('Python')"
   ]
  },
  {
   "cell_type": "code",
   "execution_count": 51,
   "id": "f101659e",
   "metadata": {},
   "outputs": [
    {
     "data": {
      "text/plain": [
       "[20, 30, 40, 4, 100, 100, 200, 300, 'hello', 'Python']"
      ]
     },
     "execution_count": 51,
     "metadata": {},
     "output_type": "execute_result"
    }
   ],
   "source": [
    "l1"
   ]
  },
  {
   "cell_type": "code",
   "execution_count": 54,
   "id": "d2f8e5d0",
   "metadata": {},
   "outputs": [],
   "source": [
    "l1.remove('Python')"
   ]
  },
  {
   "cell_type": "code",
   "execution_count": 55,
   "id": "6e979f39",
   "metadata": {},
   "outputs": [
    {
     "data": {
      "text/plain": [
       "[20, 30, 40, 4, 100, 100, 200, 300, 'hello']"
      ]
     },
     "execution_count": 55,
     "metadata": {},
     "output_type": "execute_result"
    }
   ],
   "source": [
    "# Pop Function - to remove last element from list\n",
    "l1"
   ]
  },
  {
   "cell_type": "code",
   "execution_count": 56,
   "id": "37ca3b05",
   "metadata": {},
   "outputs": [
    {
     "data": {
      "text/plain": [
       "'hello'"
      ]
     },
     "execution_count": 56,
     "metadata": {},
     "output_type": "execute_result"
    }
   ],
   "source": [
    "l1.pop()"
   ]
  },
  {
   "cell_type": "code",
   "execution_count": 57,
   "id": "e3d4d8d7",
   "metadata": {},
   "outputs": [
    {
     "data": {
      "text/plain": [
       "[20, 30, 40, 4, 100, 100, 200, 300]"
      ]
     },
     "execution_count": 57,
     "metadata": {},
     "output_type": "execute_result"
    }
   ],
   "source": [
    "l1"
   ]
  },
  {
   "cell_type": "code",
   "execution_count": 58,
   "id": "2da4dcb1",
   "metadata": {},
   "outputs": [
    {
     "data": {
      "text/plain": [
       "300"
      ]
     },
     "execution_count": 58,
     "metadata": {},
     "output_type": "execute_result"
    }
   ],
   "source": [
    "l1.pop()"
   ]
  },
  {
   "cell_type": "code",
   "execution_count": 59,
   "id": "eb952492",
   "metadata": {},
   "outputs": [
    {
     "data": {
      "text/plain": [
       "[20, 30, 40, 4, 100, 100, 200]"
      ]
     },
     "execution_count": 59,
     "metadata": {},
     "output_type": "execute_result"
    }
   ],
   "source": [
    "l1"
   ]
  },
  {
   "cell_type": "code",
   "execution_count": 60,
   "id": "5563c595",
   "metadata": {},
   "outputs": [],
   "source": [
    "# Clear Function - to delete values from list so remaining wil be empty list\n",
    "l1.clear()"
   ]
  },
  {
   "cell_type": "code",
   "execution_count": 61,
   "id": "a819e8a4",
   "metadata": {
    "scrolled": true
   },
   "outputs": [
    {
     "data": {
      "text/plain": [
       "[]"
      ]
     },
     "execution_count": 61,
     "metadata": {},
     "output_type": "execute_result"
    }
   ],
   "source": [
    "l1"
   ]
  },
  {
   "cell_type": "markdown",
   "id": "d86e1ef1",
   "metadata": {},
   "source": [
    "## 5 - Operations Applied on List"
   ]
  },
  {
   "cell_type": "code",
   "execution_count": 63,
   "id": "847818bd",
   "metadata": {},
   "outputs": [
    {
     "data": {
      "text/plain": [
       "[1, 2, 3, 4, 5, 6, 7, 8, 9, 9, 10, 'Python']"
      ]
     },
     "execution_count": 63,
     "metadata": {},
     "output_type": "execute_result"
    }
   ],
   "source": [
    "# Concatenation / Addition of lists\n",
    "l1 =[1,2,3]\n",
    "l2 = [4,5,6]\n",
    "l3 = [7,8,9]\n",
    "l4 = [9,10]\n",
    "l5 = ['Python']\n",
    "l1 + l2 + l3 + l4 + l5"
   ]
  },
  {
   "cell_type": "code",
   "execution_count": 64,
   "id": "9a8b56f6",
   "metadata": {},
   "outputs": [
    {
     "data": {
      "text/plain": [
       "[1, 2, 3, 1, 2, 3, 1, 2, 3]"
      ]
     },
     "execution_count": 64,
     "metadata": {},
     "output_type": "execute_result"
    }
   ],
   "source": [
    "# Multiplication\n",
    "l1 * 3"
   ]
  },
  {
   "cell_type": "code",
   "execution_count": 65,
   "id": "946e194c",
   "metadata": {},
   "outputs": [
    {
     "name": "stdout",
     "output_type": "stream",
     "text": [
      "1\n",
      "2\n",
      "3\n"
     ]
    }
   ],
   "source": [
    "# Iteration in a List\n",
    "for i in l1:\n",
    "    print(i)"
   ]
  },
  {
   "cell_type": "code",
   "execution_count": 66,
   "id": "4e6af55a",
   "metadata": {},
   "outputs": [
    {
     "name": "stdout",
     "output_type": "stream",
     "text": [
      "1\n",
      "2\n",
      "3\n",
      "[4, 5]\n"
     ]
    }
   ],
   "source": [
    "l2 = [1,2,3,[4,5]]\n",
    "for i in l2:\n",
    "    print(i)"
   ]
  },
  {
   "cell_type": "code",
   "execution_count": 67,
   "id": "5afc6d6f",
   "metadata": {},
   "outputs": [
    {
     "data": {
      "text/plain": [
       "True"
      ]
     },
     "execution_count": 67,
     "metadata": {},
     "output_type": "execute_result"
    }
   ],
   "source": [
    "# Membership Operator\n",
    "1 in l1"
   ]
  },
  {
   "cell_type": "code",
   "execution_count": 68,
   "id": "54c449e3",
   "metadata": {},
   "outputs": [
    {
     "data": {
      "text/plain": [
       "True"
      ]
     },
     "execution_count": 68,
     "metadata": {},
     "output_type": "execute_result"
    }
   ],
   "source": [
    "10 not in l2"
   ]
  },
  {
   "cell_type": "code",
   "execution_count": 69,
   "id": "82ac81f5",
   "metadata": {},
   "outputs": [
    {
     "data": {
      "text/plain": [
       "False"
      ]
     },
     "execution_count": 69,
     "metadata": {},
     "output_type": "execute_result"
    }
   ],
   "source": [
    "[4,5] not in l2"
   ]
  },
  {
   "cell_type": "markdown",
   "id": "226e25cb",
   "metadata": {},
   "source": [
    "## 6 - Functions Applied on List"
   ]
  },
  {
   "cell_type": "code",
   "execution_count": 70,
   "id": "23028155",
   "metadata": {},
   "outputs": [
    {
     "data": {
      "text/plain": [
       "[1, 2, 3]"
      ]
     },
     "execution_count": 70,
     "metadata": {},
     "output_type": "execute_result"
    }
   ],
   "source": [
    "l1"
   ]
  },
  {
   "cell_type": "code",
   "execution_count": 74,
   "id": "be3e6db2",
   "metadata": {},
   "outputs": [
    {
     "data": {
      "text/plain": [
       "3"
      ]
     },
     "execution_count": 74,
     "metadata": {},
     "output_type": "execute_result"
    }
   ],
   "source": [
    "# Len Function\n",
    "len(l1)"
   ]
  },
  {
   "cell_type": "code",
   "execution_count": 75,
   "id": "5ffc1669",
   "metadata": {},
   "outputs": [
    {
     "data": {
      "text/plain": [
       "3"
      ]
     },
     "execution_count": 75,
     "metadata": {},
     "output_type": "execute_result"
    }
   ],
   "source": [
    "# max Function\n",
    "max(l1)"
   ]
  },
  {
   "cell_type": "code",
   "execution_count": 76,
   "id": "71eb798c",
   "metadata": {},
   "outputs": [
    {
     "data": {
      "text/plain": [
       "1"
      ]
     },
     "execution_count": 76,
     "metadata": {},
     "output_type": "execute_result"
    }
   ],
   "source": [
    "# min Function\n",
    "min(l1)"
   ]
  },
  {
   "cell_type": "code",
   "execution_count": 77,
   "id": "aec3291e",
   "metadata": {},
   "outputs": [],
   "source": [
    "l1 = [20,1,30,45,78,9]\n",
    "l2 = [1,2,3,'python']\n",
    "l3 = ['python','Python','computer','C++']"
   ]
  },
  {
   "cell_type": "code",
   "execution_count": 84,
   "id": "264f1057",
   "metadata": {},
   "outputs": [
    {
     "data": {
      "text/plain": [
       "([1, 9, 20, 30, 45, 78], ['C++', 'Python', 'computer', 'python'])"
      ]
     },
     "execution_count": 84,
     "metadata": {},
     "output_type": "execute_result"
    }
   ],
   "source": [
    "# sorted Function - Applied for homogeneous data types\n",
    "sorted(l1), sorted(l3)"
   ]
  },
  {
   "cell_type": "code",
   "execution_count": 85,
   "id": "1dbc5bf6",
   "metadata": {},
   "outputs": [
    {
     "ename": "TypeError",
     "evalue": "'<' not supported between instances of 'str' and 'int'",
     "output_type": "error",
     "traceback": [
      "\u001b[1;31m---------------------------------------------------------------------------\u001b[0m",
      "\u001b[1;31mTypeError\u001b[0m                                 Traceback (most recent call last)",
      "Input \u001b[1;32mIn [85]\u001b[0m, in \u001b[0;36m<cell line: 1>\u001b[1;34m()\u001b[0m\n\u001b[1;32m----> 1\u001b[0m \u001b[38;5;28;43msorted\u001b[39;49m\u001b[43m(\u001b[49m\u001b[43ml2\u001b[49m\u001b[43m)\u001b[49m\n",
      "\u001b[1;31mTypeError\u001b[0m: '<' not supported between instances of 'str' and 'int'"
     ]
    }
   ],
   "source": [
    "sorted(l2)"
   ]
  },
  {
   "cell_type": "code",
   "execution_count": 86,
   "id": "173d3f3b",
   "metadata": {},
   "outputs": [
    {
     "data": {
      "text/plain": [
       "[78, 45, 30, 20, 9, 1]"
      ]
     },
     "execution_count": 86,
     "metadata": {},
     "output_type": "execute_result"
    }
   ],
   "source": [
    "sorted(l1,reverse = True) # Sorting in reverse order"
   ]
  },
  {
   "cell_type": "code",
   "execution_count": 87,
   "id": "0bc3c08b",
   "metadata": {},
   "outputs": [
    {
     "data": {
      "text/plain": [
       "[20, 1, 30, 45, 78, 9]"
      ]
     },
     "execution_count": 87,
     "metadata": {},
     "output_type": "execute_result"
    }
   ],
   "source": [
    "l1"
   ]
  },
  {
   "cell_type": "markdown",
   "id": "d20743eb",
   "metadata": {},
   "source": [
    "<b> The above result shows that sorted function does temporary sorting in list"
   ]
  },
  {
   "cell_type": "code",
   "execution_count": 90,
   "id": "56c28686",
   "metadata": {},
   "outputs": [],
   "source": [
    "# sort Function\n",
    "l1.sort()"
   ]
  },
  {
   "cell_type": "code",
   "execution_count": 91,
   "id": "fa2bedf1",
   "metadata": {},
   "outputs": [
    {
     "data": {
      "text/plain": [
       "[1, 9, 20, 30, 45, 78]"
      ]
     },
     "execution_count": 91,
     "metadata": {},
     "output_type": "execute_result"
    }
   ],
   "source": [
    "l1"
   ]
  },
  {
   "cell_type": "markdown",
   "id": "70c5b732",
   "metadata": {},
   "source": [
    "<b> The above result shows that sort function does permanent sorting in list"
   ]
  },
  {
   "cell_type": "markdown",
   "id": "b5fb97a7",
   "metadata": {},
   "source": [
    "<b> Difference Between sorted and sort functions: <br>\n",
    "    i - sorted function does temporary sorting in list <br>\n",
    "    ii - sort function does permanent sorting in list"
   ]
  },
  {
   "cell_type": "code",
   "execution_count": 92,
   "id": "89c73ee2",
   "metadata": {},
   "outputs": [
    {
     "data": {
      "text/plain": [
       "[1, 9, 20, 30, 45, 78]"
      ]
     },
     "execution_count": 92,
     "metadata": {},
     "output_type": "execute_result"
    }
   ],
   "source": [
    "# index function\n",
    "l1"
   ]
  },
  {
   "cell_type": "code",
   "execution_count": 95,
   "id": "1a58e5d6",
   "metadata": {},
   "outputs": [
    {
     "data": {
      "text/plain": [
       "5"
      ]
     },
     "execution_count": 95,
     "metadata": {},
     "output_type": "execute_result"
    }
   ],
   "source": [
    "l1.index(78) # Position of specific value"
   ]
  },
  {
   "cell_type": "code",
   "execution_count": null,
   "id": "71e1d146",
   "metadata": {},
   "outputs": [],
   "source": []
  },
  {
   "cell_type": "markdown",
   "id": "9a268534",
   "metadata": {},
   "source": [
    "# Tuples"
   ]
  },
  {
   "cell_type": "markdown",
   "id": "f3644d96",
   "metadata": {},
   "source": [
    "<b> Tuples are Immutable. They are read only data types."
   ]
  },
  {
   "cell_type": "markdown",
   "id": "d829cf9f",
   "metadata": {},
   "source": [
    "## 1 - Creation of a Tuple"
   ]
  },
  {
   "cell_type": "code",
   "execution_count": 102,
   "id": "c0fb42e8",
   "metadata": {},
   "outputs": [
    {
     "name": "stdout",
     "output_type": "stream",
     "text": [
      "() (1, 2, 3, 4, 5) (1, 2, 'Python', True, (2+3j)) (1, 2, 3, (4, 5)) ((1, 2), (3, 4))\n"
     ]
    }
   ],
   "source": [
    "t1 = ()             # Craetion of Empty Tuple\n",
    "t2 = (1,2,3,4,5)              # Homogeneous Tuple\n",
    "t3 = (1,2,'Python',True,2+3j)        # Heterogeneous Tuple\n",
    "t4 = (1,2,3,(4,5))            # 2 D Tuple\n",
    "t5 = (((1,2),(3,4)))      # 3 D Tuple\n",
    "\n",
    "print(t1,t2,t3,t4,t5)"
   ]
  },
  {
   "cell_type": "code",
   "execution_count": 111,
   "id": "d96c6aaf",
   "metadata": {},
   "outputs": [
    {
     "data": {
      "text/plain": [
       "('P', 'y', 't', 'h', 'o', 'n')"
      ]
     },
     "execution_count": 111,
     "metadata": {},
     "output_type": "execute_result"
    }
   ],
   "source": [
    "t = tuple('Python')  # Creation of tuple from string\n",
    "t"
   ]
  },
  {
   "cell_type": "code",
   "execution_count": 112,
   "id": "c2f41634",
   "metadata": {},
   "outputs": [
    {
     "data": {
      "text/plain": [
       "(1, 2, 3)"
      ]
     },
     "execution_count": 112,
     "metadata": {},
     "output_type": "execute_result"
    }
   ],
   "source": [
    "t = tuple([1,2,3])  # creation of tuple from list\n",
    "t"
   ]
  },
  {
   "cell_type": "code",
   "execution_count": 113,
   "id": "74c0063a",
   "metadata": {},
   "outputs": [],
   "source": [
    "# to create one value tuple"
   ]
  },
  {
   "cell_type": "code",
   "execution_count": 107,
   "id": "0e0615cb",
   "metadata": {},
   "outputs": [
    {
     "data": {
      "text/plain": [
       "int"
      ]
     },
     "execution_count": 107,
     "metadata": {},
     "output_type": "execute_result"
    }
   ],
   "source": [
    "t = (4)\n",
    "type(t)"
   ]
  },
  {
   "cell_type": "code",
   "execution_count": 108,
   "id": "ee6d58bf",
   "metadata": {},
   "outputs": [
    {
     "data": {
      "text/plain": [
       "tuple"
      ]
     },
     "execution_count": 108,
     "metadata": {},
     "output_type": "execute_result"
    }
   ],
   "source": [
    "t = (4,) \n",
    "type(t)"
   ]
  },
  {
   "cell_type": "code",
   "execution_count": 109,
   "id": "1e8ae163",
   "metadata": {},
   "outputs": [
    {
     "data": {
      "text/plain": [
       "str"
      ]
     },
     "execution_count": 109,
     "metadata": {},
     "output_type": "execute_result"
    }
   ],
   "source": [
    "t1 = ('Python')\n",
    "type(t1)"
   ]
  },
  {
   "cell_type": "code",
   "execution_count": 110,
   "id": "c963db6d",
   "metadata": {},
   "outputs": [
    {
     "data": {
      "text/plain": [
       "tuple"
      ]
     },
     "execution_count": 110,
     "metadata": {},
     "output_type": "execute_result"
    }
   ],
   "source": [
    "t1 = ('Python',)\n",
    "type(t1)"
   ]
  },
  {
   "cell_type": "markdown",
   "id": "e46b1c71",
   "metadata": {},
   "source": [
    "## 2 - Accessing Items of a Tuple"
   ]
  },
  {
   "cell_type": "markdown",
   "id": "feb0ea2c",
   "metadata": {},
   "source": [
    "<b> i - Indexing"
   ]
  },
  {
   "cell_type": "code",
   "execution_count": 114,
   "id": "005f8cd1",
   "metadata": {},
   "outputs": [
    {
     "data": {
      "text/plain": [
       "(1, 2, 3, 4, 'Python')"
      ]
     },
     "execution_count": 114,
     "metadata": {},
     "output_type": "execute_result"
    }
   ],
   "source": [
    "t1 = (1,2,3,4,'Python')\n",
    "t1"
   ]
  },
  {
   "cell_type": "code",
   "execution_count": 115,
   "id": "68777a33",
   "metadata": {},
   "outputs": [
    {
     "data": {
      "text/plain": [
       "1"
      ]
     },
     "execution_count": 115,
     "metadata": {},
     "output_type": "execute_result"
    }
   ],
   "source": [
    "t1[0]"
   ]
  },
  {
   "cell_type": "code",
   "execution_count": 118,
   "id": "32ae1630",
   "metadata": {},
   "outputs": [
    {
     "data": {
      "text/plain": [
       "5"
      ]
     },
     "execution_count": 118,
     "metadata": {},
     "output_type": "execute_result"
    }
   ],
   "source": [
    "t2 = (1,2,3,(4,5))\n",
    "t2[-1][1]"
   ]
  },
  {
   "cell_type": "markdown",
   "id": "a7e11005",
   "metadata": {},
   "source": [
    "<b> ii - Slicing"
   ]
  },
  {
   "cell_type": "code",
   "execution_count": 116,
   "id": "3ad57c81",
   "metadata": {},
   "outputs": [
    {
     "data": {
      "text/plain": [
       "(1, 2, 3, 4)"
      ]
     },
     "execution_count": 116,
     "metadata": {},
     "output_type": "execute_result"
    }
   ],
   "source": [
    "t1[:4]"
   ]
  },
  {
   "cell_type": "code",
   "execution_count": 117,
   "id": "b0c177e2",
   "metadata": {},
   "outputs": [
    {
     "data": {
      "text/plain": [
       "('Python', 4, 3, 2, 1)"
      ]
     },
     "execution_count": 117,
     "metadata": {},
     "output_type": "execute_result"
    }
   ],
   "source": [
    "t1[::-1] # In reverse order"
   ]
  },
  {
   "cell_type": "markdown",
   "id": "2aa825bd",
   "metadata": {},
   "source": [
    "## 3 - Editing of a Tuple"
   ]
  },
  {
   "cell_type": "markdown",
   "id": "381afea7",
   "metadata": {},
   "source": [
    "<b> Tuples are Immutables"
   ]
  },
  {
   "cell_type": "code",
   "execution_count": 119,
   "id": "8e5cf8df",
   "metadata": {},
   "outputs": [
    {
     "data": {
      "text/plain": [
       "(1, 2, 3, 4, 'Python')"
      ]
     },
     "execution_count": 119,
     "metadata": {},
     "output_type": "execute_result"
    }
   ],
   "source": [
    "t1"
   ]
  },
  {
   "cell_type": "code",
   "execution_count": 120,
   "id": "3ba52f49",
   "metadata": {},
   "outputs": [
    {
     "ename": "TypeError",
     "evalue": "'tuple' object does not support item assignment",
     "output_type": "error",
     "traceback": [
      "\u001b[1;31m---------------------------------------------------------------------------\u001b[0m",
      "\u001b[1;31mTypeError\u001b[0m                                 Traceback (most recent call last)",
      "Input \u001b[1;32mIn [120]\u001b[0m, in \u001b[0;36m<cell line: 1>\u001b[1;34m()\u001b[0m\n\u001b[1;32m----> 1\u001b[0m t1[\u001b[38;5;241m0\u001b[39m]\u001b[38;5;241m=\u001b[39m\u001b[38;5;241m100\u001b[39m\n",
      "\u001b[1;31mTypeError\u001b[0m: 'tuple' object does not support item assignment"
     ]
    }
   ],
   "source": [
    "t1[0]=100"
   ]
  },
  {
   "cell_type": "code",
   "execution_count": 129,
   "id": "d69fb575",
   "metadata": {},
   "outputs": [
    {
     "data": {
      "text/plain": [
       "(1, 2, 3, [4, 5])"
      ]
     },
     "execution_count": 129,
     "metadata": {},
     "output_type": "execute_result"
    }
   ],
   "source": [
    "# But if there is mutable data type inside tuple, like list. Then, the value of list can be updated.\n",
    "t2 = (1,2,3,[4,5])\n",
    "t2"
   ]
  },
  {
   "cell_type": "code",
   "execution_count": 126,
   "id": "0dc5d2f1",
   "metadata": {},
   "outputs": [],
   "source": [
    "t2[-1][0]=6"
   ]
  },
  {
   "cell_type": "code",
   "execution_count": 127,
   "id": "af9a6490",
   "metadata": {},
   "outputs": [
    {
     "data": {
      "text/plain": [
       "(1, 2, 3, [6, 5])"
      ]
     },
     "execution_count": 127,
     "metadata": {},
     "output_type": "execute_result"
    }
   ],
   "source": [
    "t2"
   ]
  },
  {
   "cell_type": "code",
   "execution_count": 128,
   "id": "4ba8d69e",
   "metadata": {},
   "outputs": [
    {
     "data": {
      "text/plain": [
       "(20, 30, 50)"
      ]
     },
     "execution_count": 128,
     "metadata": {},
     "output_type": "execute_result"
    }
   ],
   "source": [
    "# We can replace with new tuple\n",
    "t1 = (20,30,50)\n",
    "t1"
   ]
  },
  {
   "cell_type": "code",
   "execution_count": 134,
   "id": "af8c12db",
   "metadata": {
    "scrolled": true
   },
   "outputs": [
    {
     "ename": "AttributeError",
     "evalue": "'tuple' object has no attribute 'append'",
     "output_type": "error",
     "traceback": [
      "\u001b[1;31m---------------------------------------------------------------------------\u001b[0m",
      "\u001b[1;31mAttributeError\u001b[0m                            Traceback (most recent call last)",
      "Input \u001b[1;32mIn [134]\u001b[0m, in \u001b[0;36m<cell line: 2>\u001b[1;34m()\u001b[0m\n\u001b[0;32m      1\u001b[0m \u001b[38;5;66;03m# Also we can't add any value indide tuple\u001b[39;00m\n\u001b[1;32m----> 2\u001b[0m \u001b[43mt1\u001b[49m\u001b[38;5;241;43m.\u001b[39;49m\u001b[43mappend\u001b[49m(\u001b[38;5;124m'\u001b[39m\u001b[38;5;124ma\u001b[39m\u001b[38;5;124m'\u001b[39m)\n",
      "\u001b[1;31mAttributeError\u001b[0m: 'tuple' object has no attribute 'append'"
     ]
    }
   ],
   "source": [
    "# Also we can't add any value indide tuple\n",
    "t1.append('a')"
   ]
  },
  {
   "cell_type": "markdown",
   "id": "faa9e7e3",
   "metadata": {},
   "source": [
    "## 4 - Deleting a Tuple"
   ]
  },
  {
   "cell_type": "code",
   "execution_count": 123,
   "id": "ac4b8612",
   "metadata": {},
   "outputs": [
    {
     "data": {
      "text/plain": [
       "(1, 2, 3, 'Python', (4, 5))"
      ]
     },
     "execution_count": 123,
     "metadata": {},
     "output_type": "execute_result"
    }
   ],
   "source": [
    "t1 = (1,2,3,'Python',(4,5))\n",
    "t1"
   ]
  },
  {
   "cell_type": "code",
   "execution_count": 130,
   "id": "3189c9a4",
   "metadata": {},
   "outputs": [
    {
     "ename": "TypeError",
     "evalue": "'tuple' object doesn't support item deletion",
     "output_type": "error",
     "traceback": [
      "\u001b[1;31m---------------------------------------------------------------------------\u001b[0m",
      "\u001b[1;31mTypeError\u001b[0m                                 Traceback (most recent call last)",
      "Input \u001b[1;32mIn [130]\u001b[0m, in \u001b[0;36m<cell line: 1>\u001b[1;34m()\u001b[0m\n\u001b[1;32m----> 1\u001b[0m \u001b[38;5;28;01mdel\u001b[39;00m t1[\u001b[38;5;241m0\u001b[39m]\n",
      "\u001b[1;31mTypeError\u001b[0m: 'tuple' object doesn't support item deletion"
     ]
    }
   ],
   "source": [
    "del t1[0]  # Since tuple is immutable, so the part of it can't be deleted"
   ]
  },
  {
   "cell_type": "code",
   "execution_count": 131,
   "id": "987fe52c",
   "metadata": {},
   "outputs": [
    {
     "data": {
      "text/plain": [
       "(1, 2, 3, [4, 5])"
      ]
     },
     "execution_count": 131,
     "metadata": {},
     "output_type": "execute_result"
    }
   ],
   "source": [
    "# But value of list within tuple can be deleted\n",
    "t2"
   ]
  },
  {
   "cell_type": "code",
   "execution_count": 132,
   "id": "a3af88a5",
   "metadata": {},
   "outputs": [],
   "source": [
    "del t2[-1][0]"
   ]
  },
  {
   "cell_type": "code",
   "execution_count": 133,
   "id": "429611f7",
   "metadata": {},
   "outputs": [
    {
     "data": {
      "text/plain": [
       "(1, 2, 3, [5])"
      ]
     },
     "execution_count": 133,
     "metadata": {},
     "output_type": "execute_result"
    }
   ],
   "source": [
    "t2"
   ]
  },
  {
   "cell_type": "markdown",
   "id": "ba5f0b81",
   "metadata": {},
   "source": [
    "## 5 - Operations on Tuple"
   ]
  },
  {
   "cell_type": "code",
   "execution_count": 141,
   "id": "b9e270b4",
   "metadata": {},
   "outputs": [],
   "source": [
    "t1 = (1,2,3,4,5)\n",
    "t2 = (6,7,8,9,'Python')"
   ]
  },
  {
   "cell_type": "code",
   "execution_count": 142,
   "id": "c6fa61d7",
   "metadata": {},
   "outputs": [
    {
     "data": {
      "text/plain": [
       "(1, 2, 3, 4, 5, 6, 7, 8, 9, 'Python')"
      ]
     },
     "execution_count": 142,
     "metadata": {},
     "output_type": "execute_result"
    }
   ],
   "source": [
    "# Addition\n",
    "t1 + t2"
   ]
  },
  {
   "cell_type": "code",
   "execution_count": 143,
   "id": "c41617d1",
   "metadata": {},
   "outputs": [
    {
     "data": {
      "text/plain": [
       "(1, 2, 3, 4, 5, 1, 2, 3, 4, 5, 1, 2, 3, 4, 5)"
      ]
     },
     "execution_count": 143,
     "metadata": {},
     "output_type": "execute_result"
    }
   ],
   "source": [
    "# Multiplication\n",
    "t1 *3"
   ]
  },
  {
   "cell_type": "code",
   "execution_count": 144,
   "id": "b1c0ea03",
   "metadata": {},
   "outputs": [
    {
     "name": "stdout",
     "output_type": "stream",
     "text": [
      "1\n",
      "2\n",
      "3\n",
      "4\n",
      "5\n"
     ]
    }
   ],
   "source": [
    "# Iteration\n",
    "for i in t1:\n",
    "    print(i)"
   ]
  },
  {
   "cell_type": "code",
   "execution_count": 146,
   "id": "92ccf981",
   "metadata": {},
   "outputs": [
    {
     "name": "stdout",
     "output_type": "stream",
     "text": [
      "1\n",
      "2\n",
      "3\n"
     ]
    }
   ],
   "source": [
    "for i in t1[:3]:\n",
    "    print(i)"
   ]
  },
  {
   "cell_type": "markdown",
   "id": "6f173d53",
   "metadata": {},
   "source": [
    "## 5 - Functions on Tuple"
   ]
  },
  {
   "cell_type": "code",
   "execution_count": 149,
   "id": "b1b24218",
   "metadata": {},
   "outputs": [
    {
     "data": {
      "text/plain": [
       "(1, 2, 3, 4, 4, 5)"
      ]
     },
     "execution_count": 149,
     "metadata": {},
     "output_type": "execute_result"
    }
   ],
   "source": [
    "t1 = (1,2,3,4,4,5)\n",
    "t1"
   ]
  },
  {
   "cell_type": "code",
   "execution_count": 150,
   "id": "ca1ee0d1",
   "metadata": {},
   "outputs": [
    {
     "data": {
      "text/plain": [
       "2"
      ]
     },
     "execution_count": 150,
     "metadata": {},
     "output_type": "execute_result"
    }
   ],
   "source": [
    "# Count Function\n",
    "t1.count(4)"
   ]
  },
  {
   "cell_type": "code",
   "execution_count": 153,
   "id": "71c4d18e",
   "metadata": {},
   "outputs": [
    {
     "data": {
      "text/plain": [
       "6"
      ]
     },
     "execution_count": 153,
     "metadata": {},
     "output_type": "execute_result"
    }
   ],
   "source": [
    "# len Function\n",
    "len(t1)"
   ]
  },
  {
   "cell_type": "code",
   "execution_count": 156,
   "id": "fa66b666",
   "metadata": {},
   "outputs": [
    {
     "data": {
      "text/plain": [
       "1"
      ]
     },
     "execution_count": 156,
     "metadata": {},
     "output_type": "execute_result"
    }
   ],
   "source": [
    "# min Function\n",
    "min(t1)"
   ]
  },
  {
   "cell_type": "code",
   "execution_count": 157,
   "id": "11c239e7",
   "metadata": {},
   "outputs": [
    {
     "data": {
      "text/plain": [
       "5"
      ]
     },
     "execution_count": 157,
     "metadata": {},
     "output_type": "execute_result"
    }
   ],
   "source": [
    "# max Function\n",
    "max(t1)"
   ]
  },
  {
   "cell_type": "code",
   "execution_count": 158,
   "id": "61ce0b39",
   "metadata": {},
   "outputs": [
    {
     "data": {
      "text/plain": [
       "19"
      ]
     },
     "execution_count": 158,
     "metadata": {},
     "output_type": "execute_result"
    }
   ],
   "source": [
    "# Sum Function\n",
    "sum(t1)"
   ]
  },
  {
   "cell_type": "code",
   "execution_count": 160,
   "id": "38ca18ce",
   "metadata": {},
   "outputs": [
    {
     "data": {
      "text/plain": [
       "[5, 4, 4, 3, 2, 1]"
      ]
     },
     "execution_count": 160,
     "metadata": {},
     "output_type": "execute_result"
    }
   ],
   "source": [
    "# sorted Function\n",
    "sorted(t1,reverse = True)"
   ]
  },
  {
   "cell_type": "code",
   "execution_count": null,
   "id": "8f59d73e",
   "metadata": {},
   "outputs": [],
   "source": []
  },
  {
   "cell_type": "markdown",
   "id": "17d632b1",
   "metadata": {},
   "source": [
    "# Sets"
   ]
  },
  {
   "cell_type": "markdown",
   "id": "9cafec5c",
   "metadata": {},
   "source": [
    "<b> 1 - Sets don't allow duplicates<br>\n",
    "    2 - Sets have no indexing / slicing <br>\n",
    "    3 - Sets don't allow mutable data types<br>\n",
    "    4 - Set itself is a mutable data type"
   ]
  },
  {
   "cell_type": "markdown",
   "id": "042995e8",
   "metadata": {},
   "source": [
    "## 1 - Creation of Set"
   ]
  },
  {
   "cell_type": "code",
   "execution_count": 162,
   "id": "f57c9372",
   "metadata": {},
   "outputs": [
    {
     "data": {
      "text/plain": [
       "dict"
      ]
     },
     "execution_count": 162,
     "metadata": {},
     "output_type": "execute_result"
    }
   ],
   "source": [
    "s1 = {}  # By default, python creates dictionary by curly braces\n",
    "type(s1)"
   ]
  },
  {
   "cell_type": "code",
   "execution_count": 164,
   "id": "4d8b76b4",
   "metadata": {},
   "outputs": [
    {
     "data": {
      "text/plain": [
       "set"
      ]
     },
     "execution_count": 164,
     "metadata": {},
     "output_type": "execute_result"
    }
   ],
   "source": [
    "# To create empty set \n",
    "s1 = set()\n",
    "type(s1)"
   ]
  },
  {
   "cell_type": "code",
   "execution_count": 165,
   "id": "4412f73e",
   "metadata": {},
   "outputs": [
    {
     "data": {
      "text/plain": [
       "({1, 2, 3, 'Python'}, {1, 2, 3, 4, 5})"
      ]
     },
     "execution_count": 165,
     "metadata": {},
     "output_type": "execute_result"
    }
   ],
   "source": [
    "s1 = {1,2,3,'Python', True}  # Heterogeneous set\n",
    "s2=  {1,2,3,4,5}   # Homogeneous set\n",
    "s1, s2"
   ]
  },
  {
   "cell_type": "code",
   "execution_count": 166,
   "id": "813997e1",
   "metadata": {},
   "outputs": [
    {
     "data": {
      "text/plain": [
       "{1, 2, 3, 4}"
      ]
     },
     "execution_count": 166,
     "metadata": {},
     "output_type": "execute_result"
    }
   ],
   "source": [
    "# Set don't create duplicate values\n",
    "s1 = {1,2,2,3,3,3,4}\n",
    "s1"
   ]
  },
  {
   "cell_type": "code",
   "execution_count": 170,
   "id": "3a6f2640",
   "metadata": {
    "scrolled": true
   },
   "outputs": [
    {
     "ename": "TypeError",
     "evalue": "unhashable type: 'list'",
     "output_type": "error",
     "traceback": [
      "\u001b[1;31m---------------------------------------------------------------------------\u001b[0m",
      "\u001b[1;31mTypeError\u001b[0m                                 Traceback (most recent call last)",
      "Input \u001b[1;32mIn [170]\u001b[0m, in \u001b[0;36m<cell line: 2>\u001b[1;34m()\u001b[0m\n\u001b[0;32m      1\u001b[0m \u001b[38;5;66;03m# Sets don't allow mutable data types -  \u001b[39;00m\n\u001b[1;32m----> 2\u001b[0m s1 \u001b[38;5;241m=\u001b[39m {[\u001b[38;5;241m1\u001b[39m,\u001b[38;5;241m2\u001b[39m],\u001b[38;5;241m2\u001b[39m,\u001b[38;5;241m3\u001b[39m}\n\u001b[0;32m      3\u001b[0m s1\n",
      "\u001b[1;31mTypeError\u001b[0m: unhashable type: 'list'"
     ]
    }
   ],
   "source": [
    "# Sets don't allow mutable data types -  \n",
    "s1 = {[1,2],2,3}\n",
    "s1"
   ]
  },
  {
   "cell_type": "code",
   "execution_count": 174,
   "id": "6a2f97b1",
   "metadata": {
    "scrolled": true
   },
   "outputs": [
    {
     "ename": "TypeError",
     "evalue": "unhashable type: 'set'",
     "output_type": "error",
     "traceback": [
      "\u001b[1;31m---------------------------------------------------------------------------\u001b[0m",
      "\u001b[1;31mTypeError\u001b[0m                                 Traceback (most recent call last)",
      "Input \u001b[1;32mIn [174]\u001b[0m, in \u001b[0;36m<cell line: 1>\u001b[1;34m()\u001b[0m\n\u001b[1;32m----> 1\u001b[0m s1 \u001b[38;5;241m=\u001b[39m {{\u001b[38;5;241m1\u001b[39m,\u001b[38;5;241m2\u001b[39m,\u001b[38;5;241m2\u001b[39m},\u001b[38;5;241m2\u001b[39m,\u001b[38;5;241m3\u001b[39m}\n\u001b[0;32m      2\u001b[0m s1\n",
      "\u001b[1;31mTypeError\u001b[0m: unhashable type: 'set'"
     ]
    }
   ],
   "source": [
    "s1 = {{1,2,2},2,3}  # The error shows as set itself a mutable data type\n",
    "s1"
   ]
  },
  {
   "cell_type": "code",
   "execution_count": 179,
   "id": "b4dad10d",
   "metadata": {},
   "outputs": [
    {
     "data": {
      "text/plain": [
       "{(1, 2), 'C++', 'Python'}"
      ]
     },
     "execution_count": 179,
     "metadata": {},
     "output_type": "execute_result"
    }
   ],
   "source": [
    "s2 = {'C++',(1,2),'Python'}  # Since tuple and strings is immutable data type, so no error\n",
    "s2"
   ]
  },
  {
   "cell_type": "markdown",
   "id": "1ce18847",
   "metadata": {},
   "source": [
    "<b> The above output is not in order. Because, sets have no indexing. The order is done by hashing."
   ]
  },
  {
   "cell_type": "markdown",
   "id": "ee5e39cf",
   "metadata": {},
   "source": [
    "## 2 - Accessing Items of Set"
   ]
  },
  {
   "cell_type": "markdown",
   "id": "459f3e62",
   "metadata": {},
   "source": [
    "<b> Sets have no indexing / slicing"
   ]
  },
  {
   "cell_type": "code",
   "execution_count": 180,
   "id": "d24232e6",
   "metadata": {},
   "outputs": [
    {
     "data": {
      "text/plain": [
       "{1, 2, 3, 4}"
      ]
     },
     "execution_count": 180,
     "metadata": {},
     "output_type": "execute_result"
    }
   ],
   "source": [
    "s1"
   ]
  },
  {
   "cell_type": "code",
   "execution_count": 181,
   "id": "684a6c6d",
   "metadata": {},
   "outputs": [
    {
     "ename": "TypeError",
     "evalue": "'set' object is not subscriptable",
     "output_type": "error",
     "traceback": [
      "\u001b[1;31m---------------------------------------------------------------------------\u001b[0m",
      "\u001b[1;31mTypeError\u001b[0m                                 Traceback (most recent call last)",
      "Input \u001b[1;32mIn [181]\u001b[0m, in \u001b[0;36m<cell line: 1>\u001b[1;34m()\u001b[0m\n\u001b[1;32m----> 1\u001b[0m \u001b[43ms1\u001b[49m\u001b[43m[\u001b[49m\u001b[38;5;241;43m0\u001b[39;49m\u001b[43m]\u001b[49m\n",
      "\u001b[1;31mTypeError\u001b[0m: 'set' object is not subscriptable"
     ]
    }
   ],
   "source": [
    "s1[0]"
   ]
  },
  {
   "cell_type": "code",
   "execution_count": 182,
   "id": "3df7c459",
   "metadata": {},
   "outputs": [
    {
     "ename": "TypeError",
     "evalue": "'set' object is not subscriptable",
     "output_type": "error",
     "traceback": [
      "\u001b[1;31m---------------------------------------------------------------------------\u001b[0m",
      "\u001b[1;31mTypeError\u001b[0m                                 Traceback (most recent call last)",
      "Input \u001b[1;32mIn [182]\u001b[0m, in \u001b[0;36m<cell line: 1>\u001b[1;34m()\u001b[0m\n\u001b[1;32m----> 1\u001b[0m \u001b[43ms1\u001b[49m\u001b[43m[\u001b[49m\u001b[38;5;241;43m1\u001b[39;49m\u001b[43m:\u001b[49m\u001b[38;5;241;43m3\u001b[39;49m\u001b[43m]\u001b[49m\n",
      "\u001b[1;31mTypeError\u001b[0m: 'set' object is not subscriptable"
     ]
    }
   ],
   "source": [
    "s1[1:3]"
   ]
  },
  {
   "cell_type": "markdown",
   "id": "06aa597e",
   "metadata": {},
   "source": [
    "## 3 - Editing a Set"
   ]
  },
  {
   "cell_type": "code",
   "execution_count": 183,
   "id": "215b2787",
   "metadata": {},
   "outputs": [
    {
     "data": {
      "text/plain": [
       "{1, 2, 3, 4}"
      ]
     },
     "execution_count": 183,
     "metadata": {},
     "output_type": "execute_result"
    }
   ],
   "source": [
    "s1"
   ]
  },
  {
   "cell_type": "code",
   "execution_count": 184,
   "id": "f79fe94f",
   "metadata": {
    "scrolled": true
   },
   "outputs": [
    {
     "ename": "TypeError",
     "evalue": "'set' object does not support item assignment",
     "output_type": "error",
     "traceback": [
      "\u001b[1;31m---------------------------------------------------------------------------\u001b[0m",
      "\u001b[1;31mTypeError\u001b[0m                                 Traceback (most recent call last)",
      "Input \u001b[1;32mIn [184]\u001b[0m, in \u001b[0;36m<cell line: 1>\u001b[1;34m()\u001b[0m\n\u001b[1;32m----> 1\u001b[0m s1[\u001b[38;5;241m0\u001b[39m]\u001b[38;5;241m=\u001b[39m\u001b[38;5;241m2\u001b[39m\n",
      "\u001b[1;31mTypeError\u001b[0m: 'set' object does not support item assignment"
     ]
    }
   ],
   "source": [
    "s1[0]=2  # The error shows that sets are immutables"
   ]
  },
  {
   "cell_type": "code",
   "execution_count": 185,
   "id": "590a3f37",
   "metadata": {},
   "outputs": [],
   "source": [
    "# If we convert set into list and then make changes, actually we don't make changes in original set, rather we create another set"
   ]
  },
  {
   "cell_type": "code",
   "execution_count": 186,
   "id": "5a2757fb",
   "metadata": {},
   "outputs": [
    {
     "data": {
      "text/plain": [
       "1372952351008"
      ]
     },
     "execution_count": 186,
     "metadata": {},
     "output_type": "execute_result"
    }
   ],
   "source": [
    "s1 = {1,2,3,4,5,6}\n",
    "id(s1)"
   ]
  },
  {
   "cell_type": "code",
   "execution_count": 187,
   "id": "92e721da",
   "metadata": {},
   "outputs": [
    {
     "data": {
      "text/plain": [
       "[1, 2, 3, 4, 5, 6]"
      ]
     },
     "execution_count": 187,
     "metadata": {},
     "output_type": "execute_result"
    }
   ],
   "source": [
    "l1 = list(s1)\n",
    "l1"
   ]
  },
  {
   "cell_type": "code",
   "execution_count": 188,
   "id": "4f5b0578",
   "metadata": {},
   "outputs": [
    {
     "data": {
      "text/plain": [
       "[100, 2, 3, 4, 5, 6]"
      ]
     },
     "execution_count": 188,
     "metadata": {},
     "output_type": "execute_result"
    }
   ],
   "source": [
    "l1[0]=100\n",
    "l1"
   ]
  },
  {
   "cell_type": "code",
   "execution_count": 194,
   "id": "f5a8c57d",
   "metadata": {},
   "outputs": [
    {
     "data": {
      "text/plain": [
       "1372952350784"
      ]
     },
     "execution_count": 194,
     "metadata": {},
     "output_type": "execute_result"
    }
   ],
   "source": [
    "s1 = set(l1)\n",
    "\n",
    "id(s1)"
   ]
  },
  {
   "cell_type": "markdown",
   "id": "cb33ad04",
   "metadata": {},
   "source": [
    "<b> The above result shows that newly created set has different address than the original one"
   ]
  },
  {
   "cell_type": "markdown",
   "id": "6bd7fd58",
   "metadata": {},
   "source": [
    "## 4 - Deleting a Set"
   ]
  },
  {
   "cell_type": "code",
   "execution_count": 192,
   "id": "c22b3f64",
   "metadata": {},
   "outputs": [
    {
     "data": {
      "text/plain": [
       "{2, 3, 4, 5, 6, 100}"
      ]
     },
     "execution_count": 192,
     "metadata": {},
     "output_type": "execute_result"
    }
   ],
   "source": [
    "s1"
   ]
  },
  {
   "cell_type": "code",
   "execution_count": 196,
   "id": "cc8f219e",
   "metadata": {
    "scrolled": true
   },
   "outputs": [
    {
     "ename": "TypeError",
     "evalue": "'set' object doesn't support item deletion",
     "output_type": "error",
     "traceback": [
      "\u001b[1;31m---------------------------------------------------------------------------\u001b[0m",
      "\u001b[1;31mTypeError\u001b[0m                                 Traceback (most recent call last)",
      "Input \u001b[1;32mIn [196]\u001b[0m, in \u001b[0;36m<cell line: 1>\u001b[1;34m()\u001b[0m\n\u001b[1;32m----> 1\u001b[0m \u001b[38;5;28;01mdel\u001b[39;00m s1[\u001b[38;5;241m0\u001b[39m]\n",
      "\u001b[1;31mTypeError\u001b[0m: 'set' object doesn't support item deletion"
     ]
    }
   ],
   "source": [
    "# del Function\n",
    "del s1[0]"
   ]
  },
  {
   "cell_type": "code",
   "execution_count": 197,
   "id": "eebac799",
   "metadata": {},
   "outputs": [
    {
     "ename": "NameError",
     "evalue": "name 's1' is not defined",
     "output_type": "error",
     "traceback": [
      "\u001b[1;31m---------------------------------------------------------------------------\u001b[0m",
      "\u001b[1;31mNameError\u001b[0m                                 Traceback (most recent call last)",
      "Input \u001b[1;32mIn [197]\u001b[0m, in \u001b[0;36m<cell line: 2>\u001b[1;34m()\u001b[0m\n\u001b[0;32m      1\u001b[0m \u001b[38;5;28;01mdel\u001b[39;00m s1\n\u001b[1;32m----> 2\u001b[0m \u001b[43ms1\u001b[49m\n",
      "\u001b[1;31mNameError\u001b[0m: name 's1' is not defined"
     ]
    }
   ],
   "source": [
    "del s1\n",
    "s1"
   ]
  },
  {
   "cell_type": "code",
   "execution_count": 202,
   "id": "e3dc4f72",
   "metadata": {},
   "outputs": [],
   "source": [
    "# remove Function\n",
    "s1 = {1,2,3,4,5}"
   ]
  },
  {
   "cell_type": "code",
   "execution_count": 203,
   "id": "ac5d3b6f",
   "metadata": {},
   "outputs": [],
   "source": [
    "s1.remove(5)"
   ]
  },
  {
   "cell_type": "code",
   "execution_count": 204,
   "id": "705ef09b",
   "metadata": {},
   "outputs": [
    {
     "data": {
      "text/plain": [
       "{1, 2, 3, 4}"
      ]
     },
     "execution_count": 204,
     "metadata": {},
     "output_type": "execute_result"
    }
   ],
   "source": [
    "s1"
   ]
  },
  {
   "cell_type": "code",
   "execution_count": 205,
   "id": "4f42fb7f",
   "metadata": {},
   "outputs": [
    {
     "data": {
      "text/plain": [
       "1"
      ]
     },
     "execution_count": 205,
     "metadata": {},
     "output_type": "execute_result"
    }
   ],
   "source": [
    "# pop Function - to remove 1st item from a set\n",
    "s1.pop()"
   ]
  },
  {
   "cell_type": "code",
   "execution_count": 206,
   "id": "55cacbc8",
   "metadata": {
    "scrolled": true
   },
   "outputs": [
    {
     "data": {
      "text/plain": [
       "{2, 3, 4}"
      ]
     },
     "execution_count": 206,
     "metadata": {},
     "output_type": "execute_result"
    }
   ],
   "source": [
    "s1"
   ]
  },
  {
   "cell_type": "code",
   "execution_count": 207,
   "id": "cf8e19b6",
   "metadata": {},
   "outputs": [
    {
     "data": {
      "text/plain": [
       "2"
      ]
     },
     "execution_count": 207,
     "metadata": {},
     "output_type": "execute_result"
    }
   ],
   "source": [
    "s1.pop()"
   ]
  },
  {
   "cell_type": "code",
   "execution_count": 208,
   "id": "385a4a68",
   "metadata": {},
   "outputs": [
    {
     "data": {
      "text/plain": [
       "{3, 4}"
      ]
     },
     "execution_count": 208,
     "metadata": {},
     "output_type": "execute_result"
    }
   ],
   "source": [
    "s1"
   ]
  },
  {
   "cell_type": "code",
   "execution_count": 236,
   "id": "9e889925",
   "metadata": {
    "scrolled": true
   },
   "outputs": [],
   "source": [
    "# clear Function\n",
    "s1 = {1,2,3}\n",
    "s1.clear()"
   ]
  },
  {
   "cell_type": "code",
   "execution_count": 237,
   "id": "f83dd512",
   "metadata": {},
   "outputs": [
    {
     "data": {
      "text/plain": [
       "set()"
      ]
     },
     "execution_count": 237,
     "metadata": {},
     "output_type": "execute_result"
    }
   ],
   "source": [
    "s1 # empty set"
   ]
  },
  {
   "cell_type": "markdown",
   "id": "5301b56c",
   "metadata": {},
   "source": [
    "## 5 - Set Operations"
   ]
  },
  {
   "cell_type": "markdown",
   "id": "1a2f4592",
   "metadata": {},
   "source": [
    "<b> We can not concatenate and multiply in sets"
   ]
  },
  {
   "cell_type": "code",
   "execution_count": 211,
   "id": "44cae83d",
   "metadata": {},
   "outputs": [],
   "source": [
    "s1 = {1,2,3,4,5}\n",
    "s2 = {5,6,20,7,8}"
   ]
  },
  {
   "cell_type": "code",
   "execution_count": 214,
   "id": "59e79cdf",
   "metadata": {
    "scrolled": true
   },
   "outputs": [
    {
     "ename": "TypeError",
     "evalue": "unsupported operand type(s) for +: 'set' and 'set'",
     "output_type": "error",
     "traceback": [
      "\u001b[1;31m---------------------------------------------------------------------------\u001b[0m",
      "\u001b[1;31mTypeError\u001b[0m                                 Traceback (most recent call last)",
      "Input \u001b[1;32mIn [214]\u001b[0m, in \u001b[0;36m<cell line: 2>\u001b[1;34m()\u001b[0m\n\u001b[0;32m      1\u001b[0m \u001b[38;5;66;03m# Arithmatic Operation\u001b[39;00m\n\u001b[1;32m----> 2\u001b[0m \u001b[43ms1\u001b[49m\u001b[43m \u001b[49m\u001b[38;5;241;43m+\u001b[39;49m\u001b[43m \u001b[49m\u001b[43ms2\u001b[49m\n",
      "\u001b[1;31mTypeError\u001b[0m: unsupported operand type(s) for +: 'set' and 'set'"
     ]
    }
   ],
   "source": [
    "# Arithmatic Operation\n",
    "s1 + s2"
   ]
  },
  {
   "cell_type": "code",
   "execution_count": 213,
   "id": "a02cab74",
   "metadata": {},
   "outputs": [
    {
     "name": "stdout",
     "output_type": "stream",
     "text": [
      "1\n",
      "2\n",
      "3\n",
      "4\n",
      "5\n"
     ]
    }
   ],
   "source": [
    "# Iteration\n",
    "for i in s1:\n",
    "    print(i)"
   ]
  },
  {
   "cell_type": "code",
   "execution_count": 215,
   "id": "f2289417",
   "metadata": {},
   "outputs": [
    {
     "data": {
      "text/plain": [
       "True"
      ]
     },
     "execution_count": 215,
     "metadata": {},
     "output_type": "execute_result"
    }
   ],
   "source": [
    "# Membership Operation\n",
    "1 in s1"
   ]
  },
  {
   "cell_type": "code",
   "execution_count": 216,
   "id": "533b8779",
   "metadata": {},
   "outputs": [
    {
     "data": {
      "text/plain": [
       "True"
      ]
     },
     "execution_count": 216,
     "metadata": {},
     "output_type": "execute_result"
    }
   ],
   "source": [
    "100 not in s1"
   ]
  },
  {
   "cell_type": "markdown",
   "id": "3e0601f4",
   "metadata": {},
   "source": [
    "## 6 - Set Funtcions"
   ]
  },
  {
   "cell_type": "markdown",
   "id": "46aff296",
   "metadata": {},
   "source": [
    "<b> i - Common Functions"
   ]
  },
  {
   "cell_type": "code",
   "execution_count": 217,
   "id": "01e24c08",
   "metadata": {},
   "outputs": [
    {
     "data": {
      "text/plain": [
       "5"
      ]
     },
     "execution_count": 217,
     "metadata": {},
     "output_type": "execute_result"
    }
   ],
   "source": [
    "# len Function\n",
    "len(s1)"
   ]
  },
  {
   "cell_type": "code",
   "execution_count": 218,
   "id": "87c036b3",
   "metadata": {},
   "outputs": [
    {
     "data": {
      "text/plain": [
       "5"
      ]
     },
     "execution_count": 218,
     "metadata": {},
     "output_type": "execute_result"
    }
   ],
   "source": [
    "# min Function\n",
    "len(s1)"
   ]
  },
  {
   "cell_type": "code",
   "execution_count": 219,
   "id": "84f70c3e",
   "metadata": {},
   "outputs": [
    {
     "data": {
      "text/plain": [
       "5"
      ]
     },
     "execution_count": 219,
     "metadata": {},
     "output_type": "execute_result"
    }
   ],
   "source": [
    "# max Function\n",
    "max(s1)"
   ]
  },
  {
   "cell_type": "code",
   "execution_count": 222,
   "id": "d3804f1d",
   "metadata": {},
   "outputs": [
    {
     "data": {
      "text/plain": [
       "15"
      ]
     },
     "execution_count": 222,
     "metadata": {},
     "output_type": "execute_result"
    }
   ],
   "source": [
    "# sum Function\n",
    "sum(s1)"
   ]
  },
  {
   "cell_type": "code",
   "execution_count": 223,
   "id": "b8501cc4",
   "metadata": {},
   "outputs": [
    {
     "data": {
      "text/plain": [
       "[5, 4, 3, 2, 1]"
      ]
     },
     "execution_count": 223,
     "metadata": {},
     "output_type": "execute_result"
    }
   ],
   "source": [
    "# sorted Function  - temporary operation\n",
    "sorted(s1, reverse = True)"
   ]
  },
  {
   "cell_type": "code",
   "execution_count": 224,
   "id": "ec3ba5c7",
   "metadata": {},
   "outputs": [
    {
     "data": {
      "text/plain": [
       "{1, 2, 3, 4, 5}"
      ]
     },
     "execution_count": 224,
     "metadata": {},
     "output_type": "execute_result"
    }
   ],
   "source": [
    "s1"
   ]
  },
  {
   "cell_type": "markdown",
   "id": "a83baaf1",
   "metadata": {},
   "source": [
    "<b> ii - Special Functions"
   ]
  },
  {
   "cell_type": "code",
   "execution_count": 226,
   "id": "7b4521ea",
   "metadata": {},
   "outputs": [
    {
     "data": {
      "text/plain": [
       "({1, 2, 3, 4, 5}, {5, 6, 7, 8, 20})"
      ]
     },
     "execution_count": 226,
     "metadata": {},
     "output_type": "execute_result"
    }
   ],
   "source": [
    "s1,s2"
   ]
  },
  {
   "cell_type": "code",
   "execution_count": 227,
   "id": "7cf4aac8",
   "metadata": {},
   "outputs": [
    {
     "data": {
      "text/plain": [
       "{1, 2, 3, 4, 5, 6, 7, 8, 20}"
      ]
     },
     "execution_count": 227,
     "metadata": {},
     "output_type": "execute_result"
    }
   ],
   "source": [
    "# union Function\n",
    "s1.union(s2)"
   ]
  },
  {
   "cell_type": "code",
   "execution_count": 228,
   "id": "5412ce7b",
   "metadata": {},
   "outputs": [
    {
     "data": {
      "text/plain": [
       "{1, 2, 3, 4}"
      ]
     },
     "execution_count": 228,
     "metadata": {},
     "output_type": "execute_result"
    }
   ],
   "source": [
    "# difference Function\n",
    "s1.difference(s2)"
   ]
  },
  {
   "cell_type": "code",
   "execution_count": 229,
   "id": "4075a138",
   "metadata": {},
   "outputs": [
    {
     "data": {
      "text/plain": [
       "{5}"
      ]
     },
     "execution_count": 229,
     "metadata": {},
     "output_type": "execute_result"
    }
   ],
   "source": [
    "# intersection Function\n",
    "s1.intersection(s2)"
   ]
  },
  {
   "cell_type": "code",
   "execution_count": 230,
   "id": "9eb0fc41",
   "metadata": {},
   "outputs": [
    {
     "data": {
      "text/plain": [
       "{1, 2, 3, 4, 6, 7, 8, 20}"
      ]
     },
     "execution_count": 230,
     "metadata": {},
     "output_type": "execute_result"
    }
   ],
   "source": [
    "# symmetric difference Function\n",
    "s1.symmetric_difference(s2)"
   ]
  },
  {
   "cell_type": "code",
   "execution_count": 231,
   "id": "f61d72e5",
   "metadata": {},
   "outputs": [
    {
     "data": {
      "text/plain": [
       "False"
      ]
     },
     "execution_count": 231,
     "metadata": {},
     "output_type": "execute_result"
    }
   ],
   "source": [
    "# isdisjoin Function\n",
    "s1.isdisjoint(s2)"
   ]
  },
  {
   "cell_type": "code",
   "execution_count": 232,
   "id": "f851c692",
   "metadata": {
    "scrolled": true
   },
   "outputs": [
    {
     "data": {
      "text/plain": [
       "False"
      ]
     },
     "execution_count": 232,
     "metadata": {},
     "output_type": "execute_result"
    }
   ],
   "source": [
    "# issubset Function\n",
    "s1.issubset(s2)"
   ]
  },
  {
   "cell_type": "code",
   "execution_count": 233,
   "id": "15d048ff",
   "metadata": {},
   "outputs": [
    {
     "data": {
      "text/plain": [
       "False"
      ]
     },
     "execution_count": 233,
     "metadata": {},
     "output_type": "execute_result"
    }
   ],
   "source": [
    "# issuperset Function\n",
    "s1.issuperset(s2)"
   ]
  },
  {
   "cell_type": "code",
   "execution_count": null,
   "id": "dbf0245c",
   "metadata": {},
   "outputs": [],
   "source": []
  },
  {
   "cell_type": "markdown",
   "id": "40855317",
   "metadata": {},
   "source": [
    "# Dictionary"
   ]
  },
  {
   "cell_type": "markdown",
   "id": "faf56b41",
   "metadata": {},
   "source": [
    "<b> 1 - Dictionary has no indexing <br>\n",
    "    2 - Dictionary is a mutable data type <br>\n",
    "    3 - Keys are immutable, values can be mutable and immutable <br>\n",
    "    4 - Keys should be unique"
   ]
  },
  {
   "cell_type": "markdown",
   "id": "15cf1356",
   "metadata": {},
   "source": [
    "## 1 - Creation of a Dictionary"
   ]
  },
  {
   "cell_type": "code",
   "execution_count": 238,
   "id": "ce834d8b",
   "metadata": {},
   "outputs": [
    {
     "data": {
      "text/plain": [
       "({}, {'name': 'Ali', 'gender': 'male', 'age': 25})"
      ]
     },
     "execution_count": 238,
     "metadata": {},
     "output_type": "execute_result"
    }
   ],
   "source": [
    "d = {}  # Creation of empty dictionary\n",
    "d1 = {'name':'Ali','gender':'male','age':25}\n",
    "d, d1"
   ]
  },
  {
   "cell_type": "code",
   "execution_count": 244,
   "id": "1b23e0b2",
   "metadata": {},
   "outputs": [],
   "source": [
    "# Keys should be immutable like tuples"
   ]
  },
  {
   "cell_type": "code",
   "execution_count": 240,
   "id": "03248a36",
   "metadata": {},
   "outputs": [
    {
     "data": {
      "text/plain": [
       "{(1, 2, 3): 'male', 'age': 25}"
      ]
     },
     "execution_count": 240,
     "metadata": {},
     "output_type": "execute_result"
    }
   ],
   "source": [
    "d2 = {(1,2,3):'male','age':25}\n",
    "d2"
   ]
  },
  {
   "cell_type": "code",
   "execution_count": 241,
   "id": "b2dadb31",
   "metadata": {},
   "outputs": [
    {
     "ename": "TypeError",
     "evalue": "unhashable type: 'list'",
     "output_type": "error",
     "traceback": [
      "\u001b[1;31m---------------------------------------------------------------------------\u001b[0m",
      "\u001b[1;31mTypeError\u001b[0m                                 Traceback (most recent call last)",
      "Input \u001b[1;32mIn [241]\u001b[0m, in \u001b[0;36m<cell line: 1>\u001b[1;34m()\u001b[0m\n\u001b[1;32m----> 1\u001b[0m d2 \u001b[38;5;241m=\u001b[39m {[\u001b[38;5;241m1\u001b[39m,\u001b[38;5;241m2\u001b[39m,\u001b[38;5;241m3\u001b[39m]:\u001b[38;5;124m'\u001b[39m\u001b[38;5;124mmale\u001b[39m\u001b[38;5;124m'\u001b[39m,\u001b[38;5;124m'\u001b[39m\u001b[38;5;124mage\u001b[39m\u001b[38;5;124m'\u001b[39m:\u001b[38;5;241m25\u001b[39m}\n",
      "\u001b[1;31mTypeError\u001b[0m: unhashable type: 'list'"
     ]
    }
   ],
   "source": [
    "d2 = {[1,2,3]:'male','age':25} # There is error since list is mutable"
   ]
  },
  {
   "cell_type": "code",
   "execution_count": 242,
   "id": "56b4a901",
   "metadata": {
    "scrolled": false
   },
   "outputs": [
    {
     "ename": "TypeError",
     "evalue": "unhashable type: 'set'",
     "output_type": "error",
     "traceback": [
      "\u001b[1;31m---------------------------------------------------------------------------\u001b[0m",
      "\u001b[1;31mTypeError\u001b[0m                                 Traceback (most recent call last)",
      "Input \u001b[1;32mIn [242]\u001b[0m, in \u001b[0;36m<cell line: 1>\u001b[1;34m()\u001b[0m\n\u001b[1;32m----> 1\u001b[0m d2 \u001b[38;5;241m=\u001b[39m {{\u001b[38;5;241m1\u001b[39m,\u001b[38;5;241m2\u001b[39m,\u001b[38;5;241m3\u001b[39m}:\u001b[38;5;124m'\u001b[39m\u001b[38;5;124mmale\u001b[39m\u001b[38;5;124m'\u001b[39m,\u001b[38;5;124m'\u001b[39m\u001b[38;5;124mage\u001b[39m\u001b[38;5;124m'\u001b[39m:\u001b[38;5;241m25\u001b[39m}\n",
      "\u001b[1;31mTypeError\u001b[0m: unhashable type: 'set'"
     ]
    }
   ],
   "source": [
    "d2 = {{1,2,3}:'male','age':25} # There is error since dictionary  is mutable"
   ]
  },
  {
   "cell_type": "code",
   "execution_count": 243,
   "id": "01bc6c54",
   "metadata": {},
   "outputs": [],
   "source": [
    "d2 = {1:'male','age':25} # There is error since list is mutable"
   ]
  },
  {
   "cell_type": "code",
   "execution_count": 245,
   "id": "4f866392",
   "metadata": {},
   "outputs": [],
   "source": [
    "# Keys should be unique"
   ]
  },
  {
   "cell_type": "code",
   "execution_count": 246,
   "id": "06dbed2e",
   "metadata": {},
   "outputs": [],
   "source": [
    "d = {'name':'ali','gender':'male','name':'usman'}"
   ]
  },
  {
   "cell_type": "code",
   "execution_count": 247,
   "id": "e5f85b29",
   "metadata": {},
   "outputs": [
    {
     "data": {
      "text/plain": [
       "{'name': 'usman', 'gender': 'male'}"
      ]
     },
     "execution_count": 247,
     "metadata": {},
     "output_type": "execute_result"
    }
   ],
   "source": [
    "d # The result shows that key shoul be unique, it prints updated or last value of that specific key"
   ]
  },
  {
   "cell_type": "code",
   "execution_count": 248,
   "id": "70e398a6",
   "metadata": {},
   "outputs": [
    {
     "data": {
      "text/plain": [
       "{'name': 'Ali',\n",
       " 'gender': 'male',\n",
       " 'age': 25,\n",
       " 'marks': {'Math': 82, 'Science': 75}}"
      ]
     },
     "execution_count": 248,
     "metadata": {},
     "output_type": "execute_result"
    }
   ],
   "source": [
    "# Creation of 2 D dictionary\n",
    "d1 ={'name':'Ali','gender':'male','age':25,'marks':{'Math':82,'Science':75}}\n",
    "d1"
   ]
  },
  {
   "cell_type": "markdown",
   "id": "d5e82584",
   "metadata": {},
   "source": [
    "## 2 - Accessing Items From a Dictionary"
   ]
  },
  {
   "cell_type": "code",
   "execution_count": 249,
   "id": "fd925139",
   "metadata": {},
   "outputs": [],
   "source": [
    "# Dictionary is accessed by key"
   ]
  },
  {
   "cell_type": "code",
   "execution_count": 250,
   "id": "4f63d91e",
   "metadata": {},
   "outputs": [
    {
     "data": {
      "text/plain": [
       "{'name': 'Ali',\n",
       " 'gender': 'male',\n",
       " 'age': 25,\n",
       " 'marks': {'Math': 82, 'Science': 75}}"
      ]
     },
     "execution_count": 250,
     "metadata": {},
     "output_type": "execute_result"
    }
   ],
   "source": [
    "d1"
   ]
  },
  {
   "cell_type": "code",
   "execution_count": 251,
   "id": "1974df95",
   "metadata": {},
   "outputs": [
    {
     "ename": "KeyError",
     "evalue": "0",
     "output_type": "error",
     "traceback": [
      "\u001b[1;31m---------------------------------------------------------------------------\u001b[0m",
      "\u001b[1;31mKeyError\u001b[0m                                  Traceback (most recent call last)",
      "Input \u001b[1;32mIn [251]\u001b[0m, in \u001b[0;36m<cell line: 1>\u001b[1;34m()\u001b[0m\n\u001b[1;32m----> 1\u001b[0m \u001b[43md1\u001b[49m\u001b[43m[\u001b[49m\u001b[38;5;241;43m0\u001b[39;49m\u001b[43m]\u001b[49m\n",
      "\u001b[1;31mKeyError\u001b[0m: 0"
     ]
    }
   ],
   "source": [
    "d1[0]"
   ]
  },
  {
   "cell_type": "code",
   "execution_count": 252,
   "id": "3d1aaa72",
   "metadata": {},
   "outputs": [
    {
     "data": {
      "text/plain": [
       "'Ali'"
      ]
     },
     "execution_count": 252,
     "metadata": {},
     "output_type": "execute_result"
    }
   ],
   "source": [
    "d1['name']"
   ]
  },
  {
   "cell_type": "markdown",
   "id": "3e58600e",
   "metadata": {},
   "source": [
    "## 3 - Editing a Dictionary"
   ]
  },
  {
   "cell_type": "code",
   "execution_count": 253,
   "id": "711bdebf",
   "metadata": {},
   "outputs": [
    {
     "data": {
      "text/plain": [
       "{'name': 'Ali',\n",
       " 'gender': 'male',\n",
       " 'age': 25,\n",
       " 'marks': {'Math': 82, 'Science': 75}}"
      ]
     },
     "execution_count": 253,
     "metadata": {},
     "output_type": "execute_result"
    }
   ],
   "source": [
    "d1"
   ]
  },
  {
   "cell_type": "code",
   "execution_count": 256,
   "id": "345d1535",
   "metadata": {},
   "outputs": [
    {
     "data": {
      "text/plain": [
       "{'name': 'Usman',\n",
       " 'gender': 'male',\n",
       " 'age': 25,\n",
       " 'marks': {'Math': 82, 'Science': 75}}"
      ]
     },
     "execution_count": 256,
     "metadata": {},
     "output_type": "execute_result"
    }
   ],
   "source": [
    "d1['name']='Usman'\n",
    "d1"
   ]
  },
  {
   "cell_type": "code",
   "execution_count": 257,
   "id": "3301b11f",
   "metadata": {},
   "outputs": [
    {
     "data": {
      "text/plain": [
       "{'name': 'Usman',\n",
       " 'gender': 'male',\n",
       " 'age': 25,\n",
       " 'marks': {'Math': 82, 'Science': 82}}"
      ]
     },
     "execution_count": 257,
     "metadata": {},
     "output_type": "execute_result"
    }
   ],
   "source": [
    "d1['marks']['Science'] = 82\n",
    "d1"
   ]
  },
  {
   "cell_type": "code",
   "execution_count": 258,
   "id": "c7466d0a",
   "metadata": {},
   "outputs": [
    {
     "data": {
      "text/plain": [
       "{'name': 'Usman',\n",
       " 'gender': 'male',\n",
       " 'age': 25,\n",
       " 'marks': {'Math': 82, 'Science': 82},\n",
       " 'location': 'Lahore'}"
      ]
     },
     "execution_count": 258,
     "metadata": {},
     "output_type": "execute_result"
    }
   ],
   "source": [
    "# Adding new key-value pair\n",
    "d1['location']='Lahore'\n",
    "d1"
   ]
  },
  {
   "cell_type": "code",
   "execution_count": 259,
   "id": "2f36307c",
   "metadata": {},
   "outputs": [
    {
     "data": {
      "text/plain": [
       "{'name': 'Usman',\n",
       " 'gender': 'male',\n",
       " 'age': 25,\n",
       " 'marks': {'Math': 82, 'Science': 82, 'Urdu': 67},\n",
       " 'location': 'Lahore'}"
      ]
     },
     "execution_count": 259,
     "metadata": {},
     "output_type": "execute_result"
    }
   ],
   "source": [
    "d1['marks']['Urdu']=67\n",
    "d1"
   ]
  },
  {
   "cell_type": "markdown",
   "id": "d189608b",
   "metadata": {},
   "source": [
    "## 4 - Deleting a Dictionary"
   ]
  },
  {
   "cell_type": "code",
   "execution_count": 261,
   "id": "bddae31d",
   "metadata": {},
   "outputs": [
    {
     "data": {
      "text/plain": [
       "{'name': 'Usman',\n",
       " 'age': 25,\n",
       " 'marks': {'Math': 82, 'Science': 82, 'Urdu': 67},\n",
       " 'location': 'Lahore'}"
      ]
     },
     "execution_count": 261,
     "metadata": {},
     "output_type": "execute_result"
    }
   ],
   "source": [
    "del d1['gender']   # deleting by key\n",
    "d1"
   ]
  },
  {
   "cell_type": "code",
   "execution_count": 262,
   "id": "8f61b6e5",
   "metadata": {},
   "outputs": [
    {
     "data": {
      "text/plain": [
       "{1: 'male', 'age': 25}"
      ]
     },
     "execution_count": 262,
     "metadata": {},
     "output_type": "execute_result"
    }
   ],
   "source": [
    "d2"
   ]
  },
  {
   "cell_type": "code",
   "execution_count": 265,
   "id": "267fc0b9",
   "metadata": {},
   "outputs": [
    {
     "data": {
      "text/plain": [
       "{}"
      ]
     },
     "execution_count": 265,
     "metadata": {},
     "output_type": "execute_result"
    }
   ],
   "source": [
    "# clear Function\n",
    "d2.clear()\n",
    "d2"
   ]
  },
  {
   "cell_type": "markdown",
   "id": "b9b58492",
   "metadata": {},
   "source": [
    "## 5 - Operations in Dictonary"
   ]
  },
  {
   "cell_type": "markdown",
   "id": "508b0ae2",
   "metadata": {},
   "source": [
    "<b> There is no concatenation, multipliaction in dictionary."
   ]
  },
  {
   "cell_type": "code",
   "execution_count": 267,
   "id": "b3fed35e",
   "metadata": {},
   "outputs": [],
   "source": [
    "d3 = {'name':'you','loc':'me'}"
   ]
  },
  {
   "cell_type": "code",
   "execution_count": 268,
   "id": "f950b4eb",
   "metadata": {},
   "outputs": [
    {
     "ename": "TypeError",
     "evalue": "unsupported operand type(s) for +: 'dict' and 'dict'",
     "output_type": "error",
     "traceback": [
      "\u001b[1;31m---------------------------------------------------------------------------\u001b[0m",
      "\u001b[1;31mTypeError\u001b[0m                                 Traceback (most recent call last)",
      "Input \u001b[1;32mIn [268]\u001b[0m, in \u001b[0;36m<cell line: 1>\u001b[1;34m()\u001b[0m\n\u001b[1;32m----> 1\u001b[0m \u001b[43md1\u001b[49m\u001b[43m \u001b[49m\u001b[38;5;241;43m+\u001b[39;49m\u001b[43m \u001b[49m\u001b[43md3\u001b[49m\n",
      "\u001b[1;31mTypeError\u001b[0m: unsupported operand type(s) for +: 'dict' and 'dict'"
     ]
    }
   ],
   "source": [
    "d1 + d3"
   ]
  },
  {
   "cell_type": "code",
   "execution_count": 269,
   "id": "cb174fcf",
   "metadata": {},
   "outputs": [
    {
     "name": "stdout",
     "output_type": "stream",
     "text": [
      "name\n",
      "age\n",
      "marks\n",
      "location\n"
     ]
    }
   ],
   "source": [
    "# Iteration\n",
    "for i in d1:\n",
    "    print(i)  # It prints out only keys"
   ]
  },
  {
   "cell_type": "code",
   "execution_count": 272,
   "id": "4591edc5",
   "metadata": {},
   "outputs": [
    {
     "name": "stdout",
     "output_type": "stream",
     "text": [
      "name Usman\n",
      "age 25\n",
      "marks {'Math': 82, 'Science': 82, 'Urdu': 67}\n",
      "location Lahore\n"
     ]
    }
   ],
   "source": [
    "for i in d1:\n",
    "    print(i,d1[i])"
   ]
  },
  {
   "cell_type": "code",
   "execution_count": 273,
   "id": "e4034874",
   "metadata": {},
   "outputs": [
    {
     "data": {
      "text/plain": [
       "False"
      ]
     },
     "execution_count": 273,
     "metadata": {},
     "output_type": "execute_result"
    }
   ],
   "source": [
    "# Membership Operation  - It is according to keys\n",
    "'Usman' in d1"
   ]
  },
  {
   "cell_type": "code",
   "execution_count": 274,
   "id": "14bec682",
   "metadata": {},
   "outputs": [
    {
     "data": {
      "text/plain": [
       "True"
      ]
     },
     "execution_count": 274,
     "metadata": {},
     "output_type": "execute_result"
    }
   ],
   "source": [
    "'name' in d1"
   ]
  },
  {
   "cell_type": "markdown",
   "id": "53ba5886",
   "metadata": {},
   "source": [
    "## 6 - Dictionary Functions"
   ]
  },
  {
   "cell_type": "markdown",
   "id": "2ab6d321",
   "metadata": {},
   "source": [
    "<b> i - Common Functions"
   ]
  },
  {
   "cell_type": "code",
   "execution_count": 275,
   "id": "9a3f225d",
   "metadata": {},
   "outputs": [
    {
     "data": {
      "text/plain": [
       "4"
      ]
     },
     "execution_count": 275,
     "metadata": {},
     "output_type": "execute_result"
    }
   ],
   "source": [
    "len(d1)"
   ]
  },
  {
   "cell_type": "code",
   "execution_count": 276,
   "id": "ae185aa4",
   "metadata": {
    "scrolled": true
   },
   "outputs": [
    {
     "data": {
      "text/plain": [
       "'age'"
      ]
     },
     "execution_count": 276,
     "metadata": {},
     "output_type": "execute_result"
    }
   ],
   "source": [
    "min(d1)  # According to ASCII values"
   ]
  },
  {
   "cell_type": "code",
   "execution_count": 284,
   "id": "0dfd1596",
   "metadata": {},
   "outputs": [
    {
     "data": {
      "text/plain": [
       "'name'"
      ]
     },
     "execution_count": 284,
     "metadata": {},
     "output_type": "execute_result"
    }
   ],
   "source": [
    "max(d1)"
   ]
  },
  {
   "cell_type": "markdown",
   "id": "31f9999e",
   "metadata": {},
   "source": [
    "<b> ii- Special Functions"
   ]
  },
  {
   "cell_type": "code",
   "execution_count": 285,
   "id": "07bb6303",
   "metadata": {},
   "outputs": [
    {
     "data": {
      "text/plain": [
       "dict_keys(['name', 'age', 'marks', 'location'])"
      ]
     },
     "execution_count": 285,
     "metadata": {},
     "output_type": "execute_result"
    }
   ],
   "source": [
    "d1.keys()"
   ]
  },
  {
   "cell_type": "code",
   "execution_count": 286,
   "id": "a73f1c38",
   "metadata": {},
   "outputs": [
    {
     "data": {
      "text/plain": [
       "dict_values(['Usman', 25, {'Math': 82, 'Science': 82, 'Urdu': 67}, 'Lahore'])"
      ]
     },
     "execution_count": 286,
     "metadata": {},
     "output_type": "execute_result"
    }
   ],
   "source": [
    "d1.values()"
   ]
  },
  {
   "cell_type": "code",
   "execution_count": null,
   "id": "fbd5726e",
   "metadata": {},
   "outputs": [],
   "source": []
  }
 ],
 "metadata": {
  "kernelspec": {
   "display_name": "Python 3 (ipykernel)",
   "language": "python",
   "name": "python3"
  },
  "language_info": {
   "codemirror_mode": {
    "name": "ipython",
    "version": 3
   },
   "file_extension": ".py",
   "mimetype": "text/x-python",
   "name": "python",
   "nbconvert_exporter": "python",
   "pygments_lexer": "ipython3",
   "version": "3.9.12"
  }
 },
 "nbformat": 4,
 "nbformat_minor": 5
}
