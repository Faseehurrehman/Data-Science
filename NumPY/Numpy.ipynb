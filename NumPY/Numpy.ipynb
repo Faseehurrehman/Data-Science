{
 "cells": [
  {
   "cell_type": "code",
   "execution_count": 1,
   "id": "7dd4c8fd",
   "metadata": {},
   "outputs": [],
   "source": [
    "import numpy as np"
   ]
  },
  {
   "cell_type": "code",
   "execution_count": 2,
   "id": "93d4aa59",
   "metadata": {},
   "outputs": [],
   "source": [
    "# 1-D Array / Matrix\n",
    "x = np.array([1,2,3,4],np.int16)"
   ]
  },
  {
   "cell_type": "code",
   "execution_count": 3,
   "id": "3d496e3c",
   "metadata": {},
   "outputs": [
    {
     "name": "stdout",
     "output_type": "stream",
     "text": [
      "[1 2 3 4]\n"
     ]
    }
   ],
   "source": [
    "print(x)"
   ]
  },
  {
   "cell_type": "code",
   "execution_count": 4,
   "id": "751096f1",
   "metadata": {},
   "outputs": [
    {
     "name": "stdout",
     "output_type": "stream",
     "text": [
      "1\n",
      "4\n"
     ]
    }
   ],
   "source": [
    "# Indexing\n",
    "print(x[0]);print(x[-1])"
   ]
  },
  {
   "cell_type": "code",
   "execution_count": 5,
   "id": "b82712ed",
   "metadata": {},
   "outputs": [
    {
     "name": "stdout",
     "output_type": "stream",
     "text": [
      "[1 2]\n"
     ]
    }
   ],
   "source": [
    "# Slicing\n",
    "print(x[:2])"
   ]
  },
  {
   "cell_type": "code",
   "execution_count": 2,
   "id": "323590f8",
   "metadata": {},
   "outputs": [
    {
     "name": "stdout",
     "output_type": "stream",
     "text": [
      "[[1 2 3]\n",
      " [4 5 6]]\n"
     ]
    }
   ],
   "source": [
    "# 2-D Array / Matrix\n",
    "y = np.array([[1,2,3],[4,5,6]])\n",
    "print(y)"
   ]
  },
  {
   "cell_type": "code",
   "execution_count": 7,
   "id": "57a64c7b",
   "metadata": {},
   "outputs": [
    {
     "data": {
      "text/plain": [
       "2"
      ]
     },
     "execution_count": 7,
     "metadata": {},
     "output_type": "execute_result"
    }
   ],
   "source": [
    "# Indexing\n",
    "y[0,1]"
   ]
  },
  {
   "cell_type": "code",
   "execution_count": 8,
   "id": "92f2dc31",
   "metadata": {},
   "outputs": [
    {
     "data": {
      "text/plain": [
       "6"
      ]
     },
     "execution_count": 8,
     "metadata": {},
     "output_type": "execute_result"
    }
   ],
   "source": [
    "y[1,2]"
   ]
  },
  {
   "cell_type": "code",
   "execution_count": 9,
   "id": "8bc5f477",
   "metadata": {},
   "outputs": [
    {
     "name": "stdout",
     "output_type": "stream",
     "text": [
      "[2 5]\n"
     ]
    }
   ],
   "source": [
    "# Slicing\n",
    "print(y[:,1])"
   ]
  },
  {
   "cell_type": "code",
   "execution_count": 10,
   "id": "56d175e8",
   "metadata": {},
   "outputs": [
    {
     "name": "stdout",
     "output_type": "stream",
     "text": [
      "[4 5 6]\n"
     ]
    }
   ],
   "source": [
    "print(y[1,:])"
   ]
  },
  {
   "cell_type": "code",
   "execution_count": 11,
   "id": "3f86458f",
   "metadata": {
    "scrolled": true
   },
   "outputs": [
    {
     "name": "stdout",
     "output_type": "stream",
     "text": [
      "[[[ 1  2  3]\n",
      "  [ 4  5  6]]\n",
      "\n",
      " [[ 7  8  9]\n",
      "  [ 0 -1 -2]]]\n"
     ]
    }
   ],
   "source": [
    "# 3-D Array / Matrix\n",
    "z = np.array([[[1,2,3],[4,5,6]],[[7,8,9],[0,-1,-2]]])\n",
    "print(z)"
   ]
  },
  {
   "cell_type": "code",
   "execution_count": 12,
   "id": "4c99774d",
   "metadata": {},
   "outputs": [
    {
     "name": "stdout",
     "output_type": "stream",
     "text": [
      "5\n"
     ]
    }
   ],
   "source": [
    "# Indexing\n",
    "print(z[0,1,1])"
   ]
  },
  {
   "cell_type": "code",
   "execution_count": 13,
   "id": "82c91a89",
   "metadata": {
    "scrolled": true
   },
   "outputs": [
    {
     "name": "stdout",
     "output_type": "stream",
     "text": [
      "[[ 2  5]\n",
      " [ 8 -1]]\n"
     ]
    }
   ],
   "source": [
    "# Slicing\n",
    "print(z[:,:,1])"
   ]
  },
  {
   "cell_type": "code",
   "execution_count": 14,
   "id": "0232573b",
   "metadata": {},
   "outputs": [
    {
     "name": "stdout",
     "output_type": "stream",
     "text": [
      "[ 5 -1]\n"
     ]
    }
   ],
   "source": [
    "print(z[:,1,1])"
   ]
  },
  {
   "cell_type": "markdown",
   "id": "b3826fa8",
   "metadata": {},
   "source": [
    "## NumPY Ndarray Properties"
   ]
  },
  {
   "cell_type": "code",
   "execution_count": 34,
   "id": "fbc46d86",
   "metadata": {},
   "outputs": [
    {
     "name": "stdout",
     "output_type": "stream",
     "text": [
      "(4,)\n",
      "1\n",
      "int16\n",
      "4\n",
      "8\n",
      "[1 2 3 4]\n"
     ]
    }
   ],
   "source": [
    "print(x.shape)\n",
    "print(x.ndim) # number of dimensions\n",
    "print(x.dtype) # data type of all the individual elements\n",
    "print(x.size) # number of elements in this ndarray\n",
    "print(x.nbytes) # number of bytes\n",
    "print(x.T) # to calculate transpose"
   ]
  },
  {
   "cell_type": "code",
   "execution_count": 35,
   "id": "f266a5b6",
   "metadata": {},
   "outputs": [
    {
     "name": "stdout",
     "output_type": "stream",
     "text": [
      "(2, 3)\n",
      "2\n",
      "int32\n",
      "6\n",
      "24\n",
      "[[1 4]\n",
      " [2 5]\n",
      " [3 6]]\n"
     ]
    }
   ],
   "source": [
    "print(y.shape)\n",
    "print(y.ndim)\n",
    "print(y.dtype)\n",
    "print(y.size)\n",
    "print(y.nbytes)\n",
    "print(y.T)"
   ]
  },
  {
   "cell_type": "code",
   "execution_count": 37,
   "id": "f2810037",
   "metadata": {},
   "outputs": [
    {
     "name": "stdout",
     "output_type": "stream",
     "text": [
      "(2, 2, 3)\n",
      "3\n",
      "int32\n",
      "12\n",
      "48\n",
      "[[[ 1  7]\n",
      "  [ 4  0]]\n",
      "\n",
      " [[ 2  8]\n",
      "  [ 5 -1]]\n",
      "\n",
      " [[ 3  9]\n",
      "  [ 6 -2]]]\n"
     ]
    }
   ],
   "source": [
    "print(z.shape)\n",
    "print(z.ndim)\n",
    "print(z.dtype)\n",
    "print(z.size)\n",
    "print(z.nbytes)\n",
    "print(z.T)"
   ]
  },
  {
   "cell_type": "markdown",
   "id": "edebe82e",
   "metadata": {},
   "source": [
    "## NumPY Constants"
   ]
  },
  {
   "cell_type": "code",
   "execution_count": 45,
   "id": "88346fcb",
   "metadata": {},
   "outputs": [
    {
     "name": "stdout",
     "output_type": "stream",
     "text": [
      "inf\n",
      "-inf\n",
      "nan\n",
      "0.0\n",
      "-0.0\n",
      "---------\n",
      "2.718281828459045\n",
      "0.5772156649015329\n",
      "3.141592653589793\n"
     ]
    }
   ],
   "source": [
    "# Mathematical Constants\n",
    "print(np.inf) # positive infinity\n",
    "print(np.NINF) # negative infinity\n",
    "print(np.NAN) # not a number\n",
    "print(np.PZERO) # positive zero\n",
    "print(np.NZERO) # negative zero\n",
    "\n",
    "print('---------')\n",
    "# Scientific Constants\n",
    "print(np.e)\n",
    "print(np.euler_gamma)\n",
    "print(np.pi)"
   ]
  },
  {
   "cell_type": "code",
   "execution_count": 52,
   "id": "d5d7c5c4",
   "metadata": {},
   "outputs": [
    {
     "name": "stdout",
     "output_type": "stream",
     "text": [
      "[[192  66 201]\n",
      " [ 34 195   1]\n",
      " [  0   0   0]]\n"
     ]
    }
   ],
   "source": [
    "# Random Values Matrix\n",
    "a = np.empty([3,3], np.uint8)\n",
    "print(a) # Creation of empty array with random Unsiged integers 0 - 255"
   ]
  },
  {
   "cell_type": "code",
   "execution_count": 55,
   "id": "dfdd87e5",
   "metadata": {},
   "outputs": [
    {
     "name": "stdout",
     "output_type": "stream",
     "text": [
      "[[1 0 0 0 0]\n",
      " [0 1 0 0 0]\n",
      " [0 0 1 0 0]\n",
      " [0 0 0 1 0]\n",
      " [0 0 0 0 1]]\n"
     ]
    }
   ],
   "source": [
    "# Eye Matrix\n",
    "b = np.eye(5, dtype = np.uint8) # diagonal 1 values\n",
    "print(b)"
   ]
  },
  {
   "cell_type": "code",
   "execution_count": 58,
   "id": "6f65c905",
   "metadata": {},
   "outputs": [
    {
     "name": "stdout",
     "output_type": "stream",
     "text": [
      "[[0 1 0 0 0]\n",
      " [0 0 1 0 0]\n",
      " [0 0 0 1 0]\n",
      " [0 0 0 0 1]\n",
      " [0 0 0 0 0]]\n"
     ]
    }
   ],
   "source": [
    "b = np.eye(5, dtype = np.uint8, k=1) # shifting diagonal upward 1 jump\n",
    "print(b)"
   ]
  },
  {
   "cell_type": "code",
   "execution_count": 59,
   "id": "49b8c231",
   "metadata": {},
   "outputs": [
    {
     "name": "stdout",
     "output_type": "stream",
     "text": [
      "[[0 0 0 0 0]\n",
      " [1 0 0 0 0]\n",
      " [0 1 0 0 0]\n",
      " [0 0 1 0 0]\n",
      " [0 0 0 1 0]]\n"
     ]
    }
   ],
   "source": [
    "b = np.eye(5, dtype = np.uint8, k=-1) # shifting diagonal downward 1 jump\n",
    "print(b)"
   ]
  },
  {
   "cell_type": "code",
   "execution_count": 62,
   "id": "c1d06805",
   "metadata": {},
   "outputs": [
    {
     "name": "stdout",
     "output_type": "stream",
     "text": [
      "[[0 0 0 1 0]\n",
      " [0 0 0 0 1]\n",
      " [0 0 0 0 0]\n",
      " [0 0 0 0 0]\n",
      " [0 0 0 0 0]]\n"
     ]
    }
   ],
   "source": [
    "b = np.eye(5, dtype = np.uint8, k=3) # shifting diagonal upward 3 jumps\n",
    "print(b)"
   ]
  },
  {
   "cell_type": "code",
   "execution_count": 63,
   "id": "c9833ea1",
   "metadata": {},
   "outputs": [
    {
     "name": "stdout",
     "output_type": "stream",
     "text": [
      "[[1 0 0 0 0]\n",
      " [0 1 0 0 0]\n",
      " [0 0 1 0 0]\n",
      " [0 0 0 1 0]\n",
      " [0 0 0 0 1]]\n"
     ]
    }
   ],
   "source": [
    "b = np.identity(5, dtype = np.uint8) # creation of identity matrix\n",
    "print(b)"
   ]
  },
  {
   "cell_type": "code",
   "execution_count": 66,
   "id": "fc1cdd2a",
   "metadata": {},
   "outputs": [
    {
     "name": "stdout",
     "output_type": "stream",
     "text": [
      "[1 1]\n"
     ]
    }
   ],
   "source": [
    "# Ones Matrix\n",
    "b = np.ones((2,), dtype = np.int16) # creation of ones 1-D matrix\n",
    "print(b)"
   ]
  },
  {
   "cell_type": "code",
   "execution_count": 67,
   "id": "09e7338d",
   "metadata": {},
   "outputs": [
    {
     "name": "stdout",
     "output_type": "stream",
     "text": [
      "[[1 1 1]\n",
      " [1 1 1]]\n"
     ]
    }
   ],
   "source": [
    "b = np.ones((2,3), dtype = np.int16) # creation of ones 2-D matrix\n",
    "print(b)"
   ]
  },
  {
   "cell_type": "code",
   "execution_count": 68,
   "id": "41587513",
   "metadata": {},
   "outputs": [
    {
     "name": "stdout",
     "output_type": "stream",
     "text": [
      "[[[1 1 1 1 1]\n",
      "  [1 1 1 1 1]\n",
      "  [1 1 1 1 1]\n",
      "  [1 1 1 1 1]\n",
      "  [1 1 1 1 1]]\n",
      "\n",
      " [[1 1 1 1 1]\n",
      "  [1 1 1 1 1]\n",
      "  [1 1 1 1 1]\n",
      "  [1 1 1 1 1]\n",
      "  [1 1 1 1 1]]]\n"
     ]
    }
   ],
   "source": [
    "b = np.ones((2,5,5), dtype = np.int16) # creation of ones 3-D matrix\n",
    "print(b)"
   ]
  },
  {
   "cell_type": "code",
   "execution_count": 69,
   "id": "4cb0d3a5",
   "metadata": {
    "scrolled": true
   },
   "outputs": [
    {
     "name": "stdout",
     "output_type": "stream",
     "text": [
      "[[[0 0 0 0 0]\n",
      "  [0 0 0 0 0]\n",
      "  [0 0 0 0 0]\n",
      "  [0 0 0 0 0]\n",
      "  [0 0 0 0 0]]\n",
      "\n",
      " [[0 0 0 0 0]\n",
      "  [0 0 0 0 0]\n",
      "  [0 0 0 0 0]\n",
      "  [0 0 0 0 0]\n",
      "  [0 0 0 0 0]]]\n"
     ]
    }
   ],
   "source": [
    "# Zeros Matrix\n",
    "b = np.zeros((2,5,5), dtype = np.int16) # creation of zeros 3-D matrix\n",
    "print(b)"
   ]
  },
  {
   "cell_type": "code",
   "execution_count": 71,
   "id": "72c12ae0",
   "metadata": {},
   "outputs": [
    {
     "name": "stdout",
     "output_type": "stream",
     "text": [
      "[[[[[0]\n",
      "    [0]\n",
      "    [0]\n",
      "    [0]]\n",
      "\n",
      "   [[0]\n",
      "    [0]\n",
      "    [0]\n",
      "    [0]]\n",
      "\n",
      "   [[0]\n",
      "    [0]\n",
      "    [0]\n",
      "    [0]]\n",
      "\n",
      "   [[0]\n",
      "    [0]\n",
      "    [0]\n",
      "    [0]]\n",
      "\n",
      "   [[0]\n",
      "    [0]\n",
      "    [0]\n",
      "    [0]]]\n",
      "\n",
      "\n",
      "  [[[0]\n",
      "    [0]\n",
      "    [0]\n",
      "    [0]]\n",
      "\n",
      "   [[0]\n",
      "    [0]\n",
      "    [0]\n",
      "    [0]]\n",
      "\n",
      "   [[0]\n",
      "    [0]\n",
      "    [0]\n",
      "    [0]]\n",
      "\n",
      "   [[0]\n",
      "    [0]\n",
      "    [0]\n",
      "    [0]]\n",
      "\n",
      "   [[0]\n",
      "    [0]\n",
      "    [0]\n",
      "    [0]]]\n",
      "\n",
      "\n",
      "  [[[0]\n",
      "    [0]\n",
      "    [0]\n",
      "    [0]]\n",
      "\n",
      "   [[0]\n",
      "    [0]\n",
      "    [0]\n",
      "    [0]]\n",
      "\n",
      "   [[0]\n",
      "    [0]\n",
      "    [0]\n",
      "    [0]]\n",
      "\n",
      "   [[0]\n",
      "    [0]\n",
      "    [0]\n",
      "    [0]]\n",
      "\n",
      "   [[0]\n",
      "    [0]\n",
      "    [0]\n",
      "    [0]]]\n",
      "\n",
      "\n",
      "  [[[0]\n",
      "    [0]\n",
      "    [0]\n",
      "    [0]]\n",
      "\n",
      "   [[0]\n",
      "    [0]\n",
      "    [0]\n",
      "    [0]]\n",
      "\n",
      "   [[0]\n",
      "    [0]\n",
      "    [0]\n",
      "    [0]]\n",
      "\n",
      "   [[0]\n",
      "    [0]\n",
      "    [0]\n",
      "    [0]]\n",
      "\n",
      "   [[0]\n",
      "    [0]\n",
      "    [0]\n",
      "    [0]]]\n",
      "\n",
      "\n",
      "  [[[0]\n",
      "    [0]\n",
      "    [0]\n",
      "    [0]]\n",
      "\n",
      "   [[0]\n",
      "    [0]\n",
      "    [0]\n",
      "    [0]]\n",
      "\n",
      "   [[0]\n",
      "    [0]\n",
      "    [0]\n",
      "    [0]]\n",
      "\n",
      "   [[0]\n",
      "    [0]\n",
      "    [0]\n",
      "    [0]]\n",
      "\n",
      "   [[0]\n",
      "    [0]\n",
      "    [0]\n",
      "    [0]]]]\n",
      "\n",
      "\n",
      "\n",
      " [[[[0]\n",
      "    [0]\n",
      "    [0]\n",
      "    [0]]\n",
      "\n",
      "   [[0]\n",
      "    [0]\n",
      "    [0]\n",
      "    [0]]\n",
      "\n",
      "   [[0]\n",
      "    [0]\n",
      "    [0]\n",
      "    [0]]\n",
      "\n",
      "   [[0]\n",
      "    [0]\n",
      "    [0]\n",
      "    [0]]\n",
      "\n",
      "   [[0]\n",
      "    [0]\n",
      "    [0]\n",
      "    [0]]]\n",
      "\n",
      "\n",
      "  [[[0]\n",
      "    [0]\n",
      "    [0]\n",
      "    [0]]\n",
      "\n",
      "   [[0]\n",
      "    [0]\n",
      "    [0]\n",
      "    [0]]\n",
      "\n",
      "   [[0]\n",
      "    [0]\n",
      "    [0]\n",
      "    [0]]\n",
      "\n",
      "   [[0]\n",
      "    [0]\n",
      "    [0]\n",
      "    [0]]\n",
      "\n",
      "   [[0]\n",
      "    [0]\n",
      "    [0]\n",
      "    [0]]]\n",
      "\n",
      "\n",
      "  [[[0]\n",
      "    [0]\n",
      "    [0]\n",
      "    [0]]\n",
      "\n",
      "   [[0]\n",
      "    [0]\n",
      "    [0]\n",
      "    [0]]\n",
      "\n",
      "   [[0]\n",
      "    [0]\n",
      "    [0]\n",
      "    [0]]\n",
      "\n",
      "   [[0]\n",
      "    [0]\n",
      "    [0]\n",
      "    [0]]\n",
      "\n",
      "   [[0]\n",
      "    [0]\n",
      "    [0]\n",
      "    [0]]]\n",
      "\n",
      "\n",
      "  [[[0]\n",
      "    [0]\n",
      "    [0]\n",
      "    [0]]\n",
      "\n",
      "   [[0]\n",
      "    [0]\n",
      "    [0]\n",
      "    [0]]\n",
      "\n",
      "   [[0]\n",
      "    [0]\n",
      "    [0]\n",
      "    [0]]\n",
      "\n",
      "   [[0]\n",
      "    [0]\n",
      "    [0]\n",
      "    [0]]\n",
      "\n",
      "   [[0]\n",
      "    [0]\n",
      "    [0]\n",
      "    [0]]]\n",
      "\n",
      "\n",
      "  [[[0]\n",
      "    [0]\n",
      "    [0]\n",
      "    [0]]\n",
      "\n",
      "   [[0]\n",
      "    [0]\n",
      "    [0]\n",
      "    [0]]\n",
      "\n",
      "   [[0]\n",
      "    [0]\n",
      "    [0]\n",
      "    [0]]\n",
      "\n",
      "   [[0]\n",
      "    [0]\n",
      "    [0]\n",
      "    [0]]\n",
      "\n",
      "   [[0]\n",
      "    [0]\n",
      "    [0]\n",
      "    [0]]]]]\n"
     ]
    }
   ],
   "source": [
    "b = np.zeros((2,5,5,4,1), dtype = np.int16) # creation of zeros 5-D matrix\n",
    "print(b)"
   ]
  },
  {
   "cell_type": "code",
   "execution_count": 72,
   "id": "260e388b",
   "metadata": {
    "scrolled": false
   },
   "outputs": [
    {
     "name": "stdout",
     "output_type": "stream",
     "text": [
      "[[[7 7 7 7 7]\n",
      "  [7 7 7 7 7]\n",
      "  [7 7 7 7 7]\n",
      "  [7 7 7 7 7]\n",
      "  [7 7 7 7 7]]\n",
      "\n",
      " [[7 7 7 7 7]\n",
      "  [7 7 7 7 7]\n",
      "  [7 7 7 7 7]\n",
      "  [7 7 7 7 7]\n",
      "  [7 7 7 7 7]]]\n"
     ]
    }
   ],
   "source": [
    "# Full Matrix\n",
    "b = np.full((2,5,5), dtype = np.int16, fill_value = 7) # creation of 3-D matrix filling with value 7\n",
    "print(b)"
   ]
  },
  {
   "cell_type": "markdown",
   "id": "fa29581e",
   "metadata": {},
   "source": [
    "## Matrix Creation Routines"
   ]
  },
  {
   "cell_type": "code",
   "execution_count": 80,
   "id": "9a450120",
   "metadata": {},
   "outputs": [
    {
     "name": "stdout",
     "output_type": "stream",
     "text": [
      "[[1 0 0 0 0]\n",
      " [1 1 0 0 0]\n",
      " [1 1 1 0 0]\n",
      " [1 1 1 1 0]\n",
      " [1 1 1 1 1]]\n"
     ]
    }
   ],
   "source": [
    "# Traingular Matrices\n",
    "x = np.tri(5,5, k = 0 , dtype = np.uint16)\n",
    "print(x)"
   ]
  },
  {
   "cell_type": "code",
   "execution_count": 81,
   "id": "25fee520",
   "metadata": {
    "scrolled": true
   },
   "outputs": [
    {
     "name": "stdout",
     "output_type": "stream",
     "text": [
      "[[1 1 0 0 0]\n",
      " [1 1 1 0 0]\n",
      " [1 1 1 1 0]\n",
      " [1 1 1 1 1]\n",
      " [1 1 1 1 1]]\n"
     ]
    }
   ],
   "source": [
    "x = np.tri(5,5, k = 1 , dtype = np.uint16)\n",
    "print(x)"
   ]
  },
  {
   "cell_type": "code",
   "execution_count": 84,
   "id": "1ca4b0b9",
   "metadata": {},
   "outputs": [
    {
     "name": "stdout",
     "output_type": "stream",
     "text": [
      "[[0 0 0 0 0]\n",
      " [1 0 0 0 0]\n",
      " [1 1 0 0 0]\n",
      " [1 1 1 0 0]\n",
      " [1 1 1 1 0]]\n"
     ]
    }
   ],
   "source": [
    "x = np.tri(5,5, k = -1 , dtype = np.uint16) # Lower Triangular Matrix\n",
    "print(x)"
   ]
  },
  {
   "cell_type": "code",
   "execution_count": 85,
   "id": "c0b4136d",
   "metadata": {
    "scrolled": true
   },
   "outputs": [
    {
     "name": "stdout",
     "output_type": "stream",
     "text": [
      "[[0 0 0 0 0]\n",
      " [1 0 0 0 0]\n",
      " [1 1 0 0 0]\n",
      " [1 1 1 0 0]\n",
      " [1 1 1 1 0]]\n"
     ]
    }
   ],
   "source": [
    "x = np.ones((5,5), dtype = np.uint8) \n",
    "y = np.tril(x,k=-1) # Lower Triangular Matrix\n",
    "print(y) "
   ]
  },
  {
   "cell_type": "code",
   "execution_count": 88,
   "id": "a5cc5630",
   "metadata": {
    "scrolled": true
   },
   "outputs": [
    {
     "name": "stdout",
     "output_type": "stream",
     "text": [
      "[[1 1 1 1 1]\n",
      " [0 1 1 1 1]\n",
      " [0 0 1 1 1]\n",
      " [0 0 0 1 1]\n",
      " [0 0 0 0 1]]\n"
     ]
    }
   ],
   "source": [
    "x = np.ones((5,5), dtype = np.uint8) \n",
    "y = np.triu(x,k=0) # Upper Triangular Matrix\n",
    "print(y) "
   ]
  },
  {
   "cell_type": "code",
   "execution_count": 90,
   "id": "05dbd28e",
   "metadata": {},
   "outputs": [
    {
     "name": "stdout",
     "output_type": "stream",
     "text": [
      "[0 1 2 3 4]\n"
     ]
    }
   ],
   "source": [
    "#Arange Function\n",
    "x = np.arange(5)\n",
    "print(x)"
   ]
  },
  {
   "cell_type": "markdown",
   "id": "92d90cc1",
   "metadata": {},
   "source": [
    "# Plotting"
   ]
  },
  {
   "cell_type": "code",
   "execution_count": 91,
   "id": "76be0868",
   "metadata": {},
   "outputs": [],
   "source": [
    "import matplotlib.pyplot as plt"
   ]
  },
  {
   "cell_type": "code",
   "execution_count": 92,
   "id": "e096a1d4",
   "metadata": {},
   "outputs": [],
   "source": [
    "y = x"
   ]
  },
  {
   "cell_type": "code",
   "execution_count": 96,
   "id": "fed667de",
   "metadata": {},
   "outputs": [
    {
     "data": {
      "image/png": "[encoded data removed]",
      "text/plain": [
       "<Figure size 432x288 with 1 Axes>"
      ]
     },
     "metadata": {
      "needs_background": "light"
     },
     "output_type": "display_data"
    }
   ],
   "source": [
    "plt.plot(x,y,'o--')\n",
    "plt.plot(x,-y,'x-')\n",
    "plt.show()"
   ]
  },
  {
   "cell_type": "code",
   "execution_count": 101,
   "id": "b3ab1e63",
   "metadata": {},
   "outputs": [
    {
     "name": "stdout",
     "output_type": "stream",
     "text": [
      "[ 0.  1.  2.  3.  4.  5.  6.  7.  8.  9. 10.]\n"
     ]
    }
   ],
   "source": [
    "# Linspace\n",
    "N = 11\n",
    "x=np.linspace(0,10,N)\n",
    "print(x)\n",
    "y = x"
   ]
  },
  {
   "cell_type": "code",
   "execution_count": 102,
   "id": "dadcffa3",
   "metadata": {},
   "outputs": [
    {
     "data": {
      "image/png": "[encoded data removed]",
      "text/plain": [
       "<Figure size 432x288 with 1 Axes>"
      ]
     },
     "metadata": {
      "needs_background": "light"
     },
     "output_type": "display_data"
    }
   ],
   "source": [
    "plt.plot(x,y,'o--')\n",
    "plt.axis('off')\n",
    "plt.show()"
   ]
  },
  {
   "cell_type": "code",
   "execution_count": 107,
   "id": "5f39b2fc",
   "metadata": {
    "scrolled": true
   },
   "outputs": [
    {
     "name": "stdout",
     "output_type": "stream",
     "text": [
      "[ 1.25892541  1.54881662  1.90546072  2.34422882  2.8840315   3.54813389\n",
      "  4.36515832  5.37031796  6.60693448  8.12830516 10.        ]\n"
     ]
    },
    {
     "data": {
      "image/png": "[encoded data removed]",
      "text/plain": [
       "<Figure size 432x288 with 1 Axes>"
      ]
     },
     "metadata": {
      "needs_background": "light"
     },
     "output_type": "display_data"
    }
   ],
   "source": [
    "y =np.logspace(0.1,1, N)\n",
    "print(y)\n",
    "plt.plot(x,y,'o--')\n",
    "plt.show()"
   ]
  },
  {
   "cell_type": "code",
   "execution_count": 108,
   "id": "811304a3",
   "metadata": {},
   "outputs": [
    {
     "name": "stdout",
     "output_type": "stream",
     "text": [
      "[  0.1          0.19952623   0.39810717   0.79432823   1.58489319\n",
      "   3.16227766   6.30957344  12.58925412  25.11886432  50.11872336\n",
      " 100.        ]\n"
     ]
    },
    {
     "data": {
      "image/png": "[encoded data removed]",
      "text/plain": [
       "<Figure size 432x288 with 1 Axes>"
      ]
     },
     "metadata": {
      "needs_background": "light"
     },
     "output_type": "display_data"
    }
   ],
   "source": [
    "y =np.geomspace(0.1,100, N)\n",
    "print(y)\n",
    "plt.plot(x,y,'o--')\n",
    "plt.show()"
   ]
  },
  {
   "cell_type": "code",
   "execution_count": 113,
   "id": "6f665324",
   "metadata": {},
   "outputs": [
    {
     "name": "stdout",
     "output_type": "stream",
     "text": [
      "[0 3 7 3 5 8 2 5 5 7]\n"
     ]
    }
   ],
   "source": [
    "# Random Sampling\n",
    "\n",
    "x = np.random.randint(low =0, high = 9, size = 10) # size of array =10\n",
    "print(x) # 1-D array"
   ]
  },
  {
   "cell_type": "code",
   "execution_count": 115,
   "id": "350cf653",
   "metadata": {},
   "outputs": [
    {
     "name": "stdout",
     "output_type": "stream",
     "text": [
      "[[0.45377982 0.86270693 0.49715399]\n",
      " [0.61702085 0.38026871 0.94806431]\n",
      " [0.72837318 0.98760499 0.02024631]]\n",
      "2\n"
     ]
    }
   ],
   "source": [
    "# To generate more than one dimension arrays\n",
    "x = np.random.rand(3,3)\n",
    "print(x) \n",
    "print(x.ndim)"
   ]
  },
  {
   "cell_type": "code",
   "execution_count": 116,
   "id": "537f7bc5",
   "metadata": {},
   "outputs": [
    {
     "name": "stdout",
     "output_type": "stream",
     "text": [
      "[[[0.7796081  0.54620627]\n",
      "  [0.21901137 0.26182925]\n",
      "  [0.98920556 0.18515336]]\n",
      "\n",
      " [[0.65059662 0.93496199]\n",
      "  [0.40045155 0.46942084]\n",
      "  [0.15515039 0.86419419]]\n",
      "\n",
      " [[0.08370248 0.33786577]\n",
      "  [0.53319512 0.81589831]\n",
      "  [0.7451247  0.07254047]]]\n",
      "3\n"
     ]
    }
   ],
   "source": [
    "x = np.random.rand(3,3,2)\n",
    "print(x) \n",
    "print(x.ndim)"
   ]
  },
  {
   "cell_type": "code",
   "execution_count": 117,
   "id": "0049aac0",
   "metadata": {},
   "outputs": [
    {
     "data": {
      "text/plain": [
       "list"
      ]
     },
     "execution_count": 117,
     "metadata": {},
     "output_type": "execute_result"
    }
   ],
   "source": [
    "a = [1,2,3,4]\n",
    "type(a)"
   ]
  },
  {
   "cell_type": "code",
   "execution_count": 119,
   "id": "aaf9c584",
   "metadata": {},
   "outputs": [],
   "source": [
    "# to convert list to array\n",
    "b = np.array(a)"
   ]
  },
  {
   "cell_type": "code",
   "execution_count": 120,
   "id": "f8e1125f",
   "metadata": {},
   "outputs": [
    {
     "data": {
      "text/plain": [
       "numpy.ndarray"
      ]
     },
     "execution_count": 120,
     "metadata": {},
     "output_type": "execute_result"
    }
   ],
   "source": [
    "type(b)"
   ]
  },
  {
   "cell_type": "markdown",
   "id": "ca0a896e",
   "metadata": {},
   "source": [
    "### Array Manipulation Routines"
   ]
  },
  {
   "cell_type": "code",
   "execution_count": 8,
   "id": "a649ef5d",
   "metadata": {},
   "outputs": [
    {
     "name": "stdout",
     "output_type": "stream",
     "text": [
      "[0 1 2 3 4 5 6 7 8]\n"
     ]
    }
   ],
   "source": [
    "x = np.arange(9)\n",
    "print(x)"
   ]
  },
  {
   "cell_type": "code",
   "execution_count": 10,
   "id": "b93d447b",
   "metadata": {},
   "outputs": [
    {
     "name": "stdout",
     "output_type": "stream",
     "text": [
      "[[0 1 2]\n",
      " [3 4 5]\n",
      " [6 7 8]]\n"
     ]
    }
   ],
   "source": [
    "y = x.reshape((3,3)) # Creation of 2 D matrix out of 1 D array\n",
    "print(y)"
   ]
  },
  {
   "cell_type": "code",
   "execution_count": 20,
   "id": "37e38c1a",
   "metadata": {},
   "outputs": [
    {
     "name": "stdout",
     "output_type": "stream",
     "text": [
      "[0 1 2 3 4 5 6 7 8]\n"
     ]
    }
   ],
   "source": [
    "z = np.reshape(y,9) # Creation of 1 D array out of 2 D matrix\n",
    "print(z)"
   ]
  },
  {
   "cell_type": "code",
   "execution_count": 26,
   "id": "db3f05f9",
   "metadata": {},
   "outputs": [
    {
     "name": "stdout",
     "output_type": "stream",
     "text": [
      "[[[ 1  2  3]\n",
      "  [ 4  1  3]]\n",
      "\n",
      " [[-1  2  3]\n",
      "  [ 3  4  2]]]\n",
      "---------------------\n",
      "No. of Dimensions:  3\n"
     ]
    }
   ],
   "source": [
    "# we can use ravel to flatten array or convert multidimensional matrix into 1 D\n",
    "\n",
    "x = np.array([[[1,2,3],[4,1,3]],[[-1,2,3],[3,4,2]]])\n",
    "print(x)\n",
    "print('---------------------')\n",
    "print('No. of Dimensions: ',x.ndim)"
   ]
  },
  {
   "cell_type": "code",
   "execution_count": 27,
   "id": "bb192dc5",
   "metadata": {},
   "outputs": [
    {
     "name": "stdout",
     "output_type": "stream",
     "text": [
      "[ 1  2  3  4  1  3 -1  2  3  3  4  2]\n",
      "---------------\n",
      "No. of Dimensions: 1\n"
     ]
    }
   ],
   "source": [
    "y = np.ravel(x)\n",
    "print(y)\n",
    "print('---------------')\n",
    "print('No. of Dimensions:',y.ndim)"
   ]
  },
  {
   "cell_type": "code",
   "execution_count": 28,
   "id": "93d6b29e",
   "metadata": {},
   "outputs": [
    {
     "name": "stdout",
     "output_type": "stream",
     "text": [
      "[ 1  2  3  4  1  3 -1  2  3  3  4  2]\n"
     ]
    }
   ],
   "source": [
    "# OR we can use\n",
    "\n",
    "y = x.flatten()  # Or y = x.flatten('C') flattening by row order\n",
    "print(y)"
   ]
  },
  {
   "cell_type": "code",
   "execution_count": 29,
   "id": "f76f6b61",
   "metadata": {},
   "outputs": [
    {
     "name": "stdout",
     "output_type": "stream",
     "text": [
      "[ 1 -1  4  3  2  2  1  4  3  3  3  2]\n"
     ]
    }
   ],
   "source": [
    "y = x.flatten('F') # flattening by column order\n",
    "print(y)"
   ]
  },
  {
   "cell_type": "code",
   "execution_count": 32,
   "id": "678b45d5",
   "metadata": {},
   "outputs": [
    {
     "name": "stdout",
     "output_type": "stream",
     "text": [
      "uint8\n"
     ]
    }
   ],
   "source": [
    "x = np.array([1,2,3,4], dtype = np.uint8) # this data type occupies less space in byte\n",
    "y = np.array([5,6,7,8], dtype = np.uint8)\n",
    "print(x.dtype)"
   ]
  },
  {
   "cell_type": "code",
   "execution_count": 33,
   "id": "3e9366d4",
   "metadata": {},
   "outputs": [
    {
     "name": "stdout",
     "output_type": "stream",
     "text": [
      "[[1 2 3 4]\n",
      " [5 6 7 8]]\n",
      "2\n"
     ]
    }
   ],
   "source": [
    "# Joining two arrays\n",
    "\n",
    "z = np.stack((x,y)) # stacking row wise\n",
    "print(z)\n",
    "print(z.ndim)"
   ]
  },
  {
   "cell_type": "code",
   "execution_count": 35,
   "id": "8110196a",
   "metadata": {},
   "outputs": [
    {
     "name": "stdout",
     "output_type": "stream",
     "text": [
      "[[1 5]\n",
      " [2 6]\n",
      " [3 7]\n",
      " [4 8]]\n",
      "2\n"
     ]
    }
   ],
   "source": [
    "z = np.stack((x,y),axis=1) # stacking column wise\n",
    "print(z)\n",
    "print(z.ndim)"
   ]
  },
  {
   "cell_type": "code",
   "execution_count": 39,
   "id": "8f8f6af0",
   "metadata": {},
   "outputs": [
    {
     "name": "stdout",
     "output_type": "stream",
     "text": [
      "[[[1 5]\n",
      "  [2 6]\n",
      "  [3 7]\n",
      "  [4 8]]]\n",
      "(1, 4, 2)\n"
     ]
    }
   ],
   "source": [
    "z = np.dstack((x,y)) # stacking depth wise\n",
    "print(z)\n",
    "print(z.shape)\n",
    "print(z.ndim)"
   ]
  },
  {
   "cell_type": "code",
   "execution_count": 40,
   "id": "0e4482f1",
   "metadata": {},
   "outputs": [
    {
     "name": "stdout",
     "output_type": "stream",
     "text": [
      "[1 2 3 4 5 6 7 8]\n",
      "(8,)\n",
      "1\n"
     ]
    }
   ],
   "source": [
    "z = np.hstack((x,y)) # stacking horizontal wise\n",
    "print(z)\n",
    "print(z.shape)\n",
    "print(z.ndim)"
   ]
  },
  {
   "cell_type": "code",
   "execution_count": 42,
   "id": "4f2968ad",
   "metadata": {},
   "outputs": [
    {
     "name": "stdout",
     "output_type": "stream",
     "text": [
      "[[1 2 3 4]\n",
      " [5 6 7 8]]\n",
      "(2, 4)\n",
      "2\n"
     ]
    }
   ],
   "source": [
    "z = np.vstack((x,y)) # stacking vertical wise\n",
    "print(z)\n",
    "print(z.shape)\n",
    "print(z.ndim)"
   ]
  },
  {
   "cell_type": "code",
   "execution_count": 43,
   "id": "42528c83",
   "metadata": {},
   "outputs": [
    {
     "name": "stdout",
     "output_type": "stream",
     "text": [
      "[0 1 2 3 4 5 6 7 8]\n"
     ]
    }
   ],
   "source": [
    "x = np.arange(9)\n",
    "print(x)"
   ]
  },
  {
   "cell_type": "code",
   "execution_count": 44,
   "id": "f693772d",
   "metadata": {},
   "outputs": [
    {
     "name": "stdout",
     "output_type": "stream",
     "text": [
      "[0 1 2] [3 4 5] [6 7 8]\n"
     ]
    }
   ],
   "source": [
    "# Splitting array - into different arrays\n",
    "a,b,c = np.split(x,3)\n",
    "print(a,b,c)"
   ]
  },
  {
   "cell_type": "code",
   "execution_count": 46,
   "id": "72a45698",
   "metadata": {},
   "outputs": [
    {
     "name": "stdout",
     "output_type": "stream",
     "text": [
      "[[[0.80321285 0.83489323 0.7571177  0.90166635]\n",
      "  [0.11730078 0.03421835 0.21777047 0.60253204]\n",
      "  [0.15204158 0.72934008 0.98282485 0.09226045]\n",
      "  [0.78535719 0.76358249 0.63665537 0.78529654]]\n",
      "\n",
      " [[0.49734514 0.8102075  0.04296138 0.48014974]\n",
      "  [0.15642295 0.06243789 0.84231123 0.86474906]\n",
      "  [0.60980188 0.71006617 0.24478043 0.12093485]\n",
      "  [0.24742744 0.8649972  0.08430641 0.03337311]]\n",
      "\n",
      " [[0.67220721 0.65821748 0.21570313 0.39126269]\n",
      "  [0.31147342 0.2782994  0.06198175 0.2036137 ]\n",
      "  [0.18662237 0.93751278 0.14008577 0.14570208]\n",
      "  [0.42663514 0.93089191 0.57608259 0.44476795]]\n",
      "\n",
      " [[0.07437327 0.69205402 0.32234163 0.88559059]\n",
      "  [0.48183194 0.37556402 0.49313995 0.03601428]\n",
      "  [0.68833506 0.82254453 0.19455071 0.09015655]\n",
      "  [0.88079666 0.6255308  0.32507756 0.43384636]]]\n"
     ]
    }
   ],
   "source": [
    "x = np.random.rand(4,4,4)\n",
    "print(x)"
   ]
  },
  {
   "cell_type": "code",
   "execution_count": 47,
   "id": "ffd0b9a3",
   "metadata": {},
   "outputs": [
    {
     "name": "stdout",
     "output_type": "stream",
     "text": [
      "[[[0.80321285 0.83489323 0.7571177  0.90166635]\n",
      "  [0.11730078 0.03421835 0.21777047 0.60253204]\n",
      "  [0.15204158 0.72934008 0.98282485 0.09226045]\n",
      "  [0.78535719 0.76358249 0.63665537 0.78529654]]\n",
      "\n",
      " [[0.49734514 0.8102075  0.04296138 0.48014974]\n",
      "  [0.15642295 0.06243789 0.84231123 0.86474906]\n",
      "  [0.60980188 0.71006617 0.24478043 0.12093485]\n",
      "  [0.24742744 0.8649972  0.08430641 0.03337311]]] [[[0.67220721 0.65821748 0.21570313 0.39126269]\n",
      "  [0.31147342 0.2782994  0.06198175 0.2036137 ]\n",
      "  [0.18662237 0.93751278 0.14008577 0.14570208]\n",
      "  [0.42663514 0.93089191 0.57608259 0.44476795]]\n",
      "\n",
      " [[0.07437327 0.69205402 0.32234163 0.88559059]\n",
      "  [0.48183194 0.37556402 0.49313995 0.03601428]\n",
      "  [0.68833506 0.82254453 0.19455071 0.09015655]\n",
      "  [0.88079666 0.6255308  0.32507756 0.43384636]]]\n"
     ]
    }
   ],
   "source": [
    "y, z = np.split(x,2)\n",
    "print(y,z)"
   ]
  },
  {
   "cell_type": "code",
   "execution_count": 48,
   "id": "3a648c1d",
   "metadata": {},
   "outputs": [
    {
     "name": "stdout",
     "output_type": "stream",
     "text": [
      "[[[0.80321285 0.83489323]\n",
      "  [0.11730078 0.03421835]\n",
      "  [0.15204158 0.72934008]\n",
      "  [0.78535719 0.76358249]]\n",
      "\n",
      " [[0.49734514 0.8102075 ]\n",
      "  [0.15642295 0.06243789]\n",
      "  [0.60980188 0.71006617]\n",
      "  [0.24742744 0.8649972 ]]\n",
      "\n",
      " [[0.67220721 0.65821748]\n",
      "  [0.31147342 0.2782994 ]\n",
      "  [0.18662237 0.93751278]\n",
      "  [0.42663514 0.93089191]]\n",
      "\n",
      " [[0.07437327 0.69205402]\n",
      "  [0.48183194 0.37556402]\n",
      "  [0.68833506 0.82254453]\n",
      "  [0.88079666 0.6255308 ]]] [[[0.7571177  0.90166635]\n",
      "  [0.21777047 0.60253204]\n",
      "  [0.98282485 0.09226045]\n",
      "  [0.63665537 0.78529654]]\n",
      "\n",
      " [[0.04296138 0.48014974]\n",
      "  [0.84231123 0.86474906]\n",
      "  [0.24478043 0.12093485]\n",
      "  [0.08430641 0.03337311]]\n",
      "\n",
      " [[0.21570313 0.39126269]\n",
      "  [0.06198175 0.2036137 ]\n",
      "  [0.14008577 0.14570208]\n",
      "  [0.57608259 0.44476795]]\n",
      "\n",
      " [[0.32234163 0.88559059]\n",
      "  [0.49313995 0.03601428]\n",
      "  [0.19455071 0.09015655]\n",
      "  [0.32507756 0.43384636]]]\n"
     ]
    }
   ],
   "source": [
    "y, z = np.dsplit(x,2) # depth wise splitting\n",
    "print(y,z)"
   ]
  },
  {
   "cell_type": "code",
   "execution_count": 49,
   "id": "c547868b",
   "metadata": {},
   "outputs": [
    {
     "name": "stdout",
     "output_type": "stream",
     "text": [
      "[[[0.80321285 0.83489323 0.7571177  0.90166635]\n",
      "  [0.11730078 0.03421835 0.21777047 0.60253204]]\n",
      "\n",
      " [[0.49734514 0.8102075  0.04296138 0.48014974]\n",
      "  [0.15642295 0.06243789 0.84231123 0.86474906]]\n",
      "\n",
      " [[0.67220721 0.65821748 0.21570313 0.39126269]\n",
      "  [0.31147342 0.2782994  0.06198175 0.2036137 ]]\n",
      "\n",
      " [[0.07437327 0.69205402 0.32234163 0.88559059]\n",
      "  [0.48183194 0.37556402 0.49313995 0.03601428]]] [[[0.15204158 0.72934008 0.98282485 0.09226045]\n",
      "  [0.78535719 0.76358249 0.63665537 0.78529654]]\n",
      "\n",
      " [[0.60980188 0.71006617 0.24478043 0.12093485]\n",
      "  [0.24742744 0.8649972  0.08430641 0.03337311]]\n",
      "\n",
      " [[0.18662237 0.93751278 0.14008577 0.14570208]\n",
      "  [0.42663514 0.93089191 0.57608259 0.44476795]]\n",
      "\n",
      " [[0.68833506 0.82254453 0.19455071 0.09015655]\n",
      "  [0.88079666 0.6255308  0.32507756 0.43384636]]]\n"
     ]
    }
   ],
   "source": [
    "y, z = np.hsplit(x,2) # height splitting\n",
    "print(y,z)"
   ]
  },
  {
   "cell_type": "code",
   "execution_count": 50,
   "id": "619c10e2",
   "metadata": {},
   "outputs": [
    {
     "name": "stdout",
     "output_type": "stream",
     "text": [
      "[[[0.80321285 0.83489323 0.7571177  0.90166635]\n",
      "  [0.11730078 0.03421835 0.21777047 0.60253204]\n",
      "  [0.15204158 0.72934008 0.98282485 0.09226045]\n",
      "  [0.78535719 0.76358249 0.63665537 0.78529654]]\n",
      "\n",
      " [[0.49734514 0.8102075  0.04296138 0.48014974]\n",
      "  [0.15642295 0.06243789 0.84231123 0.86474906]\n",
      "  [0.60980188 0.71006617 0.24478043 0.12093485]\n",
      "  [0.24742744 0.8649972  0.08430641 0.03337311]]] [[[0.67220721 0.65821748 0.21570313 0.39126269]\n",
      "  [0.31147342 0.2782994  0.06198175 0.2036137 ]\n",
      "  [0.18662237 0.93751278 0.14008577 0.14570208]\n",
      "  [0.42663514 0.93089191 0.57608259 0.44476795]]\n",
      "\n",
      " [[0.07437327 0.69205402 0.32234163 0.88559059]\n",
      "  [0.48183194 0.37556402 0.49313995 0.03601428]\n",
      "  [0.68833506 0.82254453 0.19455071 0.09015655]\n",
      "  [0.88079666 0.6255308  0.32507756 0.43384636]]]\n"
     ]
    }
   ],
   "source": [
    "y, z = np.vsplit(x,2) # vertical splitting\n",
    "print(y,z)"
   ]
  },
  {
   "cell_type": "code",
   "execution_count": 51,
   "id": "7b228104",
   "metadata": {},
   "outputs": [
    {
     "name": "stdout",
     "output_type": "stream",
     "text": [
      "[[ 0  1  2  3]\n",
      " [ 4  5  6  7]\n",
      " [ 8  9 10 11]\n",
      " [12 13 14 15]]\n"
     ]
    }
   ],
   "source": [
    "# Flip function\n",
    "\n",
    "x = np.arange(16).reshape(4,4)\n",
    "print(x)"
   ]
  },
  {
   "cell_type": "code",
   "execution_count": 52,
   "id": "bf9738c9",
   "metadata": {},
   "outputs": [
    {
     "name": "stdout",
     "output_type": "stream",
     "text": [
      "[[ 3  2  1  0]\n",
      " [ 7  6  5  4]\n",
      " [11 10  9  8]\n",
      " [15 14 13 12]]\n"
     ]
    }
   ],
   "source": [
    "y = np.flip(x, axis = -1)\n",
    "print(y)"
   ]
  },
  {
   "cell_type": "code",
   "execution_count": 53,
   "id": "4c5da683",
   "metadata": {},
   "outputs": [
    {
     "name": "stdout",
     "output_type": "stream",
     "text": [
      "[[12 13 14 15]\n",
      " [ 8  9 10 11]\n",
      " [ 4  5  6  7]\n",
      " [ 0  1  2  3]]\n"
     ]
    }
   ],
   "source": [
    "y = np.flip(x, axis = 0)\n",
    "print(y)"
   ]
  },
  {
   "cell_type": "code",
   "execution_count": 56,
   "id": "5a77c6ca",
   "metadata": {},
   "outputs": [
    {
     "name": "stdout",
     "output_type": "stream",
     "text": [
      "[[ 3  2  1  0]\n",
      " [ 7  6  5  4]\n",
      " [11 10  9  8]\n",
      " [15 14 13 12]]\n"
     ]
    }
   ],
   "source": [
    "y = np.flip(x, axis = 1)\n",
    "print(y)"
   ]
  },
  {
   "cell_type": "code",
   "execution_count": 57,
   "id": "c8c95938",
   "metadata": {},
   "outputs": [
    {
     "name": "stdout",
     "output_type": "stream",
     "text": [
      "[[ 3  2  1  0]\n",
      " [ 7  6  5  4]\n",
      " [11 10  9  8]\n",
      " [15 14 13 12]]\n"
     ]
    }
   ],
   "source": [
    "y = np.fliplr(x) # flip left to right  OR y = np.flip(x, axis = -1)\n",
    "print(y)"
   ]
  },
  {
   "cell_type": "code",
   "execution_count": 59,
   "id": "aeb1a5cd",
   "metadata": {},
   "outputs": [
    {
     "name": "stdout",
     "output_type": "stream",
     "text": [
      "[[12 13 14 15]\n",
      " [ 8  9 10 11]\n",
      " [ 4  5  6  7]\n",
      " [ 0  1  2  3]]\n"
     ]
    }
   ],
   "source": [
    "y = np.flipud(x) # flip up down OR y = np.flip(x, axis = 0)\n",
    "print(y)"
   ]
  },
  {
   "cell_type": "code",
   "execution_count": 64,
   "id": "779239f8",
   "metadata": {},
   "outputs": [
    {
     "name": "stdout",
     "output_type": "stream",
     "text": [
      "[[ 0  1  2  3]\n",
      " [ 4  5  6  7]\n",
      " [ 8  9 10 11]\n",
      " [12 13 14 15]]\n",
      "--------------------\n",
      "[[ 8  9 10 11]\n",
      " [12 13 14 15]\n",
      " [ 0  1  2  3]\n",
      " [ 4  5  6  7]]\n"
     ]
    }
   ],
   "source": [
    "# Roll function\n",
    "\n",
    "y = np.roll(x,8)\n",
    "print(x)\n",
    "print('--------------------')\n",
    "print(y)"
   ]
  },
  {
   "cell_type": "code",
   "execution_count": 65,
   "id": "67518f8c",
   "metadata": {},
   "outputs": [
    {
     "name": "stdout",
     "output_type": "stream",
     "text": [
      "[[ 3  7 11 15]\n",
      " [ 2  6 10 14]\n",
      " [ 1  5  9 13]\n",
      " [ 0  4  8 12]]\n"
     ]
    }
   ],
   "source": [
    "# Rotation function\n",
    "\n",
    "y = np.rot90(x) \n",
    "print(y)"
   ]
  },
  {
   "cell_type": "markdown",
   "id": "d9d03ba6",
   "metadata": {},
   "source": [
    "## Bitwise Operations"
   ]
  },
  {
   "cell_type": "code",
   "execution_count": 71,
   "id": "c1dd9bf0",
   "metadata": {},
   "outputs": [
    {
     "name": "stdout",
     "output_type": "stream",
     "text": [
      "[0 1 0 0]\n",
      "[0 1 1 0]\n",
      "[0 0 1 0]\n",
      "[255 254 255 255]\n"
     ]
    }
   ],
   "source": [
    "x = np.array([0,1,0,0], dtype = np.uint8)\n",
    "y = np.array([0,1,1,0], dtype = np.uint8)\n",
    "\n",
    "print(np.bitwise_and(x,y)) # common\n",
    "print(np.bitwise_or(x,y)) # common\n",
    "print(np.bitwise_xor(x,y)) # common\n",
    "print(np.bitwise_not(x)) # common"
   ]
  },
  {
   "cell_type": "markdown",
   "id": "f158f61c",
   "metadata": {},
   "source": [
    "## Statistical Functions"
   ]
  },
  {
   "cell_type": "code",
   "execution_count": 78,
   "id": "0e7a43ad",
   "metadata": {},
   "outputs": [
    {
     "name": "stdout",
     "output_type": "stream",
     "text": [
      "[ 0  1  2  3  4  5  6  7  8  9 10 11 12 13 14]\n"
     ]
    }
   ],
   "source": [
    "x = np.arange(15)\n",
    "print(x)"
   ]
  },
  {
   "cell_type": "code",
   "execution_count": 80,
   "id": "9894747f",
   "metadata": {},
   "outputs": [
    {
     "name": "stdout",
     "output_type": "stream",
     "text": [
      "7.0\n",
      "7.0\n",
      "7.0\n"
     ]
    }
   ],
   "source": [
    "print(np.median(x))\n",
    "print(np.mean(x))\n",
    "print(np.average(x))\n",
    "# values of median, mean and avarage are same because this is ascending array"
   ]
  },
  {
   "cell_type": "code",
   "execution_count": 86,
   "id": "1e30d572",
   "metadata": {},
   "outputs": [
    {
     "name": "stdout",
     "output_type": "stream",
     "text": [
      "[ 5  6  0  0 12  2 13  7  4 12 10 14  3  4  2]\n"
     ]
    }
   ],
   "source": [
    "# by chaning order\n",
    "y = np.random.randint(low = 0, high = 15, size = 15)\n",
    "print(y)"
   ]
  },
  {
   "cell_type": "code",
   "execution_count": 87,
   "id": "fd1b25ef",
   "metadata": {},
   "outputs": [
    {
     "name": "stdout",
     "output_type": "stream",
     "text": [
      "5.0\n",
      "6.266666666666667\n",
      "6.266666666666667\n"
     ]
    }
   ],
   "source": [
    "print(np.median(y))\n",
    "print(np.mean(y))\n",
    "print(np.average(y))"
   ]
  },
  {
   "cell_type": "code",
   "execution_count": 90,
   "id": "f2e6d722",
   "metadata": {},
   "outputs": [
    {
     "name": "stdout",
     "output_type": "stream",
     "text": [
      "4.639923371014751\n",
      "21.528888888888886\n"
     ]
    }
   ],
   "source": [
    "print(np.std(y))\n",
    "print(np.var(y))"
   ]
  },
  {
   "cell_type": "code",
   "execution_count": 96,
   "id": "8335c9db",
   "metadata": {},
   "outputs": [
    {
     "name": "stdout",
     "output_type": "stream",
     "text": [
      "(array([2, 1, 2, 1, 1, 2, 1, 2, 1, 2], dtype=int64), array([ 0. ,  1.4,  2.8,  4.2,  5.6,  7. ,  8.4,  9.8, 11.2, 12.6, 14. ]))\n",
      "----------------------------\n"
     ]
    },
    {
     "data": {
      "image/png": "[encoded data removed]",
      "text/plain": [
       "<Figure size 432x288 with 1 Axes>"
      ]
     },
     "metadata": {
      "needs_background": "light"
     },
     "output_type": "display_data"
    }
   ],
   "source": [
    "print(np.histogram(x)) # 1st array is of frequency, and 2nd array is of bins/ranges\n",
    "print('----------------------------')\n",
    "import matplotlib.pyplot as plt\n",
    "plt.hist(x)\n",
    "plt.show()"
   ]
  },
  {
   "cell_type": "code",
   "execution_count": null,
   "id": "816a1201",
   "metadata": {},
   "outputs": [],
   "source": []
  },
  {
   "cell_type": "code",
   "execution_count": null,
   "id": "55175aef",
   "metadata": {},
   "outputs": [],
   "source": []
  },
  {
   "cell_type": "code",
   "execution_count": null,
   "id": "cf135e94",
   "metadata": {},
   "outputs": [],
   "source": []
  },
  {
   "cell_type": "code",
   "execution_count": null,
   "id": "28aa3adb",
   "metadata": {},
   "outputs": [],
   "source": []
  },
  {
   "cell_type": "code",
   "execution_count": null,
   "id": "4293eb88",
   "metadata": {},
   "outputs": [],
   "source": []
  },
  {
   "cell_type": "code",
   "execution_count": null,
   "id": "f31c18e3",
   "metadata": {},
   "outputs": [],
   "source": []
  },
  {
   "cell_type": "code",
   "execution_count": null,
   "id": "9b672094",
   "metadata": {},
   "outputs": [],
   "source": []
  },
  {
   "cell_type": "code",
   "execution_count": null,
   "id": "67cf61b1",
   "metadata": {},
   "outputs": [],
   "source": []
  },
  {
   "cell_type": "code",
   "execution_count": null,
   "id": "67e1284b",
   "metadata": {},
   "outputs": [],
   "source": []
  },
  {
   "cell_type": "code",
   "execution_count": null,
   "id": "b90af317",
   "metadata": {},
   "outputs": [],
   "source": []
  },
  {
   "cell_type": "code",
   "execution_count": null,
   "id": "93924851",
   "metadata": {},
   "outputs": [],
   "source": []
  },
  {
   "cell_type": "code",
   "execution_count": null,
   "id": "6872add9",
   "metadata": {},
   "outputs": [],
   "source": []
  },
  {
   "cell_type": "code",
   "execution_count": null,
   "id": "5ed6811b",
   "metadata": {},
   "outputs": [],
   "source": []
  },
  {
   "cell_type": "code",
   "execution_count": null,
   "id": "1ceb0719",
   "metadata": {},
   "outputs": [],
   "source": []
  },
  {
   "cell_type": "code",
   "execution_count": null,
   "id": "13f4ec0d",
   "metadata": {},
   "outputs": [],
   "source": []
  }
 ],
 "metadata": {
  "kernelspec": {
   "display_name": "Python 3 (ipykernel)",
   "language": "python",
   "name": "python3"
  },
  "language_info": {
   "codemirror_mode": {
    "name": "ipython",
    "version": 3
   },
   "file_extension": ".py",
   "mimetype": "text/x-python",
   "name": "python",
   "nbconvert_exporter": "python",
   "pygments_lexer": "ipython3",
   "version": "3.9.12"
  }
 },
 "nbformat": 4,
 "nbformat_minor": 5
}
