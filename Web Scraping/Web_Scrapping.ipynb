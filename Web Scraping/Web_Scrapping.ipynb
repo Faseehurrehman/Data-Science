{
 "cells": [
  {
   "cell_type": "markdown",
   "metadata": {
    "id": "WqjS0LWCjgAr"
   },
   "source": [
    "### Web Scrapping¶\n",
    "### 1 - Dawn Articles\n",
    "### 2 - Top Science Fiction Movies\n",
    "### 3 - Web Scrapping From Multiple Pages\n",
    "### 4 - Using AP"
   ]
  },
  {
   "cell_type": "markdown",
   "metadata": {
    "id": "_c4DaH6t2a1E"
   },
   "source": [
    "---"
   ]
  },
  {
   "cell_type": "markdown",
   "metadata": {
    "id": "fDH6V33-juv4"
   },
   "source": [
    "## 1 - Dawn Articles"
   ]
  },
  {
   "cell_type": "code",
   "execution_count": 1,
   "metadata": {
    "executionInfo": {
     "elapsed": 542,
     "status": "ok",
     "timestamp": 1667048320125,
     "user": {
      "displayName": "Faseeh Ur Rehman",
      "userId": "05166873358430261340"
     },
     "user_tz": -300
    },
    "id": "gmA_yMxujwm9"
   },
   "outputs": [],
   "source": [
    "import pandas as pd\n",
    "import requests\n",
    "from bs4 import BeautifulSoup"
   ]
  },
  {
   "cell_type": "code",
   "execution_count": 2,
   "metadata": {
    "executionInfo": {
     "elapsed": 8,
     "status": "ok",
     "timestamp": 1667048320126,
     "user": {
      "displayName": "Faseeh Ur Rehman",
      "userId": "05166873358430261340"
     },
     "user_tz": -300
    },
    "id": "Ia83JuOZjy08"
   },
   "outputs": [],
   "source": [
    "webpage = requests.get('https://www.dawn.com/').text"
   ]
  },
  {
   "cell_type": "code",
   "execution_count": 3,
   "metadata": {
    "executionInfo": {
     "elapsed": 520,
     "status": "ok",
     "timestamp": 1667048334932,
     "user": {
      "displayName": "Faseeh Ur Rehman",
      "userId": "05166873358430261340"
     },
     "user_tz": -300
    },
    "id": "28tlnllnj0_V"
   },
   "outputs": [],
   "source": [
    "soup=BeautifulSoup(webpage,'html.parser')"
   ]
  },
  {
   "cell_type": "code",
   "execution_count": 4,
   "metadata": {
    "executionInfo": {
     "elapsed": 740,
     "status": "ok",
     "timestamp": 1667048338011,
     "user": {
      "displayName": "Faseeh Ur Rehman",
      "userId": "05166873358430261340"
     },
     "user_tz": -300
    },
    "id": "SfmCLuP8j2y5"
   },
   "outputs": [],
   "source": [
    "data = soup.find_all('article',attrs={'class':'story'})"
   ]
  },
  {
   "cell_type": "code",
   "execution_count": 5,
   "metadata": {
    "colab": {
     "base_uri": "https://localhost:8080/"
    },
    "executionInfo": {
     "elapsed": 23,
     "status": "ok",
     "timestamp": 1667048385944,
     "user": {
      "displayName": "Faseeh Ur Rehman",
      "userId": "05166873358430261340"
     },
     "user_tz": -300
    },
    "id": "EYuVCpBy05x0",
    "outputId": "32fb88d7-a632-4dbd-b972-3142e899bd37"
   },
   "outputs": [
    {
     "data": {
      "text/plain": [
       "<article class=\"story box mb-2 pb-1\" data-id=\"1717321\" data-layout=\"story\">\n",
       "<!-- box/label -->\n",
       "<span class=\"badge inline-flex text-3 font-normal rounded theme theme-default theme--live align-middle\" dir=\"auto\" id=\"live\"><span>Live </span></span>\n",
       "<!-- box/title title-bold-playfairdisplay-pb:1-text:5 -->\n",
       "<h2 class=\"story__title text-5 font-bold font-playfair-display leading-tight pb-1\" data-id=\"1717321\" data-layout=\"story\" dir=\"auto\"><a class=\"story__link\" href=\"https://www.dawn.com/news/1717321/imran-calls-on-long-march-participants-to-reach-rawalpindi-on-nov-26\">Imran calls on long march participants to reach Rawalpindi on Nov 26</a></h2>\n",
       "<!-- box/image -->\n",
       "<figure class=\"media media--fill sm:w-full w-full mb-1\">\n",
       "<div class=\"media__item\"><a href=\"https://www.dawn.com/news/1717321/imran-calls-on-long-march-participants-to-reach-rawalpindi-on-nov-26\" target=\"_self\" title=\"\"><picture><img alt=\"Imran calls on long march participants to reach Rawalpindi on Nov 26\" src=\"https://i.dawn.com/medium/2022/11/19172041ef8891f.png?r=172059\"/></picture></a></div>\n",
       "</figure>\n",
       "<!-- box/excerpt -->\n",
       "<div class=\"story__excerpt text-3 font-georgia mb-1.5\" dir=\"auto\">\"I will meet you there,\" says the PTI chief.\n",
       " \n",
       "    </div>\n",
       "<!-- box/date --><span class=\"story__time text-2.5 text-gray-400 font-arial block\"><span class=\"timestamp--label\">Updated</span> <span class=\"timestamp--time timeago\" title=\"2022-11-19T18:08:26+05:00\"><span class=\"timestamp__calendar\">19 Nov, 2022</span> <span class=\"timestamp__time\">06:08pm</span></span></span> </article>"
      ]
     },
     "execution_count": 5,
     "metadata": {},
     "output_type": "execute_result"
    }
   ],
   "source": [
    "data[0]"
   ]
  },
  {
   "cell_type": "code",
   "execution_count": 6,
   "metadata": {
    "executionInfo": {
     "elapsed": 15,
     "status": "ok",
     "timestamp": 1667048401325,
     "user": {
      "displayName": "Faseeh Ur Rehman",
      "userId": "05166873358430261340"
     },
     "user_tz": -300
    },
    "id": "6Za-LtBZ06Y0"
   },
   "outputs": [],
   "source": [
    "anchor = data[0].find('a')"
   ]
  },
  {
   "cell_type": "code",
   "execution_count": 7,
   "metadata": {
    "colab": {
     "base_uri": "https://localhost:8080/"
    },
    "executionInfo": {
     "elapsed": 15,
     "status": "ok",
     "timestamp": 1667048409596,
     "user": {
      "displayName": "Faseeh Ur Rehman",
      "userId": "05166873358430261340"
     },
     "user_tz": -300
    },
    "id": "4Bfu9g4A0-QG",
    "outputId": "26527123-4121-4614-dcd5-525dd1ff65a8"
   },
   "outputs": [
    {
     "data": {
      "text/plain": [
       "<a class=\"story__link\" href=\"https://www.dawn.com/news/1717321/imran-calls-on-long-march-participants-to-reach-rawalpindi-on-nov-26\">Imran calls on long march participants to reach Rawalpindi on Nov 26</a>"
      ]
     },
     "execution_count": 7,
     "metadata": {},
     "output_type": "execute_result"
    }
   ],
   "source": [
    "anchor"
   ]
  },
  {
   "cell_type": "code",
   "execution_count": 8,
   "metadata": {
    "colab": {
     "base_uri": "https://localhost:8080/",
     "height": 35
    },
    "executionInfo": {
     "elapsed": 16,
     "status": "ok",
     "timestamp": 1667048422968,
     "user": {
      "displayName": "Faseeh Ur Rehman",
      "userId": "05166873358430261340"
     },
     "user_tz": -300
    },
    "id": "rJK7dDOe1CYD",
    "outputId": "b8a19a15-3c70-4f02-92b5-37d4c2997b1a"
   },
   "outputs": [
    {
     "data": {
      "text/plain": [
       "'Imran calls on long march participants to reach Rawalpindi on Nov 26'"
      ]
     },
     "execution_count": 8,
     "metadata": {},
     "output_type": "execute_result"
    }
   ],
   "source": [
    "anchor.text"
   ]
  },
  {
   "cell_type": "code",
   "execution_count": 9,
   "metadata": {
    "colab": {
     "base_uri": "https://localhost:8080/",
     "height": 35
    },
    "executionInfo": {
     "elapsed": 823,
     "status": "ok",
     "timestamp": 1667048435380,
     "user": {
      "displayName": "Faseeh Ur Rehman",
      "userId": "05166873358430261340"
     },
     "user_tz": -300
    },
    "id": "WHHZ-MWG1DhE",
    "outputId": "17836603-924e-4b8d-eff6-5633a9637ff6"
   },
   "outputs": [
    {
     "data": {
      "text/plain": [
       "'https://www.dawn.com/news/1717321/imran-calls-on-long-march-participants-to-reach-rawalpindi-on-nov-26'"
      ]
     },
     "execution_count": 9,
     "metadata": {},
     "output_type": "execute_result"
    }
   ],
   "source": [
    "anchor['href']"
   ]
  },
  {
   "cell_type": "code",
   "execution_count": 10,
   "metadata": {
    "colab": {
     "base_uri": "https://localhost:8080/"
    },
    "executionInfo": {
     "elapsed": 9,
     "status": "ok",
     "timestamp": 1667048444867,
     "user": {
      "displayName": "Faseeh Ur Rehman",
      "userId": "05166873358430261340"
     },
     "user_tz": -300
    },
    "id": "b80kZ9-R1ARe",
    "outputId": "27ca2591-1085-458e-bdf0-ff616ead5b7e"
   },
   "outputs": [
    {
     "data": {
      "text/plain": [
       "<img alt=\"Imran calls on long march participants to reach Rawalpindi on Nov 26\" src=\"https://i.dawn.com/medium/2022/11/19172041ef8891f.png?r=172059\"/>"
      ]
     },
     "execution_count": 10,
     "metadata": {},
     "output_type": "execute_result"
    }
   ],
   "source": [
    "data[0].find('img')"
   ]
  },
  {
   "cell_type": "code",
   "execution_count": 11,
   "metadata": {
    "colab": {
     "base_uri": "https://localhost:8080/",
     "height": 35
    },
    "executionInfo": {
     "elapsed": 510,
     "status": "ok",
     "timestamp": 1667048458769,
     "user": {
      "displayName": "Faseeh Ur Rehman",
      "userId": "05166873358430261340"
     },
     "user_tz": -300
    },
    "id": "I2RGQTs11JAr",
    "outputId": "98092e27-27f8-4330-8780-1bdafa51ec21"
   },
   "outputs": [
    {
     "data": {
      "text/plain": [
       "'https://i.dawn.com/medium/2022/11/19172041ef8891f.png?r=172059'"
      ]
     },
     "execution_count": 11,
     "metadata": {},
     "output_type": "execute_result"
    }
   ],
   "source": [
    "data[0].find('img')['src']"
   ]
  },
  {
   "cell_type": "code",
   "execution_count": 12,
   "metadata": {
    "executionInfo": {
     "elapsed": 8,
     "status": "ok",
     "timestamp": 1667048468370,
     "user": {
      "displayName": "Faseeh Ur Rehman",
      "userId": "05166873358430261340"
     },
     "user_tz": -300
    },
    "id": "txgi36v91MM1"
   },
   "outputs": [],
   "source": [
    "titles = []\n",
    "paragraph = []\n",
    "img = []\n",
    "author_names = []\n",
    "published_time = []\n",
    "images = []\n",
    "links = []\n",
    "\n",
    "for i in data:\n",
    "    anchor = i.find('a')\n",
    "    img = i.find('img')\n",
    "    titles.append(anchor.text)\n",
    "    links.append(anchor['href'])\n",
    "    if img:\n",
    "        images.append(img['src'])\n",
    "    else:\n",
    "        images.append(' ')\n",
    "    \n",
    "    author = i.find('span','story__byline').a.text if i.find('span','story__byline') else ''\n",
    "    author_names.append(author)\n",
    "    \n",
    "    date = i.find('span', class_ = 'timestamp--time  timeago').text if i.find('span', class_ = 'timestamp--time  timeago') else '**'\n",
    "    published_time.append(date)\n",
    "    \n",
    "    para = i.find('div', class_ = 'story__excerpt').text if i.find('div', class_ = 'story__excerpt') else ''\n",
    "    paragraph.append(para)"
   ]
  },
  {
   "cell_type": "code",
   "execution_count": 13,
   "metadata": {
    "colab": {
     "base_uri": "https://localhost:8080/"
    },
    "executionInfo": {
     "elapsed": 8,
     "status": "ok",
     "timestamp": 1667048488914,
     "user": {
      "displayName": "Faseeh Ur Rehman",
      "userId": "05166873358430261340"
     },
     "user_tz": -300
    },
    "id": "aYpN6LCT1OqC",
    "outputId": "7f3b4f0a-d7ce-44b9-aaf3-3cd83d6d9a83"
   },
   "outputs": [
    {
     "data": {
      "text/plain": [
       "(180, 180, 180)"
      ]
     },
     "execution_count": 13,
     "metadata": {},
     "output_type": "execute_result"
    }
   ],
   "source": [
    "len(titles),len(links), len(images)"
   ]
  },
  {
   "cell_type": "code",
   "execution_count": 14,
   "metadata": {
    "executionInfo": {
     "elapsed": 6,
     "status": "ok",
     "timestamp": 1667048507330,
     "user": {
      "displayName": "Faseeh Ur Rehman",
      "userId": "05166873358430261340"
     },
     "user_tz": -300
    },
    "id": "FsXP7kIb1TbW"
   },
   "outputs": [],
   "source": [
    "dawn_df = pd.DataFrame({'Titles':titles,'Author Names':author_names,'Published Time':published_time,'First Paragraph':paragraph,'Links':links,'Images':images})"
   ]
  },
  {
   "cell_type": "code",
   "execution_count": 15,
   "metadata": {
    "colab": {
     "base_uri": "https://localhost:8080/",
     "height": 372
    },
    "executionInfo": {
     "elapsed": 18,
     "status": "ok",
     "timestamp": 1667048546529,
     "user": {
      "displayName": "Faseeh Ur Rehman",
      "userId": "05166873358430261340"
     },
     "user_tz": -300
    },
    "id": "xnKYv44y1YKv",
    "outputId": "6aa3f144-2618-4e1d-fbd4-f0776a4a0697"
   },
   "outputs": [
    {
     "data": {
      "text/html": [
       "<div>\n",
       "<style scoped>\n",
       "    .dataframe tbody tr th:only-of-type {\n",
       "        vertical-align: middle;\n",
       "    }\n",
       "\n",
       "    .dataframe tbody tr th {\n",
       "        vertical-align: top;\n",
       "    }\n",
       "\n",
       "    .dataframe thead th {\n",
       "        text-align: right;\n",
       "    }\n",
       "</style>\n",
       "<table border=\"1\" class=\"dataframe\">\n",
       "  <thead>\n",
       "    <tr style=\"text-align: right;\">\n",
       "      <th></th>\n",
       "      <th>Titles</th>\n",
       "      <th>Author Names</th>\n",
       "      <th>Published Time</th>\n",
       "      <th>First Paragraph</th>\n",
       "      <th>Links</th>\n",
       "      <th>Images</th>\n",
       "    </tr>\n",
       "  </thead>\n",
       "  <tbody>\n",
       "    <tr>\n",
       "      <th>0</th>\n",
       "      <td>Imran calls on long march participants to reac...</td>\n",
       "      <td></td>\n",
       "      <td>**</td>\n",
       "      <td>\"I will meet you there,\" says the PTI chief.\\n...</td>\n",
       "      <td>https://www.dawn.com/news/1717321/imran-calls-...</td>\n",
       "      <td>https://i.dawn.com/medium/2022/11/19172041ef88...</td>\n",
       "    </tr>\n",
       "    <tr>\n",
       "      <th>1</th>\n",
       "      <td>Pakistan will not default, will make bond paym...</td>\n",
       "      <td></td>\n",
       "      <td>**</td>\n",
       "      <td>Requests people to avoid spreading rumours or ...</td>\n",
       "      <td>https://www.dawn.com/news/1721879/pakistan-wil...</td>\n",
       "      <td>https://i.dawn.com/medium/2022/11/19164841e585...</td>\n",
       "    </tr>\n",
       "    <tr>\n",
       "      <th>2</th>\n",
       "      <td>PPP’s Chandio brothers indicted in Mehar tripl...</td>\n",
       "      <td></td>\n",
       "      <td>**</td>\n",
       "      <td>Court summons witnesses in next hearing on Dec...</td>\n",
       "      <td>https://www.dawn.com/news/1721876/ppps-chandio...</td>\n",
       "      <td>https://i.dawn.com/medium/2022/11/191623231363...</td>\n",
       "    </tr>\n",
       "    <tr>\n",
       "      <th>3</th>\n",
       "      <td>In report to IHC, capital police highlight ris...</td>\n",
       "      <td></td>\n",
       "      <td>**</td>\n",
       "      <td>Report suggests \"financial/bank guarantees\" be...</td>\n",
       "      <td>https://www.dawn.com/news/1721867/in-report-to...</td>\n",
       "      <td>https://i.dawn.com/medium/2022/11/191505364972...</td>\n",
       "    </tr>\n",
       "    <tr>\n",
       "      <th>4</th>\n",
       "      <td>Karachi police disperse protesting Islamia Col...</td>\n",
       "      <td></td>\n",
       "      <td>**</td>\n",
       "      <td>Islami Jamiat Talaba claims five students were...</td>\n",
       "      <td>https://www.dawn.com/news/1721874/karachi-poli...</td>\n",
       "      <td>https://i.dawn.com/medium/2022/11/1915395818a6...</td>\n",
       "    </tr>\n",
       "  </tbody>\n",
       "</table>\n",
       "</div>"
      ],
      "text/plain": [
       "                                              Titles Author Names  \\\n",
       "0  Imran calls on long march participants to reac...                \n",
       "1  Pakistan will not default, will make bond paym...                \n",
       "2  PPP’s Chandio brothers indicted in Mehar tripl...                \n",
       "3  In report to IHC, capital police highlight ris...                \n",
       "4  Karachi police disperse protesting Islamia Col...                \n",
       "\n",
       "  Published Time                                    First Paragraph  \\\n",
       "0             **  \"I will meet you there,\" says the PTI chief.\\n...   \n",
       "1             **  Requests people to avoid spreading rumours or ...   \n",
       "2             **  Court summons witnesses in next hearing on Dec...   \n",
       "3             **  Report suggests \"financial/bank guarantees\" be...   \n",
       "4             **  Islami Jamiat Talaba claims five students were...   \n",
       "\n",
       "                                               Links  \\\n",
       "0  https://www.dawn.com/news/1717321/imran-calls-...   \n",
       "1  https://www.dawn.com/news/1721879/pakistan-wil...   \n",
       "2  https://www.dawn.com/news/1721876/ppps-chandio...   \n",
       "3  https://www.dawn.com/news/1721867/in-report-to...   \n",
       "4  https://www.dawn.com/news/1721874/karachi-poli...   \n",
       "\n",
       "                                              Images  \n",
       "0  https://i.dawn.com/medium/2022/11/19172041ef88...  \n",
       "1  https://i.dawn.com/medium/2022/11/19164841e585...  \n",
       "2  https://i.dawn.com/medium/2022/11/191623231363...  \n",
       "3  https://i.dawn.com/medium/2022/11/191505364972...  \n",
       "4  https://i.dawn.com/medium/2022/11/1915395818a6...  "
      ]
     },
     "execution_count": 15,
     "metadata": {},
     "output_type": "execute_result"
    }
   ],
   "source": [
    "dawn_df.head()"
   ]
  },
  {
   "cell_type": "code",
   "execution_count": 16,
   "metadata": {
    "colab": {
     "base_uri": "https://localhost:8080/",
     "height": 143
    },
    "executionInfo": {
     "elapsed": 13,
     "status": "ok",
     "timestamp": 1667048575942,
     "user": {
      "displayName": "Faseeh Ur Rehman",
      "userId": "05166873358430261340"
     },
     "user_tz": -300
    },
    "id": "PNw29zW51d_O",
    "outputId": "ffc8df8b-6733-47a0-ad74-9d20d85f5566"
   },
   "outputs": [
    {
     "data": {
      "text/html": [
       "<div>\n",
       "<style scoped>\n",
       "    .dataframe tbody tr th:only-of-type {\n",
       "        vertical-align: middle;\n",
       "    }\n",
       "\n",
       "    .dataframe tbody tr th {\n",
       "        vertical-align: top;\n",
       "    }\n",
       "\n",
       "    .dataframe thead th {\n",
       "        text-align: right;\n",
       "    }\n",
       "</style>\n",
       "<table border=\"1\" class=\"dataframe\">\n",
       "  <thead>\n",
       "    <tr style=\"text-align: right;\">\n",
       "      <th></th>\n",
       "      <th>Titles</th>\n",
       "      <th>Author Names</th>\n",
       "      <th>Published Time</th>\n",
       "      <th>First Paragraph</th>\n",
       "      <th>Links</th>\n",
       "      <th>Images</th>\n",
       "    </tr>\n",
       "  </thead>\n",
       "  <tbody>\n",
       "    <tr>\n",
       "      <th>177</th>\n",
       "      <td>Poet's Corner\\n</td>\n",
       "      <td></td>\n",
       "      <td>**</td>\n",
       "      <td></td>\n",
       "      <td>https://www.dawn.com/news/1721858/poets-corner</td>\n",
       "      <td></td>\n",
       "    </tr>\n",
       "    <tr>\n",
       "      <th>178</th>\n",
       "      <td>Website review: All the related words\\n</td>\n",
       "      <td></td>\n",
       "      <td>**</td>\n",
       "      <td></td>\n",
       "      <td>https://www.dawn.com/news/1721856/website-revi...</td>\n",
       "      <td></td>\n",
       "    </tr>\n",
       "    <tr>\n",
       "      <th>179</th>\n",
       "      <td>Cook-it-yourself: Malt caffè mocha\\n</td>\n",
       "      <td></td>\n",
       "      <td>**</td>\n",
       "      <td></td>\n",
       "      <td>https://www.dawn.com/news/1721855/cook-it-your...</td>\n",
       "      <td></td>\n",
       "    </tr>\n",
       "  </tbody>\n",
       "</table>\n",
       "</div>"
      ],
      "text/plain": [
       "                                      Titles Author Names Published Time  \\\n",
       "177                          Poet's Corner\\n                          **   \n",
       "178  Website review: All the related words\\n                          **   \n",
       "179     Cook-it-yourself: Malt caffè mocha\\n                          **   \n",
       "\n",
       "    First Paragraph                                              Links Images  \n",
       "177                     https://www.dawn.com/news/1721858/poets-corner         \n",
       "178                  https://www.dawn.com/news/1721856/website-revi...         \n",
       "179                  https://www.dawn.com/news/1721855/cook-it-your...         "
      ]
     },
     "execution_count": 16,
     "metadata": {},
     "output_type": "execute_result"
    }
   ],
   "source": [
    "dawn_df.tail(3)"
   ]
  },
  {
   "cell_type": "code",
   "execution_count": 17,
   "metadata": {
    "colab": {
     "base_uri": "https://localhost:8080/",
     "height": 175
    },
    "executionInfo": {
     "elapsed": 20,
     "status": "ok",
     "timestamp": 1667048620164,
     "user": {
      "displayName": "Faseeh Ur Rehman",
      "userId": "05166873358430261340"
     },
     "user_tz": -300
    },
    "id": "3hJfkczY1o_w",
    "outputId": "162c639e-51aa-4b87-b15b-c8627b0c7faf"
   },
   "outputs": [
    {
     "data": {
      "text/html": [
       "<div>\n",
       "<style scoped>\n",
       "    .dataframe tbody tr th:only-of-type {\n",
       "        vertical-align: middle;\n",
       "    }\n",
       "\n",
       "    .dataframe tbody tr th {\n",
       "        vertical-align: top;\n",
       "    }\n",
       "\n",
       "    .dataframe thead th {\n",
       "        text-align: right;\n",
       "    }\n",
       "</style>\n",
       "<table border=\"1\" class=\"dataframe\">\n",
       "  <thead>\n",
       "    <tr style=\"text-align: right;\">\n",
       "      <th></th>\n",
       "      <th>Titles</th>\n",
       "      <th>Author Names</th>\n",
       "      <th>Published Time</th>\n",
       "      <th>First Paragraph</th>\n",
       "      <th>Links</th>\n",
       "      <th>Images</th>\n",
       "    </tr>\n",
       "  </thead>\n",
       "  <tbody>\n",
       "    <tr>\n",
       "      <th>count</th>\n",
       "      <td>180</td>\n",
       "      <td>180</td>\n",
       "      <td>180</td>\n",
       "      <td>180</td>\n",
       "      <td>180</td>\n",
       "      <td>180</td>\n",
       "    </tr>\n",
       "    <tr>\n",
       "      <th>unique</th>\n",
       "      <td>105</td>\n",
       "      <td>20</td>\n",
       "      <td>1</td>\n",
       "      <td>35</td>\n",
       "      <td>141</td>\n",
       "      <td>71</td>\n",
       "    </tr>\n",
       "    <tr>\n",
       "      <th>top</th>\n",
       "      <td></td>\n",
       "      <td></td>\n",
       "      <td>**</td>\n",
       "      <td></td>\n",
       "      <td>https://www.dawn.com/news/1721598/lky-on-not-c...</td>\n",
       "      <td></td>\n",
       "    </tr>\n",
       "    <tr>\n",
       "      <th>freq</th>\n",
       "      <td>59</td>\n",
       "      <td>160</td>\n",
       "      <td>180</td>\n",
       "      <td>145</td>\n",
       "      <td>4</td>\n",
       "      <td>107</td>\n",
       "    </tr>\n",
       "  </tbody>\n",
       "</table>\n",
       "</div>"
      ],
      "text/plain": [
       "       Titles Author Names Published Time First Paragraph  \\\n",
       "count     180          180            180             180   \n",
       "unique    105           20              1              35   \n",
       "top                                    **                   \n",
       "freq       59          160            180             145   \n",
       "\n",
       "                                                    Links Images  \n",
       "count                                                 180    180  \n",
       "unique                                                141     71  \n",
       "top     https://www.dawn.com/news/1721598/lky-on-not-c...         \n",
       "freq                                                    4    107  "
      ]
     },
     "execution_count": 17,
     "metadata": {},
     "output_type": "execute_result"
    }
   ],
   "source": [
    "dawn_df.describe()"
   ]
  },
  {
   "cell_type": "code",
   "execution_count": 18,
   "metadata": {
    "colab": {
     "base_uri": "https://localhost:8080/"
    },
    "executionInfo": {
     "elapsed": 10,
     "status": "ok",
     "timestamp": 1667048631609,
     "user": {
      "displayName": "Faseeh Ur Rehman",
      "userId": "05166873358430261340"
     },
     "user_tz": -300
    },
    "id": "B3sAL8NU1sY8",
    "outputId": "28af802b-d6f6-43af-aac9-40bbfebf13e7"
   },
   "outputs": [
    {
     "name": "stdout",
     "output_type": "stream",
     "text": [
      "<class 'pandas.core.frame.DataFrame'>\n",
      "RangeIndex: 180 entries, 0 to 179\n",
      "Data columns (total 6 columns):\n",
      " #   Column           Non-Null Count  Dtype \n",
      "---  ------           --------------  ----- \n",
      " 0   Titles           180 non-null    object\n",
      " 1   Author Names     180 non-null    object\n",
      " 2   Published Time   180 non-null    object\n",
      " 3   First Paragraph  180 non-null    object\n",
      " 4   Links            180 non-null    object\n",
      " 5   Images           180 non-null    object\n",
      "dtypes: object(6)\n",
      "memory usage: 8.6+ KB\n"
     ]
    }
   ],
   "source": [
    "dawn_df.info()"
   ]
  },
  {
   "cell_type": "code",
   "execution_count": 19,
   "metadata": {
    "colab": {
     "base_uri": "https://localhost:8080/",
     "height": 424
    },
    "executionInfo": {
     "elapsed": 20,
     "status": "ok",
     "timestamp": 1667048659668,
     "user": {
      "displayName": "Faseeh Ur Rehman",
      "userId": "05166873358430261340"
     },
     "user_tz": -300
    },
    "id": "tG2RqrXi12kl",
    "outputId": "46987004-12a5-4486-f559-88e6b9215568"
   },
   "outputs": [
    {
     "data": {
      "text/html": [
       "<div>\n",
       "<style scoped>\n",
       "    .dataframe tbody tr th:only-of-type {\n",
       "        vertical-align: middle;\n",
       "    }\n",
       "\n",
       "    .dataframe tbody tr th {\n",
       "        vertical-align: top;\n",
       "    }\n",
       "\n",
       "    .dataframe thead th {\n",
       "        text-align: right;\n",
       "    }\n",
       "</style>\n",
       "<table border=\"1\" class=\"dataframe\">\n",
       "  <thead>\n",
       "    <tr style=\"text-align: right;\">\n",
       "      <th></th>\n",
       "      <th>Titles</th>\n",
       "      <th>Author Names</th>\n",
       "      <th>Published Time</th>\n",
       "      <th>First Paragraph</th>\n",
       "      <th>Links</th>\n",
       "      <th>Images</th>\n",
       "    </tr>\n",
       "  </thead>\n",
       "  <tbody>\n",
       "    <tr>\n",
       "      <th>0</th>\n",
       "      <td>False</td>\n",
       "      <td>False</td>\n",
       "      <td>False</td>\n",
       "      <td>False</td>\n",
       "      <td>False</td>\n",
       "      <td>False</td>\n",
       "    </tr>\n",
       "    <tr>\n",
       "      <th>1</th>\n",
       "      <td>False</td>\n",
       "      <td>False</td>\n",
       "      <td>False</td>\n",
       "      <td>False</td>\n",
       "      <td>False</td>\n",
       "      <td>False</td>\n",
       "    </tr>\n",
       "    <tr>\n",
       "      <th>2</th>\n",
       "      <td>False</td>\n",
       "      <td>False</td>\n",
       "      <td>False</td>\n",
       "      <td>False</td>\n",
       "      <td>False</td>\n",
       "      <td>False</td>\n",
       "    </tr>\n",
       "    <tr>\n",
       "      <th>3</th>\n",
       "      <td>False</td>\n",
       "      <td>False</td>\n",
       "      <td>False</td>\n",
       "      <td>False</td>\n",
       "      <td>False</td>\n",
       "      <td>False</td>\n",
       "    </tr>\n",
       "    <tr>\n",
       "      <th>4</th>\n",
       "      <td>False</td>\n",
       "      <td>False</td>\n",
       "      <td>False</td>\n",
       "      <td>False</td>\n",
       "      <td>False</td>\n",
       "      <td>False</td>\n",
       "    </tr>\n",
       "    <tr>\n",
       "      <th>...</th>\n",
       "      <td>...</td>\n",
       "      <td>...</td>\n",
       "      <td>...</td>\n",
       "      <td>...</td>\n",
       "      <td>...</td>\n",
       "      <td>...</td>\n",
       "    </tr>\n",
       "    <tr>\n",
       "      <th>175</th>\n",
       "      <td>False</td>\n",
       "      <td>False</td>\n",
       "      <td>False</td>\n",
       "      <td>False</td>\n",
       "      <td>False</td>\n",
       "      <td>False</td>\n",
       "    </tr>\n",
       "    <tr>\n",
       "      <th>176</th>\n",
       "      <td>False</td>\n",
       "      <td>False</td>\n",
       "      <td>False</td>\n",
       "      <td>False</td>\n",
       "      <td>False</td>\n",
       "      <td>False</td>\n",
       "    </tr>\n",
       "    <tr>\n",
       "      <th>177</th>\n",
       "      <td>False</td>\n",
       "      <td>False</td>\n",
       "      <td>False</td>\n",
       "      <td>False</td>\n",
       "      <td>False</td>\n",
       "      <td>False</td>\n",
       "    </tr>\n",
       "    <tr>\n",
       "      <th>178</th>\n",
       "      <td>False</td>\n",
       "      <td>False</td>\n",
       "      <td>False</td>\n",
       "      <td>False</td>\n",
       "      <td>False</td>\n",
       "      <td>False</td>\n",
       "    </tr>\n",
       "    <tr>\n",
       "      <th>179</th>\n",
       "      <td>False</td>\n",
       "      <td>False</td>\n",
       "      <td>False</td>\n",
       "      <td>False</td>\n",
       "      <td>False</td>\n",
       "      <td>False</td>\n",
       "    </tr>\n",
       "  </tbody>\n",
       "</table>\n",
       "<p>180 rows × 6 columns</p>\n",
       "</div>"
      ],
      "text/plain": [
       "     Titles  Author Names  Published Time  First Paragraph  Links  Images\n",
       "0     False         False           False            False  False   False\n",
       "1     False         False           False            False  False   False\n",
       "2     False         False           False            False  False   False\n",
       "3     False         False           False            False  False   False\n",
       "4     False         False           False            False  False   False\n",
       "..      ...           ...             ...              ...    ...     ...\n",
       "175   False         False           False            False  False   False\n",
       "176   False         False           False            False  False   False\n",
       "177   False         False           False            False  False   False\n",
       "178   False         False           False            False  False   False\n",
       "179   False         False           False            False  False   False\n",
       "\n",
       "[180 rows x 6 columns]"
      ]
     },
     "execution_count": 19,
     "metadata": {},
     "output_type": "execute_result"
    }
   ],
   "source": [
    "dawn_df.isnull()"
   ]
  },
  {
   "cell_type": "code",
   "execution_count": 20,
   "metadata": {
    "colab": {
     "base_uri": "https://localhost:8080/",
     "height": 693
    },
    "executionInfo": {
     "elapsed": 500,
     "status": "ok",
     "timestamp": 1667048691740,
     "user": {
      "displayName": "Faseeh Ur Rehman",
      "userId": "05166873358430261340"
     },
     "user_tz": -300
    },
    "id": "4PHYrhIL16ih",
    "outputId": "17626bc9-d656-4983-e7c9-e5b23d7a2484"
   },
   "outputs": [
    {
     "data": {
      "text/html": [
       "<div>\n",
       "<style scoped>\n",
       "    .dataframe tbody tr th:only-of-type {\n",
       "        vertical-align: middle;\n",
       "    }\n",
       "\n",
       "    .dataframe tbody tr th {\n",
       "        vertical-align: top;\n",
       "    }\n",
       "\n",
       "    .dataframe thead th {\n",
       "        text-align: right;\n",
       "    }\n",
       "</style>\n",
       "<table border=\"1\" class=\"dataframe\">\n",
       "  <thead>\n",
       "    <tr style=\"text-align: right;\">\n",
       "      <th></th>\n",
       "      <th>Titles</th>\n",
       "      <th>Author Names</th>\n",
       "      <th>Published Time</th>\n",
       "      <th>First Paragraph</th>\n",
       "      <th>Links</th>\n",
       "      <th>Images</th>\n",
       "    </tr>\n",
       "  </thead>\n",
       "  <tbody>\n",
       "    <tr>\n",
       "      <th>0</th>\n",
       "      <td>Imran calls on long march participants to reac...</td>\n",
       "      <td>NaN</td>\n",
       "      <td>**</td>\n",
       "      <td>\"I will meet you there,\" says the PTI chief.\\n...</td>\n",
       "      <td>https://www.dawn.com/news/1717321/imran-calls-...</td>\n",
       "      <td>https://i.dawn.com/medium/2022/11/19172041ef88...</td>\n",
       "    </tr>\n",
       "    <tr>\n",
       "      <th>1</th>\n",
       "      <td>Pakistan will not default, will make bond paym...</td>\n",
       "      <td>NaN</td>\n",
       "      <td>**</td>\n",
       "      <td>Requests people to avoid spreading rumours or ...</td>\n",
       "      <td>https://www.dawn.com/news/1721879/pakistan-wil...</td>\n",
       "      <td>https://i.dawn.com/medium/2022/11/19164841e585...</td>\n",
       "    </tr>\n",
       "    <tr>\n",
       "      <th>2</th>\n",
       "      <td>PPP’s Chandio brothers indicted in Mehar tripl...</td>\n",
       "      <td>NaN</td>\n",
       "      <td>**</td>\n",
       "      <td>Court summons witnesses in next hearing on Dec...</td>\n",
       "      <td>https://www.dawn.com/news/1721876/ppps-chandio...</td>\n",
       "      <td>https://i.dawn.com/medium/2022/11/191623231363...</td>\n",
       "    </tr>\n",
       "    <tr>\n",
       "      <th>3</th>\n",
       "      <td>In report to IHC, capital police highlight ris...</td>\n",
       "      <td>NaN</td>\n",
       "      <td>**</td>\n",
       "      <td>Report suggests \"financial/bank guarantees\" be...</td>\n",
       "      <td>https://www.dawn.com/news/1721867/in-report-to...</td>\n",
       "      <td>https://i.dawn.com/medium/2022/11/191505364972...</td>\n",
       "    </tr>\n",
       "    <tr>\n",
       "      <th>4</th>\n",
       "      <td>Karachi police disperse protesting Islamia Col...</td>\n",
       "      <td>NaN</td>\n",
       "      <td>**</td>\n",
       "      <td>Islami Jamiat Talaba claims five students were...</td>\n",
       "      <td>https://www.dawn.com/news/1721874/karachi-poli...</td>\n",
       "      <td>https://i.dawn.com/medium/2022/11/1915395818a6...</td>\n",
       "    </tr>\n",
       "    <tr>\n",
       "      <th>...</th>\n",
       "      <td>...</td>\n",
       "      <td>...</td>\n",
       "      <td>...</td>\n",
       "      <td>...</td>\n",
       "      <td>...</td>\n",
       "      <td>...</td>\n",
       "    </tr>\n",
       "    <tr>\n",
       "      <th>175</th>\n",
       "      <td>FIFA World Cup Qatar 2022: The fun begins\\n</td>\n",
       "      <td>NaN</td>\n",
       "      <td>**</td>\n",
       "      <td>NaN</td>\n",
       "      <td>https://www.dawn.com/news/1721861/fifa-world-c...</td>\n",
       "      <td></td>\n",
       "    </tr>\n",
       "    <tr>\n",
       "      <th>176</th>\n",
       "      <td>Mailbox\\n</td>\n",
       "      <td>NaN</td>\n",
       "      <td>**</td>\n",
       "      <td>NaN</td>\n",
       "      <td>https://www.dawn.com/news/1721860/mailbox</td>\n",
       "      <td></td>\n",
       "    </tr>\n",
       "    <tr>\n",
       "      <th>177</th>\n",
       "      <td>Poet's Corner\\n</td>\n",
       "      <td>NaN</td>\n",
       "      <td>**</td>\n",
       "      <td>NaN</td>\n",
       "      <td>https://www.dawn.com/news/1721858/poets-corner</td>\n",
       "      <td></td>\n",
       "    </tr>\n",
       "    <tr>\n",
       "      <th>178</th>\n",
       "      <td>Website review: All the related words\\n</td>\n",
       "      <td>NaN</td>\n",
       "      <td>**</td>\n",
       "      <td>NaN</td>\n",
       "      <td>https://www.dawn.com/news/1721856/website-revi...</td>\n",
       "      <td></td>\n",
       "    </tr>\n",
       "    <tr>\n",
       "      <th>179</th>\n",
       "      <td>Cook-it-yourself: Malt caffè mocha\\n</td>\n",
       "      <td>NaN</td>\n",
       "      <td>**</td>\n",
       "      <td>NaN</td>\n",
       "      <td>https://www.dawn.com/news/1721855/cook-it-your...</td>\n",
       "      <td></td>\n",
       "    </tr>\n",
       "  </tbody>\n",
       "</table>\n",
       "<p>180 rows × 6 columns</p>\n",
       "</div>"
      ],
      "text/plain": [
       "                                                Titles Author Names  \\\n",
       "0    Imran calls on long march participants to reac...          NaN   \n",
       "1    Pakistan will not default, will make bond paym...          NaN   \n",
       "2    PPP’s Chandio brothers indicted in Mehar tripl...          NaN   \n",
       "3    In report to IHC, capital police highlight ris...          NaN   \n",
       "4    Karachi police disperse protesting Islamia Col...          NaN   \n",
       "..                                                 ...          ...   \n",
       "175        FIFA World Cup Qatar 2022: The fun begins\\n          NaN   \n",
       "176                                          Mailbox\\n          NaN   \n",
       "177                                    Poet's Corner\\n          NaN   \n",
       "178            Website review: All the related words\\n          NaN   \n",
       "179               Cook-it-yourself: Malt caffè mocha\\n          NaN   \n",
       "\n",
       "    Published Time                                    First Paragraph  \\\n",
       "0               **  \"I will meet you there,\" says the PTI chief.\\n...   \n",
       "1               **  Requests people to avoid spreading rumours or ...   \n",
       "2               **  Court summons witnesses in next hearing on Dec...   \n",
       "3               **  Report suggests \"financial/bank guarantees\" be...   \n",
       "4               **  Islami Jamiat Talaba claims five students were...   \n",
       "..             ...                                                ...   \n",
       "175             **                                                NaN   \n",
       "176             **                                                NaN   \n",
       "177             **                                                NaN   \n",
       "178             **                                                NaN   \n",
       "179             **                                                NaN   \n",
       "\n",
       "                                                 Links  \\\n",
       "0    https://www.dawn.com/news/1717321/imran-calls-...   \n",
       "1    https://www.dawn.com/news/1721879/pakistan-wil...   \n",
       "2    https://www.dawn.com/news/1721876/ppps-chandio...   \n",
       "3    https://www.dawn.com/news/1721867/in-report-to...   \n",
       "4    https://www.dawn.com/news/1721874/karachi-poli...   \n",
       "..                                                 ...   \n",
       "175  https://www.dawn.com/news/1721861/fifa-world-c...   \n",
       "176          https://www.dawn.com/news/1721860/mailbox   \n",
       "177     https://www.dawn.com/news/1721858/poets-corner   \n",
       "178  https://www.dawn.com/news/1721856/website-revi...   \n",
       "179  https://www.dawn.com/news/1721855/cook-it-your...   \n",
       "\n",
       "                                                Images  \n",
       "0    https://i.dawn.com/medium/2022/11/19172041ef88...  \n",
       "1    https://i.dawn.com/medium/2022/11/19164841e585...  \n",
       "2    https://i.dawn.com/medium/2022/11/191623231363...  \n",
       "3    https://i.dawn.com/medium/2022/11/191505364972...  \n",
       "4    https://i.dawn.com/medium/2022/11/1915395818a6...  \n",
       "..                                                 ...  \n",
       "175                                                     \n",
       "176                                                     \n",
       "177                                                     \n",
       "178                                                     \n",
       "179                                                     \n",
       "\n",
       "[180 rows x 6 columns]"
      ]
     },
     "execution_count": 20,
     "metadata": {},
     "output_type": "execute_result"
    }
   ],
   "source": [
    "import numpy as np\n",
    "df = dawn_df.replace(r'^s*$', np.nan, regex=True) # replacing empty cells with NaN values\n",
    "df"
   ]
  },
  {
   "cell_type": "code",
   "execution_count": 21,
   "metadata": {
    "colab": {
     "base_uri": "https://localhost:8080/"
    },
    "executionInfo": {
     "elapsed": 7,
     "status": "ok",
     "timestamp": 1667048721757,
     "user": {
      "displayName": "Faseeh Ur Rehman",
      "userId": "05166873358430261340"
     },
     "user_tz": -300
    },
    "id": "EK0cqrH52CMf",
    "outputId": "d977e3b5-5fc7-4c5b-d3ed-a2bb6840bb92"
   },
   "outputs": [
    {
     "data": {
      "text/plain": [
       "(180, 6)"
      ]
     },
     "execution_count": 21,
     "metadata": {},
     "output_type": "execute_result"
    }
   ],
   "source": [
    "df.shape"
   ]
  },
  {
   "cell_type": "code",
   "execution_count": 22,
   "metadata": {
    "executionInfo": {
     "elapsed": 8,
     "status": "ok",
     "timestamp": 1667048732916,
     "user": {
      "displayName": "Faseeh Ur Rehman",
      "userId": "05166873358430261340"
     },
     "user_tz": -300
    },
    "id": "VflcgNER2JiP"
   },
   "outputs": [],
   "source": [
    "df.to_csv('dawn_articles.csv')"
   ]
  },
  {
   "cell_type": "markdown",
   "metadata": {
    "id": "7BV2a7PzktNn"
   },
   "source": [
    "## 2 - Top Science Fiction Movies"
   ]
  },
  {
   "cell_type": "code",
   "execution_count": 23,
   "metadata": {
    "id": "Rkkfzr90kul4"
   },
   "outputs": [],
   "source": [
    "webpage = requests.get('https://www.imdb.com/search/title/?genres=sci-fi&explore=title_type,genres&pf_rd_m=A2FGELUUNOQJNL&pf_rd_p=3396781f-d87f-4fac-8694-c56ce6f490fe&pf_rd_r=8J8TDTSFDKRN3C9SVGCP&pf_rd_s=center-1&pf_rd_t=15051&pf_rd_i=genre&ref_=ft_gnr_pr1_i_2').text"
   ]
  },
  {
   "cell_type": "code",
   "execution_count": 24,
   "metadata": {
    "id": "xoAGGU8fkylG"
   },
   "outputs": [],
   "source": [
    "soup=BeautifulSoup(webpage,'html.parser')"
   ]
  },
  {
   "cell_type": "code",
   "execution_count": 25,
   "metadata": {
    "id": "wrRErU6hk0eH"
   },
   "outputs": [],
   "source": [
    "movie_names = []\n",
    "year = []\n",
    "genre = []\n",
    "rating = []"
   ]
  },
  {
   "cell_type": "code",
   "execution_count": 26,
   "metadata": {
    "id": "a1OwtLyIk10Z"
   },
   "outputs": [],
   "source": [
    "movies_data = soup.find_all('div', class_ = 'lister-item mode-advanced')"
   ]
  },
  {
   "cell_type": "code",
   "execution_count": 27,
   "metadata": {
    "id": "vmT57mjTk4If"
   },
   "outputs": [],
   "source": [
    "for i in movies_data:\n",
    "    name = i.h3.a.text\n",
    "    movie_names.append(name)"
   ]
  },
  {
   "cell_type": "code",
   "execution_count": 28,
   "metadata": {
    "colab": {
     "base_uri": "https://localhost:8080/"
    },
    "executionInfo": {
     "elapsed": 14,
     "status": "ok",
     "timestamp": 1667027416638,
     "user": {
      "displayName": "Faseeh Ur Rehman",
      "userId": "05166873358430261340"
     },
     "user_tz": -300
    },
    "id": "KJLRGsmzk5ty",
    "outputId": "c1f830fb-c2ad-4252-e802-b02b5d420368"
   },
   "outputs": [
    {
     "data": {
      "text/plain": [
       "50"
      ]
     },
     "execution_count": 28,
     "metadata": {},
     "output_type": "execute_result"
    }
   ],
   "source": [
    "len(movie_names)"
   ]
  },
  {
   "cell_type": "code",
   "execution_count": 29,
   "metadata": {
    "id": "v-SyxKU1k7GF"
   },
   "outputs": [],
   "source": [
    "for i in movies_data:\n",
    "    yr = i.h3.find('span', class_= 'lister-item-year text-muted unbold').text.replace('(','').replace(')','')\n",
    "    year.append(yr)"
   ]
  },
  {
   "cell_type": "code",
   "execution_count": 30,
   "metadata": {
    "colab": {
     "base_uri": "https://localhost:8080/"
    },
    "executionInfo": {
     "elapsed": 16,
     "status": "ok",
     "timestamp": 1667027427689,
     "user": {
      "displayName": "Faseeh Ur Rehman",
      "userId": "05166873358430261340"
     },
     "user_tz": -300
    },
    "id": "aEPO3P0xk8ft",
    "outputId": "b76258a4-5ee2-40e1-ad94-11c368dbf04c"
   },
   "outputs": [
    {
     "data": {
      "text/plain": [
       "50"
      ]
     },
     "execution_count": 30,
     "metadata": {},
     "output_type": "execute_result"
    }
   ],
   "source": [
    "len(year)"
   ]
  },
  {
   "cell_type": "code",
   "execution_count": 31,
   "metadata": {
    "id": "xcbs9nSBk9yB"
   },
   "outputs": [],
   "source": [
    "for i in movies_data:\n",
    "    gn = i.p.find('span', class_ = 'genre').text.replace('\\n','')\n",
    "    genre.append(gn)"
   ]
  },
  {
   "cell_type": "code",
   "execution_count": 32,
   "metadata": {
    "colab": {
     "base_uri": "https://localhost:8080/"
    },
    "executionInfo": {
     "elapsed": 5,
     "status": "ok",
     "timestamp": 1667027441158,
     "user": {
      "displayName": "Faseeh Ur Rehman",
      "userId": "05166873358430261340"
     },
     "user_tz": -300
    },
    "id": "Q_gBKjf8k_P7",
    "outputId": "108e4638-8b2c-46e8-c771-7990f5a64269"
   },
   "outputs": [
    {
     "data": {
      "text/plain": [
       "50"
      ]
     },
     "execution_count": 32,
     "metadata": {},
     "output_type": "execute_result"
    }
   ],
   "source": [
    "len(genre)"
   ]
  },
  {
   "cell_type": "code",
   "execution_count": 33,
   "metadata": {
    "id": "Ua39Q_AGlA9R"
   },
   "outputs": [],
   "source": [
    "for i in movies_data:\n",
    "    rt = i.find('div', class_= 'inline-block ratings-imdb-rating').text.replace('\\n','') if i.find('div', class_= 'inline-block ratings-imdb-rating') else '^^'\n",
    "    rating.append(rt)"
   ]
  },
  {
   "cell_type": "code",
   "execution_count": 34,
   "metadata": {
    "colab": {
     "base_uri": "https://localhost:8080/"
    },
    "executionInfo": {
     "elapsed": 15,
     "status": "ok",
     "timestamp": 1667027455829,
     "user": {
      "displayName": "Faseeh Ur Rehman",
      "userId": "05166873358430261340"
     },
     "user_tz": -300
    },
    "id": "hIuT7WCulDV0",
    "outputId": "07d23c8b-1412-443a-d0d8-299e17cc2e0f"
   },
   "outputs": [
    {
     "data": {
      "text/plain": [
       "50"
      ]
     },
     "execution_count": 34,
     "metadata": {},
     "output_type": "execute_result"
    }
   ],
   "source": [
    "len(rating)"
   ]
  },
  {
   "cell_type": "code",
   "execution_count": 35,
   "metadata": {
    "id": "Qr2yRsmVlEpz"
   },
   "outputs": [],
   "source": [
    "movies_df = pd.DataFrame({'Name of Movie':movie_names,'Year of Release':year,'Genre':genre,'Rating':rating})"
   ]
  },
  {
   "cell_type": "code",
   "execution_count": 36,
   "metadata": {
    "colab": {
     "base_uri": "https://localhost:8080/",
     "height": 206
    },
    "executionInfo": {
     "elapsed": 26,
     "status": "ok",
     "timestamp": 1667027472274,
     "user": {
      "displayName": "Faseeh Ur Rehman",
      "userId": "05166873358430261340"
     },
     "user_tz": -300
    },
    "id": "9VqCattilG1a",
    "outputId": "6c5ba3e7-1399-427d-d476-790348c4fcde"
   },
   "outputs": [
    {
     "data": {
      "text/html": [
       "<div>\n",
       "<style scoped>\n",
       "    .dataframe tbody tr th:only-of-type {\n",
       "        vertical-align: middle;\n",
       "    }\n",
       "\n",
       "    .dataframe tbody tr th {\n",
       "        vertical-align: top;\n",
       "    }\n",
       "\n",
       "    .dataframe thead th {\n",
       "        text-align: right;\n",
       "    }\n",
       "</style>\n",
       "<table border=\"1\" class=\"dataframe\">\n",
       "  <thead>\n",
       "    <tr style=\"text-align: right;\">\n",
       "      <th></th>\n",
       "      <th>Name of Movie</th>\n",
       "      <th>Year of Release</th>\n",
       "      <th>Genre</th>\n",
       "      <th>Rating</th>\n",
       "    </tr>\n",
       "  </thead>\n",
       "  <tbody>\n",
       "    <tr>\n",
       "      <th>0</th>\n",
       "      <td>Black Panther: Wakanda Forever</td>\n",
       "      <td>2022</td>\n",
       "      <td>Action, Adventure, Drama</td>\n",
       "      <td>7.3</td>\n",
       "    </tr>\n",
       "    <tr>\n",
       "      <th>1</th>\n",
       "      <td>Andor</td>\n",
       "      <td>2022–</td>\n",
       "      <td>Action, Adventure, Drama</td>\n",
       "      <td>8.3</td>\n",
       "    </tr>\n",
       "    <tr>\n",
       "      <th>2</th>\n",
       "      <td>The Peripheral</td>\n",
       "      <td>2022–</td>\n",
       "      <td>Drama, Mystery, Sci-Fi</td>\n",
       "      <td>8.2</td>\n",
       "    </tr>\n",
       "    <tr>\n",
       "      <th>3</th>\n",
       "      <td>Manifest</td>\n",
       "      <td>2018–</td>\n",
       "      <td>Drama, Mystery, Sci-Fi</td>\n",
       "      <td>7.1</td>\n",
       "    </tr>\n",
       "    <tr>\n",
       "      <th>4</th>\n",
       "      <td>Black Adam</td>\n",
       "      <td>2022</td>\n",
       "      <td>Action, Adventure, Fantasy</td>\n",
       "      <td>6.9</td>\n",
       "    </tr>\n",
       "  </tbody>\n",
       "</table>\n",
       "</div>"
      ],
      "text/plain": [
       "                    Name of Movie Year of Release  \\\n",
       "0  Black Panther: Wakanda Forever            2022   \n",
       "1                           Andor          2022–    \n",
       "2                  The Peripheral          2022–    \n",
       "3                        Manifest          2018–    \n",
       "4                      Black Adam            2022   \n",
       "\n",
       "                                    Genre Rating  \n",
       "0    Action, Adventure, Drama                7.3  \n",
       "1    Action, Adventure, Drama                8.3  \n",
       "2      Drama, Mystery, Sci-Fi                8.2  \n",
       "3      Drama, Mystery, Sci-Fi                7.1  \n",
       "4  Action, Adventure, Fantasy                6.9  "
      ]
     },
     "execution_count": 36,
     "metadata": {},
     "output_type": "execute_result"
    }
   ],
   "source": [
    "movies_df.head()"
   ]
  },
  {
   "cell_type": "code",
   "execution_count": 37,
   "metadata": {
    "id": "A-ZRsc1ulIt_"
   },
   "outputs": [],
   "source": [
    "movies_df.to_csv('top_Sci_movies.csv')"
   ]
  },
  {
   "cell_type": "markdown",
   "metadata": {
    "id": "lYaT8M9PlQBz"
   },
   "source": [
    "## 3 - Web Scrapping From Multiple Webpages"
   ]
  },
  {
   "cell_type": "code",
   "execution_count": 38,
   "metadata": {
    "id": "UyKZX6YilRDw"
   },
   "outputs": [],
   "source": [
    "import numpy as np\n",
    "from time import sleep\n",
    "from random import randint"
   ]
  },
  {
   "cell_type": "code",
   "execution_count": 39,
   "metadata": {
    "id": "bmJQqbWRlVR_"
   },
   "outputs": [],
   "source": [
    "movie_names = []\n",
    "year = []\n",
    "genre = []\n",
    "rating = []"
   ]
  },
  {
   "cell_type": "code",
   "execution_count": 40,
   "metadata": {
    "id": "IcAub44tlX50"
   },
   "outputs": [],
   "source": [
    "pages = np.arange(1,1000,50)"
   ]
  },
  {
   "cell_type": "code",
   "execution_count": 41,
   "metadata": {
    "id": "qX3ycBkNlZJ8"
   },
   "outputs": [],
   "source": [
    "for page in pages:\n",
    "    page = requests.get('https://www.imdb.com/search/title/?groups=top_1000&sort=user_rating,desc&start='+str(page)+'&ref_=adv_nxt')\n",
    "    soup = BeautifulSoup(page.text, 'html.parser')\n",
    "    movie_data = soup.find_all('div', class_ = 'lister-item mode-advanced')\n",
    "    sleep(randint(2,8))\n",
    "    for i in movie_data:\n",
    "        name = i.h3.a.text\n",
    "        movie_names.append(name)\n",
    "        \n",
    "        yr = i.h3.find('span', class_= 'lister-item-year text-muted unbold').text.replace('(','').replace(')','')\n",
    "        year.append(yr)\n",
    "        \n",
    "        gn = i.p.find('span', class_ = 'genre').text.replace('\\n','')\n",
    "        genre.append(gn)\n",
    "        \n",
    "        rt = i.find('div', class_= 'inline-block ratings-imdb-rating').text.replace('\\n','') if i.find('div', class_= 'inline-block ratings-imdb-rating') else '^^'\n",
    "        rating.append(rt)"
   ]
  },
  {
   "cell_type": "code",
   "execution_count": 42,
   "metadata": {
    "id": "_UHWyE-QlbfX"
   },
   "outputs": [],
   "source": [
    "movies_df = pd.DataFrame({'Name of Movie':movie_names,'Year of Release':year,'Genre':genre,'Rating':rating})"
   ]
  },
  {
   "cell_type": "code",
   "execution_count": 43,
   "metadata": {
    "colab": {
     "base_uri": "https://localhost:8080/",
     "height": 206
    },
    "executionInfo": {
     "elapsed": 19,
     "status": "ok",
     "timestamp": 1667027683670,
     "user": {
      "displayName": "Faseeh Ur Rehman",
      "userId": "05166873358430261340"
     },
     "user_tz": -300
    },
    "id": "wVcZ80NUldQw",
    "outputId": "b59c2fe3-588d-407b-8499-9714e269a6ca"
   },
   "outputs": [
    {
     "data": {
      "text/html": [
       "<div>\n",
       "<style scoped>\n",
       "    .dataframe tbody tr th:only-of-type {\n",
       "        vertical-align: middle;\n",
       "    }\n",
       "\n",
       "    .dataframe tbody tr th {\n",
       "        vertical-align: top;\n",
       "    }\n",
       "\n",
       "    .dataframe thead th {\n",
       "        text-align: right;\n",
       "    }\n",
       "</style>\n",
       "<table border=\"1\" class=\"dataframe\">\n",
       "  <thead>\n",
       "    <tr style=\"text-align: right;\">\n",
       "      <th></th>\n",
       "      <th>Name of Movie</th>\n",
       "      <th>Year of Release</th>\n",
       "      <th>Genre</th>\n",
       "      <th>Rating</th>\n",
       "    </tr>\n",
       "  </thead>\n",
       "  <tbody>\n",
       "    <tr>\n",
       "      <th>0</th>\n",
       "      <td>The Shawshank Redemption</td>\n",
       "      <td>1994</td>\n",
       "      <td>Drama</td>\n",
       "      <td>9.3</td>\n",
       "    </tr>\n",
       "    <tr>\n",
       "      <th>1</th>\n",
       "      <td>The Godfather</td>\n",
       "      <td>1972</td>\n",
       "      <td>Crime, Drama</td>\n",
       "      <td>9.2</td>\n",
       "    </tr>\n",
       "    <tr>\n",
       "      <th>2</th>\n",
       "      <td>Kantara</td>\n",
       "      <td>2022</td>\n",
       "      <td>Action, Adventure, Drama</td>\n",
       "      <td>9.0</td>\n",
       "    </tr>\n",
       "    <tr>\n",
       "      <th>3</th>\n",
       "      <td>The Dark Knight</td>\n",
       "      <td>2008</td>\n",
       "      <td>Action, Crime, Drama</td>\n",
       "      <td>9.0</td>\n",
       "    </tr>\n",
       "    <tr>\n",
       "      <th>4</th>\n",
       "      <td>The Lord of the Rings: The Return of the King</td>\n",
       "      <td>2003</td>\n",
       "      <td>Action, Adventure, Drama</td>\n",
       "      <td>9.0</td>\n",
       "    </tr>\n",
       "  </tbody>\n",
       "</table>\n",
       "</div>"
      ],
      "text/plain": [
       "                                   Name of Movie Year of Release  \\\n",
       "0                       The Shawshank Redemption            1994   \n",
       "1                                  The Godfather            1972   \n",
       "2                                        Kantara            2022   \n",
       "3                                The Dark Knight            2008   \n",
       "4  The Lord of the Rings: The Return of the King            2003   \n",
       "\n",
       "                                  Genre Rating  \n",
       "0                     Drama                9.3  \n",
       "1              Crime, Drama                9.2  \n",
       "2  Action, Adventure, Drama                9.0  \n",
       "3      Action, Crime, Drama                9.0  \n",
       "4  Action, Adventure, Drama                9.0  "
      ]
     },
     "execution_count": 43,
     "metadata": {},
     "output_type": "execute_result"
    }
   ],
   "source": [
    "movies_df.head()"
   ]
  },
  {
   "cell_type": "code",
   "execution_count": 44,
   "metadata": {
    "id": "VZ8cdaIolflG"
   },
   "outputs": [],
   "source": [
    "movies_df.to_csv('top_1000_movies.csv')"
   ]
  },
  {
   "cell_type": "markdown",
   "metadata": {
    "id": "yW7cc6Jmlmm-"
   },
   "source": [
    "## 4 - Using API"
   ]
  },
  {
   "cell_type": "code",
   "execution_count": 45,
   "metadata": {
    "id": "irf971QpltPq"
   },
   "outputs": [],
   "source": [
    "response = requests.get('https://api.themoviedb.org/3/movie/top_rated?api_key=8265bd1679663a7ea12ac168da84d2e8&language=en-US&page=1')"
   ]
  },
  {
   "cell_type": "code",
   "execution_count": 46,
   "metadata": {
    "colab": {
     "base_uri": "https://localhost:8080/"
    },
    "executionInfo": {
     "elapsed": 30,
     "status": "ok",
     "timestamp": 1667027684713,
     "user": {
      "displayName": "Faseeh Ur Rehman",
      "userId": "05166873358430261340"
     },
     "user_tz": -300
    },
    "id": "-REM0kGklzwH",
    "outputId": "f38ea7c2-933e-4ff3-bdce-633aa03bae54"
   },
   "outputs": [
    {
     "data": {
      "text/plain": [
       "[{'adult': False,\n",
       "  'backdrop_path': '/rl7Jw8PjhSIjArOlDNv0JQPL1ZV.jpg',\n",
       "  'genre_ids': [10749, 18],\n",
       "  'id': 851644,\n",
       "  'original_language': 'ko',\n",
       "  'original_title': '20 Century Girl',\n",
       "  'overview': \"Yeon-du asks her best friend Bora to collect all the information she can about Baek Hyun-jin while she is away in the U.S. for heart surgery. Bora decides to get close to Baek's best friend, Pung Woon-ho first. However, Bora's clumsy plan unfolds in an unexpected direction. In 1999, a year before the new century, Bora, who turns seventeen, falls into the fever of first love.\",\n",
       "  'popularity': 341.026,\n",
       "  'poster_path': '/od22ftNnyag0TTxcnJhlsu3aLoU.jpg',\n",
       "  'release_date': '2022-10-06',\n",
       "  'title': '20th Century Girl',\n",
       "  'video': False,\n",
       "  'vote_average': 8.8,\n",
       "  'vote_count': 248},\n",
       " {'adult': False,\n",
       "  'backdrop_path': '/rSPw7tgCH9c6NqICZef4kZjFOQ5.jpg',\n",
       "  'genre_ids': [18, 80],\n",
       "  'id': 238,\n",
       "  'original_language': 'en',\n",
       "  'original_title': 'The Godfather',\n",
       "  'overview': 'Spanning the years 1945 to 1955, a chronicle of the fictional Italian-American Corleone crime family. When organized crime family patriarch, Vito Corleone barely survives an attempt on his life, his youngest son, Michael steps in to take care of the would-be killers, launching a campaign of bloody revenge.',\n",
       "  'popularity': 91.365,\n",
       "  'poster_path': '/3bhkrj58Vtu7enYsRolD1fZdja1.jpg',\n",
       "  'release_date': '1972-03-14',\n",
       "  'title': 'The Godfather',\n",
       "  'video': False,\n",
       "  'vote_average': 8.7,\n",
       "  'vote_count': 16917},\n",
       " {'adult': False,\n",
       "  'backdrop_path': '/kXfqcdQKsToO0OUXHcrrNCHDBzO.jpg',\n",
       "  'genre_ids': [18, 80],\n",
       "  'id': 278,\n",
       "  'original_language': 'en',\n",
       "  'original_title': 'The Shawshank Redemption',\n",
       "  'overview': 'Framed in the 1940s for the double murder of his wife and her lover, upstanding banker Andy Dufresne begins a new life at the Shawshank prison, where he puts his accounting skills to work for an amoral warden. During his long stretch in prison, Dufresne comes to be admired by the other inmates -- including an older prisoner named Red -- for his integrity and unquenchable sense of hope.',\n",
       "  'popularity': 65.133,\n",
       "  'poster_path': '/q6y0Go1tsGEsmtFryDOJo3dEmqu.jpg',\n",
       "  'release_date': '1994-09-23',\n",
       "  'title': 'The Shawshank Redemption',\n",
       "  'video': False,\n",
       "  'vote_average': 8.7,\n",
       "  'vote_count': 22668},\n",
       " {'adult': False,\n",
       "  'backdrop_path': '/poec6RqOKY9iSiIUmfyfPfiLtvB.jpg',\n",
       "  'genre_ids': [18, 80],\n",
       "  'id': 240,\n",
       "  'original_language': 'en',\n",
       "  'original_title': 'The Godfather Part II',\n",
       "  'overview': 'In the continuing saga of the Corleone crime family, a young Vito Corleone grows up in Sicily and in 1910s New York. In the 1950s, Michael Corleone attempts to expand the family business into Las Vegas, Hollywood and Cuba.',\n",
       "  'popularity': 50.839,\n",
       "  'poster_path': '/hek3koDUyRQk7FIhPXsa6mT2Zc3.jpg',\n",
       "  'release_date': '1974-12-20',\n",
       "  'title': 'The Godfather Part II',\n",
       "  'video': False,\n",
       "  'vote_average': 8.6,\n",
       "  'vote_count': 10256},\n",
       " {'adult': False,\n",
       "  'backdrop_path': '/aVFx1VtlOxR3v0ADEatalXOvwbu.jpg',\n",
       "  'genre_ids': [16, 14, 28],\n",
       "  'id': 620249,\n",
       "  'original_language': 'zh',\n",
       "  'original_title': '罗小黑战记',\n",
       "  'overview': 'In the bustling human world, spirits live peacefully with mankind. Luo Xiaohei, a young cat spirit, becomes a nomad after his forest home is destroyed. His natural talent soon attracts spirits and humans alike, but all of them have their own motivations.',\n",
       "  'popularity': 15.855,\n",
       "  'poster_path': '/aLv87NgRJUPkQ6sVLP72IisDdt4.jpg',\n",
       "  'release_date': '2019-08-27',\n",
       "  'title': 'The Legend of Hei',\n",
       "  'video': False,\n",
       "  'vote_average': 8.6,\n",
       "  'vote_count': 208},\n",
       " {'adult': False,\n",
       "  'backdrop_path': '/zb6fM1CX41D9rF9hdgclu0peUmy.jpg',\n",
       "  'genre_ids': [18, 36, 10752],\n",
       "  'id': 424,\n",
       "  'original_language': 'en',\n",
       "  'original_title': \"Schindler's List\",\n",
       "  'overview': 'The true story of how businessman Oskar Schindler saved over a thousand Jewish lives from the Nazis while they worked as slaves in his factory during World War II.',\n",
       "  'popularity': 42.032,\n",
       "  'poster_path': '/sF1U4EUQS8YHUYjNl3pMGNIQyr0.jpg',\n",
       "  'release_date': '1993-12-15',\n",
       "  'title': \"Schindler's List\",\n",
       "  'video': False,\n",
       "  'vote_average': 8.6,\n",
       "  'vote_count': 13452},\n",
       " {'adult': False,\n",
       "  'backdrop_path': '/vI3aUGTuRRdM7J78KIdW98LdxE5.jpg',\n",
       "  'genre_ids': [35, 18, 10749],\n",
       "  'id': 19404,\n",
       "  'original_language': 'hi',\n",
       "  'original_title': 'दिलवाले दुल्हनिया ले जायेंगे',\n",
       "  'overview': 'Raj is a rich, carefree, happy-go-lucky second generation NRI. Simran is the daughter of Chaudhary Baldev Singh, who in spite of being an NRI is very strict about adherence to Indian values. Simran has left for India to be married to her childhood fiancé. Raj leaves for India with a mission at his hands, to claim his lady love under the noses of her whole family. Thus begins a saga.',\n",
       "  'popularity': 24.865,\n",
       "  'poster_path': '/2CAL2433ZeIihfX1Hb2139CX0pW.jpg',\n",
       "  'release_date': '1995-10-19',\n",
       "  'title': 'Dilwale Dulhania Le Jayenge',\n",
       "  'video': False,\n",
       "  'vote_average': 8.6,\n",
       "  'vote_count': 3945},\n",
       " {'adult': False,\n",
       "  'backdrop_path': '/bxSBOAD8AuMHYMdW3jso9npAkgt.jpg',\n",
       "  'genre_ids': [10751, 18],\n",
       "  'id': 667257,\n",
       "  'original_language': 'es',\n",
       "  'original_title': 'Cosas imposibles',\n",
       "  'overview': 'Matilde is a woman who, after the death of her husband - a man who constantly abused her - finds her new best friend in Miguel, her young, insecure, disoriented and even dealer neighbor',\n",
       "  'popularity': 10.892,\n",
       "  'poster_path': '/t2Ew8NZ8Ci2kqmoecZUNQUFDJnQ.jpg',\n",
       "  'release_date': '2021-06-17',\n",
       "  'title': 'Impossible Things',\n",
       "  'video': False,\n",
       "  'vote_average': 8.5,\n",
       "  'vote_count': 276},\n",
       " {'adult': False,\n",
       "  'backdrop_path': '/Ab8mkHmkYADjU7wQiOkia9BzGvS.jpg',\n",
       "  'genre_ids': [16, 10751, 14],\n",
       "  'id': 129,\n",
       "  'original_language': 'ja',\n",
       "  'original_title': '千と千尋の神隠し',\n",
       "  'overview': 'A young girl, Chihiro, becomes trapped in a strange new world of spirits. When her parents undergo a mysterious transformation, she must call upon the courage she never knew she had to free her family.',\n",
       "  'popularity': 88.745,\n",
       "  'poster_path': '/39wmItIWsg5sZMyRUHLkWBcuVCM.jpg',\n",
       "  'release_date': '2001-07-20',\n",
       "  'title': 'Spirited Away',\n",
       "  'video': False,\n",
       "  'vote_average': 8.5,\n",
       "  'vote_count': 13558},\n",
       " {'adult': False,\n",
       "  'backdrop_path': '/qqHQsStV6exghCM7zbObuYBiYxw.jpg',\n",
       "  'genre_ids': [18],\n",
       "  'id': 389,\n",
       "  'original_language': 'en',\n",
       "  'original_title': '12 Angry Men',\n",
       "  'overview': \"The defense and the prosecution have rested and the jury is filing into the jury room to decide if a young Spanish-American is guilty or innocent of murdering his father. What begins as an open and shut case soon becomes a mini-drama of each of the jurors' prejudices and preconceptions about the trial, the accused, and each other.\",\n",
       "  'popularity': 32.031,\n",
       "  'poster_path': '/ppd84D2i9W8jXmsyInGyihiSyqz.jpg',\n",
       "  'release_date': '1957-04-10',\n",
       "  'title': '12 Angry Men',\n",
       "  'video': False,\n",
       "  'vote_average': 8.5,\n",
       "  'vote_count': 6795},\n",
       " {'adult': False,\n",
       "  'backdrop_path': '/3RMLbSEXOn1CzLoNT7xFeLfdxhq.jpg',\n",
       "  'genre_ids': [10749, 16],\n",
       "  'id': 372754,\n",
       "  'original_language': 'ja',\n",
       "  'original_title': '同級生',\n",
       "  'overview': 'Rihito Sajo, an honor student with a perfect score on the entrance exam and Hikaru Kusakabe, in a band and popular among girls, would have never crossed paths. Until one day they started talking at the practice for their school’s upcoming chorus festival. After school, the two meet regularly, as Hikaru helps Rihito to improve his singing skills. While they listen to each other’s voice and harmonize, their hearts start to beat together.',\n",
       "  'popularity': 12.382,\n",
       "  'poster_path': '/cIfRCA5wEvj9tApca4UDUagQEiM.jpg',\n",
       "  'release_date': '2016-02-20',\n",
       "  'title': 'Dou kyu sei – Classmates',\n",
       "  'video': False,\n",
       "  'vote_average': 8.5,\n",
       "  'vote_count': 260},\n",
       " {'adult': False,\n",
       "  'backdrop_path': '/mMtUybQ6hL24FXo0F3Z4j2KG7kZ.jpg',\n",
       "  'genre_ids': [10749, 16, 18],\n",
       "  'id': 372058,\n",
       "  'original_language': 'ja',\n",
       "  'original_title': '君の名は。',\n",
       "  'overview': 'High schoolers Mitsuha and Taki are complete strangers living separate lives. But one night, they suddenly switch places. Mitsuha wakes up in Taki’s body, and he in hers. This bizarre occurrence continues to happen randomly, and the two must adjust their lives around each other.',\n",
       "  'popularity': 121.721,\n",
       "  'poster_path': '/q719jXXEzOoYaps6babgKnONONX.jpg',\n",
       "  'release_date': '2016-08-26',\n",
       "  'title': 'Your Name.',\n",
       "  'video': False,\n",
       "  'vote_average': 8.5,\n",
       "  'vote_count': 9230},\n",
       " {'adult': False,\n",
       "  'backdrop_path': '/TU9NIjwzjoKPwQHoHshkFcQUCG.jpg',\n",
       "  'genre_ids': [35, 53, 18],\n",
       "  'id': 496243,\n",
       "  'original_language': 'ko',\n",
       "  'original_title': '기생충',\n",
       "  'overview': \"All unemployed, Ki-taek's family takes peculiar interest in the wealthy and glamorous Parks for their livelihood until they get entangled in an unexpected incident.\",\n",
       "  'popularity': 62.026,\n",
       "  'poster_path': '/7IiTTgloJzvGI1TAYymCfbfl3vT.jpg',\n",
       "  'release_date': '2019-05-30',\n",
       "  'title': 'Parasite',\n",
       "  'video': False,\n",
       "  'vote_average': 8.5,\n",
       "  'vote_count': 14711},\n",
       " {'adult': False,\n",
       "  'backdrop_path': '/l6hQWH9eDksNJNiXWYRkWqikOdu.jpg',\n",
       "  'genre_ids': [14, 18, 80],\n",
       "  'id': 497,\n",
       "  'original_language': 'en',\n",
       "  'original_title': 'The Green Mile',\n",
       "  'overview': \"A supernatural tale set on death row in a Southern prison, where gentle giant John Coffey possesses the mysterious power to heal people's ailments. When the cell block's head guard, Paul Edgecomb, recognizes Coffey's miraculous gift, he tries desperately to help stave off the condemned man's execution.\",\n",
       "  'popularity': 79.004,\n",
       "  'poster_path': '/velWPhVMQeQKcxggNEU8YmIo52R.jpg',\n",
       "  'release_date': '1999-12-10',\n",
       "  'title': 'The Green Mile',\n",
       "  'video': False,\n",
       "  'vote_average': 8.5,\n",
       "  'vote_count': 14628},\n",
       " {'adult': False,\n",
       "  'backdrop_path': '/nMKdUUepR0i5zn0y1T4CsSB5chy.jpg',\n",
       "  'genre_ids': [18, 28, 80, 53],\n",
       "  'id': 155,\n",
       "  'original_language': 'en',\n",
       "  'original_title': 'The Dark Knight',\n",
       "  'overview': 'Batman raises the stakes in his war on crime. With the help of Lt. Jim Gordon and District Attorney Harvey Dent, Batman sets out to dismantle the remaining criminal organizations that plague the streets. The partnership proves to be effective, but they soon find themselves prey to a reign of chaos unleashed by a rising criminal mastermind known to the terrified citizens of Gotham as the Joker.',\n",
       "  'popularity': 73.066,\n",
       "  'poster_path': '/qJ2tW6WMUDux911r6m7haRef0WH.jpg',\n",
       "  'release_date': '2008-07-14',\n",
       "  'title': 'The Dark Knight',\n",
       "  'video': False,\n",
       "  'vote_average': 8.5,\n",
       "  'vote_count': 28591},\n",
       " {'adult': False,\n",
       "  'backdrop_path': '/jtAI6OJIWLWiRItNSZoWjrsUtmi.jpg',\n",
       "  'genre_ids': [10749],\n",
       "  'id': 724089,\n",
       "  'original_language': 'en',\n",
       "  'original_title': \"Gabriel's Inferno: Part II\",\n",
       "  'overview': \"Professor Gabriel Emerson finally learns the truth about Julia Mitchell's identity, but his realization comes a moment too late. Julia is done waiting for the well-respected Dante specialist to remember her and wants nothing more to do with him. Can Gabriel win back her heart before she finds love in another's arms?\",\n",
       "  'popularity': 14.521,\n",
       "  'poster_path': '/x5o8cLZfEXMoZczTYWLrUo1P7UJ.jpg',\n",
       "  'release_date': '2020-07-31',\n",
       "  'title': \"Gabriel's Inferno: Part II\",\n",
       "  'video': False,\n",
       "  'vote_average': 8.5,\n",
       "  'vote_count': 1442},\n",
       " {'adult': False,\n",
       "  'backdrop_path': '/w2uGvCpMtvRqZg6waC1hvLyZoJa.jpg',\n",
       "  'genre_ids': [10749],\n",
       "  'id': 696374,\n",
       "  'original_language': 'en',\n",
       "  'original_title': \"Gabriel's Inferno\",\n",
       "  'overview': \"An intriguing and sinful exploration of seduction, forbidden love, and redemption, Gabriel's Inferno is a captivating and wildly passionate tale of one man's escape from his own personal hell as he tries to earn the impossible--forgiveness and love.\",\n",
       "  'popularity': 11.19,\n",
       "  'poster_path': '/oyG9TL7FcRP4EZ9Vid6uKzwdndz.jpg',\n",
       "  'release_date': '2020-05-29',\n",
       "  'title': \"Gabriel's Inferno\",\n",
       "  'video': False,\n",
       "  'vote_average': 8.5,\n",
       "  'vote_count': 2297},\n",
       " {'adult': False,\n",
       "  'backdrop_path': '/aQ7444JX7gefPhGJTlvilj3zG2S.jpg',\n",
       "  'genre_ids': [10402],\n",
       "  'id': 553512,\n",
       "  'original_language': 'ko',\n",
       "  'original_title': '번 더 스테이지: 더 무비',\n",
       "  'overview': 'A documentary following the worldwide famous music group BTS, as they tour the world and share their experience along with their beloved band friends and fans.',\n",
       "  'popularity': 18.159,\n",
       "  'poster_path': '/pJKy1yvnKh8UjcuYeG3Rt35xHFA.jpg',\n",
       "  'release_date': '2018-11-15',\n",
       "  'title': 'Burn the Stage: The Movie',\n",
       "  'video': False,\n",
       "  'vote_average': 8.5,\n",
       "  'vote_count': 371},\n",
       " {'adult': False,\n",
       "  'backdrop_path': '/suaEOtk1N1sgg2MTM7oZd2cfVp3.jpg',\n",
       "  'genre_ids': [53, 80],\n",
       "  'id': 680,\n",
       "  'original_language': 'en',\n",
       "  'original_title': 'Pulp Fiction',\n",
       "  'overview': \"A burger-loving hit man, his philosophical partner, a drug-addled gangster's moll and a washed-up boxer converge in this sprawling, comedic crime caper. Their adventures unfurl in three stories that ingeniously trip back and forth in time.\",\n",
       "  'popularity': 67.303,\n",
       "  'poster_path': '/fIE3lAGcZDV1G6XM5KmuWnNsPp1.jpg',\n",
       "  'release_date': '1994-09-10',\n",
       "  'title': 'Pulp Fiction',\n",
       "  'video': False,\n",
       "  'vote_average': 8.5,\n",
       "  'vote_count': 24071},\n",
       " {'adult': False,\n",
       "  'backdrop_path': '/x4biAVdPVCghBlsVIzB6NmbghIz.jpg',\n",
       "  'genre_ids': [37],\n",
       "  'id': 429,\n",
       "  'original_language': 'it',\n",
       "  'original_title': 'Il buono, il brutto, il cattivo',\n",
       "  'overview': 'While the Civil War rages on between the Union and the Confederacy, three men – a quiet loner, a ruthless hitman, and a Mexican bandit – comb the American Southwest in search of a strongbox containing $200,000 in stolen gold.',\n",
       "  'popularity': 52.21,\n",
       "  'poster_path': '/bX2xnavhMYjWDoZp1VM6VnU1xwe.jpg',\n",
       "  'release_date': '1966-12-23',\n",
       "  'title': 'The Good, the Bad and the Ugly',\n",
       "  'video': False,\n",
       "  'vote_average': 8.5,\n",
       "  'vote_count': 6979}]"
      ]
     },
     "execution_count": 46,
     "metadata": {},
     "output_type": "execute_result"
    }
   ],
   "source": [
    "response.json()['results']"
   ]
  },
  {
   "cell_type": "code",
   "execution_count": 47,
   "metadata": {
    "colab": {
     "base_uri": "https://localhost:8080/",
     "height": 617
    },
    "executionInfo": {
     "elapsed": 21,
     "status": "ok",
     "timestamp": 1667027684716,
     "user": {
      "displayName": "Faseeh Ur Rehman",
      "userId": "05166873358430261340"
     },
     "user_tz": -300
    },
    "id": "I6GAARUFl1XO",
    "outputId": "5cf83093-0773-4615-e1cd-e4dbc5bc2094"
   },
   "outputs": [
    {
     "data": {
      "text/html": [
       "<div>\n",
       "<style scoped>\n",
       "    .dataframe tbody tr th:only-of-type {\n",
       "        vertical-align: middle;\n",
       "    }\n",
       "\n",
       "    .dataframe tbody tr th {\n",
       "        vertical-align: top;\n",
       "    }\n",
       "\n",
       "    .dataframe thead th {\n",
       "        text-align: right;\n",
       "    }\n",
       "</style>\n",
       "<table border=\"1\" class=\"dataframe\">\n",
       "  <thead>\n",
       "    <tr style=\"text-align: right;\">\n",
       "      <th></th>\n",
       "      <th>adult</th>\n",
       "      <th>backdrop_path</th>\n",
       "      <th>genre_ids</th>\n",
       "      <th>id</th>\n",
       "      <th>original_language</th>\n",
       "      <th>original_title</th>\n",
       "      <th>overview</th>\n",
       "      <th>popularity</th>\n",
       "      <th>poster_path</th>\n",
       "      <th>release_date</th>\n",
       "      <th>title</th>\n",
       "      <th>video</th>\n",
       "      <th>vote_average</th>\n",
       "      <th>vote_count</th>\n",
       "    </tr>\n",
       "  </thead>\n",
       "  <tbody>\n",
       "    <tr>\n",
       "      <th>0</th>\n",
       "      <td>False</td>\n",
       "      <td>/rl7Jw8PjhSIjArOlDNv0JQPL1ZV.jpg</td>\n",
       "      <td>[10749, 18]</td>\n",
       "      <td>851644</td>\n",
       "      <td>ko</td>\n",
       "      <td>20 Century Girl</td>\n",
       "      <td>Yeon-du asks her best friend Bora to collect a...</td>\n",
       "      <td>341.026</td>\n",
       "      <td>/od22ftNnyag0TTxcnJhlsu3aLoU.jpg</td>\n",
       "      <td>2022-10-06</td>\n",
       "      <td>20th Century Girl</td>\n",
       "      <td>False</td>\n",
       "      <td>8.8</td>\n",
       "      <td>248</td>\n",
       "    </tr>\n",
       "    <tr>\n",
       "      <th>1</th>\n",
       "      <td>False</td>\n",
       "      <td>/rSPw7tgCH9c6NqICZef4kZjFOQ5.jpg</td>\n",
       "      <td>[18, 80]</td>\n",
       "      <td>238</td>\n",
       "      <td>en</td>\n",
       "      <td>The Godfather</td>\n",
       "      <td>Spanning the years 1945 to 1955, a chronicle o...</td>\n",
       "      <td>91.365</td>\n",
       "      <td>/3bhkrj58Vtu7enYsRolD1fZdja1.jpg</td>\n",
       "      <td>1972-03-14</td>\n",
       "      <td>The Godfather</td>\n",
       "      <td>False</td>\n",
       "      <td>8.7</td>\n",
       "      <td>16917</td>\n",
       "    </tr>\n",
       "    <tr>\n",
       "      <th>2</th>\n",
       "      <td>False</td>\n",
       "      <td>/kXfqcdQKsToO0OUXHcrrNCHDBzO.jpg</td>\n",
       "      <td>[18, 80]</td>\n",
       "      <td>278</td>\n",
       "      <td>en</td>\n",
       "      <td>The Shawshank Redemption</td>\n",
       "      <td>Framed in the 1940s for the double murder of h...</td>\n",
       "      <td>65.133</td>\n",
       "      <td>/q6y0Go1tsGEsmtFryDOJo3dEmqu.jpg</td>\n",
       "      <td>1994-09-23</td>\n",
       "      <td>The Shawshank Redemption</td>\n",
       "      <td>False</td>\n",
       "      <td>8.7</td>\n",
       "      <td>22668</td>\n",
       "    </tr>\n",
       "    <tr>\n",
       "      <th>3</th>\n",
       "      <td>False</td>\n",
       "      <td>/poec6RqOKY9iSiIUmfyfPfiLtvB.jpg</td>\n",
       "      <td>[18, 80]</td>\n",
       "      <td>240</td>\n",
       "      <td>en</td>\n",
       "      <td>The Godfather Part II</td>\n",
       "      <td>In the continuing saga of the Corleone crime f...</td>\n",
       "      <td>50.839</td>\n",
       "      <td>/hek3koDUyRQk7FIhPXsa6mT2Zc3.jpg</td>\n",
       "      <td>1974-12-20</td>\n",
       "      <td>The Godfather Part II</td>\n",
       "      <td>False</td>\n",
       "      <td>8.6</td>\n",
       "      <td>10256</td>\n",
       "    </tr>\n",
       "    <tr>\n",
       "      <th>4</th>\n",
       "      <td>False</td>\n",
       "      <td>/aVFx1VtlOxR3v0ADEatalXOvwbu.jpg</td>\n",
       "      <td>[16, 14, 28]</td>\n",
       "      <td>620249</td>\n",
       "      <td>zh</td>\n",
       "      <td>罗小黑战记</td>\n",
       "      <td>In the bustling human world, spirits live peac...</td>\n",
       "      <td>15.855</td>\n",
       "      <td>/aLv87NgRJUPkQ6sVLP72IisDdt4.jpg</td>\n",
       "      <td>2019-08-27</td>\n",
       "      <td>The Legend of Hei</td>\n",
       "      <td>False</td>\n",
       "      <td>8.6</td>\n",
       "      <td>208</td>\n",
       "    </tr>\n",
       "  </tbody>\n",
       "</table>\n",
       "</div>"
      ],
      "text/plain": [
       "   adult                     backdrop_path     genre_ids      id  \\\n",
       "0  False  /rl7Jw8PjhSIjArOlDNv0JQPL1ZV.jpg   [10749, 18]  851644   \n",
       "1  False  /rSPw7tgCH9c6NqICZef4kZjFOQ5.jpg      [18, 80]     238   \n",
       "2  False  /kXfqcdQKsToO0OUXHcrrNCHDBzO.jpg      [18, 80]     278   \n",
       "3  False  /poec6RqOKY9iSiIUmfyfPfiLtvB.jpg      [18, 80]     240   \n",
       "4  False  /aVFx1VtlOxR3v0ADEatalXOvwbu.jpg  [16, 14, 28]  620249   \n",
       "\n",
       "  original_language            original_title  \\\n",
       "0                ko           20 Century Girl   \n",
       "1                en             The Godfather   \n",
       "2                en  The Shawshank Redemption   \n",
       "3                en     The Godfather Part II   \n",
       "4                zh                     罗小黑战记   \n",
       "\n",
       "                                            overview  popularity  \\\n",
       "0  Yeon-du asks her best friend Bora to collect a...     341.026   \n",
       "1  Spanning the years 1945 to 1955, a chronicle o...      91.365   \n",
       "2  Framed in the 1940s for the double murder of h...      65.133   \n",
       "3  In the continuing saga of the Corleone crime f...      50.839   \n",
       "4  In the bustling human world, spirits live peac...      15.855   \n",
       "\n",
       "                        poster_path release_date                     title  \\\n",
       "0  /od22ftNnyag0TTxcnJhlsu3aLoU.jpg   2022-10-06         20th Century Girl   \n",
       "1  /3bhkrj58Vtu7enYsRolD1fZdja1.jpg   1972-03-14             The Godfather   \n",
       "2  /q6y0Go1tsGEsmtFryDOJo3dEmqu.jpg   1994-09-23  The Shawshank Redemption   \n",
       "3  /hek3koDUyRQk7FIhPXsa6mT2Zc3.jpg   1974-12-20     The Godfather Part II   \n",
       "4  /aLv87NgRJUPkQ6sVLP72IisDdt4.jpg   2019-08-27         The Legend of Hei   \n",
       "\n",
       "   video  vote_average  vote_count  \n",
       "0  False           8.8         248  \n",
       "1  False           8.7       16917  \n",
       "2  False           8.7       22668  \n",
       "3  False           8.6       10256  \n",
       "4  False           8.6         208  "
      ]
     },
     "execution_count": 47,
     "metadata": {},
     "output_type": "execute_result"
    }
   ],
   "source": [
    "pd.DataFrame(response.json()['results']).head()"
   ]
  },
  {
   "cell_type": "code",
   "execution_count": 48,
   "metadata": {
    "id": "XJeRph6dl6Uf"
   },
   "outputs": [],
   "source": [
    "df.to_csv('movies.csv')"
   ]
  },
  {
   "cell_type": "code",
   "execution_count": null,
   "metadata": {
    "id": "aGS9Yj1IjouC"
   },
   "outputs": [],
   "source": []
  }
 ],
 "metadata": {
  "colab": {
   "authorship_tag": "ABX9TyP+l/r2cfJlklMfogUOYg1O",
   "collapsed_sections": [],
   "provenance": []
  },
  "kernelspec": {
   "display_name": "Python 3 (ipykernel)",
   "language": "python",
   "name": "python3"
  },
  "language_info": {
   "codemirror_mode": {
    "name": "ipython",
    "version": 3
   },
   "file_extension": ".py",
   "mimetype": "text/x-python",
   "name": "python",
   "nbconvert_exporter": "python",
   "pygments_lexer": "ipython3",
   "version": "3.9.12"
  }
 },
 "nbformat": 4,
 "nbformat_minor": 1
}
