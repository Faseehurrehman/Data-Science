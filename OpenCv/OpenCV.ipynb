{
 "cells": [
  {
   "cell_type": "code",
   "execution_count": 1,
   "id": "057885ea",
   "metadata": {},
   "outputs": [],
   "source": [
    "import cv2\n",
    "import numpy as np"
   ]
  },
  {
   "cell_type": "code",
   "execution_count": 2,
   "id": "8888f5c3",
   "metadata": {},
   "outputs": [],
   "source": [
    "# Reading Image\n",
    "image = cv2.imread('image.jpg')"
   ]
  },
  {
   "cell_type": "code",
   "execution_count": 3,
   "id": "759d57b8",
   "metadata": {},
   "outputs": [
    {
     "name": "stdout",
     "output_type": "stream",
     "text": [
      "<class 'numpy.ndarray'>\n"
     ]
    }
   ],
   "source": [
    "print(type(image))"
   ]
  },
  {
   "cell_type": "code",
   "execution_count": 4,
   "id": "ea671c44",
   "metadata": {},
   "outputs": [
    {
     "data": {
      "text/plain": [
       "(3456, 3456, 3)"
      ]
     },
     "execution_count": 4,
     "metadata": {},
     "output_type": "execute_result"
    }
   ],
   "source": [
    "image.shape"
   ]
  },
  {
   "cell_type": "code",
   "execution_count": 5,
   "id": "1c290dbb",
   "metadata": {},
   "outputs": [
    {
     "data": {
      "text/plain": [
       "(500, 500, 3)"
      ]
     },
     "execution_count": 5,
     "metadata": {},
     "output_type": "execute_result"
    }
   ],
   "source": [
    "# To Resize Image\n",
    "img = cv2.resize(image,(500,500)) \n",
    "img.shape"
   ]
  },
  {
   "cell_type": "code",
   "execution_count": 6,
   "id": "2baf479b",
   "metadata": {},
   "outputs": [
    {
     "data": {
      "text/plain": [
       "(500, 500)"
      ]
     },
     "execution_count": 6,
     "metadata": {},
     "output_type": "execute_result"
    }
   ],
   "source": [
    "# To convert coloured image into gray scale\n",
    "\n",
    "img_gray = cv2.cvtColor(img,cv2.COLOR_BGR2GRAY) # Values varry between 0 and 255\n",
    "img_gray.shape # It will be only in 2 channels, RGB channel will not present"
   ]
  },
  {
   "cell_type": "code",
   "execution_count": 7,
   "id": "24304b73",
   "metadata": {},
   "outputs": [
    {
     "name": "stdout",
     "output_type": "stream",
     "text": [
      "250000\n",
      "1\n"
     ]
    }
   ],
   "source": [
    "print(img_gray.size)\n",
    "print(img_gray.itemsize)"
   ]
  },
  {
   "cell_type": "code",
   "execution_count": 8,
   "id": "8d048a8f",
   "metadata": {},
   "outputs": [],
   "source": [
    "# Showing Image\n",
    "\n",
    "cv2.imshow('Image',img_gray)\n",
    "\n",
    "cv2.waitKey(0)\n",
    "cv2.destroyAllWindows()"
   ]
  },
  {
   "cell_type": "code",
   "execution_count": 9,
   "id": "ac1f133c",
   "metadata": {},
   "outputs": [],
   "source": [
    "# Playing with RGB Color Channel\n",
    "image = cv2.imread('image.jpg')\n",
    "img = cv2.resize(image,(500,500)) \n",
    "\n",
    "img[:,:,2]=0 # Making first channel (Blue) equal to blue. It will show combination of green and red.\n",
    "# img[:,:,1]=0 # Making second channel (Green) equal to blue\n",
    "# img[:,:,2]=0 # Making third channel (Red) equal to blue\n",
    "cv2.imshow('Image',img)\n",
    "\n",
    "cv2.waitKey(0)\n",
    "cv2.destroyAllWindows()"
   ]
  },
  {
   "cell_type": "code",
   "execution_count": 10,
   "id": "ec4425f7",
   "metadata": {},
   "outputs": [],
   "source": [
    "# To see all 3 channels side by side\n",
    "image = cv2.imread('image.jpg')\n",
    "img = cv2.resize(image,(200,200)) \n",
    "\n",
    "imgBlue = img[:,:,0] # Only Blue\n",
    "imgGreen = img[:,:,1] # Only Green\n",
    "imgRed = img[:,:,2] # Only Red\n",
    "\n",
    "new_img = np.hstack((imgBlue,imgGreen,imgRed))\n",
    "\n",
    "cv2.imshow('Image',new_img)\n",
    "cv2.waitKey(0)\n",
    "cv2.destroyAllWindows()"
   ]
  },
  {
   "cell_type": "code",
   "execution_count": 11,
   "id": "606066b8",
   "metadata": {},
   "outputs": [],
   "source": [
    "# Flipping the Image\n",
    "\n",
    "image = cv2.imread('pic.jpg')\n",
    "img = cv2.resize(image,(200,200))\n",
    "\n",
    "\n",
    "img_flip = cv2.flip(img, 0) # We will put 0(flipping along vertical axis) or 1(flipping along horizontal axis) or -1(Combine effect of both of these). This helps in Data Augmentation or creating images.\n",
    "cv2.imshow('Image',img_flip)\n",
    "cv2.waitKey(0)\n",
    "cv2.destroyAllWindows()"
   ]
  },
  {
   "cell_type": "code",
   "execution_count": 12,
   "id": "a114ae93",
   "metadata": {},
   "outputs": [],
   "source": [
    "# Cropping the Image - We do slicing: img[along height axis, along width axis]\n",
    "\n",
    "img_crop = image[200:1000, 200:1000]\n",
    "cv2.imshow('Image', img_crop)\n",
    "\n",
    "cv2.waitKey(0)\n",
    "cv2.destroyAllWindows()\n"
   ]
  },
  {
   "cell_type": "code",
   "execution_count": 13,
   "id": "3dcef377",
   "metadata": {},
   "outputs": [
    {
     "data": {
      "text/plain": [
       "True"
      ]
     },
     "execution_count": 13,
     "metadata": {},
     "output_type": "execute_result"
    }
   ],
   "source": [
    "# Saving the Image\n",
    "\n",
    "cv2.imwrite('mountain_crop.png',img_crop)"
   ]
  },
  {
   "cell_type": "markdown",
   "id": "c118e415",
   "metadata": {},
   "source": [
    "# Image Processing using OpenCV"
   ]
  },
  {
   "cell_type": "code",
   "execution_count": 15,
   "id": "7fd014f9",
   "metadata": {},
   "outputs": [],
   "source": [
    "# Drawing Shapes\n",
    "\n",
    "img1 = np.zeros((512,512,3)) # Creating Image\n",
    "\n",
    "cv2.imshow('Image',img1)\n",
    "\n",
    "cv2.waitKey(0)\n",
    "cv2.destroyAllWindows()"
   ]
  },
  {
   "cell_type": "code",
   "execution_count": null,
   "id": "5b16082a",
   "metadata": {},
   "outputs": [],
   "source": [
    "# Creating Shapes - Rectangle, Cirlce, Line, Text on Image\n",
    "\n",
    "## Rectangle\n",
    "\n",
    "cv2.rectangle(img1,pt1 = (100,100), pt2 = (300,300),color = (255,0,0),thickness = 3) #Blue Rectangle -  rectangle(the image on which rectangle to be drawn, point1, point2, color, border thickness) Since color (B,G,R)\n",
    "cv2.imshow('Image',img1)\n",
    "\n",
    "cv2.waitKey(0)\n",
    "cv2.destroyAllWindows()"
   ]
  },
  {
   "cell_type": "code",
   "execution_count": null,
   "id": "3e503c29",
   "metadata": {},
   "outputs": [],
   "source": [
    "cv2.rectangle(img1,pt1 = (100,100), pt2 = (300,300),color = (0,0,255),thickness = -1) # If we have to fill rectangle internally, use thickness = -1\n",
    "cv2.imshow('Image',img1)\n",
    "\n",
    "cv2.waitKey(0)\n",
    "cv2.destroyAllWindows()"
   ]
  },
  {
   "cell_type": "code",
   "execution_count": null,
   "id": "4dfb6245",
   "metadata": {},
   "outputs": [],
   "source": [
    "# Circle\n",
    "\n",
    "cv2.circle(img1, center = (100,400), radius =50, color = (0,255,0), thickness = 3)\n",
    "cv2.imshow('Image',img1)\n",
    "\n",
    "cv2.waitKey(0)\n",
    "cv2.destroyAllWindows()"
   ]
  },
  {
   "cell_type": "code",
   "execution_count": null,
   "id": "0b4f2574",
   "metadata": {},
   "outputs": [],
   "source": [
    "# Line\n",
    "\n",
    "cv2.line(img1, pt1 = (0,0), pt2 = (512,512) , color = (255,255,0), thickness = 3)\n",
    "cv2.imshow('Image',img1)\n",
    "\n",
    "cv2.waitKey(0)\n",
    "cv2.destroyAllWindows()"
   ]
  },
  {
   "cell_type": "code",
   "execution_count": null,
   "id": "2e80b510",
   "metadata": {},
   "outputs": [],
   "source": [
    "# Text\n",
    "\n",
    "cv2.putText(img1, org =(100,100), fontScale =3, color = (255,255,0), thickness = 2,text = 'Hello', lineType = cv2.LINE_AA, fontFace = cv2.FONT_ITALIC)\n",
    "cv2.imshow('Image',img1)\n",
    "\n",
    "cv2.waitKey(0)\n",
    "cv2.destroyAllWindows()\n"
   ]
  },
  {
   "cell_type": "code",
   "execution_count": 16,
   "id": "ae6926ed",
   "metadata": {},
   "outputs": [],
   "source": [
    "# Drawing All Shapes together\n",
    "\n",
    "cv2.rectangle(img1,pt1 = (100,100), pt2 = (300,300),color = (0,0,255),thickness = -1) # Rectangle\n",
    "\n",
    "cv2.circle(img1, center = (100,400), radius =50, color = (0,255,0), thickness = 3) # Circle\n",
    "\n",
    "cv2.line(img1, pt1 = (0,0), pt2 = (512,512) , color = (255,255,0), thickness = 3) # Line\n",
    "\n",
    "cv2.putText(img1, org =(100,100), fontScale =2, color = (255,255,0), thickness = 2,text = 'OpenCV', lineType = cv2.LINE_AA, fontFace = cv2.FONT_ITALIC)\n",
    "cv2.imshow('Image',img1)\n",
    "\n",
    "\n",
    "cv2.waitKey(0)\n",
    "cv2.destroyAllWindows()"
   ]
  },
  {
   "cell_type": "code",
   "execution_count": 17,
   "id": "af5c26c3",
   "metadata": {},
   "outputs": [],
   "source": [
    "img = np.zeros((500,500,3))\n",
    "\n",
    "while True:\n",
    "    cv2.imshow('Image',img)\n",
    "    \n",
    "    if cv2.waitKey(1) & 0xFF == ord('x'):\n",
    "        break\n",
    "\n",
    "cv2.destroyAllWindows()"
   ]
  },
  {
   "cell_type": "code",
   "execution_count": 1,
   "id": "44da08ac",
   "metadata": {},
   "outputs": [],
   "source": [
    "import cv2\n",
    "import numpy as np"
   ]
  },
  {
   "cell_type": "code",
   "execution_count": 6,
   "id": "94d53943",
   "metadata": {
    "scrolled": true
   },
   "outputs": [
    {
     "name": "stdout",
     "output_type": "stream",
     "text": [
      "0\n",
      "0\n",
      "0\n",
      "0\n",
      "1\n",
      "4\n",
      "1\n",
      "4\n",
      "7\n",
      "1\n",
      "4\n",
      "1\n",
      "4\n"
     ]
    }
   ],
   "source": [
    "# Live Direct Drawing\n",
    "\n",
    "# We have to create event listner which will determine when mouse clicked, so it will trigger particular function.\n",
    "\n",
    "def draw(event,x,y,flags,params): # Callback Function draw(event type, coordinates of x and y when mouse clicked, )\n",
    "    print(event) # The result shows that when we hover mouse on image then the number is 0, If we click the mouse button then the number is 1, And if we release mouse button then the number is 4.\n",
    "\n",
    "cv2.namedWindow(winname = 'window') # On which window we are working\n",
    "cv2.setMouseCallback('window',draw)  # listner which will listen whether mouse was clicked or not and then will trigger draw function above, setMouseCallback('window', which event to give control when this triggers)\n",
    "\n",
    "\n",
    "\n",
    "\n",
    "\n",
    "img = np.zeros((500,500,3))\n",
    "\n",
    "while True:\n",
    "    cv2.imshow('window',img)\n",
    "    \n",
    "    if cv2.waitKey(1) & 0xFF == ord('x'):\n",
    "        break\n",
    "\n",
    "cv2.destroyAllWindows()\n",
    "\n"
   ]
  },
  {
   "cell_type": "code",
   "execution_count": 7,
   "id": "af6b4f21",
   "metadata": {},
   "outputs": [
    {
     "name": "stdout",
     "output_type": "stream",
     "text": [
      "Mouse moved\n",
      "Mouse moved\n",
      "Mouse moved\n",
      "Mouse moved\n",
      "Mouse moved\n",
      "Mouse moved\n",
      "Mouse moved\n",
      "Mouse moved\n",
      "Mouse moved\n",
      "Mouse moved\n",
      "Mouse moved\n",
      "Mouse moved\n",
      "Mouse moved\n",
      "Mouse moved\n",
      "Mouse moved\n",
      "Mouse moved\n",
      "Mouse moved\n",
      "Mouse moved\n",
      "Mouse moved\n",
      "Mouse moved\n",
      "Mouse moved\n",
      "Mouse moved\n",
      "Mouse moved\n",
      "Mouse moved\n",
      "Mouse moved\n",
      "Mouse moved\n",
      "Mouse moved\n",
      "Mouse moved\n",
      "Mouse moved\n",
      "Mouse moved\n",
      "Mouse moved\n",
      "Mouse moved\n",
      "Mouse moved\n",
      "Mouse moved\n",
      "Mouse moved\n",
      "Mouse moved\n",
      "Mouse moved\n",
      "Mouse moved\n",
      "Mouse moved\n",
      "Mouse moved\n",
      "Mouse moved\n",
      "Mouse moved\n",
      "Mouse moved\n",
      "Mouse moved\n",
      "Mouse moved\n",
      "Mouse moved\n",
      "Mouse moved\n",
      "Mouse moved\n",
      "Mouse moved\n",
      "Mouse moved\n",
      "Mouse moved\n",
      "Mouse moved\n",
      "Mouse moved\n",
      "Mouse moved\n",
      "Mouse moved\n",
      "Mouse moved\n",
      "Mouse moved\n",
      "Mouse moved\n",
      "Mouse moved\n",
      "Mouse moved\n",
      "Mouse moved\n",
      "Mouse down clicked\n",
      "Mouse up clicked\n",
      "Mouse down clicked\n",
      "Mouse up clicked\n",
      "Mouse up clicked\n",
      "Mouse down clicked\n",
      "Mouse up clicked\n",
      "Mouse down clicked\n",
      "Mouse up clicked\n",
      "Mouse up clicked\n",
      "Mouse down clicked\n",
      "Mouse up clicked\n",
      "Mouse down clicked\n",
      "Mouse up clicked\n",
      "Mouse up clicked\n",
      "Mouse down clicked\n",
      "Mouse up clicked\n",
      "Mouse down clicked\n",
      "Mouse up clicked\n",
      "Mouse up clicked\n",
      "Mouse down clicked\n",
      "Mouse up clicked\n",
      "Mouse down clicked\n",
      "Mouse up clicked\n",
      "Mouse up clicked\n",
      "Mouse down clicked\n",
      "Mouse up clicked\n",
      "Mouse down clicked\n",
      "Mouse up clicked\n",
      "Mouse up clicked\n",
      "Mouse down clicked\n",
      "Mouse up clicked\n",
      "Mouse down clicked\n",
      "Mouse up clicked\n",
      "Mouse up clicked\n",
      "Mouse down clicked\n",
      "Mouse up clicked\n",
      "Mouse down clicked\n",
      "Mouse up clicked\n",
      "Mouse up clicked\n",
      "Mouse down clicked\n",
      "Mouse up clicked\n",
      "Mouse moved\n"
     ]
    }
   ],
   "source": [
    "def draw(event,x,y,flags,params): \n",
    "    if event == 0:\n",
    "        print('Mouse moved')\n",
    "    elif event == 1:\n",
    "        print('Mouse down clicked')\n",
    "    else:\n",
    "        print('Mouse up clicked')\n",
    "    \n",
    "cv2.namedWindow(winname = 'window') \n",
    "cv2.setMouseCallback('window',draw)  \n",
    "\n",
    "\n",
    "img = np.zeros((500,500,3))\n",
    "\n",
    "while True:\n",
    "    cv2.imshow('window',img)\n",
    "    \n",
    "    if cv2.waitKey(1) & 0xFF == ord('x'):\n",
    "        break\n",
    "\n",
    "cv2.destroyAllWindows()"
   ]
  },
  {
   "cell_type": "code",
   "execution_count": 10,
   "id": "e3fdf61b",
   "metadata": {},
   "outputs": [],
   "source": [
    "# Now Live Drawing\n",
    "def draw(event,x,y,flags,params): \n",
    "    \n",
    "    if event == 1:\n",
    "        cv2.circle(img, center = (x,y), radius=30, color = (255,0,0), thickness = -1)\n",
    "        \n",
    "    \n",
    "cv2.namedWindow(winname = 'window') \n",
    "cv2.setMouseCallback('window',draw)  \n",
    "\n",
    "\n",
    "img = np.zeros((500,500,3))\n",
    "\n",
    "while True:\n",
    "    cv2.imshow('window',img)\n",
    "    \n",
    "    if cv2.waitKey(1) & 0xFF == ord('x'):\n",
    "        break\n",
    "\n",
    "cv2.destroyAllWindows()"
   ]
  },
  {
   "cell_type": "code",
   "execution_count": 13,
   "id": "59002db4",
   "metadata": {},
   "outputs": [],
   "source": [
    "def draw(event,x,y,flags,params): \n",
    "    \n",
    "    if event == 1:\n",
    "        cv2.circle(img, center = (x,y), radius=30, color = (255,0,0), thickness = 3)\n",
    "        \n",
    "    \n",
    "cv2.namedWindow(winname = 'window') \n",
    "cv2.setMouseCallback('window',draw)  \n",
    "\n",
    "\n",
    "image = cv2.imread('pic.jpg')\n",
    "img = cv2.resize(image,(500,500))\n",
    "\n",
    "while True:\n",
    "    cv2.imshow('window',img)\n",
    "    \n",
    "    if cv2.waitKey(1) & 0xFF == ord('x'):\n",
    "        break\n",
    "\n",
    "cv2.destroyAllWindows()"
   ]
  },
  {
   "cell_type": "code",
   "execution_count": 14,
   "id": "31fe67e8",
   "metadata": {},
   "outputs": [],
   "source": [
    "flag = False # flag = True will tell now to draw\n",
    "ix = -1\n",
    "iy = -1\n",
    "\n",
    "\n",
    "\n",
    "\n",
    "def draw(event,x,y,flags,params):\n",
    "    global flag, ix, iy # We are using global keyword since we are changine values outside of function\n",
    "    \n",
    "    if event == 1:\n",
    "        flag = True\n",
    "        # To start drawing from where when we click with mouse\n",
    "        ix = x\n",
    "        iy = y\n",
    "        \n",
    "    elif event == 0:  # Code of drag\n",
    "        if flag == True:\n",
    "            cv2.rectangle(img, pt1 = (ix,iy), pt2 = (x,y), color = (255,0,0),thickness = -1)\n",
    "     \n",
    "    elif event == 4:\n",
    "        flag = False # At current position, no drawing\n",
    "        cv2.rectangle(img, pt1 = (ix,iy), pt2 = (x,y), color = (255,0,0),thickness = -1)\n",
    "    \n",
    "cv2.namedWindow(winname = 'window') \n",
    "cv2.setMouseCallback('window',draw)  \n",
    "\n",
    "\n",
    "img = np.zeros((500,500,3))\n",
    "\n",
    "while True:\n",
    "    cv2.imshow('window',img)\n",
    "    \n",
    "    if cv2.waitKey(1) & 0xFF == ord('x'):\n",
    "        break\n",
    "\n",
    "cv2.destroyAllWindows()"
   ]
  },
  {
   "cell_type": "code",
   "execution_count": 1,
   "id": "7e498540",
   "metadata": {},
   "outputs": [
    {
     "ename": "NameError",
     "evalue": "name 'cv2' is not defined",
     "output_type": "error",
     "traceback": [
      "\u001b[1;31m---------------------------------------------------------------------------\u001b[0m",
      "\u001b[1;31mNameError\u001b[0m                                 Traceback (most recent call last)",
      "Input \u001b[1;32mIn [1]\u001b[0m, in \u001b[0;36m<cell line: 1>\u001b[1;34m()\u001b[0m\n\u001b[1;32m----> 1\u001b[0m image \u001b[38;5;241m=\u001b[39m \u001b[43mcv2\u001b[49m\u001b[38;5;241m.\u001b[39mimread(\u001b[38;5;124m'\u001b[39m\u001b[38;5;124mpic.jpg\u001b[39m\u001b[38;5;124m'\u001b[39m)\n\u001b[0;32m      2\u001b[0m img \u001b[38;5;241m=\u001b[39m cv2\u001b[38;5;241m.\u001b[39mresize(image,(\u001b[38;5;241m500\u001b[39m,\u001b[38;5;241m500\u001b[39m))\n\u001b[0;32m      4\u001b[0m flag \u001b[38;5;241m=\u001b[39m \u001b[38;5;28;01mFalse\u001b[39;00m \u001b[38;5;66;03m# flag = True will tell now to draw\u001b[39;00m\n",
      "\u001b[1;31mNameError\u001b[0m: name 'cv2' is not defined"
     ]
    }
   ],
   "source": [
    "image = cv2.imread('pic.jpg')\n",
    "img = cv2.resize(image,(500,500))\n",
    "\n",
    "flag = False # flag = True will tell now to draw\n",
    "ix = -1\n",
    "iy = -1\n",
    "\n",
    "\n",
    "def draw(event,x,y,flags,params):\n",
    "    global flag, ix, iy \n",
    "    \n",
    "    if event == 1:\n",
    "        flag = True\n",
    "        # To start cropping from where when we click with mouse\n",
    "        ix = x\n",
    "        iy = y\n",
    "     \n",
    "    elif event == 4:\n",
    "        \n",
    "        fx =x\n",
    "        fy=y\n",
    "        \n",
    "        flag = False # At current position, no drawing\n",
    "        cv2.rectangle(img, pt1 = (ix,iy), pt2 = (x,y), color = (255,0,0),thickness = 2)\n",
    "        \n",
    "        # crop tools\n",
    "        \n",
    "        cropped = img[iy:fy, ix:fx]\n",
    "        cv2.imshow('new_window',cropped)\n",
    "        cv2.waitKey(0)\n",
    "        \n",
    "\n",
    "\n",
    "cv2.namedWindow(winname = 'window') \n",
    "cv2.setMouseCallback('window',draw)  \n",
    "\n",
    "while True:\n",
    "    cv2.imshow('window',img)\n",
    "    \n",
    "    if cv2.waitKey(1) & 0xFF == ord('x'):\n",
    "        break\n",
    "\n",
    "cv2.destroyAllWindows()"
   ]
  },
  {
   "cell_type": "code",
   "execution_count": 10,
   "id": "ac04eb17",
   "metadata": {},
   "outputs": [],
   "source": [
    "# Webcam\n",
    "import cv2\n",
    "\n",
    "cap = cv2.VideoCapture(0)\n",
    "\n",
    "while True:\n",
    "    ret, frame = cap.read()\n",
    "    \n",
    "    \n",
    "    cv2.imshow('window',frame)\n",
    "    \n",
    "    if cv2.waitKey(1) & 0xFF == ord('x'):\n",
    "        break\n",
    "\n",
    "cv2.destroyAllWindows()"
   ]
  },
  {
   "cell_type": "code",
   "execution_count": 1,
   "id": "1d874b8d",
   "metadata": {},
   "outputs": [],
   "source": [
    "# Webcam in Black White\n",
    "import cv2\n",
    "\n",
    "cap = cv2.VideoCapture(0)\n",
    "\n",
    "\n",
    "while True:\n",
    "    ret, frame = cap.read()\n",
    "    \n",
    "    img_gray = cv2.cvtColor(frame,cv2.COLOR_BGR2GRAY)\n",
    "    cv2.imshow('window',img_gray)\n",
    "    \n",
    "    if cv2.waitKey(1) & 0xFF == ord('x'):\n",
    "        break\n",
    "\n",
    "cv2.destroyAllWindows()"
   ]
  },
  {
   "cell_type": "code",
   "execution_count": 9,
   "id": "77183b5e",
   "metadata": {},
   "outputs": [],
   "source": [
    "# To capture video of webcam\n",
    "import cv2\n",
    "\n",
    "cap = cv2.VideoCapture(0)\n",
    "# Create of Writer object\n",
    "fourcc = cv2.VideoWriter_fourcc(*'XVID')\n",
    "out = cv2.VideoWriter('output.avi',fourcc, 20.0, (648,480))\n",
    "\n",
    "\n",
    "while True:\n",
    "    ret, frame = cap.read()\n",
    "    \n",
    "    out.write(frame)\n",
    "    cv2.imshow('window',frame)\n",
    "    \n",
    "    if cv2.waitKey(1) & 0xFF == ord('x'):\n",
    "        break\n",
    "out.release()\n",
    "cv2.destroyAllWindows()"
   ]
  },
  {
   "cell_type": "code",
   "execution_count": 12,
   "id": "9e205d59",
   "metadata": {},
   "outputs": [],
   "source": [
    "# To play video\n",
    "import cv2\n",
    "\n",
    "cap = cv2.VideoCapture('video.mp4')\n",
    "\n",
    "\n",
    "while True:\n",
    "    ret, frame = cap.read()\n",
    "    \n",
    "    \n",
    "    cv2.imshow('window',frame)\n",
    "    \n",
    "    if cv2.waitKey(1) & 0xFF == ord('x'):\n",
    "        break\n",
    "\n",
    "cv2.destroyAllWindows()"
   ]
  }
 ],
 "metadata": {
  "kernelspec": {
   "display_name": "Python 3 (ipykernel)",
   "language": "python",
   "name": "python3"
  },
  "language_info": {
   "codemirror_mode": {
    "name": "ipython",
    "version": 3
   },
   "file_extension": ".py",
   "mimetype": "text/x-python",
   "name": "python",
   "nbconvert_exporter": "python",
   "pygments_lexer": "ipython3",
   "version": "3.9.12"
  }
 },
 "nbformat": 4,
 "nbformat_minor": 5
}
