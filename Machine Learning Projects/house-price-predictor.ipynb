{
 "cells": [
  {
   "cell_type": "code",
   "execution_count": 1,
   "id": "5c061e5d",
   "metadata": {
    "execution": {
     "iopub.execute_input": "2022-11-27T06:22:42.453486Z",
     "iopub.status.busy": "2022-11-27T06:22:42.452519Z",
     "iopub.status.idle": "2022-11-27T06:22:43.425032Z",
     "shell.execute_reply": "2022-11-27T06:22:43.424004Z"
    },
    "papermill": {
     "duration": 1.000348,
     "end_time": "2022-11-27T06:22:43.427701",
     "exception": false,
     "start_time": "2022-11-27T06:22:42.427353",
     "status": "completed"
    },
    "tags": []
   },
   "outputs": [],
   "source": [
    "import numpy as np\n",
    "import pandas as pd\n",
    "import matplotlib.pyplot as plt\n",
    "import seaborn as sns"
   ]
  },
  {
   "cell_type": "code",
   "execution_count": 2,
   "id": "322fd6da",
   "metadata": {
    "execution": {
     "iopub.execute_input": "2022-11-27T06:22:43.468874Z",
     "iopub.status.busy": "2022-11-27T06:22:43.467953Z",
     "iopub.status.idle": "2022-11-27T06:22:44.790023Z",
     "shell.execute_reply": "2022-11-27T06:22:44.788890Z"
    },
    "papermill": {
     "duration": 1.345407,
     "end_time": "2022-11-27T06:22:44.792780",
     "exception": false,
     "start_time": "2022-11-27T06:22:43.447373",
     "status": "completed"
    },
    "tags": []
   },
   "outputs": [
    {
     "data": {
      "text/html": [
       "<div>\n",
       "<style scoped>\n",
       "    .dataframe tbody tr th:only-of-type {\n",
       "        vertical-align: middle;\n",
       "    }\n",
       "\n",
       "    .dataframe tbody tr th {\n",
       "        vertical-align: top;\n",
       "    }\n",
       "\n",
       "    .dataframe thead th {\n",
       "        text-align: right;\n",
       "    }\n",
       "</style>\n",
       "<table border=\"1\" class=\"dataframe\">\n",
       "  <thead>\n",
       "    <tr style=\"text-align: right;\">\n",
       "      <th></th>\n",
       "      <th>Unnamed: 0</th>\n",
       "      <th>property_id</th>\n",
       "      <th>location_id</th>\n",
       "      <th>page_url</th>\n",
       "      <th>property_type</th>\n",
       "      <th>price</th>\n",
       "      <th>location</th>\n",
       "      <th>city</th>\n",
       "      <th>province_name</th>\n",
       "      <th>latitude</th>\n",
       "      <th>longitude</th>\n",
       "      <th>baths</th>\n",
       "      <th>purpose</th>\n",
       "      <th>bedrooms</th>\n",
       "      <th>date_added</th>\n",
       "      <th>agency</th>\n",
       "      <th>agent</th>\n",
       "      <th>Total_Area</th>\n",
       "    </tr>\n",
       "  </thead>\n",
       "  <tbody>\n",
       "    <tr>\n",
       "      <th>0</th>\n",
       "      <td>0</td>\n",
       "      <td>237062</td>\n",
       "      <td>3325</td>\n",
       "      <td>https://www.zameen.com/Property/g_10_g_10_2_gr...</td>\n",
       "      <td>Flat</td>\n",
       "      <td>10000000</td>\n",
       "      <td>G-10</td>\n",
       "      <td>Islamabad</td>\n",
       "      <td>Islamabad Capital</td>\n",
       "      <td>33.679890</td>\n",
       "      <td>73.012640</td>\n",
       "      <td>2</td>\n",
       "      <td>For Sale</td>\n",
       "      <td>2</td>\n",
       "      <td>2/4/2019</td>\n",
       "      <td>NaN</td>\n",
       "      <td>NaN</td>\n",
       "      <td>1089.004</td>\n",
       "    </tr>\n",
       "    <tr>\n",
       "      <th>1</th>\n",
       "      <td>1</td>\n",
       "      <td>346905</td>\n",
       "      <td>3236</td>\n",
       "      <td>https://www.zameen.com/Property/e_11_2_service...</td>\n",
       "      <td>Flat</td>\n",
       "      <td>6900000</td>\n",
       "      <td>E-11</td>\n",
       "      <td>Islamabad</td>\n",
       "      <td>Islamabad Capital</td>\n",
       "      <td>33.700993</td>\n",
       "      <td>72.971492</td>\n",
       "      <td>3</td>\n",
       "      <td>For Sale</td>\n",
       "      <td>3</td>\n",
       "      <td>5/4/2019</td>\n",
       "      <td>NaN</td>\n",
       "      <td>NaN</td>\n",
       "      <td>15246.056</td>\n",
       "    </tr>\n",
       "  </tbody>\n",
       "</table>\n",
       "</div>"
      ],
      "text/plain": [
       "   Unnamed: 0  property_id  location_id  \\\n",
       "0           0       237062         3325   \n",
       "1           1       346905         3236   \n",
       "\n",
       "                                            page_url property_type     price  \\\n",
       "0  https://www.zameen.com/Property/g_10_g_10_2_gr...          Flat  10000000   \n",
       "1  https://www.zameen.com/Property/e_11_2_service...          Flat   6900000   \n",
       "\n",
       "  location       city      province_name   latitude  longitude  baths  \\\n",
       "0     G-10  Islamabad  Islamabad Capital  33.679890  73.012640      2   \n",
       "1     E-11  Islamabad  Islamabad Capital  33.700993  72.971492      3   \n",
       "\n",
       "    purpose  bedrooms date_added agency agent  Total_Area  \n",
       "0  For Sale         2   2/4/2019    NaN   NaN    1089.004  \n",
       "1  For Sale         3   5/4/2019    NaN   NaN   15246.056  "
      ]
     },
     "execution_count": 2,
     "metadata": {},
     "output_type": "execute_result"
    }
   ],
   "source": [
    "df = pd.read_csv('/kaggle/input/zameen/Entities.csv')\n",
    "df.head(2)"
   ]
  },
  {
   "cell_type": "code",
   "execution_count": 3,
   "id": "6f416185",
   "metadata": {
    "execution": {
     "iopub.execute_input": "2022-11-27T06:22:44.834731Z",
     "iopub.status.busy": "2022-11-27T06:22:44.833939Z",
     "iopub.status.idle": "2022-11-27T06:22:44.841469Z",
     "shell.execute_reply": "2022-11-27T06:22:44.840353Z"
    },
    "papermill": {
     "duration": 0.031129,
     "end_time": "2022-11-27T06:22:44.843911",
     "exception": false,
     "start_time": "2022-11-27T06:22:44.812782",
     "status": "completed"
    },
    "tags": []
   },
   "outputs": [
    {
     "data": {
      "text/plain": [
       "Index(['Unnamed: 0', 'property_id', 'location_id', 'page_url', 'property_type',\n",
       "       'price', 'location', 'city', 'province_name', 'latitude', 'longitude',\n",
       "       'baths', 'purpose', 'bedrooms', 'date_added', 'agency', 'agent',\n",
       "       'Total_Area'],\n",
       "      dtype='object')"
      ]
     },
     "execution_count": 3,
     "metadata": {},
     "output_type": "execute_result"
    }
   ],
   "source": [
    "df.columns"
   ]
  },
  {
   "cell_type": "code",
   "execution_count": 4,
   "id": "c7e989a3",
   "metadata": {
    "execution": {
     "iopub.execute_input": "2022-11-27T06:22:44.884892Z",
     "iopub.status.busy": "2022-11-27T06:22:44.884479Z",
     "iopub.status.idle": "2022-11-27T06:22:44.913990Z",
     "shell.execute_reply": "2022-11-27T06:22:44.912724Z"
    },
    "papermill": {
     "duration": 0.052915,
     "end_time": "2022-11-27T06:22:44.916302",
     "exception": false,
     "start_time": "2022-11-27T06:22:44.863387",
     "status": "completed"
    },
    "tags": []
   },
   "outputs": [
    {
     "data": {
      "text/html": [
       "<div>\n",
       "<style scoped>\n",
       "    .dataframe tbody tr th:only-of-type {\n",
       "        vertical-align: middle;\n",
       "    }\n",
       "\n",
       "    .dataframe tbody tr th {\n",
       "        vertical-align: top;\n",
       "    }\n",
       "\n",
       "    .dataframe thead th {\n",
       "        text-align: right;\n",
       "    }\n",
       "</style>\n",
       "<table border=\"1\" class=\"dataframe\">\n",
       "  <thead>\n",
       "    <tr style=\"text-align: right;\">\n",
       "      <th></th>\n",
       "      <th>property_type</th>\n",
       "      <th>price</th>\n",
       "      <th>city</th>\n",
       "      <th>province_name</th>\n",
       "      <th>baths</th>\n",
       "      <th>purpose</th>\n",
       "      <th>bedrooms</th>\n",
       "      <th>date_added</th>\n",
       "      <th>Total_Area</th>\n",
       "    </tr>\n",
       "  </thead>\n",
       "  <tbody>\n",
       "    <tr>\n",
       "      <th>0</th>\n",
       "      <td>Flat</td>\n",
       "      <td>10000000</td>\n",
       "      <td>Islamabad</td>\n",
       "      <td>Islamabad Capital</td>\n",
       "      <td>2</td>\n",
       "      <td>For Sale</td>\n",
       "      <td>2</td>\n",
       "      <td>2/4/2019</td>\n",
       "      <td>1089.004</td>\n",
       "    </tr>\n",
       "    <tr>\n",
       "      <th>1</th>\n",
       "      <td>Flat</td>\n",
       "      <td>6900000</td>\n",
       "      <td>Islamabad</td>\n",
       "      <td>Islamabad Capital</td>\n",
       "      <td>3</td>\n",
       "      <td>For Sale</td>\n",
       "      <td>3</td>\n",
       "      <td>5/4/2019</td>\n",
       "      <td>15246.056</td>\n",
       "    </tr>\n",
       "  </tbody>\n",
       "</table>\n",
       "</div>"
      ],
      "text/plain": [
       "  property_type     price       city      province_name  baths   purpose  \\\n",
       "0          Flat  10000000  Islamabad  Islamabad Capital      2  For Sale   \n",
       "1          Flat   6900000  Islamabad  Islamabad Capital      3  For Sale   \n",
       "\n",
       "   bedrooms date_added  Total_Area  \n",
       "0         2   2/4/2019    1089.004  \n",
       "1         3   5/4/2019   15246.056  "
      ]
     },
     "execution_count": 4,
     "metadata": {},
     "output_type": "execute_result"
    }
   ],
   "source": [
    "df.drop(['Unnamed: 0', 'property_id', 'location_id', 'page_url','latitude','longitude','agency', 'location','agent'],axis = 1, inplace = True)\n",
    "df.head(2)"
   ]
  },
  {
   "cell_type": "code",
   "execution_count": 5,
   "id": "8c4f8827",
   "metadata": {
    "execution": {
     "iopub.execute_input": "2022-11-27T06:22:44.957999Z",
     "iopub.status.busy": "2022-11-27T06:22:44.957174Z",
     "iopub.status.idle": "2022-11-27T06:22:44.964001Z",
     "shell.execute_reply": "2022-11-27T06:22:44.963095Z"
    },
    "papermill": {
     "duration": 0.030126,
     "end_time": "2022-11-27T06:22:44.966180",
     "exception": false,
     "start_time": "2022-11-27T06:22:44.936054",
     "status": "completed"
    },
    "tags": []
   },
   "outputs": [
    {
     "data": {
      "text/plain": [
       "(168446, 9)"
      ]
     },
     "execution_count": 5,
     "metadata": {},
     "output_type": "execute_result"
    }
   ],
   "source": [
    "df.shape"
   ]
  },
  {
   "cell_type": "code",
   "execution_count": 6,
   "id": "31a51234",
   "metadata": {
    "execution": {
     "iopub.execute_input": "2022-11-27T06:22:45.007860Z",
     "iopub.status.busy": "2022-11-27T06:22:45.007428Z",
     "iopub.status.idle": "2022-11-27T06:22:45.054403Z",
     "shell.execute_reply": "2022-11-27T06:22:45.053182Z"
    },
    "papermill": {
     "duration": 0.070708,
     "end_time": "2022-11-27T06:22:45.056809",
     "exception": false,
     "start_time": "2022-11-27T06:22:44.986101",
     "status": "completed"
    },
    "tags": []
   },
   "outputs": [
    {
     "data": {
      "text/plain": [
       "property_type    0\n",
       "price            0\n",
       "city             0\n",
       "province_name    0\n",
       "baths            0\n",
       "purpose          0\n",
       "bedrooms         0\n",
       "date_added       0\n",
       "Total_Area       0\n",
       "dtype: int64"
      ]
     },
     "execution_count": 6,
     "metadata": {},
     "output_type": "execute_result"
    }
   ],
   "source": [
    "df.isnull().sum()"
   ]
  },
  {
   "cell_type": "code",
   "execution_count": 7,
   "id": "f46d1bf1",
   "metadata": {
    "execution": {
     "iopub.execute_input": "2022-11-27T06:22:45.098933Z",
     "iopub.status.busy": "2022-11-27T06:22:45.098493Z",
     "iopub.status.idle": "2022-11-27T06:22:45.155832Z",
     "shell.execute_reply": "2022-11-27T06:22:45.154714Z"
    },
    "papermill": {
     "duration": 0.081386,
     "end_time": "2022-11-27T06:22:45.158415",
     "exception": false,
     "start_time": "2022-11-27T06:22:45.077029",
     "status": "completed"
    },
    "tags": []
   },
   "outputs": [
    {
     "name": "stdout",
     "output_type": "stream",
     "text": [
      "<class 'pandas.core.frame.DataFrame'>\n",
      "RangeIndex: 168446 entries, 0 to 168445\n",
      "Data columns (total 9 columns):\n",
      " #   Column         Non-Null Count   Dtype  \n",
      "---  ------         --------------   -----  \n",
      " 0   property_type  168446 non-null  object \n",
      " 1   price          168446 non-null  int64  \n",
      " 2   city           168446 non-null  object \n",
      " 3   province_name  168446 non-null  object \n",
      " 4   baths          168446 non-null  int64  \n",
      " 5   purpose        168446 non-null  object \n",
      " 6   bedrooms       168446 non-null  int64  \n",
      " 7   date_added     168446 non-null  object \n",
      " 8   Total_Area     168446 non-null  float64\n",
      "dtypes: float64(1), int64(3), object(5)\n",
      "memory usage: 11.6+ MB\n"
     ]
    }
   ],
   "source": [
    "df.info()"
   ]
  },
  {
   "cell_type": "code",
   "execution_count": 8,
   "id": "7756be56",
   "metadata": {
    "execution": {
     "iopub.execute_input": "2022-11-27T06:22:45.200712Z",
     "iopub.status.busy": "2022-11-27T06:22:45.199722Z",
     "iopub.status.idle": "2022-11-27T06:22:45.350089Z",
     "shell.execute_reply": "2022-11-27T06:22:45.348822Z"
    },
    "papermill": {
     "duration": 0.175155,
     "end_time": "2022-11-27T06:22:45.353701",
     "exception": false,
     "start_time": "2022-11-27T06:22:45.178546",
     "status": "completed"
    },
    "tags": []
   },
   "outputs": [
    {
     "data": {
      "text/html": [
       "<div>\n",
       "<style scoped>\n",
       "    .dataframe tbody tr th:only-of-type {\n",
       "        vertical-align: middle;\n",
       "    }\n",
       "\n",
       "    .dataframe tbody tr th {\n",
       "        vertical-align: top;\n",
       "    }\n",
       "\n",
       "    .dataframe thead th {\n",
       "        text-align: right;\n",
       "    }\n",
       "</style>\n",
       "<table border=\"1\" class=\"dataframe\">\n",
       "  <thead>\n",
       "    <tr style=\"text-align: right;\">\n",
       "      <th></th>\n",
       "      <th>property_type</th>\n",
       "      <th>price</th>\n",
       "      <th>city</th>\n",
       "      <th>province_name</th>\n",
       "      <th>baths</th>\n",
       "      <th>purpose</th>\n",
       "      <th>bedrooms</th>\n",
       "      <th>date_added</th>\n",
       "      <th>Total_Area</th>\n",
       "    </tr>\n",
       "  </thead>\n",
       "  <tbody>\n",
       "    <tr>\n",
       "      <th>count</th>\n",
       "      <td>168446</td>\n",
       "      <td>1.684460e+05</td>\n",
       "      <td>168446</td>\n",
       "      <td>168446</td>\n",
       "      <td>168446.000000</td>\n",
       "      <td>168446</td>\n",
       "      <td>168446.000000</td>\n",
       "      <td>168446</td>\n",
       "      <td>1.684460e+05</td>\n",
       "    </tr>\n",
       "    <tr>\n",
       "      <th>unique</th>\n",
       "      <td>7</td>\n",
       "      <td>NaN</td>\n",
       "      <td>5</td>\n",
       "      <td>3</td>\n",
       "      <td>NaN</td>\n",
       "      <td>2</td>\n",
       "      <td>NaN</td>\n",
       "      <td>124</td>\n",
       "      <td>NaN</td>\n",
       "    </tr>\n",
       "    <tr>\n",
       "      <th>top</th>\n",
       "      <td>House</td>\n",
       "      <td>NaN</td>\n",
       "      <td>Karachi</td>\n",
       "      <td>Punjab</td>\n",
       "      <td>NaN</td>\n",
       "      <td>For Sale</td>\n",
       "      <td>NaN</td>\n",
       "      <td>7/3/2019</td>\n",
       "      <td>NaN</td>\n",
       "    </tr>\n",
       "    <tr>\n",
       "      <th>freq</th>\n",
       "      <td>105468</td>\n",
       "      <td>NaN</td>\n",
       "      <td>60484</td>\n",
       "      <td>70536</td>\n",
       "      <td>NaN</td>\n",
       "      <td>120655</td>\n",
       "      <td>NaN</td>\n",
       "      <td>9485</td>\n",
       "      <td>NaN</td>\n",
       "    </tr>\n",
       "    <tr>\n",
       "      <th>mean</th>\n",
       "      <td>NaN</td>\n",
       "      <td>1.776576e+07</td>\n",
       "      <td>NaN</td>\n",
       "      <td>NaN</td>\n",
       "      <td>2.874227</td>\n",
       "      <td>NaN</td>\n",
       "      <td>3.179422</td>\n",
       "      <td>NaN</td>\n",
       "      <td>1.394239e+04</td>\n",
       "    </tr>\n",
       "    <tr>\n",
       "      <th>std</th>\n",
       "      <td>NaN</td>\n",
       "      <td>3.531003e+07</td>\n",
       "      <td>NaN</td>\n",
       "      <td>NaN</td>\n",
       "      <td>2.463400</td>\n",
       "      <td>NaN</td>\n",
       "      <td>1.971401</td>\n",
       "      <td>NaN</td>\n",
       "      <td>8.623647e+05</td>\n",
       "    </tr>\n",
       "    <tr>\n",
       "      <th>min</th>\n",
       "      <td>NaN</td>\n",
       "      <td>0.000000e+00</td>\n",
       "      <td>NaN</td>\n",
       "      <td>NaN</td>\n",
       "      <td>0.000000</td>\n",
       "      <td>NaN</td>\n",
       "      <td>0.000000</td>\n",
       "      <td>NaN</td>\n",
       "      <td>0.000000e+00</td>\n",
       "    </tr>\n",
       "    <tr>\n",
       "      <th>25%</th>\n",
       "      <td>NaN</td>\n",
       "      <td>1.750000e+05</td>\n",
       "      <td>NaN</td>\n",
       "      <td>NaN</td>\n",
       "      <td>0.000000</td>\n",
       "      <td>NaN</td>\n",
       "      <td>2.000000</td>\n",
       "      <td>NaN</td>\n",
       "      <td>1.905757e+03</td>\n",
       "    </tr>\n",
       "    <tr>\n",
       "      <th>50%</th>\n",
       "      <td>NaN</td>\n",
       "      <td>8.500000e+06</td>\n",
       "      <td>NaN</td>\n",
       "      <td>NaN</td>\n",
       "      <td>3.000000</td>\n",
       "      <td>NaN</td>\n",
       "      <td>3.000000</td>\n",
       "      <td>NaN</td>\n",
       "      <td>4.356016e+03</td>\n",
       "    </tr>\n",
       "    <tr>\n",
       "      <th>75%</th>\n",
       "      <td>NaN</td>\n",
       "      <td>1.950000e+07</td>\n",
       "      <td>NaN</td>\n",
       "      <td>NaN</td>\n",
       "      <td>4.000000</td>\n",
       "      <td>NaN</td>\n",
       "      <td>4.000000</td>\n",
       "      <td>NaN</td>\n",
       "      <td>1.197904e+04</td>\n",
       "    </tr>\n",
       "    <tr>\n",
       "      <th>max</th>\n",
       "      <td>NaN</td>\n",
       "      <td>2.000000e+09</td>\n",
       "      <td>NaN</td>\n",
       "      <td>NaN</td>\n",
       "      <td>403.000000</td>\n",
       "      <td>NaN</td>\n",
       "      <td>68.000000</td>\n",
       "      <td>NaN</td>\n",
       "      <td>3.387988e+08</td>\n",
       "    </tr>\n",
       "  </tbody>\n",
       "</table>\n",
       "</div>"
      ],
      "text/plain": [
       "       property_type         price     city province_name          baths  \\\n",
       "count         168446  1.684460e+05   168446        168446  168446.000000   \n",
       "unique             7           NaN        5             3            NaN   \n",
       "top            House           NaN  Karachi        Punjab            NaN   \n",
       "freq          105468           NaN    60484         70536            NaN   \n",
       "mean             NaN  1.776576e+07      NaN           NaN       2.874227   \n",
       "std              NaN  3.531003e+07      NaN           NaN       2.463400   \n",
       "min              NaN  0.000000e+00      NaN           NaN       0.000000   \n",
       "25%              NaN  1.750000e+05      NaN           NaN       0.000000   \n",
       "50%              NaN  8.500000e+06      NaN           NaN       3.000000   \n",
       "75%              NaN  1.950000e+07      NaN           NaN       4.000000   \n",
       "max              NaN  2.000000e+09      NaN           NaN     403.000000   \n",
       "\n",
       "         purpose       bedrooms date_added    Total_Area  \n",
       "count     168446  168446.000000     168446  1.684460e+05  \n",
       "unique         2            NaN        124           NaN  \n",
       "top     For Sale            NaN   7/3/2019           NaN  \n",
       "freq      120655            NaN       9485           NaN  \n",
       "mean         NaN       3.179422        NaN  1.394239e+04  \n",
       "std          NaN       1.971401        NaN  8.623647e+05  \n",
       "min          NaN       0.000000        NaN  0.000000e+00  \n",
       "25%          NaN       2.000000        NaN  1.905757e+03  \n",
       "50%          NaN       3.000000        NaN  4.356016e+03  \n",
       "75%          NaN       4.000000        NaN  1.197904e+04  \n",
       "max          NaN      68.000000        NaN  3.387988e+08  "
      ]
     },
     "execution_count": 8,
     "metadata": {},
     "output_type": "execute_result"
    }
   ],
   "source": [
    "df.describe(include = 'all')"
   ]
  },
  {
   "cell_type": "code",
   "execution_count": 9,
   "id": "a1844df9",
   "metadata": {
    "execution": {
     "iopub.execute_input": "2022-11-27T06:22:45.414007Z",
     "iopub.status.busy": "2022-11-27T06:22:45.412678Z",
     "iopub.status.idle": "2022-11-27T06:22:45.436648Z",
     "shell.execute_reply": "2022-11-27T06:22:45.435773Z"
    },
    "papermill": {
     "duration": 0.054455,
     "end_time": "2022-11-27T06:22:45.439266",
     "exception": false,
     "start_time": "2022-11-27T06:22:45.384811",
     "status": "completed"
    },
    "tags": []
   },
   "outputs": [
    {
     "data": {
      "text/plain": [
       "array(['Flat', 'House', 'Penthouse', 'Farm House', 'Lower Portion',\n",
       "       'Upper Portion', 'Room'], dtype=object)"
      ]
     },
     "execution_count": 9,
     "metadata": {},
     "output_type": "execute_result"
    }
   ],
   "source": [
    "df.property_type.unique()"
   ]
  },
  {
   "cell_type": "code",
   "execution_count": 10,
   "id": "a18b0e18",
   "metadata": {
    "execution": {
     "iopub.execute_input": "2022-11-27T06:22:45.484401Z",
     "iopub.status.busy": "2022-11-27T06:22:45.483314Z",
     "iopub.status.idle": "2022-11-27T06:22:45.501904Z",
     "shell.execute_reply": "2022-11-27T06:22:45.500801Z"
    },
    "papermill": {
     "duration": 0.043233,
     "end_time": "2022-11-27T06:22:45.504398",
     "exception": false,
     "start_time": "2022-11-27T06:22:45.461165",
     "status": "completed"
    },
    "tags": []
   },
   "outputs": [
    {
     "data": {
      "text/plain": [
       "array(['Islamabad', 'Lahore', 'Faisalabad', 'Rawalpindi', 'Karachi'],\n",
       "      dtype=object)"
      ]
     },
     "execution_count": 10,
     "metadata": {},
     "output_type": "execute_result"
    }
   ],
   "source": [
    "df.city.unique()"
   ]
  },
  {
   "cell_type": "code",
   "execution_count": 11,
   "id": "16dfd880",
   "metadata": {
    "execution": {
     "iopub.execute_input": "2022-11-27T06:22:45.548405Z",
     "iopub.status.busy": "2022-11-27T06:22:45.547560Z",
     "iopub.status.idle": "2022-11-27T06:22:45.565938Z",
     "shell.execute_reply": "2022-11-27T06:22:45.565001Z"
    },
    "papermill": {
     "duration": 0.043087,
     "end_time": "2022-11-27T06:22:45.568151",
     "exception": false,
     "start_time": "2022-11-27T06:22:45.525064",
     "status": "completed"
    },
    "tags": []
   },
   "outputs": [
    {
     "data": {
      "text/plain": [
       "array(['Islamabad Capital', 'Punjab', 'Sindh'], dtype=object)"
      ]
     },
     "execution_count": 11,
     "metadata": {},
     "output_type": "execute_result"
    }
   ],
   "source": [
    "df.province_name.unique()"
   ]
  },
  {
   "cell_type": "code",
   "execution_count": 12,
   "id": "c48be523",
   "metadata": {
    "execution": {
     "iopub.execute_input": "2022-11-27T06:22:45.611679Z",
     "iopub.status.busy": "2022-11-27T06:22:45.610890Z",
     "iopub.status.idle": "2022-11-27T06:22:45.629476Z",
     "shell.execute_reply": "2022-11-27T06:22:45.628333Z"
    },
    "papermill": {
     "duration": 0.042953,
     "end_time": "2022-11-27T06:22:45.632023",
     "exception": false,
     "start_time": "2022-11-27T06:22:45.589070",
     "status": "completed"
    },
    "tags": []
   },
   "outputs": [
    {
     "data": {
      "text/plain": [
       "array(['For Sale', 'For Rent'], dtype=object)"
      ]
     },
     "execution_count": 12,
     "metadata": {},
     "output_type": "execute_result"
    }
   ],
   "source": [
    "df.purpose.unique()"
   ]
  },
  {
   "cell_type": "code",
   "execution_count": 13,
   "id": "4b65a121",
   "metadata": {
    "execution": {
     "iopub.execute_input": "2022-11-27T06:22:45.675824Z",
     "iopub.status.busy": "2022-11-27T06:22:45.674727Z",
     "iopub.status.idle": "2022-11-27T06:22:45.925372Z",
     "shell.execute_reply": "2022-11-27T06:22:45.924186Z"
    },
    "papermill": {
     "duration": 0.275891,
     "end_time": "2022-11-27T06:22:45.928398",
     "exception": false,
     "start_time": "2022-11-27T06:22:45.652507",
     "status": "completed"
    },
    "tags": []
   },
   "outputs": [
    {
     "data": {
      "image/png": "[encoded data removed]",
      "text/plain": [
       "<Figure size 432x288 with 1 Axes>"
      ]
     },
     "metadata": {
      "needs_background": "light"
     },
     "output_type": "display_data"
    }
   ],
   "source": [
    "sns.countplot(x ='purpose', data = df)\n",
    "plt.show()"
   ]
  },
  {
   "cell_type": "code",
   "execution_count": 14,
   "id": "acb1fb96",
   "metadata": {
    "execution": {
     "iopub.execute_input": "2022-11-27T06:22:45.974908Z",
     "iopub.status.busy": "2022-11-27T06:22:45.974476Z",
     "iopub.status.idle": "2022-11-27T06:22:46.247033Z",
     "shell.execute_reply": "2022-11-27T06:22:46.245776Z"
    },
    "papermill": {
     "duration": 0.297228,
     "end_time": "2022-11-27T06:22:46.249359",
     "exception": false,
     "start_time": "2022-11-27T06:22:45.952131",
     "status": "completed"
    },
    "tags": []
   },
   "outputs": [
    {
     "data": {
      "image/png": "[encoded data removed]",
      "text/plain": [
       "<Figure size 432x288 with 1 Axes>"
      ]
     },
     "metadata": {
      "needs_background": "light"
     },
     "output_type": "display_data"
    }
   ],
   "source": [
    "sns.countplot(x ='city', data = df)\n",
    "plt.show()"
   ]
  },
  {
   "cell_type": "code",
   "execution_count": 15,
   "id": "64638ff9",
   "metadata": {
    "execution": {
     "iopub.execute_input": "2022-11-27T06:22:46.293474Z",
     "iopub.status.busy": "2022-11-27T06:22:46.293047Z",
     "iopub.status.idle": "2022-11-27T06:22:46.553091Z",
     "shell.execute_reply": "2022-11-27T06:22:46.552169Z"
    },
    "papermill": {
     "duration": 0.285081,
     "end_time": "2022-11-27T06:22:46.555713",
     "exception": false,
     "start_time": "2022-11-27T06:22:46.270632",
     "status": "completed"
    },
    "tags": []
   },
   "outputs": [
    {
     "data": {
      "image/png": "[encoded data removed]",
      "text/plain": [
       "<Figure size 432x288 with 1 Axes>"
      ]
     },
     "metadata": {
      "needs_background": "light"
     },
     "output_type": "display_data"
    }
   ],
   "source": [
    "sns.countplot(x ='province_name', data = df)\n",
    "plt.show()"
   ]
  },
  {
   "cell_type": "code",
   "execution_count": 16,
   "id": "d69f19fb",
   "metadata": {
    "execution": {
     "iopub.execute_input": "2022-11-27T06:22:46.601577Z",
     "iopub.status.busy": "2022-11-27T06:22:46.600519Z",
     "iopub.status.idle": "2022-11-27T06:22:46.880571Z",
     "shell.execute_reply": "2022-11-27T06:22:46.879359Z"
    },
    "papermill": {
     "duration": 0.305466,
     "end_time": "2022-11-27T06:22:46.883254",
     "exception": false,
     "start_time": "2022-11-27T06:22:46.577788",
     "status": "completed"
    },
    "tags": []
   },
   "outputs": [
    {
     "data": {
      "image/png": "[encoded data removed]",
      "text/plain": [
       "<Figure size 432x288 with 1 Axes>"
      ]
     },
     "metadata": {
      "needs_background": "light"
     },
     "output_type": "display_data"
    }
   ],
   "source": [
    "sns.countplot(x ='property_type', data = df)\n",
    "plt.show()"
   ]
  },
  {
   "cell_type": "code",
   "execution_count": 17,
   "id": "e1691e35",
   "metadata": {
    "execution": {
     "iopub.execute_input": "2022-11-27T06:22:46.929584Z",
     "iopub.status.busy": "2022-11-27T06:22:46.929141Z",
     "iopub.status.idle": "2022-11-27T06:22:47.205778Z",
     "shell.execute_reply": "2022-11-27T06:22:47.204552Z"
    },
    "papermill": {
     "duration": 0.302188,
     "end_time": "2022-11-27T06:22:47.208217",
     "exception": false,
     "start_time": "2022-11-27T06:22:46.906029",
     "status": "completed"
    },
    "tags": []
   },
   "outputs": [
    {
     "data": {
      "image/png": "[encoded data removed]",
      "text/plain": [
       "<Figure size 432x288 with 1 Axes>"
      ]
     },
     "metadata": {
      "needs_background": "light"
     },
     "output_type": "display_data"
    }
   ],
   "source": [
    "sns.countplot(x ='bedrooms', data = df)\n",
    "plt.show()"
   ]
  },
  {
   "cell_type": "code",
   "execution_count": 18,
   "id": "17ff04ba",
   "metadata": {
    "execution": {
     "iopub.execute_input": "2022-11-27T06:22:47.254408Z",
     "iopub.status.busy": "2022-11-27T06:22:47.253590Z",
     "iopub.status.idle": "2022-11-27T06:22:47.507864Z",
     "shell.execute_reply": "2022-11-27T06:22:47.506724Z"
    },
    "papermill": {
     "duration": 0.280124,
     "end_time": "2022-11-27T06:22:47.510327",
     "exception": false,
     "start_time": "2022-11-27T06:22:47.230203",
     "status": "completed"
    },
    "tags": []
   },
   "outputs": [
    {
     "data": {
      "image/png": "[encoded data removed]",
      "text/plain": [
       "<Figure size 432x288 with 1 Axes>"
      ]
     },
     "metadata": {
      "needs_background": "light"
     },
     "output_type": "display_data"
    }
   ],
   "source": [
    "sns.countplot(x ='baths', data = df)\n",
    "plt.show()"
   ]
  },
  {
   "cell_type": "code",
   "execution_count": 19,
   "id": "5019c8e8",
   "metadata": {
    "execution": {
     "iopub.execute_input": "2022-11-27T06:22:47.558108Z",
     "iopub.status.busy": "2022-11-27T06:22:47.557043Z",
     "iopub.status.idle": "2022-11-27T06:22:47.759242Z",
     "shell.execute_reply": "2022-11-27T06:22:47.758331Z"
    },
    "papermill": {
     "duration": 0.228991,
     "end_time": "2022-11-27T06:22:47.761582",
     "exception": false,
     "start_time": "2022-11-27T06:22:47.532591",
     "status": "completed"
    },
    "tags": []
   },
   "outputs": [
    {
     "data": {
      "image/png": "[encoded data removed]",
      "text/plain": [
       "<Figure size 432x288 with 1 Axes>"
      ]
     },
     "metadata": {
      "needs_background": "light"
     },
     "output_type": "display_data"
    }
   ],
   "source": [
    "df['city'].value_counts().head(5).plot(kind = 'bar', color = 'g')\n",
    "plt.title('Pakistan House Prices - Top 5 Expensive Cities')\n",
    "plt.show()"
   ]
  },
  {
   "cell_type": "code",
   "execution_count": 20,
   "id": "7b34a8a6",
   "metadata": {
    "execution": {
     "iopub.execute_input": "2022-11-27T06:22:47.809787Z",
     "iopub.status.busy": "2022-11-27T06:22:47.809333Z",
     "iopub.status.idle": "2022-11-27T06:22:47.992841Z",
     "shell.execute_reply": "2022-11-27T06:22:47.991830Z"
    },
    "papermill": {
     "duration": 0.211218,
     "end_time": "2022-11-27T06:22:47.995383",
     "exception": false,
     "start_time": "2022-11-27T06:22:47.784165",
     "status": "completed"
    },
    "tags": []
   },
   "outputs": [
    {
     "data": {
      "image/png": "[encoded data removed]",
      "text/plain": [
       "<Figure size 432x288 with 1 Axes>"
      ]
     },
     "metadata": {
      "needs_background": "light"
     },
     "output_type": "display_data"
    }
   ],
   "source": [
    "df['province_name'].value_counts().head(5).plot(kind = 'bar', color = 'g')\n",
    "plt.title('Pakistan House Prices - Expensive Provinces')\n",
    "plt.show()"
   ]
  },
  {
   "cell_type": "code",
   "execution_count": 21,
   "id": "e78451e3",
   "metadata": {
    "execution": {
     "iopub.execute_input": "2022-11-27T06:22:48.043294Z",
     "iopub.status.busy": "2022-11-27T06:22:48.042883Z",
     "iopub.status.idle": "2022-11-27T06:22:48.095415Z",
     "shell.execute_reply": "2022-11-27T06:22:48.094421Z"
    },
    "papermill": {
     "duration": 0.079196,
     "end_time": "2022-11-27T06:22:48.098077",
     "exception": false,
     "start_time": "2022-11-27T06:22:48.018881",
     "status": "completed"
    },
    "tags": []
   },
   "outputs": [],
   "source": [
    "# splitting dataset on the basis of rent and sale\n",
    "df_rent = df[df['purpose']=='For Rent']\n",
    "df_sale = df[df['purpose']=='For Sale']"
   ]
  },
  {
   "cell_type": "markdown",
   "id": "0604601f",
   "metadata": {
    "papermill": {
     "duration": 0.022695,
     "end_time": "2022-11-27T06:22:48.143748",
     "exception": false,
     "start_time": "2022-11-27T06:22:48.121053",
     "status": "completed"
    },
    "tags": []
   },
   "source": [
    "## Working with Sales Dataset"
   ]
  },
  {
   "cell_type": "code",
   "execution_count": 22,
   "id": "3ffbff6c",
   "metadata": {
    "execution": {
     "iopub.execute_input": "2022-11-27T06:22:48.191933Z",
     "iopub.status.busy": "2022-11-27T06:22:48.191237Z",
     "iopub.status.idle": "2022-11-27T06:22:48.204419Z",
     "shell.execute_reply": "2022-11-27T06:22:48.203162Z"
    },
    "papermill": {
     "duration": 0.039604,
     "end_time": "2022-11-27T06:22:48.206612",
     "exception": false,
     "start_time": "2022-11-27T06:22:48.167008",
     "status": "completed"
    },
    "tags": []
   },
   "outputs": [
    {
     "data": {
      "text/plain": [
       "(3000, 9)"
      ]
     },
     "execution_count": 22,
     "metadata": {},
     "output_type": "execute_result"
    }
   ],
   "source": [
    "df1 = df_sale.sample(3000)\n",
    "df1.shape"
   ]
  },
  {
   "cell_type": "code",
   "execution_count": 23,
   "id": "c0787500",
   "metadata": {
    "execution": {
     "iopub.execute_input": "2022-11-27T06:22:48.254890Z",
     "iopub.status.busy": "2022-11-27T06:22:48.253783Z",
     "iopub.status.idle": "2022-11-27T06:22:48.290670Z",
     "shell.execute_reply": "2022-11-27T06:22:48.289572Z"
    },
    "papermill": {
     "duration": 0.063636,
     "end_time": "2022-11-27T06:22:48.293058",
     "exception": false,
     "start_time": "2022-11-27T06:22:48.229422",
     "status": "completed"
    },
    "tags": []
   },
   "outputs": [
    {
     "data": {
      "text/html": [
       "<div>\n",
       "<style scoped>\n",
       "    .dataframe tbody tr th:only-of-type {\n",
       "        vertical-align: middle;\n",
       "    }\n",
       "\n",
       "    .dataframe tbody tr th {\n",
       "        vertical-align: top;\n",
       "    }\n",
       "\n",
       "    .dataframe thead th {\n",
       "        text-align: right;\n",
       "    }\n",
       "</style>\n",
       "<table border=\"1\" class=\"dataframe\">\n",
       "  <thead>\n",
       "    <tr style=\"text-align: right;\">\n",
       "      <th></th>\n",
       "      <th>property_type</th>\n",
       "      <th>price</th>\n",
       "      <th>city</th>\n",
       "      <th>province_name</th>\n",
       "      <th>baths</th>\n",
       "      <th>purpose</th>\n",
       "      <th>bedrooms</th>\n",
       "      <th>date_added</th>\n",
       "      <th>Total_Area</th>\n",
       "    </tr>\n",
       "  </thead>\n",
       "  <tbody>\n",
       "    <tr>\n",
       "      <th>count</th>\n",
       "      <td>3000</td>\n",
       "      <td>3.000000e+03</td>\n",
       "      <td>3000</td>\n",
       "      <td>3000</td>\n",
       "      <td>3000.000000</td>\n",
       "      <td>3000</td>\n",
       "      <td>3000.000000</td>\n",
       "      <td>3000</td>\n",
       "      <td>3000.000000</td>\n",
       "    </tr>\n",
       "    <tr>\n",
       "      <th>unique</th>\n",
       "      <td>6</td>\n",
       "      <td>NaN</td>\n",
       "      <td>5</td>\n",
       "      <td>3</td>\n",
       "      <td>NaN</td>\n",
       "      <td>1</td>\n",
       "      <td>NaN</td>\n",
       "      <td>89</td>\n",
       "      <td>NaN</td>\n",
       "    </tr>\n",
       "    <tr>\n",
       "      <th>top</th>\n",
       "      <td>House</td>\n",
       "      <td>NaN</td>\n",
       "      <td>Karachi</td>\n",
       "      <td>Punjab</td>\n",
       "      <td>NaN</td>\n",
       "      <td>For Sale</td>\n",
       "      <td>NaN</td>\n",
       "      <td>7/3/2019</td>\n",
       "      <td>NaN</td>\n",
       "    </tr>\n",
       "    <tr>\n",
       "      <th>freq</th>\n",
       "      <td>2198</td>\n",
       "      <td>NaN</td>\n",
       "      <td>1193</td>\n",
       "      <td>1430</td>\n",
       "      <td>NaN</td>\n",
       "      <td>3000</td>\n",
       "      <td>NaN</td>\n",
       "      <td>167</td>\n",
       "      <td>NaN</td>\n",
       "    </tr>\n",
       "    <tr>\n",
       "      <th>mean</th>\n",
       "      <td>NaN</td>\n",
       "      <td>2.453966e+07</td>\n",
       "      <td>NaN</td>\n",
       "      <td>NaN</td>\n",
       "      <td>3.081000</td>\n",
       "      <td>NaN</td>\n",
       "      <td>3.403333</td>\n",
       "      <td>NaN</td>\n",
       "      <td>9279.300947</td>\n",
       "    </tr>\n",
       "    <tr>\n",
       "      <th>std</th>\n",
       "      <td>NaN</td>\n",
       "      <td>3.721824e+07</td>\n",
       "      <td>NaN</td>\n",
       "      <td>NaN</td>\n",
       "      <td>2.243832</td>\n",
       "      <td>NaN</td>\n",
       "      <td>1.868998</td>\n",
       "      <td>NaN</td>\n",
       "      <td>16530.962952</td>\n",
       "    </tr>\n",
       "    <tr>\n",
       "      <th>min</th>\n",
       "      <td>NaN</td>\n",
       "      <td>1.200000e+04</td>\n",
       "      <td>NaN</td>\n",
       "      <td>NaN</td>\n",
       "      <td>0.000000</td>\n",
       "      <td>NaN</td>\n",
       "      <td>0.000000</td>\n",
       "      <td>NaN</td>\n",
       "      <td>272.251000</td>\n",
       "    </tr>\n",
       "    <tr>\n",
       "      <th>25%</th>\n",
       "      <td>NaN</td>\n",
       "      <td>7.379750e+06</td>\n",
       "      <td>NaN</td>\n",
       "      <td>NaN</td>\n",
       "      <td>2.000000</td>\n",
       "      <td>NaN</td>\n",
       "      <td>2.000000</td>\n",
       "      <td>NaN</td>\n",
       "      <td>1633.506000</td>\n",
       "    </tr>\n",
       "    <tr>\n",
       "      <th>50%</th>\n",
       "      <td>NaN</td>\n",
       "      <td>1.350000e+07</td>\n",
       "      <td>NaN</td>\n",
       "      <td>NaN</td>\n",
       "      <td>3.000000</td>\n",
       "      <td>NaN</td>\n",
       "      <td>3.000000</td>\n",
       "      <td>NaN</td>\n",
       "      <td>3811.514000</td>\n",
       "    </tr>\n",
       "    <tr>\n",
       "      <th>75%</th>\n",
       "      <td>NaN</td>\n",
       "      <td>2.550000e+07</td>\n",
       "      <td>NaN</td>\n",
       "      <td>NaN</td>\n",
       "      <td>5.000000</td>\n",
       "      <td>NaN</td>\n",
       "      <td>5.000000</td>\n",
       "      <td>NaN</td>\n",
       "      <td>11434.542000</td>\n",
       "    </tr>\n",
       "    <tr>\n",
       "      <th>max</th>\n",
       "      <td>NaN</td>\n",
       "      <td>7.500000e+08</td>\n",
       "      <td>NaN</td>\n",
       "      <td>NaN</td>\n",
       "      <td>12.000000</td>\n",
       "      <td>NaN</td>\n",
       "      <td>11.000000</td>\n",
       "      <td>NaN</td>\n",
       "      <td>392040.000000</td>\n",
       "    </tr>\n",
       "  </tbody>\n",
       "</table>\n",
       "</div>"
      ],
      "text/plain": [
       "       property_type         price     city province_name        baths  \\\n",
       "count           3000  3.000000e+03     3000          3000  3000.000000   \n",
       "unique             6           NaN        5             3          NaN   \n",
       "top            House           NaN  Karachi        Punjab          NaN   \n",
       "freq            2198           NaN     1193          1430          NaN   \n",
       "mean             NaN  2.453966e+07      NaN           NaN     3.081000   \n",
       "std              NaN  3.721824e+07      NaN           NaN     2.243832   \n",
       "min              NaN  1.200000e+04      NaN           NaN     0.000000   \n",
       "25%              NaN  7.379750e+06      NaN           NaN     2.000000   \n",
       "50%              NaN  1.350000e+07      NaN           NaN     3.000000   \n",
       "75%              NaN  2.550000e+07      NaN           NaN     5.000000   \n",
       "max              NaN  7.500000e+08      NaN           NaN    12.000000   \n",
       "\n",
       "         purpose     bedrooms date_added     Total_Area  \n",
       "count       3000  3000.000000       3000    3000.000000  \n",
       "unique         1          NaN         89            NaN  \n",
       "top     For Sale          NaN   7/3/2019            NaN  \n",
       "freq        3000          NaN        167            NaN  \n",
       "mean         NaN     3.403333        NaN    9279.300947  \n",
       "std          NaN     1.868998        NaN   16530.962952  \n",
       "min          NaN     0.000000        NaN     272.251000  \n",
       "25%          NaN     2.000000        NaN    1633.506000  \n",
       "50%          NaN     3.000000        NaN    3811.514000  \n",
       "75%          NaN     5.000000        NaN   11434.542000  \n",
       "max          NaN    11.000000        NaN  392040.000000  "
      ]
     },
     "execution_count": 23,
     "metadata": {},
     "output_type": "execute_result"
    }
   ],
   "source": [
    "df1.describe(include = 'all')"
   ]
  },
  {
   "cell_type": "code",
   "execution_count": 24,
   "id": "2cc21ef0",
   "metadata": {
    "execution": {
     "iopub.execute_input": "2022-11-27T06:22:48.342030Z",
     "iopub.status.busy": "2022-11-27T06:22:48.341640Z",
     "iopub.status.idle": "2022-11-27T06:22:48.351472Z",
     "shell.execute_reply": "2022-11-27T06:22:48.350373Z"
    },
    "papermill": {
     "duration": 0.037372,
     "end_time": "2022-11-27T06:22:48.353704",
     "exception": false,
     "start_time": "2022-11-27T06:22:48.316332",
     "status": "completed"
    },
    "tags": []
   },
   "outputs": [
    {
     "data": {
      "text/plain": [
       "property_type    0\n",
       "price            0\n",
       "city             0\n",
       "province_name    0\n",
       "baths            0\n",
       "purpose          0\n",
       "bedrooms         0\n",
       "date_added       0\n",
       "Total_Area       0\n",
       "dtype: int64"
      ]
     },
     "execution_count": 24,
     "metadata": {},
     "output_type": "execute_result"
    }
   ],
   "source": [
    "df1.isnull().sum()"
   ]
  },
  {
   "cell_type": "code",
   "execution_count": 25,
   "id": "b52bb2d7",
   "metadata": {
    "execution": {
     "iopub.execute_input": "2022-11-27T06:22:48.402728Z",
     "iopub.status.busy": "2022-11-27T06:22:48.402055Z",
     "iopub.status.idle": "2022-11-27T06:22:48.422182Z",
     "shell.execute_reply": "2022-11-27T06:22:48.421091Z"
    },
    "papermill": {
     "duration": 0.047682,
     "end_time": "2022-11-27T06:22:48.424904",
     "exception": false,
     "start_time": "2022-11-27T06:22:48.377222",
     "status": "completed"
    },
    "tags": []
   },
   "outputs": [
    {
     "name": "stdout",
     "output_type": "stream",
     "text": [
      "House            2198\n",
      "Flat              686\n",
      "Upper Portion      67\n",
      "Lower Portion      30\n",
      "Farm House         14\n",
      "Penthouse           5\n",
      "Name: property_type, dtype: int64\n",
      "********************\n",
      "6500000      62\n",
      "15000000     58\n",
      "12500000     57\n",
      "11500000     56\n",
      "13000000     56\n",
      "             ..\n",
      "7410000       1\n",
      "275000000     1\n",
      "2100000       1\n",
      "3150000       1\n",
      "6620000       1\n",
      "Name: price, Length: 412, dtype: int64\n",
      "********************\n",
      "Karachi       1193\n",
      "Lahore        1066\n",
      "Islamabad      377\n",
      "Rawalpindi     258\n",
      "Faisalabad     106\n",
      "Name: city, dtype: int64\n",
      "********************\n",
      "Punjab               1430\n",
      "Sindh                1193\n",
      "Islamabad Capital     377\n",
      "Name: province_name, dtype: int64\n",
      "********************\n",
      "0     653\n",
      "3     602\n",
      "2     445\n",
      "4     354\n",
      "5     348\n",
      "6     334\n",
      "7     118\n",
      "1      92\n",
      "8      30\n",
      "9      13\n",
      "10     10\n",
      "12      1\n",
      "Name: baths, dtype: int64\n",
      "********************\n",
      "For Sale    3000\n",
      "Name: purpose, dtype: int64\n",
      "********************\n",
      "3     815\n",
      "2     521\n",
      "5     496\n",
      "4     468\n",
      "0     295\n",
      "6     228\n",
      "1      58\n",
      "7      56\n",
      "8      32\n",
      "9      16\n",
      "10     12\n",
      "11      3\n",
      "Name: bedrooms, dtype: int64\n",
      "********************\n",
      "7/3/2019      167\n",
      "6/27/2019     131\n",
      "7/2/2019      130\n",
      "7/17/2019     117\n",
      "7/4/2019      109\n",
      "             ... \n",
      "10/21/2018      1\n",
      "9/8/2018        1\n",
      "10/19/2018      1\n",
      "2/2/2019        1\n",
      "3/3/2019        1\n",
      "Name: date_added, Length: 89, dtype: int64\n",
      "********************\n",
      "1361.255      389\n",
      "2722.510      321\n",
      "5445.000      297\n",
      "2178.008      196\n",
      "816.753       127\n",
      "             ... \n",
      "16335.000       1\n",
      "53361.196       1\n",
      "48460.678       1\n",
      "21507.829       1\n",
      "223245.000      1\n",
      "Name: Total_Area, Length: 144, dtype: int64\n",
      "********************\n"
     ]
    }
   ],
   "source": [
    "for column in df1.columns:\n",
    "    print(df1[column].value_counts())\n",
    "    print('*'*20)"
   ]
  },
  {
   "cell_type": "markdown",
   "id": "108c9985",
   "metadata": {
    "papermill": {
     "duration": 0.023901,
     "end_time": "2022-11-27T06:22:48.472439",
     "exception": false,
     "start_time": "2022-11-27T06:22:48.448538",
     "status": "completed"
    },
    "tags": []
   },
   "source": [
    "### Handling Columns 'baths' and 'bedrooms'"
   ]
  },
  {
   "cell_type": "code",
   "execution_count": 26,
   "id": "dcce6219",
   "metadata": {
    "execution": {
     "iopub.execute_input": "2022-11-27T06:22:48.522055Z",
     "iopub.status.busy": "2022-11-27T06:22:48.521614Z",
     "iopub.status.idle": "2022-11-27T06:22:48.807834Z",
     "shell.execute_reply": "2022-11-27T06:22:48.806682Z"
    },
    "papermill": {
     "duration": 0.313997,
     "end_time": "2022-11-27T06:22:48.810385",
     "exception": false,
     "start_time": "2022-11-27T06:22:48.496388",
     "status": "completed"
    },
    "tags": []
   },
   "outputs": [
    {
     "data": {
      "text/plain": [
       "<AxesSubplot:>"
      ]
     },
     "execution_count": 26,
     "metadata": {},
     "output_type": "execute_result"
    },
    {
     "data": {
      "image/png": "[encoded data removed]",
      "text/plain": [
       "<Figure size 432x288 with 1 Axes>"
      ]
     },
     "metadata": {
      "needs_background": "light"
     },
     "output_type": "display_data"
    }
   ],
   "source": [
    "fig = plt.figure()\n",
    "ax = fig.add_subplot(111)\n",
    "df1['baths'].hist(bins = 50, ax =ax, color = 'green', alpha = 0.8 )"
   ]
  },
  {
   "cell_type": "code",
   "execution_count": 27,
   "id": "a8abf790",
   "metadata": {
    "execution": {
     "iopub.execute_input": "2022-11-27T06:22:48.860815Z",
     "iopub.status.busy": "2022-11-27T06:22:48.859675Z",
     "iopub.status.idle": "2022-11-27T06:22:48.882469Z",
     "shell.execute_reply": "2022-11-27T06:22:48.881350Z"
    },
    "papermill": {
     "duration": 0.050771,
     "end_time": "2022-11-27T06:22:48.884972",
     "exception": false,
     "start_time": "2022-11-27T06:22:48.834201",
     "status": "completed"
    },
    "tags": []
   },
   "outputs": [
    {
     "data": {
      "text/html": [
       "<div>\n",
       "<style scoped>\n",
       "    .dataframe tbody tr th:only-of-type {\n",
       "        vertical-align: middle;\n",
       "    }\n",
       "\n",
       "    .dataframe tbody tr th {\n",
       "        vertical-align: top;\n",
       "    }\n",
       "\n",
       "    .dataframe thead th {\n",
       "        text-align: right;\n",
       "    }\n",
       "</style>\n",
       "<table border=\"1\" class=\"dataframe\">\n",
       "  <thead>\n",
       "    <tr style=\"text-align: right;\">\n",
       "      <th></th>\n",
       "      <th>property_type</th>\n",
       "      <th>price</th>\n",
       "      <th>city</th>\n",
       "      <th>province_name</th>\n",
       "      <th>baths</th>\n",
       "      <th>purpose</th>\n",
       "      <th>bedrooms</th>\n",
       "      <th>date_added</th>\n",
       "      <th>Total_Area</th>\n",
       "    </tr>\n",
       "  </thead>\n",
       "  <tbody>\n",
       "    <tr>\n",
       "      <th>166566</th>\n",
       "      <td>House</td>\n",
       "      <td>12500000</td>\n",
       "      <td>Lahore</td>\n",
       "      <td>Punjab</td>\n",
       "      <td>0</td>\n",
       "      <td>For Sale</td>\n",
       "      <td>2</td>\n",
       "      <td>7/17/2019</td>\n",
       "      <td>2722.510</td>\n",
       "    </tr>\n",
       "    <tr>\n",
       "      <th>70534</th>\n",
       "      <td>House</td>\n",
       "      <td>19500000</td>\n",
       "      <td>Lahore</td>\n",
       "      <td>Punjab</td>\n",
       "      <td>0</td>\n",
       "      <td>For Sale</td>\n",
       "      <td>5</td>\n",
       "      <td>5/4/2019</td>\n",
       "      <td>2722.510</td>\n",
       "    </tr>\n",
       "    <tr>\n",
       "      <th>101822</th>\n",
       "      <td>Upper Portion</td>\n",
       "      <td>2200000</td>\n",
       "      <td>Karachi</td>\n",
       "      <td>Sindh</td>\n",
       "      <td>0</td>\n",
       "      <td>For Sale</td>\n",
       "      <td>0</td>\n",
       "      <td>6/27/2019</td>\n",
       "      <td>4900.518</td>\n",
       "    </tr>\n",
       "    <tr>\n",
       "      <th>127961</th>\n",
       "      <td>House</td>\n",
       "      <td>75400000</td>\n",
       "      <td>Karachi</td>\n",
       "      <td>Sindh</td>\n",
       "      <td>0</td>\n",
       "      <td>For Sale</td>\n",
       "      <td>0</td>\n",
       "      <td>7/3/2019</td>\n",
       "      <td>3267.012</td>\n",
       "    </tr>\n",
       "    <tr>\n",
       "      <th>101433</th>\n",
       "      <td>House</td>\n",
       "      <td>37000000</td>\n",
       "      <td>Lahore</td>\n",
       "      <td>Punjab</td>\n",
       "      <td>0</td>\n",
       "      <td>For Sale</td>\n",
       "      <td>0</td>\n",
       "      <td>6/25/2019</td>\n",
       "      <td>5445.000</td>\n",
       "    </tr>\n",
       "    <tr>\n",
       "      <th>...</th>\n",
       "      <td>...</td>\n",
       "      <td>...</td>\n",
       "      <td>...</td>\n",
       "      <td>...</td>\n",
       "      <td>...</td>\n",
       "      <td>...</td>\n",
       "      <td>...</td>\n",
       "      <td>...</td>\n",
       "      <td>...</td>\n",
       "    </tr>\n",
       "    <tr>\n",
       "      <th>52280</th>\n",
       "      <td>Flat</td>\n",
       "      <td>4500000</td>\n",
       "      <td>Karachi</td>\n",
       "      <td>Sindh</td>\n",
       "      <td>0</td>\n",
       "      <td>For Sale</td>\n",
       "      <td>2</td>\n",
       "      <td>5/4/2019</td>\n",
       "      <td>8984.283</td>\n",
       "    </tr>\n",
       "    <tr>\n",
       "      <th>62472</th>\n",
       "      <td>House</td>\n",
       "      <td>12000000</td>\n",
       "      <td>Karachi</td>\n",
       "      <td>Sindh</td>\n",
       "      <td>0</td>\n",
       "      <td>For Sale</td>\n",
       "      <td>4</td>\n",
       "      <td>5/6/2019</td>\n",
       "      <td>1089.004</td>\n",
       "    </tr>\n",
       "    <tr>\n",
       "      <th>143618</th>\n",
       "      <td>House</td>\n",
       "      <td>4700000</td>\n",
       "      <td>Karachi</td>\n",
       "      <td>Sindh</td>\n",
       "      <td>0</td>\n",
       "      <td>For Sale</td>\n",
       "      <td>0</td>\n",
       "      <td>7/10/2019</td>\n",
       "      <td>9256.534</td>\n",
       "    </tr>\n",
       "    <tr>\n",
       "      <th>6966</th>\n",
       "      <td>Flat</td>\n",
       "      <td>2700000</td>\n",
       "      <td>Karachi</td>\n",
       "      <td>Sindh</td>\n",
       "      <td>0</td>\n",
       "      <td>For Sale</td>\n",
       "      <td>3</td>\n",
       "      <td>7/18/2019</td>\n",
       "      <td>1089.004</td>\n",
       "    </tr>\n",
       "    <tr>\n",
       "      <th>146140</th>\n",
       "      <td>House</td>\n",
       "      <td>8500000</td>\n",
       "      <td>Rawalpindi</td>\n",
       "      <td>Punjab</td>\n",
       "      <td>0</td>\n",
       "      <td>For Sale</td>\n",
       "      <td>0</td>\n",
       "      <td>7/11/2019</td>\n",
       "      <td>1361.255</td>\n",
       "    </tr>\n",
       "  </tbody>\n",
       "</table>\n",
       "<p>653 rows × 9 columns</p>\n",
       "</div>"
      ],
      "text/plain": [
       "        property_type     price        city province_name  baths   purpose  \\\n",
       "166566          House  12500000      Lahore        Punjab      0  For Sale   \n",
       "70534           House  19500000      Lahore        Punjab      0  For Sale   \n",
       "101822  Upper Portion   2200000     Karachi         Sindh      0  For Sale   \n",
       "127961          House  75400000     Karachi         Sindh      0  For Sale   \n",
       "101433          House  37000000      Lahore        Punjab      0  For Sale   \n",
       "...               ...       ...         ...           ...    ...       ...   \n",
       "52280            Flat   4500000     Karachi         Sindh      0  For Sale   \n",
       "62472           House  12000000     Karachi         Sindh      0  For Sale   \n",
       "143618          House   4700000     Karachi         Sindh      0  For Sale   \n",
       "6966             Flat   2700000     Karachi         Sindh      0  For Sale   \n",
       "146140          House   8500000  Rawalpindi        Punjab      0  For Sale   \n",
       "\n",
       "        bedrooms date_added  Total_Area  \n",
       "166566         2  7/17/2019    2722.510  \n",
       "70534          5   5/4/2019    2722.510  \n",
       "101822         0  6/27/2019    4900.518  \n",
       "127961         0   7/3/2019    3267.012  \n",
       "101433         0  6/25/2019    5445.000  \n",
       "...          ...        ...         ...  \n",
       "52280          2   5/4/2019    8984.283  \n",
       "62472          4   5/6/2019    1089.004  \n",
       "143618         0  7/10/2019    9256.534  \n",
       "6966           3  7/18/2019    1089.004  \n",
       "146140         0  7/11/2019    1361.255  \n",
       "\n",
       "[653 rows x 9 columns]"
      ]
     },
     "execution_count": 27,
     "metadata": {},
     "output_type": "execute_result"
    }
   ],
   "source": [
    "df1[df1['baths']==0]"
   ]
  },
  {
   "cell_type": "code",
   "execution_count": 28,
   "id": "2e655d83",
   "metadata": {
    "execution": {
     "iopub.execute_input": "2022-11-27T06:22:48.937704Z",
     "iopub.status.busy": "2022-11-27T06:22:48.937248Z",
     "iopub.status.idle": "2022-11-27T06:22:48.944619Z",
     "shell.execute_reply": "2022-11-27T06:22:48.943365Z"
    },
    "papermill": {
     "duration": 0.036144,
     "end_time": "2022-11-27T06:22:48.946943",
     "exception": false,
     "start_time": "2022-11-27T06:22:48.910799",
     "status": "completed"
    },
    "tags": []
   },
   "outputs": [
    {
     "data": {
      "text/plain": [
       "3"
      ]
     },
     "execution_count": 28,
     "metadata": {},
     "output_type": "execute_result"
    }
   ],
   "source": [
    "int(df1['baths'].mean())"
   ]
  },
  {
   "cell_type": "code",
   "execution_count": 29,
   "id": "75afebf8",
   "metadata": {
    "execution": {
     "iopub.execute_input": "2022-11-27T06:22:48.997688Z",
     "iopub.status.busy": "2022-11-27T06:22:48.997266Z",
     "iopub.status.idle": "2022-11-27T06:22:49.003319Z",
     "shell.execute_reply": "2022-11-27T06:22:49.002453Z"
    },
    "papermill": {
     "duration": 0.034071,
     "end_time": "2022-11-27T06:22:49.005514",
     "exception": false,
     "start_time": "2022-11-27T06:22:48.971443",
     "status": "completed"
    },
    "tags": []
   },
   "outputs": [],
   "source": [
    "# Replacing 0 values with mean\n",
    "df1['baths'].replace(0,int(df1['baths'].mean()),inplace = True)"
   ]
  },
  {
   "cell_type": "code",
   "execution_count": 30,
   "id": "6ab3b3de",
   "metadata": {
    "execution": {
     "iopub.execute_input": "2022-11-27T06:22:49.055908Z",
     "iopub.status.busy": "2022-11-27T06:22:49.055501Z",
     "iopub.status.idle": "2022-11-27T06:22:49.286513Z",
     "shell.execute_reply": "2022-11-27T06:22:49.285574Z"
    },
    "papermill": {
     "duration": 0.259132,
     "end_time": "2022-11-27T06:22:49.288881",
     "exception": false,
     "start_time": "2022-11-27T06:22:49.029749",
     "status": "completed"
    },
    "tags": []
   },
   "outputs": [
    {
     "data": {
      "image/png": "[encoded data removed]",
      "text/plain": [
       "<Figure size 432x288 with 1 Axes>"
      ]
     },
     "metadata": {
      "needs_background": "light"
     },
     "output_type": "display_data"
    }
   ],
   "source": [
    "df1['baths'].plot.density(color='green')\n",
    "plt.show()"
   ]
  },
  {
   "cell_type": "code",
   "execution_count": 31,
   "id": "00b39668",
   "metadata": {
    "execution": {
     "iopub.execute_input": "2022-11-27T06:22:49.340026Z",
     "iopub.status.busy": "2022-11-27T06:22:49.339277Z",
     "iopub.status.idle": "2022-11-27T06:22:49.807937Z",
     "shell.execute_reply": "2022-11-27T06:22:49.806737Z"
    },
    "papermill": {
     "duration": 0.497024,
     "end_time": "2022-11-27T06:22:49.810473",
     "exception": false,
     "start_time": "2022-11-27T06:22:49.313449",
     "status": "completed"
    },
    "tags": []
   },
   "outputs": [
    {
     "data": {
      "text/plain": [
       "<AxesSubplot:xlabel='baths', ylabel='price'>"
      ]
     },
     "execution_count": 31,
     "metadata": {},
     "output_type": "execute_result"
    },
    {
     "data": {
      "image/png": "[encoded data removed]",
      "text/plain": [
       "<Figure size 432x288 with 1 Axes>"
      ]
     },
     "metadata": {
      "needs_background": "light"
     },
     "output_type": "display_data"
    }
   ],
   "source": [
    "sns.lineplot(x = 'baths', y = 'price', data = df1)"
   ]
  },
  {
   "cell_type": "code",
   "execution_count": 32,
   "id": "b20e44d6",
   "metadata": {
    "execution": {
     "iopub.execute_input": "2022-11-27T06:22:49.863807Z",
     "iopub.status.busy": "2022-11-27T06:22:49.863376Z",
     "iopub.status.idle": "2022-11-27T06:22:50.125288Z",
     "shell.execute_reply": "2022-11-27T06:22:50.124196Z"
    },
    "papermill": {
     "duration": 0.291318,
     "end_time": "2022-11-27T06:22:50.127700",
     "exception": false,
     "start_time": "2022-11-27T06:22:49.836382",
     "status": "completed"
    },
    "tags": []
   },
   "outputs": [
    {
     "data": {
      "image/png": "[encoded data removed]",
      "text/plain": [
       "<Figure size 432x288 with 1 Axes>"
      ]
     },
     "metadata": {
      "needs_background": "light"
     },
     "output_type": "display_data"
    }
   ],
   "source": [
    "fig = plt.figure()\n",
    "ax = fig.add_subplot(111)\n",
    "df1['bedrooms'].hist(bins = 50, ax =ax, color = 'green', alpha = 0.8 )\n",
    "plt.show()"
   ]
  },
  {
   "cell_type": "code",
   "execution_count": 33,
   "id": "173e7c15",
   "metadata": {
    "execution": {
     "iopub.execute_input": "2022-11-27T06:22:50.181896Z",
     "iopub.status.busy": "2022-11-27T06:22:50.181257Z",
     "iopub.status.idle": "2022-11-27T06:22:50.202597Z",
     "shell.execute_reply": "2022-11-27T06:22:50.201394Z"
    },
    "papermill": {
     "duration": 0.051316,
     "end_time": "2022-11-27T06:22:50.205171",
     "exception": false,
     "start_time": "2022-11-27T06:22:50.153855",
     "status": "completed"
    },
    "tags": []
   },
   "outputs": [
    {
     "data": {
      "text/html": [
       "<div>\n",
       "<style scoped>\n",
       "    .dataframe tbody tr th:only-of-type {\n",
       "        vertical-align: middle;\n",
       "    }\n",
       "\n",
       "    .dataframe tbody tr th {\n",
       "        vertical-align: top;\n",
       "    }\n",
       "\n",
       "    .dataframe thead th {\n",
       "        text-align: right;\n",
       "    }\n",
       "</style>\n",
       "<table border=\"1\" class=\"dataframe\">\n",
       "  <thead>\n",
       "    <tr style=\"text-align: right;\">\n",
       "      <th></th>\n",
       "      <th>property_type</th>\n",
       "      <th>price</th>\n",
       "      <th>city</th>\n",
       "      <th>province_name</th>\n",
       "      <th>baths</th>\n",
       "      <th>purpose</th>\n",
       "      <th>bedrooms</th>\n",
       "      <th>date_added</th>\n",
       "      <th>Total_Area</th>\n",
       "    </tr>\n",
       "  </thead>\n",
       "  <tbody>\n",
       "    <tr>\n",
       "      <th>101822</th>\n",
       "      <td>Upper Portion</td>\n",
       "      <td>2200000</td>\n",
       "      <td>Karachi</td>\n",
       "      <td>Sindh</td>\n",
       "      <td>3</td>\n",
       "      <td>For Sale</td>\n",
       "      <td>0</td>\n",
       "      <td>6/27/2019</td>\n",
       "      <td>4900.518</td>\n",
       "    </tr>\n",
       "    <tr>\n",
       "      <th>127961</th>\n",
       "      <td>House</td>\n",
       "      <td>75400000</td>\n",
       "      <td>Karachi</td>\n",
       "      <td>Sindh</td>\n",
       "      <td>3</td>\n",
       "      <td>For Sale</td>\n",
       "      <td>0</td>\n",
       "      <td>7/3/2019</td>\n",
       "      <td>3267.012</td>\n",
       "    </tr>\n",
       "    <tr>\n",
       "      <th>101433</th>\n",
       "      <td>House</td>\n",
       "      <td>37000000</td>\n",
       "      <td>Lahore</td>\n",
       "      <td>Punjab</td>\n",
       "      <td>3</td>\n",
       "      <td>For Sale</td>\n",
       "      <td>0</td>\n",
       "      <td>6/25/2019</td>\n",
       "      <td>5445.000</td>\n",
       "    </tr>\n",
       "    <tr>\n",
       "      <th>466</th>\n",
       "      <td>House</td>\n",
       "      <td>75000000</td>\n",
       "      <td>Lahore</td>\n",
       "      <td>Punjab</td>\n",
       "      <td>3</td>\n",
       "      <td>For Sale</td>\n",
       "      <td>0</td>\n",
       "      <td>5/3/2019</td>\n",
       "      <td>81675.000</td>\n",
       "    </tr>\n",
       "    <tr>\n",
       "      <th>78204</th>\n",
       "      <td>House</td>\n",
       "      <td>60000000</td>\n",
       "      <td>Faisalabad</td>\n",
       "      <td>Punjab</td>\n",
       "      <td>3</td>\n",
       "      <td>For Sale</td>\n",
       "      <td>0</td>\n",
       "      <td>6/16/2019</td>\n",
       "      <td>141570.000</td>\n",
       "    </tr>\n",
       "    <tr>\n",
       "      <th>...</th>\n",
       "      <td>...</td>\n",
       "      <td>...</td>\n",
       "      <td>...</td>\n",
       "      <td>...</td>\n",
       "      <td>...</td>\n",
       "      <td>...</td>\n",
       "      <td>...</td>\n",
       "      <td>...</td>\n",
       "      <td>...</td>\n",
       "    </tr>\n",
       "    <tr>\n",
       "      <th>26179</th>\n",
       "      <td>Upper Portion</td>\n",
       "      <td>7500000</td>\n",
       "      <td>Karachi</td>\n",
       "      <td>Sindh</td>\n",
       "      <td>3</td>\n",
       "      <td>For Sale</td>\n",
       "      <td>0</td>\n",
       "      <td>5/6/2019</td>\n",
       "      <td>13068.048</td>\n",
       "    </tr>\n",
       "    <tr>\n",
       "      <th>139341</th>\n",
       "      <td>Flat</td>\n",
       "      <td>16000000</td>\n",
       "      <td>Islamabad</td>\n",
       "      <td>Islamabad Capital</td>\n",
       "      <td>3</td>\n",
       "      <td>For Sale</td>\n",
       "      <td>0</td>\n",
       "      <td>7/10/2019</td>\n",
       "      <td>5989.522</td>\n",
       "    </tr>\n",
       "    <tr>\n",
       "      <th>77405</th>\n",
       "      <td>House</td>\n",
       "      <td>15000000</td>\n",
       "      <td>Islamabad</td>\n",
       "      <td>Islamabad Capital</td>\n",
       "      <td>3</td>\n",
       "      <td>For Sale</td>\n",
       "      <td>0</td>\n",
       "      <td>6/3/2019</td>\n",
       "      <td>18240.817</td>\n",
       "    </tr>\n",
       "    <tr>\n",
       "      <th>143618</th>\n",
       "      <td>House</td>\n",
       "      <td>4700000</td>\n",
       "      <td>Karachi</td>\n",
       "      <td>Sindh</td>\n",
       "      <td>3</td>\n",
       "      <td>For Sale</td>\n",
       "      <td>0</td>\n",
       "      <td>7/10/2019</td>\n",
       "      <td>9256.534</td>\n",
       "    </tr>\n",
       "    <tr>\n",
       "      <th>146140</th>\n",
       "      <td>House</td>\n",
       "      <td>8500000</td>\n",
       "      <td>Rawalpindi</td>\n",
       "      <td>Punjab</td>\n",
       "      <td>3</td>\n",
       "      <td>For Sale</td>\n",
       "      <td>0</td>\n",
       "      <td>7/11/2019</td>\n",
       "      <td>1361.255</td>\n",
       "    </tr>\n",
       "  </tbody>\n",
       "</table>\n",
       "<p>295 rows × 9 columns</p>\n",
       "</div>"
      ],
      "text/plain": [
       "        property_type     price        city      province_name  baths  \\\n",
       "101822  Upper Portion   2200000     Karachi              Sindh      3   \n",
       "127961          House  75400000     Karachi              Sindh      3   \n",
       "101433          House  37000000      Lahore             Punjab      3   \n",
       "466             House  75000000      Lahore             Punjab      3   \n",
       "78204           House  60000000  Faisalabad             Punjab      3   \n",
       "...               ...       ...         ...                ...    ...   \n",
       "26179   Upper Portion   7500000     Karachi              Sindh      3   \n",
       "139341           Flat  16000000   Islamabad  Islamabad Capital      3   \n",
       "77405           House  15000000   Islamabad  Islamabad Capital      3   \n",
       "143618          House   4700000     Karachi              Sindh      3   \n",
       "146140          House   8500000  Rawalpindi             Punjab      3   \n",
       "\n",
       "         purpose  bedrooms date_added  Total_Area  \n",
       "101822  For Sale         0  6/27/2019    4900.518  \n",
       "127961  For Sale         0   7/3/2019    3267.012  \n",
       "101433  For Sale         0  6/25/2019    5445.000  \n",
       "466     For Sale         0   5/3/2019   81675.000  \n",
       "78204   For Sale         0  6/16/2019  141570.000  \n",
       "...          ...       ...        ...         ...  \n",
       "26179   For Sale         0   5/6/2019   13068.048  \n",
       "139341  For Sale         0  7/10/2019    5989.522  \n",
       "77405   For Sale         0   6/3/2019   18240.817  \n",
       "143618  For Sale         0  7/10/2019    9256.534  \n",
       "146140  For Sale         0  7/11/2019    1361.255  \n",
       "\n",
       "[295 rows x 9 columns]"
      ]
     },
     "execution_count": 33,
     "metadata": {},
     "output_type": "execute_result"
    }
   ],
   "source": [
    "df1[df1['bedrooms']==0]"
   ]
  },
  {
   "cell_type": "code",
   "execution_count": 34,
   "id": "ee1c5a83",
   "metadata": {
    "execution": {
     "iopub.execute_input": "2022-11-27T06:22:50.259300Z",
     "iopub.status.busy": "2022-11-27T06:22:50.258871Z",
     "iopub.status.idle": "2022-11-27T06:22:50.264852Z",
     "shell.execute_reply": "2022-11-27T06:22:50.263937Z"
    },
    "papermill": {
     "duration": 0.035805,
     "end_time": "2022-11-27T06:22:50.267019",
     "exception": false,
     "start_time": "2022-11-27T06:22:50.231214",
     "status": "completed"
    },
    "tags": []
   },
   "outputs": [],
   "source": [
    "# Replacing 0 values with mean\n",
    "df1['bedrooms'].replace(0,int(df1['bedrooms'].mean()),inplace = True)"
   ]
  },
  {
   "cell_type": "code",
   "execution_count": 35,
   "id": "bb3c6b01",
   "metadata": {
    "execution": {
     "iopub.execute_input": "2022-11-27T06:22:50.321024Z",
     "iopub.status.busy": "2022-11-27T06:22:50.320305Z",
     "iopub.status.idle": "2022-11-27T06:22:50.556491Z",
     "shell.execute_reply": "2022-11-27T06:22:50.555346Z"
    },
    "papermill": {
     "duration": 0.26621,
     "end_time": "2022-11-27T06:22:50.559056",
     "exception": false,
     "start_time": "2022-11-27T06:22:50.292846",
     "status": "completed"
    },
    "tags": []
   },
   "outputs": [
    {
     "data": {
      "image/png": "[encoded data removed]",
      "text/plain": [
       "<Figure size 432x288 with 1 Axes>"
      ]
     },
     "metadata": {
      "needs_background": "light"
     },
     "output_type": "display_data"
    }
   ],
   "source": [
    "df1['bedrooms'].plot.density(color='green')\n",
    "plt.show()"
   ]
  },
  {
   "cell_type": "code",
   "execution_count": 36,
   "id": "a33d10fb",
   "metadata": {
    "execution": {
     "iopub.execute_input": "2022-11-27T06:22:50.613208Z",
     "iopub.status.busy": "2022-11-27T06:22:50.612778Z",
     "iopub.status.idle": "2022-11-27T06:22:51.062370Z",
     "shell.execute_reply": "2022-11-27T06:22:51.061534Z"
    },
    "papermill": {
     "duration": 0.479224,
     "end_time": "2022-11-27T06:22:51.064422",
     "exception": false,
     "start_time": "2022-11-27T06:22:50.585198",
     "status": "completed"
    },
    "tags": []
   },
   "outputs": [
    {
     "data": {
      "image/png": "[encoded data removed]",
      "text/plain": [
       "<Figure size 432x288 with 1 Axes>"
      ]
     },
     "metadata": {
      "needs_background": "light"
     },
     "output_type": "display_data"
    }
   ],
   "source": [
    "sns.lineplot(x = 'bedrooms', y = 'price', data = df1)\n",
    "plt.show()"
   ]
  },
  {
   "cell_type": "code",
   "execution_count": 37,
   "id": "e4bcd475",
   "metadata": {
    "execution": {
     "iopub.execute_input": "2022-11-27T06:22:51.119737Z",
     "iopub.status.busy": "2022-11-27T06:22:51.118996Z",
     "iopub.status.idle": "2022-11-27T06:22:51.141973Z",
     "shell.execute_reply": "2022-11-27T06:22:51.141176Z"
    },
    "papermill": {
     "duration": 0.053198,
     "end_time": "2022-11-27T06:22:51.144031",
     "exception": false,
     "start_time": "2022-11-27T06:22:51.090833",
     "status": "completed"
    },
    "tags": []
   },
   "outputs": [
    {
     "data": {
      "text/html": [
       "<div>\n",
       "<style scoped>\n",
       "    .dataframe tbody tr th:only-of-type {\n",
       "        vertical-align: middle;\n",
       "    }\n",
       "\n",
       "    .dataframe tbody tr th {\n",
       "        vertical-align: top;\n",
       "    }\n",
       "\n",
       "    .dataframe thead th {\n",
       "        text-align: right;\n",
       "    }\n",
       "</style>\n",
       "<table border=\"1\" class=\"dataframe\">\n",
       "  <thead>\n",
       "    <tr style=\"text-align: right;\">\n",
       "      <th></th>\n",
       "      <th>price</th>\n",
       "      <th>baths</th>\n",
       "      <th>bedrooms</th>\n",
       "      <th>Total_Area</th>\n",
       "    </tr>\n",
       "  </thead>\n",
       "  <tbody>\n",
       "    <tr>\n",
       "      <th>count</th>\n",
       "      <td>3.000000e+03</td>\n",
       "      <td>3000.000000</td>\n",
       "      <td>3000.000000</td>\n",
       "      <td>3000.000000</td>\n",
       "    </tr>\n",
       "    <tr>\n",
       "      <th>mean</th>\n",
       "      <td>2.453966e+07</td>\n",
       "      <td>3.734000</td>\n",
       "      <td>3.698333</td>\n",
       "      <td>9279.300947</td>\n",
       "    </tr>\n",
       "    <tr>\n",
       "      <th>std</th>\n",
       "      <td>3.721824e+07</td>\n",
       "      <td>1.594603</td>\n",
       "      <td>1.510880</td>\n",
       "      <td>16530.962952</td>\n",
       "    </tr>\n",
       "    <tr>\n",
       "      <th>min</th>\n",
       "      <td>1.200000e+04</td>\n",
       "      <td>1.000000</td>\n",
       "      <td>1.000000</td>\n",
       "      <td>272.251000</td>\n",
       "    </tr>\n",
       "    <tr>\n",
       "      <th>25%</th>\n",
       "      <td>7.379750e+06</td>\n",
       "      <td>3.000000</td>\n",
       "      <td>3.000000</td>\n",
       "      <td>1633.506000</td>\n",
       "    </tr>\n",
       "    <tr>\n",
       "      <th>50%</th>\n",
       "      <td>1.350000e+07</td>\n",
       "      <td>3.000000</td>\n",
       "      <td>3.000000</td>\n",
       "      <td>3811.514000</td>\n",
       "    </tr>\n",
       "    <tr>\n",
       "      <th>75%</th>\n",
       "      <td>2.550000e+07</td>\n",
       "      <td>5.000000</td>\n",
       "      <td>5.000000</td>\n",
       "      <td>11434.542000</td>\n",
       "    </tr>\n",
       "    <tr>\n",
       "      <th>max</th>\n",
       "      <td>7.500000e+08</td>\n",
       "      <td>12.000000</td>\n",
       "      <td>11.000000</td>\n",
       "      <td>392040.000000</td>\n",
       "    </tr>\n",
       "  </tbody>\n",
       "</table>\n",
       "</div>"
      ],
      "text/plain": [
       "              price        baths     bedrooms     Total_Area\n",
       "count  3.000000e+03  3000.000000  3000.000000    3000.000000\n",
       "mean   2.453966e+07     3.734000     3.698333    9279.300947\n",
       "std    3.721824e+07     1.594603     1.510880   16530.962952\n",
       "min    1.200000e+04     1.000000     1.000000     272.251000\n",
       "25%    7.379750e+06     3.000000     3.000000    1633.506000\n",
       "50%    1.350000e+07     3.000000     3.000000    3811.514000\n",
       "75%    2.550000e+07     5.000000     5.000000   11434.542000\n",
       "max    7.500000e+08    12.000000    11.000000  392040.000000"
      ]
     },
     "execution_count": 37,
     "metadata": {},
     "output_type": "execute_result"
    }
   ],
   "source": [
    "df1.describe()"
   ]
  },
  {
   "cell_type": "markdown",
   "id": "bd1f429e",
   "metadata": {
    "papermill": {
     "duration": 0.026569,
     "end_time": "2022-11-27T06:22:51.197719",
     "exception": false,
     "start_time": "2022-11-27T06:22:51.171150",
     "status": "completed"
    },
    "tags": []
   },
   "source": [
    "### Handling Column 'price'"
   ]
  },
  {
   "cell_type": "code",
   "execution_count": 38,
   "id": "37a8e56d",
   "metadata": {
    "execution": {
     "iopub.execute_input": "2022-11-27T06:22:51.254741Z",
     "iopub.status.busy": "2022-11-27T06:22:51.253557Z",
     "iopub.status.idle": "2022-11-27T06:22:51.639606Z",
     "shell.execute_reply": "2022-11-27T06:22:51.638640Z"
    },
    "papermill": {
     "duration": 0.417065,
     "end_time": "2022-11-27T06:22:51.641935",
     "exception": false,
     "start_time": "2022-11-27T06:22:51.224870",
     "status": "completed"
    },
    "tags": []
   },
   "outputs": [
    {
     "data": {
      "image/png": "[encoded data removed]",
      "text/plain": [
       "<Figure size 432x288 with 1 Axes>"
      ]
     },
     "metadata": {
      "needs_background": "light"
     },
     "output_type": "display_data"
    }
   ],
   "source": [
    "df1['price'].plot.density(color='green')\n",
    "plt.show()"
   ]
  },
  {
   "cell_type": "code",
   "execution_count": 39,
   "id": "42fc307d",
   "metadata": {
    "execution": {
     "iopub.execute_input": "2022-11-27T06:22:51.697711Z",
     "iopub.status.busy": "2022-11-27T06:22:51.696979Z",
     "iopub.status.idle": "2022-11-27T06:22:51.850852Z",
     "shell.execute_reply": "2022-11-27T06:22:51.849576Z"
    },
    "papermill": {
     "duration": 0.185157,
     "end_time": "2022-11-27T06:22:51.854087",
     "exception": false,
     "start_time": "2022-11-27T06:22:51.668930",
     "status": "completed"
    },
    "tags": []
   },
   "outputs": [
    {
     "name": "stderr",
     "output_type": "stream",
     "text": [
      "/opt/conda/lib/python3.7/site-packages/seaborn/_decorators.py:43: FutureWarning: Pass the following variable as a keyword arg: x. From version 0.12, the only valid positional argument will be `data`, and passing other arguments without an explicit keyword will result in an error or misinterpretation.\n",
      "  FutureWarning\n"
     ]
    },
    {
     "data": {
      "image/png": "[encoded data removed]",
      "text/plain": [
       "<Figure size 432x288 with 1 Axes>"
      ]
     },
     "metadata": {
      "needs_background": "light"
     },
     "output_type": "display_data"
    }
   ],
   "source": [
    "sns.boxplot(df1['price'])\n",
    "plt.show()"
   ]
  },
  {
   "cell_type": "code",
   "execution_count": 40,
   "id": "1d3f5d2b",
   "metadata": {
    "execution": {
     "iopub.execute_input": "2022-11-27T06:22:51.911032Z",
     "iopub.status.busy": "2022-11-27T06:22:51.910071Z",
     "iopub.status.idle": "2022-11-27T06:22:51.917774Z",
     "shell.execute_reply": "2022-11-27T06:22:51.916507Z"
    },
    "papermill": {
     "duration": 0.038569,
     "end_time": "2022-11-27T06:22:51.920200",
     "exception": false,
     "start_time": "2022-11-27T06:22:51.881631",
     "status": "completed"
    },
    "tags": []
   },
   "outputs": [
    {
     "name": "stdout",
     "output_type": "stream",
     "text": [
      "750000000\n"
     ]
    }
   ],
   "source": [
    "print(df1.price.max()) # Remove this outlier\n",
    "df2 = df1[df1['price'] < 400000000] "
   ]
  },
  {
   "cell_type": "code",
   "execution_count": 41,
   "id": "0a9678b2",
   "metadata": {
    "execution": {
     "iopub.execute_input": "2022-11-27T06:22:51.976552Z",
     "iopub.status.busy": "2022-11-27T06:22:51.975490Z",
     "iopub.status.idle": "2022-11-27T06:22:51.999543Z",
     "shell.execute_reply": "2022-11-27T06:22:51.998274Z"
    },
    "papermill": {
     "duration": 0.054581,
     "end_time": "2022-11-27T06:22:52.001845",
     "exception": false,
     "start_time": "2022-11-27T06:22:51.947264",
     "status": "completed"
    },
    "tags": []
   },
   "outputs": [
    {
     "data": {
      "text/html": [
       "<div>\n",
       "<style scoped>\n",
       "    .dataframe tbody tr th:only-of-type {\n",
       "        vertical-align: middle;\n",
       "    }\n",
       "\n",
       "    .dataframe tbody tr th {\n",
       "        vertical-align: top;\n",
       "    }\n",
       "\n",
       "    .dataframe thead th {\n",
       "        text-align: right;\n",
       "    }\n",
       "</style>\n",
       "<table border=\"1\" class=\"dataframe\">\n",
       "  <thead>\n",
       "    <tr style=\"text-align: right;\">\n",
       "      <th></th>\n",
       "      <th>price</th>\n",
       "      <th>baths</th>\n",
       "      <th>bedrooms</th>\n",
       "      <th>Total_Area</th>\n",
       "    </tr>\n",
       "  </thead>\n",
       "  <tbody>\n",
       "    <tr>\n",
       "      <th>count</th>\n",
       "      <td>2.997000e+03</td>\n",
       "      <td>2997.000000</td>\n",
       "      <td>2997.000000</td>\n",
       "      <td>2997.000000</td>\n",
       "    </tr>\n",
       "    <tr>\n",
       "      <th>mean</th>\n",
       "      <td>2.403036e+07</td>\n",
       "      <td>3.733066</td>\n",
       "      <td>3.694361</td>\n",
       "      <td>9263.154101</td>\n",
       "    </tr>\n",
       "    <tr>\n",
       "      <th>std</th>\n",
       "      <td>3.321426e+07</td>\n",
       "      <td>1.594639</td>\n",
       "      <td>1.505446</td>\n",
       "      <td>16531.151467</td>\n",
       "    </tr>\n",
       "    <tr>\n",
       "      <th>min</th>\n",
       "      <td>1.200000e+04</td>\n",
       "      <td>1.000000</td>\n",
       "      <td>1.000000</td>\n",
       "      <td>272.251000</td>\n",
       "    </tr>\n",
       "    <tr>\n",
       "      <th>25%</th>\n",
       "      <td>7.364000e+06</td>\n",
       "      <td>3.000000</td>\n",
       "      <td>3.000000</td>\n",
       "      <td>1633.506000</td>\n",
       "    </tr>\n",
       "    <tr>\n",
       "      <th>50%</th>\n",
       "      <td>1.350000e+07</td>\n",
       "      <td>3.000000</td>\n",
       "      <td>3.000000</td>\n",
       "      <td>3811.514000</td>\n",
       "    </tr>\n",
       "    <tr>\n",
       "      <th>75%</th>\n",
       "      <td>2.500000e+07</td>\n",
       "      <td>5.000000</td>\n",
       "      <td>5.000000</td>\n",
       "      <td>11434.542000</td>\n",
       "    </tr>\n",
       "    <tr>\n",
       "      <th>max</th>\n",
       "      <td>3.500000e+08</td>\n",
       "      <td>12.000000</td>\n",
       "      <td>11.000000</td>\n",
       "      <td>392040.000000</td>\n",
       "    </tr>\n",
       "  </tbody>\n",
       "</table>\n",
       "</div>"
      ],
      "text/plain": [
       "              price        baths     bedrooms     Total_Area\n",
       "count  2.997000e+03  2997.000000  2997.000000    2997.000000\n",
       "mean   2.403036e+07     3.733066     3.694361    9263.154101\n",
       "std    3.321426e+07     1.594639     1.505446   16531.151467\n",
       "min    1.200000e+04     1.000000     1.000000     272.251000\n",
       "25%    7.364000e+06     3.000000     3.000000    1633.506000\n",
       "50%    1.350000e+07     3.000000     3.000000    3811.514000\n",
       "75%    2.500000e+07     5.000000     5.000000   11434.542000\n",
       "max    3.500000e+08    12.000000    11.000000  392040.000000"
      ]
     },
     "execution_count": 41,
     "metadata": {},
     "output_type": "execute_result"
    }
   ],
   "source": [
    "df2.describe()"
   ]
  },
  {
   "cell_type": "code",
   "execution_count": 42,
   "id": "d49832f5",
   "metadata": {
    "execution": {
     "iopub.execute_input": "2022-11-27T06:22:52.057701Z",
     "iopub.status.busy": "2022-11-27T06:22:52.057277Z",
     "iopub.status.idle": "2022-11-27T06:22:52.071817Z",
     "shell.execute_reply": "2022-11-27T06:22:52.070601Z"
    },
    "papermill": {
     "duration": 0.045208,
     "end_time": "2022-11-27T06:22:52.074067",
     "exception": false,
     "start_time": "2022-11-27T06:22:52.028859",
     "status": "completed"
    },
    "tags": []
   },
   "outputs": [
    {
     "data": {
      "text/html": [
       "<div>\n",
       "<style scoped>\n",
       "    .dataframe tbody tr th:only-of-type {\n",
       "        vertical-align: middle;\n",
       "    }\n",
       "\n",
       "    .dataframe tbody tr th {\n",
       "        vertical-align: top;\n",
       "    }\n",
       "\n",
       "    .dataframe thead th {\n",
       "        text-align: right;\n",
       "    }\n",
       "</style>\n",
       "<table border=\"1\" class=\"dataframe\">\n",
       "  <thead>\n",
       "    <tr style=\"text-align: right;\">\n",
       "      <th></th>\n",
       "      <th>property_type</th>\n",
       "      <th>price</th>\n",
       "      <th>city</th>\n",
       "      <th>province_name</th>\n",
       "      <th>baths</th>\n",
       "      <th>purpose</th>\n",
       "      <th>bedrooms</th>\n",
       "      <th>date_added</th>\n",
       "      <th>Total_Area</th>\n",
       "    </tr>\n",
       "  </thead>\n",
       "  <tbody>\n",
       "    <tr>\n",
       "      <th>54472</th>\n",
       "      <td>House</td>\n",
       "      <td>39000000</td>\n",
       "      <td>Lahore</td>\n",
       "      <td>Punjab</td>\n",
       "      <td>6</td>\n",
       "      <td>For Sale</td>\n",
       "      <td>5</td>\n",
       "      <td>4/4/2019</td>\n",
       "      <td>2722.510</td>\n",
       "    </tr>\n",
       "    <tr>\n",
       "      <th>139518</th>\n",
       "      <td>Upper Portion</td>\n",
       "      <td>5000000</td>\n",
       "      <td>Karachi</td>\n",
       "      <td>Sindh</td>\n",
       "      <td>2</td>\n",
       "      <td>For Sale</td>\n",
       "      <td>2</td>\n",
       "      <td>7/10/2019</td>\n",
       "      <td>6534.024</td>\n",
       "    </tr>\n",
       "  </tbody>\n",
       "</table>\n",
       "</div>"
      ],
      "text/plain": [
       "        property_type     price     city province_name  baths   purpose  \\\n",
       "54472           House  39000000   Lahore        Punjab      6  For Sale   \n",
       "139518  Upper Portion   5000000  Karachi         Sindh      2  For Sale   \n",
       "\n",
       "        bedrooms date_added  Total_Area  \n",
       "54472          5   4/4/2019    2722.510  \n",
       "139518         2  7/10/2019    6534.024  "
      ]
     },
     "execution_count": 42,
     "metadata": {},
     "output_type": "execute_result"
    }
   ],
   "source": [
    "df2.head(2)"
   ]
  },
  {
   "cell_type": "code",
   "execution_count": 43,
   "id": "20f9cfae",
   "metadata": {
    "execution": {
     "iopub.execute_input": "2022-11-27T06:22:52.130870Z",
     "iopub.status.busy": "2022-11-27T06:22:52.130446Z",
     "iopub.status.idle": "2022-11-27T06:22:52.144322Z",
     "shell.execute_reply": "2022-11-27T06:22:52.143041Z"
    },
    "papermill": {
     "duration": 0.045207,
     "end_time": "2022-11-27T06:22:52.146699",
     "exception": false,
     "start_time": "2022-11-27T06:22:52.101492",
     "status": "completed"
    },
    "tags": []
   },
   "outputs": [
    {
     "name": "stderr",
     "output_type": "stream",
     "text": [
      "/opt/conda/lib/python3.7/site-packages/pandas/core/frame.py:4913: SettingWithCopyWarning: \n",
      "A value is trying to be set on a copy of a slice from a DataFrame\n",
      "\n",
      "See the caveats in the documentation: https://pandas.pydata.org/pandas-docs/stable/user_guide/indexing.html#returning-a-view-versus-a-copy\n",
      "  errors=errors,\n"
     ]
    },
    {
     "data": {
      "text/plain": [
       "(2997, 7)"
      ]
     },
     "execution_count": 43,
     "metadata": {},
     "output_type": "execute_result"
    }
   ],
   "source": [
    "df2.drop(['purpose','date_added'],axis = 1, inplace = True)\n",
    "df2.shape"
   ]
  },
  {
   "cell_type": "code",
   "execution_count": 44,
   "id": "d116e3fd",
   "metadata": {
    "execution": {
     "iopub.execute_input": "2022-11-27T06:22:52.205880Z",
     "iopub.status.busy": "2022-11-27T06:22:52.204498Z",
     "iopub.status.idle": "2022-11-27T06:22:52.218400Z",
     "shell.execute_reply": "2022-11-27T06:22:52.217248Z"
    },
    "papermill": {
     "duration": 0.045911,
     "end_time": "2022-11-27T06:22:52.220648",
     "exception": false,
     "start_time": "2022-11-27T06:22:52.174737",
     "status": "completed"
    },
    "tags": []
   },
   "outputs": [
    {
     "data": {
      "text/html": [
       "<div>\n",
       "<style scoped>\n",
       "    .dataframe tbody tr th:only-of-type {\n",
       "        vertical-align: middle;\n",
       "    }\n",
       "\n",
       "    .dataframe tbody tr th {\n",
       "        vertical-align: top;\n",
       "    }\n",
       "\n",
       "    .dataframe thead th {\n",
       "        text-align: right;\n",
       "    }\n",
       "</style>\n",
       "<table border=\"1\" class=\"dataframe\">\n",
       "  <thead>\n",
       "    <tr style=\"text-align: right;\">\n",
       "      <th></th>\n",
       "      <th>property_type</th>\n",
       "      <th>price</th>\n",
       "      <th>city</th>\n",
       "      <th>province_name</th>\n",
       "      <th>baths</th>\n",
       "      <th>bedrooms</th>\n",
       "      <th>Total_Area</th>\n",
       "    </tr>\n",
       "  </thead>\n",
       "  <tbody>\n",
       "    <tr>\n",
       "      <th>54472</th>\n",
       "      <td>House</td>\n",
       "      <td>39000000</td>\n",
       "      <td>Lahore</td>\n",
       "      <td>Punjab</td>\n",
       "      <td>6</td>\n",
       "      <td>5</td>\n",
       "      <td>2722.510</td>\n",
       "    </tr>\n",
       "    <tr>\n",
       "      <th>139518</th>\n",
       "      <td>Upper Portion</td>\n",
       "      <td>5000000</td>\n",
       "      <td>Karachi</td>\n",
       "      <td>Sindh</td>\n",
       "      <td>2</td>\n",
       "      <td>2</td>\n",
       "      <td>6534.024</td>\n",
       "    </tr>\n",
       "  </tbody>\n",
       "</table>\n",
       "</div>"
      ],
      "text/plain": [
       "        property_type     price     city province_name  baths  bedrooms  \\\n",
       "54472           House  39000000   Lahore        Punjab      6         5   \n",
       "139518  Upper Portion   5000000  Karachi         Sindh      2         2   \n",
       "\n",
       "        Total_Area  \n",
       "54472     2722.510  \n",
       "139518    6534.024  "
      ]
     },
     "execution_count": 44,
     "metadata": {},
     "output_type": "execute_result"
    }
   ],
   "source": [
    "df2.head(2)"
   ]
  },
  {
   "cell_type": "code",
   "execution_count": 45,
   "id": "ad5fa56b",
   "metadata": {
    "execution": {
     "iopub.execute_input": "2022-11-27T06:22:52.280106Z",
     "iopub.status.busy": "2022-11-27T06:22:52.278990Z",
     "iopub.status.idle": "2022-11-27T06:22:52.302668Z",
     "shell.execute_reply": "2022-11-27T06:22:52.301513Z"
    },
    "papermill": {
     "duration": 0.055741,
     "end_time": "2022-11-27T06:22:52.305132",
     "exception": false,
     "start_time": "2022-11-27T06:22:52.249391",
     "status": "completed"
    },
    "tags": []
   },
   "outputs": [
    {
     "data": {
      "text/html": [
       "<div>\n",
       "<style scoped>\n",
       "    .dataframe tbody tr th:only-of-type {\n",
       "        vertical-align: middle;\n",
       "    }\n",
       "\n",
       "    .dataframe tbody tr th {\n",
       "        vertical-align: top;\n",
       "    }\n",
       "\n",
       "    .dataframe thead th {\n",
       "        text-align: right;\n",
       "    }\n",
       "</style>\n",
       "<table border=\"1\" class=\"dataframe\">\n",
       "  <thead>\n",
       "    <tr style=\"text-align: right;\">\n",
       "      <th></th>\n",
       "      <th>price</th>\n",
       "      <th>baths</th>\n",
       "      <th>bedrooms</th>\n",
       "      <th>Total_Area</th>\n",
       "    </tr>\n",
       "  </thead>\n",
       "  <tbody>\n",
       "    <tr>\n",
       "      <th>count</th>\n",
       "      <td>2.997000e+03</td>\n",
       "      <td>2997.000000</td>\n",
       "      <td>2997.000000</td>\n",
       "      <td>2997.000000</td>\n",
       "    </tr>\n",
       "    <tr>\n",
       "      <th>mean</th>\n",
       "      <td>2.403036e+07</td>\n",
       "      <td>3.733066</td>\n",
       "      <td>3.694361</td>\n",
       "      <td>9263.154101</td>\n",
       "    </tr>\n",
       "    <tr>\n",
       "      <th>std</th>\n",
       "      <td>3.321426e+07</td>\n",
       "      <td>1.594639</td>\n",
       "      <td>1.505446</td>\n",
       "      <td>16531.151467</td>\n",
       "    </tr>\n",
       "    <tr>\n",
       "      <th>min</th>\n",
       "      <td>1.200000e+04</td>\n",
       "      <td>1.000000</td>\n",
       "      <td>1.000000</td>\n",
       "      <td>272.251000</td>\n",
       "    </tr>\n",
       "    <tr>\n",
       "      <th>25%</th>\n",
       "      <td>7.364000e+06</td>\n",
       "      <td>3.000000</td>\n",
       "      <td>3.000000</td>\n",
       "      <td>1633.506000</td>\n",
       "    </tr>\n",
       "    <tr>\n",
       "      <th>50%</th>\n",
       "      <td>1.350000e+07</td>\n",
       "      <td>3.000000</td>\n",
       "      <td>3.000000</td>\n",
       "      <td>3811.514000</td>\n",
       "    </tr>\n",
       "    <tr>\n",
       "      <th>75%</th>\n",
       "      <td>2.500000e+07</td>\n",
       "      <td>5.000000</td>\n",
       "      <td>5.000000</td>\n",
       "      <td>11434.542000</td>\n",
       "    </tr>\n",
       "    <tr>\n",
       "      <th>max</th>\n",
       "      <td>3.500000e+08</td>\n",
       "      <td>12.000000</td>\n",
       "      <td>11.000000</td>\n",
       "      <td>392040.000000</td>\n",
       "    </tr>\n",
       "  </tbody>\n",
       "</table>\n",
       "</div>"
      ],
      "text/plain": [
       "              price        baths     bedrooms     Total_Area\n",
       "count  2.997000e+03  2997.000000  2997.000000    2997.000000\n",
       "mean   2.403036e+07     3.733066     3.694361    9263.154101\n",
       "std    3.321426e+07     1.594639     1.505446   16531.151467\n",
       "min    1.200000e+04     1.000000     1.000000     272.251000\n",
       "25%    7.364000e+06     3.000000     3.000000    1633.506000\n",
       "50%    1.350000e+07     3.000000     3.000000    3811.514000\n",
       "75%    2.500000e+07     5.000000     5.000000   11434.542000\n",
       "max    3.500000e+08    12.000000    11.000000  392040.000000"
      ]
     },
     "execution_count": 45,
     "metadata": {},
     "output_type": "execute_result"
    }
   ],
   "source": [
    "df2.describe()"
   ]
  },
  {
   "cell_type": "markdown",
   "id": "8513c5a4",
   "metadata": {
    "papermill": {
     "duration": 0.028423,
     "end_time": "2022-11-27T06:22:52.361570",
     "exception": false,
     "start_time": "2022-11-27T06:22:52.333147",
     "status": "completed"
    },
    "tags": []
   },
   "source": [
    "### Handling Column 'Total_Area'"
   ]
  },
  {
   "cell_type": "code",
   "execution_count": 46,
   "id": "d06928f8",
   "metadata": {
    "execution": {
     "iopub.execute_input": "2022-11-27T06:22:52.420397Z",
     "iopub.status.busy": "2022-11-27T06:22:52.419578Z",
     "iopub.status.idle": "2022-11-27T06:22:52.687984Z",
     "shell.execute_reply": "2022-11-27T06:22:52.687144Z"
    },
    "papermill": {
     "duration": 0.300326,
     "end_time": "2022-11-27T06:22:52.690144",
     "exception": false,
     "start_time": "2022-11-27T06:22:52.389818",
     "status": "completed"
    },
    "tags": []
   },
   "outputs": [
    {
     "data": {
      "text/plain": [
       "<AxesSubplot:ylabel='Density'>"
      ]
     },
     "execution_count": 46,
     "metadata": {},
     "output_type": "execute_result"
    },
    {
     "data": {
      "image/png": "[encoded data removed]",
      "text/plain": [
       "<Figure size 432x288 with 1 Axes>"
      ]
     },
     "metadata": {
      "needs_background": "light"
     },
     "output_type": "display_data"
    }
   ],
   "source": [
    "df2['Total_Area'].plot.density(color='green')"
   ]
  },
  {
   "cell_type": "code",
   "execution_count": 47,
   "id": "c551d8aa",
   "metadata": {
    "execution": {
     "iopub.execute_input": "2022-11-27T06:22:52.751441Z",
     "iopub.status.busy": "2022-11-27T06:22:52.751008Z",
     "iopub.status.idle": "2022-11-27T06:22:52.763701Z",
     "shell.execute_reply": "2022-11-27T06:22:52.762383Z"
    },
    "papermill": {
     "duration": 0.04729,
     "end_time": "2022-11-27T06:22:52.766555",
     "exception": false,
     "start_time": "2022-11-27T06:22:52.719265",
     "status": "completed"
    },
    "tags": []
   },
   "outputs": [
    {
     "name": "stderr",
     "output_type": "stream",
     "text": [
      "/opt/conda/lib/python3.7/site-packages/pandas/core/generic.py:6619: SettingWithCopyWarning: \n",
      "A value is trying to be set on a copy of a slice from a DataFrame\n",
      "\n",
      "See the caveats in the documentation: https://pandas.pydata.org/pandas-docs/stable/user_guide/indexing.html#returning-a-view-versus-a-copy\n",
      "  return self._update_inplace(result)\n"
     ]
    }
   ],
   "source": [
    "# Replacing 0 values with mean\n",
    "df2['Total_Area'].replace(0,df2['Total_Area'].mean(),inplace = True)"
   ]
  },
  {
   "cell_type": "code",
   "execution_count": 48,
   "id": "6dd6e3f6",
   "metadata": {
    "execution": {
     "iopub.execute_input": "2022-11-27T06:22:52.825486Z",
     "iopub.status.busy": "2022-11-27T06:22:52.825054Z",
     "iopub.status.idle": "2022-11-27T06:22:53.098327Z",
     "shell.execute_reply": "2022-11-27T06:22:53.097052Z"
    },
    "papermill": {
     "duration": 0.30544,
     "end_time": "2022-11-27T06:22:53.100977",
     "exception": false,
     "start_time": "2022-11-27T06:22:52.795537",
     "status": "completed"
    },
    "tags": []
   },
   "outputs": [
    {
     "data": {
      "text/plain": [
       "<AxesSubplot:ylabel='Density'>"
      ]
     },
     "execution_count": 48,
     "metadata": {},
     "output_type": "execute_result"
    },
    {
     "data": {
      "image/png": "[encoded data removed]",
      "text/plain": [
       "<Figure size 432x288 with 1 Axes>"
      ]
     },
     "metadata": {
      "needs_background": "light"
     },
     "output_type": "display_data"
    }
   ],
   "source": [
    "df2['Total_Area'].plot.density(color='green')"
   ]
  },
  {
   "cell_type": "code",
   "execution_count": 49,
   "id": "ac3ee05f",
   "metadata": {
    "execution": {
     "iopub.execute_input": "2022-11-27T06:22:53.160903Z",
     "iopub.status.busy": "2022-11-27T06:22:53.160481Z",
     "iopub.status.idle": "2022-11-27T06:22:53.184919Z",
     "shell.execute_reply": "2022-11-27T06:22:53.184081Z"
    },
    "papermill": {
     "duration": 0.057045,
     "end_time": "2022-11-27T06:22:53.187044",
     "exception": false,
     "start_time": "2022-11-27T06:22:53.129999",
     "status": "completed"
    },
    "tags": []
   },
   "outputs": [
    {
     "data": {
      "text/html": [
       "<div>\n",
       "<style scoped>\n",
       "    .dataframe tbody tr th:only-of-type {\n",
       "        vertical-align: middle;\n",
       "    }\n",
       "\n",
       "    .dataframe tbody tr th {\n",
       "        vertical-align: top;\n",
       "    }\n",
       "\n",
       "    .dataframe thead th {\n",
       "        text-align: right;\n",
       "    }\n",
       "</style>\n",
       "<table border=\"1\" class=\"dataframe\">\n",
       "  <thead>\n",
       "    <tr style=\"text-align: right;\">\n",
       "      <th></th>\n",
       "      <th>price</th>\n",
       "      <th>baths</th>\n",
       "      <th>bedrooms</th>\n",
       "      <th>Total_Area</th>\n",
       "    </tr>\n",
       "  </thead>\n",
       "  <tbody>\n",
       "    <tr>\n",
       "      <th>count</th>\n",
       "      <td>2.997000e+03</td>\n",
       "      <td>2997.000000</td>\n",
       "      <td>2997.000000</td>\n",
       "      <td>2997.000000</td>\n",
       "    </tr>\n",
       "    <tr>\n",
       "      <th>mean</th>\n",
       "      <td>2.403036e+07</td>\n",
       "      <td>3.733066</td>\n",
       "      <td>3.694361</td>\n",
       "      <td>9263.154101</td>\n",
       "    </tr>\n",
       "    <tr>\n",
       "      <th>std</th>\n",
       "      <td>3.321426e+07</td>\n",
       "      <td>1.594639</td>\n",
       "      <td>1.505446</td>\n",
       "      <td>16531.151467</td>\n",
       "    </tr>\n",
       "    <tr>\n",
       "      <th>min</th>\n",
       "      <td>1.200000e+04</td>\n",
       "      <td>1.000000</td>\n",
       "      <td>1.000000</td>\n",
       "      <td>272.251000</td>\n",
       "    </tr>\n",
       "    <tr>\n",
       "      <th>25%</th>\n",
       "      <td>7.364000e+06</td>\n",
       "      <td>3.000000</td>\n",
       "      <td>3.000000</td>\n",
       "      <td>1633.506000</td>\n",
       "    </tr>\n",
       "    <tr>\n",
       "      <th>50%</th>\n",
       "      <td>1.350000e+07</td>\n",
       "      <td>3.000000</td>\n",
       "      <td>3.000000</td>\n",
       "      <td>3811.514000</td>\n",
       "    </tr>\n",
       "    <tr>\n",
       "      <th>75%</th>\n",
       "      <td>2.500000e+07</td>\n",
       "      <td>5.000000</td>\n",
       "      <td>5.000000</td>\n",
       "      <td>11434.542000</td>\n",
       "    </tr>\n",
       "    <tr>\n",
       "      <th>max</th>\n",
       "      <td>3.500000e+08</td>\n",
       "      <td>12.000000</td>\n",
       "      <td>11.000000</td>\n",
       "      <td>392040.000000</td>\n",
       "    </tr>\n",
       "  </tbody>\n",
       "</table>\n",
       "</div>"
      ],
      "text/plain": [
       "              price        baths     bedrooms     Total_Area\n",
       "count  2.997000e+03  2997.000000  2997.000000    2997.000000\n",
       "mean   2.403036e+07     3.733066     3.694361    9263.154101\n",
       "std    3.321426e+07     1.594639     1.505446   16531.151467\n",
       "min    1.200000e+04     1.000000     1.000000     272.251000\n",
       "25%    7.364000e+06     3.000000     3.000000    1633.506000\n",
       "50%    1.350000e+07     3.000000     3.000000    3811.514000\n",
       "75%    2.500000e+07     5.000000     5.000000   11434.542000\n",
       "max    3.500000e+08    12.000000    11.000000  392040.000000"
      ]
     },
     "execution_count": 49,
     "metadata": {},
     "output_type": "execute_result"
    }
   ],
   "source": [
    "df2.describe()"
   ]
  },
  {
   "cell_type": "markdown",
   "id": "98b66d3f",
   "metadata": {
    "papermill": {
     "duration": 0.028971,
     "end_time": "2022-11-27T06:22:53.245188",
     "exception": false,
     "start_time": "2022-11-27T06:22:53.216217",
     "status": "completed"
    },
    "tags": []
   },
   "source": [
    "## Handling Categorical Data - One Hot Encoding"
   ]
  },
  {
   "cell_type": "code",
   "execution_count": 50,
   "id": "b73dfa2a",
   "metadata": {
    "execution": {
     "iopub.execute_input": "2022-11-27T06:22:53.305909Z",
     "iopub.status.busy": "2022-11-27T06:22:53.305276Z",
     "iopub.status.idle": "2022-11-27T06:22:53.317007Z",
     "shell.execute_reply": "2022-11-27T06:22:53.315938Z"
    },
    "papermill": {
     "duration": 0.045014,
     "end_time": "2022-11-27T06:22:53.319361",
     "exception": false,
     "start_time": "2022-11-27T06:22:53.274347",
     "status": "completed"
    },
    "tags": []
   },
   "outputs": [
    {
     "data": {
      "text/html": [
       "<div>\n",
       "<style scoped>\n",
       "    .dataframe tbody tr th:only-of-type {\n",
       "        vertical-align: middle;\n",
       "    }\n",
       "\n",
       "    .dataframe tbody tr th {\n",
       "        vertical-align: top;\n",
       "    }\n",
       "\n",
       "    .dataframe thead th {\n",
       "        text-align: right;\n",
       "    }\n",
       "</style>\n",
       "<table border=\"1\" class=\"dataframe\">\n",
       "  <thead>\n",
       "    <tr style=\"text-align: right;\">\n",
       "      <th></th>\n",
       "      <th>property_type</th>\n",
       "      <th>price</th>\n",
       "      <th>city</th>\n",
       "      <th>province_name</th>\n",
       "      <th>baths</th>\n",
       "      <th>bedrooms</th>\n",
       "      <th>Total_Area</th>\n",
       "    </tr>\n",
       "  </thead>\n",
       "  <tbody>\n",
       "    <tr>\n",
       "      <th>54472</th>\n",
       "      <td>House</td>\n",
       "      <td>39000000</td>\n",
       "      <td>Lahore</td>\n",
       "      <td>Punjab</td>\n",
       "      <td>6</td>\n",
       "      <td>5</td>\n",
       "      <td>2722.510</td>\n",
       "    </tr>\n",
       "    <tr>\n",
       "      <th>139518</th>\n",
       "      <td>Upper Portion</td>\n",
       "      <td>5000000</td>\n",
       "      <td>Karachi</td>\n",
       "      <td>Sindh</td>\n",
       "      <td>2</td>\n",
       "      <td>2</td>\n",
       "      <td>6534.024</td>\n",
       "    </tr>\n",
       "  </tbody>\n",
       "</table>\n",
       "</div>"
      ],
      "text/plain": [
       "        property_type     price     city province_name  baths  bedrooms  \\\n",
       "54472           House  39000000   Lahore        Punjab      6         5   \n",
       "139518  Upper Portion   5000000  Karachi         Sindh      2         2   \n",
       "\n",
       "        Total_Area  \n",
       "54472     2722.510  \n",
       "139518    6534.024  "
      ]
     },
     "execution_count": 50,
     "metadata": {},
     "output_type": "execute_result"
    }
   ],
   "source": [
    "df2.head(2)"
   ]
  },
  {
   "cell_type": "code",
   "execution_count": 51,
   "id": "9928954a",
   "metadata": {
    "execution": {
     "iopub.execute_input": "2022-11-27T06:22:53.383339Z",
     "iopub.status.busy": "2022-11-27T06:22:53.382596Z",
     "iopub.status.idle": "2022-11-27T06:22:53.389222Z",
     "shell.execute_reply": "2022-11-27T06:22:53.388403Z"
    },
    "papermill": {
     "duration": 0.039894,
     "end_time": "2022-11-27T06:22:53.391351",
     "exception": false,
     "start_time": "2022-11-27T06:22:53.351457",
     "status": "completed"
    },
    "tags": []
   },
   "outputs": [
    {
     "data": {
      "text/plain": [
       "array(['House', 'Upper Portion', 'Flat', 'Farm House', 'Lower Portion',\n",
       "       'Penthouse'], dtype=object)"
      ]
     },
     "execution_count": 51,
     "metadata": {},
     "output_type": "execute_result"
    }
   ],
   "source": [
    "df2.property_type.unique()"
   ]
  },
  {
   "cell_type": "code",
   "execution_count": 52,
   "id": "06d34dd2",
   "metadata": {
    "execution": {
     "iopub.execute_input": "2022-11-27T06:22:53.452548Z",
     "iopub.status.busy": "2022-11-27T06:22:53.451840Z",
     "iopub.status.idle": "2022-11-27T06:22:53.458077Z",
     "shell.execute_reply": "2022-11-27T06:22:53.456988Z"
    },
    "papermill": {
     "duration": 0.03954,
     "end_time": "2022-11-27T06:22:53.460809",
     "exception": false,
     "start_time": "2022-11-27T06:22:53.421269",
     "status": "completed"
    },
    "tags": []
   },
   "outputs": [],
   "source": [
    "# property_type - Column\n",
    "\n",
    "dummies=pd.get_dummies(df2['property_type'],drop_first=True)"
   ]
  },
  {
   "cell_type": "code",
   "execution_count": 53,
   "id": "b9e3ca61",
   "metadata": {
    "execution": {
     "iopub.execute_input": "2022-11-27T06:22:53.522067Z",
     "iopub.status.busy": "2022-11-27T06:22:53.521600Z",
     "iopub.status.idle": "2022-11-27T06:22:53.534086Z",
     "shell.execute_reply": "2022-11-27T06:22:53.533310Z"
    },
    "papermill": {
     "duration": 0.045702,
     "end_time": "2022-11-27T06:22:53.536341",
     "exception": false,
     "start_time": "2022-11-27T06:22:53.490639",
     "status": "completed"
    },
    "tags": []
   },
   "outputs": [
    {
     "data": {
      "text/html": [
       "<div>\n",
       "<style scoped>\n",
       "    .dataframe tbody tr th:only-of-type {\n",
       "        vertical-align: middle;\n",
       "    }\n",
       "\n",
       "    .dataframe tbody tr th {\n",
       "        vertical-align: top;\n",
       "    }\n",
       "\n",
       "    .dataframe thead th {\n",
       "        text-align: right;\n",
       "    }\n",
       "</style>\n",
       "<table border=\"1\" class=\"dataframe\">\n",
       "  <thead>\n",
       "    <tr style=\"text-align: right;\">\n",
       "      <th></th>\n",
       "      <th>Flat</th>\n",
       "      <th>House</th>\n",
       "      <th>Lower Portion</th>\n",
       "      <th>Penthouse</th>\n",
       "      <th>Upper Portion</th>\n",
       "    </tr>\n",
       "  </thead>\n",
       "  <tbody>\n",
       "    <tr>\n",
       "      <th>54472</th>\n",
       "      <td>0</td>\n",
       "      <td>1</td>\n",
       "      <td>0</td>\n",
       "      <td>0</td>\n",
       "      <td>0</td>\n",
       "    </tr>\n",
       "    <tr>\n",
       "      <th>139518</th>\n",
       "      <td>0</td>\n",
       "      <td>0</td>\n",
       "      <td>0</td>\n",
       "      <td>0</td>\n",
       "      <td>1</td>\n",
       "    </tr>\n",
       "    <tr>\n",
       "      <th>17879</th>\n",
       "      <td>1</td>\n",
       "      <td>0</td>\n",
       "      <td>0</td>\n",
       "      <td>0</td>\n",
       "      <td>0</td>\n",
       "    </tr>\n",
       "    <tr>\n",
       "      <th>118584</th>\n",
       "      <td>1</td>\n",
       "      <td>0</td>\n",
       "      <td>0</td>\n",
       "      <td>0</td>\n",
       "      <td>0</td>\n",
       "    </tr>\n",
       "    <tr>\n",
       "      <th>62082</th>\n",
       "      <td>0</td>\n",
       "      <td>1</td>\n",
       "      <td>0</td>\n",
       "      <td>0</td>\n",
       "      <td>0</td>\n",
       "    </tr>\n",
       "    <tr>\n",
       "      <th>...</th>\n",
       "      <td>...</td>\n",
       "      <td>...</td>\n",
       "      <td>...</td>\n",
       "      <td>...</td>\n",
       "      <td>...</td>\n",
       "    </tr>\n",
       "    <tr>\n",
       "      <th>6966</th>\n",
       "      <td>1</td>\n",
       "      <td>0</td>\n",
       "      <td>0</td>\n",
       "      <td>0</td>\n",
       "      <td>0</td>\n",
       "    </tr>\n",
       "    <tr>\n",
       "      <th>90563</th>\n",
       "      <td>0</td>\n",
       "      <td>1</td>\n",
       "      <td>0</td>\n",
       "      <td>0</td>\n",
       "      <td>0</td>\n",
       "    </tr>\n",
       "    <tr>\n",
       "      <th>127268</th>\n",
       "      <td>0</td>\n",
       "      <td>1</td>\n",
       "      <td>0</td>\n",
       "      <td>0</td>\n",
       "      <td>0</td>\n",
       "    </tr>\n",
       "    <tr>\n",
       "      <th>81427</th>\n",
       "      <td>0</td>\n",
       "      <td>1</td>\n",
       "      <td>0</td>\n",
       "      <td>0</td>\n",
       "      <td>0</td>\n",
       "    </tr>\n",
       "    <tr>\n",
       "      <th>146140</th>\n",
       "      <td>0</td>\n",
       "      <td>1</td>\n",
       "      <td>0</td>\n",
       "      <td>0</td>\n",
       "      <td>0</td>\n",
       "    </tr>\n",
       "  </tbody>\n",
       "</table>\n",
       "<p>2997 rows × 5 columns</p>\n",
       "</div>"
      ],
      "text/plain": [
       "        Flat  House  Lower Portion  Penthouse  Upper Portion\n",
       "54472      0      1              0          0              0\n",
       "139518     0      0              0          0              1\n",
       "17879      1      0              0          0              0\n",
       "118584     1      0              0          0              0\n",
       "62082      0      1              0          0              0\n",
       "...      ...    ...            ...        ...            ...\n",
       "6966       1      0              0          0              0\n",
       "90563      0      1              0          0              0\n",
       "127268     0      1              0          0              0\n",
       "81427      0      1              0          0              0\n",
       "146140     0      1              0          0              0\n",
       "\n",
       "[2997 rows x 5 columns]"
      ]
     },
     "execution_count": 53,
     "metadata": {},
     "output_type": "execute_result"
    }
   ],
   "source": [
    "dummies"
   ]
  },
  {
   "cell_type": "code",
   "execution_count": 54,
   "id": "01b27a88",
   "metadata": {
    "execution": {
     "iopub.execute_input": "2022-11-27T06:22:53.599175Z",
     "iopub.status.busy": "2022-11-27T06:22:53.597020Z",
     "iopub.status.idle": "2022-11-27T06:22:53.615026Z",
     "shell.execute_reply": "2022-11-27T06:22:53.613811Z"
    },
    "papermill": {
     "duration": 0.05128,
     "end_time": "2022-11-27T06:22:53.617439",
     "exception": false,
     "start_time": "2022-11-27T06:22:53.566159",
     "status": "completed"
    },
    "tags": []
   },
   "outputs": [
    {
     "data": {
      "text/html": [
       "<div>\n",
       "<style scoped>\n",
       "    .dataframe tbody tr th:only-of-type {\n",
       "        vertical-align: middle;\n",
       "    }\n",
       "\n",
       "    .dataframe tbody tr th {\n",
       "        vertical-align: top;\n",
       "    }\n",
       "\n",
       "    .dataframe thead th {\n",
       "        text-align: right;\n",
       "    }\n",
       "</style>\n",
       "<table border=\"1\" class=\"dataframe\">\n",
       "  <thead>\n",
       "    <tr style=\"text-align: right;\">\n",
       "      <th></th>\n",
       "      <th>property_type</th>\n",
       "      <th>price</th>\n",
       "      <th>city</th>\n",
       "      <th>province_name</th>\n",
       "      <th>baths</th>\n",
       "      <th>bedrooms</th>\n",
       "      <th>Total_Area</th>\n",
       "      <th>Flat</th>\n",
       "      <th>House</th>\n",
       "      <th>Lower Portion</th>\n",
       "      <th>Penthouse</th>\n",
       "      <th>Upper Portion</th>\n",
       "    </tr>\n",
       "  </thead>\n",
       "  <tbody>\n",
       "    <tr>\n",
       "      <th>54472</th>\n",
       "      <td>House</td>\n",
       "      <td>39000000</td>\n",
       "      <td>Lahore</td>\n",
       "      <td>Punjab</td>\n",
       "      <td>6</td>\n",
       "      <td>5</td>\n",
       "      <td>2722.510</td>\n",
       "      <td>0</td>\n",
       "      <td>1</td>\n",
       "      <td>0</td>\n",
       "      <td>0</td>\n",
       "      <td>0</td>\n",
       "    </tr>\n",
       "    <tr>\n",
       "      <th>139518</th>\n",
       "      <td>Upper Portion</td>\n",
       "      <td>5000000</td>\n",
       "      <td>Karachi</td>\n",
       "      <td>Sindh</td>\n",
       "      <td>2</td>\n",
       "      <td>2</td>\n",
       "      <td>6534.024</td>\n",
       "      <td>0</td>\n",
       "      <td>0</td>\n",
       "      <td>0</td>\n",
       "      <td>0</td>\n",
       "      <td>1</td>\n",
       "    </tr>\n",
       "  </tbody>\n",
       "</table>\n",
       "</div>"
      ],
      "text/plain": [
       "        property_type     price     city province_name  baths  bedrooms  \\\n",
       "54472           House  39000000   Lahore        Punjab      6         5   \n",
       "139518  Upper Portion   5000000  Karachi         Sindh      2         2   \n",
       "\n",
       "        Total_Area  Flat  House  Lower Portion  Penthouse  Upper Portion  \n",
       "54472     2722.510     0      1              0          0              0  \n",
       "139518    6534.024     0      0              0          0              1  "
      ]
     },
     "execution_count": 54,
     "metadata": {},
     "output_type": "execute_result"
    }
   ],
   "source": [
    "df=pd.concat([df2,dummies],axis=1)\n",
    "df.head(2)"
   ]
  },
  {
   "cell_type": "code",
   "execution_count": 55,
   "id": "0a0a97f3",
   "metadata": {
    "execution": {
     "iopub.execute_input": "2022-11-27T06:22:53.680341Z",
     "iopub.status.busy": "2022-11-27T06:22:53.679683Z",
     "iopub.status.idle": "2022-11-27T06:22:53.687015Z",
     "shell.execute_reply": "2022-11-27T06:22:53.685935Z"
    },
    "papermill": {
     "duration": 0.041554,
     "end_time": "2022-11-27T06:22:53.689254",
     "exception": false,
     "start_time": "2022-11-27T06:22:53.647700",
     "status": "completed"
    },
    "tags": []
   },
   "outputs": [
    {
     "data": {
      "text/plain": [
       "Index(['property_type', 'price', 'city', 'province_name', 'baths', 'bedrooms',\n",
       "       'Total_Area', 'Flat', 'House', 'Lower Portion', 'Penthouse',\n",
       "       'Upper Portion'],\n",
       "      dtype='object')"
      ]
     },
     "execution_count": 55,
     "metadata": {},
     "output_type": "execute_result"
    }
   ],
   "source": [
    "df.columns"
   ]
  },
  {
   "cell_type": "code",
   "execution_count": 56,
   "id": "2622ffc3",
   "metadata": {
    "execution": {
     "iopub.execute_input": "2022-11-27T06:22:53.752207Z",
     "iopub.status.busy": "2022-11-27T06:22:53.751287Z",
     "iopub.status.idle": "2022-11-27T06:22:53.757725Z",
     "shell.execute_reply": "2022-11-27T06:22:53.756896Z"
    },
    "papermill": {
     "duration": 0.040145,
     "end_time": "2022-11-27T06:22:53.759840",
     "exception": false,
     "start_time": "2022-11-27T06:22:53.719695",
     "status": "completed"
    },
    "tags": []
   },
   "outputs": [],
   "source": [
    "# City - Column\n",
    "\n",
    "dummies = pd.get_dummies(df['city'],drop_first=True)"
   ]
  },
  {
   "cell_type": "code",
   "execution_count": 57,
   "id": "982a494d",
   "metadata": {
    "execution": {
     "iopub.execute_input": "2022-11-27T06:22:53.822525Z",
     "iopub.status.busy": "2022-11-27T06:22:53.821809Z",
     "iopub.status.idle": "2022-11-27T06:22:53.829047Z",
     "shell.execute_reply": "2022-11-27T06:22:53.828255Z"
    },
    "papermill": {
     "duration": 0.041116,
     "end_time": "2022-11-27T06:22:53.831113",
     "exception": false,
     "start_time": "2022-11-27T06:22:53.789997",
     "status": "completed"
    },
    "tags": []
   },
   "outputs": [
    {
     "data": {
      "text/plain": [
       "Index(['property_type', 'price', 'city', 'province_name', 'baths', 'bedrooms',\n",
       "       'Total_Area', 'Flat', 'House', 'Lower Portion', 'Penthouse',\n",
       "       'Upper Portion', 'Islamabad', 'Karachi', 'Lahore', 'Rawalpindi'],\n",
       "      dtype='object')"
      ]
     },
     "execution_count": 57,
     "metadata": {},
     "output_type": "execute_result"
    }
   ],
   "source": [
    "df = pd.concat([df, dummies], axis = 1)\n",
    "df.columns"
   ]
  },
  {
   "cell_type": "code",
   "execution_count": 58,
   "id": "1ec6cd70",
   "metadata": {
    "execution": {
     "iopub.execute_input": "2022-11-27T06:22:53.895491Z",
     "iopub.status.busy": "2022-11-27T06:22:53.894770Z",
     "iopub.status.idle": "2022-11-27T06:22:53.901185Z",
     "shell.execute_reply": "2022-11-27T06:22:53.900076Z"
    },
    "papermill": {
     "duration": 0.042198,
     "end_time": "2022-11-27T06:22:53.903699",
     "exception": false,
     "start_time": "2022-11-27T06:22:53.861501",
     "status": "completed"
    },
    "tags": []
   },
   "outputs": [],
   "source": [
    "# province_name - Column\n",
    "\n",
    "dummies = pd.get_dummies(df['province_name'],drop_first=True)"
   ]
  },
  {
   "cell_type": "code",
   "execution_count": 59,
   "id": "50dbd529",
   "metadata": {
    "execution": {
     "iopub.execute_input": "2022-11-27T06:22:53.966061Z",
     "iopub.status.busy": "2022-11-27T06:22:53.965617Z",
     "iopub.status.idle": "2022-11-27T06:22:53.974436Z",
     "shell.execute_reply": "2022-11-27T06:22:53.973584Z"
    },
    "papermill": {
     "duration": 0.04254,
     "end_time": "2022-11-27T06:22:53.976508",
     "exception": false,
     "start_time": "2022-11-27T06:22:53.933968",
     "status": "completed"
    },
    "tags": []
   },
   "outputs": [
    {
     "data": {
      "text/plain": [
       "Index(['property_type', 'price', 'city', 'province_name', 'baths', 'bedrooms',\n",
       "       'Total_Area', 'Flat', 'House', 'Lower Portion', 'Penthouse',\n",
       "       'Upper Portion', 'Islamabad', 'Karachi', 'Lahore', 'Rawalpindi',\n",
       "       'Punjab', 'Sindh'],\n",
       "      dtype='object')"
      ]
     },
     "execution_count": 59,
     "metadata": {},
     "output_type": "execute_result"
    }
   ],
   "source": [
    "df = pd.concat([df, dummies], axis = 1)\n",
    "df.columns"
   ]
  },
  {
   "cell_type": "code",
   "execution_count": 60,
   "id": "02a6d0eb",
   "metadata": {
    "execution": {
     "iopub.execute_input": "2022-11-27T06:22:54.039310Z",
     "iopub.status.busy": "2022-11-27T06:22:54.038587Z",
     "iopub.status.idle": "2022-11-27T06:22:54.054036Z",
     "shell.execute_reply": "2022-11-27T06:22:54.053001Z"
    },
    "papermill": {
     "duration": 0.049539,
     "end_time": "2022-11-27T06:22:54.056328",
     "exception": false,
     "start_time": "2022-11-27T06:22:54.006789",
     "status": "completed"
    },
    "tags": []
   },
   "outputs": [
    {
     "data": {
      "text/html": [
       "<div>\n",
       "<style scoped>\n",
       "    .dataframe tbody tr th:only-of-type {\n",
       "        vertical-align: middle;\n",
       "    }\n",
       "\n",
       "    .dataframe tbody tr th {\n",
       "        vertical-align: top;\n",
       "    }\n",
       "\n",
       "    .dataframe thead th {\n",
       "        text-align: right;\n",
       "    }\n",
       "</style>\n",
       "<table border=\"1\" class=\"dataframe\">\n",
       "  <thead>\n",
       "    <tr style=\"text-align: right;\">\n",
       "      <th></th>\n",
       "      <th>property_type</th>\n",
       "      <th>price</th>\n",
       "      <th>city</th>\n",
       "      <th>province_name</th>\n",
       "      <th>baths</th>\n",
       "      <th>bedrooms</th>\n",
       "      <th>Total_Area</th>\n",
       "      <th>Flat</th>\n",
       "      <th>House</th>\n",
       "      <th>Lower Portion</th>\n",
       "      <th>Penthouse</th>\n",
       "      <th>Upper Portion</th>\n",
       "      <th>Islamabad</th>\n",
       "      <th>Karachi</th>\n",
       "      <th>Lahore</th>\n",
       "      <th>Rawalpindi</th>\n",
       "      <th>Punjab</th>\n",
       "      <th>Sindh</th>\n",
       "    </tr>\n",
       "  </thead>\n",
       "  <tbody>\n",
       "    <tr>\n",
       "      <th>54472</th>\n",
       "      <td>House</td>\n",
       "      <td>39000000</td>\n",
       "      <td>Lahore</td>\n",
       "      <td>Punjab</td>\n",
       "      <td>6</td>\n",
       "      <td>5</td>\n",
       "      <td>2722.510</td>\n",
       "      <td>0</td>\n",
       "      <td>1</td>\n",
       "      <td>0</td>\n",
       "      <td>0</td>\n",
       "      <td>0</td>\n",
       "      <td>0</td>\n",
       "      <td>0</td>\n",
       "      <td>1</td>\n",
       "      <td>0</td>\n",
       "      <td>1</td>\n",
       "      <td>0</td>\n",
       "    </tr>\n",
       "    <tr>\n",
       "      <th>139518</th>\n",
       "      <td>Upper Portion</td>\n",
       "      <td>5000000</td>\n",
       "      <td>Karachi</td>\n",
       "      <td>Sindh</td>\n",
       "      <td>2</td>\n",
       "      <td>2</td>\n",
       "      <td>6534.024</td>\n",
       "      <td>0</td>\n",
       "      <td>0</td>\n",
       "      <td>0</td>\n",
       "      <td>0</td>\n",
       "      <td>1</td>\n",
       "      <td>0</td>\n",
       "      <td>1</td>\n",
       "      <td>0</td>\n",
       "      <td>0</td>\n",
       "      <td>0</td>\n",
       "      <td>1</td>\n",
       "    </tr>\n",
       "  </tbody>\n",
       "</table>\n",
       "</div>"
      ],
      "text/plain": [
       "        property_type     price     city province_name  baths  bedrooms  \\\n",
       "54472           House  39000000   Lahore        Punjab      6         5   \n",
       "139518  Upper Portion   5000000  Karachi         Sindh      2         2   \n",
       "\n",
       "        Total_Area  Flat  House  Lower Portion  Penthouse  Upper Portion  \\\n",
       "54472     2722.510     0      1              0          0              0   \n",
       "139518    6534.024     0      0              0          0              1   \n",
       "\n",
       "        Islamabad  Karachi  Lahore  Rawalpindi  Punjab  Sindh  \n",
       "54472           0        0       1           0       1      0  \n",
       "139518          0        1       0           0       0      1  "
      ]
     },
     "execution_count": 60,
     "metadata": {},
     "output_type": "execute_result"
    }
   ],
   "source": [
    "df.head(2)"
   ]
  },
  {
   "cell_type": "code",
   "execution_count": 61,
   "id": "d209305a",
   "metadata": {
    "execution": {
     "iopub.execute_input": "2022-11-27T06:22:54.119672Z",
     "iopub.status.busy": "2022-11-27T06:22:54.118944Z",
     "iopub.status.idle": "2022-11-27T06:22:54.135579Z",
     "shell.execute_reply": "2022-11-27T06:22:54.134540Z"
    },
    "papermill": {
     "duration": 0.051186,
     "end_time": "2022-11-27T06:22:54.138028",
     "exception": false,
     "start_time": "2022-11-27T06:22:54.086842",
     "status": "completed"
    },
    "tags": []
   },
   "outputs": [
    {
     "data": {
      "text/html": [
       "<div>\n",
       "<style scoped>\n",
       "    .dataframe tbody tr th:only-of-type {\n",
       "        vertical-align: middle;\n",
       "    }\n",
       "\n",
       "    .dataframe tbody tr th {\n",
       "        vertical-align: top;\n",
       "    }\n",
       "\n",
       "    .dataframe thead th {\n",
       "        text-align: right;\n",
       "    }\n",
       "</style>\n",
       "<table border=\"1\" class=\"dataframe\">\n",
       "  <thead>\n",
       "    <tr style=\"text-align: right;\">\n",
       "      <th></th>\n",
       "      <th>price</th>\n",
       "      <th>baths</th>\n",
       "      <th>bedrooms</th>\n",
       "      <th>Total_Area</th>\n",
       "      <th>Flat</th>\n",
       "      <th>House</th>\n",
       "      <th>Lower Portion</th>\n",
       "      <th>Penthouse</th>\n",
       "      <th>Upper Portion</th>\n",
       "      <th>Islamabad</th>\n",
       "      <th>Karachi</th>\n",
       "      <th>Lahore</th>\n",
       "      <th>Rawalpindi</th>\n",
       "      <th>Punjab</th>\n",
       "      <th>Sindh</th>\n",
       "    </tr>\n",
       "  </thead>\n",
       "  <tbody>\n",
       "    <tr>\n",
       "      <th>54472</th>\n",
       "      <td>39000000</td>\n",
       "      <td>6</td>\n",
       "      <td>5</td>\n",
       "      <td>2722.510</td>\n",
       "      <td>0</td>\n",
       "      <td>1</td>\n",
       "      <td>0</td>\n",
       "      <td>0</td>\n",
       "      <td>0</td>\n",
       "      <td>0</td>\n",
       "      <td>0</td>\n",
       "      <td>1</td>\n",
       "      <td>0</td>\n",
       "      <td>1</td>\n",
       "      <td>0</td>\n",
       "    </tr>\n",
       "    <tr>\n",
       "      <th>139518</th>\n",
       "      <td>5000000</td>\n",
       "      <td>2</td>\n",
       "      <td>2</td>\n",
       "      <td>6534.024</td>\n",
       "      <td>0</td>\n",
       "      <td>0</td>\n",
       "      <td>0</td>\n",
       "      <td>0</td>\n",
       "      <td>1</td>\n",
       "      <td>0</td>\n",
       "      <td>1</td>\n",
       "      <td>0</td>\n",
       "      <td>0</td>\n",
       "      <td>0</td>\n",
       "      <td>1</td>\n",
       "    </tr>\n",
       "  </tbody>\n",
       "</table>\n",
       "</div>"
      ],
      "text/plain": [
       "           price  baths  bedrooms  Total_Area  Flat  House  Lower Portion  \\\n",
       "54472   39000000      6         5    2722.510     0      1              0   \n",
       "139518   5000000      2         2    6534.024     0      0              0   \n",
       "\n",
       "        Penthouse  Upper Portion  Islamabad  Karachi  Lahore  Rawalpindi  \\\n",
       "54472           0              0          0        0       1           0   \n",
       "139518          0              1          0        1       0           0   \n",
       "\n",
       "        Punjab  Sindh  \n",
       "54472        1      0  \n",
       "139518       0      1  "
      ]
     },
     "execution_count": 61,
     "metadata": {},
     "output_type": "execute_result"
    }
   ],
   "source": [
    "df.drop(['property_type','city','province_name'], axis = 1, inplace = True)\n",
    "df.head(2)"
   ]
  },
  {
   "cell_type": "markdown",
   "id": "85783bf5",
   "metadata": {
    "papermill": {
     "duration": 0.030329,
     "end_time": "2022-11-27T06:22:54.199329",
     "exception": false,
     "start_time": "2022-11-27T06:22:54.169000",
     "status": "completed"
    },
    "tags": []
   },
   "source": [
    "## Model Training "
   ]
  },
  {
   "cell_type": "code",
   "execution_count": 62,
   "id": "b81c1eaa",
   "metadata": {
    "execution": {
     "iopub.execute_input": "2022-11-27T06:22:54.262178Z",
     "iopub.status.busy": "2022-11-27T06:22:54.261766Z",
     "iopub.status.idle": "2022-11-27T06:22:54.268222Z",
     "shell.execute_reply": "2022-11-27T06:22:54.267330Z"
    },
    "papermill": {
     "duration": 0.040512,
     "end_time": "2022-11-27T06:22:54.270482",
     "exception": false,
     "start_time": "2022-11-27T06:22:54.229970",
     "status": "completed"
    },
    "tags": []
   },
   "outputs": [],
   "source": [
    "X = df.drop(['price'],axis =1)\n",
    "y = df['price']"
   ]
  },
  {
   "cell_type": "code",
   "execution_count": 63,
   "id": "3e152dcb",
   "metadata": {
    "execution": {
     "iopub.execute_input": "2022-11-27T06:22:54.333455Z",
     "iopub.status.busy": "2022-11-27T06:22:54.332695Z",
     "iopub.status.idle": "2022-11-27T06:22:54.511678Z",
     "shell.execute_reply": "2022-11-27T06:22:54.510454Z"
    },
    "papermill": {
     "duration": 0.213492,
     "end_time": "2022-11-27T06:22:54.514410",
     "exception": false,
     "start_time": "2022-11-27T06:22:54.300918",
     "status": "completed"
    },
    "tags": []
   },
   "outputs": [],
   "source": [
    "from sklearn.model_selection import train_test_split\n",
    "X_train, X_test, y_train, y_test = train_test_split(X,y,test_size=0.2,random_state=10)    #20% data is for evaluation of Model performance"
   ]
  },
  {
   "cell_type": "code",
   "execution_count": 64,
   "id": "b5becd27",
   "metadata": {
    "execution": {
     "iopub.execute_input": "2022-11-27T06:22:54.578297Z",
     "iopub.status.busy": "2022-11-27T06:22:54.577363Z",
     "iopub.status.idle": "2022-11-27T06:22:54.589420Z",
     "shell.execute_reply": "2022-11-27T06:22:54.588438Z"
    },
    "papermill": {
     "duration": 0.046355,
     "end_time": "2022-11-27T06:22:54.591800",
     "exception": false,
     "start_time": "2022-11-27T06:22:54.545445",
     "status": "completed"
    },
    "tags": []
   },
   "outputs": [],
   "source": [
    "from sklearn.preprocessing import StandardScaler\n",
    "scaler=StandardScaler()\n",
    "scaler.fit(X_train)\n",
    "X_train_scaled= scaler.transform(X_train)\n",
    "X_test_scaled = scaler.transform(X_test)"
   ]
  },
  {
   "cell_type": "code",
   "execution_count": 65,
   "id": "18fde4c8",
   "metadata": {
    "execution": {
     "iopub.execute_input": "2022-11-27T06:22:54.655243Z",
     "iopub.status.busy": "2022-11-27T06:22:54.654243Z",
     "iopub.status.idle": "2022-11-27T06:22:54.659944Z",
     "shell.execute_reply": "2022-11-27T06:22:54.658825Z"
    },
    "papermill": {
     "duration": 0.039748,
     "end_time": "2022-11-27T06:22:54.662279",
     "exception": false,
     "start_time": "2022-11-27T06:22:54.622531",
     "status": "completed"
    },
    "tags": []
   },
   "outputs": [],
   "source": [
    "from sklearn.metrics import mean_squared_error\n",
    "def rmse(y_test, y_pred):\n",
    "  return np.sqrt(mean_squared_error(y_test, y_pred))"
   ]
  },
  {
   "cell_type": "code",
   "execution_count": 66,
   "id": "05ac8567",
   "metadata": {
    "execution": {
     "iopub.execute_input": "2022-11-27T06:22:54.725199Z",
     "iopub.status.busy": "2022-11-27T06:22:54.724794Z",
     "iopub.status.idle": "2022-11-27T06:22:54.817371Z",
     "shell.execute_reply": "2022-11-27T06:22:54.816072Z"
    },
    "papermill": {
     "duration": 0.134881,
     "end_time": "2022-11-27T06:22:54.827810",
     "exception": false,
     "start_time": "2022-11-27T06:22:54.692929",
     "status": "completed"
    },
    "tags": []
   },
   "outputs": [
    {
     "data": {
      "text/plain": [
       "0.35462450779870436"
      ]
     },
     "execution_count": 66,
     "metadata": {},
     "output_type": "execute_result"
    }
   ],
   "source": [
    "from sklearn.linear_model import LinearRegression\n",
    "\n",
    "lr = LinearRegression()\n",
    "lr.fit(X_train,y_train)\n",
    "lr.score(X_train,y_train)"
   ]
  },
  {
   "cell_type": "code",
   "execution_count": 67,
   "id": "76fef372",
   "metadata": {
    "execution": {
     "iopub.execute_input": "2022-11-27T06:22:54.964567Z",
     "iopub.status.busy": "2022-11-27T06:22:54.964125Z",
     "iopub.status.idle": "2022-11-27T06:22:54.977288Z",
     "shell.execute_reply": "2022-11-27T06:22:54.976248Z"
    },
    "papermill": {
     "duration": 0.050577,
     "end_time": "2022-11-27T06:22:54.979586",
     "exception": false,
     "start_time": "2022-11-27T06:22:54.929009",
     "status": "completed"
    },
    "tags": []
   },
   "outputs": [
    {
     "data": {
      "text/plain": [
       "(26646250.355145115, 0.3700692638631268)"
      ]
     },
     "execution_count": 67,
     "metadata": {},
     "output_type": "execute_result"
    }
   ],
   "source": [
    "lr_rmse = rmse(y_test, lr.predict(X_test))\n",
    "lr_test=lr.score(X_test, y_test)\n",
    "lr_rmse,lr_test"
   ]
  },
  {
   "cell_type": "code",
   "execution_count": 68,
   "id": "bf5b9163",
   "metadata": {
    "execution": {
     "iopub.execute_input": "2022-11-27T06:22:55.043821Z",
     "iopub.status.busy": "2022-11-27T06:22:55.043093Z",
     "iopub.status.idle": "2022-11-27T06:22:55.665358Z",
     "shell.execute_reply": "2022-11-27T06:22:55.664261Z"
    },
    "papermill": {
     "duration": 0.65739,
     "end_time": "2022-11-27T06:22:55.667906",
     "exception": false,
     "start_time": "2022-11-27T06:22:55.010516",
     "status": "completed"
    },
    "tags": []
   },
   "outputs": [
    {
     "data": {
      "text/plain": [
       "0.898168346539756"
      ]
     },
     "execution_count": 68,
     "metadata": {},
     "output_type": "execute_result"
    }
   ],
   "source": [
    "from sklearn.ensemble import RandomForestRegressor\n",
    "rfr = RandomForestRegressor()\n",
    "rfr.fit(X_train,y_train)\n",
    "rfr.score(X_train, y_train)"
   ]
  },
  {
   "cell_type": "code",
   "execution_count": 69,
   "id": "4e1fafc3",
   "metadata": {
    "execution": {
     "iopub.execute_input": "2022-11-27T06:22:55.731863Z",
     "iopub.status.busy": "2022-11-27T06:22:55.731404Z",
     "iopub.status.idle": "2022-11-27T06:22:55.784018Z",
     "shell.execute_reply": "2022-11-27T06:22:55.782978Z"
    },
    "papermill": {
     "duration": 0.087307,
     "end_time": "2022-11-27T06:22:55.786565",
     "exception": false,
     "start_time": "2022-11-27T06:22:55.699258",
     "status": "completed"
    },
    "tags": []
   },
   "outputs": [
    {
     "data": {
      "text/plain": [
       "(0.5887401690923914, 21530189.41605808)"
      ]
     },
     "execution_count": 69,
     "metadata": {},
     "output_type": "execute_result"
    }
   ],
   "source": [
    "rfr_rmse = rmse(y_test, rfr.predict(X_test))\n",
    "rfr_score=rfr.score(X_test,y_test)\n",
    "rfr_score, rfr_rmse"
   ]
  },
  {
   "cell_type": "code",
   "execution_count": 70,
   "id": "244f4e34",
   "metadata": {
    "execution": {
     "iopub.execute_input": "2022-11-27T06:22:55.851848Z",
     "iopub.status.busy": "2022-11-27T06:22:55.851383Z",
     "iopub.status.idle": "2022-11-27T06:23:07.994258Z",
     "shell.execute_reply": "2022-11-27T06:23:07.992960Z"
    },
    "papermill": {
     "duration": 12.17899,
     "end_time": "2022-11-27T06:23:07.996849",
     "exception": false,
     "start_time": "2022-11-27T06:22:55.817859",
     "status": "completed"
    },
    "tags": []
   },
   "outputs": [
    {
     "name": "stdout",
     "output_type": "stream",
     "text": [
      "Requirement already satisfied: xgboost in /opt/conda/lib/python3.7/site-packages (1.6.2)\r\n",
      "Requirement already satisfied: numpy in /opt/conda/lib/python3.7/site-packages (from xgboost) (1.21.6)\r\n",
      "Requirement already satisfied: scipy in /opt/conda/lib/python3.7/site-packages (from xgboost) (1.7.3)\r\n",
      "\u001b[33mWARNING: Running pip as the 'root' user can result in broken permissions and conflicting behaviour with the system package manager. It is recommended to use a virtual environment instead: https://pip.pypa.io/warnings/venv\u001b[0m\u001b[33m\r\n",
      "\u001b[0m"
     ]
    }
   ],
   "source": [
    "!pip install xgboost"
   ]
  },
  {
   "cell_type": "code",
   "execution_count": 71,
   "id": "ec7891df",
   "metadata": {
    "execution": {
     "iopub.execute_input": "2022-11-27T06:23:08.061003Z",
     "iopub.status.busy": "2022-11-27T06:23:08.060545Z",
     "iopub.status.idle": "2022-11-27T06:23:08.156082Z",
     "shell.execute_reply": "2022-11-27T06:23:08.154905Z"
    },
    "papermill": {
     "duration": 0.130823,
     "end_time": "2022-11-27T06:23:08.158731",
     "exception": false,
     "start_time": "2022-11-27T06:23:08.027908",
     "status": "completed"
    },
    "tags": []
   },
   "outputs": [],
   "source": [
    "from xgboost import XGBRegressor\n",
    "from sklearn.model_selection import cross_val_score"
   ]
  },
  {
   "cell_type": "code",
   "execution_count": 72,
   "id": "5b910e00",
   "metadata": {
    "execution": {
     "iopub.execute_input": "2022-11-27T06:23:08.223015Z",
     "iopub.status.busy": "2022-11-27T06:23:08.222243Z",
     "iopub.status.idle": "2022-11-27T06:23:08.227648Z",
     "shell.execute_reply": "2022-11-27T06:23:08.226612Z"
    },
    "papermill": {
     "duration": 0.040135,
     "end_time": "2022-11-27T06:23:08.229905",
     "exception": false,
     "start_time": "2022-11-27T06:23:08.189770",
     "status": "completed"
    },
    "tags": []
   },
   "outputs": [],
   "source": [
    "xgb=XGBRegressor(ets=0.1,gamma=10)"
   ]
  },
  {
   "cell_type": "code",
   "execution_count": 73,
   "id": "fc9c0c31",
   "metadata": {
    "execution": {
     "iopub.execute_input": "2022-11-27T06:23:08.293889Z",
     "iopub.status.busy": "2022-11-27T06:23:08.293473Z",
     "iopub.status.idle": "2022-11-27T06:23:08.712809Z",
     "shell.execute_reply": "2022-11-27T06:23:08.711815Z"
    },
    "papermill": {
     "duration": 0.454185,
     "end_time": "2022-11-27T06:23:08.715230",
     "exception": false,
     "start_time": "2022-11-27T06:23:08.261045",
     "status": "completed"
    },
    "tags": []
   },
   "outputs": [
    {
     "name": "stdout",
     "output_type": "stream",
     "text": [
      "[06:23:08] WARNING: ../src/learner.cc:627: \n",
      "Parameters: { \"ets\" } might not be used.\n",
      "\n",
      "  This could be a false alarm, with some parameters getting used by language bindings but\n",
      "  then being mistakenly passed down to XGBoost core, or some parameter actually being used\n",
      "  but getting flagged wrongly here. Please open an issue if you find any such cases.\n",
      "\n",
      "\n"
     ]
    },
    {
     "data": {
      "text/plain": [
       "0.9278185375197732"
      ]
     },
     "execution_count": 73,
     "metadata": {},
     "output_type": "execute_result"
    }
   ],
   "source": [
    "\n",
    "xgb.fit(X_train,y_train)\n",
    "xgb.score(X_train, y_train)"
   ]
  },
  {
   "cell_type": "code",
   "execution_count": 74,
   "id": "cb0b9842",
   "metadata": {
    "execution": {
     "iopub.execute_input": "2022-11-27T06:23:08.781113Z",
     "iopub.status.busy": "2022-11-27T06:23:08.780114Z",
     "iopub.status.idle": "2022-11-27T06:23:08.799309Z",
     "shell.execute_reply": "2022-11-27T06:23:08.798398Z"
    },
    "papermill": {
     "duration": 0.054779,
     "end_time": "2022-11-27T06:23:08.802098",
     "exception": false,
     "start_time": "2022-11-27T06:23:08.747319",
     "status": "completed"
    },
    "tags": []
   },
   "outputs": [
    {
     "data": {
      "text/plain": [
       "(0.6305412125843534, 20406696.459065095)"
      ]
     },
     "execution_count": 74,
     "metadata": {},
     "output_type": "execute_result"
    }
   ],
   "source": [
    "\n",
    "xgb_rmse = rmse(y_test, xgb.predict(X_test))\n",
    "xgb_score=xgb.score(X_test,y_test)\n",
    "xgb_score, xgb_rmse"
   ]
  },
  {
   "cell_type": "code",
   "execution_count": 75,
   "id": "713445e5",
   "metadata": {
    "execution": {
     "iopub.execute_input": "2022-11-27T06:23:08.867723Z",
     "iopub.status.busy": "2022-11-27T06:23:08.866598Z",
     "iopub.status.idle": "2022-11-27T06:23:12.769922Z",
     "shell.execute_reply": "2022-11-27T06:23:12.768388Z"
    },
    "papermill": {
     "duration": 3.939541,
     "end_time": "2022-11-27T06:23:12.773143",
     "exception": false,
     "start_time": "2022-11-27T06:23:08.833602",
     "status": "completed"
    },
    "tags": []
   },
   "outputs": [
    {
     "name": "stdout",
     "output_type": "stream",
     "text": [
      "[06:23:08] WARNING: ../src/learner.cc:627: \n",
      "Parameters: { \"ets\" } might not be used.\n",
      "\n",
      "  This could be a false alarm, with some parameters getting used by language bindings but\n",
      "  then being mistakenly passed down to XGBoost core, or some parameter actually being used\n",
      "  but getting flagged wrongly here. Please open an issue if you find any such cases.\n",
      "\n",
      "\n",
      "[06:23:09] WARNING: ../src/learner.cc:627: \n",
      "Parameters: { \"ets\" } might not be used.\n",
      "\n",
      "  This could be a false alarm, with some parameters getting used by language bindings but\n",
      "  then being mistakenly passed down to XGBoost core, or some parameter actually being used\n",
      "  but getting flagged wrongly here. Please open an issue if you find any such cases.\n",
      "\n",
      "\n",
      "[06:23:09] WARNING: ../src/learner.cc:627: \n",
      "Parameters: { \"ets\" } might not be used.\n",
      "\n",
      "  This could be a false alarm, with some parameters getting used by language bindings but\n",
      "  then being mistakenly passed down to XGBoost core, or some parameter actually being used\n",
      "  but getting flagged wrongly here. Please open an issue if you find any such cases.\n",
      "\n",
      "\n",
      "[06:23:10] WARNING: ../src/learner.cc:627: \n",
      "Parameters: { \"ets\" } might not be used.\n",
      "\n",
      "  This could be a false alarm, with some parameters getting used by language bindings but\n",
      "  then being mistakenly passed down to XGBoost core, or some parameter actually being used\n",
      "  but getting flagged wrongly here. Please open an issue if you find any such cases.\n",
      "\n",
      "\n",
      "[06:23:10] WARNING: ../src/learner.cc:627: \n",
      "Parameters: { \"ets\" } might not be used.\n",
      "\n",
      "  This could be a false alarm, with some parameters getting used by language bindings but\n",
      "  then being mistakenly passed down to XGBoost core, or some parameter actually being used\n",
      "  but getting flagged wrongly here. Please open an issue if you find any such cases.\n",
      "\n",
      "\n",
      "[06:23:10] WARNING: ../src/learner.cc:627: \n",
      "Parameters: { \"ets\" } might not be used.\n",
      "\n",
      "  This could be a false alarm, with some parameters getting used by language bindings but\n",
      "  then being mistakenly passed down to XGBoost core, or some parameter actually being used\n",
      "  but getting flagged wrongly here. Please open an issue if you find any such cases.\n",
      "\n",
      "\n",
      "[06:23:11] WARNING: ../src/learner.cc:627: \n",
      "Parameters: { \"ets\" } might not be used.\n",
      "\n",
      "  This could be a false alarm, with some parameters getting used by language bindings but\n",
      "  then being mistakenly passed down to XGBoost core, or some parameter actually being used\n",
      "  but getting flagged wrongly here. Please open an issue if you find any such cases.\n",
      "\n",
      "\n",
      "[06:23:11] WARNING: ../src/learner.cc:627: \n",
      "Parameters: { \"ets\" } might not be used.\n",
      "\n",
      "  This could be a false alarm, with some parameters getting used by language bindings but\n",
      "  then being mistakenly passed down to XGBoost core, or some parameter actually being used\n",
      "  but getting flagged wrongly here. Please open an issue if you find any such cases.\n",
      "\n",
      "\n",
      "[06:23:12] WARNING: ../src/learner.cc:627: \n",
      "Parameters: { \"ets\" } might not be used.\n",
      "\n",
      "  This could be a false alarm, with some parameters getting used by language bindings but\n",
      "  then being mistakenly passed down to XGBoost core, or some parameter actually being used\n",
      "  but getting flagged wrongly here. Please open an issue if you find any such cases.\n",
      "\n",
      "\n",
      "[06:23:12] WARNING: ../src/learner.cc:627: \n",
      "Parameters: { \"ets\" } might not be used.\n",
      "\n",
      "  This could be a false alarm, with some parameters getting used by language bindings but\n",
      "  then being mistakenly passed down to XGBoost core, or some parameter actually being used\n",
      "  but getting flagged wrongly here. Please open an issue if you find any such cases.\n",
      "\n",
      "\n",
      "XGBoost 0.6431476133580905\n"
     ]
    }
   ],
   "source": [
    "print('XGBoost',np.mean(cross_val_score(xgb,X_train,y_train,cv=10)))"
   ]
  },
  {
   "cell_type": "markdown",
   "id": "1d193711",
   "metadata": {
    "papermill": {
     "duration": 0.03203,
     "end_time": "2022-11-27T06:23:12.837860",
     "exception": false,
     "start_time": "2022-11-27T06:23:12.805830",
     "status": "completed"
    },
    "tags": []
   },
   "source": [
    "#### Automatically Select Best Model"
   ]
  },
  {
   "cell_type": "code",
   "execution_count": 76,
   "id": "77534ee2",
   "metadata": {
    "execution": {
     "iopub.execute_input": "2022-11-27T06:23:12.904028Z",
     "iopub.status.busy": "2022-11-27T06:23:12.903403Z",
     "iopub.status.idle": "2022-11-27T06:23:24.689371Z",
     "shell.execute_reply": "2022-11-27T06:23:24.687861Z"
    },
    "papermill": {
     "duration": 11.822277,
     "end_time": "2022-11-27T06:23:24.692250",
     "exception": false,
     "start_time": "2022-11-27T06:23:12.869973",
     "status": "completed"
    },
    "tags": []
   },
   "outputs": [
    {
     "name": "stdout",
     "output_type": "stream",
     "text": [
      "Collecting flaml\r\n",
      "  Downloading FLAML-1.0.14-py3-none-any.whl (208 kB)\r\n",
      "\u001b[2K     \u001b[90m━━━━━━━━━━━━━━━━━━━━━━━━━━━━━━━━━━━━━━━\u001b[0m \u001b[32m208.6/208.6 kB\u001b[0m \u001b[31m5.2 MB/s\u001b[0m eta \u001b[36m0:00:00\u001b[0m\r\n",
      "\u001b[?25hRequirement already satisfied: xgboost>=0.90 in /opt/conda/lib/python3.7/site-packages (from flaml) (1.6.2)\r\n",
      "Requirement already satisfied: scipy>=1.4.1 in /opt/conda/lib/python3.7/site-packages (from flaml) (1.7.3)\r\n",
      "Requirement already satisfied: scikit-learn>=0.24 in /opt/conda/lib/python3.7/site-packages (from flaml) (1.0.2)\r\n",
      "Requirement already satisfied: NumPy>=1.17.0rc1 in /opt/conda/lib/python3.7/site-packages (from flaml) (1.21.6)\r\n",
      "Requirement already satisfied: lightgbm>=2.3.1 in /opt/conda/lib/python3.7/site-packages (from flaml) (3.3.2)\r\n",
      "Requirement already satisfied: pandas>=1.1.4 in /opt/conda/lib/python3.7/site-packages (from flaml) (1.3.5)\r\n",
      "Requirement already satisfied: wheel in /opt/conda/lib/python3.7/site-packages (from lightgbm>=2.3.1->flaml) (0.37.1)\r\n",
      "Requirement already satisfied: python-dateutil>=2.7.3 in /opt/conda/lib/python3.7/site-packages (from pandas>=1.1.4->flaml) (2.8.2)\r\n",
      "Requirement already satisfied: pytz>=2017.3 in /opt/conda/lib/python3.7/site-packages (from pandas>=1.1.4->flaml) (2022.1)\r\n",
      "Requirement already satisfied: threadpoolctl>=2.0.0 in /opt/conda/lib/python3.7/site-packages (from scikit-learn>=0.24->flaml) (3.1.0)\r\n",
      "Requirement already satisfied: joblib>=0.11 in /opt/conda/lib/python3.7/site-packages (from scikit-learn>=0.24->flaml) (1.0.1)\r\n",
      "Requirement already satisfied: six>=1.5 in /opt/conda/lib/python3.7/site-packages (from python-dateutil>=2.7.3->pandas>=1.1.4->flaml) (1.15.0)\r\n",
      "Installing collected packages: flaml\r\n",
      "Successfully installed flaml-1.0.14\r\n",
      "\u001b[33mWARNING: Running pip as the 'root' user can result in broken permissions and conflicting behaviour with the system package manager. It is recommended to use a virtual environment instead: https://pip.pypa.io/warnings/venv\u001b[0m\u001b[33m\r\n",
      "\u001b[0m"
     ]
    }
   ],
   "source": [
    "!pip install flaml"
   ]
  },
  {
   "cell_type": "code",
   "execution_count": 77,
   "id": "de84d5ae",
   "metadata": {
    "execution": {
     "iopub.execute_input": "2022-11-27T06:23:24.762082Z",
     "iopub.status.busy": "2022-11-27T06:23:24.760921Z",
     "iopub.status.idle": "2022-11-27T06:23:26.636180Z",
     "shell.execute_reply": "2022-11-27T06:23:26.635007Z"
    },
    "papermill": {
     "duration": 1.913209,
     "end_time": "2022-11-27T06:23:26.639123",
     "exception": false,
     "start_time": "2022-11-27T06:23:24.725914",
     "status": "completed"
    },
    "tags": []
   },
   "outputs": [
    {
     "data": {
      "text/html": [
       "<style type='text/css'>\n",
       ".datatable table.frame { margin-bottom: 0; }\n",
       ".datatable table.frame thead { border-bottom: none; }\n",
       ".datatable table.frame tr.coltypes td {  color: #FFFFFF;  line-height: 6px;  padding: 0 0.5em;}\n",
       ".datatable .bool    { background: #DDDD99; }\n",
       ".datatable .object  { background: #565656; }\n",
       ".datatable .int     { background: #5D9E5D; }\n",
       ".datatable .float   { background: #4040CC; }\n",
       ".datatable .str     { background: #CC4040; }\n",
       ".datatable .time    { background: #40CC40; }\n",
       ".datatable .row_index {  background: var(--jp-border-color3);  border-right: 1px solid var(--jp-border-color0);  color: var(--jp-ui-font-color3);  font-size: 9px;}\n",
       ".datatable .frame tbody td { text-align: left; }\n",
       ".datatable .frame tr.coltypes .row_index {  background: var(--jp-border-color0);}\n",
       ".datatable th:nth-child(2) { padding-left: 12px; }\n",
       ".datatable .hellipsis {  color: var(--jp-cell-editor-border-color);}\n",
       ".datatable .vellipsis {  background: var(--jp-layout-color0);  color: var(--jp-cell-editor-border-color);}\n",
       ".datatable .na {  color: var(--jp-cell-editor-border-color);  font-size: 80%;}\n",
       ".datatable .sp {  opacity: 0.25;}\n",
       ".datatable .footer { font-size: 9px; }\n",
       ".datatable .frame_dimensions {  background: var(--jp-border-color3);  border-top: 1px solid var(--jp-border-color0);  color: var(--jp-ui-font-color3);  display: inline-block;  opacity: 0.6;  padding: 1px 10px 1px 5px;}\n",
       "</style>\n"
      ],
      "text/plain": [
       "<IPython.core.display.HTML object>"
      ]
     },
     "metadata": {},
     "output_type": "display_data"
    }
   ],
   "source": [
    "from flaml import AutoML"
   ]
  },
  {
   "cell_type": "code",
   "execution_count": 78,
   "id": "ad287857",
   "metadata": {
    "execution": {
     "iopub.execute_input": "2022-11-27T06:23:26.711859Z",
     "iopub.status.busy": "2022-11-27T06:23:26.711216Z",
     "iopub.status.idle": "2022-11-27T06:23:26.715139Z",
     "shell.execute_reply": "2022-11-27T06:23:26.714360Z"
    },
    "papermill": {
     "duration": 0.040911,
     "end_time": "2022-11-27T06:23:26.717217",
     "exception": false,
     "start_time": "2022-11-27T06:23:26.676306",
     "status": "completed"
    },
    "tags": []
   },
   "outputs": [],
   "source": [
    "#initialize AutoML instance\n",
    "automl=AutoML()"
   ]
  },
  {
   "cell_type": "code",
   "execution_count": 79,
   "id": "2d01f873",
   "metadata": {
    "execution": {
     "iopub.execute_input": "2022-11-27T06:23:26.785795Z",
     "iopub.status.busy": "2022-11-27T06:23:26.785143Z",
     "iopub.status.idle": "2022-11-27T06:23:37.002898Z",
     "shell.execute_reply": "2022-11-27T06:23:37.001163Z"
    },
    "papermill": {
     "duration": 10.255432,
     "end_time": "2022-11-27T06:23:37.005761",
     "exception": false,
     "start_time": "2022-11-27T06:23:26.750329",
     "status": "completed"
    },
    "tags": []
   },
   "outputs": [
    {
     "name": "stderr",
     "output_type": "stream",
     "text": [
      "[flaml.automl: 11-27 06:23:26] {2599} INFO - task = regression\n",
      "[flaml.automl: 11-27 06:23:26] {2601} INFO - Data split method: uniform\n",
      "[flaml.automl: 11-27 06:23:26] {2604} INFO - Evaluation method: holdout\n",
      "[flaml.automl: 11-27 06:23:26] {2726} INFO - Minimizing error metric: 1-r2\n",
      "[flaml.automl: 11-27 06:23:27] {2870} INFO - List of ML learners in AutoML Run: ['lgbm', 'rf', 'catboost', 'xgboost', 'extra_tree', 'xgb_limitdepth']\n",
      "[flaml.automl: 11-27 06:23:27] {3166} INFO - iteration 0, current learner lgbm\n",
      "[flaml.automl: 11-27 06:23:27] {3297} INFO - Estimated sufficient time budget=1228s. Estimated necessary time budget=11s.\n",
      "[flaml.automl: 11-27 06:23:27] {3349} INFO -  at 0.4s,\testimator lgbm's best error=0.8177,\tbest estimator lgbm's best error=0.8177\n",
      "[flaml.automl: 11-27 06:23:27] {3166} INFO - iteration 1, current learner lgbm\n",
      "[flaml.automl: 11-27 06:23:27] {3349} INFO -  at 0.4s,\testimator lgbm's best error=0.8177,\tbest estimator lgbm's best error=0.8177\n",
      "[flaml.automl: 11-27 06:23:27] {3166} INFO - iteration 2, current learner lgbm\n",
      "[flaml.automl: 11-27 06:23:27] {3349} INFO -  at 0.4s,\testimator lgbm's best error=0.6031,\tbest estimator lgbm's best error=0.6031\n",
      "[flaml.automl: 11-27 06:23:27] {3166} INFO - iteration 3, current learner lgbm\n",
      "[flaml.automl: 11-27 06:23:27] {3349} INFO -  at 0.4s,\testimator lgbm's best error=0.3795,\tbest estimator lgbm's best error=0.3795\n",
      "[flaml.automl: 11-27 06:23:27] {3166} INFO - iteration 4, current learner lgbm\n",
      "[flaml.automl: 11-27 06:23:27] {3349} INFO -  at 0.5s,\testimator lgbm's best error=0.3795,\tbest estimator lgbm's best error=0.3795\n",
      "[flaml.automl: 11-27 06:23:27] {3166} INFO - iteration 5, current learner lgbm\n",
      "[flaml.automl: 11-27 06:23:27] {3349} INFO -  at 0.5s,\testimator lgbm's best error=0.3234,\tbest estimator lgbm's best error=0.3234\n",
      "[flaml.automl: 11-27 06:23:27] {3166} INFO - iteration 6, current learner lgbm\n",
      "[flaml.automl: 11-27 06:23:27] {3349} INFO -  at 0.5s,\testimator lgbm's best error=0.3234,\tbest estimator lgbm's best error=0.3234\n",
      "[flaml.automl: 11-27 06:23:27] {3166} INFO - iteration 7, current learner lgbm\n",
      "[flaml.automl: 11-27 06:23:27] {3349} INFO -  at 0.5s,\testimator lgbm's best error=0.3234,\tbest estimator lgbm's best error=0.3234\n",
      "[flaml.automl: 11-27 06:23:27] {3166} INFO - iteration 8, current learner lgbm\n",
      "[flaml.automl: 11-27 06:23:27] {3349} INFO -  at 0.5s,\testimator lgbm's best error=0.3234,\tbest estimator lgbm's best error=0.3234\n",
      "[flaml.automl: 11-27 06:23:27] {3166} INFO - iteration 9, current learner lgbm\n",
      "[flaml.automl: 11-27 06:23:27] {3349} INFO -  at 0.6s,\testimator lgbm's best error=0.3234,\tbest estimator lgbm's best error=0.3234\n",
      "[flaml.automl: 11-27 06:23:27] {3166} INFO - iteration 10, current learner lgbm\n",
      "[flaml.automl: 11-27 06:23:27] {3349} INFO -  at 0.6s,\testimator lgbm's best error=0.3234,\tbest estimator lgbm's best error=0.3234\n",
      "[flaml.automl: 11-27 06:23:27] {3166} INFO - iteration 11, current learner lgbm\n",
      "[flaml.automl: 11-27 06:23:27] {3349} INFO -  at 0.6s,\testimator lgbm's best error=0.3234,\tbest estimator lgbm's best error=0.3234\n",
      "[flaml.automl: 11-27 06:23:27] {3166} INFO - iteration 12, current learner lgbm\n",
      "[flaml.automl: 11-27 06:23:27] {3349} INFO -  at 0.6s,\testimator lgbm's best error=0.3234,\tbest estimator lgbm's best error=0.3234\n",
      "[flaml.automl: 11-27 06:23:27] {3166} INFO - iteration 13, current learner lgbm\n",
      "[flaml.automl: 11-27 06:23:27] {3349} INFO -  at 0.6s,\testimator lgbm's best error=0.3234,\tbest estimator lgbm's best error=0.3234\n",
      "[flaml.automl: 11-27 06:23:27] {3166} INFO - iteration 14, current learner lgbm\n",
      "[flaml.automl: 11-27 06:23:27] {3349} INFO -  at 0.7s,\testimator lgbm's best error=0.3234,\tbest estimator lgbm's best error=0.3234\n",
      "[flaml.automl: 11-27 06:23:27] {3166} INFO - iteration 15, current learner lgbm\n",
      "[flaml.automl: 11-27 06:23:27] {3349} INFO -  at 0.7s,\testimator lgbm's best error=0.3234,\tbest estimator lgbm's best error=0.3234\n",
      "[flaml.automl: 11-27 06:23:27] {3166} INFO - iteration 16, current learner lgbm\n",
      "[flaml.automl: 11-27 06:23:27] {3349} INFO -  at 0.7s,\testimator lgbm's best error=0.3234,\tbest estimator lgbm's best error=0.3234\n",
      "[flaml.automl: 11-27 06:23:27] {3166} INFO - iteration 17, current learner lgbm\n",
      "[flaml.automl: 11-27 06:23:27] {3349} INFO -  at 0.7s,\testimator lgbm's best error=0.3234,\tbest estimator lgbm's best error=0.3234\n",
      "[flaml.automl: 11-27 06:23:27] {3166} INFO - iteration 18, current learner xgboost\n",
      "[flaml.automl: 11-27 06:23:27] {3349} INFO -  at 0.8s,\testimator xgboost's best error=1.0273,\tbest estimator lgbm's best error=0.3234\n",
      "[flaml.automl: 11-27 06:23:27] {3166} INFO - iteration 19, current learner xgboost\n",
      "[flaml.automl: 11-27 06:23:27] {3349} INFO -  at 0.8s,\testimator xgboost's best error=1.0273,\tbest estimator lgbm's best error=0.3234\n",
      "[flaml.automl: 11-27 06:23:27] {3166} INFO - iteration 20, current learner lgbm\n",
      "[flaml.automl: 11-27 06:23:27] {3349} INFO -  at 0.9s,\testimator lgbm's best error=0.3234,\tbest estimator lgbm's best error=0.3234\n",
      "[flaml.automl: 11-27 06:23:27] {3166} INFO - iteration 21, current learner lgbm\n",
      "[flaml.automl: 11-27 06:23:27] {3349} INFO -  at 0.9s,\testimator lgbm's best error=0.3234,\tbest estimator lgbm's best error=0.3234\n",
      "[flaml.automl: 11-27 06:23:27] {3166} INFO - iteration 22, current learner xgboost\n",
      "[flaml.automl: 11-27 06:23:27] {3349} INFO -  at 1.0s,\testimator xgboost's best error=0.5893,\tbest estimator lgbm's best error=0.3234\n",
      "[flaml.automl: 11-27 06:23:27] {3166} INFO - iteration 23, current learner xgboost\n",
      "[flaml.automl: 11-27 06:23:27] {3349} INFO -  at 1.0s,\testimator xgboost's best error=0.4432,\tbest estimator lgbm's best error=0.3234\n",
      "[flaml.automl: 11-27 06:23:27] {3166} INFO - iteration 24, current learner xgboost\n",
      "[flaml.automl: 11-27 06:23:27] {3349} INFO -  at 1.1s,\testimator xgboost's best error=0.4432,\tbest estimator lgbm's best error=0.3234\n",
      "[flaml.automl: 11-27 06:23:27] {3166} INFO - iteration 25, current learner xgboost\n",
      "[flaml.automl: 11-27 06:23:27] {3349} INFO -  at 1.2s,\testimator xgboost's best error=0.4432,\tbest estimator lgbm's best error=0.3234\n",
      "[flaml.automl: 11-27 06:23:27] {3166} INFO - iteration 26, current learner extra_tree\n",
      "[flaml.automl: 11-27 06:23:28] {3349} INFO -  at 1.5s,\testimator extra_tree's best error=0.5322,\tbest estimator lgbm's best error=0.3234\n",
      "[flaml.automl: 11-27 06:23:28] {3166} INFO - iteration 27, current learner rf\n",
      "[flaml.automl: 11-27 06:23:28] {3349} INFO -  at 1.8s,\testimator rf's best error=0.4940,\tbest estimator lgbm's best error=0.3234\n",
      "[flaml.automl: 11-27 06:23:28] {3166} INFO - iteration 28, current learner extra_tree\n",
      "[flaml.automl: 11-27 06:23:28] {3349} INFO -  at 2.1s,\testimator extra_tree's best error=0.4455,\tbest estimator lgbm's best error=0.3234\n",
      "[flaml.automl: 11-27 06:23:28] {3166} INFO - iteration 29, current learner xgboost\n",
      "[flaml.automl: 11-27 06:23:28] {3349} INFO -  at 2.2s,\testimator xgboost's best error=0.3940,\tbest estimator lgbm's best error=0.3234\n",
      "[flaml.automl: 11-27 06:23:29] {3166} INFO - iteration 30, current learner lgbm\n",
      "[flaml.automl: 11-27 06:23:29] {3349} INFO -  at 2.3s,\testimator lgbm's best error=0.3234,\tbest estimator lgbm's best error=0.3234\n",
      "[flaml.automl: 11-27 06:23:29] {3166} INFO - iteration 31, current learner lgbm\n",
      "[flaml.automl: 11-27 06:23:29] {3349} INFO -  at 2.3s,\testimator lgbm's best error=0.2934,\tbest estimator lgbm's best error=0.2934\n",
      "[flaml.automl: 11-27 06:23:29] {3166} INFO - iteration 32, current learner lgbm\n",
      "[flaml.automl: 11-27 06:23:29] {3349} INFO -  at 2.3s,\testimator lgbm's best error=0.2934,\tbest estimator lgbm's best error=0.2934\n",
      "[flaml.automl: 11-27 06:23:29] {3166} INFO - iteration 33, current learner xgboost\n",
      "[flaml.automl: 11-27 06:23:29] {3349} INFO -  at 2.4s,\testimator xgboost's best error=0.3940,\tbest estimator lgbm's best error=0.2934\n",
      "[flaml.automl: 11-27 06:23:29] {3166} INFO - iteration 34, current learner lgbm\n",
      "[flaml.automl: 11-27 06:23:29] {3349} INFO -  at 2.4s,\testimator lgbm's best error=0.2934,\tbest estimator lgbm's best error=0.2934\n",
      "[flaml.automl: 11-27 06:23:29] {3166} INFO - iteration 35, current learner rf\n",
      "[flaml.automl: 11-27 06:23:29] {3349} INFO -  at 2.7s,\testimator rf's best error=0.3628,\tbest estimator lgbm's best error=0.2934\n",
      "[flaml.automl: 11-27 06:23:29] {3166} INFO - iteration 36, current learner extra_tree\n",
      "[flaml.automl: 11-27 06:23:29] {3349} INFO -  at 3.1s,\testimator extra_tree's best error=0.4455,\tbest estimator lgbm's best error=0.2934\n",
      "[flaml.automl: 11-27 06:23:29] {3166} INFO - iteration 37, current learner rf\n",
      "[flaml.automl: 11-27 06:23:30] {3349} INFO -  at 3.4s,\testimator rf's best error=0.3628,\tbest estimator lgbm's best error=0.2934\n",
      "[flaml.automl: 11-27 06:23:30] {3166} INFO - iteration 38, current learner rf\n",
      "[flaml.automl: 11-27 06:23:30] {3349} INFO -  at 3.8s,\testimator rf's best error=0.3369,\tbest estimator lgbm's best error=0.2934\n",
      "[flaml.automl: 11-27 06:23:30] {3166} INFO - iteration 39, current learner lgbm\n",
      "[flaml.automl: 11-27 06:23:30] {3349} INFO -  at 3.8s,\testimator lgbm's best error=0.2934,\tbest estimator lgbm's best error=0.2934\n",
      "[flaml.automl: 11-27 06:23:30] {3166} INFO - iteration 40, current learner rf\n",
      "[flaml.automl: 11-27 06:23:31] {3349} INFO -  at 4.3s,\testimator rf's best error=0.2849,\tbest estimator rf's best error=0.2849\n",
      "[flaml.automl: 11-27 06:23:31] {3166} INFO - iteration 41, current learner xgboost\n",
      "[flaml.automl: 11-27 06:23:31] {3349} INFO -  at 4.3s,\testimator xgboost's best error=0.3940,\tbest estimator rf's best error=0.2849\n",
      "[flaml.automl: 11-27 06:23:31] {3166} INFO - iteration 42, current learner lgbm\n",
      "[flaml.automl: 11-27 06:23:31] {3349} INFO -  at 4.4s,\testimator lgbm's best error=0.2934,\tbest estimator rf's best error=0.2849\n",
      "[flaml.automl: 11-27 06:23:31] {3166} INFO - iteration 43, current learner rf\n",
      "[flaml.automl: 11-27 06:23:31] {3349} INFO -  at 4.8s,\testimator rf's best error=0.2849,\tbest estimator rf's best error=0.2849\n",
      "[flaml.automl: 11-27 06:23:31] {3166} INFO - iteration 44, current learner extra_tree\n",
      "[flaml.automl: 11-27 06:23:32] {3349} INFO -  at 5.2s,\testimator extra_tree's best error=0.3418,\tbest estimator rf's best error=0.2849\n",
      "[flaml.automl: 11-27 06:23:32] {3166} INFO - iteration 45, current learner xgboost\n",
      "[flaml.automl: 11-27 06:23:32] {3349} INFO -  at 5.3s,\testimator xgboost's best error=0.3940,\tbest estimator rf's best error=0.2849\n",
      "[flaml.automl: 11-27 06:23:32] {3166} INFO - iteration 46, current learner lgbm\n",
      "[flaml.automl: 11-27 06:23:32] {3349} INFO -  at 5.3s,\testimator lgbm's best error=0.2934,\tbest estimator rf's best error=0.2849\n",
      "[flaml.automl: 11-27 06:23:32] {3166} INFO - iteration 47, current learner xgboost\n",
      "[flaml.automl: 11-27 06:23:32] {3349} INFO -  at 5.4s,\testimator xgboost's best error=0.3826,\tbest estimator rf's best error=0.2849\n",
      "[flaml.automl: 11-27 06:23:32] {3166} INFO - iteration 48, current learner lgbm\n",
      "[flaml.automl: 11-27 06:23:32] {3349} INFO -  at 5.4s,\testimator lgbm's best error=0.2934,\tbest estimator rf's best error=0.2849\n",
      "[flaml.automl: 11-27 06:23:32] {3166} INFO - iteration 49, current learner lgbm\n",
      "[flaml.automl: 11-27 06:23:32] {3349} INFO -  at 5.5s,\testimator lgbm's best error=0.2934,\tbest estimator rf's best error=0.2849\n",
      "[flaml.automl: 11-27 06:23:32] {3166} INFO - iteration 50, current learner extra_tree\n",
      "[flaml.automl: 11-27 06:23:32] {3349} INFO -  at 5.9s,\testimator extra_tree's best error=0.3418,\tbest estimator rf's best error=0.2849\n",
      "[flaml.automl: 11-27 06:23:32] {3166} INFO - iteration 51, current learner lgbm\n",
      "[flaml.automl: 11-27 06:23:32] {3349} INFO -  at 5.9s,\testimator lgbm's best error=0.2934,\tbest estimator rf's best error=0.2849\n",
      "[flaml.automl: 11-27 06:23:32] {3166} INFO - iteration 52, current learner lgbm\n",
      "[flaml.automl: 11-27 06:23:32] {3349} INFO -  at 5.9s,\testimator lgbm's best error=0.2934,\tbest estimator rf's best error=0.2849\n",
      "[flaml.automl: 11-27 06:23:32] {3166} INFO - iteration 53, current learner lgbm\n",
      "[flaml.automl: 11-27 06:23:32] {3349} INFO -  at 6.0s,\testimator lgbm's best error=0.2934,\tbest estimator rf's best error=0.2849\n",
      "[flaml.automl: 11-27 06:23:32] {3166} INFO - iteration 54, current learner lgbm\n",
      "[flaml.automl: 11-27 06:23:32] {3349} INFO -  at 6.0s,\testimator lgbm's best error=0.2934,\tbest estimator rf's best error=0.2849\n",
      "[flaml.automl: 11-27 06:23:32] {3166} INFO - iteration 55, current learner rf\n",
      "[flaml.automl: 11-27 06:23:33] {3349} INFO -  at 6.4s,\testimator rf's best error=0.2849,\tbest estimator rf's best error=0.2849\n",
      "[flaml.automl: 11-27 06:23:33] {3166} INFO - iteration 56, current learner lgbm\n",
      "[flaml.automl: 11-27 06:23:33] {3349} INFO -  at 6.5s,\testimator lgbm's best error=0.2934,\tbest estimator rf's best error=0.2849\n",
      "[flaml.automl: 11-27 06:23:33] {3166} INFO - iteration 57, current learner lgbm\n",
      "[flaml.automl: 11-27 06:23:33] {3349} INFO -  at 6.5s,\testimator lgbm's best error=0.2934,\tbest estimator rf's best error=0.2849\n",
      "[flaml.automl: 11-27 06:23:33] {3166} INFO - iteration 58, current learner lgbm\n",
      "[flaml.automl: 11-27 06:23:33] {3349} INFO -  at 6.5s,\testimator lgbm's best error=0.2934,\tbest estimator rf's best error=0.2849\n",
      "[flaml.automl: 11-27 06:23:33] {3166} INFO - iteration 59, current learner lgbm\n",
      "[flaml.automl: 11-27 06:23:33] {3349} INFO -  at 6.6s,\testimator lgbm's best error=0.2934,\tbest estimator rf's best error=0.2849\n",
      "[flaml.automl: 11-27 06:23:33] {3166} INFO - iteration 60, current learner rf\n",
      "[flaml.automl: 11-27 06:23:33] {3349} INFO -  at 7.0s,\testimator rf's best error=0.2849,\tbest estimator rf's best error=0.2849\n",
      "[flaml.automl: 11-27 06:23:33] {3166} INFO - iteration 61, current learner lgbm\n",
      "[flaml.automl: 11-27 06:23:33] {3349} INFO -  at 7.0s,\testimator lgbm's best error=0.2934,\tbest estimator rf's best error=0.2849\n",
      "[flaml.automl: 11-27 06:23:33] {3166} INFO - iteration 62, current learner lgbm\n",
      "[flaml.automl: 11-27 06:23:33] {3349} INFO -  at 7.0s,\testimator lgbm's best error=0.2934,\tbest estimator rf's best error=0.2849\n",
      "[flaml.automl: 11-27 06:23:33] {3166} INFO - iteration 63, current learner rf\n",
      "[flaml.automl: 11-27 06:23:34] {3349} INFO -  at 7.5s,\testimator rf's best error=0.2849,\tbest estimator rf's best error=0.2849\n",
      "[flaml.automl: 11-27 06:23:34] {3166} INFO - iteration 64, current learner lgbm\n",
      "[flaml.automl: 11-27 06:23:34] {3349} INFO -  at 7.5s,\testimator lgbm's best error=0.2934,\tbest estimator rf's best error=0.2849\n",
      "[flaml.automl: 11-27 06:23:34] {3166} INFO - iteration 65, current learner lgbm\n",
      "[flaml.automl: 11-27 06:23:34] {3349} INFO -  at 7.5s,\testimator lgbm's best error=0.2934,\tbest estimator rf's best error=0.2849\n",
      "[flaml.automl: 11-27 06:23:34] {3166} INFO - iteration 66, current learner rf\n",
      "[flaml.automl: 11-27 06:23:34] {3349} INFO -  at 7.9s,\testimator rf's best error=0.2849,\tbest estimator rf's best error=0.2849\n",
      "[flaml.automl: 11-27 06:23:34] {3166} INFO - iteration 67, current learner lgbm\n",
      "[flaml.automl: 11-27 06:23:34] {3349} INFO -  at 7.9s,\testimator lgbm's best error=0.2934,\tbest estimator rf's best error=0.2849\n",
      "[flaml.automl: 11-27 06:23:34] {3166} INFO - iteration 68, current learner lgbm\n",
      "[flaml.automl: 11-27 06:23:34] {3349} INFO -  at 7.9s,\testimator lgbm's best error=0.2934,\tbest estimator rf's best error=0.2849\n",
      "[flaml.automl: 11-27 06:23:34] {3166} INFO - iteration 69, current learner lgbm\n",
      "[flaml.automl: 11-27 06:23:34] {3349} INFO -  at 7.9s,\testimator lgbm's best error=0.2934,\tbest estimator rf's best error=0.2849\n",
      "[flaml.automl: 11-27 06:23:34] {3166} INFO - iteration 70, current learner rf\n",
      "[flaml.automl: 11-27 06:23:35] {3349} INFO -  at 8.2s,\testimator rf's best error=0.2849,\tbest estimator rf's best error=0.2849\n",
      "[flaml.automl: 11-27 06:23:35] {3166} INFO - iteration 71, current learner lgbm\n",
      "[flaml.automl: 11-27 06:23:35] {3349} INFO -  at 8.3s,\testimator lgbm's best error=0.2934,\tbest estimator rf's best error=0.2849\n",
      "[flaml.automl: 11-27 06:23:35] {3166} INFO - iteration 72, current learner extra_tree\n",
      "[flaml.automl: 11-27 06:23:35] {3349} INFO -  at 8.7s,\testimator extra_tree's best error=0.3418,\tbest estimator rf's best error=0.2849\n",
      "[flaml.automl: 11-27 06:23:35] {3166} INFO - iteration 73, current learner lgbm\n",
      "[flaml.automl: 11-27 06:23:35] {3349} INFO -  at 8.7s,\testimator lgbm's best error=0.2934,\tbest estimator rf's best error=0.2849\n",
      "[flaml.automl: 11-27 06:23:35] {3166} INFO - iteration 74, current learner extra_tree\n",
      "[flaml.automl: 11-27 06:23:35] {3349} INFO -  at 9.2s,\testimator extra_tree's best error=0.3418,\tbest estimator rf's best error=0.2849\n",
      "[flaml.automl: 11-27 06:23:35] {3166} INFO - iteration 75, current learner lgbm\n",
      "[flaml.automl: 11-27 06:23:36] {3349} INFO -  at 9.2s,\testimator lgbm's best error=0.2934,\tbest estimator rf's best error=0.2849\n",
      "[flaml.automl: 11-27 06:23:36] {3166} INFO - iteration 76, current learner lgbm\n",
      "[flaml.automl: 11-27 06:23:36] {3349} INFO -  at 9.2s,\testimator lgbm's best error=0.2934,\tbest estimator rf's best error=0.2849\n",
      "[flaml.automl: 11-27 06:23:36] {3166} INFO - iteration 77, current learner xgboost\n",
      "[flaml.automl: 11-27 06:23:36] {3349} INFO -  at 9.3s,\testimator xgboost's best error=0.3080,\tbest estimator rf's best error=0.2849\n",
      "[flaml.automl: 11-27 06:23:36] {3166} INFO - iteration 78, current learner xgboost\n",
      "[flaml.automl: 11-27 06:23:36] {3349} INFO -  at 9.4s,\testimator xgboost's best error=0.3080,\tbest estimator rf's best error=0.2849\n",
      "[flaml.automl: 11-27 06:23:36] {3166} INFO - iteration 79, current learner xgboost\n",
      "[flaml.automl: 11-27 06:23:36] {3349} INFO -  at 9.5s,\testimator xgboost's best error=0.2411,\tbest estimator xgboost's best error=0.2411\n",
      "[flaml.automl: 11-27 06:23:36] {3166} INFO - iteration 80, current learner xgboost\n",
      "[flaml.automl: 11-27 06:23:36] {3349} INFO -  at 9.5s,\testimator xgboost's best error=0.2411,\tbest estimator xgboost's best error=0.2411\n",
      "[flaml.automl: 11-27 06:23:36] {3166} INFO - iteration 81, current learner xgboost\n",
      "[flaml.automl: 11-27 06:23:36] {3349} INFO -  at 9.6s,\testimator xgboost's best error=0.2411,\tbest estimator xgboost's best error=0.2411\n",
      "[flaml.automl: 11-27 06:23:36] {3166} INFO - iteration 82, current learner xgboost\n",
      "[flaml.automl: 11-27 06:23:36] {3349} INFO -  at 9.7s,\testimator xgboost's best error=0.2411,\tbest estimator xgboost's best error=0.2411\n",
      "[flaml.automl: 11-27 06:23:36] {3166} INFO - iteration 83, current learner xgboost\n",
      "[flaml.automl: 11-27 06:23:36] {3349} INFO -  at 9.7s,\testimator xgboost's best error=0.2411,\tbest estimator xgboost's best error=0.2411\n",
      "[flaml.automl: 11-27 06:23:36] {3166} INFO - iteration 84, current learner xgboost\n",
      "[flaml.automl: 11-27 06:23:36] {3349} INFO -  at 9.8s,\testimator xgboost's best error=0.2411,\tbest estimator xgboost's best error=0.2411\n",
      "[flaml.automl: 11-27 06:23:36] {3166} INFO - iteration 85, current learner xgboost\n",
      "[flaml.automl: 11-27 06:23:36] {3349} INFO -  at 9.9s,\testimator xgboost's best error=0.2411,\tbest estimator xgboost's best error=0.2411\n",
      "[flaml.automl: 11-27 06:23:36] {3166} INFO - iteration 86, current learner xgboost\n",
      "[flaml.automl: 11-27 06:23:36] {3349} INFO -  at 10.0s,\testimator xgboost's best error=0.2411,\tbest estimator xgboost's best error=0.2411\n",
      "[flaml.automl: 11-27 06:23:36] {3166} INFO - iteration 87, current learner catboost\n",
      "[flaml.automl: 11-27 06:23:36] {3349} INFO -  at 10.1s,\testimator catboost's best error=0.9400,\tbest estimator xgboost's best error=0.2411\n",
      "[flaml.automl: 11-27 06:23:36] {3604} INFO - retrain xgboost for 0.1s\n",
      "[flaml.automl: 11-27 06:23:36] {3609} INFO - retrained model: XGBRegressor(base_score=0.5, booster='gbtree', callbacks=[],\n",
      "             colsample_bylevel=1.0, colsample_bynode=1, colsample_bytree=1.0,\n",
      "             early_stopping_rounds=None, enable_categorical=False,\n",
      "             eval_metric=None, gamma=0, gpu_id=-1, grow_policy='lossguide',\n",
      "             importance_type=None, interaction_constraints='',\n",
      "             learning_rate=1.0, max_bin=256, max_cat_to_onehot=4,\n",
      "             max_delta_step=0, max_depth=0, max_leaves=7,\n",
      "             min_child_weight=0.6734785513676359, missing=nan,\n",
      "             monotone_constraints='()', n_estimators=4, n_jobs=-1,\n",
      "             num_parallel_tree=1, predictor='auto', random_state=0,\n",
      "             reg_alpha=0.008543194828220598, reg_lambda=0.03859361336548085, ...)\n",
      "[flaml.automl: 11-27 06:23:36] {2901} INFO - fit succeeded\n",
      "[flaml.automl: 11-27 06:23:36] {2903} INFO - Time taken to find the best model: 9.458321809768677\n",
      "[flaml.automl: 11-27 06:23:36] {2917} WARNING - Time taken to find the best model is 95% of the provided time budget and not all estimators' hyperparameter search converged. Consider increasing the time budget.\n"
     ]
    },
    {
     "name": "stdout",
     "output_type": "stream",
     "text": [
      "[1.0547922e+07 2.3027360e+06 1.8488931e+08 ... 2.3027360e+06 3.6625612e+07\n",
      " 7.9575645e+06]\n",
      "<flaml.model.XGBoostSklearnEstimator object at 0x7f255a2003d0>\n"
     ]
    }
   ],
   "source": [
    "#specify automl goal and constraint\n",
    "automl_settings={\"time_budget\":10,  # in seconds\n",
    "                 \"metric\":'r2',\n",
    "                 \"task\":'regression',\n",
    "                 \"log_file_name\":\"house\"}\n",
    "\n",
    "#train with labeled input data\n",
    "automl.fit(X_train=X_train, y_train=y_train, **automl_settings)\n",
    "#Predict\n",
    "print(automl.predict(X_train))\n",
    "#Export the best model\n",
    "print(automl.model)"
   ]
  },
  {
   "cell_type": "code",
   "execution_count": 80,
   "id": "c6e930a3",
   "metadata": {
    "execution": {
     "iopub.execute_input": "2022-11-27T06:23:37.097469Z",
     "iopub.status.busy": "2022-11-27T06:23:37.096823Z",
     "iopub.status.idle": "2022-11-27T06:23:48.269541Z",
     "shell.execute_reply": "2022-11-27T06:23:48.268491Z"
    },
    "papermill": {
     "duration": 11.221523,
     "end_time": "2022-11-27T06:23:48.272301",
     "exception": false,
     "start_time": "2022-11-27T06:23:37.050778",
     "status": "completed"
    },
    "tags": []
   },
   "outputs": [
    {
     "name": "stdout",
     "output_type": "stream",
     "text": [
      "Requirement already satisfied: lightgbm in /opt/conda/lib/python3.7/site-packages (3.3.2)\r\n",
      "Requirement already satisfied: numpy in /opt/conda/lib/python3.7/site-packages (from lightgbm) (1.21.6)\r\n",
      "Requirement already satisfied: scikit-learn!=0.22.0 in /opt/conda/lib/python3.7/site-packages (from lightgbm) (1.0.2)\r\n",
      "Requirement already satisfied: scipy in /opt/conda/lib/python3.7/site-packages (from lightgbm) (1.7.3)\r\n",
      "Requirement already satisfied: wheel in /opt/conda/lib/python3.7/site-packages (from lightgbm) (0.37.1)\r\n",
      "Requirement already satisfied: threadpoolctl>=2.0.0 in /opt/conda/lib/python3.7/site-packages (from scikit-learn!=0.22.0->lightgbm) (3.1.0)\r\n",
      "Requirement already satisfied: joblib>=0.11 in /opt/conda/lib/python3.7/site-packages (from scikit-learn!=0.22.0->lightgbm) (1.0.1)\r\n",
      "\u001b[33mWARNING: Running pip as the 'root' user can result in broken permissions and conflicting behaviour with the system package manager. It is recommended to use a virtual environment instead: https://pip.pypa.io/warnings/venv\u001b[0m\u001b[33m\r\n",
      "\u001b[0m"
     ]
    }
   ],
   "source": [
    "!pip install lightgbm"
   ]
  },
  {
   "cell_type": "code",
   "execution_count": 81,
   "id": "fb492b55",
   "metadata": {
    "execution": {
     "iopub.execute_input": "2022-11-27T06:23:48.363288Z",
     "iopub.status.busy": "2022-11-27T06:23:48.362501Z",
     "iopub.status.idle": "2022-11-27T06:23:48.484037Z",
     "shell.execute_reply": "2022-11-27T06:23:48.483030Z"
    },
    "papermill": {
     "duration": 0.169682,
     "end_time": "2022-11-27T06:23:48.486399",
     "exception": false,
     "start_time": "2022-11-27T06:23:48.316717",
     "status": "completed"
    },
    "tags": []
   },
   "outputs": [
    {
     "data": {
      "text/plain": [
       "0.7707607525403023"
      ]
     },
     "execution_count": 81,
     "metadata": {},
     "output_type": "execute_result"
    }
   ],
   "source": [
    "from lightgbm import LGBMRegressor\n",
    "lgb=LGBMRegressor()\n",
    "lgb.fit(X_train,y_train)\n",
    "lgb.score(X_train, y_train)"
   ]
  },
  {
   "cell_type": "code",
   "execution_count": 82,
   "id": "7b59076c",
   "metadata": {
    "execution": {
     "iopub.execute_input": "2022-11-27T06:23:48.578719Z",
     "iopub.status.busy": "2022-11-27T06:23:48.577467Z",
     "iopub.status.idle": "2022-11-27T06:23:48.594570Z",
     "shell.execute_reply": "2022-11-27T06:23:48.593372Z"
    },
    "papermill": {
     "duration": 0.065558,
     "end_time": "2022-11-27T06:23:48.597189",
     "exception": false,
     "start_time": "2022-11-27T06:23:48.531631",
     "status": "completed"
    },
    "tags": []
   },
   "outputs": [
    {
     "data": {
      "text/plain": [
       "(0.7164294802512867, 17878053.967491947)"
      ]
     },
     "execution_count": 82,
     "metadata": {},
     "output_type": "execute_result"
    }
   ],
   "source": [
    "lgb_rmse = rmse(y_test, lgb.predict(X_test))\n",
    "lgb_score=lgb.score(X_test,y_test)\n",
    "lgb_score, lgb_rmse"
   ]
  },
  {
   "cell_type": "code",
   "execution_count": 83,
   "id": "75d50d1f",
   "metadata": {
    "execution": {
     "iopub.execute_input": "2022-11-27T06:23:48.689804Z",
     "iopub.status.busy": "2022-11-27T06:23:48.689335Z",
     "iopub.status.idle": "2022-11-27T06:23:49.663044Z",
     "shell.execute_reply": "2022-11-27T06:23:49.661567Z"
    },
    "papermill": {
     "duration": 1.023059,
     "end_time": "2022-11-27T06:23:49.665488",
     "exception": false,
     "start_time": "2022-11-27T06:23:48.642429",
     "status": "completed"
    },
    "tags": []
   },
   "outputs": [
    {
     "name": "stdout",
     "output_type": "stream",
     "text": [
      "XGBoostLimitDepthEstimator 0.6112794360971507\n"
     ]
    }
   ],
   "source": [
    "print('XGBoostLimitDepthEstimator',np.mean(cross_val_score(lgb,X_train,y_train,cv=10)))"
   ]
  },
  {
   "cell_type": "code",
   "execution_count": null,
   "id": "82b019b0",
   "metadata": {
    "papermill": {
     "duration": 0.044386,
     "end_time": "2022-11-27T06:23:49.754611",
     "exception": false,
     "start_time": "2022-11-27T06:23:49.710225",
     "status": "completed"
    },
    "tags": []
   },
   "outputs": [],
   "source": []
  }
 ],
 "metadata": {
  "kernelspec": {
   "display_name": "Python 3",
   "language": "python",
   "name": "python3"
  },
  "language_info": {
   "codemirror_mode": {
    "name": "ipython",
    "version": 3
   },
   "file_extension": ".py",
   "mimetype": "text/x-python",
   "name": "python",
   "nbconvert_exporter": "python",
   "pygments_lexer": "ipython3",
   "version": "3.7.12"
  },
  "papermill": {
   "default_parameters": {},
   "duration": 76.726436,
   "end_time": "2022-11-27T06:23:50.923367",
   "environment_variables": {},
   "exception": null,
   "input_path": "__notebook__.ipynb",
   "output_path": "__notebook__.ipynb",
   "parameters": {},
   "start_time": "2022-11-27T06:22:34.196931",
   "version": "2.3.4"
  }
 },
 "nbformat": 4,
 "nbformat_minor": 5
}
