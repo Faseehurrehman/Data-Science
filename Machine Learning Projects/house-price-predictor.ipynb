{
 "cells": [
  {
   "cell_type": "code",
   "execution_count": 1,
   "id": "c94b08e7",
   "metadata": {
    "execution": {
     "iopub.execute_input": "2022-11-27T06:10:45.413221Z",
     "iopub.status.busy": "2022-11-27T06:10:45.412008Z",
     "iopub.status.idle": "2022-11-27T06:10:46.516371Z",
     "shell.execute_reply": "2022-11-27T06:10:46.515486Z"
    },
    "papermill": {
     "duration": 1.133941,
     "end_time": "2022-11-27T06:10:46.519114",
     "exception": false,
     "start_time": "2022-11-27T06:10:45.385173",
     "status": "completed"
    },
    "tags": []
   },
   "outputs": [],
   "source": [
    "import numpy as np\n",
    "import pandas as pd\n",
    "import matplotlib.pyplot as plt\n",
    "import seaborn as sns"
   ]
  },
  {
   "cell_type": "code",
   "execution_count": 2,
   "id": "b7e02d63",
   "metadata": {
    "execution": {
     "iopub.execute_input": "2022-11-27T06:10:46.558820Z",
     "iopub.status.busy": "2022-11-27T06:10:46.558204Z",
     "iopub.status.idle": "2022-11-27T06:10:47.856004Z",
     "shell.execute_reply": "2022-11-27T06:10:47.854917Z"
    },
    "papermill": {
     "duration": 1.320502,
     "end_time": "2022-11-27T06:10:47.858395",
     "exception": false,
     "start_time": "2022-11-27T06:10:46.537893",
     "status": "completed"
    },
    "tags": []
   },
   "outputs": [
    {
     "data": {
      "text/html": [
       "<div>\n",
       "<style scoped>\n",
       "    .dataframe tbody tr th:only-of-type {\n",
       "        vertical-align: middle;\n",
       "    }\n",
       "\n",
       "    .dataframe tbody tr th {\n",
       "        vertical-align: top;\n",
       "    }\n",
       "\n",
       "    .dataframe thead th {\n",
       "        text-align: right;\n",
       "    }\n",
       "</style>\n",
       "<table border=\"1\" class=\"dataframe\">\n",
       "  <thead>\n",
       "    <tr style=\"text-align: right;\">\n",
       "      <th></th>\n",
       "      <th>Unnamed: 0</th>\n",
       "      <th>property_id</th>\n",
       "      <th>location_id</th>\n",
       "      <th>page_url</th>\n",
       "      <th>property_type</th>\n",
       "      <th>price</th>\n",
       "      <th>location</th>\n",
       "      <th>city</th>\n",
       "      <th>province_name</th>\n",
       "      <th>latitude</th>\n",
       "      <th>longitude</th>\n",
       "      <th>baths</th>\n",
       "      <th>purpose</th>\n",
       "      <th>bedrooms</th>\n",
       "      <th>date_added</th>\n",
       "      <th>agency</th>\n",
       "      <th>agent</th>\n",
       "      <th>Total_Area</th>\n",
       "    </tr>\n",
       "  </thead>\n",
       "  <tbody>\n",
       "    <tr>\n",
       "      <th>0</th>\n",
       "      <td>0</td>\n",
       "      <td>237062</td>\n",
       "      <td>3325</td>\n",
       "      <td>https://www.zameen.com/Property/g_10_g_10_2_gr...</td>\n",
       "      <td>Flat</td>\n",
       "      <td>10000000</td>\n",
       "      <td>G-10</td>\n",
       "      <td>Islamabad</td>\n",
       "      <td>Islamabad Capital</td>\n",
       "      <td>33.679890</td>\n",
       "      <td>73.012640</td>\n",
       "      <td>2</td>\n",
       "      <td>For Sale</td>\n",
       "      <td>2</td>\n",
       "      <td>2/4/2019</td>\n",
       "      <td>NaN</td>\n",
       "      <td>NaN</td>\n",
       "      <td>1089.004</td>\n",
       "    </tr>\n",
       "    <tr>\n",
       "      <th>1</th>\n",
       "      <td>1</td>\n",
       "      <td>346905</td>\n",
       "      <td>3236</td>\n",
       "      <td>https://www.zameen.com/Property/e_11_2_service...</td>\n",
       "      <td>Flat</td>\n",
       "      <td>6900000</td>\n",
       "      <td>E-11</td>\n",
       "      <td>Islamabad</td>\n",
       "      <td>Islamabad Capital</td>\n",
       "      <td>33.700993</td>\n",
       "      <td>72.971492</td>\n",
       "      <td>3</td>\n",
       "      <td>For Sale</td>\n",
       "      <td>3</td>\n",
       "      <td>5/4/2019</td>\n",
       "      <td>NaN</td>\n",
       "      <td>NaN</td>\n",
       "      <td>15246.056</td>\n",
       "    </tr>\n",
       "  </tbody>\n",
       "</table>\n",
       "</div>"
      ],
      "text/plain": [
       "   Unnamed: 0  property_id  location_id  \\\n",
       "0           0       237062         3325   \n",
       "1           1       346905         3236   \n",
       "\n",
       "                                            page_url property_type     price  \\\n",
       "0  https://www.zameen.com/Property/g_10_g_10_2_gr...          Flat  10000000   \n",
       "1  https://www.zameen.com/Property/e_11_2_service...          Flat   6900000   \n",
       "\n",
       "  location       city      province_name   latitude  longitude  baths  \\\n",
       "0     G-10  Islamabad  Islamabad Capital  33.679890  73.012640      2   \n",
       "1     E-11  Islamabad  Islamabad Capital  33.700993  72.971492      3   \n",
       "\n",
       "    purpose  bedrooms date_added agency agent  Total_Area  \n",
       "0  For Sale         2   2/4/2019    NaN   NaN    1089.004  \n",
       "1  For Sale         3   5/4/2019    NaN   NaN   15246.056  "
      ]
     },
     "execution_count": 2,
     "metadata": {},
     "output_type": "execute_result"
    }
   ],
   "source": [
    "df = pd.read_csv('/kaggle/input/zameen/Entities.csv')\n",
    "df.head(2)"
   ]
  },
  {
   "cell_type": "code",
   "execution_count": 3,
   "id": "13330a28",
   "metadata": {
    "execution": {
     "iopub.execute_input": "2022-11-27T06:10:47.897999Z",
     "iopub.status.busy": "2022-11-27T06:10:47.897562Z",
     "iopub.status.idle": "2022-11-27T06:10:47.904997Z",
     "shell.execute_reply": "2022-11-27T06:10:47.903901Z"
    },
    "papermill": {
     "duration": 0.02971,
     "end_time": "2022-11-27T06:10:47.907213",
     "exception": false,
     "start_time": "2022-11-27T06:10:47.877503",
     "status": "completed"
    },
    "tags": []
   },
   "outputs": [
    {
     "data": {
      "text/plain": [
       "Index(['Unnamed: 0', 'property_id', 'location_id', 'page_url', 'property_type',\n",
       "       'price', 'location', 'city', 'province_name', 'latitude', 'longitude',\n",
       "       'baths', 'purpose', 'bedrooms', 'date_added', 'agency', 'agent',\n",
       "       'Total_Area'],\n",
       "      dtype='object')"
      ]
     },
     "execution_count": 3,
     "metadata": {},
     "output_type": "execute_result"
    }
   ],
   "source": [
    "df.columns"
   ]
  },
  {
   "cell_type": "code",
   "execution_count": 4,
   "id": "17bf51bd",
   "metadata": {
    "execution": {
     "iopub.execute_input": "2022-11-27T06:10:47.946596Z",
     "iopub.status.busy": "2022-11-27T06:10:47.946183Z",
     "iopub.status.idle": "2022-11-27T06:10:47.976757Z",
     "shell.execute_reply": "2022-11-27T06:10:47.975597Z"
    },
    "papermill": {
     "duration": 0.052852,
     "end_time": "2022-11-27T06:10:47.979002",
     "exception": false,
     "start_time": "2022-11-27T06:10:47.926150",
     "status": "completed"
    },
    "tags": []
   },
   "outputs": [
    {
     "data": {
      "text/html": [
       "<div>\n",
       "<style scoped>\n",
       "    .dataframe tbody tr th:only-of-type {\n",
       "        vertical-align: middle;\n",
       "    }\n",
       "\n",
       "    .dataframe tbody tr th {\n",
       "        vertical-align: top;\n",
       "    }\n",
       "\n",
       "    .dataframe thead th {\n",
       "        text-align: right;\n",
       "    }\n",
       "</style>\n",
       "<table border=\"1\" class=\"dataframe\">\n",
       "  <thead>\n",
       "    <tr style=\"text-align: right;\">\n",
       "      <th></th>\n",
       "      <th>property_type</th>\n",
       "      <th>price</th>\n",
       "      <th>city</th>\n",
       "      <th>province_name</th>\n",
       "      <th>baths</th>\n",
       "      <th>purpose</th>\n",
       "      <th>bedrooms</th>\n",
       "      <th>date_added</th>\n",
       "      <th>Total_Area</th>\n",
       "    </tr>\n",
       "  </thead>\n",
       "  <tbody>\n",
       "    <tr>\n",
       "      <th>0</th>\n",
       "      <td>Flat</td>\n",
       "      <td>10000000</td>\n",
       "      <td>Islamabad</td>\n",
       "      <td>Islamabad Capital</td>\n",
       "      <td>2</td>\n",
       "      <td>For Sale</td>\n",
       "      <td>2</td>\n",
       "      <td>2/4/2019</td>\n",
       "      <td>1089.004</td>\n",
       "    </tr>\n",
       "    <tr>\n",
       "      <th>1</th>\n",
       "      <td>Flat</td>\n",
       "      <td>6900000</td>\n",
       "      <td>Islamabad</td>\n",
       "      <td>Islamabad Capital</td>\n",
       "      <td>3</td>\n",
       "      <td>For Sale</td>\n",
       "      <td>3</td>\n",
       "      <td>5/4/2019</td>\n",
       "      <td>15246.056</td>\n",
       "    </tr>\n",
       "  </tbody>\n",
       "</table>\n",
       "</div>"
      ],
      "text/plain": [
       "  property_type     price       city      province_name  baths   purpose  \\\n",
       "0          Flat  10000000  Islamabad  Islamabad Capital      2  For Sale   \n",
       "1          Flat   6900000  Islamabad  Islamabad Capital      3  For Sale   \n",
       "\n",
       "   bedrooms date_added  Total_Area  \n",
       "0         2   2/4/2019    1089.004  \n",
       "1         3   5/4/2019   15246.056  "
      ]
     },
     "execution_count": 4,
     "metadata": {},
     "output_type": "execute_result"
    }
   ],
   "source": [
    "df.drop(['Unnamed: 0', 'property_id', 'location_id', 'page_url','latitude','longitude','agency', 'location','agent'],axis = 1, inplace = True)\n",
    "df.head(2)"
   ]
  },
  {
   "cell_type": "code",
   "execution_count": 5,
   "id": "49a49bb2",
   "metadata": {
    "execution": {
     "iopub.execute_input": "2022-11-27T06:10:48.019399Z",
     "iopub.status.busy": "2022-11-27T06:10:48.018419Z",
     "iopub.status.idle": "2022-11-27T06:10:48.025192Z",
     "shell.execute_reply": "2022-11-27T06:10:48.024298Z"
    },
    "papermill": {
     "duration": 0.029802,
     "end_time": "2022-11-27T06:10:48.027850",
     "exception": false,
     "start_time": "2022-11-27T06:10:47.998048",
     "status": "completed"
    },
    "tags": []
   },
   "outputs": [
    {
     "data": {
      "text/plain": [
       "(168446, 9)"
      ]
     },
     "execution_count": 5,
     "metadata": {},
     "output_type": "execute_result"
    }
   ],
   "source": [
    "df.shape"
   ]
  },
  {
   "cell_type": "code",
   "execution_count": 6,
   "id": "7cd5d354",
   "metadata": {
    "execution": {
     "iopub.execute_input": "2022-11-27T06:10:48.086761Z",
     "iopub.status.busy": "2022-11-27T06:10:48.086238Z",
     "iopub.status.idle": "2022-11-27T06:10:48.151767Z",
     "shell.execute_reply": "2022-11-27T06:10:48.150672Z"
    },
    "papermill": {
     "duration": 0.099904,
     "end_time": "2022-11-27T06:10:48.154362",
     "exception": false,
     "start_time": "2022-11-27T06:10:48.054458",
     "status": "completed"
    },
    "tags": []
   },
   "outputs": [
    {
     "data": {
      "text/plain": [
       "property_type    0\n",
       "price            0\n",
       "city             0\n",
       "province_name    0\n",
       "baths            0\n",
       "purpose          0\n",
       "bedrooms         0\n",
       "date_added       0\n",
       "Total_Area       0\n",
       "dtype: int64"
      ]
     },
     "execution_count": 6,
     "metadata": {},
     "output_type": "execute_result"
    }
   ],
   "source": [
    "df.isnull().sum()"
   ]
  },
  {
   "cell_type": "code",
   "execution_count": 7,
   "id": "d190d115",
   "metadata": {
    "execution": {
     "iopub.execute_input": "2022-11-27T06:10:48.195915Z",
     "iopub.status.busy": "2022-11-27T06:10:48.194852Z",
     "iopub.status.idle": "2022-11-27T06:10:48.252946Z",
     "shell.execute_reply": "2022-11-27T06:10:48.251337Z"
    },
    "papermill": {
     "duration": 0.081533,
     "end_time": "2022-11-27T06:10:48.255510",
     "exception": false,
     "start_time": "2022-11-27T06:10:48.173977",
     "status": "completed"
    },
    "tags": []
   },
   "outputs": [
    {
     "name": "stdout",
     "output_type": "stream",
     "text": [
      "<class 'pandas.core.frame.DataFrame'>\n",
      "RangeIndex: 168446 entries, 0 to 168445\n",
      "Data columns (total 9 columns):\n",
      " #   Column         Non-Null Count   Dtype  \n",
      "---  ------         --------------   -----  \n",
      " 0   property_type  168446 non-null  object \n",
      " 1   price          168446 non-null  int64  \n",
      " 2   city           168446 non-null  object \n",
      " 3   province_name  168446 non-null  object \n",
      " 4   baths          168446 non-null  int64  \n",
      " 5   purpose        168446 non-null  object \n",
      " 6   bedrooms       168446 non-null  int64  \n",
      " 7   date_added     168446 non-null  object \n",
      " 8   Total_Area     168446 non-null  float64\n",
      "dtypes: float64(1), int64(3), object(5)\n",
      "memory usage: 11.6+ MB\n"
     ]
    }
   ],
   "source": [
    "df.info()"
   ]
  },
  {
   "cell_type": "code",
   "execution_count": 8,
   "id": "cbf3e06f",
   "metadata": {
    "execution": {
     "iopub.execute_input": "2022-11-27T06:10:48.296705Z",
     "iopub.status.busy": "2022-11-27T06:10:48.295600Z",
     "iopub.status.idle": "2022-11-27T06:10:48.439235Z",
     "shell.execute_reply": "2022-11-27T06:10:48.438128Z"
    },
    "papermill": {
     "duration": 0.166534,
     "end_time": "2022-11-27T06:10:48.441828",
     "exception": false,
     "start_time": "2022-11-27T06:10:48.275294",
     "status": "completed"
    },
    "tags": []
   },
   "outputs": [
    {
     "data": {
      "text/html": [
       "<div>\n",
       "<style scoped>\n",
       "    .dataframe tbody tr th:only-of-type {\n",
       "        vertical-align: middle;\n",
       "    }\n",
       "\n",
       "    .dataframe tbody tr th {\n",
       "        vertical-align: top;\n",
       "    }\n",
       "\n",
       "    .dataframe thead th {\n",
       "        text-align: right;\n",
       "    }\n",
       "</style>\n",
       "<table border=\"1\" class=\"dataframe\">\n",
       "  <thead>\n",
       "    <tr style=\"text-align: right;\">\n",
       "      <th></th>\n",
       "      <th>property_type</th>\n",
       "      <th>price</th>\n",
       "      <th>city</th>\n",
       "      <th>province_name</th>\n",
       "      <th>baths</th>\n",
       "      <th>purpose</th>\n",
       "      <th>bedrooms</th>\n",
       "      <th>date_added</th>\n",
       "      <th>Total_Area</th>\n",
       "    </tr>\n",
       "  </thead>\n",
       "  <tbody>\n",
       "    <tr>\n",
       "      <th>count</th>\n",
       "      <td>168446</td>\n",
       "      <td>1.684460e+05</td>\n",
       "      <td>168446</td>\n",
       "      <td>168446</td>\n",
       "      <td>168446.000000</td>\n",
       "      <td>168446</td>\n",
       "      <td>168446.000000</td>\n",
       "      <td>168446</td>\n",
       "      <td>1.684460e+05</td>\n",
       "    </tr>\n",
       "    <tr>\n",
       "      <th>unique</th>\n",
       "      <td>7</td>\n",
       "      <td>NaN</td>\n",
       "      <td>5</td>\n",
       "      <td>3</td>\n",
       "      <td>NaN</td>\n",
       "      <td>2</td>\n",
       "      <td>NaN</td>\n",
       "      <td>124</td>\n",
       "      <td>NaN</td>\n",
       "    </tr>\n",
       "    <tr>\n",
       "      <th>top</th>\n",
       "      <td>House</td>\n",
       "      <td>NaN</td>\n",
       "      <td>Karachi</td>\n",
       "      <td>Punjab</td>\n",
       "      <td>NaN</td>\n",
       "      <td>For Sale</td>\n",
       "      <td>NaN</td>\n",
       "      <td>7/3/2019</td>\n",
       "      <td>NaN</td>\n",
       "    </tr>\n",
       "    <tr>\n",
       "      <th>freq</th>\n",
       "      <td>105468</td>\n",
       "      <td>NaN</td>\n",
       "      <td>60484</td>\n",
       "      <td>70536</td>\n",
       "      <td>NaN</td>\n",
       "      <td>120655</td>\n",
       "      <td>NaN</td>\n",
       "      <td>9485</td>\n",
       "      <td>NaN</td>\n",
       "    </tr>\n",
       "    <tr>\n",
       "      <th>mean</th>\n",
       "      <td>NaN</td>\n",
       "      <td>1.776576e+07</td>\n",
       "      <td>NaN</td>\n",
       "      <td>NaN</td>\n",
       "      <td>2.874227</td>\n",
       "      <td>NaN</td>\n",
       "      <td>3.179422</td>\n",
       "      <td>NaN</td>\n",
       "      <td>1.394239e+04</td>\n",
       "    </tr>\n",
       "    <tr>\n",
       "      <th>std</th>\n",
       "      <td>NaN</td>\n",
       "      <td>3.531003e+07</td>\n",
       "      <td>NaN</td>\n",
       "      <td>NaN</td>\n",
       "      <td>2.463400</td>\n",
       "      <td>NaN</td>\n",
       "      <td>1.971401</td>\n",
       "      <td>NaN</td>\n",
       "      <td>8.623647e+05</td>\n",
       "    </tr>\n",
       "    <tr>\n",
       "      <th>min</th>\n",
       "      <td>NaN</td>\n",
       "      <td>0.000000e+00</td>\n",
       "      <td>NaN</td>\n",
       "      <td>NaN</td>\n",
       "      <td>0.000000</td>\n",
       "      <td>NaN</td>\n",
       "      <td>0.000000</td>\n",
       "      <td>NaN</td>\n",
       "      <td>0.000000e+00</td>\n",
       "    </tr>\n",
       "    <tr>\n",
       "      <th>25%</th>\n",
       "      <td>NaN</td>\n",
       "      <td>1.750000e+05</td>\n",
       "      <td>NaN</td>\n",
       "      <td>NaN</td>\n",
       "      <td>0.000000</td>\n",
       "      <td>NaN</td>\n",
       "      <td>2.000000</td>\n",
       "      <td>NaN</td>\n",
       "      <td>1.905757e+03</td>\n",
       "    </tr>\n",
       "    <tr>\n",
       "      <th>50%</th>\n",
       "      <td>NaN</td>\n",
       "      <td>8.500000e+06</td>\n",
       "      <td>NaN</td>\n",
       "      <td>NaN</td>\n",
       "      <td>3.000000</td>\n",
       "      <td>NaN</td>\n",
       "      <td>3.000000</td>\n",
       "      <td>NaN</td>\n",
       "      <td>4.356016e+03</td>\n",
       "    </tr>\n",
       "    <tr>\n",
       "      <th>75%</th>\n",
       "      <td>NaN</td>\n",
       "      <td>1.950000e+07</td>\n",
       "      <td>NaN</td>\n",
       "      <td>NaN</td>\n",
       "      <td>4.000000</td>\n",
       "      <td>NaN</td>\n",
       "      <td>4.000000</td>\n",
       "      <td>NaN</td>\n",
       "      <td>1.197904e+04</td>\n",
       "    </tr>\n",
       "    <tr>\n",
       "      <th>max</th>\n",
       "      <td>NaN</td>\n",
       "      <td>2.000000e+09</td>\n",
       "      <td>NaN</td>\n",
       "      <td>NaN</td>\n",
       "      <td>403.000000</td>\n",
       "      <td>NaN</td>\n",
       "      <td>68.000000</td>\n",
       "      <td>NaN</td>\n",
       "      <td>3.387988e+08</td>\n",
       "    </tr>\n",
       "  </tbody>\n",
       "</table>\n",
       "</div>"
      ],
      "text/plain": [
       "       property_type         price     city province_name          baths  \\\n",
       "count         168446  1.684460e+05   168446        168446  168446.000000   \n",
       "unique             7           NaN        5             3            NaN   \n",
       "top            House           NaN  Karachi        Punjab            NaN   \n",
       "freq          105468           NaN    60484         70536            NaN   \n",
       "mean             NaN  1.776576e+07      NaN           NaN       2.874227   \n",
       "std              NaN  3.531003e+07      NaN           NaN       2.463400   \n",
       "min              NaN  0.000000e+00      NaN           NaN       0.000000   \n",
       "25%              NaN  1.750000e+05      NaN           NaN       0.000000   \n",
       "50%              NaN  8.500000e+06      NaN           NaN       3.000000   \n",
       "75%              NaN  1.950000e+07      NaN           NaN       4.000000   \n",
       "max              NaN  2.000000e+09      NaN           NaN     403.000000   \n",
       "\n",
       "         purpose       bedrooms date_added    Total_Area  \n",
       "count     168446  168446.000000     168446  1.684460e+05  \n",
       "unique         2            NaN        124           NaN  \n",
       "top     For Sale            NaN   7/3/2019           NaN  \n",
       "freq      120655            NaN       9485           NaN  \n",
       "mean         NaN       3.179422        NaN  1.394239e+04  \n",
       "std          NaN       1.971401        NaN  8.623647e+05  \n",
       "min          NaN       0.000000        NaN  0.000000e+00  \n",
       "25%          NaN       2.000000        NaN  1.905757e+03  \n",
       "50%          NaN       3.000000        NaN  4.356016e+03  \n",
       "75%          NaN       4.000000        NaN  1.197904e+04  \n",
       "max          NaN      68.000000        NaN  3.387988e+08  "
      ]
     },
     "execution_count": 8,
     "metadata": {},
     "output_type": "execute_result"
    }
   ],
   "source": [
    "df.describe(include = 'all')"
   ]
  },
  {
   "cell_type": "code",
   "execution_count": 9,
   "id": "fc4647db",
   "metadata": {
    "execution": {
     "iopub.execute_input": "2022-11-27T06:10:48.482930Z",
     "iopub.status.busy": "2022-11-27T06:10:48.482508Z",
     "iopub.status.idle": "2022-11-27T06:10:48.502762Z",
     "shell.execute_reply": "2022-11-27T06:10:48.501689Z"
    },
    "papermill": {
     "duration": 0.043525,
     "end_time": "2022-11-27T06:10:48.505103",
     "exception": false,
     "start_time": "2022-11-27T06:10:48.461578",
     "status": "completed"
    },
    "tags": []
   },
   "outputs": [
    {
     "data": {
      "text/plain": [
       "array(['Flat', 'House', 'Penthouse', 'Farm House', 'Lower Portion',\n",
       "       'Upper Portion', 'Room'], dtype=object)"
      ]
     },
     "execution_count": 9,
     "metadata": {},
     "output_type": "execute_result"
    }
   ],
   "source": [
    "df.property_type.unique()"
   ]
  },
  {
   "cell_type": "code",
   "execution_count": 10,
   "id": "610d39b2",
   "metadata": {
    "execution": {
     "iopub.execute_input": "2022-11-27T06:10:48.547412Z",
     "iopub.status.busy": "2022-11-27T06:10:48.547041Z",
     "iopub.status.idle": "2022-11-27T06:10:48.564391Z",
     "shell.execute_reply": "2022-11-27T06:10:48.563609Z"
    },
    "papermill": {
     "duration": 0.04096,
     "end_time": "2022-11-27T06:10:48.566503",
     "exception": false,
     "start_time": "2022-11-27T06:10:48.525543",
     "status": "completed"
    },
    "tags": []
   },
   "outputs": [
    {
     "data": {
      "text/plain": [
       "array(['Islamabad', 'Lahore', 'Faisalabad', 'Rawalpindi', 'Karachi'],\n",
       "      dtype=object)"
      ]
     },
     "execution_count": 10,
     "metadata": {},
     "output_type": "execute_result"
    }
   ],
   "source": [
    "df.city.unique()"
   ]
  },
  {
   "cell_type": "code",
   "execution_count": 11,
   "id": "8c848782",
   "metadata": {
    "execution": {
     "iopub.execute_input": "2022-11-27T06:10:48.607941Z",
     "iopub.status.busy": "2022-11-27T06:10:48.607232Z",
     "iopub.status.idle": "2022-11-27T06:10:48.625453Z",
     "shell.execute_reply": "2022-11-27T06:10:48.624370Z"
    },
    "papermill": {
     "duration": 0.041803,
     "end_time": "2022-11-27T06:10:48.628034",
     "exception": false,
     "start_time": "2022-11-27T06:10:48.586231",
     "status": "completed"
    },
    "tags": []
   },
   "outputs": [
    {
     "data": {
      "text/plain": [
       "array(['Islamabad Capital', 'Punjab', 'Sindh'], dtype=object)"
      ]
     },
     "execution_count": 11,
     "metadata": {},
     "output_type": "execute_result"
    }
   ],
   "source": [
    "df.province_name.unique()"
   ]
  },
  {
   "cell_type": "code",
   "execution_count": 12,
   "id": "7841a4a4",
   "metadata": {
    "execution": {
     "iopub.execute_input": "2022-11-27T06:10:48.670514Z",
     "iopub.status.busy": "2022-11-27T06:10:48.669462Z",
     "iopub.status.idle": "2022-11-27T06:10:48.688062Z",
     "shell.execute_reply": "2022-11-27T06:10:48.686925Z"
    },
    "papermill": {
     "duration": 0.042152,
     "end_time": "2022-11-27T06:10:48.690420",
     "exception": false,
     "start_time": "2022-11-27T06:10:48.648268",
     "status": "completed"
    },
    "tags": []
   },
   "outputs": [
    {
     "data": {
      "text/plain": [
       "array(['For Sale', 'For Rent'], dtype=object)"
      ]
     },
     "execution_count": 12,
     "metadata": {},
     "output_type": "execute_result"
    }
   ],
   "source": [
    "df.purpose.unique()"
   ]
  },
  {
   "cell_type": "code",
   "execution_count": 13,
   "id": "a8d6d5d8",
   "metadata": {
    "execution": {
     "iopub.execute_input": "2022-11-27T06:10:48.732287Z",
     "iopub.status.busy": "2022-11-27T06:10:48.731869Z",
     "iopub.status.idle": "2022-11-27T06:10:49.039919Z",
     "shell.execute_reply": "2022-11-27T06:10:49.038614Z"
    },
    "papermill": {
     "duration": 0.331481,
     "end_time": "2022-11-27T06:10:49.042304",
     "exception": false,
     "start_time": "2022-11-27T06:10:48.710823",
     "status": "completed"
    },
    "tags": []
   },
   "outputs": [
    {
     "data": {
      "image/png": "[encoded data removed]",
      "text/plain": [
       "<Figure size 432x288 with 1 Axes>"
      ]
     },
     "metadata": {
      "needs_background": "light"
     },
     "output_type": "display_data"
    }
   ],
   "source": [
    "sns.countplot(x ='purpose', data = df)\n",
    "plt.show()"
   ]
  },
  {
   "cell_type": "code",
   "execution_count": 14,
   "id": "c7a1addb",
   "metadata": {
    "execution": {
     "iopub.execute_input": "2022-11-27T06:10:49.084772Z",
     "iopub.status.busy": "2022-11-27T06:10:49.084353Z",
     "iopub.status.idle": "2022-11-27T06:10:49.374338Z",
     "shell.execute_reply": "2022-11-27T06:10:49.373298Z"
    },
    "papermill": {
     "duration": 0.313866,
     "end_time": "2022-11-27T06:10:49.376570",
     "exception": false,
     "start_time": "2022-11-27T06:10:49.062704",
     "status": "completed"
    },
    "tags": []
   },
   "outputs": [
    {
     "data": {
      "image/png": "[encoded data removed]",
      "text/plain": [
       "<Figure size 432x288 with 1 Axes>"
      ]
     },
     "metadata": {
      "needs_background": "light"
     },
     "output_type": "display_data"
    }
   ],
   "source": [
    "sns.countplot(x ='city', data = df)\n",
    "plt.show()"
   ]
  },
  {
   "cell_type": "code",
   "execution_count": 15,
   "id": "256714ec",
   "metadata": {
    "execution": {
     "iopub.execute_input": "2022-11-27T06:10:49.419343Z",
     "iopub.status.busy": "2022-11-27T06:10:49.418966Z",
     "iopub.status.idle": "2022-11-27T06:10:49.699645Z",
     "shell.execute_reply": "2022-11-27T06:10:49.698684Z"
    },
    "papermill": {
     "duration": 0.304792,
     "end_time": "2022-11-27T06:10:49.702045",
     "exception": false,
     "start_time": "2022-11-27T06:10:49.397253",
     "status": "completed"
    },
    "tags": []
   },
   "outputs": [
    {
     "data": {
      "image/png": "[encoded data removed]",
      "text/plain": [
       "<Figure size 432x288 with 1 Axes>"
      ]
     },
     "metadata": {
      "needs_background": "light"
     },
     "output_type": "display_data"
    }
   ],
   "source": [
    "sns.countplot(x ='province_name', data = df)\n",
    "plt.show()"
   ]
  },
  {
   "cell_type": "code",
   "execution_count": 16,
   "id": "b4ed21e6",
   "metadata": {
    "execution": {
     "iopub.execute_input": "2022-11-27T06:10:49.745757Z",
     "iopub.status.busy": "2022-11-27T06:10:49.745333Z",
     "iopub.status.idle": "2022-11-27T06:10:50.047641Z",
     "shell.execute_reply": "2022-11-27T06:10:50.046540Z"
    },
    "papermill": {
     "duration": 0.327009,
     "end_time": "2022-11-27T06:10:50.050188",
     "exception": false,
     "start_time": "2022-11-27T06:10:49.723179",
     "status": "completed"
    },
    "tags": []
   },
   "outputs": [
    {
     "data": {
      "image/png": "[encoded data removed]",
      "text/plain": [
       "<Figure size 432x288 with 1 Axes>"
      ]
     },
     "metadata": {
      "needs_background": "light"
     },
     "output_type": "display_data"
    }
   ],
   "source": [
    "sns.countplot(x ='property_type', data = df)\n",
    "plt.show()"
   ]
  },
  {
   "cell_type": "code",
   "execution_count": 17,
   "id": "94f95e8f",
   "metadata": {
    "execution": {
     "iopub.execute_input": "2022-11-27T06:10:50.095166Z",
     "iopub.status.busy": "2022-11-27T06:10:50.094768Z",
     "iopub.status.idle": "2022-11-27T06:10:50.392350Z",
     "shell.execute_reply": "2022-11-27T06:10:50.391234Z"
    },
    "papermill": {
     "duration": 0.322694,
     "end_time": "2022-11-27T06:10:50.394784",
     "exception": false,
     "start_time": "2022-11-27T06:10:50.072090",
     "status": "completed"
    },
    "tags": []
   },
   "outputs": [
    {
     "data": {
      "image/png": "[encoded data removed]",
      "text/plain": [
       "<Figure size 432x288 with 1 Axes>"
      ]
     },
     "metadata": {
      "needs_background": "light"
     },
     "output_type": "display_data"
    }
   ],
   "source": [
    "sns.countplot(x ='bedrooms', data = df)\n",
    "plt.show()"
   ]
  },
  {
   "cell_type": "code",
   "execution_count": 18,
   "id": "bab4884b",
   "metadata": {
    "execution": {
     "iopub.execute_input": "2022-11-27T06:10:50.440130Z",
     "iopub.status.busy": "2022-11-27T06:10:50.439724Z",
     "iopub.status.idle": "2022-11-27T06:10:50.710738Z",
     "shell.execute_reply": "2022-11-27T06:10:50.709666Z"
    },
    "papermill": {
     "duration": 0.296629,
     "end_time": "2022-11-27T06:10:50.713345",
     "exception": false,
     "start_time": "2022-11-27T06:10:50.416716",
     "status": "completed"
    },
    "tags": []
   },
   "outputs": [
    {
     "data": {
      "image/png": "[encoded data removed]",
      "text/plain": [
       "<Figure size 432x288 with 1 Axes>"
      ]
     },
     "metadata": {
      "needs_background": "light"
     },
     "output_type": "display_data"
    }
   ],
   "source": [
    "sns.countplot(x ='baths', data = df)\n",
    "plt.show()"
   ]
  },
  {
   "cell_type": "code",
   "execution_count": 19,
   "id": "40d3071a",
   "metadata": {
    "execution": {
     "iopub.execute_input": "2022-11-27T06:10:50.759018Z",
     "iopub.status.busy": "2022-11-27T06:10:50.758576Z",
     "iopub.status.idle": "2022-11-27T06:10:50.981767Z",
     "shell.execute_reply": "2022-11-27T06:10:50.980613Z"
    },
    "papermill": {
     "duration": 0.249676,
     "end_time": "2022-11-27T06:10:50.984489",
     "exception": false,
     "start_time": "2022-11-27T06:10:50.734813",
     "status": "completed"
    },
    "tags": []
   },
   "outputs": [
    {
     "data": {
      "image/png": "[encoded data removed]",
      "text/plain": [
       "<Figure size 432x288 with 1 Axes>"
      ]
     },
     "metadata": {
      "needs_background": "light"
     },
     "output_type": "display_data"
    }
   ],
   "source": [
    "df['city'].value_counts().head(5).plot(kind = 'bar', color = 'g')\n",
    "plt.title('Pakistan House Prices - Top 5 Expensive Cities')\n",
    "plt.show()"
   ]
  },
  {
   "cell_type": "code",
   "execution_count": 20,
   "id": "01bd0d9e",
   "metadata": {
    "execution": {
     "iopub.execute_input": "2022-11-27T06:10:51.030245Z",
     "iopub.status.busy": "2022-11-27T06:10:51.029834Z",
     "iopub.status.idle": "2022-11-27T06:10:51.237307Z",
     "shell.execute_reply": "2022-11-27T06:10:51.236243Z"
    },
    "papermill": {
     "duration": 0.23305,
     "end_time": "2022-11-27T06:10:51.239741",
     "exception": false,
     "start_time": "2022-11-27T06:10:51.006691",
     "status": "completed"
    },
    "tags": []
   },
   "outputs": [
    {
     "data": {
      "image/png": "[encoded data removed]",
      "text/plain": [
       "<Figure size 432x288 with 1 Axes>"
      ]
     },
     "metadata": {
      "needs_background": "light"
     },
     "output_type": "display_data"
    }
   ],
   "source": [
    "df['province_name'].value_counts().head(5).plot(kind = 'bar', color = 'g')\n",
    "plt.title('Pakistan House Prices - Expensive Provinces')\n",
    "plt.show()"
   ]
  },
  {
   "cell_type": "code",
   "execution_count": 21,
   "id": "e48d0057",
   "metadata": {
    "execution": {
     "iopub.execute_input": "2022-11-27T06:10:51.287493Z",
     "iopub.status.busy": "2022-11-27T06:10:51.287106Z",
     "iopub.status.idle": "2022-11-27T06:10:51.340099Z",
     "shell.execute_reply": "2022-11-27T06:10:51.338791Z"
    },
    "papermill": {
     "duration": 0.079034,
     "end_time": "2022-11-27T06:10:51.342883",
     "exception": false,
     "start_time": "2022-11-27T06:10:51.263849",
     "status": "completed"
    },
    "tags": []
   },
   "outputs": [],
   "source": [
    "# splitting dataset on the basis of rent and sale\n",
    "df_rent = df[df['purpose']=='For Rent']\n",
    "df_sale = df[df['purpose']=='For Sale']"
   ]
  },
  {
   "cell_type": "markdown",
   "id": "32107d6d",
   "metadata": {
    "papermill": {
     "duration": 0.021588,
     "end_time": "2022-11-27T06:10:51.386629",
     "exception": false,
     "start_time": "2022-11-27T06:10:51.365041",
     "status": "completed"
    },
    "tags": []
   },
   "source": [
    "## Working with Sales Dataset"
   ]
  },
  {
   "cell_type": "code",
   "execution_count": 22,
   "id": "85dfd81b",
   "metadata": {
    "execution": {
     "iopub.execute_input": "2022-11-27T06:10:51.432140Z",
     "iopub.status.busy": "2022-11-27T06:10:51.431764Z",
     "iopub.status.idle": "2022-11-27T06:10:51.444304Z",
     "shell.execute_reply": "2022-11-27T06:10:51.443185Z"
    },
    "papermill": {
     "duration": 0.038331,
     "end_time": "2022-11-27T06:10:51.446784",
     "exception": false,
     "start_time": "2022-11-27T06:10:51.408453",
     "status": "completed"
    },
    "tags": []
   },
   "outputs": [
    {
     "data": {
      "text/plain": [
       "(3000, 9)"
      ]
     },
     "execution_count": 22,
     "metadata": {},
     "output_type": "execute_result"
    }
   ],
   "source": [
    "df1 = df_sale.sample(3000)\n",
    "df1.shape"
   ]
  },
  {
   "cell_type": "code",
   "execution_count": 23,
   "id": "71bdfeff",
   "metadata": {
    "execution": {
     "iopub.execute_input": "2022-11-27T06:10:51.495547Z",
     "iopub.status.busy": "2022-11-27T06:10:51.494930Z",
     "iopub.status.idle": "2022-11-27T06:10:51.531495Z",
     "shell.execute_reply": "2022-11-27T06:10:51.530376Z"
    },
    "papermill": {
     "duration": 0.062503,
     "end_time": "2022-11-27T06:10:51.533818",
     "exception": false,
     "start_time": "2022-11-27T06:10:51.471315",
     "status": "completed"
    },
    "tags": []
   },
   "outputs": [
    {
     "data": {
      "text/html": [
       "<div>\n",
       "<style scoped>\n",
       "    .dataframe tbody tr th:only-of-type {\n",
       "        vertical-align: middle;\n",
       "    }\n",
       "\n",
       "    .dataframe tbody tr th {\n",
       "        vertical-align: top;\n",
       "    }\n",
       "\n",
       "    .dataframe thead th {\n",
       "        text-align: right;\n",
       "    }\n",
       "</style>\n",
       "<table border=\"1\" class=\"dataframe\">\n",
       "  <thead>\n",
       "    <tr style=\"text-align: right;\">\n",
       "      <th></th>\n",
       "      <th>property_type</th>\n",
       "      <th>price</th>\n",
       "      <th>city</th>\n",
       "      <th>province_name</th>\n",
       "      <th>baths</th>\n",
       "      <th>purpose</th>\n",
       "      <th>bedrooms</th>\n",
       "      <th>date_added</th>\n",
       "      <th>Total_Area</th>\n",
       "    </tr>\n",
       "  </thead>\n",
       "  <tbody>\n",
       "    <tr>\n",
       "      <th>count</th>\n",
       "      <td>3000</td>\n",
       "      <td>3.000000e+03</td>\n",
       "      <td>3000</td>\n",
       "      <td>3000</td>\n",
       "      <td>3000.000000</td>\n",
       "      <td>3000</td>\n",
       "      <td>3000.000000</td>\n",
       "      <td>3000</td>\n",
       "      <td>3000.000000</td>\n",
       "    </tr>\n",
       "    <tr>\n",
       "      <th>unique</th>\n",
       "      <td>6</td>\n",
       "      <td>NaN</td>\n",
       "      <td>5</td>\n",
       "      <td>3</td>\n",
       "      <td>NaN</td>\n",
       "      <td>1</td>\n",
       "      <td>NaN</td>\n",
       "      <td>89</td>\n",
       "      <td>NaN</td>\n",
       "    </tr>\n",
       "    <tr>\n",
       "      <th>top</th>\n",
       "      <td>House</td>\n",
       "      <td>NaN</td>\n",
       "      <td>Karachi</td>\n",
       "      <td>Punjab</td>\n",
       "      <td>NaN</td>\n",
       "      <td>For Sale</td>\n",
       "      <td>NaN</td>\n",
       "      <td>7/3/2019</td>\n",
       "      <td>NaN</td>\n",
       "    </tr>\n",
       "    <tr>\n",
       "      <th>freq</th>\n",
       "      <td>2192</td>\n",
       "      <td>NaN</td>\n",
       "      <td>1132</td>\n",
       "      <td>1453</td>\n",
       "      <td>NaN</td>\n",
       "      <td>3000</td>\n",
       "      <td>NaN</td>\n",
       "      <td>170</td>\n",
       "      <td>NaN</td>\n",
       "    </tr>\n",
       "    <tr>\n",
       "      <th>mean</th>\n",
       "      <td>NaN</td>\n",
       "      <td>2.451456e+07</td>\n",
       "      <td>NaN</td>\n",
       "      <td>NaN</td>\n",
       "      <td>3.045667</td>\n",
       "      <td>NaN</td>\n",
       "      <td>3.367000</td>\n",
       "      <td>NaN</td>\n",
       "      <td>9705.826200</td>\n",
       "    </tr>\n",
       "    <tr>\n",
       "      <th>std</th>\n",
       "      <td>NaN</td>\n",
       "      <td>3.930190e+07</td>\n",
       "      <td>NaN</td>\n",
       "      <td>NaN</td>\n",
       "      <td>2.292306</td>\n",
       "      <td>NaN</td>\n",
       "      <td>1.962208</td>\n",
       "      <td>NaN</td>\n",
       "      <td>21783.505427</td>\n",
       "    </tr>\n",
       "    <tr>\n",
       "      <th>min</th>\n",
       "      <td>NaN</td>\n",
       "      <td>3.700000e+04</td>\n",
       "      <td>NaN</td>\n",
       "      <td>NaN</td>\n",
       "      <td>0.000000</td>\n",
       "      <td>NaN</td>\n",
       "      <td>0.000000</td>\n",
       "      <td>NaN</td>\n",
       "      <td>0.000000</td>\n",
       "    </tr>\n",
       "    <tr>\n",
       "      <th>25%</th>\n",
       "      <td>NaN</td>\n",
       "      <td>7.000000e+06</td>\n",
       "      <td>NaN</td>\n",
       "      <td>NaN</td>\n",
       "      <td>1.000000</td>\n",
       "      <td>NaN</td>\n",
       "      <td>2.000000</td>\n",
       "      <td>NaN</td>\n",
       "      <td>1633.506000</td>\n",
       "    </tr>\n",
       "    <tr>\n",
       "      <th>50%</th>\n",
       "      <td>NaN</td>\n",
       "      <td>1.305000e+07</td>\n",
       "      <td>NaN</td>\n",
       "      <td>NaN</td>\n",
       "      <td>3.000000</td>\n",
       "      <td>NaN</td>\n",
       "      <td>3.000000</td>\n",
       "      <td>NaN</td>\n",
       "      <td>4083.765000</td>\n",
       "    </tr>\n",
       "    <tr>\n",
       "      <th>75%</th>\n",
       "      <td>NaN</td>\n",
       "      <td>2.600000e+07</td>\n",
       "      <td>NaN</td>\n",
       "      <td>NaN</td>\n",
       "      <td>5.000000</td>\n",
       "      <td>NaN</td>\n",
       "      <td>5.000000</td>\n",
       "      <td>NaN</td>\n",
       "      <td>11434.542000</td>\n",
       "    </tr>\n",
       "    <tr>\n",
       "      <th>max</th>\n",
       "      <td>NaN</td>\n",
       "      <td>8.500000e+08</td>\n",
       "      <td>NaN</td>\n",
       "      <td>NaN</td>\n",
       "      <td>10.000000</td>\n",
       "      <td>NaN</td>\n",
       "      <td>12.000000</td>\n",
       "      <td>NaN</td>\n",
       "      <td>680625.000000</td>\n",
       "    </tr>\n",
       "  </tbody>\n",
       "</table>\n",
       "</div>"
      ],
      "text/plain": [
       "       property_type         price     city province_name        baths  \\\n",
       "count           3000  3.000000e+03     3000          3000  3000.000000   \n",
       "unique             6           NaN        5             3          NaN   \n",
       "top            House           NaN  Karachi        Punjab          NaN   \n",
       "freq            2192           NaN     1132          1453          NaN   \n",
       "mean             NaN  2.451456e+07      NaN           NaN     3.045667   \n",
       "std              NaN  3.930190e+07      NaN           NaN     2.292306   \n",
       "min              NaN  3.700000e+04      NaN           NaN     0.000000   \n",
       "25%              NaN  7.000000e+06      NaN           NaN     1.000000   \n",
       "50%              NaN  1.305000e+07      NaN           NaN     3.000000   \n",
       "75%              NaN  2.600000e+07      NaN           NaN     5.000000   \n",
       "max              NaN  8.500000e+08      NaN           NaN    10.000000   \n",
       "\n",
       "         purpose     bedrooms date_added     Total_Area  \n",
       "count       3000  3000.000000       3000    3000.000000  \n",
       "unique         1          NaN         89            NaN  \n",
       "top     For Sale          NaN   7/3/2019            NaN  \n",
       "freq        3000          NaN        170            NaN  \n",
       "mean         NaN     3.367000        NaN    9705.826200  \n",
       "std          NaN     1.962208        NaN   21783.505427  \n",
       "min          NaN     0.000000        NaN       0.000000  \n",
       "25%          NaN     2.000000        NaN    1633.506000  \n",
       "50%          NaN     3.000000        NaN    4083.765000  \n",
       "75%          NaN     5.000000        NaN   11434.542000  \n",
       "max          NaN    12.000000        NaN  680625.000000  "
      ]
     },
     "execution_count": 23,
     "metadata": {},
     "output_type": "execute_result"
    }
   ],
   "source": [
    "df1.describe(include = 'all')"
   ]
  },
  {
   "cell_type": "code",
   "execution_count": 24,
   "id": "2bf8256f",
   "metadata": {
    "execution": {
     "iopub.execute_input": "2022-11-27T06:10:51.580890Z",
     "iopub.status.busy": "2022-11-27T06:10:51.580229Z",
     "iopub.status.idle": "2022-11-27T06:10:51.590187Z",
     "shell.execute_reply": "2022-11-27T06:10:51.589059Z"
    },
    "papermill": {
     "duration": 0.036135,
     "end_time": "2022-11-27T06:10:51.592314",
     "exception": false,
     "start_time": "2022-11-27T06:10:51.556179",
     "status": "completed"
    },
    "tags": []
   },
   "outputs": [
    {
     "data": {
      "text/plain": [
       "property_type    0\n",
       "price            0\n",
       "city             0\n",
       "province_name    0\n",
       "baths            0\n",
       "purpose          0\n",
       "bedrooms         0\n",
       "date_added       0\n",
       "Total_Area       0\n",
       "dtype: int64"
      ]
     },
     "execution_count": 24,
     "metadata": {},
     "output_type": "execute_result"
    }
   ],
   "source": [
    "df1.isnull().sum()"
   ]
  },
  {
   "cell_type": "code",
   "execution_count": 25,
   "id": "2e0e7d45",
   "metadata": {
    "execution": {
     "iopub.execute_input": "2022-11-27T06:10:51.639149Z",
     "iopub.status.busy": "2022-11-27T06:10:51.638767Z",
     "iopub.status.idle": "2022-11-27T06:10:51.660394Z",
     "shell.execute_reply": "2022-11-27T06:10:51.659149Z"
    },
    "papermill": {
     "duration": 0.048668,
     "end_time": "2022-11-27T06:10:51.663656",
     "exception": false,
     "start_time": "2022-11-27T06:10:51.614988",
     "status": "completed"
    },
    "tags": []
   },
   "outputs": [
    {
     "name": "stdout",
     "output_type": "stream",
     "text": [
      "House            2192\n",
      "Flat              706\n",
      "Upper Portion      60\n",
      "Lower Portion      24\n",
      "Farm House         15\n",
      "Penthouse           3\n",
      "Name: property_type, dtype: int64\n",
      "********************\n",
      "15000000    62\n",
      "6000000     59\n",
      "14000000    59\n",
      "6500000     58\n",
      "8000000     56\n",
      "            ..\n",
      "9530000      1\n",
      "5250000      1\n",
      "2950000      1\n",
      "63000000     1\n",
      "4666000      1\n",
      "Name: price, Length: 396, dtype: int64\n",
      "********************\n",
      "Karachi       1132\n",
      "Lahore        1024\n",
      "Islamabad      415\n",
      "Rawalpindi     320\n",
      "Faisalabad     109\n",
      "Name: city, dtype: int64\n",
      "********************\n",
      "Punjab               1453\n",
      "Sindh                1132\n",
      "Islamabad Capital     415\n",
      "Name: province_name, dtype: int64\n",
      "********************\n",
      "0     709\n",
      "3     561\n",
      "2     426\n",
      "4     373\n",
      "6     361\n",
      "5     318\n",
      "7      99\n",
      "1      86\n",
      "8      44\n",
      "10     16\n",
      "9       7\n",
      "Name: baths, dtype: int64\n",
      "********************\n",
      "For Sale    3000\n",
      "Name: purpose, dtype: int64\n",
      "********************\n",
      "3     750\n",
      "2     510\n",
      "5     504\n",
      "4     469\n",
      "0     357\n",
      "6     233\n",
      "1      57\n",
      "7      51\n",
      "8      32\n",
      "9      15\n",
      "10     12\n",
      "11      8\n",
      "12      2\n",
      "Name: bedrooms, dtype: int64\n",
      "********************\n",
      "7/3/2019      170\n",
      "7/4/2019      137\n",
      "7/17/2019     126\n",
      "7/2/2019      121\n",
      "5/6/2019      116\n",
      "             ... \n",
      "9/21/2018       1\n",
      "6/6/2019        1\n",
      "8/9/2018        1\n",
      "6/24/2019       1\n",
      "12/18/2018      1\n",
      "Name: date_added, Length: 89, dtype: int64\n",
      "********************\n",
      "1361.255      394\n",
      "2722.510      349\n",
      "5445.000      297\n",
      "2178.008      178\n",
      "816.753       135\n",
      "             ... \n",
      "27497.351       1\n",
      "51183.188       1\n",
      "45193.666       1\n",
      "125235.000      1\n",
      "196020.000      1\n",
      "Name: Total_Area, Length: 142, dtype: int64\n",
      "********************\n"
     ]
    }
   ],
   "source": [
    "for column in df1.columns:\n",
    "    print(df1[column].value_counts())\n",
    "    print('*'*20)"
   ]
  },
  {
   "cell_type": "markdown",
   "id": "35443e53",
   "metadata": {
    "papermill": {
     "duration": 0.023176,
     "end_time": "2022-11-27T06:10:51.711516",
     "exception": false,
     "start_time": "2022-11-27T06:10:51.688340",
     "status": "completed"
    },
    "tags": []
   },
   "source": [
    "### Handling Columns 'baths' and 'bedrooms'"
   ]
  },
  {
   "cell_type": "code",
   "execution_count": 26,
   "id": "1f0a0788",
   "metadata": {
    "execution": {
     "iopub.execute_input": "2022-11-27T06:10:51.759762Z",
     "iopub.status.busy": "2022-11-27T06:10:51.758538Z",
     "iopub.status.idle": "2022-11-27T06:10:52.063488Z",
     "shell.execute_reply": "2022-11-27T06:10:52.062682Z"
    },
    "papermill": {
     "duration": 0.331403,
     "end_time": "2022-11-27T06:10:52.065750",
     "exception": false,
     "start_time": "2022-11-27T06:10:51.734347",
     "status": "completed"
    },
    "tags": []
   },
   "outputs": [
    {
     "data": {
      "text/plain": [
       "<AxesSubplot:>"
      ]
     },
     "execution_count": 26,
     "metadata": {},
     "output_type": "execute_result"
    },
    {
     "data": {
      "image/png": "[encoded data removed]",
      "text/plain": [
       "<Figure size 432x288 with 1 Axes>"
      ]
     },
     "metadata": {
      "needs_background": "light"
     },
     "output_type": "display_data"
    }
   ],
   "source": [
    "fig = plt.figure()\n",
    "ax = fig.add_subplot(111)\n",
    "df1['baths'].hist(bins = 50, ax =ax, color = 'green', alpha = 0.8 )"
   ]
  },
  {
   "cell_type": "code",
   "execution_count": 27,
   "id": "5d8b0bc1",
   "metadata": {
    "execution": {
     "iopub.execute_input": "2022-11-27T06:10:52.116138Z",
     "iopub.status.busy": "2022-11-27T06:10:52.115184Z",
     "iopub.status.idle": "2022-11-27T06:10:52.138412Z",
     "shell.execute_reply": "2022-11-27T06:10:52.137657Z"
    },
    "papermill": {
     "duration": 0.050527,
     "end_time": "2022-11-27T06:10:52.140520",
     "exception": false,
     "start_time": "2022-11-27T06:10:52.089993",
     "status": "completed"
    },
    "tags": []
   },
   "outputs": [
    {
     "data": {
      "text/html": [
       "<div>\n",
       "<style scoped>\n",
       "    .dataframe tbody tr th:only-of-type {\n",
       "        vertical-align: middle;\n",
       "    }\n",
       "\n",
       "    .dataframe tbody tr th {\n",
       "        vertical-align: top;\n",
       "    }\n",
       "\n",
       "    .dataframe thead th {\n",
       "        text-align: right;\n",
       "    }\n",
       "</style>\n",
       "<table border=\"1\" class=\"dataframe\">\n",
       "  <thead>\n",
       "    <tr style=\"text-align: right;\">\n",
       "      <th></th>\n",
       "      <th>property_type</th>\n",
       "      <th>price</th>\n",
       "      <th>city</th>\n",
       "      <th>province_name</th>\n",
       "      <th>baths</th>\n",
       "      <th>purpose</th>\n",
       "      <th>bedrooms</th>\n",
       "      <th>date_added</th>\n",
       "      <th>Total_Area</th>\n",
       "    </tr>\n",
       "  </thead>\n",
       "  <tbody>\n",
       "    <tr>\n",
       "      <th>78203</th>\n",
       "      <td>House</td>\n",
       "      <td>8000000</td>\n",
       "      <td>Faisalabad</td>\n",
       "      <td>Punjab</td>\n",
       "      <td>0</td>\n",
       "      <td>For Sale</td>\n",
       "      <td>0</td>\n",
       "      <td>6/16/2019</td>\n",
       "      <td>1361.255</td>\n",
       "    </tr>\n",
       "    <tr>\n",
       "      <th>105812</th>\n",
       "      <td>House</td>\n",
       "      <td>26000000</td>\n",
       "      <td>Lahore</td>\n",
       "      <td>Punjab</td>\n",
       "      <td>0</td>\n",
       "      <td>For Sale</td>\n",
       "      <td>5</td>\n",
       "      <td>6/27/2019</td>\n",
       "      <td>3267.012</td>\n",
       "    </tr>\n",
       "    <tr>\n",
       "      <th>113340</th>\n",
       "      <td>House</td>\n",
       "      <td>6000000</td>\n",
       "      <td>Faisalabad</td>\n",
       "      <td>Punjab</td>\n",
       "      <td>0</td>\n",
       "      <td>For Sale</td>\n",
       "      <td>0</td>\n",
       "      <td>7/2/2019</td>\n",
       "      <td>1361.255</td>\n",
       "    </tr>\n",
       "    <tr>\n",
       "      <th>2421</th>\n",
       "      <td>House</td>\n",
       "      <td>10800000</td>\n",
       "      <td>Rawalpindi</td>\n",
       "      <td>Punjab</td>\n",
       "      <td>0</td>\n",
       "      <td>For Sale</td>\n",
       "      <td>5</td>\n",
       "      <td>7/4/2019</td>\n",
       "      <td>1905.757</td>\n",
       "    </tr>\n",
       "    <tr>\n",
       "      <th>161975</th>\n",
       "      <td>House</td>\n",
       "      <td>6000000</td>\n",
       "      <td>Rawalpindi</td>\n",
       "      <td>Punjab</td>\n",
       "      <td>0</td>\n",
       "      <td>For Sale</td>\n",
       "      <td>2</td>\n",
       "      <td>7/16/2019</td>\n",
       "      <td>1361.255</td>\n",
       "    </tr>\n",
       "    <tr>\n",
       "      <th>...</th>\n",
       "      <td>...</td>\n",
       "      <td>...</td>\n",
       "      <td>...</td>\n",
       "      <td>...</td>\n",
       "      <td>...</td>\n",
       "      <td>...</td>\n",
       "      <td>...</td>\n",
       "      <td>...</td>\n",
       "      <td>...</td>\n",
       "    </tr>\n",
       "    <tr>\n",
       "      <th>165743</th>\n",
       "      <td>House</td>\n",
       "      <td>9000000</td>\n",
       "      <td>Rawalpindi</td>\n",
       "      <td>Punjab</td>\n",
       "      <td>0</td>\n",
       "      <td>For Sale</td>\n",
       "      <td>0</td>\n",
       "      <td>7/17/2019</td>\n",
       "      <td>1361.255</td>\n",
       "    </tr>\n",
       "    <tr>\n",
       "      <th>130960</th>\n",
       "      <td>House</td>\n",
       "      <td>42500000</td>\n",
       "      <td>Lahore</td>\n",
       "      <td>Punjab</td>\n",
       "      <td>0</td>\n",
       "      <td>For Sale</td>\n",
       "      <td>5</td>\n",
       "      <td>7/4/2019</td>\n",
       "      <td>5445.000</td>\n",
       "    </tr>\n",
       "    <tr>\n",
       "      <th>58227</th>\n",
       "      <td>House</td>\n",
       "      <td>26000000</td>\n",
       "      <td>Karachi</td>\n",
       "      <td>Sindh</td>\n",
       "      <td>0</td>\n",
       "      <td>For Sale</td>\n",
       "      <td>4</td>\n",
       "      <td>4/6/2019</td>\n",
       "      <td>13068.048</td>\n",
       "    </tr>\n",
       "    <tr>\n",
       "      <th>133912</th>\n",
       "      <td>House</td>\n",
       "      <td>28000000</td>\n",
       "      <td>Karachi</td>\n",
       "      <td>Sindh</td>\n",
       "      <td>0</td>\n",
       "      <td>For Sale</td>\n",
       "      <td>0</td>\n",
       "      <td>7/2/2019</td>\n",
       "      <td>2178.008</td>\n",
       "    </tr>\n",
       "    <tr>\n",
       "      <th>110443</th>\n",
       "      <td>Upper Portion</td>\n",
       "      <td>13500000</td>\n",
       "      <td>Karachi</td>\n",
       "      <td>Sindh</td>\n",
       "      <td>0</td>\n",
       "      <td>For Sale</td>\n",
       "      <td>0</td>\n",
       "      <td>6/28/2019</td>\n",
       "      <td>2178.008</td>\n",
       "    </tr>\n",
       "  </tbody>\n",
       "</table>\n",
       "<p>709 rows × 9 columns</p>\n",
       "</div>"
      ],
      "text/plain": [
       "        property_type     price        city province_name  baths   purpose  \\\n",
       "78203           House   8000000  Faisalabad        Punjab      0  For Sale   \n",
       "105812          House  26000000      Lahore        Punjab      0  For Sale   \n",
       "113340          House   6000000  Faisalabad        Punjab      0  For Sale   \n",
       "2421            House  10800000  Rawalpindi        Punjab      0  For Sale   \n",
       "161975          House   6000000  Rawalpindi        Punjab      0  For Sale   \n",
       "...               ...       ...         ...           ...    ...       ...   \n",
       "165743          House   9000000  Rawalpindi        Punjab      0  For Sale   \n",
       "130960          House  42500000      Lahore        Punjab      0  For Sale   \n",
       "58227           House  26000000     Karachi         Sindh      0  For Sale   \n",
       "133912          House  28000000     Karachi         Sindh      0  For Sale   \n",
       "110443  Upper Portion  13500000     Karachi         Sindh      0  For Sale   \n",
       "\n",
       "        bedrooms date_added  Total_Area  \n",
       "78203          0  6/16/2019    1361.255  \n",
       "105812         5  6/27/2019    3267.012  \n",
       "113340         0   7/2/2019    1361.255  \n",
       "2421           5   7/4/2019    1905.757  \n",
       "161975         2  7/16/2019    1361.255  \n",
       "...          ...        ...         ...  \n",
       "165743         0  7/17/2019    1361.255  \n",
       "130960         5   7/4/2019    5445.000  \n",
       "58227          4   4/6/2019   13068.048  \n",
       "133912         0   7/2/2019    2178.008  \n",
       "110443         0  6/28/2019    2178.008  \n",
       "\n",
       "[709 rows x 9 columns]"
      ]
     },
     "execution_count": 27,
     "metadata": {},
     "output_type": "execute_result"
    }
   ],
   "source": [
    "df1[df1['baths']==0]"
   ]
  },
  {
   "cell_type": "code",
   "execution_count": 28,
   "id": "c3b9940c",
   "metadata": {
    "execution": {
     "iopub.execute_input": "2022-11-27T06:10:52.190485Z",
     "iopub.status.busy": "2022-11-27T06:10:52.189531Z",
     "iopub.status.idle": "2022-11-27T06:10:52.195999Z",
     "shell.execute_reply": "2022-11-27T06:10:52.195013Z"
    },
    "papermill": {
     "duration": 0.03401,
     "end_time": "2022-11-27T06:10:52.198171",
     "exception": false,
     "start_time": "2022-11-27T06:10:52.164161",
     "status": "completed"
    },
    "tags": []
   },
   "outputs": [
    {
     "data": {
      "text/plain": [
       "3"
      ]
     },
     "execution_count": 28,
     "metadata": {},
     "output_type": "execute_result"
    }
   ],
   "source": [
    "int(df1['baths'].mean())"
   ]
  },
  {
   "cell_type": "code",
   "execution_count": 29,
   "id": "c148a0df",
   "metadata": {
    "execution": {
     "iopub.execute_input": "2022-11-27T06:10:52.247950Z",
     "iopub.status.busy": "2022-11-27T06:10:52.247133Z",
     "iopub.status.idle": "2022-11-27T06:10:52.253078Z",
     "shell.execute_reply": "2022-11-27T06:10:52.251969Z"
    },
    "papermill": {
     "duration": 0.033684,
     "end_time": "2022-11-27T06:10:52.255658",
     "exception": false,
     "start_time": "2022-11-27T06:10:52.221974",
     "status": "completed"
    },
    "tags": []
   },
   "outputs": [],
   "source": [
    "# Replacing 0 values with mean\n",
    "df1['baths'].replace(0,int(df1['baths'].mean()),inplace = True)"
   ]
  },
  {
   "cell_type": "code",
   "execution_count": 30,
   "id": "ecdd7520",
   "metadata": {
    "execution": {
     "iopub.execute_input": "2022-11-27T06:10:52.306205Z",
     "iopub.status.busy": "2022-11-27T06:10:52.305491Z",
     "iopub.status.idle": "2022-11-27T06:10:52.563067Z",
     "shell.execute_reply": "2022-11-27T06:10:52.561634Z"
    },
    "papermill": {
     "duration": 0.285861,
     "end_time": "2022-11-27T06:10:52.565705",
     "exception": false,
     "start_time": "2022-11-27T06:10:52.279844",
     "status": "completed"
    },
    "tags": []
   },
   "outputs": [
    {
     "data": {
      "image/png": "[encoded data removed]",
      "text/plain": [
       "<Figure size 432x288 with 1 Axes>"
      ]
     },
     "metadata": {
      "needs_background": "light"
     },
     "output_type": "display_data"
    }
   ],
   "source": [
    "df1['baths'].plot.density(color='green')\n",
    "plt.show()"
   ]
  },
  {
   "cell_type": "code",
   "execution_count": 31,
   "id": "c19be472",
   "metadata": {
    "execution": {
     "iopub.execute_input": "2022-11-27T06:10:52.615869Z",
     "iopub.status.busy": "2022-11-27T06:10:52.615445Z",
     "iopub.status.idle": "2022-11-27T06:10:53.103292Z",
     "shell.execute_reply": "2022-11-27T06:10:53.102467Z"
    },
    "papermill": {
     "duration": 0.516023,
     "end_time": "2022-11-27T06:10:53.105839",
     "exception": false,
     "start_time": "2022-11-27T06:10:52.589816",
     "status": "completed"
    },
    "tags": []
   },
   "outputs": [
    {
     "data": {
      "text/plain": [
       "<AxesSubplot:xlabel='baths', ylabel='price'>"
      ]
     },
     "execution_count": 31,
     "metadata": {},
     "output_type": "execute_result"
    },
    {
     "data": {
      "image/png": "[encoded data removed]",
      "text/plain": [
       "<Figure size 432x288 with 1 Axes>"
      ]
     },
     "metadata": {
      "needs_background": "light"
     },
     "output_type": "display_data"
    }
   ],
   "source": [
    "sns.lineplot(x = 'baths', y = 'price', data = df1)"
   ]
  },
  {
   "cell_type": "code",
   "execution_count": 32,
   "id": "be7d5c7f",
   "metadata": {
    "execution": {
     "iopub.execute_input": "2022-11-27T06:10:53.158127Z",
     "iopub.status.busy": "2022-11-27T06:10:53.157722Z",
     "iopub.status.idle": "2022-11-27T06:10:53.438227Z",
     "shell.execute_reply": "2022-11-27T06:10:53.437359Z"
    },
    "papermill": {
     "duration": 0.310077,
     "end_time": "2022-11-27T06:10:53.440615",
     "exception": false,
     "start_time": "2022-11-27T06:10:53.130538",
     "status": "completed"
    },
    "tags": []
   },
   "outputs": [
    {
     "data": {
      "image/png": "[encoded data removed]",
      "text/plain": [
       "<Figure size 432x288 with 1 Axes>"
      ]
     },
     "metadata": {
      "needs_background": "light"
     },
     "output_type": "display_data"
    }
   ],
   "source": [
    "fig = plt.figure()\n",
    "ax = fig.add_subplot(111)\n",
    "df1['bedrooms'].hist(bins = 50, ax =ax, color = 'green', alpha = 0.8 )\n",
    "plt.show()"
   ]
  },
  {
   "cell_type": "code",
   "execution_count": 33,
   "id": "d30e6363",
   "metadata": {
    "execution": {
     "iopub.execute_input": "2022-11-27T06:10:53.492512Z",
     "iopub.status.busy": "2022-11-27T06:10:53.491373Z",
     "iopub.status.idle": "2022-11-27T06:10:53.513797Z",
     "shell.execute_reply": "2022-11-27T06:10:53.512643Z"
    },
    "papermill": {
     "duration": 0.050855,
     "end_time": "2022-11-27T06:10:53.516243",
     "exception": false,
     "start_time": "2022-11-27T06:10:53.465388",
     "status": "completed"
    },
    "tags": []
   },
   "outputs": [
    {
     "data": {
      "text/html": [
       "<div>\n",
       "<style scoped>\n",
       "    .dataframe tbody tr th:only-of-type {\n",
       "        vertical-align: middle;\n",
       "    }\n",
       "\n",
       "    .dataframe tbody tr th {\n",
       "        vertical-align: top;\n",
       "    }\n",
       "\n",
       "    .dataframe thead th {\n",
       "        text-align: right;\n",
       "    }\n",
       "</style>\n",
       "<table border=\"1\" class=\"dataframe\">\n",
       "  <thead>\n",
       "    <tr style=\"text-align: right;\">\n",
       "      <th></th>\n",
       "      <th>property_type</th>\n",
       "      <th>price</th>\n",
       "      <th>city</th>\n",
       "      <th>province_name</th>\n",
       "      <th>baths</th>\n",
       "      <th>purpose</th>\n",
       "      <th>bedrooms</th>\n",
       "      <th>date_added</th>\n",
       "      <th>Total_Area</th>\n",
       "    </tr>\n",
       "  </thead>\n",
       "  <tbody>\n",
       "    <tr>\n",
       "      <th>78203</th>\n",
       "      <td>House</td>\n",
       "      <td>8000000</td>\n",
       "      <td>Faisalabad</td>\n",
       "      <td>Punjab</td>\n",
       "      <td>3</td>\n",
       "      <td>For Sale</td>\n",
       "      <td>0</td>\n",
       "      <td>6/16/2019</td>\n",
       "      <td>1361.255</td>\n",
       "    </tr>\n",
       "    <tr>\n",
       "      <th>113340</th>\n",
       "      <td>House</td>\n",
       "      <td>6000000</td>\n",
       "      <td>Faisalabad</td>\n",
       "      <td>Punjab</td>\n",
       "      <td>3</td>\n",
       "      <td>For Sale</td>\n",
       "      <td>0</td>\n",
       "      <td>7/2/2019</td>\n",
       "      <td>1361.255</td>\n",
       "    </tr>\n",
       "    <tr>\n",
       "      <th>82590</th>\n",
       "      <td>House</td>\n",
       "      <td>180000000</td>\n",
       "      <td>Karachi</td>\n",
       "      <td>Sindh</td>\n",
       "      <td>3</td>\n",
       "      <td>For Sale</td>\n",
       "      <td>0</td>\n",
       "      <td>6/7/2019</td>\n",
       "      <td>21780.000</td>\n",
       "    </tr>\n",
       "    <tr>\n",
       "      <th>90767</th>\n",
       "      <td>House</td>\n",
       "      <td>12000000</td>\n",
       "      <td>Lahore</td>\n",
       "      <td>Punjab</td>\n",
       "      <td>3</td>\n",
       "      <td>For Sale</td>\n",
       "      <td>0</td>\n",
       "      <td>6/19/2019</td>\n",
       "      <td>816.753</td>\n",
       "    </tr>\n",
       "    <tr>\n",
       "      <th>27227</th>\n",
       "      <td>Flat</td>\n",
       "      <td>7000000</td>\n",
       "      <td>Karachi</td>\n",
       "      <td>Sindh</td>\n",
       "      <td>3</td>\n",
       "      <td>For Sale</td>\n",
       "      <td>0</td>\n",
       "      <td>12/19/2018</td>\n",
       "      <td>15246.056</td>\n",
       "    </tr>\n",
       "    <tr>\n",
       "      <th>...</th>\n",
       "      <td>...</td>\n",
       "      <td>...</td>\n",
       "      <td>...</td>\n",
       "      <td>...</td>\n",
       "      <td>...</td>\n",
       "      <td>...</td>\n",
       "      <td>...</td>\n",
       "      <td>...</td>\n",
       "      <td>...</td>\n",
       "    </tr>\n",
       "    <tr>\n",
       "      <th>112088</th>\n",
       "      <td>House</td>\n",
       "      <td>7100000</td>\n",
       "      <td>Islamabad</td>\n",
       "      <td>Islamabad Capital</td>\n",
       "      <td>3</td>\n",
       "      <td>For Sale</td>\n",
       "      <td>0</td>\n",
       "      <td>6/30/2019</td>\n",
       "      <td>2178.008</td>\n",
       "    </tr>\n",
       "    <tr>\n",
       "      <th>25246</th>\n",
       "      <td>Farm House</td>\n",
       "      <td>6000000</td>\n",
       "      <td>Lahore</td>\n",
       "      <td>Punjab</td>\n",
       "      <td>3</td>\n",
       "      <td>For Sale</td>\n",
       "      <td>0</td>\n",
       "      <td>12/5/2018</td>\n",
       "      <td>10890.000</td>\n",
       "    </tr>\n",
       "    <tr>\n",
       "      <th>165743</th>\n",
       "      <td>House</td>\n",
       "      <td>9000000</td>\n",
       "      <td>Rawalpindi</td>\n",
       "      <td>Punjab</td>\n",
       "      <td>3</td>\n",
       "      <td>For Sale</td>\n",
       "      <td>0</td>\n",
       "      <td>7/17/2019</td>\n",
       "      <td>1361.255</td>\n",
       "    </tr>\n",
       "    <tr>\n",
       "      <th>133912</th>\n",
       "      <td>House</td>\n",
       "      <td>28000000</td>\n",
       "      <td>Karachi</td>\n",
       "      <td>Sindh</td>\n",
       "      <td>3</td>\n",
       "      <td>For Sale</td>\n",
       "      <td>0</td>\n",
       "      <td>7/2/2019</td>\n",
       "      <td>2178.008</td>\n",
       "    </tr>\n",
       "    <tr>\n",
       "      <th>110443</th>\n",
       "      <td>Upper Portion</td>\n",
       "      <td>13500000</td>\n",
       "      <td>Karachi</td>\n",
       "      <td>Sindh</td>\n",
       "      <td>3</td>\n",
       "      <td>For Sale</td>\n",
       "      <td>0</td>\n",
       "      <td>6/28/2019</td>\n",
       "      <td>2178.008</td>\n",
       "    </tr>\n",
       "  </tbody>\n",
       "</table>\n",
       "<p>357 rows × 9 columns</p>\n",
       "</div>"
      ],
      "text/plain": [
       "        property_type      price        city      province_name  baths  \\\n",
       "78203           House    8000000  Faisalabad             Punjab      3   \n",
       "113340          House    6000000  Faisalabad             Punjab      3   \n",
       "82590           House  180000000     Karachi              Sindh      3   \n",
       "90767           House   12000000      Lahore             Punjab      3   \n",
       "27227            Flat    7000000     Karachi              Sindh      3   \n",
       "...               ...        ...         ...                ...    ...   \n",
       "112088          House    7100000   Islamabad  Islamabad Capital      3   \n",
       "25246      Farm House    6000000      Lahore             Punjab      3   \n",
       "165743          House    9000000  Rawalpindi             Punjab      3   \n",
       "133912          House   28000000     Karachi              Sindh      3   \n",
       "110443  Upper Portion   13500000     Karachi              Sindh      3   \n",
       "\n",
       "         purpose  bedrooms  date_added  Total_Area  \n",
       "78203   For Sale         0   6/16/2019    1361.255  \n",
       "113340  For Sale         0    7/2/2019    1361.255  \n",
       "82590   For Sale         0    6/7/2019   21780.000  \n",
       "90767   For Sale         0   6/19/2019     816.753  \n",
       "27227   For Sale         0  12/19/2018   15246.056  \n",
       "...          ...       ...         ...         ...  \n",
       "112088  For Sale         0   6/30/2019    2178.008  \n",
       "25246   For Sale         0   12/5/2018   10890.000  \n",
       "165743  For Sale         0   7/17/2019    1361.255  \n",
       "133912  For Sale         0    7/2/2019    2178.008  \n",
       "110443  For Sale         0   6/28/2019    2178.008  \n",
       "\n",
       "[357 rows x 9 columns]"
      ]
     },
     "execution_count": 33,
     "metadata": {},
     "output_type": "execute_result"
    }
   ],
   "source": [
    "df1[df1['bedrooms']==0]"
   ]
  },
  {
   "cell_type": "code",
   "execution_count": 34,
   "id": "a004f31a",
   "metadata": {
    "execution": {
     "iopub.execute_input": "2022-11-27T06:10:53.568589Z",
     "iopub.status.busy": "2022-11-27T06:10:53.567967Z",
     "iopub.status.idle": "2022-11-27T06:10:53.573749Z",
     "shell.execute_reply": "2022-11-27T06:10:53.572979Z"
    },
    "papermill": {
     "duration": 0.034517,
     "end_time": "2022-11-27T06:10:53.575843",
     "exception": false,
     "start_time": "2022-11-27T06:10:53.541326",
     "status": "completed"
    },
    "tags": []
   },
   "outputs": [],
   "source": [
    "# Replacing 0 values with mean\n",
    "df1['bedrooms'].replace(0,int(df1['bedrooms'].mean()),inplace = True)"
   ]
  },
  {
   "cell_type": "code",
   "execution_count": 35,
   "id": "0d086e0a",
   "metadata": {
    "execution": {
     "iopub.execute_input": "2022-11-27T06:10:53.627890Z",
     "iopub.status.busy": "2022-11-27T06:10:53.627460Z",
     "iopub.status.idle": "2022-11-27T06:10:53.869013Z",
     "shell.execute_reply": "2022-11-27T06:10:53.867882Z"
    },
    "papermill": {
     "duration": 0.270613,
     "end_time": "2022-11-27T06:10:53.871324",
     "exception": false,
     "start_time": "2022-11-27T06:10:53.600711",
     "status": "completed"
    },
    "tags": []
   },
   "outputs": [
    {
     "data": {
      "image/png": "[encoded data removed]",
      "text/plain": [
       "<Figure size 432x288 with 1 Axes>"
      ]
     },
     "metadata": {
      "needs_background": "light"
     },
     "output_type": "display_data"
    }
   ],
   "source": [
    "df1['bedrooms'].plot.density(color='green')\n",
    "plt.show()"
   ]
  },
  {
   "cell_type": "code",
   "execution_count": 36,
   "id": "4bc215ae",
   "metadata": {
    "execution": {
     "iopub.execute_input": "2022-11-27T06:10:53.924135Z",
     "iopub.status.busy": "2022-11-27T06:10:53.923022Z",
     "iopub.status.idle": "2022-11-27T06:10:54.413249Z",
     "shell.execute_reply": "2022-11-27T06:10:54.412126Z"
    },
    "papermill": {
     "duration": 0.519079,
     "end_time": "2022-11-27T06:10:54.415555",
     "exception": false,
     "start_time": "2022-11-27T06:10:53.896476",
     "status": "completed"
    },
    "tags": []
   },
   "outputs": [
    {
     "data": {
      "image/png": "[encoded data removed]",
      "text/plain": [
       "<Figure size 432x288 with 1 Axes>"
      ]
     },
     "metadata": {
      "needs_background": "light"
     },
     "output_type": "display_data"
    }
   ],
   "source": [
    "sns.lineplot(x = 'bedrooms', y = 'price', data = df1)\n",
    "plt.show()"
   ]
  },
  {
   "cell_type": "code",
   "execution_count": 37,
   "id": "4549c662",
   "metadata": {
    "execution": {
     "iopub.execute_input": "2022-11-27T06:10:54.468569Z",
     "iopub.status.busy": "2022-11-27T06:10:54.468175Z",
     "iopub.status.idle": "2022-11-27T06:10:54.492381Z",
     "shell.execute_reply": "2022-11-27T06:10:54.491241Z"
    },
    "papermill": {
     "duration": 0.053639,
     "end_time": "2022-11-27T06:10:54.494806",
     "exception": false,
     "start_time": "2022-11-27T06:10:54.441167",
     "status": "completed"
    },
    "tags": []
   },
   "outputs": [
    {
     "data": {
      "text/html": [
       "<div>\n",
       "<style scoped>\n",
       "    .dataframe tbody tr th:only-of-type {\n",
       "        vertical-align: middle;\n",
       "    }\n",
       "\n",
       "    .dataframe tbody tr th {\n",
       "        vertical-align: top;\n",
       "    }\n",
       "\n",
       "    .dataframe thead th {\n",
       "        text-align: right;\n",
       "    }\n",
       "</style>\n",
       "<table border=\"1\" class=\"dataframe\">\n",
       "  <thead>\n",
       "    <tr style=\"text-align: right;\">\n",
       "      <th></th>\n",
       "      <th>price</th>\n",
       "      <th>baths</th>\n",
       "      <th>bedrooms</th>\n",
       "      <th>Total_Area</th>\n",
       "    </tr>\n",
       "  </thead>\n",
       "  <tbody>\n",
       "    <tr>\n",
       "      <th>count</th>\n",
       "      <td>3.000000e+03</td>\n",
       "      <td>3000.000000</td>\n",
       "      <td>3000.000000</td>\n",
       "      <td>3000.000000</td>\n",
       "    </tr>\n",
       "    <tr>\n",
       "      <th>mean</th>\n",
       "      <td>2.451456e+07</td>\n",
       "      <td>3.754667</td>\n",
       "      <td>3.724000</td>\n",
       "      <td>9705.826200</td>\n",
       "    </tr>\n",
       "    <tr>\n",
       "      <th>std</th>\n",
       "      <td>3.930190e+07</td>\n",
       "      <td>1.599791</td>\n",
       "      <td>1.545732</td>\n",
       "      <td>21783.505427</td>\n",
       "    </tr>\n",
       "    <tr>\n",
       "      <th>min</th>\n",
       "      <td>3.700000e+04</td>\n",
       "      <td>1.000000</td>\n",
       "      <td>1.000000</td>\n",
       "      <td>0.000000</td>\n",
       "    </tr>\n",
       "    <tr>\n",
       "      <th>25%</th>\n",
       "      <td>7.000000e+06</td>\n",
       "      <td>3.000000</td>\n",
       "      <td>3.000000</td>\n",
       "      <td>1633.506000</td>\n",
       "    </tr>\n",
       "    <tr>\n",
       "      <th>50%</th>\n",
       "      <td>1.305000e+07</td>\n",
       "      <td>3.000000</td>\n",
       "      <td>3.000000</td>\n",
       "      <td>4083.765000</td>\n",
       "    </tr>\n",
       "    <tr>\n",
       "      <th>75%</th>\n",
       "      <td>2.600000e+07</td>\n",
       "      <td>5.000000</td>\n",
       "      <td>5.000000</td>\n",
       "      <td>11434.542000</td>\n",
       "    </tr>\n",
       "    <tr>\n",
       "      <th>max</th>\n",
       "      <td>8.500000e+08</td>\n",
       "      <td>10.000000</td>\n",
       "      <td>12.000000</td>\n",
       "      <td>680625.000000</td>\n",
       "    </tr>\n",
       "  </tbody>\n",
       "</table>\n",
       "</div>"
      ],
      "text/plain": [
       "              price        baths     bedrooms     Total_Area\n",
       "count  3.000000e+03  3000.000000  3000.000000    3000.000000\n",
       "mean   2.451456e+07     3.754667     3.724000    9705.826200\n",
       "std    3.930190e+07     1.599791     1.545732   21783.505427\n",
       "min    3.700000e+04     1.000000     1.000000       0.000000\n",
       "25%    7.000000e+06     3.000000     3.000000    1633.506000\n",
       "50%    1.305000e+07     3.000000     3.000000    4083.765000\n",
       "75%    2.600000e+07     5.000000     5.000000   11434.542000\n",
       "max    8.500000e+08    10.000000    12.000000  680625.000000"
      ]
     },
     "execution_count": 37,
     "metadata": {},
     "output_type": "execute_result"
    }
   ],
   "source": [
    "df1.describe()"
   ]
  },
  {
   "cell_type": "markdown",
   "id": "3ba3d9c8",
   "metadata": {
    "papermill": {
     "duration": 0.025565,
     "end_time": "2022-11-27T06:10:54.546159",
     "exception": false,
     "start_time": "2022-11-27T06:10:54.520594",
     "status": "completed"
    },
    "tags": []
   },
   "source": [
    "### Handling Column 'price'"
   ]
  },
  {
   "cell_type": "code",
   "execution_count": 38,
   "id": "bd9f70c5",
   "metadata": {
    "execution": {
     "iopub.execute_input": "2022-11-27T06:10:54.599762Z",
     "iopub.status.busy": "2022-11-27T06:10:54.599339Z",
     "iopub.status.idle": "2022-11-27T06:10:54.999682Z",
     "shell.execute_reply": "2022-11-27T06:10:54.998715Z"
    },
    "papermill": {
     "duration": 0.430097,
     "end_time": "2022-11-27T06:10:55.002115",
     "exception": false,
     "start_time": "2022-11-27T06:10:54.572018",
     "status": "completed"
    },
    "tags": []
   },
   "outputs": [
    {
     "data": {
      "image/png": "[encoded data removed]",
      "text/plain": [
       "<Figure size 432x288 with 1 Axes>"
      ]
     },
     "metadata": {
      "needs_background": "light"
     },
     "output_type": "display_data"
    }
   ],
   "source": [
    "df1['price'].plot.density(color='green')\n",
    "plt.show()"
   ]
  },
  {
   "cell_type": "code",
   "execution_count": 39,
   "id": "a8645491",
   "metadata": {
    "execution": {
     "iopub.execute_input": "2022-11-27T06:10:55.057043Z",
     "iopub.status.busy": "2022-11-27T06:10:55.056202Z",
     "iopub.status.idle": "2022-11-27T06:10:55.219000Z",
     "shell.execute_reply": "2022-11-27T06:10:55.217703Z"
    },
    "papermill": {
     "duration": 0.193385,
     "end_time": "2022-11-27T06:10:55.221798",
     "exception": false,
     "start_time": "2022-11-27T06:10:55.028413",
     "status": "completed"
    },
    "tags": []
   },
   "outputs": [
    {
     "name": "stderr",
     "output_type": "stream",
     "text": [
      "/opt/conda/lib/python3.7/site-packages/seaborn/_decorators.py:43: FutureWarning: Pass the following variable as a keyword arg: x. From version 0.12, the only valid positional argument will be `data`, and passing other arguments without an explicit keyword will result in an error or misinterpretation.\n",
      "  FutureWarning\n"
     ]
    },
    {
     "data": {
      "image/png": "[encoded data removed]",
      "text/plain": [
       "<Figure size 432x288 with 1 Axes>"
      ]
     },
     "metadata": {
      "needs_background": "light"
     },
     "output_type": "display_data"
    }
   ],
   "source": [
    "sns.boxplot(df1['price'])\n",
    "plt.show()"
   ]
  },
  {
   "cell_type": "code",
   "execution_count": 40,
   "id": "6296e112",
   "metadata": {
    "execution": {
     "iopub.execute_input": "2022-11-27T06:10:55.277431Z",
     "iopub.status.busy": "2022-11-27T06:10:55.276813Z",
     "iopub.status.idle": "2022-11-27T06:10:55.284663Z",
     "shell.execute_reply": "2022-11-27T06:10:55.283026Z"
    },
    "papermill": {
     "duration": 0.038785,
     "end_time": "2022-11-27T06:10:55.287555",
     "exception": false,
     "start_time": "2022-11-27T06:10:55.248770",
     "status": "completed"
    },
    "tags": []
   },
   "outputs": [
    {
     "name": "stdout",
     "output_type": "stream",
     "text": [
      "850000000\n"
     ]
    }
   ],
   "source": [
    "print(df1.price.max()) # Remove this outlier\n",
    "df2 = df1[df1['price'] < 400000000] "
   ]
  },
  {
   "cell_type": "code",
   "execution_count": 41,
   "id": "52124f89",
   "metadata": {
    "execution": {
     "iopub.execute_input": "2022-11-27T06:10:55.342600Z",
     "iopub.status.busy": "2022-11-27T06:10:55.342231Z",
     "iopub.status.idle": "2022-11-27T06:10:55.365967Z",
     "shell.execute_reply": "2022-11-27T06:10:55.364782Z"
    },
    "papermill": {
     "duration": 0.053633,
     "end_time": "2022-11-27T06:10:55.368152",
     "exception": false,
     "start_time": "2022-11-27T06:10:55.314519",
     "status": "completed"
    },
    "tags": []
   },
   "outputs": [
    {
     "data": {
      "text/html": [
       "<div>\n",
       "<style scoped>\n",
       "    .dataframe tbody tr th:only-of-type {\n",
       "        vertical-align: middle;\n",
       "    }\n",
       "\n",
       "    .dataframe tbody tr th {\n",
       "        vertical-align: top;\n",
       "    }\n",
       "\n",
       "    .dataframe thead th {\n",
       "        text-align: right;\n",
       "    }\n",
       "</style>\n",
       "<table border=\"1\" class=\"dataframe\">\n",
       "  <thead>\n",
       "    <tr style=\"text-align: right;\">\n",
       "      <th></th>\n",
       "      <th>price</th>\n",
       "      <th>baths</th>\n",
       "      <th>bedrooms</th>\n",
       "      <th>Total_Area</th>\n",
       "    </tr>\n",
       "  </thead>\n",
       "  <tbody>\n",
       "    <tr>\n",
       "      <th>count</th>\n",
       "      <td>2.995000e+03</td>\n",
       "      <td>2995.000000</td>\n",
       "      <td>2995.000000</td>\n",
       "      <td>2995.000000</td>\n",
       "    </tr>\n",
       "    <tr>\n",
       "      <th>mean</th>\n",
       "      <td>2.373746e+07</td>\n",
       "      <td>3.749917</td>\n",
       "      <td>3.720534</td>\n",
       "      <td>9542.044608</td>\n",
       "    </tr>\n",
       "    <tr>\n",
       "      <th>std</th>\n",
       "      <td>3.362521e+07</td>\n",
       "      <td>1.594254</td>\n",
       "      <td>1.543089</td>\n",
       "      <td>20982.661338</td>\n",
       "    </tr>\n",
       "    <tr>\n",
       "      <th>min</th>\n",
       "      <td>3.700000e+04</td>\n",
       "      <td>1.000000</td>\n",
       "      <td>1.000000</td>\n",
       "      <td>0.000000</td>\n",
       "    </tr>\n",
       "    <tr>\n",
       "      <th>25%</th>\n",
       "      <td>7.000000e+06</td>\n",
       "      <td>3.000000</td>\n",
       "      <td>3.000000</td>\n",
       "      <td>1633.506000</td>\n",
       "    </tr>\n",
       "    <tr>\n",
       "      <th>50%</th>\n",
       "      <td>1.300000e+07</td>\n",
       "      <td>3.000000</td>\n",
       "      <td>3.000000</td>\n",
       "      <td>3811.514000</td>\n",
       "    </tr>\n",
       "    <tr>\n",
       "      <th>75%</th>\n",
       "      <td>2.550000e+07</td>\n",
       "      <td>5.000000</td>\n",
       "      <td>5.000000</td>\n",
       "      <td>11434.542000</td>\n",
       "    </tr>\n",
       "    <tr>\n",
       "      <th>max</th>\n",
       "      <td>3.700000e+08</td>\n",
       "      <td>10.000000</td>\n",
       "      <td>12.000000</td>\n",
       "      <td>680625.000000</td>\n",
       "    </tr>\n",
       "  </tbody>\n",
       "</table>\n",
       "</div>"
      ],
      "text/plain": [
       "              price        baths     bedrooms     Total_Area\n",
       "count  2.995000e+03  2995.000000  2995.000000    2995.000000\n",
       "mean   2.373746e+07     3.749917     3.720534    9542.044608\n",
       "std    3.362521e+07     1.594254     1.543089   20982.661338\n",
       "min    3.700000e+04     1.000000     1.000000       0.000000\n",
       "25%    7.000000e+06     3.000000     3.000000    1633.506000\n",
       "50%    1.300000e+07     3.000000     3.000000    3811.514000\n",
       "75%    2.550000e+07     5.000000     5.000000   11434.542000\n",
       "max    3.700000e+08    10.000000    12.000000  680625.000000"
      ]
     },
     "execution_count": 41,
     "metadata": {},
     "output_type": "execute_result"
    }
   ],
   "source": [
    "df2.describe()"
   ]
  },
  {
   "cell_type": "code",
   "execution_count": 42,
   "id": "135bfe93",
   "metadata": {
    "execution": {
     "iopub.execute_input": "2022-11-27T06:10:55.424691Z",
     "iopub.status.busy": "2022-11-27T06:10:55.423917Z",
     "iopub.status.idle": "2022-11-27T06:10:55.439363Z",
     "shell.execute_reply": "2022-11-27T06:10:55.438101Z"
    },
    "papermill": {
     "duration": 0.047083,
     "end_time": "2022-11-27T06:10:55.441736",
     "exception": false,
     "start_time": "2022-11-27T06:10:55.394653",
     "status": "completed"
    },
    "tags": []
   },
   "outputs": [
    {
     "data": {
      "text/html": [
       "<div>\n",
       "<style scoped>\n",
       "    .dataframe tbody tr th:only-of-type {\n",
       "        vertical-align: middle;\n",
       "    }\n",
       "\n",
       "    .dataframe tbody tr th {\n",
       "        vertical-align: top;\n",
       "    }\n",
       "\n",
       "    .dataframe thead th {\n",
       "        text-align: right;\n",
       "    }\n",
       "</style>\n",
       "<table border=\"1\" class=\"dataframe\">\n",
       "  <thead>\n",
       "    <tr style=\"text-align: right;\">\n",
       "      <th></th>\n",
       "      <th>property_type</th>\n",
       "      <th>price</th>\n",
       "      <th>city</th>\n",
       "      <th>province_name</th>\n",
       "      <th>baths</th>\n",
       "      <th>purpose</th>\n",
       "      <th>bedrooms</th>\n",
       "      <th>date_added</th>\n",
       "      <th>Total_Area</th>\n",
       "    </tr>\n",
       "  </thead>\n",
       "  <tbody>\n",
       "    <tr>\n",
       "      <th>78203</th>\n",
       "      <td>House</td>\n",
       "      <td>8000000</td>\n",
       "      <td>Faisalabad</td>\n",
       "      <td>Punjab</td>\n",
       "      <td>3</td>\n",
       "      <td>For Sale</td>\n",
       "      <td>3</td>\n",
       "      <td>6/16/2019</td>\n",
       "      <td>1361.255</td>\n",
       "    </tr>\n",
       "    <tr>\n",
       "      <th>76853</th>\n",
       "      <td>House</td>\n",
       "      <td>18500000</td>\n",
       "      <td>Lahore</td>\n",
       "      <td>Punjab</td>\n",
       "      <td>6</td>\n",
       "      <td>For Sale</td>\n",
       "      <td>5</td>\n",
       "      <td>6/12/2019</td>\n",
       "      <td>2722.510</td>\n",
       "    </tr>\n",
       "  </tbody>\n",
       "</table>\n",
       "</div>"
      ],
      "text/plain": [
       "      property_type     price        city province_name  baths   purpose  \\\n",
       "78203         House   8000000  Faisalabad        Punjab      3  For Sale   \n",
       "76853         House  18500000      Lahore        Punjab      6  For Sale   \n",
       "\n",
       "       bedrooms date_added  Total_Area  \n",
       "78203         3  6/16/2019    1361.255  \n",
       "76853         5  6/12/2019    2722.510  "
      ]
     },
     "execution_count": 42,
     "metadata": {},
     "output_type": "execute_result"
    }
   ],
   "source": [
    "df2.head(2)"
   ]
  },
  {
   "cell_type": "code",
   "execution_count": 43,
   "id": "731aacd7",
   "metadata": {
    "execution": {
     "iopub.execute_input": "2022-11-27T06:10:55.498002Z",
     "iopub.status.busy": "2022-11-27T06:10:55.497550Z",
     "iopub.status.idle": "2022-11-27T06:10:55.512473Z",
     "shell.execute_reply": "2022-11-27T06:10:55.510913Z"
    },
    "papermill": {
     "duration": 0.046385,
     "end_time": "2022-11-27T06:10:55.515659",
     "exception": false,
     "start_time": "2022-11-27T06:10:55.469274",
     "status": "completed"
    },
    "tags": []
   },
   "outputs": [
    {
     "name": "stderr",
     "output_type": "stream",
     "text": [
      "/opt/conda/lib/python3.7/site-packages/pandas/core/frame.py:4913: SettingWithCopyWarning: \n",
      "A value is trying to be set on a copy of a slice from a DataFrame\n",
      "\n",
      "See the caveats in the documentation: https://pandas.pydata.org/pandas-docs/stable/user_guide/indexing.html#returning-a-view-versus-a-copy\n",
      "  errors=errors,\n"
     ]
    },
    {
     "data": {
      "text/plain": [
       "(2995, 7)"
      ]
     },
     "execution_count": 43,
     "metadata": {},
     "output_type": "execute_result"
    }
   ],
   "source": [
    "df2.drop(['purpose','date_added'],axis = 1, inplace = True)\n",
    "df2.shape"
   ]
  },
  {
   "cell_type": "code",
   "execution_count": 44,
   "id": "d1b5dea3",
   "metadata": {
    "execution": {
     "iopub.execute_input": "2022-11-27T06:10:55.572234Z",
     "iopub.status.busy": "2022-11-27T06:10:55.570986Z",
     "iopub.status.idle": "2022-11-27T06:10:55.584641Z",
     "shell.execute_reply": "2022-11-27T06:10:55.583378Z"
    },
    "papermill": {
     "duration": 0.044142,
     "end_time": "2022-11-27T06:10:55.586802",
     "exception": false,
     "start_time": "2022-11-27T06:10:55.542660",
     "status": "completed"
    },
    "tags": []
   },
   "outputs": [
    {
     "data": {
      "text/html": [
       "<div>\n",
       "<style scoped>\n",
       "    .dataframe tbody tr th:only-of-type {\n",
       "        vertical-align: middle;\n",
       "    }\n",
       "\n",
       "    .dataframe tbody tr th {\n",
       "        vertical-align: top;\n",
       "    }\n",
       "\n",
       "    .dataframe thead th {\n",
       "        text-align: right;\n",
       "    }\n",
       "</style>\n",
       "<table border=\"1\" class=\"dataframe\">\n",
       "  <thead>\n",
       "    <tr style=\"text-align: right;\">\n",
       "      <th></th>\n",
       "      <th>property_type</th>\n",
       "      <th>price</th>\n",
       "      <th>city</th>\n",
       "      <th>province_name</th>\n",
       "      <th>baths</th>\n",
       "      <th>bedrooms</th>\n",
       "      <th>Total_Area</th>\n",
       "    </tr>\n",
       "  </thead>\n",
       "  <tbody>\n",
       "    <tr>\n",
       "      <th>78203</th>\n",
       "      <td>House</td>\n",
       "      <td>8000000</td>\n",
       "      <td>Faisalabad</td>\n",
       "      <td>Punjab</td>\n",
       "      <td>3</td>\n",
       "      <td>3</td>\n",
       "      <td>1361.255</td>\n",
       "    </tr>\n",
       "    <tr>\n",
       "      <th>76853</th>\n",
       "      <td>House</td>\n",
       "      <td>18500000</td>\n",
       "      <td>Lahore</td>\n",
       "      <td>Punjab</td>\n",
       "      <td>6</td>\n",
       "      <td>5</td>\n",
       "      <td>2722.510</td>\n",
       "    </tr>\n",
       "  </tbody>\n",
       "</table>\n",
       "</div>"
      ],
      "text/plain": [
       "      property_type     price        city province_name  baths  bedrooms  \\\n",
       "78203         House   8000000  Faisalabad        Punjab      3         3   \n",
       "76853         House  18500000      Lahore        Punjab      6         5   \n",
       "\n",
       "       Total_Area  \n",
       "78203    1361.255  \n",
       "76853    2722.510  "
      ]
     },
     "execution_count": 44,
     "metadata": {},
     "output_type": "execute_result"
    }
   ],
   "source": [
    "df2.head(2)"
   ]
  },
  {
   "cell_type": "code",
   "execution_count": 45,
   "id": "c56a550f",
   "metadata": {
    "execution": {
     "iopub.execute_input": "2022-11-27T06:10:55.642950Z",
     "iopub.status.busy": "2022-11-27T06:10:55.642308Z",
     "iopub.status.idle": "2022-11-27T06:10:55.667026Z",
     "shell.execute_reply": "2022-11-27T06:10:55.665816Z"
    },
    "papermill": {
     "duration": 0.055406,
     "end_time": "2022-11-27T06:10:55.669338",
     "exception": false,
     "start_time": "2022-11-27T06:10:55.613932",
     "status": "completed"
    },
    "tags": []
   },
   "outputs": [
    {
     "data": {
      "text/html": [
       "<div>\n",
       "<style scoped>\n",
       "    .dataframe tbody tr th:only-of-type {\n",
       "        vertical-align: middle;\n",
       "    }\n",
       "\n",
       "    .dataframe tbody tr th {\n",
       "        vertical-align: top;\n",
       "    }\n",
       "\n",
       "    .dataframe thead th {\n",
       "        text-align: right;\n",
       "    }\n",
       "</style>\n",
       "<table border=\"1\" class=\"dataframe\">\n",
       "  <thead>\n",
       "    <tr style=\"text-align: right;\">\n",
       "      <th></th>\n",
       "      <th>price</th>\n",
       "      <th>baths</th>\n",
       "      <th>bedrooms</th>\n",
       "      <th>Total_Area</th>\n",
       "    </tr>\n",
       "  </thead>\n",
       "  <tbody>\n",
       "    <tr>\n",
       "      <th>count</th>\n",
       "      <td>2.995000e+03</td>\n",
       "      <td>2995.000000</td>\n",
       "      <td>2995.000000</td>\n",
       "      <td>2995.000000</td>\n",
       "    </tr>\n",
       "    <tr>\n",
       "      <th>mean</th>\n",
       "      <td>2.373746e+07</td>\n",
       "      <td>3.749917</td>\n",
       "      <td>3.720534</td>\n",
       "      <td>9542.044608</td>\n",
       "    </tr>\n",
       "    <tr>\n",
       "      <th>std</th>\n",
       "      <td>3.362521e+07</td>\n",
       "      <td>1.594254</td>\n",
       "      <td>1.543089</td>\n",
       "      <td>20982.661338</td>\n",
       "    </tr>\n",
       "    <tr>\n",
       "      <th>min</th>\n",
       "      <td>3.700000e+04</td>\n",
       "      <td>1.000000</td>\n",
       "      <td>1.000000</td>\n",
       "      <td>0.000000</td>\n",
       "    </tr>\n",
       "    <tr>\n",
       "      <th>25%</th>\n",
       "      <td>7.000000e+06</td>\n",
       "      <td>3.000000</td>\n",
       "      <td>3.000000</td>\n",
       "      <td>1633.506000</td>\n",
       "    </tr>\n",
       "    <tr>\n",
       "      <th>50%</th>\n",
       "      <td>1.300000e+07</td>\n",
       "      <td>3.000000</td>\n",
       "      <td>3.000000</td>\n",
       "      <td>3811.514000</td>\n",
       "    </tr>\n",
       "    <tr>\n",
       "      <th>75%</th>\n",
       "      <td>2.550000e+07</td>\n",
       "      <td>5.000000</td>\n",
       "      <td>5.000000</td>\n",
       "      <td>11434.542000</td>\n",
       "    </tr>\n",
       "    <tr>\n",
       "      <th>max</th>\n",
       "      <td>3.700000e+08</td>\n",
       "      <td>10.000000</td>\n",
       "      <td>12.000000</td>\n",
       "      <td>680625.000000</td>\n",
       "    </tr>\n",
       "  </tbody>\n",
       "</table>\n",
       "</div>"
      ],
      "text/plain": [
       "              price        baths     bedrooms     Total_Area\n",
       "count  2.995000e+03  2995.000000  2995.000000    2995.000000\n",
       "mean   2.373746e+07     3.749917     3.720534    9542.044608\n",
       "std    3.362521e+07     1.594254     1.543089   20982.661338\n",
       "min    3.700000e+04     1.000000     1.000000       0.000000\n",
       "25%    7.000000e+06     3.000000     3.000000    1633.506000\n",
       "50%    1.300000e+07     3.000000     3.000000    3811.514000\n",
       "75%    2.550000e+07     5.000000     5.000000   11434.542000\n",
       "max    3.700000e+08    10.000000    12.000000  680625.000000"
      ]
     },
     "execution_count": 45,
     "metadata": {},
     "output_type": "execute_result"
    }
   ],
   "source": [
    "df2.describe()"
   ]
  },
  {
   "cell_type": "markdown",
   "id": "b54fadf8",
   "metadata": {
    "papermill": {
     "duration": 0.027175,
     "end_time": "2022-11-27T06:10:55.723846",
     "exception": false,
     "start_time": "2022-11-27T06:10:55.696671",
     "status": "completed"
    },
    "tags": []
   },
   "source": [
    "### Handling Column 'Total_Area'"
   ]
  },
  {
   "cell_type": "code",
   "execution_count": 46,
   "id": "1f6fc873",
   "metadata": {
    "execution": {
     "iopub.execute_input": "2022-11-27T06:10:55.780167Z",
     "iopub.status.busy": "2022-11-27T06:10:55.779147Z",
     "iopub.status.idle": "2022-11-27T06:10:56.057197Z",
     "shell.execute_reply": "2022-11-27T06:10:56.056415Z"
    },
    "papermill": {
     "duration": 0.308551,
     "end_time": "2022-11-27T06:10:56.059361",
     "exception": false,
     "start_time": "2022-11-27T06:10:55.750810",
     "status": "completed"
    },
    "tags": []
   },
   "outputs": [
    {
     "data": {
      "text/plain": [
       "<AxesSubplot:ylabel='Density'>"
      ]
     },
     "execution_count": 46,
     "metadata": {},
     "output_type": "execute_result"
    },
    {
     "data": {
      "image/png": "[encoded data removed]",
      "text/plain": [
       "<Figure size 432x288 with 1 Axes>"
      ]
     },
     "metadata": {
      "needs_background": "light"
     },
     "output_type": "display_data"
    }
   ],
   "source": [
    "df2['Total_Area'].plot.density(color='green')"
   ]
  },
  {
   "cell_type": "code",
   "execution_count": 47,
   "id": "3745d297",
   "metadata": {
    "execution": {
     "iopub.execute_input": "2022-11-27T06:10:56.116710Z",
     "iopub.status.busy": "2022-11-27T06:10:56.115856Z",
     "iopub.status.idle": "2022-11-27T06:10:56.128029Z",
     "shell.execute_reply": "2022-11-27T06:10:56.126367Z"
    },
    "papermill": {
     "duration": 0.043461,
     "end_time": "2022-11-27T06:10:56.130241",
     "exception": false,
     "start_time": "2022-11-27T06:10:56.086780",
     "status": "completed"
    },
    "tags": []
   },
   "outputs": [
    {
     "name": "stderr",
     "output_type": "stream",
     "text": [
      "/opt/conda/lib/python3.7/site-packages/pandas/core/generic.py:6619: SettingWithCopyWarning: \n",
      "A value is trying to be set on a copy of a slice from a DataFrame\n",
      "\n",
      "See the caveats in the documentation: https://pandas.pydata.org/pandas-docs/stable/user_guide/indexing.html#returning-a-view-versus-a-copy\n",
      "  return self._update_inplace(result)\n"
     ]
    }
   ],
   "source": [
    "# Replacing 0 values with mean\n",
    "df2['Total_Area'].replace(0,df2['Total_Area'].mean(),inplace = True)"
   ]
  },
  {
   "cell_type": "code",
   "execution_count": 48,
   "id": "c50b8a9e",
   "metadata": {
    "execution": {
     "iopub.execute_input": "2022-11-27T06:10:56.187848Z",
     "iopub.status.busy": "2022-11-27T06:10:56.187122Z",
     "iopub.status.idle": "2022-11-27T06:10:56.467446Z",
     "shell.execute_reply": "2022-11-27T06:10:56.466682Z"
    },
    "papermill": {
     "duration": 0.312259,
     "end_time": "2022-11-27T06:10:56.470554",
     "exception": false,
     "start_time": "2022-11-27T06:10:56.158295",
     "status": "completed"
    },
    "tags": []
   },
   "outputs": [
    {
     "data": {
      "text/plain": [
       "<AxesSubplot:ylabel='Density'>"
      ]
     },
     "execution_count": 48,
     "metadata": {},
     "output_type": "execute_result"
    },
    {
     "data": {
      "image/png": "[encoded data removed]",
      "text/plain": [
       "<Figure size 432x288 with 1 Axes>"
      ]
     },
     "metadata": {
      "needs_background": "light"
     },
     "output_type": "display_data"
    }
   ],
   "source": [
    "df2['Total_Area'].plot.density(color='green')"
   ]
  },
  {
   "cell_type": "code",
   "execution_count": 49,
   "id": "d5065873",
   "metadata": {
    "execution": {
     "iopub.execute_input": "2022-11-27T06:10:56.528759Z",
     "iopub.status.busy": "2022-11-27T06:10:56.528115Z",
     "iopub.status.idle": "2022-11-27T06:10:56.551179Z",
     "shell.execute_reply": "2022-11-27T06:10:56.549961Z"
    },
    "papermill": {
     "duration": 0.054787,
     "end_time": "2022-11-27T06:10:56.553380",
     "exception": false,
     "start_time": "2022-11-27T06:10:56.498593",
     "status": "completed"
    },
    "tags": []
   },
   "outputs": [
    {
     "data": {
      "text/html": [
       "<div>\n",
       "<style scoped>\n",
       "    .dataframe tbody tr th:only-of-type {\n",
       "        vertical-align: middle;\n",
       "    }\n",
       "\n",
       "    .dataframe tbody tr th {\n",
       "        vertical-align: top;\n",
       "    }\n",
       "\n",
       "    .dataframe thead th {\n",
       "        text-align: right;\n",
       "    }\n",
       "</style>\n",
       "<table border=\"1\" class=\"dataframe\">\n",
       "  <thead>\n",
       "    <tr style=\"text-align: right;\">\n",
       "      <th></th>\n",
       "      <th>price</th>\n",
       "      <th>baths</th>\n",
       "      <th>bedrooms</th>\n",
       "      <th>Total_Area</th>\n",
       "    </tr>\n",
       "  </thead>\n",
       "  <tbody>\n",
       "    <tr>\n",
       "      <th>count</th>\n",
       "      <td>2.995000e+03</td>\n",
       "      <td>2995.000000</td>\n",
       "      <td>2995.000000</td>\n",
       "      <td>2995.000000</td>\n",
       "    </tr>\n",
       "    <tr>\n",
       "      <th>mean</th>\n",
       "      <td>2.373746e+07</td>\n",
       "      <td>3.749917</td>\n",
       "      <td>3.720534</td>\n",
       "      <td>9545.230600</td>\n",
       "    </tr>\n",
       "    <tr>\n",
       "      <th>std</th>\n",
       "      <td>3.362521e+07</td>\n",
       "      <td>1.594254</td>\n",
       "      <td>1.543089</td>\n",
       "      <td>20981.936413</td>\n",
       "    </tr>\n",
       "    <tr>\n",
       "      <th>min</th>\n",
       "      <td>3.700000e+04</td>\n",
       "      <td>1.000000</td>\n",
       "      <td>1.000000</td>\n",
       "      <td>272.251000</td>\n",
       "    </tr>\n",
       "    <tr>\n",
       "      <th>25%</th>\n",
       "      <td>7.000000e+06</td>\n",
       "      <td>3.000000</td>\n",
       "      <td>3.000000</td>\n",
       "      <td>1633.506000</td>\n",
       "    </tr>\n",
       "    <tr>\n",
       "      <th>50%</th>\n",
       "      <td>1.300000e+07</td>\n",
       "      <td>3.000000</td>\n",
       "      <td>3.000000</td>\n",
       "      <td>4083.765000</td>\n",
       "    </tr>\n",
       "    <tr>\n",
       "      <th>75%</th>\n",
       "      <td>2.550000e+07</td>\n",
       "      <td>5.000000</td>\n",
       "      <td>5.000000</td>\n",
       "      <td>11434.542000</td>\n",
       "    </tr>\n",
       "    <tr>\n",
       "      <th>max</th>\n",
       "      <td>3.700000e+08</td>\n",
       "      <td>10.000000</td>\n",
       "      <td>12.000000</td>\n",
       "      <td>680625.000000</td>\n",
       "    </tr>\n",
       "  </tbody>\n",
       "</table>\n",
       "</div>"
      ],
      "text/plain": [
       "              price        baths     bedrooms     Total_Area\n",
       "count  2.995000e+03  2995.000000  2995.000000    2995.000000\n",
       "mean   2.373746e+07     3.749917     3.720534    9545.230600\n",
       "std    3.362521e+07     1.594254     1.543089   20981.936413\n",
       "min    3.700000e+04     1.000000     1.000000     272.251000\n",
       "25%    7.000000e+06     3.000000     3.000000    1633.506000\n",
       "50%    1.300000e+07     3.000000     3.000000    4083.765000\n",
       "75%    2.550000e+07     5.000000     5.000000   11434.542000\n",
       "max    3.700000e+08    10.000000    12.000000  680625.000000"
      ]
     },
     "execution_count": 49,
     "metadata": {},
     "output_type": "execute_result"
    }
   ],
   "source": [
    "df2.describe()"
   ]
  },
  {
   "cell_type": "markdown",
   "id": "3e760162",
   "metadata": {
    "papermill": {
     "duration": 0.027923,
     "end_time": "2022-11-27T06:10:56.609327",
     "exception": false,
     "start_time": "2022-11-27T06:10:56.581404",
     "status": "completed"
    },
    "tags": []
   },
   "source": [
    "## Handling Categorical Data - One Hot Encoding"
   ]
  },
  {
   "cell_type": "code",
   "execution_count": 50,
   "id": "13eefb24",
   "metadata": {
    "execution": {
     "iopub.execute_input": "2022-11-27T06:10:56.667187Z",
     "iopub.status.busy": "2022-11-27T06:10:56.666789Z",
     "iopub.status.idle": "2022-11-27T06:10:56.679484Z",
     "shell.execute_reply": "2022-11-27T06:10:56.678490Z"
    },
    "papermill": {
     "duration": 0.044311,
     "end_time": "2022-11-27T06:10:56.681799",
     "exception": false,
     "start_time": "2022-11-27T06:10:56.637488",
     "status": "completed"
    },
    "tags": []
   },
   "outputs": [
    {
     "data": {
      "text/html": [
       "<div>\n",
       "<style scoped>\n",
       "    .dataframe tbody tr th:only-of-type {\n",
       "        vertical-align: middle;\n",
       "    }\n",
       "\n",
       "    .dataframe tbody tr th {\n",
       "        vertical-align: top;\n",
       "    }\n",
       "\n",
       "    .dataframe thead th {\n",
       "        text-align: right;\n",
       "    }\n",
       "</style>\n",
       "<table border=\"1\" class=\"dataframe\">\n",
       "  <thead>\n",
       "    <tr style=\"text-align: right;\">\n",
       "      <th></th>\n",
       "      <th>property_type</th>\n",
       "      <th>price</th>\n",
       "      <th>city</th>\n",
       "      <th>province_name</th>\n",
       "      <th>baths</th>\n",
       "      <th>bedrooms</th>\n",
       "      <th>Total_Area</th>\n",
       "    </tr>\n",
       "  </thead>\n",
       "  <tbody>\n",
       "    <tr>\n",
       "      <th>78203</th>\n",
       "      <td>House</td>\n",
       "      <td>8000000</td>\n",
       "      <td>Faisalabad</td>\n",
       "      <td>Punjab</td>\n",
       "      <td>3</td>\n",
       "      <td>3</td>\n",
       "      <td>1361.255</td>\n",
       "    </tr>\n",
       "    <tr>\n",
       "      <th>76853</th>\n",
       "      <td>House</td>\n",
       "      <td>18500000</td>\n",
       "      <td>Lahore</td>\n",
       "      <td>Punjab</td>\n",
       "      <td>6</td>\n",
       "      <td>5</td>\n",
       "      <td>2722.510</td>\n",
       "    </tr>\n",
       "  </tbody>\n",
       "</table>\n",
       "</div>"
      ],
      "text/plain": [
       "      property_type     price        city province_name  baths  bedrooms  \\\n",
       "78203         House   8000000  Faisalabad        Punjab      3         3   \n",
       "76853         House  18500000      Lahore        Punjab      6         5   \n",
       "\n",
       "       Total_Area  \n",
       "78203    1361.255  \n",
       "76853    2722.510  "
      ]
     },
     "execution_count": 50,
     "metadata": {},
     "output_type": "execute_result"
    }
   ],
   "source": [
    "df2.head(2)"
   ]
  },
  {
   "cell_type": "code",
   "execution_count": 51,
   "id": "c4c3ec40",
   "metadata": {
    "execution": {
     "iopub.execute_input": "2022-11-27T06:10:56.740572Z",
     "iopub.status.busy": "2022-11-27T06:10:56.740195Z",
     "iopub.status.idle": "2022-11-27T06:10:56.747719Z",
     "shell.execute_reply": "2022-11-27T06:10:56.746591Z"
    },
    "papermill": {
     "duration": 0.039511,
     "end_time": "2022-11-27T06:10:56.749938",
     "exception": false,
     "start_time": "2022-11-27T06:10:56.710427",
     "status": "completed"
    },
    "tags": []
   },
   "outputs": [
    {
     "data": {
      "text/plain": [
       "array(['House', 'Upper Portion', 'Flat', 'Lower Portion', 'Farm House',\n",
       "       'Penthouse'], dtype=object)"
      ]
     },
     "execution_count": 51,
     "metadata": {},
     "output_type": "execute_result"
    }
   ],
   "source": [
    "df2.property_type.unique()"
   ]
  },
  {
   "cell_type": "code",
   "execution_count": 52,
   "id": "b9c70286",
   "metadata": {
    "execution": {
     "iopub.execute_input": "2022-11-27T06:10:56.808658Z",
     "iopub.status.busy": "2022-11-27T06:10:56.807979Z",
     "iopub.status.idle": "2022-11-27T06:10:56.814183Z",
     "shell.execute_reply": "2022-11-27T06:10:56.813428Z"
    },
    "papermill": {
     "duration": 0.038204,
     "end_time": "2022-11-27T06:10:56.816304",
     "exception": false,
     "start_time": "2022-11-27T06:10:56.778100",
     "status": "completed"
    },
    "tags": []
   },
   "outputs": [],
   "source": [
    "# property_type - Column\n",
    "\n",
    "dummies=pd.get_dummies(df2['property_type'],drop_first=True)"
   ]
  },
  {
   "cell_type": "code",
   "execution_count": 53,
   "id": "0f3d45a9",
   "metadata": {
    "execution": {
     "iopub.execute_input": "2022-11-27T06:10:56.875344Z",
     "iopub.status.busy": "2022-11-27T06:10:56.874713Z",
     "iopub.status.idle": "2022-11-27T06:10:56.887363Z",
     "shell.execute_reply": "2022-11-27T06:10:56.886274Z"
    },
    "papermill": {
     "duration": 0.044527,
     "end_time": "2022-11-27T06:10:56.889526",
     "exception": false,
     "start_time": "2022-11-27T06:10:56.844999",
     "status": "completed"
    },
    "tags": []
   },
   "outputs": [
    {
     "data": {
      "text/html": [
       "<div>\n",
       "<style scoped>\n",
       "    .dataframe tbody tr th:only-of-type {\n",
       "        vertical-align: middle;\n",
       "    }\n",
       "\n",
       "    .dataframe tbody tr th {\n",
       "        vertical-align: top;\n",
       "    }\n",
       "\n",
       "    .dataframe thead th {\n",
       "        text-align: right;\n",
       "    }\n",
       "</style>\n",
       "<table border=\"1\" class=\"dataframe\">\n",
       "  <thead>\n",
       "    <tr style=\"text-align: right;\">\n",
       "      <th></th>\n",
       "      <th>Flat</th>\n",
       "      <th>House</th>\n",
       "      <th>Lower Portion</th>\n",
       "      <th>Penthouse</th>\n",
       "      <th>Upper Portion</th>\n",
       "    </tr>\n",
       "  </thead>\n",
       "  <tbody>\n",
       "    <tr>\n",
       "      <th>78203</th>\n",
       "      <td>0</td>\n",
       "      <td>1</td>\n",
       "      <td>0</td>\n",
       "      <td>0</td>\n",
       "      <td>0</td>\n",
       "    </tr>\n",
       "    <tr>\n",
       "      <th>76853</th>\n",
       "      <td>0</td>\n",
       "      <td>1</td>\n",
       "      <td>0</td>\n",
       "      <td>0</td>\n",
       "      <td>0</td>\n",
       "    </tr>\n",
       "    <tr>\n",
       "      <th>29337</th>\n",
       "      <td>0</td>\n",
       "      <td>1</td>\n",
       "      <td>0</td>\n",
       "      <td>0</td>\n",
       "      <td>0</td>\n",
       "    </tr>\n",
       "    <tr>\n",
       "      <th>105812</th>\n",
       "      <td>0</td>\n",
       "      <td>1</td>\n",
       "      <td>0</td>\n",
       "      <td>0</td>\n",
       "      <td>0</td>\n",
       "    </tr>\n",
       "    <tr>\n",
       "      <th>113340</th>\n",
       "      <td>0</td>\n",
       "      <td>1</td>\n",
       "      <td>0</td>\n",
       "      <td>0</td>\n",
       "      <td>0</td>\n",
       "    </tr>\n",
       "    <tr>\n",
       "      <th>...</th>\n",
       "      <td>...</td>\n",
       "      <td>...</td>\n",
       "      <td>...</td>\n",
       "      <td>...</td>\n",
       "      <td>...</td>\n",
       "    </tr>\n",
       "    <tr>\n",
       "      <th>130960</th>\n",
       "      <td>0</td>\n",
       "      <td>1</td>\n",
       "      <td>0</td>\n",
       "      <td>0</td>\n",
       "      <td>0</td>\n",
       "    </tr>\n",
       "    <tr>\n",
       "      <th>58227</th>\n",
       "      <td>0</td>\n",
       "      <td>1</td>\n",
       "      <td>0</td>\n",
       "      <td>0</td>\n",
       "      <td>0</td>\n",
       "    </tr>\n",
       "    <tr>\n",
       "      <th>133912</th>\n",
       "      <td>0</td>\n",
       "      <td>1</td>\n",
       "      <td>0</td>\n",
       "      <td>0</td>\n",
       "      <td>0</td>\n",
       "    </tr>\n",
       "    <tr>\n",
       "      <th>110443</th>\n",
       "      <td>0</td>\n",
       "      <td>0</td>\n",
       "      <td>0</td>\n",
       "      <td>0</td>\n",
       "      <td>1</td>\n",
       "    </tr>\n",
       "    <tr>\n",
       "      <th>133326</th>\n",
       "      <td>0</td>\n",
       "      <td>1</td>\n",
       "      <td>0</td>\n",
       "      <td>0</td>\n",
       "      <td>0</td>\n",
       "    </tr>\n",
       "  </tbody>\n",
       "</table>\n",
       "<p>2995 rows × 5 columns</p>\n",
       "</div>"
      ],
      "text/plain": [
       "        Flat  House  Lower Portion  Penthouse  Upper Portion\n",
       "78203      0      1              0          0              0\n",
       "76853      0      1              0          0              0\n",
       "29337      0      1              0          0              0\n",
       "105812     0      1              0          0              0\n",
       "113340     0      1              0          0              0\n",
       "...      ...    ...            ...        ...            ...\n",
       "130960     0      1              0          0              0\n",
       "58227      0      1              0          0              0\n",
       "133912     0      1              0          0              0\n",
       "110443     0      0              0          0              1\n",
       "133326     0      1              0          0              0\n",
       "\n",
       "[2995 rows x 5 columns]"
      ]
     },
     "execution_count": 53,
     "metadata": {},
     "output_type": "execute_result"
    }
   ],
   "source": [
    "dummies"
   ]
  },
  {
   "cell_type": "code",
   "execution_count": 54,
   "id": "48b6208e",
   "metadata": {
    "execution": {
     "iopub.execute_input": "2022-11-27T06:10:56.949273Z",
     "iopub.status.busy": "2022-11-27T06:10:56.948225Z",
     "iopub.status.idle": "2022-11-27T06:10:56.964231Z",
     "shell.execute_reply": "2022-11-27T06:10:56.963068Z"
    },
    "papermill": {
     "duration": 0.048094,
     "end_time": "2022-11-27T06:10:56.966414",
     "exception": false,
     "start_time": "2022-11-27T06:10:56.918320",
     "status": "completed"
    },
    "tags": []
   },
   "outputs": [
    {
     "data": {
      "text/html": [
       "<div>\n",
       "<style scoped>\n",
       "    .dataframe tbody tr th:only-of-type {\n",
       "        vertical-align: middle;\n",
       "    }\n",
       "\n",
       "    .dataframe tbody tr th {\n",
       "        vertical-align: top;\n",
       "    }\n",
       "\n",
       "    .dataframe thead th {\n",
       "        text-align: right;\n",
       "    }\n",
       "</style>\n",
       "<table border=\"1\" class=\"dataframe\">\n",
       "  <thead>\n",
       "    <tr style=\"text-align: right;\">\n",
       "      <th></th>\n",
       "      <th>property_type</th>\n",
       "      <th>price</th>\n",
       "      <th>city</th>\n",
       "      <th>province_name</th>\n",
       "      <th>baths</th>\n",
       "      <th>bedrooms</th>\n",
       "      <th>Total_Area</th>\n",
       "      <th>Flat</th>\n",
       "      <th>House</th>\n",
       "      <th>Lower Portion</th>\n",
       "      <th>Penthouse</th>\n",
       "      <th>Upper Portion</th>\n",
       "    </tr>\n",
       "  </thead>\n",
       "  <tbody>\n",
       "    <tr>\n",
       "      <th>78203</th>\n",
       "      <td>House</td>\n",
       "      <td>8000000</td>\n",
       "      <td>Faisalabad</td>\n",
       "      <td>Punjab</td>\n",
       "      <td>3</td>\n",
       "      <td>3</td>\n",
       "      <td>1361.255</td>\n",
       "      <td>0</td>\n",
       "      <td>1</td>\n",
       "      <td>0</td>\n",
       "      <td>0</td>\n",
       "      <td>0</td>\n",
       "    </tr>\n",
       "    <tr>\n",
       "      <th>76853</th>\n",
       "      <td>House</td>\n",
       "      <td>18500000</td>\n",
       "      <td>Lahore</td>\n",
       "      <td>Punjab</td>\n",
       "      <td>6</td>\n",
       "      <td>5</td>\n",
       "      <td>2722.510</td>\n",
       "      <td>0</td>\n",
       "      <td>1</td>\n",
       "      <td>0</td>\n",
       "      <td>0</td>\n",
       "      <td>0</td>\n",
       "    </tr>\n",
       "  </tbody>\n",
       "</table>\n",
       "</div>"
      ],
      "text/plain": [
       "      property_type     price        city province_name  baths  bedrooms  \\\n",
       "78203         House   8000000  Faisalabad        Punjab      3         3   \n",
       "76853         House  18500000      Lahore        Punjab      6         5   \n",
       "\n",
       "       Total_Area  Flat  House  Lower Portion  Penthouse  Upper Portion  \n",
       "78203    1361.255     0      1              0          0              0  \n",
       "76853    2722.510     0      1              0          0              0  "
      ]
     },
     "execution_count": 54,
     "metadata": {},
     "output_type": "execute_result"
    }
   ],
   "source": [
    "df=pd.concat([df2,dummies],axis=1)\n",
    "df.head(2)"
   ]
  },
  {
   "cell_type": "code",
   "execution_count": 55,
   "id": "e7246b74",
   "metadata": {
    "execution": {
     "iopub.execute_input": "2022-11-27T06:10:57.028279Z",
     "iopub.status.busy": "2022-11-27T06:10:57.027569Z",
     "iopub.status.idle": "2022-11-27T06:10:57.034576Z",
     "shell.execute_reply": "2022-11-27T06:10:57.033653Z"
    },
    "papermill": {
     "duration": 0.039986,
     "end_time": "2022-11-27T06:10:57.036932",
     "exception": false,
     "start_time": "2022-11-27T06:10:56.996946",
     "status": "completed"
    },
    "tags": []
   },
   "outputs": [
    {
     "data": {
      "text/plain": [
       "Index(['property_type', 'price', 'city', 'province_name', 'baths', 'bedrooms',\n",
       "       'Total_Area', 'Flat', 'House', 'Lower Portion', 'Penthouse',\n",
       "       'Upper Portion'],\n",
       "      dtype='object')"
      ]
     },
     "execution_count": 55,
     "metadata": {},
     "output_type": "execute_result"
    }
   ],
   "source": [
    "df.columns"
   ]
  },
  {
   "cell_type": "code",
   "execution_count": 56,
   "id": "86864112",
   "metadata": {
    "execution": {
     "iopub.execute_input": "2022-11-27T06:10:57.098724Z",
     "iopub.status.busy": "2022-11-27T06:10:57.098264Z",
     "iopub.status.idle": "2022-11-27T06:10:57.105506Z",
     "shell.execute_reply": "2022-11-27T06:10:57.104359Z"
    },
    "papermill": {
     "duration": 0.040629,
     "end_time": "2022-11-27T06:10:57.107997",
     "exception": false,
     "start_time": "2022-11-27T06:10:57.067368",
     "status": "completed"
    },
    "tags": []
   },
   "outputs": [],
   "source": [
    "# City - Column\n",
    "\n",
    "dummies = pd.get_dummies(df['city'],drop_first=True)"
   ]
  },
  {
   "cell_type": "code",
   "execution_count": 57,
   "id": "16777cd2",
   "metadata": {
    "execution": {
     "iopub.execute_input": "2022-11-27T06:10:57.169449Z",
     "iopub.status.busy": "2022-11-27T06:10:57.168253Z",
     "iopub.status.idle": "2022-11-27T06:10:57.177471Z",
     "shell.execute_reply": "2022-11-27T06:10:57.176636Z"
    },
    "papermill": {
     "duration": 0.041913,
     "end_time": "2022-11-27T06:10:57.179670",
     "exception": false,
     "start_time": "2022-11-27T06:10:57.137757",
     "status": "completed"
    },
    "tags": []
   },
   "outputs": [
    {
     "data": {
      "text/plain": [
       "Index(['property_type', 'price', 'city', 'province_name', 'baths', 'bedrooms',\n",
       "       'Total_Area', 'Flat', 'House', 'Lower Portion', 'Penthouse',\n",
       "       'Upper Portion', 'Islamabad', 'Karachi', 'Lahore', 'Rawalpindi'],\n",
       "      dtype='object')"
      ]
     },
     "execution_count": 57,
     "metadata": {},
     "output_type": "execute_result"
    }
   ],
   "source": [
    "df = pd.concat([df, dummies], axis = 1)\n",
    "df.columns"
   ]
  },
  {
   "cell_type": "code",
   "execution_count": 58,
   "id": "01a0faeb",
   "metadata": {
    "execution": {
     "iopub.execute_input": "2022-11-27T06:10:57.240916Z",
     "iopub.status.busy": "2022-11-27T06:10:57.240494Z",
     "iopub.status.idle": "2022-11-27T06:10:57.246141Z",
     "shell.execute_reply": "2022-11-27T06:10:57.245407Z"
    },
    "papermill": {
     "duration": 0.039034,
     "end_time": "2022-11-27T06:10:57.248096",
     "exception": false,
     "start_time": "2022-11-27T06:10:57.209062",
     "status": "completed"
    },
    "tags": []
   },
   "outputs": [],
   "source": [
    "# province_name - Column\n",
    "\n",
    "dummies = pd.get_dummies(df['province_name'],drop_first=True)"
   ]
  },
  {
   "cell_type": "code",
   "execution_count": 59,
   "id": "4d150c1b",
   "metadata": {
    "execution": {
     "iopub.execute_input": "2022-11-27T06:10:57.308385Z",
     "iopub.status.busy": "2022-11-27T06:10:57.307687Z",
     "iopub.status.idle": "2022-11-27T06:10:57.315133Z",
     "shell.execute_reply": "2022-11-27T06:10:57.314394Z"
    },
    "papermill": {
     "duration": 0.039707,
     "end_time": "2022-11-27T06:10:57.316994",
     "exception": false,
     "start_time": "2022-11-27T06:10:57.277287",
     "status": "completed"
    },
    "tags": []
   },
   "outputs": [
    {
     "data": {
      "text/plain": [
       "Index(['property_type', 'price', 'city', 'province_name', 'baths', 'bedrooms',\n",
       "       'Total_Area', 'Flat', 'House', 'Lower Portion', 'Penthouse',\n",
       "       'Upper Portion', 'Islamabad', 'Karachi', 'Lahore', 'Rawalpindi',\n",
       "       'Punjab', 'Sindh'],\n",
       "      dtype='object')"
      ]
     },
     "execution_count": 59,
     "metadata": {},
     "output_type": "execute_result"
    }
   ],
   "source": [
    "df = pd.concat([df, dummies], axis = 1)\n",
    "df.columns"
   ]
  },
  {
   "cell_type": "code",
   "execution_count": 60,
   "id": "2dd7d729",
   "metadata": {
    "execution": {
     "iopub.execute_input": "2022-11-27T06:10:57.377686Z",
     "iopub.status.busy": "2022-11-27T06:10:57.376972Z",
     "iopub.status.idle": "2022-11-27T06:10:57.391946Z",
     "shell.execute_reply": "2022-11-27T06:10:57.390983Z"
    },
    "papermill": {
     "duration": 0.047915,
     "end_time": "2022-11-27T06:10:57.394189",
     "exception": false,
     "start_time": "2022-11-27T06:10:57.346274",
     "status": "completed"
    },
    "tags": []
   },
   "outputs": [
    {
     "data": {
      "text/html": [
       "<div>\n",
       "<style scoped>\n",
       "    .dataframe tbody tr th:only-of-type {\n",
       "        vertical-align: middle;\n",
       "    }\n",
       "\n",
       "    .dataframe tbody tr th {\n",
       "        vertical-align: top;\n",
       "    }\n",
       "\n",
       "    .dataframe thead th {\n",
       "        text-align: right;\n",
       "    }\n",
       "</style>\n",
       "<table border=\"1\" class=\"dataframe\">\n",
       "  <thead>\n",
       "    <tr style=\"text-align: right;\">\n",
       "      <th></th>\n",
       "      <th>property_type</th>\n",
       "      <th>price</th>\n",
       "      <th>city</th>\n",
       "      <th>province_name</th>\n",
       "      <th>baths</th>\n",
       "      <th>bedrooms</th>\n",
       "      <th>Total_Area</th>\n",
       "      <th>Flat</th>\n",
       "      <th>House</th>\n",
       "      <th>Lower Portion</th>\n",
       "      <th>Penthouse</th>\n",
       "      <th>Upper Portion</th>\n",
       "      <th>Islamabad</th>\n",
       "      <th>Karachi</th>\n",
       "      <th>Lahore</th>\n",
       "      <th>Rawalpindi</th>\n",
       "      <th>Punjab</th>\n",
       "      <th>Sindh</th>\n",
       "    </tr>\n",
       "  </thead>\n",
       "  <tbody>\n",
       "    <tr>\n",
       "      <th>78203</th>\n",
       "      <td>House</td>\n",
       "      <td>8000000</td>\n",
       "      <td>Faisalabad</td>\n",
       "      <td>Punjab</td>\n",
       "      <td>3</td>\n",
       "      <td>3</td>\n",
       "      <td>1361.255</td>\n",
       "      <td>0</td>\n",
       "      <td>1</td>\n",
       "      <td>0</td>\n",
       "      <td>0</td>\n",
       "      <td>0</td>\n",
       "      <td>0</td>\n",
       "      <td>0</td>\n",
       "      <td>0</td>\n",
       "      <td>0</td>\n",
       "      <td>1</td>\n",
       "      <td>0</td>\n",
       "    </tr>\n",
       "    <tr>\n",
       "      <th>76853</th>\n",
       "      <td>House</td>\n",
       "      <td>18500000</td>\n",
       "      <td>Lahore</td>\n",
       "      <td>Punjab</td>\n",
       "      <td>6</td>\n",
       "      <td>5</td>\n",
       "      <td>2722.510</td>\n",
       "      <td>0</td>\n",
       "      <td>1</td>\n",
       "      <td>0</td>\n",
       "      <td>0</td>\n",
       "      <td>0</td>\n",
       "      <td>0</td>\n",
       "      <td>0</td>\n",
       "      <td>1</td>\n",
       "      <td>0</td>\n",
       "      <td>1</td>\n",
       "      <td>0</td>\n",
       "    </tr>\n",
       "  </tbody>\n",
       "</table>\n",
       "</div>"
      ],
      "text/plain": [
       "      property_type     price        city province_name  baths  bedrooms  \\\n",
       "78203         House   8000000  Faisalabad        Punjab      3         3   \n",
       "76853         House  18500000      Lahore        Punjab      6         5   \n",
       "\n",
       "       Total_Area  Flat  House  Lower Portion  Penthouse  Upper Portion  \\\n",
       "78203    1361.255     0      1              0          0              0   \n",
       "76853    2722.510     0      1              0          0              0   \n",
       "\n",
       "       Islamabad  Karachi  Lahore  Rawalpindi  Punjab  Sindh  \n",
       "78203          0        0       0           0       1      0  \n",
       "76853          0        0       1           0       1      0  "
      ]
     },
     "execution_count": 60,
     "metadata": {},
     "output_type": "execute_result"
    }
   ],
   "source": [
    "df.head(2)"
   ]
  },
  {
   "cell_type": "code",
   "execution_count": 61,
   "id": "aa5a5ff8",
   "metadata": {
    "execution": {
     "iopub.execute_input": "2022-11-27T06:10:57.455571Z",
     "iopub.status.busy": "2022-11-27T06:10:57.454866Z",
     "iopub.status.idle": "2022-11-27T06:10:57.470148Z",
     "shell.execute_reply": "2022-11-27T06:10:57.469401Z"
    },
    "papermill": {
     "duration": 0.048289,
     "end_time": "2022-11-27T06:10:57.472200",
     "exception": false,
     "start_time": "2022-11-27T06:10:57.423911",
     "status": "completed"
    },
    "tags": []
   },
   "outputs": [
    {
     "data": {
      "text/html": [
       "<div>\n",
       "<style scoped>\n",
       "    .dataframe tbody tr th:only-of-type {\n",
       "        vertical-align: middle;\n",
       "    }\n",
       "\n",
       "    .dataframe tbody tr th {\n",
       "        vertical-align: top;\n",
       "    }\n",
       "\n",
       "    .dataframe thead th {\n",
       "        text-align: right;\n",
       "    }\n",
       "</style>\n",
       "<table border=\"1\" class=\"dataframe\">\n",
       "  <thead>\n",
       "    <tr style=\"text-align: right;\">\n",
       "      <th></th>\n",
       "      <th>price</th>\n",
       "      <th>baths</th>\n",
       "      <th>bedrooms</th>\n",
       "      <th>Total_Area</th>\n",
       "      <th>Flat</th>\n",
       "      <th>House</th>\n",
       "      <th>Lower Portion</th>\n",
       "      <th>Penthouse</th>\n",
       "      <th>Upper Portion</th>\n",
       "      <th>Islamabad</th>\n",
       "      <th>Karachi</th>\n",
       "      <th>Lahore</th>\n",
       "      <th>Rawalpindi</th>\n",
       "      <th>Punjab</th>\n",
       "      <th>Sindh</th>\n",
       "    </tr>\n",
       "  </thead>\n",
       "  <tbody>\n",
       "    <tr>\n",
       "      <th>78203</th>\n",
       "      <td>8000000</td>\n",
       "      <td>3</td>\n",
       "      <td>3</td>\n",
       "      <td>1361.255</td>\n",
       "      <td>0</td>\n",
       "      <td>1</td>\n",
       "      <td>0</td>\n",
       "      <td>0</td>\n",
       "      <td>0</td>\n",
       "      <td>0</td>\n",
       "      <td>0</td>\n",
       "      <td>0</td>\n",
       "      <td>0</td>\n",
       "      <td>1</td>\n",
       "      <td>0</td>\n",
       "    </tr>\n",
       "    <tr>\n",
       "      <th>76853</th>\n",
       "      <td>18500000</td>\n",
       "      <td>6</td>\n",
       "      <td>5</td>\n",
       "      <td>2722.510</td>\n",
       "      <td>0</td>\n",
       "      <td>1</td>\n",
       "      <td>0</td>\n",
       "      <td>0</td>\n",
       "      <td>0</td>\n",
       "      <td>0</td>\n",
       "      <td>0</td>\n",
       "      <td>1</td>\n",
       "      <td>0</td>\n",
       "      <td>1</td>\n",
       "      <td>0</td>\n",
       "    </tr>\n",
       "  </tbody>\n",
       "</table>\n",
       "</div>"
      ],
      "text/plain": [
       "          price  baths  bedrooms  Total_Area  Flat  House  Lower Portion  \\\n",
       "78203   8000000      3         3    1361.255     0      1              0   \n",
       "76853  18500000      6         5    2722.510     0      1              0   \n",
       "\n",
       "       Penthouse  Upper Portion  Islamabad  Karachi  Lahore  Rawalpindi  \\\n",
       "78203          0              0          0        0       0           0   \n",
       "76853          0              0          0        0       1           0   \n",
       "\n",
       "       Punjab  Sindh  \n",
       "78203       1      0  \n",
       "76853       1      0  "
      ]
     },
     "execution_count": 61,
     "metadata": {},
     "output_type": "execute_result"
    }
   ],
   "source": [
    "df.drop(['property_type','city','province_name'], axis = 1, inplace = True)\n",
    "df.head(2)"
   ]
  },
  {
   "cell_type": "markdown",
   "id": "de40d617",
   "metadata": {
    "papermill": {
     "duration": 0.029538,
     "end_time": "2022-11-27T06:10:57.531742",
     "exception": false,
     "start_time": "2022-11-27T06:10:57.502204",
     "status": "completed"
    },
    "tags": []
   },
   "source": [
    "## Model Training "
   ]
  },
  {
   "cell_type": "code",
   "execution_count": 62,
   "id": "674de0b4",
   "metadata": {
    "execution": {
     "iopub.execute_input": "2022-11-27T06:10:57.594176Z",
     "iopub.status.busy": "2022-11-27T06:10:57.593473Z",
     "iopub.status.idle": "2022-11-27T06:10:57.598967Z",
     "shell.execute_reply": "2022-11-27T06:10:57.598223Z"
    },
    "papermill": {
     "duration": 0.039152,
     "end_time": "2022-11-27T06:10:57.600923",
     "exception": false,
     "start_time": "2022-11-27T06:10:57.561771",
     "status": "completed"
    },
    "tags": []
   },
   "outputs": [],
   "source": [
    "X = df.drop(['price'],axis =1)\n",
    "y = df['price']"
   ]
  },
  {
   "cell_type": "code",
   "execution_count": 63,
   "id": "80d38a41",
   "metadata": {
    "execution": {
     "iopub.execute_input": "2022-11-27T06:10:57.662720Z",
     "iopub.status.busy": "2022-11-27T06:10:57.662012Z",
     "iopub.status.idle": "2022-11-27T06:10:57.841164Z",
     "shell.execute_reply": "2022-11-27T06:10:57.840239Z"
    },
    "papermill": {
     "duration": 0.213177,
     "end_time": "2022-11-27T06:10:57.843838",
     "exception": false,
     "start_time": "2022-11-27T06:10:57.630661",
     "status": "completed"
    },
    "tags": []
   },
   "outputs": [],
   "source": [
    "from sklearn.model_selection import train_test_split\n",
    "X_train, X_test, y_train, y_test = train_test_split(X,y,test_size=0.2,random_state=10)    #20% data is for evaluation of Model performance"
   ]
  },
  {
   "cell_type": "code",
   "execution_count": 64,
   "id": "308b93b1",
   "metadata": {
    "execution": {
     "iopub.execute_input": "2022-11-27T06:10:57.906487Z",
     "iopub.status.busy": "2022-11-27T06:10:57.905473Z",
     "iopub.status.idle": "2022-11-27T06:10:57.918444Z",
     "shell.execute_reply": "2022-11-27T06:10:57.917350Z"
    },
    "papermill": {
     "duration": 0.047039,
     "end_time": "2022-11-27T06:10:57.920993",
     "exception": false,
     "start_time": "2022-11-27T06:10:57.873954",
     "status": "completed"
    },
    "tags": []
   },
   "outputs": [],
   "source": [
    "from sklearn.preprocessing import StandardScaler\n",
    "scaler=StandardScaler()\n",
    "scaler.fit(X_train)\n",
    "X_train_scaled= scaler.transform(X_train)\n",
    "X_test_scaled = scaler.transform(X_test)"
   ]
  },
  {
   "cell_type": "code",
   "execution_count": 65,
   "id": "c6ea8f60",
   "metadata": {
    "execution": {
     "iopub.execute_input": "2022-11-27T06:10:57.982553Z",
     "iopub.status.busy": "2022-11-27T06:10:57.982138Z",
     "iopub.status.idle": "2022-11-27T06:10:57.987811Z",
     "shell.execute_reply": "2022-11-27T06:10:57.986589Z"
    },
    "papermill": {
     "duration": 0.039016,
     "end_time": "2022-11-27T06:10:57.989889",
     "exception": false,
     "start_time": "2022-11-27T06:10:57.950873",
     "status": "completed"
    },
    "tags": []
   },
   "outputs": [],
   "source": [
    "from sklearn.metrics import mean_squared_error\n",
    "def rmse(y_test, y_pred):\n",
    "  return np.sqrt(mean_squared_error(y_test, y_pred))"
   ]
  },
  {
   "cell_type": "code",
   "execution_count": 66,
   "id": "69b78288",
   "metadata": {
    "execution": {
     "iopub.execute_input": "2022-11-27T06:10:58.052006Z",
     "iopub.status.busy": "2022-11-27T06:10:58.051164Z",
     "iopub.status.idle": "2022-11-27T06:10:58.163565Z",
     "shell.execute_reply": "2022-11-27T06:10:58.161925Z"
    },
    "papermill": {
     "duration": 0.148084,
     "end_time": "2022-11-27T06:10:58.167747",
     "exception": false,
     "start_time": "2022-11-27T06:10:58.019663",
     "status": "completed"
    },
    "tags": []
   },
   "outputs": [
    {
     "data": {
      "text/plain": [
       "0.2928188433439044"
      ]
     },
     "execution_count": 66,
     "metadata": {},
     "output_type": "execute_result"
    }
   ],
   "source": [
    "from sklearn.linear_model import LinearRegression\n",
    "\n",
    "lr = LinearRegression()\n",
    "lr.fit(X_train,y_train)\n",
    "lr.score(X_train,y_train)"
   ]
  },
  {
   "cell_type": "code",
   "execution_count": 67,
   "id": "757b064a",
   "metadata": {
    "execution": {
     "iopub.execute_input": "2022-11-27T06:10:58.306655Z",
     "iopub.status.busy": "2022-11-27T06:10:58.306245Z",
     "iopub.status.idle": "2022-11-27T06:10:58.319908Z",
     "shell.execute_reply": "2022-11-27T06:10:58.318798Z"
    },
    "papermill": {
     "duration": 0.047321,
     "end_time": "2022-11-27T06:10:58.322218",
     "exception": false,
     "start_time": "2022-11-27T06:10:58.274897",
     "status": "completed"
    },
    "tags": []
   },
   "outputs": [
    {
     "data": {
      "text/plain": [
       "(33968428.528929755, 0.22642908688863528)"
      ]
     },
     "execution_count": 67,
     "metadata": {},
     "output_type": "execute_result"
    }
   ],
   "source": [
    "lr_rmse = rmse(y_test, lr.predict(X_test))\n",
    "lr_test=lr.score(X_test, y_test)\n",
    "lr_rmse,lr_test"
   ]
  },
  {
   "cell_type": "code",
   "execution_count": 68,
   "id": "9594566c",
   "metadata": {
    "execution": {
     "iopub.execute_input": "2022-11-27T06:10:58.385172Z",
     "iopub.status.busy": "2022-11-27T06:10:58.384775Z",
     "iopub.status.idle": "2022-11-27T06:10:58.994411Z",
     "shell.execute_reply": "2022-11-27T06:10:58.993073Z"
    },
    "papermill": {
     "duration": 0.644119,
     "end_time": "2022-11-27T06:10:58.997083",
     "exception": false,
     "start_time": "2022-11-27T06:10:58.352964",
     "status": "completed"
    },
    "tags": []
   },
   "outputs": [
    {
     "data": {
      "text/plain": [
       "0.9146112535714459"
      ]
     },
     "execution_count": 68,
     "metadata": {},
     "output_type": "execute_result"
    }
   ],
   "source": [
    "from sklearn.ensemble import RandomForestRegressor\n",
    "rfr = RandomForestRegressor()\n",
    "rfr.fit(X_train,y_train)\n",
    "rfr.score(X_train, y_train)"
   ]
  },
  {
   "cell_type": "code",
   "execution_count": 69,
   "id": "05b6a93a",
   "metadata": {
    "execution": {
     "iopub.execute_input": "2022-11-27T06:10:59.070027Z",
     "iopub.status.busy": "2022-11-27T06:10:59.069148Z",
     "iopub.status.idle": "2022-11-27T06:10:59.141538Z",
     "shell.execute_reply": "2022-11-27T06:10:59.140412Z"
    },
    "papermill": {
     "duration": 0.115865,
     "end_time": "2022-11-27T06:10:59.143964",
     "exception": false,
     "start_time": "2022-11-27T06:10:59.028099",
     "status": "completed"
    },
    "tags": []
   },
   "outputs": [
    {
     "data": {
      "text/plain": [
       "(0.6494946963501976, 22865077.979625985)"
      ]
     },
     "execution_count": 69,
     "metadata": {},
     "output_type": "execute_result"
    }
   ],
   "source": [
    "rfr_rmse = rmse(y_test, rfr.predict(X_test))\n",
    "rfr_score=rfr.score(X_test,y_test)\n",
    "rfr_score, rfr_rmse"
   ]
  },
  {
   "cell_type": "code",
   "execution_count": 70,
   "id": "f22362cb",
   "metadata": {
    "execution": {
     "iopub.execute_input": "2022-11-27T06:10:59.207582Z",
     "iopub.status.busy": "2022-11-27T06:10:59.206968Z",
     "iopub.status.idle": "2022-11-27T06:11:11.449263Z",
     "shell.execute_reply": "2022-11-27T06:11:11.447766Z"
    },
    "papermill": {
     "duration": 12.277093,
     "end_time": "2022-11-27T06:11:11.452180",
     "exception": false,
     "start_time": "2022-11-27T06:10:59.175087",
     "status": "completed"
    },
    "tags": []
   },
   "outputs": [
    {
     "name": "stdout",
     "output_type": "stream",
     "text": [
      "Requirement already satisfied: xgboost in /opt/conda/lib/python3.7/site-packages (1.6.2)\r\n",
      "Requirement already satisfied: scipy in /opt/conda/lib/python3.7/site-packages (from xgboost) (1.7.3)\r\n",
      "Requirement already satisfied: numpy in /opt/conda/lib/python3.7/site-packages (from xgboost) (1.21.6)\r\n",
      "\u001b[33mWARNING: Running pip as the 'root' user can result in broken permissions and conflicting behaviour with the system package manager. It is recommended to use a virtual environment instead: https://pip.pypa.io/warnings/venv\u001b[0m\u001b[33m\r\n",
      "\u001b[0m"
     ]
    }
   ],
   "source": [
    "!pip install xgboost"
   ]
  },
  {
   "cell_type": "code",
   "execution_count": 71,
   "id": "1ea4d71e",
   "metadata": {
    "execution": {
     "iopub.execute_input": "2022-11-27T06:11:11.515148Z",
     "iopub.status.busy": "2022-11-27T06:11:11.514702Z",
     "iopub.status.idle": "2022-11-27T06:11:11.617006Z",
     "shell.execute_reply": "2022-11-27T06:11:11.615954Z"
    },
    "papermill": {
     "duration": 0.137425,
     "end_time": "2022-11-27T06:11:11.619939",
     "exception": false,
     "start_time": "2022-11-27T06:11:11.482514",
     "status": "completed"
    },
    "tags": []
   },
   "outputs": [],
   "source": [
    "from xgboost import XGBRegressor\n",
    "from sklearn.model_selection import cross_val_score"
   ]
  },
  {
   "cell_type": "code",
   "execution_count": 72,
   "id": "3c5040a4",
   "metadata": {
    "execution": {
     "iopub.execute_input": "2022-11-27T06:11:11.682900Z",
     "iopub.status.busy": "2022-11-27T06:11:11.682202Z",
     "iopub.status.idle": "2022-11-27T06:11:11.686921Z",
     "shell.execute_reply": "2022-11-27T06:11:11.686070Z"
    },
    "papermill": {
     "duration": 0.038501,
     "end_time": "2022-11-27T06:11:11.689159",
     "exception": false,
     "start_time": "2022-11-27T06:11:11.650658",
     "status": "completed"
    },
    "tags": []
   },
   "outputs": [],
   "source": [
    "xgb=XGBRegressor(ets=0.1,gamma=10)"
   ]
  },
  {
   "cell_type": "code",
   "execution_count": 73,
   "id": "8913287c",
   "metadata": {
    "execution": {
     "iopub.execute_input": "2022-11-27T06:11:11.752130Z",
     "iopub.status.busy": "2022-11-27T06:11:11.751770Z",
     "iopub.status.idle": "2022-11-27T06:11:12.171609Z",
     "shell.execute_reply": "2022-11-27T06:11:12.170586Z"
    },
    "papermill": {
     "duration": 0.454572,
     "end_time": "2022-11-27T06:11:12.174358",
     "exception": false,
     "start_time": "2022-11-27T06:11:11.719786",
     "status": "completed"
    },
    "tags": []
   },
   "outputs": [
    {
     "name": "stdout",
     "output_type": "stream",
     "text": [
      "[06:11:11] WARNING: ../src/learner.cc:627: \n",
      "Parameters: { \"ets\" } might not be used.\n",
      "\n",
      "  This could be a false alarm, with some parameters getting used by language bindings but\n",
      "  then being mistakenly passed down to XGBoost core, or some parameter actually being used\n",
      "  but getting flagged wrongly here. Please open an issue if you find any such cases.\n",
      "\n",
      "\n"
     ]
    },
    {
     "data": {
      "text/plain": [
       "0.9449692714616073"
      ]
     },
     "execution_count": 73,
     "metadata": {},
     "output_type": "execute_result"
    }
   ],
   "source": [
    "\n",
    "xgb.fit(X_train,y_train)\n",
    "xgb.score(X_train, y_train)"
   ]
  },
  {
   "cell_type": "code",
   "execution_count": 74,
   "id": "bb306410",
   "metadata": {
    "execution": {
     "iopub.execute_input": "2022-11-27T06:11:12.239462Z",
     "iopub.status.busy": "2022-11-27T06:11:12.239005Z",
     "iopub.status.idle": "2022-11-27T06:11:12.266601Z",
     "shell.execute_reply": "2022-11-27T06:11:12.265760Z"
    },
    "papermill": {
     "duration": 0.06225,
     "end_time": "2022-11-27T06:11:12.269259",
     "exception": false,
     "start_time": "2022-11-27T06:11:12.207009",
     "status": "completed"
    },
    "tags": []
   },
   "outputs": [
    {
     "data": {
      "text/plain": [
       "(0.6316700958943654, 23439259.105594397)"
      ]
     },
     "execution_count": 74,
     "metadata": {},
     "output_type": "execute_result"
    }
   ],
   "source": [
    "\n",
    "xgb_rmse = rmse(y_test, xgb.predict(X_test))\n",
    "xgb_score=xgb.score(X_test,y_test)\n",
    "xgb_score, xgb_rmse"
   ]
  },
  {
   "cell_type": "code",
   "execution_count": 75,
   "id": "2170334b",
   "metadata": {
    "execution": {
     "iopub.execute_input": "2022-11-27T06:11:12.334207Z",
     "iopub.status.busy": "2022-11-27T06:11:12.333116Z",
     "iopub.status.idle": "2022-11-27T06:11:16.206617Z",
     "shell.execute_reply": "2022-11-27T06:11:16.204908Z"
    },
    "papermill": {
     "duration": 3.909348,
     "end_time": "2022-11-27T06:11:16.210504",
     "exception": false,
     "start_time": "2022-11-27T06:11:12.301156",
     "status": "completed"
    },
    "tags": []
   },
   "outputs": [
    {
     "name": "stdout",
     "output_type": "stream",
     "text": [
      "[06:11:12] WARNING: ../src/learner.cc:627: \n",
      "Parameters: { \"ets\" } might not be used.\n",
      "\n",
      "  This could be a false alarm, with some parameters getting used by language bindings but\n",
      "  then being mistakenly passed down to XGBoost core, or some parameter actually being used\n",
      "  but getting flagged wrongly here. Please open an issue if you find any such cases.\n",
      "\n",
      "\n",
      "[06:11:12] WARNING: ../src/learner.cc:627: \n",
      "Parameters: { \"ets\" } might not be used.\n",
      "\n",
      "  This could be a false alarm, with some parameters getting used by language bindings but\n",
      "  then being mistakenly passed down to XGBoost core, or some parameter actually being used\n",
      "  but getting flagged wrongly here. Please open an issue if you find any such cases.\n",
      "\n",
      "\n",
      "[06:11:13] WARNING: ../src/learner.cc:627: \n",
      "Parameters: { \"ets\" } might not be used.\n",
      "\n",
      "  This could be a false alarm, with some parameters getting used by language bindings but\n",
      "  then being mistakenly passed down to XGBoost core, or some parameter actually being used\n",
      "  but getting flagged wrongly here. Please open an issue if you find any such cases.\n",
      "\n",
      "\n",
      "[06:11:13] WARNING: ../src/learner.cc:627: \n",
      "Parameters: { \"ets\" } might not be used.\n",
      "\n",
      "  This could be a false alarm, with some parameters getting used by language bindings but\n",
      "  then being mistakenly passed down to XGBoost core, or some parameter actually being used\n",
      "  but getting flagged wrongly here. Please open an issue if you find any such cases.\n",
      "\n",
      "\n",
      "[06:11:13] WARNING: ../src/learner.cc:627: \n",
      "Parameters: { \"ets\" } might not be used.\n",
      "\n",
      "  This could be a false alarm, with some parameters getting used by language bindings but\n",
      "  then being mistakenly passed down to XGBoost core, or some parameter actually being used\n",
      "  but getting flagged wrongly here. Please open an issue if you find any such cases.\n",
      "\n",
      "\n",
      "[06:11:14] WARNING: ../src/learner.cc:627: \n",
      "Parameters: { \"ets\" } might not be used.\n",
      "\n",
      "  This could be a false alarm, with some parameters getting used by language bindings but\n",
      "  then being mistakenly passed down to XGBoost core, or some parameter actually being used\n",
      "  but getting flagged wrongly here. Please open an issue if you find any such cases.\n",
      "\n",
      "\n",
      "[06:11:14] WARNING: ../src/learner.cc:627: \n",
      "Parameters: { \"ets\" } might not be used.\n",
      "\n",
      "  This could be a false alarm, with some parameters getting used by language bindings but\n",
      "  then being mistakenly passed down to XGBoost core, or some parameter actually being used\n",
      "  but getting flagged wrongly here. Please open an issue if you find any such cases.\n",
      "\n",
      "\n",
      "[06:11:15] WARNING: ../src/learner.cc:627: \n",
      "Parameters: { \"ets\" } might not be used.\n",
      "\n",
      "  This could be a false alarm, with some parameters getting used by language bindings but\n",
      "  then being mistakenly passed down to XGBoost core, or some parameter actually being used\n",
      "  but getting flagged wrongly here. Please open an issue if you find any such cases.\n",
      "\n",
      "\n",
      "[06:11:15] WARNING: ../src/learner.cc:627: \n",
      "Parameters: { \"ets\" } might not be used.\n",
      "\n",
      "  This could be a false alarm, with some parameters getting used by language bindings but\n",
      "  then being mistakenly passed down to XGBoost core, or some parameter actually being used\n",
      "  but getting flagged wrongly here. Please open an issue if you find any such cases.\n",
      "\n",
      "\n",
      "[06:11:15] WARNING: ../src/learner.cc:627: \n",
      "Parameters: { \"ets\" } might not be used.\n",
      "\n",
      "  This could be a false alarm, with some parameters getting used by language bindings but\n",
      "  then being mistakenly passed down to XGBoost core, or some parameter actually being used\n",
      "  but getting flagged wrongly here. Please open an issue if you find any such cases.\n",
      "\n",
      "\n",
      "XGBoost 0.5895389208981902\n"
     ]
    }
   ],
   "source": [
    "print('XGBoost',np.mean(cross_val_score(xgb,X_train,y_train,cv=10)))"
   ]
  },
  {
   "cell_type": "markdown",
   "id": "f643dfdf",
   "metadata": {
    "papermill": {
     "duration": 0.031335,
     "end_time": "2022-11-27T06:11:16.276166",
     "exception": false,
     "start_time": "2022-11-27T06:11:16.244831",
     "status": "completed"
    },
    "tags": []
   },
   "source": [
    "#### Automatically Select Best Model"
   ]
  },
  {
   "cell_type": "code",
   "execution_count": 76,
   "id": "7440fbb3",
   "metadata": {
    "execution": {
     "iopub.execute_input": "2022-11-27T06:11:16.341349Z",
     "iopub.status.busy": "2022-11-27T06:11:16.340953Z",
     "iopub.status.idle": "2022-11-27T06:11:27.693555Z",
     "shell.execute_reply": "2022-11-27T06:11:27.692368Z"
    },
    "papermill": {
     "duration": 11.388403,
     "end_time": "2022-11-27T06:11:27.696351",
     "exception": false,
     "start_time": "2022-11-27T06:11:16.307948",
     "status": "completed"
    },
    "tags": []
   },
   "outputs": [
    {
     "name": "stdout",
     "output_type": "stream",
     "text": [
      "Collecting flaml\r\n",
      "  Downloading FLAML-1.0.14-py3-none-any.whl (208 kB)\r\n",
      "\u001b[2K     \u001b[90m━━━━━━━━━━━━━━━━━━━━━━━━━━━━━━━━━━━━━━━\u001b[0m \u001b[32m208.6/208.6 kB\u001b[0m \u001b[31m5.2 MB/s\u001b[0m eta \u001b[36m0:00:00\u001b[0m\r\n",
      "\u001b[?25hRequirement already satisfied: NumPy>=1.17.0rc1 in /opt/conda/lib/python3.7/site-packages (from flaml) (1.21.6)\r\n",
      "Requirement already satisfied: pandas>=1.1.4 in /opt/conda/lib/python3.7/site-packages (from flaml) (1.3.5)\r\n",
      "Requirement already satisfied: lightgbm>=2.3.1 in /opt/conda/lib/python3.7/site-packages (from flaml) (3.3.2)\r\n",
      "Requirement already satisfied: scikit-learn>=0.24 in /opt/conda/lib/python3.7/site-packages (from flaml) (1.0.2)\r\n",
      "Requirement already satisfied: scipy>=1.4.1 in /opt/conda/lib/python3.7/site-packages (from flaml) (1.7.3)\r\n",
      "Requirement already satisfied: xgboost>=0.90 in /opt/conda/lib/python3.7/site-packages (from flaml) (1.6.2)\r\n",
      "Requirement already satisfied: wheel in /opt/conda/lib/python3.7/site-packages (from lightgbm>=2.3.1->flaml) (0.37.1)\r\n",
      "Requirement already satisfied: python-dateutil>=2.7.3 in /opt/conda/lib/python3.7/site-packages (from pandas>=1.1.4->flaml) (2.8.2)\r\n",
      "Requirement already satisfied: pytz>=2017.3 in /opt/conda/lib/python3.7/site-packages (from pandas>=1.1.4->flaml) (2022.1)\r\n",
      "Requirement already satisfied: joblib>=0.11 in /opt/conda/lib/python3.7/site-packages (from scikit-learn>=0.24->flaml) (1.0.1)\r\n",
      "Requirement already satisfied: threadpoolctl>=2.0.0 in /opt/conda/lib/python3.7/site-packages (from scikit-learn>=0.24->flaml) (3.1.0)\r\n",
      "Requirement already satisfied: six>=1.5 in /opt/conda/lib/python3.7/site-packages (from python-dateutil>=2.7.3->pandas>=1.1.4->flaml) (1.15.0)\r\n",
      "Installing collected packages: flaml\r\n",
      "Successfully installed flaml-1.0.14\r\n",
      "\u001b[33mWARNING: Running pip as the 'root' user can result in broken permissions and conflicting behaviour with the system package manager. It is recommended to use a virtual environment instead: https://pip.pypa.io/warnings/venv\u001b[0m\u001b[33m\r\n",
      "\u001b[0m"
     ]
    }
   ],
   "source": [
    "!pip install flaml"
   ]
  },
  {
   "cell_type": "code",
   "execution_count": 77,
   "id": "ee43a16b",
   "metadata": {
    "execution": {
     "iopub.execute_input": "2022-11-27T06:11:27.763901Z",
     "iopub.status.busy": "2022-11-27T06:11:27.762673Z",
     "iopub.status.idle": "2022-11-27T06:11:29.656357Z",
     "shell.execute_reply": "2022-11-27T06:11:29.655389Z"
    },
    "papermill": {
     "duration": 1.930188,
     "end_time": "2022-11-27T06:11:29.658992",
     "exception": false,
     "start_time": "2022-11-27T06:11:27.728804",
     "status": "completed"
    },
    "tags": []
   },
   "outputs": [
    {
     "data": {
      "text/html": [
       "<style type='text/css'>\n",
       ".datatable table.frame { margin-bottom: 0; }\n",
       ".datatable table.frame thead { border-bottom: none; }\n",
       ".datatable table.frame tr.coltypes td {  color: #FFFFFF;  line-height: 6px;  padding: 0 0.5em;}\n",
       ".datatable .bool    { background: #DDDD99; }\n",
       ".datatable .object  { background: #565656; }\n",
       ".datatable .int     { background: #5D9E5D; }\n",
       ".datatable .float   { background: #4040CC; }\n",
       ".datatable .str     { background: #CC4040; }\n",
       ".datatable .time    { background: #40CC40; }\n",
       ".datatable .row_index {  background: var(--jp-border-color3);  border-right: 1px solid var(--jp-border-color0);  color: var(--jp-ui-font-color3);  font-size: 9px;}\n",
       ".datatable .frame tbody td { text-align: left; }\n",
       ".datatable .frame tr.coltypes .row_index {  background: var(--jp-border-color0);}\n",
       ".datatable th:nth-child(2) { padding-left: 12px; }\n",
       ".datatable .hellipsis {  color: var(--jp-cell-editor-border-color);}\n",
       ".datatable .vellipsis {  background: var(--jp-layout-color0);  color: var(--jp-cell-editor-border-color);}\n",
       ".datatable .na {  color: var(--jp-cell-editor-border-color);  font-size: 80%;}\n",
       ".datatable .sp {  opacity: 0.25;}\n",
       ".datatable .footer { font-size: 9px; }\n",
       ".datatable .frame_dimensions {  background: var(--jp-border-color3);  border-top: 1px solid var(--jp-border-color0);  color: var(--jp-ui-font-color3);  display: inline-block;  opacity: 0.6;  padding: 1px 10px 1px 5px;}\n",
       "</style>\n"
      ],
      "text/plain": [
       "<IPython.core.display.HTML object>"
      ]
     },
     "metadata": {},
     "output_type": "display_data"
    }
   ],
   "source": [
    "from flaml import AutoML"
   ]
  },
  {
   "cell_type": "code",
   "execution_count": 78,
   "id": "7aae65fb",
   "metadata": {
    "execution": {
     "iopub.execute_input": "2022-11-27T06:11:29.726548Z",
     "iopub.status.busy": "2022-11-27T06:11:29.726141Z",
     "iopub.status.idle": "2022-11-27T06:11:29.730798Z",
     "shell.execute_reply": "2022-11-27T06:11:29.729585Z"
    },
    "papermill": {
     "duration": 0.040861,
     "end_time": "2022-11-27T06:11:29.732999",
     "exception": false,
     "start_time": "2022-11-27T06:11:29.692138",
     "status": "completed"
    },
    "tags": []
   },
   "outputs": [],
   "source": [
    "#initialize AutoML instance\n",
    "automl=AutoML()"
   ]
  },
  {
   "cell_type": "code",
   "execution_count": 79,
   "id": "5e6188a4",
   "metadata": {
    "execution": {
     "iopub.execute_input": "2022-11-27T06:11:29.799412Z",
     "iopub.status.busy": "2022-11-27T06:11:29.798998Z",
     "iopub.status.idle": "2022-11-27T06:11:40.036373Z",
     "shell.execute_reply": "2022-11-27T06:11:40.035345Z"
    },
    "papermill": {
     "duration": 10.273649,
     "end_time": "2022-11-27T06:11:40.039042",
     "exception": false,
     "start_time": "2022-11-27T06:11:29.765393",
     "status": "completed"
    },
    "tags": []
   },
   "outputs": [
    {
     "name": "stderr",
     "output_type": "stream",
     "text": [
      "[flaml.automl: 11-27 06:11:29] {2599} INFO - task = regression\n",
      "[flaml.automl: 11-27 06:11:29] {2601} INFO - Data split method: uniform\n",
      "[flaml.automl: 11-27 06:11:29] {2604} INFO - Evaluation method: holdout\n",
      "[flaml.automl: 11-27 06:11:29] {2726} INFO - Minimizing error metric: 1-r2\n",
      "[flaml.automl: 11-27 06:11:30] {2870} INFO - List of ML learners in AutoML Run: ['lgbm', 'rf', 'catboost', 'xgboost', 'extra_tree', 'xgb_limitdepth']\n",
      "[flaml.automl: 11-27 06:11:30] {3166} INFO - iteration 0, current learner lgbm\n",
      "[flaml.automl: 11-27 06:11:30] {3297} INFO - Estimated sufficient time budget=1285s. Estimated necessary time budget=11s.\n",
      "[flaml.automl: 11-27 06:11:30] {3349} INFO -  at 0.4s,\testimator lgbm's best error=0.8572,\tbest estimator lgbm's best error=0.8572\n",
      "[flaml.automl: 11-27 06:11:30] {3166} INFO - iteration 1, current learner lgbm\n",
      "[flaml.automl: 11-27 06:11:30] {3349} INFO -  at 0.4s,\testimator lgbm's best error=0.8572,\tbest estimator lgbm's best error=0.8572\n",
      "[flaml.automl: 11-27 06:11:30] {3166} INFO - iteration 2, current learner lgbm\n",
      "[flaml.automl: 11-27 06:11:30] {3349} INFO -  at 0.5s,\testimator lgbm's best error=0.7994,\tbest estimator lgbm's best error=0.7994\n",
      "[flaml.automl: 11-27 06:11:30] {3166} INFO - iteration 3, current learner lgbm\n",
      "[flaml.automl: 11-27 06:11:30] {3349} INFO -  at 0.5s,\testimator lgbm's best error=0.7194,\tbest estimator lgbm's best error=0.7194\n",
      "[flaml.automl: 11-27 06:11:30] {3166} INFO - iteration 4, current learner lgbm\n",
      "[flaml.automl: 11-27 06:11:30] {3349} INFO -  at 0.5s,\testimator lgbm's best error=0.7194,\tbest estimator lgbm's best error=0.7194\n",
      "[flaml.automl: 11-27 06:11:30] {3166} INFO - iteration 5, current learner lgbm\n",
      "[flaml.automl: 11-27 06:11:30] {3349} INFO -  at 0.5s,\testimator lgbm's best error=0.6828,\tbest estimator lgbm's best error=0.6828\n",
      "[flaml.automl: 11-27 06:11:30] {3166} INFO - iteration 6, current learner lgbm\n",
      "[flaml.automl: 11-27 06:11:30] {3349} INFO -  at 0.5s,\testimator lgbm's best error=0.6828,\tbest estimator lgbm's best error=0.6828\n",
      "[flaml.automl: 11-27 06:11:30] {3166} INFO - iteration 7, current learner lgbm\n",
      "[flaml.automl: 11-27 06:11:30] {3349} INFO -  at 0.6s,\testimator lgbm's best error=0.6828,\tbest estimator lgbm's best error=0.6828\n",
      "[flaml.automl: 11-27 06:11:30] {3166} INFO - iteration 8, current learner lgbm\n",
      "[flaml.automl: 11-27 06:11:30] {3349} INFO -  at 0.6s,\testimator lgbm's best error=0.6223,\tbest estimator lgbm's best error=0.6223\n",
      "[flaml.automl: 11-27 06:11:30] {3166} INFO - iteration 9, current learner lgbm\n",
      "[flaml.automl: 11-27 06:11:30] {3349} INFO -  at 0.6s,\testimator lgbm's best error=0.6223,\tbest estimator lgbm's best error=0.6223\n",
      "[flaml.automl: 11-27 06:11:30] {3166} INFO - iteration 10, current learner lgbm\n",
      "[flaml.automl: 11-27 06:11:30] {3349} INFO -  at 0.7s,\testimator lgbm's best error=0.4124,\tbest estimator lgbm's best error=0.4124\n",
      "[flaml.automl: 11-27 06:11:30] {3166} INFO - iteration 11, current learner lgbm\n",
      "[flaml.automl: 11-27 06:11:30] {3349} INFO -  at 0.7s,\testimator lgbm's best error=0.4124,\tbest estimator lgbm's best error=0.4124\n",
      "[flaml.automl: 11-27 06:11:30] {3166} INFO - iteration 12, current learner lgbm\n",
      "[flaml.automl: 11-27 06:11:30] {3349} INFO -  at 0.8s,\testimator lgbm's best error=0.4124,\tbest estimator lgbm's best error=0.4124\n",
      "[flaml.automl: 11-27 06:11:30] {3166} INFO - iteration 13, current learner lgbm\n",
      "[flaml.automl: 11-27 06:11:30] {3349} INFO -  at 0.8s,\testimator lgbm's best error=0.4124,\tbest estimator lgbm's best error=0.4124\n",
      "[flaml.automl: 11-27 06:11:30] {3166} INFO - iteration 14, current learner lgbm\n",
      "[flaml.automl: 11-27 06:11:30] {3349} INFO -  at 0.9s,\testimator lgbm's best error=0.4124,\tbest estimator lgbm's best error=0.4124\n",
      "[flaml.automl: 11-27 06:11:30] {3166} INFO - iteration 15, current learner lgbm\n",
      "[flaml.automl: 11-27 06:11:30] {3349} INFO -  at 0.9s,\testimator lgbm's best error=0.3889,\tbest estimator lgbm's best error=0.3889\n",
      "[flaml.automl: 11-27 06:11:30] {3166} INFO - iteration 16, current learner xgboost\n",
      "[flaml.automl: 11-27 06:11:30] {3349} INFO -  at 1.0s,\testimator xgboost's best error=1.1121,\tbest estimator lgbm's best error=0.3889\n",
      "[flaml.automl: 11-27 06:11:30] {3166} INFO - iteration 17, current learner xgboost\n",
      "[flaml.automl: 11-27 06:11:30] {3349} INFO -  at 1.1s,\testimator xgboost's best error=1.1121,\tbest estimator lgbm's best error=0.3889\n",
      "[flaml.automl: 11-27 06:11:30] {3166} INFO - iteration 18, current learner xgboost\n",
      "[flaml.automl: 11-27 06:11:30] {3349} INFO -  at 1.1s,\testimator xgboost's best error=0.8212,\tbest estimator lgbm's best error=0.3889\n",
      "[flaml.automl: 11-27 06:11:30] {3166} INFO - iteration 19, current learner lgbm\n",
      "[flaml.automl: 11-27 06:11:31] {3349} INFO -  at 1.2s,\testimator lgbm's best error=0.3889,\tbest estimator lgbm's best error=0.3889\n",
      "[flaml.automl: 11-27 06:11:31] {3166} INFO - iteration 20, current learner lgbm\n",
      "[flaml.automl: 11-27 06:11:31] {3349} INFO -  at 1.3s,\testimator lgbm's best error=0.3889,\tbest estimator lgbm's best error=0.3889\n",
      "[flaml.automl: 11-27 06:11:31] {3166} INFO - iteration 21, current learner lgbm\n",
      "[flaml.automl: 11-27 06:11:31] {3349} INFO -  at 1.4s,\testimator lgbm's best error=0.3889,\tbest estimator lgbm's best error=0.3889\n",
      "[flaml.automl: 11-27 06:11:31] {3166} INFO - iteration 22, current learner xgboost\n",
      "[flaml.automl: 11-27 06:11:31] {3349} INFO -  at 1.4s,\testimator xgboost's best error=0.8212,\tbest estimator lgbm's best error=0.3889\n",
      "[flaml.automl: 11-27 06:11:31] {3166} INFO - iteration 23, current learner xgboost\n",
      "[flaml.automl: 11-27 06:11:31] {3349} INFO -  at 1.5s,\testimator xgboost's best error=0.8212,\tbest estimator lgbm's best error=0.3889\n",
      "[flaml.automl: 11-27 06:11:31] {3166} INFO - iteration 24, current learner lgbm\n",
      "[flaml.automl: 11-27 06:11:31] {3349} INFO -  at 1.6s,\testimator lgbm's best error=0.3889,\tbest estimator lgbm's best error=0.3889\n",
      "[flaml.automl: 11-27 06:11:31] {3166} INFO - iteration 25, current learner lgbm\n",
      "[flaml.automl: 11-27 06:11:31] {3349} INFO -  at 1.7s,\testimator lgbm's best error=0.3889,\tbest estimator lgbm's best error=0.3889\n",
      "[flaml.automl: 11-27 06:11:31] {3166} INFO - iteration 26, current learner extra_tree\n",
      "[flaml.automl: 11-27 06:11:31] {3349} INFO -  at 2.0s,\testimator extra_tree's best error=0.8086,\tbest estimator lgbm's best error=0.3889\n",
      "[flaml.automl: 11-27 06:11:31] {3166} INFO - iteration 27, current learner rf\n",
      "[flaml.automl: 11-27 06:11:32] {3349} INFO -  at 2.4s,\testimator rf's best error=0.8460,\tbest estimator lgbm's best error=0.3889\n",
      "[flaml.automl: 11-27 06:11:32] {3166} INFO - iteration 28, current learner extra_tree\n",
      "[flaml.automl: 11-27 06:11:32] {3349} INFO -  at 2.7s,\testimator extra_tree's best error=0.7530,\tbest estimator lgbm's best error=0.3889\n",
      "[flaml.automl: 11-27 06:11:32] {3166} INFO - iteration 29, current learner xgboost\n",
      "[flaml.automl: 11-27 06:11:32] {3349} INFO -  at 2.9s,\testimator xgboost's best error=0.8212,\tbest estimator lgbm's best error=0.3889\n",
      "[flaml.automl: 11-27 06:11:32] {3166} INFO - iteration 30, current learner lgbm\n",
      "[flaml.automl: 11-27 06:11:32] {3349} INFO -  at 3.0s,\testimator lgbm's best error=0.3889,\tbest estimator lgbm's best error=0.3889\n",
      "[flaml.automl: 11-27 06:11:32] {3166} INFO - iteration 31, current learner lgbm\n",
      "[flaml.automl: 11-27 06:11:32] {3349} INFO -  at 3.1s,\testimator lgbm's best error=0.3889,\tbest estimator lgbm's best error=0.3889\n",
      "[flaml.automl: 11-27 06:11:32] {3166} INFO - iteration 32, current learner lgbm\n",
      "[flaml.automl: 11-27 06:11:32] {3349} INFO -  at 3.1s,\testimator lgbm's best error=0.3889,\tbest estimator lgbm's best error=0.3889\n",
      "[flaml.automl: 11-27 06:11:32] {3166} INFO - iteration 33, current learner xgboost\n",
      "[flaml.automl: 11-27 06:11:33] {3349} INFO -  at 3.2s,\testimator xgboost's best error=0.7309,\tbest estimator lgbm's best error=0.3889\n",
      "[flaml.automl: 11-27 06:11:33] {3166} INFO - iteration 34, current learner lgbm\n",
      "[flaml.automl: 11-27 06:11:33] {3349} INFO -  at 3.3s,\testimator lgbm's best error=0.3340,\tbest estimator lgbm's best error=0.3340\n",
      "[flaml.automl: 11-27 06:11:33] {3166} INFO - iteration 35, current learner rf\n",
      "[flaml.automl: 11-27 06:11:33] {3349} INFO -  at 3.6s,\testimator rf's best error=0.7751,\tbest estimator lgbm's best error=0.3340\n",
      "[flaml.automl: 11-27 06:11:33] {3166} INFO - iteration 36, current learner extra_tree\n",
      "[flaml.automl: 11-27 06:11:33] {3349} INFO -  at 3.9s,\testimator extra_tree's best error=0.7530,\tbest estimator lgbm's best error=0.3340\n",
      "[flaml.automl: 11-27 06:11:33] {3166} INFO - iteration 37, current learner lgbm\n",
      "[flaml.automl: 11-27 06:11:33] {3349} INFO -  at 4.1s,\testimator lgbm's best error=0.3340,\tbest estimator lgbm's best error=0.3340\n",
      "[flaml.automl: 11-27 06:11:33] {3166} INFO - iteration 38, current learner lgbm\n",
      "[flaml.automl: 11-27 06:11:33] {3349} INFO -  at 4.1s,\testimator lgbm's best error=0.3340,\tbest estimator lgbm's best error=0.3340\n",
      "[flaml.automl: 11-27 06:11:33] {3166} INFO - iteration 39, current learner lgbm\n",
      "[flaml.automl: 11-27 06:11:34] {3349} INFO -  at 4.3s,\testimator lgbm's best error=0.3340,\tbest estimator lgbm's best error=0.3340\n",
      "[flaml.automl: 11-27 06:11:34] {3166} INFO - iteration 40, current learner lgbm\n",
      "[flaml.automl: 11-27 06:11:34] {3349} INFO -  at 4.3s,\testimator lgbm's best error=0.3340,\tbest estimator lgbm's best error=0.3340\n",
      "[flaml.automl: 11-27 06:11:34] {3166} INFO - iteration 41, current learner xgboost\n",
      "[flaml.automl: 11-27 06:11:34] {3349} INFO -  at 4.4s,\testimator xgboost's best error=0.5528,\tbest estimator lgbm's best error=0.3340\n",
      "[flaml.automl: 11-27 06:11:34] {3166} INFO - iteration 42, current learner lgbm\n",
      "[flaml.automl: 11-27 06:11:34] {3349} INFO -  at 4.5s,\testimator lgbm's best error=0.3340,\tbest estimator lgbm's best error=0.3340\n",
      "[flaml.automl: 11-27 06:11:34] {3166} INFO - iteration 43, current learner xgboost\n",
      "[flaml.automl: 11-27 06:11:34] {3349} INFO -  at 4.6s,\testimator xgboost's best error=0.5528,\tbest estimator lgbm's best error=0.3340\n",
      "[flaml.automl: 11-27 06:11:34] {3166} INFO - iteration 44, current learner extra_tree\n",
      "[flaml.automl: 11-27 06:11:34] {3349} INFO -  at 5.0s,\testimator extra_tree's best error=0.7382,\tbest estimator lgbm's best error=0.3340\n",
      "[flaml.automl: 11-27 06:11:34] {3166} INFO - iteration 45, current learner xgboost\n",
      "[flaml.automl: 11-27 06:11:34] {3349} INFO -  at 5.1s,\testimator xgboost's best error=0.5515,\tbest estimator lgbm's best error=0.3340\n",
      "[flaml.automl: 11-27 06:11:34] {3166} INFO - iteration 46, current learner lgbm\n",
      "[flaml.automl: 11-27 06:11:35] {3349} INFO -  at 5.3s,\testimator lgbm's best error=0.3340,\tbest estimator lgbm's best error=0.3340\n",
      "[flaml.automl: 11-27 06:11:35] {3166} INFO - iteration 47, current learner lgbm\n",
      "[flaml.automl: 11-27 06:11:35] {3349} INFO -  at 5.4s,\testimator lgbm's best error=0.3298,\tbest estimator lgbm's best error=0.3298\n",
      "[flaml.automl: 11-27 06:11:35] {3166} INFO - iteration 48, current learner lgbm\n",
      "[flaml.automl: 11-27 06:11:35] {3349} INFO -  at 5.5s,\testimator lgbm's best error=0.3298,\tbest estimator lgbm's best error=0.3298\n",
      "[flaml.automl: 11-27 06:11:35] {3166} INFO - iteration 49, current learner lgbm\n",
      "[flaml.automl: 11-27 06:11:35] {3349} INFO -  at 5.6s,\testimator lgbm's best error=0.3298,\tbest estimator lgbm's best error=0.3298\n",
      "[flaml.automl: 11-27 06:11:35] {3166} INFO - iteration 50, current learner rf\n",
      "[flaml.automl: 11-27 06:11:35] {3349} INFO -  at 5.9s,\testimator rf's best error=0.7751,\tbest estimator lgbm's best error=0.3298\n",
      "[flaml.automl: 11-27 06:11:35] {3166} INFO - iteration 51, current learner lgbm\n",
      "[flaml.automl: 11-27 06:11:35] {3349} INFO -  at 6.0s,\testimator lgbm's best error=0.3298,\tbest estimator lgbm's best error=0.3298\n",
      "[flaml.automl: 11-27 06:11:35] {3166} INFO - iteration 52, current learner lgbm\n",
      "[flaml.automl: 11-27 06:11:35] {3349} INFO -  at 6.2s,\testimator lgbm's best error=0.3298,\tbest estimator lgbm's best error=0.3298\n",
      "[flaml.automl: 11-27 06:11:35] {3166} INFO - iteration 53, current learner lgbm\n",
      "[flaml.automl: 11-27 06:11:36] {3349} INFO -  at 6.2s,\testimator lgbm's best error=0.3298,\tbest estimator lgbm's best error=0.3298\n",
      "[flaml.automl: 11-27 06:11:36] {3166} INFO - iteration 54, current learner lgbm\n",
      "[flaml.automl: 11-27 06:11:36] {3349} INFO -  at 6.3s,\testimator lgbm's best error=0.3298,\tbest estimator lgbm's best error=0.3298\n",
      "[flaml.automl: 11-27 06:11:36] {3166} INFO - iteration 55, current learner lgbm\n",
      "[flaml.automl: 11-27 06:11:36] {3349} INFO -  at 6.4s,\testimator lgbm's best error=0.3298,\tbest estimator lgbm's best error=0.3298\n",
      "[flaml.automl: 11-27 06:11:36] {3166} INFO - iteration 56, current learner lgbm\n",
      "[flaml.automl: 11-27 06:11:36] {3349} INFO -  at 6.6s,\testimator lgbm's best error=0.3298,\tbest estimator lgbm's best error=0.3298\n",
      "[flaml.automl: 11-27 06:11:36] {3166} INFO - iteration 57, current learner lgbm\n",
      "[flaml.automl: 11-27 06:11:36] {3349} INFO -  at 6.6s,\testimator lgbm's best error=0.3298,\tbest estimator lgbm's best error=0.3298\n",
      "[flaml.automl: 11-27 06:11:36] {3166} INFO - iteration 58, current learner lgbm\n",
      "[flaml.automl: 11-27 06:11:36] {3349} INFO -  at 6.6s,\testimator lgbm's best error=0.3298,\tbest estimator lgbm's best error=0.3298\n",
      "[flaml.automl: 11-27 06:11:36] {3166} INFO - iteration 59, current learner lgbm\n",
      "[flaml.automl: 11-27 06:11:36] {3349} INFO -  at 6.8s,\testimator lgbm's best error=0.3298,\tbest estimator lgbm's best error=0.3298\n",
      "[flaml.automl: 11-27 06:11:36] {3166} INFO - iteration 60, current learner lgbm\n",
      "[flaml.automl: 11-27 06:11:36] {3349} INFO -  at 6.9s,\testimator lgbm's best error=0.3298,\tbest estimator lgbm's best error=0.3298\n",
      "[flaml.automl: 11-27 06:11:36] {3166} INFO - iteration 61, current learner lgbm\n",
      "[flaml.automl: 11-27 06:11:36] {3349} INFO -  at 6.9s,\testimator lgbm's best error=0.2660,\tbest estimator lgbm's best error=0.2660\n",
      "[flaml.automl: 11-27 06:11:36] {3166} INFO - iteration 62, current learner lgbm\n",
      "[flaml.automl: 11-27 06:11:36] {3349} INFO -  at 7.0s,\testimator lgbm's best error=0.2660,\tbest estimator lgbm's best error=0.2660\n",
      "[flaml.automl: 11-27 06:11:36] {3166} INFO - iteration 63, current learner lgbm\n",
      "[flaml.automl: 11-27 06:11:36] {3349} INFO -  at 7.1s,\testimator lgbm's best error=0.2660,\tbest estimator lgbm's best error=0.2660\n",
      "[flaml.automl: 11-27 06:11:36] {3166} INFO - iteration 64, current learner lgbm\n",
      "[flaml.automl: 11-27 06:11:36] {3349} INFO -  at 7.1s,\testimator lgbm's best error=0.2660,\tbest estimator lgbm's best error=0.2660\n",
      "[flaml.automl: 11-27 06:11:36] {3166} INFO - iteration 65, current learner lgbm\n",
      "[flaml.automl: 11-27 06:11:37] {3349} INFO -  at 7.2s,\testimator lgbm's best error=0.2660,\tbest estimator lgbm's best error=0.2660\n",
      "[flaml.automl: 11-27 06:11:37] {3166} INFO - iteration 66, current learner lgbm\n",
      "[flaml.automl: 11-27 06:11:37] {3349} INFO -  at 7.2s,\testimator lgbm's best error=0.2660,\tbest estimator lgbm's best error=0.2660\n",
      "[flaml.automl: 11-27 06:11:37] {3166} INFO - iteration 67, current learner lgbm\n",
      "[flaml.automl: 11-27 06:11:37] {3349} INFO -  at 7.4s,\testimator lgbm's best error=0.2660,\tbest estimator lgbm's best error=0.2660\n",
      "[flaml.automl: 11-27 06:11:37] {3166} INFO - iteration 68, current learner lgbm\n",
      "[flaml.automl: 11-27 06:11:37] {3349} INFO -  at 7.5s,\testimator lgbm's best error=0.2660,\tbest estimator lgbm's best error=0.2660\n",
      "[flaml.automl: 11-27 06:11:37] {3166} INFO - iteration 69, current learner lgbm\n",
      "[flaml.automl: 11-27 06:11:37] {3349} INFO -  at 7.5s,\testimator lgbm's best error=0.2660,\tbest estimator lgbm's best error=0.2660\n",
      "[flaml.automl: 11-27 06:11:37] {3166} INFO - iteration 70, current learner lgbm\n",
      "[flaml.automl: 11-27 06:11:37] {3349} INFO -  at 7.6s,\testimator lgbm's best error=0.2660,\tbest estimator lgbm's best error=0.2660\n",
      "[flaml.automl: 11-27 06:11:37] {3166} INFO - iteration 71, current learner lgbm\n",
      "[flaml.automl: 11-27 06:11:37] {3349} INFO -  at 7.7s,\testimator lgbm's best error=0.2660,\tbest estimator lgbm's best error=0.2660\n",
      "[flaml.automl: 11-27 06:11:37] {3166} INFO - iteration 72, current learner rf\n",
      "[flaml.automl: 11-27 06:11:37] {3349} INFO -  at 8.1s,\testimator rf's best error=0.5203,\tbest estimator lgbm's best error=0.2660\n",
      "[flaml.automl: 11-27 06:11:37] {3166} INFO - iteration 73, current learner rf\n",
      "[flaml.automl: 11-27 06:11:38] {3349} INFO -  at 8.5s,\testimator rf's best error=0.5203,\tbest estimator lgbm's best error=0.2660\n",
      "[flaml.automl: 11-27 06:11:38] {3166} INFO - iteration 74, current learner rf\n",
      "[flaml.automl: 11-27 06:11:38] {3349} INFO -  at 9.0s,\testimator rf's best error=0.5203,\tbest estimator lgbm's best error=0.2660\n",
      "[flaml.automl: 11-27 06:11:38] {3166} INFO - iteration 75, current learner lgbm\n",
      "[flaml.automl: 11-27 06:11:38] {3349} INFO -  at 9.0s,\testimator lgbm's best error=0.2660,\tbest estimator lgbm's best error=0.2660\n",
      "[flaml.automl: 11-27 06:11:38] {3166} INFO - iteration 76, current learner lgbm\n",
      "[flaml.automl: 11-27 06:11:38] {3349} INFO -  at 9.0s,\testimator lgbm's best error=0.2660,\tbest estimator lgbm's best error=0.2660\n",
      "[flaml.automl: 11-27 06:11:38] {3166} INFO - iteration 77, current learner rf\n",
      "[flaml.automl: 11-27 06:11:39] {3349} INFO -  at 9.5s,\testimator rf's best error=0.5203,\tbest estimator lgbm's best error=0.2660\n",
      "[flaml.automl: 11-27 06:11:39] {3166} INFO - iteration 78, current learner lgbm\n",
      "[flaml.automl: 11-27 06:11:39] {3349} INFO -  at 9.5s,\testimator lgbm's best error=0.2660,\tbest estimator lgbm's best error=0.2660\n",
      "[flaml.automl: 11-27 06:11:39] {3166} INFO - iteration 79, current learner lgbm\n",
      "[flaml.automl: 11-27 06:11:39] {3349} INFO -  at 9.5s,\testimator lgbm's best error=0.2660,\tbest estimator lgbm's best error=0.2660\n",
      "[flaml.automl: 11-27 06:11:39] {3166} INFO - iteration 80, current learner rf\n",
      "[flaml.automl: 11-27 06:11:39] {3349} INFO -  at 10.0s,\testimator rf's best error=0.5203,\tbest estimator lgbm's best error=0.2660\n",
      "[flaml.automl: 11-27 06:11:39] {3166} INFO - iteration 81, current learner catboost\n",
      "[flaml.automl: 11-27 06:11:39] {3349} INFO -  at 10.2s,\testimator catboost's best error=0.9393,\tbest estimator lgbm's best error=0.2660\n",
      "[flaml.automl: 11-27 06:11:40] {3604} INFO - retrain lgbm for 0.0s\n",
      "[flaml.automl: 11-27 06:11:40] {3609} INFO - retrained model: LGBMRegressor(colsample_bytree=0.6470191479488612,\n",
      "              learning_rate=0.7587217198245397, max_bin=127,\n",
      "              min_child_samples=2, n_estimators=14, num_leaves=64,\n",
      "              reg_alpha=0.013575172218183634, reg_lambda=0.0011235986248102048,\n",
      "              verbose=-1)\n",
      "[flaml.automl: 11-27 06:11:40] {2901} INFO - fit succeeded\n",
      "[flaml.automl: 11-27 06:11:40] {2903} INFO - Time taken to find the best model: 6.939037322998047\n"
     ]
    },
    {
     "name": "stdout",
     "output_type": "stream",
     "text": [
      "[48654610.67089454  8974578.86519934  4502313.4082547  ...\n",
      "  5273770.03220428 46215588.34669231 25587656.64047103]\n",
      "<flaml.model.LGBMEstimator object at 0x7f0c840ab090>\n"
     ]
    }
   ],
   "source": [
    "#specify automl goal and constraint\n",
    "automl_settings={\"time_budget\":10,  # in seconds\n",
    "                 \"metric\":'r2',\n",
    "                 \"task\":'regression',\n",
    "                 \"log_file_name\":\"house\"}\n",
    "\n",
    "#train with labeled input data\n",
    "automl.fit(X_train=X_train, y_train=y_train, **automl_settings)\n",
    "#Predict\n",
    "print(automl.predict(X_train))\n",
    "#Export the best model\n",
    "print(automl.model)"
   ]
  },
  {
   "cell_type": "code",
   "execution_count": 80,
   "id": "76d70f50",
   "metadata": {
    "execution": {
     "iopub.execute_input": "2022-11-27T06:11:40.129077Z",
     "iopub.status.busy": "2022-11-27T06:11:40.128617Z",
     "iopub.status.idle": "2022-11-27T06:11:51.047651Z",
     "shell.execute_reply": "2022-11-27T06:11:51.046401Z"
    },
    "papermill": {
     "duration": 10.966911,
     "end_time": "2022-11-27T06:11:51.050481",
     "exception": false,
     "start_time": "2022-11-27T06:11:40.083570",
     "status": "completed"
    },
    "tags": []
   },
   "outputs": [
    {
     "name": "stdout",
     "output_type": "stream",
     "text": [
      "Requirement already satisfied: lightgbm in /opt/conda/lib/python3.7/site-packages (3.3.2)\r\n",
      "Requirement already satisfied: scikit-learn!=0.22.0 in /opt/conda/lib/python3.7/site-packages (from lightgbm) (1.0.2)\r\n",
      "Requirement already satisfied: scipy in /opt/conda/lib/python3.7/site-packages (from lightgbm) (1.7.3)\r\n",
      "Requirement already satisfied: wheel in /opt/conda/lib/python3.7/site-packages (from lightgbm) (0.37.1)\r\n",
      "Requirement already satisfied: numpy in /opt/conda/lib/python3.7/site-packages (from lightgbm) (1.21.6)\r\n",
      "Requirement already satisfied: threadpoolctl>=2.0.0 in /opt/conda/lib/python3.7/site-packages (from scikit-learn!=0.22.0->lightgbm) (3.1.0)\r\n",
      "Requirement already satisfied: joblib>=0.11 in /opt/conda/lib/python3.7/site-packages (from scikit-learn!=0.22.0->lightgbm) (1.0.1)\r\n",
      "\u001b[33mWARNING: Running pip as the 'root' user can result in broken permissions and conflicting behaviour with the system package manager. It is recommended to use a virtual environment instead: https://pip.pypa.io/warnings/venv\u001b[0m\u001b[33m\r\n",
      "\u001b[0m"
     ]
    }
   ],
   "source": [
    "!pip install lightgbm"
   ]
  },
  {
   "cell_type": "code",
   "execution_count": 81,
   "id": "2a8b448d",
   "metadata": {
    "execution": {
     "iopub.execute_input": "2022-11-27T06:11:51.141123Z",
     "iopub.status.busy": "2022-11-27T06:11:51.140682Z",
     "iopub.status.idle": "2022-11-27T06:11:51.257668Z",
     "shell.execute_reply": "2022-11-27T06:11:51.256719Z"
    },
    "papermill": {
     "duration": 0.166076,
     "end_time": "2022-11-27T06:11:51.260222",
     "exception": false,
     "start_time": "2022-11-27T06:11:51.094146",
     "status": "completed"
    },
    "tags": []
   },
   "outputs": [
    {
     "data": {
      "text/plain": [
       "0.7950615493362931"
      ]
     },
     "execution_count": 81,
     "metadata": {},
     "output_type": "execute_result"
    }
   ],
   "source": [
    "from lightgbm import LGBMRegressor\n",
    "lgb=LGBMRegressor()\n",
    "lgb.fit(X_train,y_train)\n",
    "lgb.score(X_train, y_train)"
   ]
  },
  {
   "cell_type": "code",
   "execution_count": 82,
   "id": "c874c7b1",
   "metadata": {
    "execution": {
     "iopub.execute_input": "2022-11-27T06:11:51.351675Z",
     "iopub.status.busy": "2022-11-27T06:11:51.350991Z",
     "iopub.status.idle": "2022-11-27T06:11:51.368407Z",
     "shell.execute_reply": "2022-11-27T06:11:51.367483Z"
    },
    "papermill": {
     "duration": 0.065612,
     "end_time": "2022-11-27T06:11:51.370644",
     "exception": false,
     "start_time": "2022-11-27T06:11:51.305032",
     "status": "completed"
    },
    "tags": []
   },
   "outputs": [
    {
     "data": {
      "text/plain": [
       "(0.22642908688863528, 20588737.576678872)"
      ]
     },
     "execution_count": 82,
     "metadata": {},
     "output_type": "execute_result"
    }
   ],
   "source": [
    "lgb_rmse = rmse(y_test, lgb.predict(X_test))\n",
    "lgb_score=lr.score(X_test,y_test)\n",
    "lgb_score, lgb_rmse"
   ]
  }
 ],
 "metadata": {
  "kernelspec": {
   "display_name": "Python 3",
   "language": "python",
   "name": "python3"
  },
  "language_info": {
   "codemirror_mode": {
    "name": "ipython",
    "version": 3
   },
   "file_extension": ".py",
   "mimetype": "text/x-python",
   "name": "python",
   "nbconvert_exporter": "python",
   "pygments_lexer": "ipython3",
   "version": "3.7.12"
  },
  "papermill": {
   "default_parameters": {},
   "duration": 75.591849,
   "end_time": "2022-11-27T06:11:52.539826",
   "environment_variables": {},
   "exception": null,
   "input_path": "__notebook__.ipynb",
   "output_path": "__notebook__.ipynb",
   "parameters": {},
   "start_time": "2022-11-27T06:10:36.947977",
   "version": "2.3.4"
  }
 },
 "nbformat": 4,
 "nbformat_minor": 5
}
