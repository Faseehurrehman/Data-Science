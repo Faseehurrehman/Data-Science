{
 "cells": [
  {
   "cell_type": "code",
   "execution_count": null,
   "id": "481e24c1",
   "metadata": {},
   "outputs": [],
   "source": [
    "import numpy as np\n",
    "import pandas as pd\n",
    "import matplotlib.pyplot as plt\n",
    "import cv2"
   ]
  },
  {
   "cell_type": "code",
   "execution_count": null,
   "id": "022bcabf",
   "metadata": {},
   "outputs": [],
   "source": [
    "img=cv2.imread('dataset/arshad nadeem - Google Search/Arshad Nadeem - Wikipedia.jpg')\n",
    "img.shape"
   ]
  },
  {
   "cell_type": "code",
   "execution_count": null,
   "id": "76750845",
   "metadata": {},
   "outputs": [],
   "source": [
    "plt.imshow(img)"
   ]
  },
  {
   "cell_type": "code",
   "execution_count": null,
   "id": "d04e93f8",
   "metadata": {},
   "outputs": [],
   "source": [
    "gray=cv2.cvtColor(img, cv2.COLOR_BGR2GRAY)\n",
    "gray"
   ]
  },
  {
   "cell_type": "code",
   "execution_count": null,
   "id": "d0d36095",
   "metadata": {},
   "outputs": [],
   "source": [
    "gray.shape"
   ]
  },
  {
   "cell_type": "code",
   "execution_count": null,
   "id": "7259191b",
   "metadata": {},
   "outputs": [],
   "source": [
    "plt.imshow(gray, cmap='gray')"
   ]
  },
  {
   "cell_type": "markdown",
   "id": "ef915104",
   "metadata": {},
   "source": [
    "# Face Detection Using Haar Cascades"
   ]
  },
  {
   "cell_type": "code",
   "execution_count": null,
   "id": "16cbc8cd",
   "metadata": {},
   "outputs": [],
   "source": [
    "face_cascade=cv2.CascadeClassifier('OpenCv/haar-cascade-files-master/haarcascade_frontalface_alt.xml')\n",
    "eye_cascade=cv2.CascadeClassifier('OpenCv/haar-cascade-files-master/haarcascade_eye.xml')\n",
    "faces=face_cascade.detectMultiScale(gray, 1.3,5)\n",
    "faces"
   ]
  },
  {
   "cell_type": "code",
   "execution_count": null,
   "id": "562b31da",
   "metadata": {},
   "outputs": [],
   "source": [
    "(x,y,w,h)=faces[0]\n",
    "x,y,w,h"
   ]
  },
  {
   "cell_type": "code",
   "execution_count": null,
   "id": "627e2b11",
   "metadata": {},
   "outputs": [],
   "source": [
    "face_image=cv2.rectangle(img,(x,y),(x+w,y+h),(255,0,0),2)\n",
    "plt.imshow(face_image)"
   ]
  },
  {
   "cell_type": "code",
   "execution_count": null,
   "id": "e9f7595d",
   "metadata": {},
   "outputs": [],
   "source": [
    "cv2.destroyAllWindows()\n",
    "for (x,y,w,h) in faces:\n",
    "    face_image=cv2.rectangle(img,(x,y),(x+w,y+h),(255,0,0),2)\n",
    "    roi_gray=gray[y:y+h, x:x+w]\n",
    "    roi_color=face_image[y:y+h, x:x+w]\n",
    "    eyes=eye_cascade.detectMultiScale(roi_gray)\n",
    "    for (ex,ey,ew,eh) in eyes:\n",
    "        cv2.rectangle(roi_color,(ex,ey),(ex+ew,ey+eh),(0,255,0),2)\n",
    "plt.figure()\n",
    "plt.imshow(face_image, cmap='gray')\n",
    "plt.show()"
   ]
  },
  {
   "cell_type": "code",
   "execution_count": null,
   "id": "41646b3c",
   "metadata": {},
   "outputs": [],
   "source": [
    "plt.imshow(roi_color, cmap='gray')"
   ]
  },
  {
   "cell_type": "code",
   "execution_count": null,
   "id": "5f667981",
   "metadata": {},
   "outputs": [],
   "source": [
    "def get_cropped_image_if_2_eyes(image_path):\n",
    "    img=cv2.imread(image_path)\n",
    "    gray=cv2.cvtColor(img, cv2.COLOR_BGR2GRAY)\n",
    "    faces=face_cascade.detectMultiScale(gray, 1.3,5)\n",
    "    for (x,y,w,h) in faces:\n",
    "        roi_gray=gray[y:y+h, x:x+w]\n",
    "        roi_color=img[y:y+h, x:x+w]\n",
    "        eyes=eye_cascade.detectMultiScale(roi_gray)\n",
    "        if len(eyes)>=2:\n",
    "            return roi_color"
   ]
  },
  {
   "cell_type": "code",
   "execution_count": null,
   "id": "9a526671",
   "metadata": {},
   "outputs": [],
   "source": [
    "cropped_image=get_cropped_image_if_2_eyes('dataset/inzamam ul haq - Google Search/Inzamam-ul-Haq Profile - ICC Ranking.jpg')\n",
    "plt.imshow(cropped_image)"
   ]
  },
  {
   "cell_type": "code",
   "execution_count": null,
   "id": "b356400a",
   "metadata": {},
   "outputs": [],
   "source": [
    "path_to_data=\"./dataset\"\n",
    "cropped=\"./dataset/cropped/\""
   ]
  },
  {
   "cell_type": "code",
   "execution_count": null,
   "id": "66123118",
   "metadata": {},
   "outputs": [],
   "source": [
    "import os\n",
    "img_dirs=[]\n",
    "for entry in os.scandir(path_to_data):\n",
    "    if entry.is_dir():\n",
    "        img_dirs.append(entry.path)"
   ]
  },
  {
   "cell_type": "code",
   "execution_count": null,
   "id": "5c6f1899",
   "metadata": {},
   "outputs": [],
   "source": [
    "img_dirs"
   ]
  },
  {
   "cell_type": "code",
   "execution_count": null,
   "id": "cbc3b22f",
   "metadata": {},
   "outputs": [],
   "source": [
    "import shutil\n",
    "if os.path.exists(cropped):\n",
    "    shutil.rmtree(cropped)\n",
    "os.mkdir(cropped)\n"
   ]
  },
  {
   "cell_type": "code",
   "execution_count": null,
   "id": "fd3a411f",
   "metadata": {},
   "outputs": [],
   "source": [
    "cropped_image_dirs=[]\n",
    "celebrity_file_name_dict={}\n",
    "\n",
    "for img_dir in img_dirs:\n",
    "    celebrity_name=img_dir.split('/')[-1]\n",
    "    print(celebrity_name)\n",
    "    \n",
    "    \n",
    "    celebrity_file_name_dict[celebrity_name]=[]\n",
    "    \n",
    "    for entry in os.scandir(img_dir):\n",
    "        roi_color=get_cropped_image_if_2_eyes(entry.path)\n",
    "        if roi_color is not None:\n",
    "            cropped_folder=cropped + celebrity_name\n",
    "            if not os.path.exists(cropped_folder):\n",
    "                os.makedirs(cropped_folder)\n",
    "                print('Generating images in folder: ',cropped_folder)\n",
    "                \n",
    "            cropped_file_name=celebrity_name + str(count) + \"png\"\n",
    "            cropped_file_path=cropped_folder + \"/\" + cropped_file_name\n",
    "            \n",
    "            cv2.imwite(cropped_file_path, roi_color)\n",
    "            celebrity_file_name_dict[celebrity_names].append(cropped_file_path)\n",
    "            count +=1"
   ]
  },
  {
   "cell_type": "code",
   "execution_count": null,
   "id": "03bc8bea",
   "metadata": {},
   "outputs": [],
   "source": []
  }
 ],
 "metadata": {
  "kernelspec": {
   "display_name": "Python 3 (ipykernel)",
   "language": "python",
   "name": "python3"
  },
  "language_info": {
   "codemirror_mode": {
    "name": "ipython",
    "version": 3
   },
   "file_extension": ".py",
   "mimetype": "text/x-python",
   "name": "python",
   "nbconvert_exporter": "python",
   "pygments_lexer": "ipython3",
   "version": "3.9.12"
  }
 },
 "nbformat": 4,
 "nbformat_minor": 5
}
