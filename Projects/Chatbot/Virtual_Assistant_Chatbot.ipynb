{
  "nbformat": 4,
  "nbformat_minor": 0,
  "metadata": {
    "colab": {
      "provenance": []
    },
    "kernelspec": {
      "name": "python3",
      "display_name": "Python 3"
    },
    "language_info": {
      "name": "python"
    }
  },
  "cells": [
    {
      "cell_type": "code",
      "metadata": {
        "colab": {
          "base_uri": "https://localhost:8080/"
        },
        "id": "J8a3mqaq7oOp",
        "outputId": "3e056d1b-006d-4803-d859-bb895e744813"
      },
      "source": [
        "pip install nltk"
      ],
      "execution_count": null,
      "outputs": [
        {
          "output_type": "stream",
          "text": [
            "Requirement already satisfied: nltk in /usr/local/lib/python3.7/dist-packages (3.2.5)\n",
            "Requirement already satisfied: six in /usr/local/lib/python3.7/dist-packages (from nltk) (1.15.0)\n"
          ],
          "name": "stdout"
        }
      ]
    },
    {
      "cell_type": "code",
      "metadata": {
        "id": "BnObiP-I7-No"
      },
      "source": [
        "import nltk"
      ],
      "execution_count": null,
      "outputs": []
    },
    {
      "cell_type": "code",
      "metadata": {
        "colab": {
          "base_uri": "https://localhost:8080/"
        },
        "id": "ok7gCoKp8Kby",
        "outputId": "7034745f-bf06-40e7-c00e-9a86cfde1d06"
      },
      "source": [
        "!pip install chatterbot"
      ],
      "execution_count": null,
      "outputs": [
        {
          "output_type": "stream",
          "text": [
            "Collecting chatterbot\n",
            "  Downloading ChatterBot-1.0.8-py2.py3-none-any.whl (63 kB)\n",
            "\u001b[K     |████████████████████████████████| 63 kB 1.9 MB/s \n",
            "\u001b[?25hCollecting sqlalchemy<1.4,>=1.3\n",
            "  Downloading SQLAlchemy-1.3.24-cp37-cp37m-manylinux2010_x86_64.whl (1.3 MB)\n",
            "\u001b[K     |████████████████████████████████| 1.3 MB 26.4 MB/s \n",
            "\u001b[?25hRequirement already satisfied: pytz in /usr/local/lib/python3.7/dist-packages (from chatterbot) (2018.9)\n",
            "Collecting mathparse<0.2,>=0.1\n",
            "  Downloading mathparse-0.1.2-py3-none-any.whl (7.2 kB)\n",
            "Requirement already satisfied: python-dateutil<2.9,>=2.8 in /usr/local/lib/python3.7/dist-packages (from chatterbot) (2.8.1)\n",
            "Requirement already satisfied: six>=1.5 in /usr/local/lib/python3.7/dist-packages (from python-dateutil<2.9,>=2.8->chatterbot) (1.15.0)\n",
            "Installing collected packages: sqlalchemy, mathparse, chatterbot\n",
            "  Attempting uninstall: sqlalchemy\n",
            "    Found existing installation: SQLAlchemy 1.4.20\n",
            "    Uninstalling SQLAlchemy-1.4.20:\n",
            "      Successfully uninstalled SQLAlchemy-1.4.20\n",
            "Successfully installed chatterbot-1.0.8 mathparse-0.1.2 sqlalchemy-1.3.24\n"
          ],
          "name": "stdout"
        }
      ]
    },
    {
      "cell_type": "code",
      "metadata": {
        "colab": {
          "base_uri": "https://localhost:8080/"
        },
        "id": "V2S3FvTu-h41",
        "outputId": "2af5837d-d8f7-480e-d11c-5f8d2a654c61"
      },
      "source": [
        "!pip install chatterbot_corpus"
      ],
      "execution_count": null,
      "outputs": [
        {
          "output_type": "stream",
          "text": [
            "Collecting chatterbot_corpus\n",
            "  Downloading chatterbot_corpus-1.2.0-py2.py3-none-any.whl (117 kB)\n",
            "\u001b[?25l\r\u001b[K     |██▉                             | 10 kB 19.9 MB/s eta 0:00:01\r\u001b[K     |█████▋                          | 20 kB 25.8 MB/s eta 0:00:01\r\u001b[K     |████████▍                       | 30 kB 30.7 MB/s eta 0:00:01\r\u001b[K     |███████████▏                    | 40 kB 31.7 MB/s eta 0:00:01\r\u001b[K     |██████████████                  | 51 kB 21.3 MB/s eta 0:00:01\r\u001b[K     |████████████████▊               | 61 kB 22.7 MB/s eta 0:00:01\r\u001b[K     |███████████████████▋            | 71 kB 13.8 MB/s eta 0:00:01\r\u001b[K     |██████████████████████▍         | 81 kB 15.1 MB/s eta 0:00:01\r\u001b[K     |█████████████████████████▏      | 92 kB 14.3 MB/s eta 0:00:01\r\u001b[K     |████████████████████████████    | 102 kB 14.5 MB/s eta 0:00:01\r\u001b[K     |██████████████████████████████▊ | 112 kB 14.5 MB/s eta 0:00:01\r\u001b[K     |████████████████████████████████| 117 kB 14.5 MB/s \n",
            "\u001b[?25hRequirement already satisfied: PyYAML<4.0,>=3.12 in /usr/local/lib/python3.7/dist-packages (from chatterbot_corpus) (3.13)\n",
            "Installing collected packages: chatterbot-corpus\n",
            "Successfully installed chatterbot-corpus-1.2.0\n"
          ],
          "name": "stdout"
        }
      ]
    },
    {
      "cell_type": "code",
      "metadata": {
        "id": "Bh6YIjL_-1R2"
      },
      "source": [
        "from chatterbot import ChatBot\n",
        "from chatterbot.trainers import ListTrainer"
      ],
      "execution_count": null,
      "outputs": []
    },
    {
      "cell_type": "code",
      "metadata": {
        "id": "lgr28Dz__Txe"
      },
      "source": [
        "my_bot = ChatBot(name='PyBot', read_only=True, logic_adapters=['chatterbot.logic.MathematicalEvaluation','chatterbot.logic.BestMatch'])"
      ],
      "execution_count": null,
      "outputs": []
    },
    {
      "cell_type": "code",
      "metadata": {
        "id": "pMbwkdnsAOfQ"
      },
      "source": [
        "greetings=['hi','hello','how r u','i m fine']"
      ],
      "execution_count": null,
      "outputs": []
    },
    {
      "cell_type": "code",
      "metadata": {
        "id": "oFLCsYpUA0Y3"
      },
      "source": [
        "formula=['pythagoraus theorem','a^2 + b^2 = c^2']"
      ],
      "execution_count": null,
      "outputs": []
    },
    {
      "cell_type": "code",
      "metadata": {
        "id": "noM4f7jBC0NT"
      },
      "source": [
        "law = ['Law','You are selfish']"
      ],
      "execution_count": null,
      "outputs": []
    },
    {
      "cell_type": "code",
      "metadata": {
        "id": "xUJ5Qcp-BGBK"
      },
      "source": [
        "trainbot = ListTrainer(my_bot)"
      ],
      "execution_count": null,
      "outputs": []
    },
    {
      "cell_type": "code",
      "metadata": {
        "colab": {
          "base_uri": "https://localhost:8080/"
        },
        "id": "S3FMm_MIBSAw",
        "outputId": "0621b19c-67ca-4d77-c5a1-fdfbbef455ae"
      },
      "source": [
        "for item in (greetings, formula,law):\n",
        "  trainbot.train(item)"
      ],
      "execution_count": null,
      "outputs": [
        {
          "output_type": "stream",
          "text": [
            "List Trainer: [####################] 100%\n",
            "List Trainer: [####################] 100%\n",
            "List Trainer: [####################] 100%\n"
          ],
          "name": "stdout"
        }
      ]
    },
    {
      "cell_type": "code",
      "metadata": {
        "colab": {
          "base_uri": "https://localhost:8080/"
        },
        "id": "4N9OwCwHBhiY",
        "outputId": "7adaeb65-1ed1-48ac-ffe0-77c2955e3080"
      },
      "source": [
        "print(my_bot.get_response('hi'))"
      ],
      "execution_count": null,
      "outputs": [
        {
          "output_type": "stream",
          "text": [
            "hello\n"
          ],
          "name": "stdout"
        }
      ]
    },
    {
      "cell_type": "code",
      "metadata": {
        "colab": {
          "base_uri": "https://localhost:8080/"
        },
        "id": "EvTIkEzkBrDd",
        "outputId": "bf9fce53-cdc7-4831-f3d3-17104e403d35"
      },
      "source": [
        "print(my_bot.get_response('theorem'))"
      ],
      "execution_count": null,
      "outputs": [
        {
          "output_type": "stream",
          "text": [
            "a^2 + b^2 = c^2\n"
          ],
          "name": "stdout"
        }
      ]
    },
    {
      "cell_type": "code",
      "metadata": {
        "colab": {
          "base_uri": "https://localhost:8080/"
        },
        "id": "R6_VEHcEBvfS",
        "outputId": "e6c18518-3b58-43ff-dea5-a6290cb17153"
      },
      "source": [
        "print(my_bot.get_response('please help me with pythagoraus theorem'))"
      ],
      "execution_count": null,
      "outputs": [
        {
          "output_type": "stream",
          "text": [
            "a^2 + b^2 = c^2\n"
          ],
          "name": "stdout"
        }
      ]
    },
    {
      "cell_type": "code",
      "metadata": {
        "colab": {
          "base_uri": "https://localhost:8080/"
        },
        "id": "x7sLB8fgB-lB",
        "outputId": "c500843b-2f81-4714-e305-64f085e88fea"
      },
      "source": [
        "print(my_bot.get_response('how r u'))"
      ],
      "execution_count": null,
      "outputs": [
        {
          "output_type": "stream",
          "text": [
            "i m fine\n"
          ],
          "name": "stdout"
        }
      ]
    },
    {
      "cell_type": "code",
      "metadata": {
        "colab": {
          "base_uri": "https://localhost:8080/"
        },
        "id": "_IcjBTptCliz",
        "outputId": "1b0bb29c-26dd-413b-e4f6-648cb71dcaf8"
      },
      "source": [
        "print(my_bot.get_response('Law'))"
      ],
      "execution_count": null,
      "outputs": [
        {
          "output_type": "stream",
          "text": [
            "You are selfish\n"
          ],
          "name": "stdout"
        }
      ]
    },
    {
      "cell_type": "code",
      "metadata": {
        "id": "xAcORVaL_Oy6"
      },
      "source": [],
      "execution_count": null,
      "outputs": []
    }
  ]
}