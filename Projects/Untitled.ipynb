{
 "cells": [
  {
   "cell_type": "code",
   "execution_count": 1,
   "id": "dfc2b8c0",
   "metadata": {},
   "outputs": [
    {
     "ename": "ValueError",
     "evalue": "too many values to unpack (expected 4)",
     "output_type": "error",
     "traceback": [
      "\u001b[1;31m---------------------------------------------------------------------------\u001b[0m",
      "\u001b[1;31mValueError\u001b[0m                                Traceback (most recent call last)",
      "Input \u001b[1;32mIn [1]\u001b[0m, in \u001b[0;36m<cell line: 10>\u001b[1;34m()\u001b[0m\n\u001b[0;32m     12\u001b[0m action \u001b[38;5;241m=\u001b[39m env\u001b[38;5;241m.\u001b[39maction_space\u001b[38;5;241m.\u001b[39msample()\n\u001b[0;32m     13\u001b[0m \u001b[38;5;66;03m# Take the action and observe the new state and reward\u001b[39;00m\n\u001b[1;32m---> 14\u001b[0m next_state, reward, done, _ \u001b[38;5;241m=\u001b[39m env\u001b[38;5;241m.\u001b[39mstep(action)\n\u001b[0;32m     15\u001b[0m \u001b[38;5;66;03m# Render the environment\u001b[39;00m\n\u001b[0;32m     16\u001b[0m env\u001b[38;5;241m.\u001b[39mrender()\n",
      "\u001b[1;31mValueError\u001b[0m: too many values to unpack (expected 4)"
     ]
    }
   ],
   "source": [
    "import gym\n",
    "\n",
    "# Create the CartPole environment\n",
    "env = gym.make('CartPole-v1')\n",
    "\n",
    "# Reset the environment\n",
    "state = env.reset()\n",
    "\n",
    "# Run the simulation for 200 steps\n",
    "for _ in range(200):\n",
    "    # Take a random action\n",
    "    action = env.action_space.sample()\n",
    "    # Take the action and observe the new state and reward\n",
    "    next_state, reward, done, _ = env.step(action)\n",
    "    # Render the environment\n",
    "    env.render()\n",
    "    if done:\n",
    "        break"
   ]
  },
  {
   "cell_type": "code",
   "execution_count": 4,
   "id": "1626183a",
   "metadata": {},
   "outputs": [],
   "source": [
    "import gym\n",
    "\n",
    "# Create the CartPole environment\n",
    "env = gym.make('CartPole-v1', render_mode=\"rgb_array\")\n",
    "\n",
    "# Reset the environment\n",
    "state = env.reset()\n",
    "\n",
    "# Run the simulation for 200 steps\n",
    "for _ in range(200):\n",
    "    # Take a random action\n",
    "    action = env.action_space.sample()\n",
    "    # Take the action and observe the new state and reward\n",
    "    next_state, reward, done, *extra_info = env.step(action)\n",
    "    if done:\n",
    "        break\n",
    "    # Render the environment\n",
    "    env.render()\n",
    "\n"
   ]
  },
  {
   "cell_type": "code",
   "execution_count": 5,
   "id": "0b47cd4e",
   "metadata": {},
   "outputs": [
    {
     "data": {
      "image/png": "[encoded data removed]",
      "text/plain": [
       "<Figure size 432x288 with 1 Axes>"
      ]
     },
     "metadata": {
      "needs_background": "light"
     },
     "output_type": "display_data"
    }
   ],
   "source": [
    "import gym\n",
    "import matplotlib.pyplot as plt\n",
    "import matplotlib.animation as animation\n",
    "\n",
    "# Create the CartPole environment\n",
    "env = gym.make('CartPole-v1')\n",
    "\n",
    "# Create a figure to display the animation\n",
    "fig = plt.figure()\n",
    "ax = fig.add_subplot(111)\n",
    "\n",
    "# Define the function to update the animation\n",
    "def update(num):\n",
    "    # Take a random action\n",
    "    action = env.action_space.sample()\n",
    "    # Take the action and observe the new state and reward\n",
    "    state, reward, done, _ = env.step(action)\n",
    "    if done:\n",
    "        env.reset()\n",
    "    # Clear the previous frame\n",
    "    ax.clear()\n",
    "    # Plot the new frame\n",
    "    ax.imshow(env.render(mode='rgb_array'))\n",
    "\n",
    "# Create the animation\n",
    "ani = animation.FuncAnimation(fig, update, interval=50)\n",
    "plt.show()\n"
   ]
  },
  {
   "cell_type": "code",
   "execution_count": 6,
   "id": "23cbd903",
   "metadata": {},
   "outputs": [
    {
     "ename": "ImportError",
     "evalue": "cannot import name 'Monitor' from 'gym.wrappers' (C:\\Users\\Admin\\anaconda3\\envs\\A\\lib\\site-packages\\gym\\wrappers\\__init__.py)",
     "output_type": "error",
     "traceback": [
      "\u001b[1;31m---------------------------------------------------------------------------\u001b[0m",
      "\u001b[1;31mImportError\u001b[0m                               Traceback (most recent call last)",
      "Input \u001b[1;32mIn [6]\u001b[0m, in \u001b[0;36m<cell line: 1>\u001b[1;34m()\u001b[0m\n\u001b[1;32m----> 1\u001b[0m \u001b[38;5;28;01mfrom\u001b[39;00m \u001b[38;5;21;01mgym\u001b[39;00m\u001b[38;5;21;01m.\u001b[39;00m\u001b[38;5;21;01mwrappers\u001b[39;00m \u001b[38;5;28;01mimport\u001b[39;00m Monitor\n\u001b[0;32m      3\u001b[0m env \u001b[38;5;241m=\u001b[39m gym\u001b[38;5;241m.\u001b[39mmake(\u001b[38;5;124m\"\u001b[39m\u001b[38;5;124mCartPole-v1\u001b[39m\u001b[38;5;124m\"\u001b[39m)\n\u001b[0;32m      4\u001b[0m env \u001b[38;5;241m=\u001b[39m Monitor(env, \u001b[38;5;124m\"\u001b[39m\u001b[38;5;124m./gym-results\u001b[39m\u001b[38;5;124m\"\u001b[39m, force\u001b[38;5;241m=\u001b[39m\u001b[38;5;28;01mTrue\u001b[39;00m)\n",
      "\u001b[1;31mImportError\u001b[0m: cannot import name 'Monitor' from 'gym.wrappers' (C:\\Users\\Admin\\anaconda3\\envs\\A\\lib\\site-packages\\gym\\wrappers\\__init__.py)"
     ]
    }
   ],
   "source": [
    "from gym.wrappers import Monitor\n",
    "\n",
    "env = gym.make(\"CartPole-v1\")\n",
    "env = Monitor(env, \"./gym-results\", force=True)"
   ]
  },
  {
   "cell_type": "code",
   "execution_count": 7,
   "id": "a1cccea9",
   "metadata": {},
   "outputs": [
    {
     "ename": "AttributeError",
     "evalue": "module 'gym.wrappers' has no attribute 'Monitor'",
     "output_type": "error",
     "traceback": [
      "\u001b[1;31m---------------------------------------------------------------------------\u001b[0m",
      "\u001b[1;31mAttributeError\u001b[0m                            Traceback (most recent call last)",
      "Input \u001b[1;32mIn [7]\u001b[0m, in \u001b[0;36m<cell line: 9>\u001b[1;34m()\u001b[0m\n\u001b[0;32m      6\u001b[0m env \u001b[38;5;241m=\u001b[39m gym\u001b[38;5;241m.\u001b[39mmake(\u001b[38;5;124m'\u001b[39m\u001b[38;5;124mCartPole-v1\u001b[39m\u001b[38;5;124m'\u001b[39m)\n\u001b[0;32m      8\u001b[0m \u001b[38;5;66;03m# Create a monitor wrapper to record the video\u001b[39;00m\n\u001b[1;32m----> 9\u001b[0m env \u001b[38;5;241m=\u001b[39m \u001b[43mwrappers\u001b[49m\u001b[38;5;241;43m.\u001b[39;49m\u001b[43mMonitor\u001b[49m(env, \u001b[38;5;124m\"\u001b[39m\u001b[38;5;124m./gym-results\u001b[39m\u001b[38;5;124m\"\u001b[39m, force\u001b[38;5;241m=\u001b[39m\u001b[38;5;28;01mTrue\u001b[39;00m)\n\u001b[0;32m     11\u001b[0m \u001b[38;5;66;03m# Define the number of states and actions\u001b[39;00m\n\u001b[0;32m     12\u001b[0m num_states \u001b[38;5;241m=\u001b[39m env\u001b[38;5;241m.\u001b[39mobservation_space\u001b[38;5;241m.\u001b[39mshape[\u001b[38;5;241m0\u001b[39m]\n",
      "\u001b[1;31mAttributeError\u001b[0m: module 'gym.wrappers' has no attribute 'Monitor'"
     ]
    }
   ],
   "source": [
    "import gym\n",
    "from gym import wrappers\n",
    "import numpy as np\n",
    "\n",
    "# Create the CartPole environment\n",
    "env = gym.make('CartPole-v1')\n",
    "\n",
    "# Create a monitor wrapper to record the video\n",
    "env = wrappers.Monitor(env, \"./gym-results\", force=True)\n",
    "\n",
    "# Define the number of states and actions\n",
    "num_states = env.observation_space.shape[0]\n",
    "num_actions = env.action_space.n\n",
    "\n",
    "# Define the Q-table and initialize it to random values\n",
    "q_table = np.random.rand(num_states, num_actions)\n",
    "\n",
    "# Define the learning rate and discount factor\n",
    "alpha = 0.8\n",
    "gamma = 0.95\n",
    "\n",
    "# Define the number of episodes\n",
    "num_episodes = 1000\n",
    "\n",
    "# Train the agent\n",
    "for episode in range(num_episodes):\n",
    "    # Reset the environment\n",
    "    state = env.reset()\n",
    "\n",
    "    # Run the simulation for 200 steps\n",
    "    for step in range(200):\n",
    "        # Choose an action based on the current state\n",
    "        action = np.argmax(q_table[state])\n",
    "\n",
    "        # Take the action and observe the new state and reward\n",
    "        next_state, reward, done, _ = env.step(action)\n",
    "\n",
    "        # Update the Q-value for the current state and action\n",
    "        q_table[state, action] = (1 - alpha) * q_table[state, action] + alpha * (reward + gamma * np.max(q_table[next_state]))\n",
    "\n",
    "        # Update the current state\n",
    "        state = next_state\n",
    "\n",
    "        # Check if the episode is done\n",
    "        if done:\n",
    "            break\n",
    "\n",
    "    # Print the episode number every 50 episodes\n",
    "    if episode % 50 == 0:\n",
    "        print(f\"Episode {episode}\")\n",
    "\n",
    "# Close the environment\n",
    "env.close()\n"
   ]
  },
  {
   "cell_type": "code",
   "execution_count": 8,
   "id": "ae3542d3",
   "metadata": {},
   "outputs": [
    {
     "ename": "ImportError",
     "evalue": "cannot import name 'video_recorder' from 'gym.wrappers' (C:\\Users\\Admin\\anaconda3\\envs\\A\\lib\\site-packages\\gym\\wrappers\\__init__.py)",
     "output_type": "error",
     "traceback": [
      "\u001b[1;31m---------------------------------------------------------------------------\u001b[0m",
      "\u001b[1;31mImportError\u001b[0m                               Traceback (most recent call last)",
      "Input \u001b[1;32mIn [8]\u001b[0m, in \u001b[0;36m<cell line: 2>\u001b[1;34m()\u001b[0m\n\u001b[0;32m      1\u001b[0m \u001b[38;5;28;01mimport\u001b[39;00m \u001b[38;5;21;01mgym\u001b[39;00m\n\u001b[1;32m----> 2\u001b[0m \u001b[38;5;28;01mfrom\u001b[39;00m \u001b[38;5;21;01mgym\u001b[39;00m\u001b[38;5;21;01m.\u001b[39;00m\u001b[38;5;21;01mwrappers\u001b[39;00m \u001b[38;5;28;01mimport\u001b[39;00m video_recorder\n\u001b[0;32m      3\u001b[0m \u001b[38;5;28;01mimport\u001b[39;00m \u001b[38;5;21;01mnumpy\u001b[39;00m \u001b[38;5;28;01mas\u001b[39;00m \u001b[38;5;21;01mnp\u001b[39;00m\n\u001b[0;32m      5\u001b[0m \u001b[38;5;66;03m# Create the CartPole environment\u001b[39;00m\n",
      "\u001b[1;31mImportError\u001b[0m: cannot import name 'video_recorder' from 'gym.wrappers' (C:\\Users\\Admin\\anaconda3\\envs\\A\\lib\\site-packages\\gym\\wrappers\\__init__.py)"
     ]
    }
   ],
   "source": [
    "import gym\n",
    "from gym.wrappers import video_recorder\n",
    "import numpy as np\n",
    "\n",
    "# Create the CartPole environment\n",
    "env = gym.make('CartPole-v1')\n",
    "\n",
    "# Create a monitor wrapper to record the video\n",
    "env = video_recorder.VideoRecorder(env, \"./gym-results\", enabled=True)\n",
    "\n",
    "# Define the number of states and actions\n",
    "num_states = env.observation_space.shape[0]\n",
    "num_actions = env.action_space.n\n",
    "\n",
    "# Define the Q-table and initialize it to random values\n",
    "q_table = np.random.rand(num_states, num_actions)\n",
    "\n",
    "# Define the learning rate and discount factor\n",
    "alpha = 0.8\n",
    "gamma = 0.95\n",
    "\n",
    "# Define the number of episodes\n",
    "num_episodes = 1000\n",
    "\n",
    "# Train the agent\n",
    "for episode in range(num_episodes):\n",
    "    # Reset the environment\n",
    "    state = env.reset()\n",
    "\n",
    "    # Run the simulation for 200 steps\n",
    "    for step in range(200):\n",
    "        # Choose an action based on the current state\n",
    "        action = np.argmax(q_table[state])\n",
    "\n",
    "        # Take the action and observe the new state and reward\n",
    "        next_state, reward, done, _ = env.step(action)\n",
    "\n",
    "        # Update the Q-value for the current state and action\n",
    "        q_table[state, action] = (1 - alpha) * q_table[state, action] + alpha * (reward + gamma * np.max(q_table[next_state]))\n",
    "\n",
    "        # Update the current state\n",
    "        state = next_state\n",
    "\n",
    "        # Check if the episode is done\n",
    "        if done:\n",
    "            break\n",
    "\n",
    "    # Print the episode number every 50 episodes\n",
    "    if episode % 50 == 0:\n",
    "        print(f\"Episode {episode}\")\n",
    "\n",
    "# Close the environment\n",
    "env.close()\n"
   ]
  },
  {
   "cell_type": "code",
   "execution_count": 9,
   "id": "6ede0039",
   "metadata": {},
   "outputs": [
    {
     "ename": "AttributeError",
     "evalue": "module 'gym.wrappers' has no attribute 'Monitor'",
     "output_type": "error",
     "traceback": [
      "\u001b[1;31m---------------------------------------------------------------------------\u001b[0m",
      "\u001b[1;31mAttributeError\u001b[0m                            Traceback (most recent call last)",
      "Input \u001b[1;32mIn [9]\u001b[0m, in \u001b[0;36m<cell line: 8>\u001b[1;34m()\u001b[0m\n\u001b[0;32m      5\u001b[0m env \u001b[38;5;241m=\u001b[39m gym\u001b[38;5;241m.\u001b[39mmake(\u001b[38;5;124m'\u001b[39m\u001b[38;5;124mCartPole-v1\u001b[39m\u001b[38;5;124m'\u001b[39m)\n\u001b[0;32m      7\u001b[0m \u001b[38;5;66;03m# Create a monitor wrapper to record the video\u001b[39;00m\n\u001b[1;32m----> 8\u001b[0m env \u001b[38;5;241m=\u001b[39m \u001b[43mwrappers\u001b[49m\u001b[38;5;241;43m.\u001b[39;49m\u001b[43mMonitor\u001b[49m(env, \u001b[38;5;124m\"\u001b[39m\u001b[38;5;124m./gym-results\u001b[39m\u001b[38;5;124m\"\u001b[39m, force\u001b[38;5;241m=\u001b[39m\u001b[38;5;28;01mTrue\u001b[39;00m)\n\u001b[0;32m     10\u001b[0m \u001b[38;5;66;03m# Define the number of states and actions\u001b[39;00m\n\u001b[0;32m     11\u001b[0m num_states \u001b[38;5;241m=\u001b[39m env\u001b[38;5;241m.\u001b[39mobservation_space\u001b[38;5;241m.\u001b[39mshape[\u001b[38;5;241m0\u001b[39m]\n",
      "\u001b[1;31mAttributeError\u001b[0m: module 'gym.wrappers' has no attribute 'Monitor'"
     ]
    }
   ],
   "source": [
    "!pip install gym_recording\n",
    "import gym\n",
    "from gym import wrappers\n",
    "\n",
    "# Create the CartPole environment\n",
    "env = gym.make('CartPole-v1')\n",
    "\n",
    "# Create a monitor wrapper to record the video\n",
    "env = wrappers.Monitor(env, \"./gym-results\", force=True)\n",
    "\n",
    "# Define the number of states and actions\n",
    "num_states = env.observation_space.shape[0]\n",
    "num_actions = env.action_space.n\n",
    "\n",
    "# Define the Q-table and initialize it to random values\n",
    "q_table = np.random.rand(num_states, num_actions)\n",
    "\n",
    "# Define the learning rate and discount factor\n",
    "alpha = 0.8\n",
    "gamma = 0.95\n",
    "\n",
    "# Define the number of episodes\n",
    "num_episodes = 1000\n",
    "\n",
    "# Train the agent\n",
    "for episode in range(num_episodes):\n",
    "    # Reset the environment\n",
    "    state = env.reset()\n",
    "\n",
    "    # Run the simulation for 200 steps\n",
    "    for step in range(200):\n",
    "        # Choose an action based on the current state\n",
    "        action = np.argmax(q_table[state])\n",
    "\n",
    "        # Take the action and observe the new state and reward\n",
    "        next_state, reward, done, _ = env.step(action)\n",
    "\n",
    "        # Update the Q-value for the current state and action\n",
    "        q_table[state, action] = (1 - alpha) * q_table[state, action] + alpha * (reward + gamma * np.max(q_table[next_state]))\n",
    "\n",
    "        # Update the current state\n",
    "        state = next_state\n",
    "\n",
    "        # Check if the episode is done\n",
    "        if done:\n",
    "            break\n",
    "\n",
    "    # Print the episode number every 50 episodes\n",
    "    if episode % 50 == 0:\n",
    "        print(f\"Episode {episode}\")\n",
    "\n",
    "# Close the environment\n",
    "env.close()\n"
   ]
  },
  {
   "cell_type": "code",
   "execution_count": null,
   "id": "e4668824",
   "metadata": {},
   "outputs": [],
   "source": []
  }
 ],
 "metadata": {},
 "nbformat": 4,
 "nbformat_minor": 5
}
