{
 "cells": [
  {
   "cell_type": "code",
   "execution_count": 1,
   "id": "ab8a43ed",
   "metadata": {},
   "outputs": [],
   "source": [
    "import numpy as np\n",
    "import pandas as pd"
   ]
  },
  {
   "cell_type": "code",
   "execution_count": 2,
   "id": "49447d49",
   "metadata": {},
   "outputs": [
    {
     "data": {
      "text/html": [
       "<div>\n",
       "<style scoped>\n",
       "    .dataframe tbody tr th:only-of-type {\n",
       "        vertical-align: middle;\n",
       "    }\n",
       "\n",
       "    .dataframe tbody tr th {\n",
       "        vertical-align: top;\n",
       "    }\n",
       "\n",
       "    .dataframe thead th {\n",
       "        text-align: right;\n",
       "    }\n",
       "</style>\n",
       "<table border=\"1\" class=\"dataframe\">\n",
       "  <thead>\n",
       "    <tr style=\"text-align: right;\">\n",
       "      <th></th>\n",
       "      <th>SR. NO</th>\n",
       "      <th>MAINTENANCE PLANT</th>\n",
       "      <th>FACILITY</th>\n",
       "      <th>SYSTEM CODE</th>\n",
       "      <th>SYSTEM NAME</th>\n",
       "      <th>SUBSYSTEM</th>\n",
       "      <th>SUPERIOR FUNCTION LOCATION\\n(AS PER SAP HIERARCHY)</th>\n",
       "      <th>SUPERIOR FUNCTION LOCATION\\n(AS PER EQUIPMENT BOUNDARY)</th>\n",
       "      <th>EQUIPMENT UNIT</th>\n",
       "      <th>SUB UNIT</th>\n",
       "      <th>...</th>\n",
       "      <th>TYPE.1</th>\n",
       "      <th>RESOURCE</th>\n",
       "      <th>REQUIRED EQUIPMENT STATUS</th>\n",
       "      <th>TIME BASED INTERVAL</th>\n",
       "      <th>TIME BASED INTERVAL (UOME)</th>\n",
       "      <th>P&amp;ID/DRAWINGS REFERENCE</th>\n",
       "      <th>REMARKS</th>\n",
       "      <th>REFERENCE EQUIPMENT LIST</th>\n",
       "      <th>Comments</th>\n",
       "      <th>Response</th>\n",
       "    </tr>\n",
       "  </thead>\n",
       "  <tbody>\n",
       "    <tr>\n",
       "      <th>0</th>\n",
       "      <td>1</td>\n",
       "      <td>PHASE-1</td>\n",
       "      <td>ONSHORE</td>\n",
       "      <td>210</td>\n",
       "      <td>PUMPING STATION STREAM 1</td>\n",
       "      <td>210-1001-LU-003</td>\n",
       "      <td>OR.RM.A2000.0210.111.003.210-P-210A</td>\n",
       "      <td>OR.RM.A2000.0210.111.003.210-P-210A</td>\n",
       "      <td>PUMP</td>\n",
       "      <td>LUBRICATION SYSTEM</td>\n",
       "      <td>...</td>\n",
       "      <td>OCM-OPERATOR CONDITION MONITORING; CM-CONDITIO...</td>\n",
       "      <td>OPR-OPERATIONS; COND-CONDITION MONITORING; MAI...</td>\n",
       "      <td>ON; ON; OFF</td>\n",
       "      <td>1; 3; 24</td>\n",
       "      <td>WEEK(S); MONTH(S); MONTH(S)</td>\n",
       "      <td>9686-6120-06-PO0004-0001</td>\n",
       "      <td>-</td>\n",
       "      <td>-</td>\n",
       "      <td>NaN</td>\n",
       "      <td>NaN</td>\n",
       "    </tr>\n",
       "    <tr>\n",
       "      <th>1</th>\n",
       "      <td>2</td>\n",
       "      <td>PHASE-1</td>\n",
       "      <td>ONSHORE</td>\n",
       "      <td>210</td>\n",
       "      <td>PUMPING STATION STREAM 1</td>\n",
       "      <td>210-1001-LU-003</td>\n",
       "      <td>OR.RM.A2000.0210.111.003.210-P-210A</td>\n",
       "      <td>OR.RM.A2000.0210.111.003.210-P-210A</td>\n",
       "      <td>PUMP</td>\n",
       "      <td>LUBRICATION SYSTEM</td>\n",
       "      <td>...</td>\n",
       "      <td>CM-CONDITION MONITORING; PT-PREVENTIVE TASK</td>\n",
       "      <td>COND-CONDITION MONITORING; MAINT-MAINTENANCE</td>\n",
       "      <td>ON; OFF</td>\n",
       "      <td>3; 24</td>\n",
       "      <td>MONTH(S); MONTH(S)</td>\n",
       "      <td>9686-6120-06-PO0004-0001</td>\n",
       "      <td>-</td>\n",
       "      <td>-</td>\n",
       "      <td>Please try to assign Failure finding task (Fun...</td>\n",
       "      <td>Updated for all the equioment with Function Te...</td>\n",
       "    </tr>\n",
       "  </tbody>\n",
       "</table>\n",
       "<p>2 rows × 72 columns</p>\n",
       "</div>"
      ],
      "text/plain": [
       "   SR. NO MAINTENANCE PLANT FACILITY SYSTEM CODE               SYSTEM NAME  \\\n",
       "0       1           PHASE-1  ONSHORE         210  PUMPING STATION STREAM 1   \n",
       "1       2           PHASE-1  ONSHORE         210  PUMPING STATION STREAM 1   \n",
       "\n",
       "         SUBSYSTEM SUPERIOR FUNCTION LOCATION\\n(AS PER SAP HIERARCHY)  \\\n",
       "0  210-1001-LU-003                OR.RM.A2000.0210.111.003.210-P-210A   \n",
       "1  210-1001-LU-003                OR.RM.A2000.0210.111.003.210-P-210A   \n",
       "\n",
       "  SUPERIOR FUNCTION LOCATION\\n(AS PER EQUIPMENT BOUNDARY) EQUIPMENT UNIT  \\\n",
       "0                OR.RM.A2000.0210.111.003.210-P-210A                PUMP   \n",
       "1                OR.RM.A2000.0210.111.003.210-P-210A                PUMP   \n",
       "\n",
       "             SUB UNIT  ...                                             TYPE.1  \\\n",
       "0  LUBRICATION SYSTEM  ...  OCM-OPERATOR CONDITION MONITORING; CM-CONDITIO...   \n",
       "1  LUBRICATION SYSTEM  ...        CM-CONDITION MONITORING; PT-PREVENTIVE TASK   \n",
       "\n",
       "                                            RESOURCE  \\\n",
       "0  OPR-OPERATIONS; COND-CONDITION MONITORING; MAI...   \n",
       "1       COND-CONDITION MONITORING; MAINT-MAINTENANCE   \n",
       "\n",
       "  REQUIRED EQUIPMENT STATUS TIME BASED INTERVAL   TIME BASED INTERVAL (UOME)  \\\n",
       "0               ON; ON; OFF            1; 3; 24  WEEK(S); MONTH(S); MONTH(S)   \n",
       "1                   ON; OFF               3; 24           MONTH(S); MONTH(S)   \n",
       "\n",
       "     P&ID/DRAWINGS REFERENCE REMARKS REFERENCE EQUIPMENT LIST  \\\n",
       "0  9686-6120-06-PO0004-0001        -                        -   \n",
       "1  9686-6120-06-PO0004-0001        -                        -   \n",
       "\n",
       "                                            Comments  \\\n",
       "0                                                NaN   \n",
       "1  Please try to assign Failure finding task (Fun...   \n",
       "\n",
       "                                            Response  \n",
       "0                                                NaN  \n",
       "1  Updated for all the equioment with Function Te...  \n",
       "\n",
       "[2 rows x 72 columns]"
      ]
     },
     "execution_count": 2,
     "metadata": {},
     "output_type": "execute_result"
    }
   ],
   "source": [
    "df = pd.read_csv('FMEA.csv')\n",
    "df.head(2)"
   ]
  },
  {
   "cell_type": "code",
   "execution_count": 3,
   "id": "89a36a64",
   "metadata": {},
   "outputs": [],
   "source": [
    "df = df[['EQUIPMENT DESCRIPTION', 'OBJECT TYPE', 'EQUIPMENT CLASS', 'TYPE',\n",
    "       'SERVICE', 'FUNCTION', 'FAILURE MODE', 'FAILURE CATEGORIZATION',\n",
    "       'FAILURE CLASSIFICATION', 'POF', 'HEALTH & SAFETY COF',\n",
    "       'HEALTH & SAFETY RISK', 'POF.1', 'ENVIRONMENT COF', 'ENVIRONMENT RISK',\n",
    "       'POF.2', 'FINANCIAL COF', 'FINANCIAL RISK', 'POF.3', 'REPUTATION COF',\n",
    "       'REPUTATION RISK', 'OVERALL RISK (BY FAILURE MODE)',\n",
    "       'OVERALL RISK (BY EQUIPMENT)']]"
   ]
  },
  {
   "cell_type": "code",
   "execution_count": 4,
   "id": "fa79ae99",
   "metadata": {},
   "outputs": [
    {
     "data": {
      "text/html": [
       "<div>\n",
       "<style scoped>\n",
       "    .dataframe tbody tr th:only-of-type {\n",
       "        vertical-align: middle;\n",
       "    }\n",
       "\n",
       "    .dataframe tbody tr th {\n",
       "        vertical-align: top;\n",
       "    }\n",
       "\n",
       "    .dataframe thead th {\n",
       "        text-align: right;\n",
       "    }\n",
       "</style>\n",
       "<table border=\"1\" class=\"dataframe\">\n",
       "  <thead>\n",
       "    <tr style=\"text-align: right;\">\n",
       "      <th></th>\n",
       "      <th>EQUIPMENT DESCRIPTION</th>\n",
       "      <th>OBJECT TYPE</th>\n",
       "      <th>EQUIPMENT CLASS</th>\n",
       "      <th>TYPE</th>\n",
       "      <th>SERVICE</th>\n",
       "      <th>FUNCTION</th>\n",
       "      <th>FAILURE MODE</th>\n",
       "      <th>FAILURE CATEGORIZATION</th>\n",
       "      <th>FAILURE CLASSIFICATION</th>\n",
       "      <th>POF</th>\n",
       "      <th>...</th>\n",
       "      <th>ENVIRONMENT COF</th>\n",
       "      <th>ENVIRONMENT RISK</th>\n",
       "      <th>POF.2</th>\n",
       "      <th>FINANCIAL COF</th>\n",
       "      <th>FINANCIAL RISK</th>\n",
       "      <th>POF.3</th>\n",
       "      <th>REPUTATION COF</th>\n",
       "      <th>REPUTATION RISK</th>\n",
       "      <th>OVERALL RISK (BY FAILURE MODE)</th>\n",
       "      <th>OVERALL RISK (BY EQUIPMENT)</th>\n",
       "    </tr>\n",
       "  </thead>\n",
       "  <tbody>\n",
       "    <tr>\n",
       "      <th>0</th>\n",
       "      <td>LUBE OIL COOLER FAN MOTOR 1 FOR CRUDE OIL BOOS...</td>\n",
       "      <td>MOTOR</td>\n",
       "      <td>MOTOR_LV</td>\n",
       "      <td>LOW VOLTAGE LUBE OIL COOLER FAN MOTOR</td>\n",
       "      <td>-</td>\n",
       "      <td>TO DRIVE THE LUBE OIL COOLER FAN FOR COOLING O...</td>\n",
       "      <td>BREAKDOWN</td>\n",
       "      <td>CRITICAL</td>\n",
       "      <td>EVIDENT</td>\n",
       "      <td>C</td>\n",
       "      <td>...</td>\n",
       "      <td>1</td>\n",
       "      <td>1C</td>\n",
       "      <td>C</td>\n",
       "      <td>1</td>\n",
       "      <td>1C</td>\n",
       "      <td>C</td>\n",
       "      <td>1</td>\n",
       "      <td>1C</td>\n",
       "      <td>LOW</td>\n",
       "      <td>MEDIUM</td>\n",
       "    </tr>\n",
       "    <tr>\n",
       "      <th>1</th>\n",
       "      <td>LUBE OIL COOLER FAN MOTOR 1 FOR CRUDE OIL BOOS...</td>\n",
       "      <td>MOTOR</td>\n",
       "      <td>MOTOR_LV</td>\n",
       "      <td>LOW VOLTAGE LUBE OIL COOLER FAN MOTOR</td>\n",
       "      <td>-</td>\n",
       "      <td>TO DRIVE THE LUBE OIL COOLER FAN FOR COOLING O...</td>\n",
       "      <td>FAIL TO START ON DEMAND</td>\n",
       "      <td>CRITICAL</td>\n",
       "      <td>HIDDEN</td>\n",
       "      <td>D</td>\n",
       "      <td>...</td>\n",
       "      <td>1</td>\n",
       "      <td>1D</td>\n",
       "      <td>D</td>\n",
       "      <td>2</td>\n",
       "      <td>2D</td>\n",
       "      <td>D</td>\n",
       "      <td>2</td>\n",
       "      <td>2D</td>\n",
       "      <td>MEDIUM</td>\n",
       "      <td>MEDIUM</td>\n",
       "    </tr>\n",
       "  </tbody>\n",
       "</table>\n",
       "<p>2 rows × 23 columns</p>\n",
       "</div>"
      ],
      "text/plain": [
       "                               EQUIPMENT DESCRIPTION OBJECT TYPE  \\\n",
       "0  LUBE OIL COOLER FAN MOTOR 1 FOR CRUDE OIL BOOS...       MOTOR   \n",
       "1  LUBE OIL COOLER FAN MOTOR 1 FOR CRUDE OIL BOOS...       MOTOR   \n",
       "\n",
       "  EQUIPMENT CLASS                                   TYPE SERVICE  \\\n",
       "0        MOTOR_LV  LOW VOLTAGE LUBE OIL COOLER FAN MOTOR       -   \n",
       "1        MOTOR_LV  LOW VOLTAGE LUBE OIL COOLER FAN MOTOR       -   \n",
       "\n",
       "                                            FUNCTION             FAILURE MODE  \\\n",
       "0  TO DRIVE THE LUBE OIL COOLER FAN FOR COOLING O...                BREAKDOWN   \n",
       "1  TO DRIVE THE LUBE OIL COOLER FAN FOR COOLING O...  FAIL TO START ON DEMAND   \n",
       "\n",
       "  FAILURE CATEGORIZATION FAILURE CLASSIFICATION POF  ...  ENVIRONMENT COF  \\\n",
       "0               CRITICAL                EVIDENT   C  ...                1   \n",
       "1               CRITICAL                 HIDDEN   D  ...                1   \n",
       "\n",
       "  ENVIRONMENT RISK POF.2  FINANCIAL COF FINANCIAL RISK POF.3  REPUTATION COF  \\\n",
       "0               1C     C              1             1C     C               1   \n",
       "1               1D     D              2             2D     D               2   \n",
       "\n",
       "  REPUTATION RISK OVERALL RISK (BY FAILURE MODE)  OVERALL RISK (BY EQUIPMENT)  \n",
       "0              1C                            LOW                       MEDIUM  \n",
       "1              2D                         MEDIUM                       MEDIUM  \n",
       "\n",
       "[2 rows x 23 columns]"
      ]
     },
     "execution_count": 4,
     "metadata": {},
     "output_type": "execute_result"
    }
   ],
   "source": [
    "df.head(2)"
   ]
  },
  {
   "cell_type": "code",
   "execution_count": 5,
   "id": "1fb23784",
   "metadata": {},
   "outputs": [
    {
     "data": {
      "text/plain": [
       "(4427, 23)"
      ]
     },
     "execution_count": 5,
     "metadata": {},
     "output_type": "execute_result"
    }
   ],
   "source": [
    "df.shape"
   ]
  },
  {
   "cell_type": "code",
   "execution_count": 6,
   "id": "f4d3fb7a",
   "metadata": {},
   "outputs": [
    {
     "data": {
      "text/plain": [
       "Index(['EQUIPMENT DESCRIPTION', 'OBJECT TYPE', 'EQUIPMENT CLASS', 'TYPE',\n",
       "       'SERVICE', 'FUNCTION', 'FAILURE MODE', 'FAILURE CATEGORIZATION',\n",
       "       'FAILURE CLASSIFICATION', 'POF', 'HEALTH & SAFETY COF',\n",
       "       'HEALTH & SAFETY RISK', 'POF.1', 'ENVIRONMENT COF', 'ENVIRONMENT RISK',\n",
       "       'POF.2', 'FINANCIAL COF', 'FINANCIAL RISK', 'POF.3', 'REPUTATION COF',\n",
       "       'REPUTATION RISK', 'OVERALL RISK (BY FAILURE MODE)',\n",
       "       'OVERALL RISK (BY EQUIPMENT)'],\n",
       "      dtype='object')"
      ]
     },
     "execution_count": 6,
     "metadata": {},
     "output_type": "execute_result"
    }
   ],
   "source": [
    "df.columns"
   ]
  },
  {
   "cell_type": "code",
   "execution_count": 7,
   "id": "56188dba",
   "metadata": {
    "scrolled": true
   },
   "outputs": [
    {
     "data": {
      "text/plain": [
       "EQUIPMENT DESCRIPTION             object\n",
       "OBJECT TYPE                       object\n",
       "EQUIPMENT CLASS                   object\n",
       "TYPE                              object\n",
       "SERVICE                           object\n",
       "FUNCTION                          object\n",
       "FAILURE MODE                      object\n",
       "FAILURE CATEGORIZATION            object\n",
       "FAILURE CLASSIFICATION            object\n",
       "POF                               object\n",
       "HEALTH & SAFETY COF                int64\n",
       "HEALTH & SAFETY RISK              object\n",
       "POF.1                             object\n",
       "ENVIRONMENT COF                    int64\n",
       "ENVIRONMENT RISK                  object\n",
       "POF.2                             object\n",
       "FINANCIAL COF                      int64\n",
       "FINANCIAL RISK                    object\n",
       "POF.3                             object\n",
       "REPUTATION COF                     int64\n",
       "REPUTATION RISK                   object\n",
       "OVERALL RISK (BY FAILURE MODE)    object\n",
       "OVERALL RISK (BY EQUIPMENT)       object\n",
       "dtype: object"
      ]
     },
     "execution_count": 7,
     "metadata": {},
     "output_type": "execute_result"
    }
   ],
   "source": [
    "df.dtypes"
   ]
  },
  {
   "cell_type": "code",
   "execution_count": 8,
   "id": "e75404d4",
   "metadata": {
    "scrolled": false
   },
   "outputs": [
    {
     "data": {
      "text/plain": [
       "Index(['EQUIPMENT DESCRIPTION', 'OBJECT TYPE', 'EQUIPMENT CLASS', 'TYPE',\n",
       "       'SERVICE', 'FUNCTION', 'FAILURE MODE', 'FAILURE CATEGORIZATION',\n",
       "       'FAILURE CLASSIFICATION', 'POF', 'HEALTH & SAFETY COF',\n",
       "       'HEALTH & SAFETY RISK', 'POF.1', 'ENVIRONMENT COF', 'ENVIRONMENT RISK',\n",
       "       'POF.2', 'FINANCIAL COF', 'FINANCIAL RISK', 'POF.3', 'REPUTATION COF',\n",
       "       'REPUTATION RISK', 'OVERALL RISK (BY FAILURE MODE)',\n",
       "       'OVERALL RISK (BY EQUIPMENT)'],\n",
       "      dtype='object')"
      ]
     },
     "execution_count": 8,
     "metadata": {},
     "output_type": "execute_result"
    }
   ],
   "source": [
    "df.columns"
   ]
  },
  {
   "cell_type": "code",
   "execution_count": 9,
   "id": "ff460155",
   "metadata": {},
   "outputs": [],
   "source": [
    "df1 = df.copy()"
   ]
  },
  {
   "cell_type": "code",
   "execution_count": 10,
   "id": "57a3efc8",
   "metadata": {},
   "outputs": [],
   "source": [
    "df1 = df1.dropna()"
   ]
  },
  {
   "cell_type": "code",
   "execution_count": 11,
   "id": "ff57cbb6",
   "metadata": {
    "scrolled": true
   },
   "outputs": [
    {
     "data": {
      "text/plain": [
       "(4247, 23)"
      ]
     },
     "execution_count": 11,
     "metadata": {},
     "output_type": "execute_result"
    }
   ],
   "source": [
    "df1.shape"
   ]
  },
  {
   "cell_type": "code",
   "execution_count": 12,
   "id": "279fabd4",
   "metadata": {},
   "outputs": [
    {
     "data": {
      "text/html": [
       "<div>\n",
       "<style scoped>\n",
       "    .dataframe tbody tr th:only-of-type {\n",
       "        vertical-align: middle;\n",
       "    }\n",
       "\n",
       "    .dataframe tbody tr th {\n",
       "        vertical-align: top;\n",
       "    }\n",
       "\n",
       "    .dataframe thead th {\n",
       "        text-align: right;\n",
       "    }\n",
       "</style>\n",
       "<table border=\"1\" class=\"dataframe\">\n",
       "  <thead>\n",
       "    <tr style=\"text-align: right;\">\n",
       "      <th></th>\n",
       "      <th>EQUIPMENT DESCRIPTION</th>\n",
       "      <th>OBJECT TYPE</th>\n",
       "      <th>EQUIPMENT CLASS</th>\n",
       "      <th>TYPE</th>\n",
       "      <th>SERVICE</th>\n",
       "      <th>FUNCTION</th>\n",
       "      <th>FAILURE MODE</th>\n",
       "      <th>FAILURE CATEGORIZATION</th>\n",
       "      <th>FAILURE CLASSIFICATION</th>\n",
       "      <th>POF</th>\n",
       "      <th>...</th>\n",
       "      <th>ENVIRONMENT COF</th>\n",
       "      <th>ENVIRONMENT RISK</th>\n",
       "      <th>POF.2</th>\n",
       "      <th>FINANCIAL COF</th>\n",
       "      <th>FINANCIAL RISK</th>\n",
       "      <th>POF.3</th>\n",
       "      <th>REPUTATION COF</th>\n",
       "      <th>REPUTATION RISK</th>\n",
       "      <th>OVERALL RISK (BY FAILURE MODE)</th>\n",
       "      <th>OVERALL RISK (BY EQUIPMENT)</th>\n",
       "    </tr>\n",
       "  </thead>\n",
       "  <tbody>\n",
       "    <tr>\n",
       "      <th>0</th>\n",
       "      <td>LUBE OIL COOLER FAN MOTOR 1 FOR CRUDE OIL BOOS...</td>\n",
       "      <td>MOTOR</td>\n",
       "      <td>MOTOR_LV</td>\n",
       "      <td>LOW VOLTAGE LUBE OIL COOLER FAN MOTOR</td>\n",
       "      <td>-</td>\n",
       "      <td>TO DRIVE THE LUBE OIL COOLER FAN FOR COOLING O...</td>\n",
       "      <td>BREAKDOWN</td>\n",
       "      <td>CRITICAL</td>\n",
       "      <td>EVIDENT</td>\n",
       "      <td>C</td>\n",
       "      <td>...</td>\n",
       "      <td>1</td>\n",
       "      <td>1C</td>\n",
       "      <td>C</td>\n",
       "      <td>1</td>\n",
       "      <td>1C</td>\n",
       "      <td>C</td>\n",
       "      <td>1</td>\n",
       "      <td>1C</td>\n",
       "      <td>LOW</td>\n",
       "      <td>MEDIUM</td>\n",
       "    </tr>\n",
       "    <tr>\n",
       "      <th>1</th>\n",
       "      <td>LUBE OIL COOLER FAN MOTOR 1 FOR CRUDE OIL BOOS...</td>\n",
       "      <td>MOTOR</td>\n",
       "      <td>MOTOR_LV</td>\n",
       "      <td>LOW VOLTAGE LUBE OIL COOLER FAN MOTOR</td>\n",
       "      <td>-</td>\n",
       "      <td>TO DRIVE THE LUBE OIL COOLER FAN FOR COOLING O...</td>\n",
       "      <td>FAIL TO START ON DEMAND</td>\n",
       "      <td>CRITICAL</td>\n",
       "      <td>HIDDEN</td>\n",
       "      <td>D</td>\n",
       "      <td>...</td>\n",
       "      <td>1</td>\n",
       "      <td>1D</td>\n",
       "      <td>D</td>\n",
       "      <td>2</td>\n",
       "      <td>2D</td>\n",
       "      <td>D</td>\n",
       "      <td>2</td>\n",
       "      <td>2D</td>\n",
       "      <td>MEDIUM</td>\n",
       "      <td>MEDIUM</td>\n",
       "    </tr>\n",
       "  </tbody>\n",
       "</table>\n",
       "<p>2 rows × 23 columns</p>\n",
       "</div>"
      ],
      "text/plain": [
       "                               EQUIPMENT DESCRIPTION OBJECT TYPE  \\\n",
       "0  LUBE OIL COOLER FAN MOTOR 1 FOR CRUDE OIL BOOS...       MOTOR   \n",
       "1  LUBE OIL COOLER FAN MOTOR 1 FOR CRUDE OIL BOOS...       MOTOR   \n",
       "\n",
       "  EQUIPMENT CLASS                                   TYPE SERVICE  \\\n",
       "0        MOTOR_LV  LOW VOLTAGE LUBE OIL COOLER FAN MOTOR       -   \n",
       "1        MOTOR_LV  LOW VOLTAGE LUBE OIL COOLER FAN MOTOR       -   \n",
       "\n",
       "                                            FUNCTION             FAILURE MODE  \\\n",
       "0  TO DRIVE THE LUBE OIL COOLER FAN FOR COOLING O...                BREAKDOWN   \n",
       "1  TO DRIVE THE LUBE OIL COOLER FAN FOR COOLING O...  FAIL TO START ON DEMAND   \n",
       "\n",
       "  FAILURE CATEGORIZATION FAILURE CLASSIFICATION POF  ...  ENVIRONMENT COF  \\\n",
       "0               CRITICAL                EVIDENT   C  ...                1   \n",
       "1               CRITICAL                 HIDDEN   D  ...                1   \n",
       "\n",
       "  ENVIRONMENT RISK POF.2  FINANCIAL COF FINANCIAL RISK POF.3  REPUTATION COF  \\\n",
       "0               1C     C              1             1C     C               1   \n",
       "1               1D     D              2             2D     D               2   \n",
       "\n",
       "  REPUTATION RISK OVERALL RISK (BY FAILURE MODE)  OVERALL RISK (BY EQUIPMENT)  \n",
       "0              1C                            LOW                       MEDIUM  \n",
       "1              2D                         MEDIUM                       MEDIUM  \n",
       "\n",
       "[2 rows x 23 columns]"
      ]
     },
     "execution_count": 12,
     "metadata": {},
     "output_type": "execute_result"
    }
   ],
   "source": [
    "df1.head(2)"
   ]
  },
  {
   "cell_type": "code",
   "execution_count": 13,
   "id": "0fa0ae97",
   "metadata": {},
   "outputs": [],
   "source": [
    "df1 = df1[['EQUIPMENT CLASS','SERVICE','FAILURE MODE','FAILURE CATEGORIZATION',\n",
    "       'FAILURE CLASSIFICATION','HEALTH & SAFETY RISK', 'ENVIRONMENT RISK','FINANCIAL RISK','REPUTATION RISK','OVERALL RISK (BY FAILURE MODE)']]"
   ]
  },
  {
   "cell_type": "code",
   "execution_count": 14,
   "id": "b7789515",
   "metadata": {},
   "outputs": [
    {
     "data": {
      "text/plain": [
       "(4247, 10)"
      ]
     },
     "execution_count": 14,
     "metadata": {},
     "output_type": "execute_result"
    }
   ],
   "source": [
    "df1.shape"
   ]
  },
  {
   "cell_type": "code",
   "execution_count": 15,
   "id": "aea0f294",
   "metadata": {},
   "outputs": [
    {
     "data": {
      "text/plain": [
       "array(['-', 'LUBE OIL', 'PROCESS', 'CRUDE OIL', 'SEA WATER', 'SLOP OIL',\n",
       "       'RECOVERED OIL', 'OILY WATER', 'DESALINATED WATER',\n",
       "       'POTABLE WATER', 'BRINE WATER', 'OILY WATER SYSTEM', 'SANITARY',\n",
       "       'WASTE WATER', 'AIR', 'FLOCCULANT', 'DEMULSIFIER', 'COAGULANT',\n",
       "       'TREATED WATER', 'POTENTIALLY CONTAMINATED SURFACE WATER',\n",
       "       'SANITARY WATER', 'CAUSTIC SODA', 'IRON SULPHATE', 'PROCESS WATER',\n",
       "       'PROCESS AIR', 'PORTABLE WATER', 'VENT GAS',\n",
       "       'SODIUM HYPOSCHLORITE', 'SULPHURIC ACID', 'CARBON DIOXIDE'],\n",
       "      dtype=object)"
      ]
     },
     "execution_count": 15,
     "metadata": {},
     "output_type": "execute_result"
    }
   ],
   "source": [
    "df1['SERVICE'].unique()"
   ]
  },
  {
   "cell_type": "code",
   "execution_count": 16,
   "id": "66246b8a",
   "metadata": {},
   "outputs": [],
   "source": [
    "df1['SERVICE'] = df1['SERVICE'].replace('-','ELECTRIC CURRENT')"
   ]
  },
  {
   "cell_type": "code",
   "execution_count": 17,
   "id": "c0b1432c",
   "metadata": {},
   "outputs": [
    {
     "data": {
      "text/plain": [
       "array(['ELECTRIC CURRENT', 'LUBE OIL', 'PROCESS', 'CRUDE OIL',\n",
       "       'SEA WATER', 'SLOP OIL', 'RECOVERED OIL', 'OILY WATER',\n",
       "       'DESALINATED WATER', 'POTABLE WATER', 'BRINE WATER',\n",
       "       'OILY WATER SYSTEM', 'SANITARY', 'WASTE WATER', 'AIR',\n",
       "       'FLOCCULANT', 'DEMULSIFIER', 'COAGULANT', 'TREATED WATER',\n",
       "       'POTENTIALLY CONTAMINATED SURFACE WATER', 'SANITARY WATER',\n",
       "       'CAUSTIC SODA', 'IRON SULPHATE', 'PROCESS WATER', 'PROCESS AIR',\n",
       "       'PORTABLE WATER', 'VENT GAS', 'SODIUM HYPOSCHLORITE',\n",
       "       'SULPHURIC ACID', 'CARBON DIOXIDE'], dtype=object)"
      ]
     },
     "execution_count": 17,
     "metadata": {},
     "output_type": "execute_result"
    }
   ],
   "source": [
    "df1['SERVICE'].unique()"
   ]
  },
  {
   "cell_type": "code",
   "execution_count": 18,
   "id": "8700d1ee",
   "metadata": {},
   "outputs": [
    {
     "name": "stdout",
     "output_type": "stream",
     "text": [
      "<class 'pandas.core.frame.DataFrame'>\n",
      "Int64Index: 4247 entries, 0 to 4426\n",
      "Data columns (total 10 columns):\n",
      " #   Column                          Non-Null Count  Dtype \n",
      "---  ------                          --------------  ----- \n",
      " 0   EQUIPMENT CLASS                 4247 non-null   object\n",
      " 1   SERVICE                         4247 non-null   object\n",
      " 2   FAILURE MODE                    4247 non-null   object\n",
      " 3   FAILURE CATEGORIZATION          4247 non-null   object\n",
      " 4   FAILURE CLASSIFICATION          4247 non-null   object\n",
      " 5   HEALTH & SAFETY RISK            4247 non-null   object\n",
      " 6   ENVIRONMENT RISK                4247 non-null   object\n",
      " 7   FINANCIAL RISK                  4247 non-null   object\n",
      " 8   REPUTATION RISK                 4247 non-null   object\n",
      " 9   OVERALL RISK (BY FAILURE MODE)  4247 non-null   object\n",
      "dtypes: object(10)\n",
      "memory usage: 365.0+ KB\n"
     ]
    }
   ],
   "source": [
    "df1.info()"
   ]
  },
  {
   "cell_type": "code",
   "execution_count": 19,
   "id": "b877da97",
   "metadata": {},
   "outputs": [],
   "source": [
    "# df2 = pd.get_dummies(df1,columns=['EQUIPMENT CLASS','SERVICE','FAILURE MODE','FAILURE CATEGORIZATION','FAILURE CLASSIFICATION','HEALTH & SAFETY RISK', 'ENVIRONMENT RISK','FINANCIAL RISK','REPUTATION RISK'],drop_first = True)"
   ]
  },
  {
   "cell_type": "code",
   "execution_count": 20,
   "id": "ddf7e6c7",
   "metadata": {},
   "outputs": [],
   "source": [
    "# df2.head(2)"
   ]
  },
  {
   "cell_type": "code",
   "execution_count": 21,
   "id": "2e186d4a",
   "metadata": {},
   "outputs": [
    {
     "data": {
      "text/html": [
       "<div>\n",
       "<style scoped>\n",
       "    .dataframe tbody tr th:only-of-type {\n",
       "        vertical-align: middle;\n",
       "    }\n",
       "\n",
       "    .dataframe tbody tr th {\n",
       "        vertical-align: top;\n",
       "    }\n",
       "\n",
       "    .dataframe thead th {\n",
       "        text-align: right;\n",
       "    }\n",
       "</style>\n",
       "<table border=\"1\" class=\"dataframe\">\n",
       "  <thead>\n",
       "    <tr style=\"text-align: right;\">\n",
       "      <th></th>\n",
       "      <th>EQUIPMENT CLASS</th>\n",
       "      <th>SERVICE</th>\n",
       "      <th>FAILURE MODE</th>\n",
       "      <th>FAILURE CATEGORIZATION</th>\n",
       "      <th>FAILURE CLASSIFICATION</th>\n",
       "      <th>HEALTH &amp; SAFETY RISK</th>\n",
       "      <th>ENVIRONMENT RISK</th>\n",
       "      <th>FINANCIAL RISK</th>\n",
       "      <th>REPUTATION RISK</th>\n",
       "      <th>OVERALL RISK (BY FAILURE MODE)</th>\n",
       "    </tr>\n",
       "  </thead>\n",
       "  <tbody>\n",
       "    <tr>\n",
       "      <th>0</th>\n",
       "      <td>MOTOR_LV</td>\n",
       "      <td>ELECTRIC CURRENT</td>\n",
       "      <td>BREAKDOWN</td>\n",
       "      <td>CRITICAL</td>\n",
       "      <td>EVIDENT</td>\n",
       "      <td>1C</td>\n",
       "      <td>1C</td>\n",
       "      <td>1C</td>\n",
       "      <td>1C</td>\n",
       "      <td>LOW</td>\n",
       "    </tr>\n",
       "    <tr>\n",
       "      <th>1</th>\n",
       "      <td>MOTOR_LV</td>\n",
       "      <td>ELECTRIC CURRENT</td>\n",
       "      <td>FAIL TO START ON DEMAND</td>\n",
       "      <td>CRITICAL</td>\n",
       "      <td>HIDDEN</td>\n",
       "      <td>1D</td>\n",
       "      <td>1D</td>\n",
       "      <td>2D</td>\n",
       "      <td>2D</td>\n",
       "      <td>MEDIUM</td>\n",
       "    </tr>\n",
       "  </tbody>\n",
       "</table>\n",
       "</div>"
      ],
      "text/plain": [
       "  EQUIPMENT CLASS           SERVICE             FAILURE MODE  \\\n",
       "0        MOTOR_LV  ELECTRIC CURRENT                BREAKDOWN   \n",
       "1        MOTOR_LV  ELECTRIC CURRENT  FAIL TO START ON DEMAND   \n",
       "\n",
       "  FAILURE CATEGORIZATION FAILURE CLASSIFICATION HEALTH & SAFETY RISK  \\\n",
       "0               CRITICAL                EVIDENT                   1C   \n",
       "1               CRITICAL                 HIDDEN                   1D   \n",
       "\n",
       "  ENVIRONMENT RISK FINANCIAL RISK REPUTATION RISK  \\\n",
       "0               1C             1C              1C   \n",
       "1               1D             2D              2D   \n",
       "\n",
       "  OVERALL RISK (BY FAILURE MODE)  \n",
       "0                            LOW  \n",
       "1                         MEDIUM  "
      ]
     },
     "execution_count": 21,
     "metadata": {},
     "output_type": "execute_result"
    }
   ],
   "source": [
    "df1.head(2)"
   ]
  },
  {
   "cell_type": "code",
   "execution_count": 22,
   "id": "6b2a936c",
   "metadata": {},
   "outputs": [],
   "source": [
    "X = df1.drop(['OVERALL RISK (BY FAILURE MODE)'],axis = 1)\n",
    "y = df1['OVERALL RISK (BY FAILURE MODE)']"
   ]
  },
  {
   "cell_type": "code",
   "execution_count": 23,
   "id": "6ba2e07e",
   "metadata": {},
   "outputs": [
    {
     "name": "stderr",
     "output_type": "stream",
     "text": [
      "C:\\Users\\Admin\\anaconda3\\envs\\A\\lib\\site-packages\\scipy\\__init__.py:146: UserWarning: A NumPy version >=1.16.5 and <1.23.0 is required for this version of SciPy (detected version 1.23.4\n",
      "  warnings.warn(f\"A NumPy version >={np_minversion} and <{np_maxversion}\"\n"
     ]
    }
   ],
   "source": [
    "from sklearn.model_selection import train_test_split\n",
    "X_train,X_test,y_train,y_test = train_test_split(X,y,test_size=0.15,random_state=2)"
   ]
  },
  {
   "cell_type": "code",
   "execution_count": 24,
   "id": "02050379",
   "metadata": {},
   "outputs": [],
   "source": [
    "from sklearn.tree import DecisionTreeClassifier\n",
    "from sklearn.ensemble import RandomForestClassifier,GradientBoostingClassifier,AdaBoostClassifier\n",
    "from sklearn.svm import SVC\n",
    "from xgboost import XGBClassifier"
   ]
  },
  {
   "cell_type": "code",
   "execution_count": 25,
   "id": "48949c05",
   "metadata": {},
   "outputs": [
    {
     "data": {
      "text/plain": [
       "'\\nle = LabelEncoder()\\nle.fit(y_train)\\n\\ny_train = le.transform(y_train)\\ny_test = le.transform(y_test)\\ny_train '"
      ]
     },
     "execution_count": 25,
     "metadata": {},
     "output_type": "execute_result"
    }
   ],
   "source": [
    "\n",
    "\n",
    "\"\"\"\n",
    "le = LabelEncoder()\n",
    "le.fit(y_train)\n",
    "\n",
    "y_train = le.transform(y_train)\n",
    "y_test = le.transform(y_test)\n",
    "y_train \"\"\""
   ]
  },
  {
   "cell_type": "code",
   "execution_count": 26,
   "id": "65a1f70f",
   "metadata": {},
   "outputs": [],
   "source": [
    "from sklearn.compose import ColumnTransformer\n",
    "from sklearn.pipeline import Pipeline\n",
    "from sklearn.preprocessing import OneHotEncoder\n",
    "from sklearn.preprocessing import LabelEncoder"
   ]
  },
  {
   "cell_type": "code",
   "execution_count": 28,
   "id": "99667f3d",
   "metadata": {},
   "outputs": [],
   "source": [
    "from sklearn.metrics import accuracy_score"
   ]
  },
  {
   "cell_type": "code",
   "execution_count": 29,
   "id": "d33cf40a",
   "metadata": {},
   "outputs": [
    {
     "ename": "ValueError",
     "evalue": "all features must be in [0, 8] or [-9, 0]",
     "output_type": "error",
     "traceback": [
      "\u001b[1;31m---------------------------------------------------------------------------\u001b[0m",
      "\u001b[1;31mIndexError\u001b[0m                                Traceback (most recent call last)",
      "File \u001b[1;32m~\\anaconda3\\envs\\A\\lib\\site-packages\\sklearn\\utils\\__init__.py:399\u001b[0m, in \u001b[0;36m_get_column_indices\u001b[1;34m(X, key)\u001b[0m\n\u001b[0;32m    398\u001b[0m \u001b[38;5;28;01mtry\u001b[39;00m:\n\u001b[1;32m--> 399\u001b[0m     idx \u001b[38;5;241m=\u001b[39m \u001b[43m_safe_indexing\u001b[49m\u001b[43m(\u001b[49m\u001b[43mnp\u001b[49m\u001b[38;5;241;43m.\u001b[39;49m\u001b[43marange\u001b[49m\u001b[43m(\u001b[49m\u001b[43mn_columns\u001b[49m\u001b[43m)\u001b[49m\u001b[43m,\u001b[49m\u001b[43m \u001b[49m\u001b[43mkey\u001b[49m\u001b[43m)\u001b[49m\n\u001b[0;32m    400\u001b[0m \u001b[38;5;28;01mexcept\u001b[39;00m \u001b[38;5;167;01mIndexError\u001b[39;00m \u001b[38;5;28;01mas\u001b[39;00m e:\n",
      "File \u001b[1;32m~\\anaconda3\\envs\\A\\lib\\site-packages\\sklearn\\utils\\__init__.py:378\u001b[0m, in \u001b[0;36m_safe_indexing\u001b[1;34m(X, indices, axis)\u001b[0m\n\u001b[0;32m    377\u001b[0m \u001b[38;5;28;01melif\u001b[39;00m \u001b[38;5;28mhasattr\u001b[39m(X, \u001b[38;5;124m\"\u001b[39m\u001b[38;5;124mshape\u001b[39m\u001b[38;5;124m\"\u001b[39m):\n\u001b[1;32m--> 378\u001b[0m     \u001b[38;5;28;01mreturn\u001b[39;00m \u001b[43m_array_indexing\u001b[49m\u001b[43m(\u001b[49m\u001b[43mX\u001b[49m\u001b[43m,\u001b[49m\u001b[43m \u001b[49m\u001b[43mindices\u001b[49m\u001b[43m,\u001b[49m\u001b[43m \u001b[49m\u001b[43mindices_dtype\u001b[49m\u001b[43m,\u001b[49m\u001b[43m \u001b[49m\u001b[43maxis\u001b[49m\u001b[38;5;241;43m=\u001b[39;49m\u001b[43maxis\u001b[49m\u001b[43m)\u001b[49m\n\u001b[0;32m    379\u001b[0m \u001b[38;5;28;01melse\u001b[39;00m:\n",
      "File \u001b[1;32m~\\anaconda3\\envs\\A\\lib\\site-packages\\sklearn\\utils\\__init__.py:202\u001b[0m, in \u001b[0;36m_array_indexing\u001b[1;34m(array, key, key_dtype, axis)\u001b[0m\n\u001b[0;32m    201\u001b[0m     key \u001b[38;5;241m=\u001b[39m \u001b[38;5;28mlist\u001b[39m(key)\n\u001b[1;32m--> 202\u001b[0m \u001b[38;5;28;01mreturn\u001b[39;00m \u001b[43marray\u001b[49m\u001b[43m[\u001b[49m\u001b[43mkey\u001b[49m\u001b[43m]\u001b[49m \u001b[38;5;28;01mif\u001b[39;00m axis \u001b[38;5;241m==\u001b[39m \u001b[38;5;241m0\u001b[39m \u001b[38;5;28;01melse\u001b[39;00m array[:, key]\n",
      "\u001b[1;31mIndexError\u001b[0m: index 9 is out of bounds for axis 0 with size 9",
      "\nThe above exception was the direct cause of the following exception:\n",
      "\u001b[1;31mValueError\u001b[0m                                Traceback (most recent call last)",
      "Input \u001b[1;32mIn [29]\u001b[0m, in \u001b[0;36m<cell line: 15>\u001b[1;34m()\u001b[0m\n\u001b[0;32m      8\u001b[0m step2 \u001b[38;5;241m=\u001b[39m DecisionTreeClassifier()\n\u001b[0;32m     10\u001b[0m pipe \u001b[38;5;241m=\u001b[39m Pipeline([\n\u001b[0;32m     11\u001b[0m     (\u001b[38;5;124m'\u001b[39m\u001b[38;5;124mstep1\u001b[39m\u001b[38;5;124m'\u001b[39m,step1),\n\u001b[0;32m     12\u001b[0m     (\u001b[38;5;124m'\u001b[39m\u001b[38;5;124mstep2\u001b[39m\u001b[38;5;124m'\u001b[39m,step2)\n\u001b[0;32m     13\u001b[0m ])\n\u001b[1;32m---> 15\u001b[0m \u001b[43mpipe\u001b[49m\u001b[38;5;241;43m.\u001b[39;49m\u001b[43mfit\u001b[49m\u001b[43m(\u001b[49m\u001b[43mX_train\u001b[49m\u001b[43m,\u001b[49m\u001b[43my_train\u001b[49m\u001b[43m)\u001b[49m\n\u001b[0;32m     17\u001b[0m y_pred \u001b[38;5;241m=\u001b[39m pipe\u001b[38;5;241m.\u001b[39mpredict(X_test)\n\u001b[0;32m     19\u001b[0m \u001b[38;5;28mprint\u001b[39m(accuracy_score(y_pred,y_test))\n",
      "File \u001b[1;32m~\\anaconda3\\envs\\A\\lib\\site-packages\\sklearn\\pipeline.py:390\u001b[0m, in \u001b[0;36mPipeline.fit\u001b[1;34m(self, X, y, **fit_params)\u001b[0m\n\u001b[0;32m    364\u001b[0m \u001b[38;5;124;03m\"\"\"Fit the model.\u001b[39;00m\n\u001b[0;32m    365\u001b[0m \n\u001b[0;32m    366\u001b[0m \u001b[38;5;124;03mFit all the transformers one after the other and transform the\u001b[39;00m\n\u001b[1;32m   (...)\u001b[0m\n\u001b[0;32m    387\u001b[0m \u001b[38;5;124;03m    Pipeline with fitted steps.\u001b[39;00m\n\u001b[0;32m    388\u001b[0m \u001b[38;5;124;03m\"\"\"\u001b[39;00m\n\u001b[0;32m    389\u001b[0m fit_params_steps \u001b[38;5;241m=\u001b[39m \u001b[38;5;28mself\u001b[39m\u001b[38;5;241m.\u001b[39m_check_fit_params(\u001b[38;5;241m*\u001b[39m\u001b[38;5;241m*\u001b[39mfit_params)\n\u001b[1;32m--> 390\u001b[0m Xt \u001b[38;5;241m=\u001b[39m \u001b[38;5;28mself\u001b[39m\u001b[38;5;241m.\u001b[39m_fit(X, y, \u001b[38;5;241m*\u001b[39m\u001b[38;5;241m*\u001b[39mfit_params_steps)\n\u001b[0;32m    391\u001b[0m \u001b[38;5;28;01mwith\u001b[39;00m _print_elapsed_time(\u001b[38;5;124m\"\u001b[39m\u001b[38;5;124mPipeline\u001b[39m\u001b[38;5;124m\"\u001b[39m, \u001b[38;5;28mself\u001b[39m\u001b[38;5;241m.\u001b[39m_log_message(\u001b[38;5;28mlen\u001b[39m(\u001b[38;5;28mself\u001b[39m\u001b[38;5;241m.\u001b[39msteps) \u001b[38;5;241m-\u001b[39m \u001b[38;5;241m1\u001b[39m)):\n\u001b[0;32m    392\u001b[0m     \u001b[38;5;28;01mif\u001b[39;00m \u001b[38;5;28mself\u001b[39m\u001b[38;5;241m.\u001b[39m_final_estimator \u001b[38;5;241m!=\u001b[39m \u001b[38;5;124m\"\u001b[39m\u001b[38;5;124mpassthrough\u001b[39m\u001b[38;5;124m\"\u001b[39m:\n",
      "File \u001b[1;32m~\\anaconda3\\envs\\A\\lib\\site-packages\\sklearn\\pipeline.py:348\u001b[0m, in \u001b[0;36mPipeline._fit\u001b[1;34m(self, X, y, **fit_params_steps)\u001b[0m\n\u001b[0;32m    346\u001b[0m     cloned_transformer \u001b[38;5;241m=\u001b[39m clone(transformer)\n\u001b[0;32m    347\u001b[0m \u001b[38;5;66;03m# Fit or load from cache the current transformer\u001b[39;00m\n\u001b[1;32m--> 348\u001b[0m X, fitted_transformer \u001b[38;5;241m=\u001b[39m fit_transform_one_cached(\n\u001b[0;32m    349\u001b[0m     cloned_transformer,\n\u001b[0;32m    350\u001b[0m     X,\n\u001b[0;32m    351\u001b[0m     y,\n\u001b[0;32m    352\u001b[0m     \u001b[38;5;28;01mNone\u001b[39;00m,\n\u001b[0;32m    353\u001b[0m     message_clsname\u001b[38;5;241m=\u001b[39m\u001b[38;5;124m\"\u001b[39m\u001b[38;5;124mPipeline\u001b[39m\u001b[38;5;124m\"\u001b[39m,\n\u001b[0;32m    354\u001b[0m     message\u001b[38;5;241m=\u001b[39m\u001b[38;5;28mself\u001b[39m\u001b[38;5;241m.\u001b[39m_log_message(step_idx),\n\u001b[0;32m    355\u001b[0m     \u001b[38;5;241m*\u001b[39m\u001b[38;5;241m*\u001b[39mfit_params_steps[name],\n\u001b[0;32m    356\u001b[0m )\n\u001b[0;32m    357\u001b[0m \u001b[38;5;66;03m# Replace the transformer of the step with the fitted\u001b[39;00m\n\u001b[0;32m    358\u001b[0m \u001b[38;5;66;03m# transformer. This is necessary when loading the transformer\u001b[39;00m\n\u001b[0;32m    359\u001b[0m \u001b[38;5;66;03m# from the cache.\u001b[39;00m\n\u001b[0;32m    360\u001b[0m \u001b[38;5;28mself\u001b[39m\u001b[38;5;241m.\u001b[39msteps[step_idx] \u001b[38;5;241m=\u001b[39m (name, fitted_transformer)\n",
      "File \u001b[1;32m~\\anaconda3\\envs\\A\\lib\\site-packages\\joblib\\memory.py:349\u001b[0m, in \u001b[0;36mNotMemorizedFunc.__call__\u001b[1;34m(self, *args, **kwargs)\u001b[0m\n\u001b[0;32m    348\u001b[0m \u001b[38;5;28;01mdef\u001b[39;00m \u001b[38;5;21m__call__\u001b[39m(\u001b[38;5;28mself\u001b[39m, \u001b[38;5;241m*\u001b[39margs, \u001b[38;5;241m*\u001b[39m\u001b[38;5;241m*\u001b[39mkwargs):\n\u001b[1;32m--> 349\u001b[0m     \u001b[38;5;28;01mreturn\u001b[39;00m \u001b[38;5;28mself\u001b[39m\u001b[38;5;241m.\u001b[39mfunc(\u001b[38;5;241m*\u001b[39margs, \u001b[38;5;241m*\u001b[39m\u001b[38;5;241m*\u001b[39mkwargs)\n",
      "File \u001b[1;32m~\\anaconda3\\envs\\A\\lib\\site-packages\\sklearn\\pipeline.py:893\u001b[0m, in \u001b[0;36m_fit_transform_one\u001b[1;34m(transformer, X, y, weight, message_clsname, message, **fit_params)\u001b[0m\n\u001b[0;32m    891\u001b[0m \u001b[38;5;28;01mwith\u001b[39;00m _print_elapsed_time(message_clsname, message):\n\u001b[0;32m    892\u001b[0m     \u001b[38;5;28;01mif\u001b[39;00m \u001b[38;5;28mhasattr\u001b[39m(transformer, \u001b[38;5;124m\"\u001b[39m\u001b[38;5;124mfit_transform\u001b[39m\u001b[38;5;124m\"\u001b[39m):\n\u001b[1;32m--> 893\u001b[0m         res \u001b[38;5;241m=\u001b[39m transformer\u001b[38;5;241m.\u001b[39mfit_transform(X, y, \u001b[38;5;241m*\u001b[39m\u001b[38;5;241m*\u001b[39mfit_params)\n\u001b[0;32m    894\u001b[0m     \u001b[38;5;28;01melse\u001b[39;00m:\n\u001b[0;32m    895\u001b[0m         res \u001b[38;5;241m=\u001b[39m transformer\u001b[38;5;241m.\u001b[39mfit(X, y, \u001b[38;5;241m*\u001b[39m\u001b[38;5;241m*\u001b[39mfit_params)\u001b[38;5;241m.\u001b[39mtransform(X)\n",
      "File \u001b[1;32m~\\anaconda3\\envs\\A\\lib\\site-packages\\sklearn\\compose\\_column_transformer.py:672\u001b[0m, in \u001b[0;36mColumnTransformer.fit_transform\u001b[1;34m(self, X, y)\u001b[0m\n\u001b[0;32m    670\u001b[0m \u001b[38;5;28mself\u001b[39m\u001b[38;5;241m.\u001b[39m_check_n_features(X, reset\u001b[38;5;241m=\u001b[39m\u001b[38;5;28;01mTrue\u001b[39;00m)\n\u001b[0;32m    671\u001b[0m \u001b[38;5;28mself\u001b[39m\u001b[38;5;241m.\u001b[39m_validate_transformers()\n\u001b[1;32m--> 672\u001b[0m \u001b[38;5;28;43mself\u001b[39;49m\u001b[38;5;241;43m.\u001b[39;49m\u001b[43m_validate_column_callables\u001b[49m\u001b[43m(\u001b[49m\u001b[43mX\u001b[49m\u001b[43m)\u001b[49m\n\u001b[0;32m    673\u001b[0m \u001b[38;5;28mself\u001b[39m\u001b[38;5;241m.\u001b[39m_validate_remainder(X)\n\u001b[0;32m    675\u001b[0m result \u001b[38;5;241m=\u001b[39m \u001b[38;5;28mself\u001b[39m\u001b[38;5;241m.\u001b[39m_fit_transform(X, y, _fit_transform_one)\n",
      "File \u001b[1;32m~\\anaconda3\\envs\\A\\lib\\site-packages\\sklearn\\compose\\_column_transformer.py:352\u001b[0m, in \u001b[0;36mColumnTransformer._validate_column_callables\u001b[1;34m(self, X)\u001b[0m\n\u001b[0;32m    350\u001b[0m         columns \u001b[38;5;241m=\u001b[39m columns(X)\n\u001b[0;32m    351\u001b[0m     all_columns\u001b[38;5;241m.\u001b[39mappend(columns)\n\u001b[1;32m--> 352\u001b[0m     transformer_to_input_indices[name] \u001b[38;5;241m=\u001b[39m \u001b[43m_get_column_indices\u001b[49m\u001b[43m(\u001b[49m\u001b[43mX\u001b[49m\u001b[43m,\u001b[49m\u001b[43m \u001b[49m\u001b[43mcolumns\u001b[49m\u001b[43m)\u001b[49m\n\u001b[0;32m    354\u001b[0m \u001b[38;5;28mself\u001b[39m\u001b[38;5;241m.\u001b[39m_columns \u001b[38;5;241m=\u001b[39m all_columns\n\u001b[0;32m    355\u001b[0m \u001b[38;5;28mself\u001b[39m\u001b[38;5;241m.\u001b[39m_transformer_to_input_indices \u001b[38;5;241m=\u001b[39m transformer_to_input_indices\n",
      "File \u001b[1;32m~\\anaconda3\\envs\\A\\lib\\site-packages\\sklearn\\utils\\__init__.py:401\u001b[0m, in \u001b[0;36m_get_column_indices\u001b[1;34m(X, key)\u001b[0m\n\u001b[0;32m    399\u001b[0m         idx \u001b[38;5;241m=\u001b[39m _safe_indexing(np\u001b[38;5;241m.\u001b[39marange(n_columns), key)\n\u001b[0;32m    400\u001b[0m     \u001b[38;5;28;01mexcept\u001b[39;00m \u001b[38;5;167;01mIndexError\u001b[39;00m \u001b[38;5;28;01mas\u001b[39;00m e:\n\u001b[1;32m--> 401\u001b[0m         \u001b[38;5;28;01mraise\u001b[39;00m \u001b[38;5;167;01mValueError\u001b[39;00m(\n\u001b[0;32m    402\u001b[0m             \u001b[38;5;124m\"\u001b[39m\u001b[38;5;124mall features must be in [0, \u001b[39m\u001b[38;5;132;01m{}\u001b[39;00m\u001b[38;5;124m] or [-\u001b[39m\u001b[38;5;132;01m{}\u001b[39;00m\u001b[38;5;124m, 0]\u001b[39m\u001b[38;5;124m\"\u001b[39m\u001b[38;5;241m.\u001b[39mformat(\n\u001b[0;32m    403\u001b[0m                 n_columns \u001b[38;5;241m-\u001b[39m \u001b[38;5;241m1\u001b[39m, n_columns\n\u001b[0;32m    404\u001b[0m             )\n\u001b[0;32m    405\u001b[0m         ) \u001b[38;5;28;01mfrom\u001b[39;00m \u001b[38;5;21;01me\u001b[39;00m\n\u001b[0;32m    406\u001b[0m     \u001b[38;5;28;01mreturn\u001b[39;00m np\u001b[38;5;241m.\u001b[39matleast_1d(idx)\u001b[38;5;241m.\u001b[39mtolist()\n\u001b[0;32m    407\u001b[0m \u001b[38;5;28;01melif\u001b[39;00m key_dtype \u001b[38;5;241m==\u001b[39m \u001b[38;5;124m\"\u001b[39m\u001b[38;5;124mstr\u001b[39m\u001b[38;5;124m\"\u001b[39m:\n",
      "\u001b[1;31mValueError\u001b[0m: all features must be in [0, 8] or [-9, 0]"
     ]
    }
   ],
   "source": [
    "from sklearn.tree import DecisionTreeClassifier\n",
    "\n",
    "step1 = ColumnTransformer(transformers=[\n",
    "    ('col_tnf',OneHotEncoder(sparse=False,drop='first'),[0,1,2,3,4,5,6,7,8]),\n",
    "    ('label_enc',LabelEncoder(),[9])\n",
    "],remainder='passthrough')\n",
    "\n",
    "step2 = DecisionTreeClassifier()\n",
    "\n",
    "pipe = Pipeline([\n",
    "    ('step1',step1),\n",
    "    ('step2',step2)\n",
    "])\n",
    "\n",
    "pipe.fit(X_train,y_train)\n",
    "\n",
    "y_pred = pipe.predict(X_test)\n",
    "\n",
    "print(accuracy_score(y_pred,y_test))"
   ]
  },
  {
   "cell_type": "code",
   "execution_count": null,
   "id": "be3c805e",
   "metadata": {},
   "outputs": [],
   "source": [
    "from sklearn.tree import DecisionTreeClassifier\n",
    "\n",
    "\n",
    "dt = DecisionTreeClassifier()\n",
    "\n",
    "\n",
    "dt.fit(X_train,y_train)\n",
    "\n",
    "y_pred = dt.predict(X_test)\n",
    "\n",
    "print(accuracy_score(y_test,y_pred))\n"
   ]
  },
  {
   "cell_type": "code",
   "execution_count": null,
   "id": "03fcb909",
   "metadata": {},
   "outputs": [],
   "source": [
    "\n",
    "rn = RandomForestClassifier()\n",
    "\n",
    "rn.fit(X_train,y_train)\n",
    "y_pred = rn.predict(X_test)\n",
    "accuracy_score(y_test,y_pred)"
   ]
  },
  {
   "cell_type": "code",
   "execution_count": null,
   "id": "189433be",
   "metadata": {},
   "outputs": [],
   "source": [
    "from sklearn.model_selection import cross_val_score\n",
    "\n",
    "print('Linear Regression: ',np.mean(cross_val_score(rn,X_train,y_train,cv=10)))"
   ]
  },
  {
   "cell_type": "code",
   "execution_count": null,
   "id": "67a03443",
   "metadata": {},
   "outputs": [],
   "source": [
    "lasso =XGBClassifier()\n",
    "\n",
    "lasso.fit(X_train,y_train)\n",
    "y_pred = lasso.predict(X_test)\n",
    "accuracy_score(y_test,y_pred)"
   ]
  },
  {
   "cell_type": "code",
   "execution_count": null,
   "id": "ff22134d",
   "metadata": {},
   "outputs": [],
   "source": [
    "!pip install lightgbm"
   ]
  },
  {
   "cell_type": "code",
   "execution_count": null,
   "id": "9d3d5a58",
   "metadata": {},
   "outputs": [],
   "source": [
    "from lightgbm import LGBMClassifier"
   ]
  },
  {
   "cell_type": "code",
   "execution_count": null,
   "id": "c4dba82a",
   "metadata": {},
   "outputs": [],
   "source": [
    "lgb = LGBMClassifier()\n",
    "\n",
    "\n",
    "lgb.fit(X_train,y_train)\n",
    "\n",
    "y_pred = lgb.predict(X_test)\n",
    "\n",
    "from sklearn.metrics import confusion_matrix\n",
    "confusion_matrix(y_test, y_pred)"
   ]
  }
 ],
 "metadata": {
  "kernelspec": {
   "display_name": "Python 3 (ipykernel)",
   "language": "python",
   "name": "python3"
  },
  "language_info": {
   "codemirror_mode": {
    "name": "ipython",
    "version": 3
   },
   "file_extension": ".py",
   "mimetype": "text/x-python",
   "name": "python",
   "nbconvert_exporter": "python",
   "pygments_lexer": "ipython3",
   "version": "3.9.12"
  }
 },
 "nbformat": 4,
 "nbformat_minor": 5
}
