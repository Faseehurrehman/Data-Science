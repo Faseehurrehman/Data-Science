{
  "nbformat": 4,
  "nbformat_minor": 0,
  "metadata": {
    "colab": {
      "provenance": []
    },
    "kernelspec": {
      "name": "python3",
      "display_name": "Python 3"
    }
  },
  "cells": [
    {
      "cell_type": "markdown",
      "metadata": {
        "id": "tR9F45Nc65Bx"
      },
      "source": [
        "## Conolutional Neural Network"
      ]
    },
    {
      "cell_type": "code",
      "metadata": {
        "id": "u7vISOdW7Db1"
      },
      "source": [
        "import numpy as np\n",
        "import seaborn as sns\n",
        "import matplotlib.pyplot as plt\n",
        "import keras"
      ],
      "execution_count": null,
      "outputs": []
    },
    {
      "cell_type": "code",
      "metadata": {
        "colab": {
          "base_uri": "https://localhost:8080/"
        },
        "id": "3ZCWRi7A7W6k",
        "outputId": "82df0695-8c12-4281-8a37-a271c11fa720"
      },
      "source": [
        "(X_train,y_train),(X_test,y_test)=keras.datasets.fashion_mnist.load_data() "
      ],
      "execution_count": null,
      "outputs": [
        {
          "output_type": "stream",
          "text": [
            "Downloading data from https://storage.googleapis.com/tensorflow/tf-keras-datasets/train-labels-idx1-ubyte.gz\n",
            "32768/29515 [=================================] - 0s 0us/step\n",
            "Downloading data from https://storage.googleapis.com/tensorflow/tf-keras-datasets/train-images-idx3-ubyte.gz\n",
            "26427392/26421880 [==============================] - 0s 0us/step\n",
            "Downloading data from https://storage.googleapis.com/tensorflow/tf-keras-datasets/t10k-labels-idx1-ubyte.gz\n",
            "8192/5148 [===============================================] - 0s 0us/step\n",
            "Downloading data from https://storage.googleapis.com/tensorflow/tf-keras-datasets/t10k-images-idx3-ubyte.gz\n",
            "4423680/4422102 [==============================] - 0s 0us/step\n"
          ],
          "name": "stdout"
        }
      ]
    },
    {
      "cell_type": "code",
      "metadata": {
        "colab": {
          "base_uri": "https://localhost:8080/"
        },
        "id": "rhleayKO7-e1",
        "outputId": "67d50ee6-0bc1-4992-ad4a-e7f2812dd9f6"
      },
      "source": [
        "X_train.shape,y_train.shape"
      ],
      "execution_count": null,
      "outputs": [
        {
          "output_type": "execute_result",
          "data": {
            "text/plain": [
              "((60000, 28, 28), (60000,))"
            ]
          },
          "metadata": {
            "tags": []
          },
          "execution_count": 3
        }
      ]
    },
    {
      "cell_type": "code",
      "metadata": {
        "colab": {
          "base_uri": "https://localhost:8080/"
        },
        "id": "talPc_Sv8bgY",
        "outputId": "9e973f60-c111-4bf8-dcfa-78524608ebdc"
      },
      "source": [
        "X_test.shape,y_test.shape"
      ],
      "execution_count": null,
      "outputs": [
        {
          "output_type": "execute_result",
          "data": {
            "text/plain": [
              "((10000, 28, 28), (10000,))"
            ]
          },
          "metadata": {
            "tags": []
          },
          "execution_count": 4
        }
      ]
    },
    {
      "cell_type": "code",
      "metadata": {
        "colab": {
          "base_uri": "https://localhost:8080/"
        },
        "id": "WFNGt-A48hcj",
        "outputId": "4db64a2b-3941-4b83-b333-dcdf5194acc9"
      },
      "source": [
        "X_train"
      ],
      "execution_count": null,
      "outputs": [
        {
          "output_type": "execute_result",
          "data": {
            "text/plain": [
              "array([[[0, 0, 0, ..., 0, 0, 0],\n",
              "        [0, 0, 0, ..., 0, 0, 0],\n",
              "        [0, 0, 0, ..., 0, 0, 0],\n",
              "        ...,\n",
              "        [0, 0, 0, ..., 0, 0, 0],\n",
              "        [0, 0, 0, ..., 0, 0, 0],\n",
              "        [0, 0, 0, ..., 0, 0, 0]],\n",
              "\n",
              "       [[0, 0, 0, ..., 0, 0, 0],\n",
              "        [0, 0, 0, ..., 0, 0, 0],\n",
              "        [0, 0, 0, ..., 0, 0, 0],\n",
              "        ...,\n",
              "        [0, 0, 0, ..., 0, 0, 0],\n",
              "        [0, 0, 0, ..., 0, 0, 0],\n",
              "        [0, 0, 0, ..., 0, 0, 0]],\n",
              "\n",
              "       [[0, 0, 0, ..., 0, 0, 0],\n",
              "        [0, 0, 0, ..., 0, 0, 0],\n",
              "        [0, 0, 0, ..., 0, 0, 0],\n",
              "        ...,\n",
              "        [0, 0, 0, ..., 0, 0, 0],\n",
              "        [0, 0, 0, ..., 0, 0, 0],\n",
              "        [0, 0, 0, ..., 0, 0, 0]],\n",
              "\n",
              "       ...,\n",
              "\n",
              "       [[0, 0, 0, ..., 0, 0, 0],\n",
              "        [0, 0, 0, ..., 0, 0, 0],\n",
              "        [0, 0, 0, ..., 0, 0, 0],\n",
              "        ...,\n",
              "        [0, 0, 0, ..., 0, 0, 0],\n",
              "        [0, 0, 0, ..., 0, 0, 0],\n",
              "        [0, 0, 0, ..., 0, 0, 0]],\n",
              "\n",
              "       [[0, 0, 0, ..., 0, 0, 0],\n",
              "        [0, 0, 0, ..., 0, 0, 0],\n",
              "        [0, 0, 0, ..., 0, 0, 0],\n",
              "        ...,\n",
              "        [0, 0, 0, ..., 0, 0, 0],\n",
              "        [0, 0, 0, ..., 0, 0, 0],\n",
              "        [0, 0, 0, ..., 0, 0, 0]],\n",
              "\n",
              "       [[0, 0, 0, ..., 0, 0, 0],\n",
              "        [0, 0, 0, ..., 0, 0, 0],\n",
              "        [0, 0, 0, ..., 0, 0, 0],\n",
              "        ...,\n",
              "        [0, 0, 0, ..., 0, 0, 0],\n",
              "        [0, 0, 0, ..., 0, 0, 0],\n",
              "        [0, 0, 0, ..., 0, 0, 0]]], dtype=uint8)"
            ]
          },
          "metadata": {
            "tags": []
          },
          "execution_count": 5
        }
      ]
    },
    {
      "cell_type": "code",
      "metadata": {
        "colab": {
          "base_uri": "https://localhost:8080/"
        },
        "id": "u9mKidvh9ULz",
        "outputId": "c8549ac6-eb5f-4950-f158-8d6817e0633d"
      },
      "source": [
        "X_train[0]"
      ],
      "execution_count": null,
      "outputs": [
        {
          "output_type": "execute_result",
          "data": {
            "text/plain": [
              "array([[  0,   0,   0,   0,   0,   0,   0,   0,   0,   0,   0,   0,   0,\n",
              "          0,   0,   0,   0,   0,   0,   0,   0,   0,   0,   0,   0,   0,\n",
              "          0,   0],\n",
              "       [  0,   0,   0,   0,   0,   0,   0,   0,   0,   0,   0,   0,   0,\n",
              "          0,   0,   0,   0,   0,   0,   0,   0,   0,   0,   0,   0,   0,\n",
              "          0,   0],\n",
              "       [  0,   0,   0,   0,   0,   0,   0,   0,   0,   0,   0,   0,   0,\n",
              "          0,   0,   0,   0,   0,   0,   0,   0,   0,   0,   0,   0,   0,\n",
              "          0,   0],\n",
              "       [  0,   0,   0,   0,   0,   0,   0,   0,   0,   0,   0,   0,   1,\n",
              "          0,   0,  13,  73,   0,   0,   1,   4,   0,   0,   0,   0,   1,\n",
              "          1,   0],\n",
              "       [  0,   0,   0,   0,   0,   0,   0,   0,   0,   0,   0,   0,   3,\n",
              "          0,  36, 136, 127,  62,  54,   0,   0,   0,   1,   3,   4,   0,\n",
              "          0,   3],\n",
              "       [  0,   0,   0,   0,   0,   0,   0,   0,   0,   0,   0,   0,   6,\n",
              "          0, 102, 204, 176, 134, 144, 123,  23,   0,   0,   0,   0,  12,\n",
              "         10,   0],\n",
              "       [  0,   0,   0,   0,   0,   0,   0,   0,   0,   0,   0,   0,   0,\n",
              "          0, 155, 236, 207, 178, 107, 156, 161, 109,  64,  23,  77, 130,\n",
              "         72,  15],\n",
              "       [  0,   0,   0,   0,   0,   0,   0,   0,   0,   0,   0,   1,   0,\n",
              "         69, 207, 223, 218, 216, 216, 163, 127, 121, 122, 146, 141,  88,\n",
              "        172,  66],\n",
              "       [  0,   0,   0,   0,   0,   0,   0,   0,   0,   1,   1,   1,   0,\n",
              "        200, 232, 232, 233, 229, 223, 223, 215, 213, 164, 127, 123, 196,\n",
              "        229,   0],\n",
              "       [  0,   0,   0,   0,   0,   0,   0,   0,   0,   0,   0,   0,   0,\n",
              "        183, 225, 216, 223, 228, 235, 227, 224, 222, 224, 221, 223, 245,\n",
              "        173,   0],\n",
              "       [  0,   0,   0,   0,   0,   0,   0,   0,   0,   0,   0,   0,   0,\n",
              "        193, 228, 218, 213, 198, 180, 212, 210, 211, 213, 223, 220, 243,\n",
              "        202,   0],\n",
              "       [  0,   0,   0,   0,   0,   0,   0,   0,   0,   1,   3,   0,  12,\n",
              "        219, 220, 212, 218, 192, 169, 227, 208, 218, 224, 212, 226, 197,\n",
              "        209,  52],\n",
              "       [  0,   0,   0,   0,   0,   0,   0,   0,   0,   0,   6,   0,  99,\n",
              "        244, 222, 220, 218, 203, 198, 221, 215, 213, 222, 220, 245, 119,\n",
              "        167,  56],\n",
              "       [  0,   0,   0,   0,   0,   0,   0,   0,   0,   4,   0,   0,  55,\n",
              "        236, 228, 230, 228, 240, 232, 213, 218, 223, 234, 217, 217, 209,\n",
              "         92,   0],\n",
              "       [  0,   0,   1,   4,   6,   7,   2,   0,   0,   0,   0,   0, 237,\n",
              "        226, 217, 223, 222, 219, 222, 221, 216, 223, 229, 215, 218, 255,\n",
              "         77,   0],\n",
              "       [  0,   3,   0,   0,   0,   0,   0,   0,   0,  62, 145, 204, 228,\n",
              "        207, 213, 221, 218, 208, 211, 218, 224, 223, 219, 215, 224, 244,\n",
              "        159,   0],\n",
              "       [  0,   0,   0,   0,  18,  44,  82, 107, 189, 228, 220, 222, 217,\n",
              "        226, 200, 205, 211, 230, 224, 234, 176, 188, 250, 248, 233, 238,\n",
              "        215,   0],\n",
              "       [  0,  57, 187, 208, 224, 221, 224, 208, 204, 214, 208, 209, 200,\n",
              "        159, 245, 193, 206, 223, 255, 255, 221, 234, 221, 211, 220, 232,\n",
              "        246,   0],\n",
              "       [  3, 202, 228, 224, 221, 211, 211, 214, 205, 205, 205, 220, 240,\n",
              "         80, 150, 255, 229, 221, 188, 154, 191, 210, 204, 209, 222, 228,\n",
              "        225,   0],\n",
              "       [ 98, 233, 198, 210, 222, 229, 229, 234, 249, 220, 194, 215, 217,\n",
              "        241,  65,  73, 106, 117, 168, 219, 221, 215, 217, 223, 223, 224,\n",
              "        229,  29],\n",
              "       [ 75, 204, 212, 204, 193, 205, 211, 225, 216, 185, 197, 206, 198,\n",
              "        213, 240, 195, 227, 245, 239, 223, 218, 212, 209, 222, 220, 221,\n",
              "        230,  67],\n",
              "       [ 48, 203, 183, 194, 213, 197, 185, 190, 194, 192, 202, 214, 219,\n",
              "        221, 220, 236, 225, 216, 199, 206, 186, 181, 177, 172, 181, 205,\n",
              "        206, 115],\n",
              "       [  0, 122, 219, 193, 179, 171, 183, 196, 204, 210, 213, 207, 211,\n",
              "        210, 200, 196, 194, 191, 195, 191, 198, 192, 176, 156, 167, 177,\n",
              "        210,  92],\n",
              "       [  0,   0,  74, 189, 212, 191, 175, 172, 175, 181, 185, 188, 189,\n",
              "        188, 193, 198, 204, 209, 210, 210, 211, 188, 188, 194, 192, 216,\n",
              "        170,   0],\n",
              "       [  2,   0,   0,   0,  66, 200, 222, 237, 239, 242, 246, 243, 244,\n",
              "        221, 220, 193, 191, 179, 182, 182, 181, 176, 166, 168,  99,  58,\n",
              "          0,   0],\n",
              "       [  0,   0,   0,   0,   0,   0,   0,  40,  61,  44,  72,  41,  35,\n",
              "          0,   0,   0,   0,   0,   0,   0,   0,   0,   0,   0,   0,   0,\n",
              "          0,   0],\n",
              "       [  0,   0,   0,   0,   0,   0,   0,   0,   0,   0,   0,   0,   0,\n",
              "          0,   0,   0,   0,   0,   0,   0,   0,   0,   0,   0,   0,   0,\n",
              "          0,   0],\n",
              "       [  0,   0,   0,   0,   0,   0,   0,   0,   0,   0,   0,   0,   0,\n",
              "          0,   0,   0,   0,   0,   0,   0,   0,   0,   0,   0,   0,   0,\n",
              "          0,   0]], dtype=uint8)"
            ]
          },
          "metadata": {
            "tags": []
          },
          "execution_count": 6
        }
      ]
    },
    {
      "cell_type": "code",
      "metadata": {
        "colab": {
          "base_uri": "https://localhost:8080/"
        },
        "id": "_1xALWJs9YFv",
        "outputId": "e2616915-680c-47ad-9adb-39b1608f4af7"
      },
      "source": [
        "y_train[0]"
      ],
      "execution_count": null,
      "outputs": [
        {
          "output_type": "execute_result",
          "data": {
            "text/plain": [
              "9"
            ]
          },
          "metadata": {
            "tags": []
          },
          "execution_count": 7
        }
      ]
    },
    {
      "cell_type": "code",
      "metadata": {
        "colab": {
          "base_uri": "https://localhost:8080/",
          "height": 35
        },
        "id": "XAnYTbMe9dK0",
        "outputId": "264d006c-6c4a-4d00-804e-cb130a18b578"
      },
      "source": [
        "class_labels = [\"T-shirt/top\",\"Trouser\",\"Pullover\",\"Dress\",\"Coat\",\"Sandal\",\"Shirt\",\"Sneaker\",\"Bag\",\"Ankle boot\"] #classes are stored in list\n",
        "'''\n",
        "0 => T-shirt/top \n",
        "1 => Trouser \n",
        "2 => Pullover \n",
        "3 => Dress \n",
        "4 => Coat \n",
        "5 => Sandal \n",
        "6 => Shirt \n",
        "7 => Sneaker \n",
        "8 => Bag \n",
        "9 => Ankle boot '''  #0,1,2,.. are labels/classes"
      ],
      "execution_count": null,
      "outputs": [
        {
          "output_type": "execute_result",
          "data": {
            "application/vnd.google.colaboratory.intrinsic+json": {
              "type": "string"
            },
            "text/plain": [
              "'\\n0 => T-shirt/top \\n1 => Trouser \\n2 => Pullover \\n3 => Dress \\n4 => Coat \\n5 => Sandal \\n6 => Shirt \\n7 => Sneaker \\n8 => Bag \\n9 => Ankle boot '"
            ]
          },
          "metadata": {
            "tags": []
          },
          "execution_count": 8
        }
      ]
    },
    {
      "cell_type": "code",
      "metadata": {
        "colab": {
          "base_uri": "https://localhost:8080/",
          "height": 282
        },
        "id": "-n18oZFW9hvb",
        "outputId": "c69b7ba0-687c-4e89-dec5-20c032ed2d55"
      },
      "source": [
        "#to show images\n",
        "plt.imshow(X_train[0],cmap='Greys',) #to convert numbers into pixels"
      ],
      "execution_count": null,
      "outputs": [
        {
          "output_type": "execute_result",
          "data": {
            "text/plain": [
              "<matplotlib.image.AxesImage at 0x7fd57951eac8>"
            ]
          },
          "metadata": {
            "tags": []
          },
          "execution_count": 9
        },
        {
          "output_type": "display_data",
          "data": {
            "image/png": "[encoded data removed]",
            "text/plain": [
              "<Figure size 432x288 with 1 Axes>"
            ]
          },
          "metadata": {
            "tags": [],
            "needs_background": "light"
          }
        }
      ]
    },
    {
      "cell_type": "code",
      "metadata": {
        "colab": {
          "base_uri": "https://localhost:8080/",
          "height": 541
        },
        "id": "EnY0V3pz-Dyn",
        "outputId": "0f454ef8-75a6-46f1-fd6f-3f0137a1a8b2"
      },
      "source": [
        "#to show all images\n",
        "plt.figure(figsize=(16,9))\n",
        "j=1\n",
        "for i in np.random.randint(0,100,25):\n",
        "  plt.subplot(5,5,j); j+=1\n",
        "  plt.imshow(X_train[i],cmap='Greys')\n",
        "  plt.axis('off')\n",
        "  plt.title('{} / {}'.format(class_labels[y_train[i]],y_train[i]),fontsize=20)"
      ],
      "execution_count": null,
      "outputs": [
        {
          "output_type": "display_data",
          "data": {
            "image/png": "[encoded data removed]",
            "text/plain": [
              "<Figure size 1152x648 with 25 Axes>"
            ]
          },
          "metadata": {
            "tags": [],
            "needs_background": "light"
          }
        }
      ]
    },
    {
      "cell_type": "code",
      "metadata": {
        "id": "MCqQXYudAF0A"
      },
      "source": [
        "#Convolution Neural Network takes data in a form of 4d"
      ],
      "execution_count": null,
      "outputs": []
    },
    {
      "cell_type": "markdown",
      "metadata": {
        "id": "li1dZHfEA7OX"
      },
      "source": [
        "## Change Dimension"
      ]
    },
    {
      "cell_type": "code",
      "metadata": {
        "colab": {
          "base_uri": "https://localhost:8080/"
        },
        "id": "AqYucOp7A_gB",
        "outputId": "4f3bef9d-4181-487d-91e3-086a3e66923b"
      },
      "source": [
        "X_train.ndim"
      ],
      "execution_count": null,
      "outputs": [
        {
          "output_type": "execute_result",
          "data": {
            "text/plain": [
              "3"
            ]
          },
          "metadata": {
            "tags": []
          },
          "execution_count": 12
        }
      ]
    },
    {
      "cell_type": "code",
      "metadata": {
        "id": "MSybSHbtA3-4"
      },
      "source": [
        "X_train=np.expand_dims(X_train,-1) #-1 is to give axis in which direction to change dimension\n",
        "X_test=np.expand_dims(X_test,-1)"
      ],
      "execution_count": null,
      "outputs": []
    },
    {
      "cell_type": "code",
      "metadata": {
        "colab": {
          "base_uri": "https://localhost:8080/"
        },
        "id": "6IJNdT9OCFX5",
        "outputId": "8035d5a1-bff2-4db6-964b-7b59a5ca8a75"
      },
      "source": [
        "X_train.ndim"
      ],
      "execution_count": null,
      "outputs": [
        {
          "output_type": "execute_result",
          "data": {
            "text/plain": [
              "4"
            ]
          },
          "metadata": {
            "tags": []
          },
          "execution_count": 14
        }
      ]
    },
    {
      "cell_type": "code",
      "metadata": {
        "colab": {
          "base_uri": "https://localhost:8080/"
        },
        "id": "kPQzdvZXCImM",
        "outputId": "6abfc21d-14e0-43f0-a4ce-7549cff41c5e"
      },
      "source": [
        "X_train.shape"
      ],
      "execution_count": null,
      "outputs": [
        {
          "output_type": "execute_result",
          "data": {
            "text/plain": [
              "(60000, 28, 28, 1)"
            ]
          },
          "metadata": {
            "tags": []
          },
          "execution_count": 15
        }
      ]
    },
    {
      "cell_type": "markdown",
      "metadata": {
        "id": "5O2uiQuuCV78"
      },
      "source": [
        "## Feature Scaling"
      ]
    },
    {
      "cell_type": "code",
      "metadata": {
        "id": "cdvRKqKxCaTm"
      },
      "source": [
        "#to convert data in b/w 0 nd 1\n",
        "X_train=X_train/255\n",
        "X_test=X_test/255"
      ],
      "execution_count": null,
      "outputs": []
    },
    {
      "cell_type": "code",
      "metadata": {
        "colab": {
          "base_uri": "https://localhost:8080/"
        },
        "id": "xCMVOphhCqTr",
        "outputId": "f990c39f-6d6c-43b8-f06f-9c25d9d13f49"
      },
      "source": [
        "X_train[0]"
      ],
      "execution_count": null,
      "outputs": [
        {
          "output_type": "execute_result",
          "data": {
            "text/plain": [
              "array([[[0.        ],\n",
              "        [0.        ],\n",
              "        [0.        ],\n",
              "        [0.        ],\n",
              "        [0.        ],\n",
              "        [0.        ],\n",
              "        [0.        ],\n",
              "        [0.        ],\n",
              "        [0.        ],\n",
              "        [0.        ],\n",
              "        [0.        ],\n",
              "        [0.        ],\n",
              "        [0.        ],\n",
              "        [0.        ],\n",
              "        [0.        ],\n",
              "        [0.        ],\n",
              "        [0.        ],\n",
              "        [0.        ],\n",
              "        [0.        ],\n",
              "        [0.        ],\n",
              "        [0.        ],\n",
              "        [0.        ],\n",
              "        [0.        ],\n",
              "        [0.        ],\n",
              "        [0.        ],\n",
              "        [0.        ],\n",
              "        [0.        ],\n",
              "        [0.        ]],\n",
              "\n",
              "       [[0.        ],\n",
              "        [0.        ],\n",
              "        [0.        ],\n",
              "        [0.        ],\n",
              "        [0.        ],\n",
              "        [0.        ],\n",
              "        [0.        ],\n",
              "        [0.        ],\n",
              "        [0.        ],\n",
              "        [0.        ],\n",
              "        [0.        ],\n",
              "        [0.        ],\n",
              "        [0.        ],\n",
              "        [0.        ],\n",
              "        [0.        ],\n",
              "        [0.        ],\n",
              "        [0.        ],\n",
              "        [0.        ],\n",
              "        [0.        ],\n",
              "        [0.        ],\n",
              "        [0.        ],\n",
              "        [0.        ],\n",
              "        [0.        ],\n",
              "        [0.        ],\n",
              "        [0.        ],\n",
              "        [0.        ],\n",
              "        [0.        ],\n",
              "        [0.        ]],\n",
              "\n",
              "       [[0.        ],\n",
              "        [0.        ],\n",
              "        [0.        ],\n",
              "        [0.        ],\n",
              "        [0.        ],\n",
              "        [0.        ],\n",
              "        [0.        ],\n",
              "        [0.        ],\n",
              "        [0.        ],\n",
              "        [0.        ],\n",
              "        [0.        ],\n",
              "        [0.        ],\n",
              "        [0.        ],\n",
              "        [0.        ],\n",
              "        [0.        ],\n",
              "        [0.        ],\n",
              "        [0.        ],\n",
              "        [0.        ],\n",
              "        [0.        ],\n",
              "        [0.        ],\n",
              "        [0.        ],\n",
              "        [0.        ],\n",
              "        [0.        ],\n",
              "        [0.        ],\n",
              "        [0.        ],\n",
              "        [0.        ],\n",
              "        [0.        ],\n",
              "        [0.        ]],\n",
              "\n",
              "       [[0.        ],\n",
              "        [0.        ],\n",
              "        [0.        ],\n",
              "        [0.        ],\n",
              "        [0.        ],\n",
              "        [0.        ],\n",
              "        [0.        ],\n",
              "        [0.        ],\n",
              "        [0.        ],\n",
              "        [0.        ],\n",
              "        [0.        ],\n",
              "        [0.        ],\n",
              "        [0.00392157],\n",
              "        [0.        ],\n",
              "        [0.        ],\n",
              "        [0.05098039],\n",
              "        [0.28627451],\n",
              "        [0.        ],\n",
              "        [0.        ],\n",
              "        [0.00392157],\n",
              "        [0.01568627],\n",
              "        [0.        ],\n",
              "        [0.        ],\n",
              "        [0.        ],\n",
              "        [0.        ],\n",
              "        [0.00392157],\n",
              "        [0.00392157],\n",
              "        [0.        ]],\n",
              "\n",
              "       [[0.        ],\n",
              "        [0.        ],\n",
              "        [0.        ],\n",
              "        [0.        ],\n",
              "        [0.        ],\n",
              "        [0.        ],\n",
              "        [0.        ],\n",
              "        [0.        ],\n",
              "        [0.        ],\n",
              "        [0.        ],\n",
              "        [0.        ],\n",
              "        [0.        ],\n",
              "        [0.01176471],\n",
              "        [0.        ],\n",
              "        [0.14117647],\n",
              "        [0.53333333],\n",
              "        [0.49803922],\n",
              "        [0.24313725],\n",
              "        [0.21176471],\n",
              "        [0.        ],\n",
              "        [0.        ],\n",
              "        [0.        ],\n",
              "        [0.00392157],\n",
              "        [0.01176471],\n",
              "        [0.01568627],\n",
              "        [0.        ],\n",
              "        [0.        ],\n",
              "        [0.01176471]],\n",
              "\n",
              "       [[0.        ],\n",
              "        [0.        ],\n",
              "        [0.        ],\n",
              "        [0.        ],\n",
              "        [0.        ],\n",
              "        [0.        ],\n",
              "        [0.        ],\n",
              "        [0.        ],\n",
              "        [0.        ],\n",
              "        [0.        ],\n",
              "        [0.        ],\n",
              "        [0.        ],\n",
              "        [0.02352941],\n",
              "        [0.        ],\n",
              "        [0.4       ],\n",
              "        [0.8       ],\n",
              "        [0.69019608],\n",
              "        [0.5254902 ],\n",
              "        [0.56470588],\n",
              "        [0.48235294],\n",
              "        [0.09019608],\n",
              "        [0.        ],\n",
              "        [0.        ],\n",
              "        [0.        ],\n",
              "        [0.        ],\n",
              "        [0.04705882],\n",
              "        [0.03921569],\n",
              "        [0.        ]],\n",
              "\n",
              "       [[0.        ],\n",
              "        [0.        ],\n",
              "        [0.        ],\n",
              "        [0.        ],\n",
              "        [0.        ],\n",
              "        [0.        ],\n",
              "        [0.        ],\n",
              "        [0.        ],\n",
              "        [0.        ],\n",
              "        [0.        ],\n",
              "        [0.        ],\n",
              "        [0.        ],\n",
              "        [0.        ],\n",
              "        [0.        ],\n",
              "        [0.60784314],\n",
              "        [0.9254902 ],\n",
              "        [0.81176471],\n",
              "        [0.69803922],\n",
              "        [0.41960784],\n",
              "        [0.61176471],\n",
              "        [0.63137255],\n",
              "        [0.42745098],\n",
              "        [0.25098039],\n",
              "        [0.09019608],\n",
              "        [0.30196078],\n",
              "        [0.50980392],\n",
              "        [0.28235294],\n",
              "        [0.05882353]],\n",
              "\n",
              "       [[0.        ],\n",
              "        [0.        ],\n",
              "        [0.        ],\n",
              "        [0.        ],\n",
              "        [0.        ],\n",
              "        [0.        ],\n",
              "        [0.        ],\n",
              "        [0.        ],\n",
              "        [0.        ],\n",
              "        [0.        ],\n",
              "        [0.        ],\n",
              "        [0.00392157],\n",
              "        [0.        ],\n",
              "        [0.27058824],\n",
              "        [0.81176471],\n",
              "        [0.8745098 ],\n",
              "        [0.85490196],\n",
              "        [0.84705882],\n",
              "        [0.84705882],\n",
              "        [0.63921569],\n",
              "        [0.49803922],\n",
              "        [0.4745098 ],\n",
              "        [0.47843137],\n",
              "        [0.57254902],\n",
              "        [0.55294118],\n",
              "        [0.34509804],\n",
              "        [0.6745098 ],\n",
              "        [0.25882353]],\n",
              "\n",
              "       [[0.        ],\n",
              "        [0.        ],\n",
              "        [0.        ],\n",
              "        [0.        ],\n",
              "        [0.        ],\n",
              "        [0.        ],\n",
              "        [0.        ],\n",
              "        [0.        ],\n",
              "        [0.        ],\n",
              "        [0.00392157],\n",
              "        [0.00392157],\n",
              "        [0.00392157],\n",
              "        [0.        ],\n",
              "        [0.78431373],\n",
              "        [0.90980392],\n",
              "        [0.90980392],\n",
              "        [0.91372549],\n",
              "        [0.89803922],\n",
              "        [0.8745098 ],\n",
              "        [0.8745098 ],\n",
              "        [0.84313725],\n",
              "        [0.83529412],\n",
              "        [0.64313725],\n",
              "        [0.49803922],\n",
              "        [0.48235294],\n",
              "        [0.76862745],\n",
              "        [0.89803922],\n",
              "        [0.        ]],\n",
              "\n",
              "       [[0.        ],\n",
              "        [0.        ],\n",
              "        [0.        ],\n",
              "        [0.        ],\n",
              "        [0.        ],\n",
              "        [0.        ],\n",
              "        [0.        ],\n",
              "        [0.        ],\n",
              "        [0.        ],\n",
              "        [0.        ],\n",
              "        [0.        ],\n",
              "        [0.        ],\n",
              "        [0.        ],\n",
              "        [0.71764706],\n",
              "        [0.88235294],\n",
              "        [0.84705882],\n",
              "        [0.8745098 ],\n",
              "        [0.89411765],\n",
              "        [0.92156863],\n",
              "        [0.89019608],\n",
              "        [0.87843137],\n",
              "        [0.87058824],\n",
              "        [0.87843137],\n",
              "        [0.86666667],\n",
              "        [0.8745098 ],\n",
              "        [0.96078431],\n",
              "        [0.67843137],\n",
              "        [0.        ]],\n",
              "\n",
              "       [[0.        ],\n",
              "        [0.        ],\n",
              "        [0.        ],\n",
              "        [0.        ],\n",
              "        [0.        ],\n",
              "        [0.        ],\n",
              "        [0.        ],\n",
              "        [0.        ],\n",
              "        [0.        ],\n",
              "        [0.        ],\n",
              "        [0.        ],\n",
              "        [0.        ],\n",
              "        [0.        ],\n",
              "        [0.75686275],\n",
              "        [0.89411765],\n",
              "        [0.85490196],\n",
              "        [0.83529412],\n",
              "        [0.77647059],\n",
              "        [0.70588235],\n",
              "        [0.83137255],\n",
              "        [0.82352941],\n",
              "        [0.82745098],\n",
              "        [0.83529412],\n",
              "        [0.8745098 ],\n",
              "        [0.8627451 ],\n",
              "        [0.95294118],\n",
              "        [0.79215686],\n",
              "        [0.        ]],\n",
              "\n",
              "       [[0.        ],\n",
              "        [0.        ],\n",
              "        [0.        ],\n",
              "        [0.        ],\n",
              "        [0.        ],\n",
              "        [0.        ],\n",
              "        [0.        ],\n",
              "        [0.        ],\n",
              "        [0.        ],\n",
              "        [0.00392157],\n",
              "        [0.01176471],\n",
              "        [0.        ],\n",
              "        [0.04705882],\n",
              "        [0.85882353],\n",
              "        [0.8627451 ],\n",
              "        [0.83137255],\n",
              "        [0.85490196],\n",
              "        [0.75294118],\n",
              "        [0.6627451 ],\n",
              "        [0.89019608],\n",
              "        [0.81568627],\n",
              "        [0.85490196],\n",
              "        [0.87843137],\n",
              "        [0.83137255],\n",
              "        [0.88627451],\n",
              "        [0.77254902],\n",
              "        [0.81960784],\n",
              "        [0.20392157]],\n",
              "\n",
              "       [[0.        ],\n",
              "        [0.        ],\n",
              "        [0.        ],\n",
              "        [0.        ],\n",
              "        [0.        ],\n",
              "        [0.        ],\n",
              "        [0.        ],\n",
              "        [0.        ],\n",
              "        [0.        ],\n",
              "        [0.        ],\n",
              "        [0.02352941],\n",
              "        [0.        ],\n",
              "        [0.38823529],\n",
              "        [0.95686275],\n",
              "        [0.87058824],\n",
              "        [0.8627451 ],\n",
              "        [0.85490196],\n",
              "        [0.79607843],\n",
              "        [0.77647059],\n",
              "        [0.86666667],\n",
              "        [0.84313725],\n",
              "        [0.83529412],\n",
              "        [0.87058824],\n",
              "        [0.8627451 ],\n",
              "        [0.96078431],\n",
              "        [0.46666667],\n",
              "        [0.65490196],\n",
              "        [0.21960784]],\n",
              "\n",
              "       [[0.        ],\n",
              "        [0.        ],\n",
              "        [0.        ],\n",
              "        [0.        ],\n",
              "        [0.        ],\n",
              "        [0.        ],\n",
              "        [0.        ],\n",
              "        [0.        ],\n",
              "        [0.        ],\n",
              "        [0.01568627],\n",
              "        [0.        ],\n",
              "        [0.        ],\n",
              "        [0.21568627],\n",
              "        [0.9254902 ],\n",
              "        [0.89411765],\n",
              "        [0.90196078],\n",
              "        [0.89411765],\n",
              "        [0.94117647],\n",
              "        [0.90980392],\n",
              "        [0.83529412],\n",
              "        [0.85490196],\n",
              "        [0.8745098 ],\n",
              "        [0.91764706],\n",
              "        [0.85098039],\n",
              "        [0.85098039],\n",
              "        [0.81960784],\n",
              "        [0.36078431],\n",
              "        [0.        ]],\n",
              "\n",
              "       [[0.        ],\n",
              "        [0.        ],\n",
              "        [0.00392157],\n",
              "        [0.01568627],\n",
              "        [0.02352941],\n",
              "        [0.02745098],\n",
              "        [0.00784314],\n",
              "        [0.        ],\n",
              "        [0.        ],\n",
              "        [0.        ],\n",
              "        [0.        ],\n",
              "        [0.        ],\n",
              "        [0.92941176],\n",
              "        [0.88627451],\n",
              "        [0.85098039],\n",
              "        [0.8745098 ],\n",
              "        [0.87058824],\n",
              "        [0.85882353],\n",
              "        [0.87058824],\n",
              "        [0.86666667],\n",
              "        [0.84705882],\n",
              "        [0.8745098 ],\n",
              "        [0.89803922],\n",
              "        [0.84313725],\n",
              "        [0.85490196],\n",
              "        [1.        ],\n",
              "        [0.30196078],\n",
              "        [0.        ]],\n",
              "\n",
              "       [[0.        ],\n",
              "        [0.01176471],\n",
              "        [0.        ],\n",
              "        [0.        ],\n",
              "        [0.        ],\n",
              "        [0.        ],\n",
              "        [0.        ],\n",
              "        [0.        ],\n",
              "        [0.        ],\n",
              "        [0.24313725],\n",
              "        [0.56862745],\n",
              "        [0.8       ],\n",
              "        [0.89411765],\n",
              "        [0.81176471],\n",
              "        [0.83529412],\n",
              "        [0.86666667],\n",
              "        [0.85490196],\n",
              "        [0.81568627],\n",
              "        [0.82745098],\n",
              "        [0.85490196],\n",
              "        [0.87843137],\n",
              "        [0.8745098 ],\n",
              "        [0.85882353],\n",
              "        [0.84313725],\n",
              "        [0.87843137],\n",
              "        [0.95686275],\n",
              "        [0.62352941],\n",
              "        [0.        ]],\n",
              "\n",
              "       [[0.        ],\n",
              "        [0.        ],\n",
              "        [0.        ],\n",
              "        [0.        ],\n",
              "        [0.07058824],\n",
              "        [0.17254902],\n",
              "        [0.32156863],\n",
              "        [0.41960784],\n",
              "        [0.74117647],\n",
              "        [0.89411765],\n",
              "        [0.8627451 ],\n",
              "        [0.87058824],\n",
              "        [0.85098039],\n",
              "        [0.88627451],\n",
              "        [0.78431373],\n",
              "        [0.80392157],\n",
              "        [0.82745098],\n",
              "        [0.90196078],\n",
              "        [0.87843137],\n",
              "        [0.91764706],\n",
              "        [0.69019608],\n",
              "        [0.7372549 ],\n",
              "        [0.98039216],\n",
              "        [0.97254902],\n",
              "        [0.91372549],\n",
              "        [0.93333333],\n",
              "        [0.84313725],\n",
              "        [0.        ]],\n",
              "\n",
              "       [[0.        ],\n",
              "        [0.22352941],\n",
              "        [0.73333333],\n",
              "        [0.81568627],\n",
              "        [0.87843137],\n",
              "        [0.86666667],\n",
              "        [0.87843137],\n",
              "        [0.81568627],\n",
              "        [0.8       ],\n",
              "        [0.83921569],\n",
              "        [0.81568627],\n",
              "        [0.81960784],\n",
              "        [0.78431373],\n",
              "        [0.62352941],\n",
              "        [0.96078431],\n",
              "        [0.75686275],\n",
              "        [0.80784314],\n",
              "        [0.8745098 ],\n",
              "        [1.        ],\n",
              "        [1.        ],\n",
              "        [0.86666667],\n",
              "        [0.91764706],\n",
              "        [0.86666667],\n",
              "        [0.82745098],\n",
              "        [0.8627451 ],\n",
              "        [0.90980392],\n",
              "        [0.96470588],\n",
              "        [0.        ]],\n",
              "\n",
              "       [[0.01176471],\n",
              "        [0.79215686],\n",
              "        [0.89411765],\n",
              "        [0.87843137],\n",
              "        [0.86666667],\n",
              "        [0.82745098],\n",
              "        [0.82745098],\n",
              "        [0.83921569],\n",
              "        [0.80392157],\n",
              "        [0.80392157],\n",
              "        [0.80392157],\n",
              "        [0.8627451 ],\n",
              "        [0.94117647],\n",
              "        [0.31372549],\n",
              "        [0.58823529],\n",
              "        [1.        ],\n",
              "        [0.89803922],\n",
              "        [0.86666667],\n",
              "        [0.7372549 ],\n",
              "        [0.60392157],\n",
              "        [0.74901961],\n",
              "        [0.82352941],\n",
              "        [0.8       ],\n",
              "        [0.81960784],\n",
              "        [0.87058824],\n",
              "        [0.89411765],\n",
              "        [0.88235294],\n",
              "        [0.        ]],\n",
              "\n",
              "       [[0.38431373],\n",
              "        [0.91372549],\n",
              "        [0.77647059],\n",
              "        [0.82352941],\n",
              "        [0.87058824],\n",
              "        [0.89803922],\n",
              "        [0.89803922],\n",
              "        [0.91764706],\n",
              "        [0.97647059],\n",
              "        [0.8627451 ],\n",
              "        [0.76078431],\n",
              "        [0.84313725],\n",
              "        [0.85098039],\n",
              "        [0.94509804],\n",
              "        [0.25490196],\n",
              "        [0.28627451],\n",
              "        [0.41568627],\n",
              "        [0.45882353],\n",
              "        [0.65882353],\n",
              "        [0.85882353],\n",
              "        [0.86666667],\n",
              "        [0.84313725],\n",
              "        [0.85098039],\n",
              "        [0.8745098 ],\n",
              "        [0.8745098 ],\n",
              "        [0.87843137],\n",
              "        [0.89803922],\n",
              "        [0.11372549]],\n",
              "\n",
              "       [[0.29411765],\n",
              "        [0.8       ],\n",
              "        [0.83137255],\n",
              "        [0.8       ],\n",
              "        [0.75686275],\n",
              "        [0.80392157],\n",
              "        [0.82745098],\n",
              "        [0.88235294],\n",
              "        [0.84705882],\n",
              "        [0.7254902 ],\n",
              "        [0.77254902],\n",
              "        [0.80784314],\n",
              "        [0.77647059],\n",
              "        [0.83529412],\n",
              "        [0.94117647],\n",
              "        [0.76470588],\n",
              "        [0.89019608],\n",
              "        [0.96078431],\n",
              "        [0.9372549 ],\n",
              "        [0.8745098 ],\n",
              "        [0.85490196],\n",
              "        [0.83137255],\n",
              "        [0.81960784],\n",
              "        [0.87058824],\n",
              "        [0.8627451 ],\n",
              "        [0.86666667],\n",
              "        [0.90196078],\n",
              "        [0.2627451 ]],\n",
              "\n",
              "       [[0.18823529],\n",
              "        [0.79607843],\n",
              "        [0.71764706],\n",
              "        [0.76078431],\n",
              "        [0.83529412],\n",
              "        [0.77254902],\n",
              "        [0.7254902 ],\n",
              "        [0.74509804],\n",
              "        [0.76078431],\n",
              "        [0.75294118],\n",
              "        [0.79215686],\n",
              "        [0.83921569],\n",
              "        [0.85882353],\n",
              "        [0.86666667],\n",
              "        [0.8627451 ],\n",
              "        [0.9254902 ],\n",
              "        [0.88235294],\n",
              "        [0.84705882],\n",
              "        [0.78039216],\n",
              "        [0.80784314],\n",
              "        [0.72941176],\n",
              "        [0.70980392],\n",
              "        [0.69411765],\n",
              "        [0.6745098 ],\n",
              "        [0.70980392],\n",
              "        [0.80392157],\n",
              "        [0.80784314],\n",
              "        [0.45098039]],\n",
              "\n",
              "       [[0.        ],\n",
              "        [0.47843137],\n",
              "        [0.85882353],\n",
              "        [0.75686275],\n",
              "        [0.70196078],\n",
              "        [0.67058824],\n",
              "        [0.71764706],\n",
              "        [0.76862745],\n",
              "        [0.8       ],\n",
              "        [0.82352941],\n",
              "        [0.83529412],\n",
              "        [0.81176471],\n",
              "        [0.82745098],\n",
              "        [0.82352941],\n",
              "        [0.78431373],\n",
              "        [0.76862745],\n",
              "        [0.76078431],\n",
              "        [0.74901961],\n",
              "        [0.76470588],\n",
              "        [0.74901961],\n",
              "        [0.77647059],\n",
              "        [0.75294118],\n",
              "        [0.69019608],\n",
              "        [0.61176471],\n",
              "        [0.65490196],\n",
              "        [0.69411765],\n",
              "        [0.82352941],\n",
              "        [0.36078431]],\n",
              "\n",
              "       [[0.        ],\n",
              "        [0.        ],\n",
              "        [0.29019608],\n",
              "        [0.74117647],\n",
              "        [0.83137255],\n",
              "        [0.74901961],\n",
              "        [0.68627451],\n",
              "        [0.6745098 ],\n",
              "        [0.68627451],\n",
              "        [0.70980392],\n",
              "        [0.7254902 ],\n",
              "        [0.7372549 ],\n",
              "        [0.74117647],\n",
              "        [0.7372549 ],\n",
              "        [0.75686275],\n",
              "        [0.77647059],\n",
              "        [0.8       ],\n",
              "        [0.81960784],\n",
              "        [0.82352941],\n",
              "        [0.82352941],\n",
              "        [0.82745098],\n",
              "        [0.7372549 ],\n",
              "        [0.7372549 ],\n",
              "        [0.76078431],\n",
              "        [0.75294118],\n",
              "        [0.84705882],\n",
              "        [0.66666667],\n",
              "        [0.        ]],\n",
              "\n",
              "       [[0.00784314],\n",
              "        [0.        ],\n",
              "        [0.        ],\n",
              "        [0.        ],\n",
              "        [0.25882353],\n",
              "        [0.78431373],\n",
              "        [0.87058824],\n",
              "        [0.92941176],\n",
              "        [0.9372549 ],\n",
              "        [0.94901961],\n",
              "        [0.96470588],\n",
              "        [0.95294118],\n",
              "        [0.95686275],\n",
              "        [0.86666667],\n",
              "        [0.8627451 ],\n",
              "        [0.75686275],\n",
              "        [0.74901961],\n",
              "        [0.70196078],\n",
              "        [0.71372549],\n",
              "        [0.71372549],\n",
              "        [0.70980392],\n",
              "        [0.69019608],\n",
              "        [0.65098039],\n",
              "        [0.65882353],\n",
              "        [0.38823529],\n",
              "        [0.22745098],\n",
              "        [0.        ],\n",
              "        [0.        ]],\n",
              "\n",
              "       [[0.        ],\n",
              "        [0.        ],\n",
              "        [0.        ],\n",
              "        [0.        ],\n",
              "        [0.        ],\n",
              "        [0.        ],\n",
              "        [0.        ],\n",
              "        [0.15686275],\n",
              "        [0.23921569],\n",
              "        [0.17254902],\n",
              "        [0.28235294],\n",
              "        [0.16078431],\n",
              "        [0.1372549 ],\n",
              "        [0.        ],\n",
              "        [0.        ],\n",
              "        [0.        ],\n",
              "        [0.        ],\n",
              "        [0.        ],\n",
              "        [0.        ],\n",
              "        [0.        ],\n",
              "        [0.        ],\n",
              "        [0.        ],\n",
              "        [0.        ],\n",
              "        [0.        ],\n",
              "        [0.        ],\n",
              "        [0.        ],\n",
              "        [0.        ],\n",
              "        [0.        ]],\n",
              "\n",
              "       [[0.        ],\n",
              "        [0.        ],\n",
              "        [0.        ],\n",
              "        [0.        ],\n",
              "        [0.        ],\n",
              "        [0.        ],\n",
              "        [0.        ],\n",
              "        [0.        ],\n",
              "        [0.        ],\n",
              "        [0.        ],\n",
              "        [0.        ],\n",
              "        [0.        ],\n",
              "        [0.        ],\n",
              "        [0.        ],\n",
              "        [0.        ],\n",
              "        [0.        ],\n",
              "        [0.        ],\n",
              "        [0.        ],\n",
              "        [0.        ],\n",
              "        [0.        ],\n",
              "        [0.        ],\n",
              "        [0.        ],\n",
              "        [0.        ],\n",
              "        [0.        ],\n",
              "        [0.        ],\n",
              "        [0.        ],\n",
              "        [0.        ],\n",
              "        [0.        ]],\n",
              "\n",
              "       [[0.        ],\n",
              "        [0.        ],\n",
              "        [0.        ],\n",
              "        [0.        ],\n",
              "        [0.        ],\n",
              "        [0.        ],\n",
              "        [0.        ],\n",
              "        [0.        ],\n",
              "        [0.        ],\n",
              "        [0.        ],\n",
              "        [0.        ],\n",
              "        [0.        ],\n",
              "        [0.        ],\n",
              "        [0.        ],\n",
              "        [0.        ],\n",
              "        [0.        ],\n",
              "        [0.        ],\n",
              "        [0.        ],\n",
              "        [0.        ],\n",
              "        [0.        ],\n",
              "        [0.        ],\n",
              "        [0.        ],\n",
              "        [0.        ],\n",
              "        [0.        ],\n",
              "        [0.        ],\n",
              "        [0.        ],\n",
              "        [0.        ],\n",
              "        [0.        ]]])"
            ]
          },
          "metadata": {
            "tags": []
          },
          "execution_count": 17
        }
      ]
    },
    {
      "cell_type": "code",
      "metadata": {
        "id": "IirZH63qCRGn"
      },
      "source": [
        "#to train convolutional Neural Network, we training and validation data. When we are training data we need to test data continuously, for this we need validation dataset\n",
        "#after fully training cnn, we will use test data for testing"
      ],
      "execution_count": null,
      "outputs": []
    },
    {
      "cell_type": "markdown",
      "metadata": {
        "id": "P5fhOTYFFKID"
      },
      "source": [
        "## Split Dataset"
      ]
    },
    {
      "cell_type": "code",
      "metadata": {
        "colab": {
          "base_uri": "https://localhost:8080/"
        },
        "id": "roBtbEklFPvt",
        "outputId": "e9843dcb-b4bb-4405-9d9a-c3bb0f730550"
      },
      "source": [
        "from sklearn.model_selection import train_test_split\n",
        "X_train,X_val,y_train,y_val=train_test_split(X_train,y_train,test_size=0.2,random_state=52) #we need 20 percent validation data\n",
        "print('Shape of X_train= ',X_train.shape)\n",
        "print('Shape of y_train= ',y_train.shape)\n",
        "print('Shape of X_test= ',X_val.shape)\n",
        "print('Shape of y_test= ',y_val.shape)"
      ],
      "execution_count": null,
      "outputs": [
        {
          "output_type": "stream",
          "text": [
            "Shape of X_train=  (48000, 28, 28, 1)\n",
            "Shape of y_train=  (48000,)\n",
            "Shape of X_test=  (12000, 28, 28, 1)\n",
            "Shape of y_test=  (12000,)\n"
          ],
          "name": "stdout"
        }
      ]
    },
    {
      "cell_type": "markdown",
      "metadata": {
        "id": "ZqGDSMflF5W2"
      },
      "source": [
        "## Convolutional Neural Network - Model Building"
      ]
    },
    {
      "cell_type": "code",
      "metadata": {
        "id": "KQZ8Z5PwGByX"
      },
      "source": [
        "model=keras.models.Sequential([\n",
        "                         keras.layers.Conv2D(filters=32,kernel_size=3,strides=(1,1),padding='valid',activation='relu',input_shape=[28,28,1]), #input_shape is of single channel(means black nd white)\n",
        "                         keras.layers.MaxPool2D(pool_size=(2,2)),\n",
        "                         keras.layers.Flatten(),\n",
        "                         keras.layers.Dense(units=128,activation='relu'), #to build neural network\n",
        "                         keras.layers.Dense(units=10,activation='softmax')\n",
        "\n",
        "])"
      ],
      "execution_count": null,
      "outputs": []
    },
    {
      "cell_type": "code",
      "metadata": {
        "colab": {
          "base_uri": "https://localhost:8080/"
        },
        "id": "tBvc0u5SWgna",
        "outputId": "309d46e9-e1f2-4796-fd01-f58d8ea6ee59"
      },
      "source": [
        "#to know about summary of our model\n",
        "model.summary()"
      ],
      "execution_count": null,
      "outputs": [
        {
          "output_type": "stream",
          "text": [
            "Model: \"sequential_2\"\n",
            "_________________________________________________________________\n",
            "Layer (type)                 Output Shape              Param #   \n",
            "=================================================================\n",
            "conv2d_3 (Conv2D)            (None, 26, 26, 32)        320       \n",
            "_________________________________________________________________\n",
            "max_pooling2d_3 (MaxPooling2 (None, 13, 13, 32)        0         \n",
            "_________________________________________________________________\n",
            "flatten_2 (Flatten)          (None, 5408)              0         \n",
            "_________________________________________________________________\n",
            "dense_6 (Dense)              (None, 128)               692352    \n",
            "_________________________________________________________________\n",
            "dense_7 (Dense)              (None, 10)                1290      \n",
            "=================================================================\n",
            "Total params: 693,962\n",
            "Trainable params: 693,962\n",
            "Non-trainable params: 0\n",
            "_________________________________________________________________\n"
          ],
          "name": "stdout"
        }
      ]
    },
    {
      "cell_type": "code",
      "metadata": {
        "id": "RlSvyhkmF-3S"
      },
      "source": [
        "#compile mode\n",
        "model.compile(optimizer='adam',loss='sparse_categorical_crossentropy',metrics=['accuracy']) #loss is error"
      ],
      "execution_count": null,
      "outputs": []
    },
    {
      "cell_type": "code",
      "metadata": {
        "colab": {
          "base_uri": "https://localhost:8080/"
        },
        "id": "aP6l6WCKYNf6",
        "outputId": "9a565c40-cb5c-4c43-dff8-48bddc7418d7"
      },
      "source": [
        "#to train model\n",
        "model.fit(X_train,y_train,epochs=10,batch_size=512,verbose=1,validation_data=(X_val,y_val)) #we have taken 512 images,epochs is to how many times train the model to increase its accuracy"
      ],
      "execution_count": null,
      "outputs": [
        {
          "output_type": "stream",
          "text": [
            "Epoch 1/10\n",
            "94/94 [==============================] - 17s 174ms/step - loss: 0.9421 - accuracy: 0.6910 - val_loss: 0.4107 - val_accuracy: 0.8569\n",
            "Epoch 2/10\n",
            "94/94 [==============================] - 16s 173ms/step - loss: 0.3929 - accuracy: 0.8629 - val_loss: 0.3498 - val_accuracy: 0.8770\n",
            "Epoch 3/10\n",
            "94/94 [==============================] - 16s 173ms/step - loss: 0.3383 - accuracy: 0.8838 - val_loss: 0.3340 - val_accuracy: 0.8842\n",
            "Epoch 4/10\n",
            "94/94 [==============================] - 16s 174ms/step - loss: 0.3092 - accuracy: 0.8922 - val_loss: 0.3139 - val_accuracy: 0.8911\n",
            "Epoch 5/10\n",
            "94/94 [==============================] - 16s 173ms/step - loss: 0.2845 - accuracy: 0.8991 - val_loss: 0.3064 - val_accuracy: 0.8910\n",
            "Epoch 6/10\n",
            "94/94 [==============================] - 16s 174ms/step - loss: 0.2711 - accuracy: 0.9044 - val_loss: 0.2830 - val_accuracy: 0.9006\n",
            "Epoch 7/10\n",
            "94/94 [==============================] - 16s 175ms/step - loss: 0.2506 - accuracy: 0.9126 - val_loss: 0.2796 - val_accuracy: 0.9013\n",
            "Epoch 8/10\n",
            "94/94 [==============================] - 16s 174ms/step - loss: 0.2442 - accuracy: 0.9138 - val_loss: 0.2687 - val_accuracy: 0.9058\n",
            "Epoch 9/10\n",
            "94/94 [==============================] - 16s 173ms/step - loss: 0.2245 - accuracy: 0.9215 - val_loss: 0.2622 - val_accuracy: 0.9098\n",
            "Epoch 10/10\n",
            "94/94 [==============================] - 16s 173ms/step - loss: 0.2135 - accuracy: 0.9239 - val_loss: 0.2654 - val_accuracy: 0.9067\n"
          ],
          "name": "stdout"
        },
        {
          "output_type": "execute_result",
          "data": {
            "text/plain": [
              "<tensorflow.python.keras.callbacks.History at 0x7fd578f55ba8>"
            ]
          },
          "metadata": {
            "tags": []
          },
          "execution_count": 46
        }
      ]
    },
    {
      "cell_type": "markdown",
      "metadata": {
        "id": "iY41vsBue0eJ"
      },
      "source": [
        "## Test the Model"
      ]
    },
    {
      "cell_type": "code",
      "metadata": {
        "colab": {
          "base_uri": "https://localhost:8080/"
        },
        "id": "nIHrkmIEe3gC",
        "outputId": "4654c1f2-110d-4b1e-ab93-29074dc254a7"
      },
      "source": [
        "model.predict(np.expand_dims(X_test[0],axis=0)).round(2) #test the model giving index of image, give data in 4 dimensions"
      ],
      "execution_count": null,
      "outputs": [
        {
          "output_type": "execute_result",
          "data": {
            "text/plain": [
              "array([[0.  , 0.  , 0.  , 0.  , 0.  , 0.01, 0.  , 0.01, 0.  , 0.98]],\n",
              "      dtype=float32)"
            ]
          },
          "metadata": {
            "tags": []
          },
          "execution_count": 50
        }
      ]
    },
    {
      "cell_type": "code",
      "metadata": {
        "colab": {
          "base_uri": "https://localhost:8080/"
        },
        "id": "AkXcenvGfxTw",
        "outputId": "ad10444b-b903-4aff-ae98-272f4e8cc183"
      },
      "source": [
        "np.argmax(model.predict(np.expand_dims(X_test[0],axis=0)).round(2))"
      ],
      "execution_count": null,
      "outputs": [
        {
          "output_type": "execute_result",
          "data": {
            "text/plain": [
              "9"
            ]
          },
          "metadata": {
            "tags": []
          },
          "execution_count": 51
        }
      ]
    },
    {
      "cell_type": "code",
      "metadata": {
        "colab": {
          "base_uri": "https://localhost:8080/"
        },
        "id": "HJfaVhXjfRdB",
        "outputId": "03d15c40-0c26-417a-a948-e4362aacf9da"
      },
      "source": [
        "#to cross-check\n",
        "y_test[0]"
      ],
      "execution_count": null,
      "outputs": [
        {
          "output_type": "execute_result",
          "data": {
            "text/plain": [
              "9"
            ]
          },
          "metadata": {
            "tags": []
          },
          "execution_count": 52
        }
      ]
    },
    {
      "cell_type": "code",
      "metadata": {
        "colab": {
          "base_uri": "https://localhost:8080/"
        },
        "id": "NzLBgmupgM-m",
        "outputId": "da61d0e9-7a6d-475d-9836-46a8da5f4b9d"
      },
      "source": [
        "y_predict=model.predict(X_test).round(2)\n",
        "y_predict"
      ],
      "execution_count": null,
      "outputs": [
        {
          "output_type": "execute_result",
          "data": {
            "text/plain": [
              "array([[0.  , 0.  , 0.  , ..., 0.01, 0.  , 0.98],\n",
              "       [0.  , 0.  , 1.  , ..., 0.  , 0.  , 0.  ],\n",
              "       [0.  , 1.  , 0.  , ..., 0.  , 0.  , 0.  ],\n",
              "       ...,\n",
              "       [0.  , 0.  , 0.  , ..., 0.  , 0.99, 0.  ],\n",
              "       [0.  , 1.  , 0.  , ..., 0.  , 0.  , 0.  ],\n",
              "       [0.  , 0.  , 0.01, ..., 0.1 , 0.01, 0.01]], dtype=float32)"
            ]
          },
          "metadata": {
            "tags": []
          },
          "execution_count": 53
        }
      ]
    },
    {
      "cell_type": "code",
      "metadata": {
        "colab": {
          "base_uri": "https://localhost:8080/"
        },
        "id": "cCu2mSgVg7QW",
        "outputId": "8903e5f9-d491-4470-fb8b-820e28bc0bdd"
      },
      "source": [
        "#to evaluate\n",
        "model.evaluate(X_test,y_test)"
      ],
      "execution_count": null,
      "outputs": [
        {
          "output_type": "stream",
          "text": [
            "313/313 [==============================] - 2s 6ms/step - loss: 0.2847 - accuracy: 0.8975\n"
          ],
          "name": "stdout"
        },
        {
          "output_type": "execute_result",
          "data": {
            "text/plain": [
              "[0.2846783995628357, 0.8974999785423279]"
            ]
          },
          "metadata": {
            "tags": []
          },
          "execution_count": 54
        }
      ]
    },
    {
      "cell_type": "markdown",
      "metadata": {
        "id": "5LKXlUquh_Pr"
      },
      "source": [
        "## Visualize Output"
      ]
    },
    {
      "cell_type": "code",
      "metadata": {
        "colab": {
          "base_uri": "https://localhost:8080/",
          "height": 551
        },
        "id": "tjoRy09liCTE",
        "outputId": "d39882b6-02a3-43a9-8893-5110823a77b0"
      },
      "source": [
        "#to show all images\n",
        "plt.figure(figsize=(16,9))\n",
        "j=1\n",
        "for i in np.random.randint(0,1000,60):\n",
        "  plt.subplot(10,6,j); j+=1\n",
        "  plt.imshow(X_test[i].reshape(28,28),cmap='Greys')\n",
        "  plt.axis('off')\n",
        "  plt.title('Actual= {} \\n Predicted = {}'.format(class_labels[y_test[i]],class_labels[np.argmax(y_predict[i])],fontsize=20))"
      ],
      "execution_count": null,
      "outputs": [
        {
          "output_type": "display_data",
          "data": {
            "image/png": "[encoded data removed]",
            "text/plain": [
              "<Figure size 1152x648 with 60 Axes>"
            ]
          },
          "metadata": {
            "tags": [],
            "needs_background": "light"
          }
        }
      ]
    },
    {
      "cell_type": "markdown",
      "metadata": {
        "id": "kxtqzYRXlj7H"
      },
      "source": [
        "# Confusion Matrix"
      ]
    },
    {
      "cell_type": "code",
      "metadata": {
        "id": "ju05OdEAjQhB"
      },
      "source": [
        "#for evaluation, we use confusion matrix when we have classification problem\n",
        "from sklearn.metrics import confusion_matrix\n",
        "cm=confusion_matrix(y_test,[np.argmax(i) for i in y_predict])"
      ],
      "execution_count": null,
      "outputs": []
    },
    {
      "cell_type": "code",
      "metadata": {
        "colab": {
          "base_uri": "https://localhost:8080/",
          "height": 554
        },
        "id": "fgCvNfqhk_bN",
        "outputId": "605e3370-3381-4f08-ea48-9eeda3684cad"
      },
      "source": [
        "#to plot this using heatmap\n",
        "plt.figure(figsize=(16,9))\n",
        "sns.heatmap(cm,annot=True,fmt='d',xticklabels=class_labels,yticklabels= class_labels)"
      ],
      "execution_count": null,
      "outputs": [
        {
          "output_type": "execute_result",
          "data": {
            "text/plain": [
              "<matplotlib.axes._subplots.AxesSubplot at 0x7fd578acec18>"
            ]
          },
          "metadata": {
            "tags": []
          },
          "execution_count": 57
        },
        {
          "output_type": "display_data",
          "data": {
            "image/png": "[encoded data removed]",
            "text/plain": [
              "<Figure size 1152x648 with 2 Axes>"
            ]
          },
          "metadata": {
            "tags": [],
            "needs_background": "light"
          }
        }
      ]
    },
    {
      "cell_type": "markdown",
      "metadata": {
        "id": "NEu9A8mulrGe"
      },
      "source": [
        "## Classification Report"
      ]
    },
    {
      "cell_type": "code",
      "metadata": {
        "id": "o74cn-JQbd3b"
      },
      "source": [
        "from sklearn.metrics import classification_report\n",
        "cr=classification_report(y_test,[np.argmax(i) for i in y_predict],target_names=class_labels)"
      ],
      "execution_count": null,
      "outputs": []
    },
    {
      "cell_type": "code",
      "metadata": {
        "colab": {
          "base_uri": "https://localhost:8080/"
        },
        "id": "9FoJKYvzlNwX",
        "outputId": "1854749d-7c0a-4326-963b-87d315fc567b"
      },
      "source": [
        "print(cr)"
      ],
      "execution_count": null,
      "outputs": [
        {
          "output_type": "stream",
          "text": [
            "              precision    recall  f1-score   support\n",
            "\n",
            " T-shirt/top       0.83      0.87      0.85      1000\n",
            "     Trouser       0.99      0.97      0.98      1000\n",
            "    Pullover       0.77      0.89      0.83      1000\n",
            "       Dress       0.88      0.92      0.90      1000\n",
            "        Coat       0.85      0.83      0.84      1000\n",
            "      Sandal       0.97      0.98      0.98      1000\n",
            "       Shirt       0.79      0.62      0.70      1000\n",
            "     Sneaker       0.96      0.94      0.95      1000\n",
            "         Bag       0.98      0.97      0.97      1000\n",
            "  Ankle boot       0.95      0.97      0.96      1000\n",
            "\n",
            "    accuracy                           0.90     10000\n",
            "   macro avg       0.90      0.90      0.90     10000\n",
            "weighted avg       0.90      0.90      0.90     10000\n",
            "\n"
          ],
          "name": "stdout"
        }
      ]
    },
    {
      "cell_type": "markdown",
      "metadata": {
        "id": "taG-lLC6lyqq"
      },
      "source": [
        "## Save and Load Model"
      ]
    },
    {
      "cell_type": "code",
      "metadata": {
        "id": "7WozUyhOlRGB"
      },
      "source": [
        "model.save('MNIST_classifier_cnn_model.h5')"
      ],
      "execution_count": null,
      "outputs": []
    },
    {
      "cell_type": "code",
      "metadata": {
        "id": "S5Q52t-XlZpO"
      },
      "source": [
        "#to load model\n",
        "model=keras.models.load_model('MNIST_classifier_cnn_model.h5')"
      ],
      "execution_count": null,
      "outputs": []
    },
    {
      "cell_type": "code",
      "metadata": {
        "colab": {
          "base_uri": "https://localhost:8080/"
        },
        "id": "I6aaLXBHlcO0",
        "outputId": "d40abd41-87a0-476a-fa35-ff74b5a577cb"
      },
      "source": [
        "#to use it to predict\n",
        "model.predict(X_test)"
      ],
      "execution_count": null,
      "outputs": [
        {
          "output_type": "execute_result",
          "data": {
            "text/plain": [
              "array([[3.71201304e-06, 1.09841906e-07, 5.48394428e-06, ...,\n",
              "        1.03472462e-02, 6.86778512e-04, 9.83557582e-01],\n",
              "       [2.83589907e-06, 3.06050207e-09, 9.99854922e-01, ...,\n",
              "        1.20670948e-14, 2.22945147e-08, 1.62442000e-12],\n",
              "       [2.09503014e-06, 9.99993682e-01, 2.60066653e-08, ...,\n",
              "        6.39023001e-11, 4.54382985e-08, 1.73411736e-11],\n",
              "       ...,\n",
              "       [1.19691540e-03, 2.55279069e-08, 6.67371554e-04, ...,\n",
              "        3.33047365e-06, 9.90675032e-01, 1.61283026e-07],\n",
              "       [3.80841129e-07, 9.99937296e-01, 2.15730836e-07, ...,\n",
              "        2.80470036e-10, 3.61056074e-08, 8.24319812e-08],\n",
              "       [7.69643055e-04, 3.84964296e-05, 7.01313885e-03, ...,\n",
              "        1.03252724e-01, 1.42917540e-02, 8.20996799e-03]], dtype=float32)"
            ]
          },
          "metadata": {
            "tags": []
          },
          "execution_count": 62
        }
      ]
    },
    {
      "cell_type": "markdown",
      "metadata": {
        "id": "m6taExzHkeQ1"
      },
      "source": [
        "## Building Complex Neural network"
      ]
    },
    {
      "cell_type": "code",
      "metadata": {
        "id": "kl8P8mQNkiJp"
      },
      "source": [
        "model2=keras.models.Sequential([\n",
        "                         keras.layers.Conv2D(filters=32,kernel_size=3,strides=(1,1),padding='valid',activation='relu',input_shape=[28,28,1]), #input_shape is of single channel(means black nd white)\n",
        "                         keras.layers.MaxPool2D(pool_size=(2,2)),\n",
        "                         keras.layers.Conv2D(filters=64,kernel_size=3,strides=(2,2),padding='same',activation='relu'),\n",
        "                         keras.layers.MaxPool2D(pool_size=(2,2)),\n",
        "                         keras.layers.Flatten(),\n",
        "                         keras.layers.Dense(units=128,activation='relu'), #to build neural network\n",
        "                         keras.layers.Dropout(0,25),\n",
        "                         keras.layers.Dense(units=256,activation='relu'),\n",
        "                         keras.layers.Dropout(0,25),\n",
        "                         keras.layers.Dense(units=128,activation='relu'),\n",
        "                         keras.layers.Dense(units=10,activation='softmax')\n",
        "\n",
        "])"
      ],
      "execution_count": null,
      "outputs": []
    },
    {
      "cell_type": "code",
      "metadata": {
        "id": "6pZ1n1GhnSIF"
      },
      "source": [
        "#compile mode\n",
        "model2.compile(optimizer='adam',loss='sparse_categorical_crossentropy',metrics=['accuracy'])"
      ],
      "execution_count": null,
      "outputs": []
    },
    {
      "cell_type": "code",
      "metadata": {
        "id": "KctGRvjZleXS",
        "colab": {
          "base_uri": "https://localhost:8080/"
        },
        "outputId": "e9b7c90e-60d8-4f02-8073-248b8796c285"
      },
      "source": [
        "#to train model\n",
        "model.fit(X_train,y_train,epochs=10,batch_size=512,verbose=1,validation_data=(X_val,y_val))"
      ],
      "execution_count": null,
      "outputs": [
        {
          "output_type": "stream",
          "text": [
            "Epoch 1/10\n",
            "94/94 [==============================] - 17s 174ms/step - loss: 0.2072 - accuracy: 0.9264 - val_loss: 0.2525 - val_accuracy: 0.9114\n",
            "Epoch 2/10\n",
            "94/94 [==============================] - 16s 172ms/step - loss: 0.1968 - accuracy: 0.9303 - val_loss: 0.2550 - val_accuracy: 0.9128\n",
            "Epoch 3/10\n",
            "94/94 [==============================] - 16s 172ms/step - loss: 0.1885 - accuracy: 0.9323 - val_loss: 0.2516 - val_accuracy: 0.9127\n",
            "Epoch 4/10\n",
            "94/94 [==============================] - 16s 173ms/step - loss: 0.1764 - accuracy: 0.9383 - val_loss: 0.2460 - val_accuracy: 0.9149\n",
            "Epoch 5/10\n",
            "94/94 [==============================] - 16s 172ms/step - loss: 0.1714 - accuracy: 0.9386 - val_loss: 0.2569 - val_accuracy: 0.9112\n",
            "Epoch 6/10\n",
            "94/94 [==============================] - 16s 172ms/step - loss: 0.1632 - accuracy: 0.9421 - val_loss: 0.2519 - val_accuracy: 0.9149\n",
            "Epoch 7/10\n",
            "94/94 [==============================] - 16s 172ms/step - loss: 0.1584 - accuracy: 0.9438 - val_loss: 0.2517 - val_accuracy: 0.9147\n",
            "Epoch 8/10\n",
            "94/94 [==============================] - 16s 172ms/step - loss: 0.1498 - accuracy: 0.9476 - val_loss: 0.2528 - val_accuracy: 0.9137\n",
            "Epoch 9/10\n",
            "94/94 [==============================] - 16s 174ms/step - loss: 0.1459 - accuracy: 0.9486 - val_loss: 0.2523 - val_accuracy: 0.9155\n",
            "Epoch 10/10\n",
            "94/94 [==============================] - 16s 166ms/step - loss: 0.1410 - accuracy: 0.9503 - val_loss: 0.2486 - val_accuracy: 0.9173\n"
          ],
          "name": "stdout"
        },
        {
          "output_type": "execute_result",
          "data": {
            "text/plain": [
              "<tensorflow.python.keras.callbacks.History at 0x7fd56b4a8860>"
            ]
          },
          "metadata": {
            "tags": []
          },
          "execution_count": 66
        }
      ]
    },
    {
      "cell_type": "code",
      "metadata": {
        "colab": {
          "base_uri": "https://localhost:8080/"
        },
        "id": "LL5IcWXapN2v",
        "outputId": "7834083b-3d74-45d5-d0c9-0fc073afb3fc"
      },
      "source": [
        "#to evaluate\n",
        "model.evaluate(X_test,y_test)"
      ],
      "execution_count": null,
      "outputs": [
        {
          "output_type": "stream",
          "text": [
            "313/313 [==============================] - 2s 6ms/step - loss: 0.2650 - accuracy: 0.9103\n"
          ],
          "name": "stdout"
        },
        {
          "output_type": "execute_result",
          "data": {
            "text/plain": [
              "[0.2650245130062103, 0.9103000164031982]"
            ]
          },
          "metadata": {
            "tags": []
          },
          "execution_count": 67
        }
      ]
    },
    {
      "cell_type": "code",
      "metadata": {
        "id": "QiJI29dLpOC3"
      },
      "source": [
        "model3=keras.models.Sequential([\n",
        "                         keras.layers.Conv2D(filters=64,kernel_size=3,strides=(1,1),padding='valid',activation='relu',input_shape=[28,28,1]), #input_shape is of single channel(means black nd white)\n",
        "                         keras.layers.MaxPool2D(pool_size=(2,2)),\n",
        "                         keras.layers.Conv2D(filters=128,kernel_size=3,strides=(2,2),padding='same',activation='relu'),\n",
        "                         keras.layers.MaxPool2D(pool_size=(2,2)),\n",
        "                         keras.layers.Conv2D(filters=64,kernel_size=3,strides=(1,1),padding='same',activation='relu'),\n",
        "                         keras.layers.MaxPool2D(pool_size=(2,2)),\n",
        "                         keras.layers.Flatten(),\n",
        "                         keras.layers.Dense(units=128,activation='relu'), #to build neural network\n",
        "                         keras.layers.Dropout(0,25), #dropout is to reduce overfitting of model\n",
        "                         keras.layers.Dense(units=256,activation='relu'),\n",
        "                         keras.layers.Dropout(0,25),\n",
        "                         keras.layers.Dense(units=256,activation='relu'),\n",
        "                         keras.layers.Dropout(0,25),\n",
        "                         keras.layers.Dense(units=128,activation='relu'),\n",
        "                         keras.layers.Dense(units=10,activation='softmax')\n",
        "\n",
        "])"
      ],
      "execution_count": null,
      "outputs": []
    },
    {
      "cell_type": "code",
      "metadata": {
        "id": "pHC4XTbUqEeu"
      },
      "source": [
        "#compile mode\n",
        "model2.compile(optimizer='adam',loss='sparse_categorical_crossentropy',metrics=['accuracy'])"
      ],
      "execution_count": null,
      "outputs": []
    },
    {
      "cell_type": "code",
      "metadata": {
        "id": "3GwFHrmtYaLt",
        "colab": {
          "base_uri": "https://localhost:8080/"
        },
        "outputId": "1ec65f85-753b-4005-8f43-24b90803b505"
      },
      "source": [
        "#to train model\n",
        "model.fit(X_train,y_train,epochs=10,batch_size=512,verbose=1,validation_data=(X_val,y_val))"
      ],
      "execution_count": null,
      "outputs": [
        {
          "output_type": "stream",
          "text": [
            "Epoch 1/10\n",
            "94/94 [==============================] - 16s 167ms/step - loss: 0.1305 - accuracy: 0.9540 - val_loss: 0.2505 - val_accuracy: 0.9164\n",
            "Epoch 2/10\n",
            "94/94 [==============================] - 16s 169ms/step - loss: 0.1268 - accuracy: 0.9554 - val_loss: 0.2460 - val_accuracy: 0.9185\n",
            "Epoch 3/10\n",
            "94/94 [==============================] - 16s 169ms/step - loss: 0.1147 - accuracy: 0.9608 - val_loss: 0.2516 - val_accuracy: 0.9178\n",
            "Epoch 4/10\n",
            "94/94 [==============================] - 16s 170ms/step - loss: 0.1130 - accuracy: 0.9611 - val_loss: 0.2539 - val_accuracy: 0.9185\n",
            "Epoch 5/10\n",
            "94/94 [==============================] - 16s 170ms/step - loss: 0.1117 - accuracy: 0.9612 - val_loss: 0.2535 - val_accuracy: 0.9159\n",
            "Epoch 6/10\n",
            "94/94 [==============================] - 16s 171ms/step - loss: 0.1031 - accuracy: 0.9643 - val_loss: 0.2632 - val_accuracy: 0.9158\n",
            "Epoch 7/10\n",
            "94/94 [==============================] - 16s 170ms/step - loss: 0.0956 - accuracy: 0.9681 - val_loss: 0.2602 - val_accuracy: 0.9172\n",
            "Epoch 8/10\n",
            "94/94 [==============================] - 16s 169ms/step - loss: 0.0912 - accuracy: 0.9701 - val_loss: 0.2635 - val_accuracy: 0.9173\n",
            "Epoch 9/10\n",
            "94/94 [==============================] - 16s 169ms/step - loss: 0.0867 - accuracy: 0.9711 - val_loss: 0.2759 - val_accuracy: 0.9155\n",
            "Epoch 10/10\n",
            "94/94 [==============================] - 16s 170ms/step - loss: 0.0867 - accuracy: 0.9701 - val_loss: 0.2840 - val_accuracy: 0.9147\n"
          ],
          "name": "stdout"
        },
        {
          "output_type": "execute_result",
          "data": {
            "text/plain": [
              "<tensorflow.python.keras.callbacks.History at 0x7fd56d6bfbe0>"
            ]
          },
          "metadata": {
            "tags": []
          },
          "execution_count": 72
        }
      ]
    },
    {
      "cell_type": "code",
      "metadata": {
        "id": "vPBjSe7bFqMW",
        "colab": {
          "base_uri": "https://localhost:8080/"
        },
        "outputId": "d7897dbc-9040-4ac0-ac96-3e212bb6b28d"
      },
      "source": [
        "#to evaluate\n",
        "model.evaluate(X_test,y_test)"
      ],
      "execution_count": null,
      "outputs": [
        {
          "output_type": "stream",
          "text": [
            "313/313 [==============================] - 2s 6ms/step - loss: 0.2999 - accuracy: 0.9087\n"
          ],
          "name": "stdout"
        },
        {
          "output_type": "execute_result",
          "data": {
            "text/plain": [
              "[0.2999396026134491, 0.9086999893188477]"
            ]
          },
          "metadata": {
            "tags": []
          },
          "execution_count": 73
        }
      ]
    },
    {
      "cell_type": "code",
      "metadata": {
        "id": "6D-LgBr4rnx9"
      },
      "source": [
        "model.save('MNIST_classifier_cnn_model2.h5')"
      ],
      "execution_count": null,
      "outputs": []
    }
  ]
}