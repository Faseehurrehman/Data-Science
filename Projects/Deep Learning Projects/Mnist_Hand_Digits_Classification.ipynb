{
 "cells": [
  {
   "cell_type": "code",
   "execution_count": null,
   "metadata": {
    "id": "9iFiJsZehT16"
   },
   "outputs": [],
   "source": [
    "# We have digits inside a photograph(have 28*28 = 784 picsels).We will extract picsel value of photo and will send it into input layer having (28*28=784 inputs), one input for each picsel. After that, output will be sent to hidden layers."
   ]
  },
  {
   "cell_type": "code",
   "execution_count": null,
   "metadata": {
    "id": "MlQWWYWLcAHc"
   },
   "outputs": [],
   "source": [
    "import tensorflow\n",
    "from tensorflow import keras\n",
    "from tensorflow.keras import Sequential\n",
    "from tensorflow.keras.layers import Dense,Flatten"
   ]
  },
  {
   "cell_type": "code",
   "execution_count": null,
   "metadata": {
    "colab": {
     "base_uri": "https://localhost:8080/"
    },
    "id": "adaDyFWlchlE",
    "outputId": "229709a6-0ea0-4c7a-abec-973e828f7f06"
   },
   "outputs": [
    {
     "name": "stdout",
     "output_type": "stream",
     "text": [
      "Downloading data from https://storage.googleapis.com/tensorflow/tf-keras-datasets/mnist.npz\n",
      "11490434/11490434 [==============================] - 0s 0us/step\n"
     ]
    }
   ],
   "source": [
    "(X_train,y_train),(X_test,y_test) = keras.datasets.mnist.load_data()"
   ]
  },
  {
   "cell_type": "code",
   "execution_count": null,
   "metadata": {
    "colab": {
     "base_uri": "https://localhost:8080/"
    },
    "id": "2xDc5cAodB_2",
    "outputId": "f263e3c5-564d-41ae-923e-3fe58f9cd714"
   },
   "outputs": [
    {
     "data": {
      "text/plain": [
       "array([[[0, 0, 0, ..., 0, 0, 0],\n",
       "        [0, 0, 0, ..., 0, 0, 0],\n",
       "        [0, 0, 0, ..., 0, 0, 0],\n",
       "        ...,\n",
       "        [0, 0, 0, ..., 0, 0, 0],\n",
       "        [0, 0, 0, ..., 0, 0, 0],\n",
       "        [0, 0, 0, ..., 0, 0, 0]],\n",
       "\n",
       "       [[0, 0, 0, ..., 0, 0, 0],\n",
       "        [0, 0, 0, ..., 0, 0, 0],\n",
       "        [0, 0, 0, ..., 0, 0, 0],\n",
       "        ...,\n",
       "        [0, 0, 0, ..., 0, 0, 0],\n",
       "        [0, 0, 0, ..., 0, 0, 0],\n",
       "        [0, 0, 0, ..., 0, 0, 0]],\n",
       "\n",
       "       [[0, 0, 0, ..., 0, 0, 0],\n",
       "        [0, 0, 0, ..., 0, 0, 0],\n",
       "        [0, 0, 0, ..., 0, 0, 0],\n",
       "        ...,\n",
       "        [0, 0, 0, ..., 0, 0, 0],\n",
       "        [0, 0, 0, ..., 0, 0, 0],\n",
       "        [0, 0, 0, ..., 0, 0, 0]],\n",
       "\n",
       "       ...,\n",
       "\n",
       "       [[0, 0, 0, ..., 0, 0, 0],\n",
       "        [0, 0, 0, ..., 0, 0, 0],\n",
       "        [0, 0, 0, ..., 0, 0, 0],\n",
       "        ...,\n",
       "        [0, 0, 0, ..., 0, 0, 0],\n",
       "        [0, 0, 0, ..., 0, 0, 0],\n",
       "        [0, 0, 0, ..., 0, 0, 0]],\n",
       "\n",
       "       [[0, 0, 0, ..., 0, 0, 0],\n",
       "        [0, 0, 0, ..., 0, 0, 0],\n",
       "        [0, 0, 0, ..., 0, 0, 0],\n",
       "        ...,\n",
       "        [0, 0, 0, ..., 0, 0, 0],\n",
       "        [0, 0, 0, ..., 0, 0, 0],\n",
       "        [0, 0, 0, ..., 0, 0, 0]],\n",
       "\n",
       "       [[0, 0, 0, ..., 0, 0, 0],\n",
       "        [0, 0, 0, ..., 0, 0, 0],\n",
       "        [0, 0, 0, ..., 0, 0, 0],\n",
       "        ...,\n",
       "        [0, 0, 0, ..., 0, 0, 0],\n",
       "        [0, 0, 0, ..., 0, 0, 0],\n",
       "        [0, 0, 0, ..., 0, 0, 0]]], dtype=uint8)"
      ]
     },
     "execution_count": 5,
     "metadata": {},
     "output_type": "execute_result"
    }
   ],
   "source": [
    "X_train"
   ]
  },
  {
   "cell_type": "code",
   "execution_count": null,
   "metadata": {
    "colab": {
     "base_uri": "https://localhost:8080/"
    },
    "id": "1UXADdOudFYv",
    "outputId": "9ab45a8a-f7d5-4977-f4da-d298f97c514a"
   },
   "outputs": [
    {
     "data": {
      "text/plain": [
       "(60000, 28, 28)"
      ]
     },
     "execution_count": 6,
     "metadata": {},
     "output_type": "execute_result"
    }
   ],
   "source": [
    "X_train.shape # This shows that X_train has data of 60000 images. And each image is 28 by 28 numpy array"
   ]
  },
  {
   "cell_type": "code",
   "execution_count": null,
   "metadata": {
    "colab": {
     "base_uri": "https://localhost:8080/"
    },
    "id": "kAl6spIQjNcA",
    "outputId": "0d65890e-bedd-4bed-a9fa-bb675675db1d"
   },
   "outputs": [
    {
     "data": {
      "text/plain": [
       "(28, 28)"
      ]
     },
     "execution_count": 32,
     "metadata": {},
     "output_type": "execute_result"
    }
   ],
   "source": [
    "X_train[0].shape"
   ]
  },
  {
   "cell_type": "code",
   "execution_count": null,
   "metadata": {
    "colab": {
     "base_uri": "https://localhost:8080/"
    },
    "id": "xqyMNfwvdH8L",
    "outputId": "225aa68e-67ea-4ed6-f613-1162b8f64fc5"
   },
   "outputs": [
    {
     "data": {
      "text/plain": [
       "array([5, 0, 4, ..., 5, 6, 8], dtype=uint8)"
      ]
     },
     "execution_count": 7,
     "metadata": {},
     "output_type": "execute_result"
    }
   ],
   "source": [
    "y_train"
   ]
  },
  {
   "cell_type": "code",
   "execution_count": null,
   "metadata": {
    "colab": {
     "base_uri": "https://localhost:8080/"
    },
    "id": "SoPd1xNhdK0b",
    "outputId": "a45f57ed-a212-4ae3-cffa-e4139ade0586"
   },
   "outputs": [
    {
     "data": {
      "text/plain": [
       "(60000,)"
      ]
     },
     "execution_count": 8,
     "metadata": {},
     "output_type": "execute_result"
    }
   ],
   "source": [
    "y_train.shape"
   ]
  },
  {
   "cell_type": "code",
   "execution_count": null,
   "metadata": {
    "colab": {
     "base_uri": "https://localhost:8080/"
    },
    "id": "nOCOXYGieIQf",
    "outputId": "a414498c-25c1-4c08-88d6-539ef573c19a"
   },
   "outputs": [
    {
     "data": {
      "text/plain": [
       "(10000, 28, 28)"
      ]
     },
     "execution_count": 14,
     "metadata": {},
     "output_type": "execute_result"
    }
   ],
   "source": [
    "X_test.shape"
   ]
  },
  {
   "cell_type": "code",
   "execution_count": null,
   "metadata": {
    "colab": {
     "base_uri": "https://localhost:8080/",
     "height": 283
    },
    "id": "4y7sx2uNdNuT",
    "outputId": "e3fbaa2a-b7b9-4c66-e2d1-cf097a554c3f"
   },
   "outputs": [
    {
     "data": {
      "text/plain": [
       "<matplotlib.image.AxesImage at 0x7fa2b0c63c10>"
      ]
     },
     "execution_count": 9,
     "metadata": {},
     "output_type": "execute_result"
    },
    {
     "data": {
      "image/png": "[encoded data removed]",
      "text/plain": [
       "<Figure size 432x288 with 1 Axes>"
      ]
     },
     "metadata": {
      "needs_background": "light"
     },
     "output_type": "display_data"
    }
   ],
   "source": [
    "import matplotlib.pyplot as plt\n",
    "plt.imshow(X_train[0])"
   ]
  },
  {
   "cell_type": "code",
   "execution_count": null,
   "metadata": {
    "colab": {
     "base_uri": "https://localhost:8080/",
     "height": 283
    },
    "id": "dMTJo7iFdatY",
    "outputId": "095db066-f273-4d3d-ce07-efa2dcdf1233"
   },
   "outputs": [
    {
     "data": {
      "text/plain": [
       "<matplotlib.image.AxesImage at 0x7fa2b075e640>"
      ]
     },
     "execution_count": 10,
     "metadata": {},
     "output_type": "execute_result"
    },
    {
     "data": {
      "image/png": "[encoded data removed]",
      "text/plain": [
       "<Figure size 432x288 with 1 Axes>"
      ]
     },
     "metadata": {
      "needs_background": "light"
     },
     "output_type": "display_data"
    }
   ],
   "source": [
    "plt.imshow(X_train[1])"
   ]
  },
  {
   "cell_type": "code",
   "execution_count": null,
   "metadata": {
    "colab": {
     "base_uri": "https://localhost:8080/"
    },
    "id": "ZbwCdTD4dfRJ",
    "outputId": "b79f7c3b-a763-4aa7-df7c-7b26b1faeacc"
   },
   "outputs": [
    {
     "data": {
      "text/plain": [
       "(28, 28)"
      ]
     },
     "execution_count": 11,
     "metadata": {},
     "output_type": "execute_result"
    }
   ],
   "source": [
    "X_train[1].shape"
   ]
  },
  {
   "cell_type": "code",
   "execution_count": null,
   "metadata": {
    "colab": {
     "base_uri": "https://localhost:8080/"
    },
    "id": "_AwzvZE5ktqF",
    "outputId": "4ac141c3-0d4c-4c70-c3ed-e15d9e7cc589"
   },
   "outputs": [
    {
     "data": {
      "text/plain": [
       "array([[  0,   0,   0,   0,   0,   0,   0,   0,   0,   0,   0,   0,   0,\n",
       "          0,   0,   0,   0,   0,   0,   0,   0,   0,   0,   0,   0,   0,\n",
       "          0,   0],\n",
       "       [  0,   0,   0,   0,   0,   0,   0,   0,   0,   0,   0,   0,   0,\n",
       "          0,   0,   0,   0,   0,   0,   0,   0,   0,   0,   0,   0,   0,\n",
       "          0,   0],\n",
       "       [  0,   0,   0,   0,   0,   0,   0,   0,   0,   0,   0,   0,   0,\n",
       "          0,   0,   0,   0,   0,   0,   0,   0,   0,   0,   0,   0,   0,\n",
       "          0,   0],\n",
       "       [  0,   0,   0,   0,   0,   0,   0,   0,   0,   0,   0,   0,   0,\n",
       "          0,   0,   0,   0,   0,   0,   0,   0,   0,   0,   0,   0,   0,\n",
       "          0,   0],\n",
       "       [  0,   0,   0,   0,   0,   0,   0,   0,   0,   0,   0,   0,   0,\n",
       "          0,   0,   0,   0,   0,   0,   0,   0,   0,   0,   0,   0,   0,\n",
       "          0,   0],\n",
       "       [  0,   0,   0,   0,   0,   0,   0,   0,   0,   0,   0,   0,   0,\n",
       "          0,   0,  13,  25, 100, 122,   7,   0,   0,   0,   0,   0,   0,\n",
       "          0,   0],\n",
       "       [  0,   0,   0,   0,   0,   0,   0,   0,   0,   0,   0,   0,   0,\n",
       "         33, 151, 208, 252, 252, 252, 146,   0,   0,   0,   0,   0,   0,\n",
       "          0,   0],\n",
       "       [  0,   0,   0,   0,   0,   0,   0,   0,   0,   0,   0,  40, 152,\n",
       "        244, 252, 253, 224, 211, 252, 232,  40,   0,   0,   0,   0,   0,\n",
       "          0,   0],\n",
       "       [  0,   0,   0,   0,   0,   0,   0,   0,   0,  15, 152, 239, 252,\n",
       "        252, 252, 216,  31,  37, 252, 252,  60,   0,   0,   0,   0,   0,\n",
       "          0,   0],\n",
       "       [  0,   0,   0,   0,   0,   0,   0,   0,   0,  96, 252, 252, 252,\n",
       "        252, 217,  29,   0,  37, 252, 252,  60,   0,   0,   0,   0,   0,\n",
       "          0,   0],\n",
       "       [  0,   0,   0,   0,   0,   0,   0,   0,   0, 181, 252, 252, 220,\n",
       "        167,  30,   0,   0,  77, 252, 252,  60,   0,   0,   0,   0,   0,\n",
       "          0,   0],\n",
       "       [  0,   0,   0,   0,   0,   0,   0,   0,   0,  26, 128,  58,  22,\n",
       "          0,   0,   0,   0, 100, 252, 252,  60,   0,   0,   0,   0,   0,\n",
       "          0,   0],\n",
       "       [  0,   0,   0,   0,   0,   0,   0,   0,   0,   0,   0,   0,   0,\n",
       "          0,   0,   0,   0, 157, 252, 252,  60,   0,   0,   0,   0,   0,\n",
       "          0,   0],\n",
       "       [  0,   0,   0,   0,   0,   0,   0,   0,   0,   0,   0,   0,   0,\n",
       "        110, 121, 122, 121, 202, 252, 194,   3,   0,   0,   0,   0,   0,\n",
       "          0,   0],\n",
       "       [  0,   0,   0,   0,   0,   0,   0,   0,   0,   0,  10,  53, 179,\n",
       "        253, 253, 255, 253, 253, 228,  35,   0,   0,   0,   0,   0,   0,\n",
       "          0,   0],\n",
       "       [  0,   0,   0,   0,   0,   0,   0,   0,   5,  54, 227, 252, 243,\n",
       "        228, 170, 242, 252, 252, 231, 117,   6,   0,   0,   0,   0,   0,\n",
       "          0,   0],\n",
       "       [  0,   0,   0,   0,   0,   0,   0,   6,  78, 252, 252, 125,  59,\n",
       "          0,  18, 208, 252, 252, 252, 252,  87,   7,   0,   0,   0,   0,\n",
       "          0,   0],\n",
       "       [  0,   0,   0,   0,   0,   0,   5, 135, 252, 252, 180,  16,   0,\n",
       "         21, 203, 253, 247, 129, 173, 252, 252, 184,  66,  49,  49,   0,\n",
       "          0,   0],\n",
       "       [  0,   0,   0,   0,   0,   3, 136, 252, 241, 106,  17,   0,  53,\n",
       "        200, 252, 216,  65,   0,  14,  72, 163, 241, 252, 252, 223,   0,\n",
       "          0,   0],\n",
       "       [  0,   0,   0,   0,   0, 105, 252, 242,  88,  18,  73, 170, 244,\n",
       "        252, 126,  29,   0,   0,   0,   0,   0,  89, 180, 180,  37,   0,\n",
       "          0,   0],\n",
       "       [  0,   0,   0,   0,   0, 231, 252, 245, 205, 216, 252, 252, 252,\n",
       "        124,   3,   0,   0,   0,   0,   0,   0,   0,   0,   0,   0,   0,\n",
       "          0,   0],\n",
       "       [  0,   0,   0,   0,   0, 207, 252, 252, 252, 252, 178, 116,  36,\n",
       "          4,   0,   0,   0,   0,   0,   0,   0,   0,   0,   0,   0,   0,\n",
       "          0,   0],\n",
       "       [  0,   0,   0,   0,   0,  13,  93, 143, 121,  23,   6,   0,   0,\n",
       "          0,   0,   0,   0,   0,   0,   0,   0,   0,   0,   0,   0,   0,\n",
       "          0,   0],\n",
       "       [  0,   0,   0,   0,   0,   0,   0,   0,   0,   0,   0,   0,   0,\n",
       "          0,   0,   0,   0,   0,   0,   0,   0,   0,   0,   0,   0,   0,\n",
       "          0,   0],\n",
       "       [  0,   0,   0,   0,   0,   0,   0,   0,   0,   0,   0,   0,   0,\n",
       "          0,   0,   0,   0,   0,   0,   0,   0,   0,   0,   0,   0,   0,\n",
       "          0,   0],\n",
       "       [  0,   0,   0,   0,   0,   0,   0,   0,   0,   0,   0,   0,   0,\n",
       "          0,   0,   0,   0,   0,   0,   0,   0,   0,   0,   0,   0,   0,\n",
       "          0,   0],\n",
       "       [  0,   0,   0,   0,   0,   0,   0,   0,   0,   0,   0,   0,   0,\n",
       "          0,   0,   0,   0,   0,   0,   0,   0,   0,   0,   0,   0,   0,\n",
       "          0,   0],\n",
       "       [  0,   0,   0,   0,   0,   0,   0,   0,   0,   0,   0,   0,   0,\n",
       "          0,   0,   0,   0,   0,   0,   0,   0,   0,   0,   0,   0,   0,\n",
       "          0,   0]], dtype=uint8)"
      ]
     },
     "execution_count": 40,
     "metadata": {},
     "output_type": "execute_result"
    }
   ],
   "source": [
    "X_train[5]"
   ]
  },
  {
   "cell_type": "code",
   "execution_count": null,
   "metadata": {
    "id": "f852RFPddqTS"
   },
   "outputs": [],
   "source": [
    "# Normalization - We need to bring array values between 0 and 1. Because during traing of neural network, if values are in similar range then convergence become faster in finding weights and biases\n",
    "\n",
    "X_train_scaled = X_train/255 # Since any image has values between 0 and 255\n",
    "X_test_scaled = X_test/255"
   ]
  },
  {
   "cell_type": "code",
   "execution_count": null,
   "metadata": {
    "colab": {
     "base_uri": "https://localhost:8080/"
    },
    "id": "8hdKovhzd4zw",
    "outputId": "9481373e-a130-4202-9fde-36310286de4a"
   },
   "outputs": [
    {
     "data": {
      "text/plain": [
       "array([[0.        , 0.        , 0.        , 0.        , 0.        ,\n",
       "        0.        , 0.        , 0.        , 0.        , 0.        ,\n",
       "        0.        , 0.        , 0.        , 0.        , 0.        ,\n",
       "        0.        , 0.        , 0.        , 0.        , 0.        ,\n",
       "        0.        , 0.        , 0.        , 0.        , 0.        ,\n",
       "        0.        , 0.        , 0.        ],\n",
       "       [0.        , 0.        , 0.        , 0.        , 0.        ,\n",
       "        0.        , 0.        , 0.        , 0.        , 0.        ,\n",
       "        0.        , 0.        , 0.        , 0.        , 0.        ,\n",
       "        0.        , 0.        , 0.        , 0.        , 0.        ,\n",
       "        0.        , 0.        , 0.        , 0.        , 0.        ,\n",
       "        0.        , 0.        , 0.        ],\n",
       "       [0.        , 0.        , 0.        , 0.        , 0.        ,\n",
       "        0.        , 0.        , 0.        , 0.        , 0.        ,\n",
       "        0.        , 0.        , 0.        , 0.        , 0.        ,\n",
       "        0.        , 0.        , 0.        , 0.        , 0.        ,\n",
       "        0.        , 0.        , 0.        , 0.        , 0.        ,\n",
       "        0.        , 0.        , 0.        ],\n",
       "       [0.        , 0.        , 0.        , 0.        , 0.        ,\n",
       "        0.        , 0.        , 0.        , 0.        , 0.        ,\n",
       "        0.        , 0.        , 0.        , 0.        , 0.        ,\n",
       "        0.        , 0.        , 0.        , 0.        , 0.        ,\n",
       "        0.        , 0.        , 0.        , 0.        , 0.        ,\n",
       "        0.        , 0.        , 0.        ],\n",
       "       [0.        , 0.        , 0.        , 0.        , 0.        ,\n",
       "        0.        , 0.        , 0.        , 0.        , 0.        ,\n",
       "        0.        , 0.        , 0.        , 0.        , 0.        ,\n",
       "        0.        , 0.        , 0.        , 0.        , 0.        ,\n",
       "        0.        , 0.        , 0.        , 0.        , 0.        ,\n",
       "        0.        , 0.        , 0.        ],\n",
       "       [0.        , 0.        , 0.        , 0.        , 0.        ,\n",
       "        0.        , 0.        , 0.        , 0.        , 0.        ,\n",
       "        0.        , 0.        , 0.        , 0.        , 0.        ,\n",
       "        0.05098039, 0.09803922, 0.39215686, 0.47843137, 0.02745098,\n",
       "        0.        , 0.        , 0.        , 0.        , 0.        ,\n",
       "        0.        , 0.        , 0.        ],\n",
       "       [0.        , 0.        , 0.        , 0.        , 0.        ,\n",
       "        0.        , 0.        , 0.        , 0.        , 0.        ,\n",
       "        0.        , 0.        , 0.        , 0.12941176, 0.59215686,\n",
       "        0.81568627, 0.98823529, 0.98823529, 0.98823529, 0.57254902,\n",
       "        0.        , 0.        , 0.        , 0.        , 0.        ,\n",
       "        0.        , 0.        , 0.        ],\n",
       "       [0.        , 0.        , 0.        , 0.        , 0.        ,\n",
       "        0.        , 0.        , 0.        , 0.        , 0.        ,\n",
       "        0.        , 0.15686275, 0.59607843, 0.95686275, 0.98823529,\n",
       "        0.99215686, 0.87843137, 0.82745098, 0.98823529, 0.90980392,\n",
       "        0.15686275, 0.        , 0.        , 0.        , 0.        ,\n",
       "        0.        , 0.        , 0.        ],\n",
       "       [0.        , 0.        , 0.        , 0.        , 0.        ,\n",
       "        0.        , 0.        , 0.        , 0.        , 0.05882353,\n",
       "        0.59607843, 0.9372549 , 0.98823529, 0.98823529, 0.98823529,\n",
       "        0.84705882, 0.12156863, 0.14509804, 0.98823529, 0.98823529,\n",
       "        0.23529412, 0.        , 0.        , 0.        , 0.        ,\n",
       "        0.        , 0.        , 0.        ],\n",
       "       [0.        , 0.        , 0.        , 0.        , 0.        ,\n",
       "        0.        , 0.        , 0.        , 0.        , 0.37647059,\n",
       "        0.98823529, 0.98823529, 0.98823529, 0.98823529, 0.85098039,\n",
       "        0.11372549, 0.        , 0.14509804, 0.98823529, 0.98823529,\n",
       "        0.23529412, 0.        , 0.        , 0.        , 0.        ,\n",
       "        0.        , 0.        , 0.        ],\n",
       "       [0.        , 0.        , 0.        , 0.        , 0.        ,\n",
       "        0.        , 0.        , 0.        , 0.        , 0.70980392,\n",
       "        0.98823529, 0.98823529, 0.8627451 , 0.65490196, 0.11764706,\n",
       "        0.        , 0.        , 0.30196078, 0.98823529, 0.98823529,\n",
       "        0.23529412, 0.        , 0.        , 0.        , 0.        ,\n",
       "        0.        , 0.        , 0.        ],\n",
       "       [0.        , 0.        , 0.        , 0.        , 0.        ,\n",
       "        0.        , 0.        , 0.        , 0.        , 0.10196078,\n",
       "        0.50196078, 0.22745098, 0.08627451, 0.        , 0.        ,\n",
       "        0.        , 0.        , 0.39215686, 0.98823529, 0.98823529,\n",
       "        0.23529412, 0.        , 0.        , 0.        , 0.        ,\n",
       "        0.        , 0.        , 0.        ],\n",
       "       [0.        , 0.        , 0.        , 0.        , 0.        ,\n",
       "        0.        , 0.        , 0.        , 0.        , 0.        ,\n",
       "        0.        , 0.        , 0.        , 0.        , 0.        ,\n",
       "        0.        , 0.        , 0.61568627, 0.98823529, 0.98823529,\n",
       "        0.23529412, 0.        , 0.        , 0.        , 0.        ,\n",
       "        0.        , 0.        , 0.        ],\n",
       "       [0.        , 0.        , 0.        , 0.        , 0.        ,\n",
       "        0.        , 0.        , 0.        , 0.        , 0.        ,\n",
       "        0.        , 0.        , 0.        , 0.43137255, 0.4745098 ,\n",
       "        0.47843137, 0.4745098 , 0.79215686, 0.98823529, 0.76078431,\n",
       "        0.01176471, 0.        , 0.        , 0.        , 0.        ,\n",
       "        0.        , 0.        , 0.        ],\n",
       "       [0.        , 0.        , 0.        , 0.        , 0.        ,\n",
       "        0.        , 0.        , 0.        , 0.        , 0.        ,\n",
       "        0.03921569, 0.20784314, 0.70196078, 0.99215686, 0.99215686,\n",
       "        1.        , 0.99215686, 0.99215686, 0.89411765, 0.1372549 ,\n",
       "        0.        , 0.        , 0.        , 0.        , 0.        ,\n",
       "        0.        , 0.        , 0.        ],\n",
       "       [0.        , 0.        , 0.        , 0.        , 0.        ,\n",
       "        0.        , 0.        , 0.        , 0.01960784, 0.21176471,\n",
       "        0.89019608, 0.98823529, 0.95294118, 0.89411765, 0.66666667,\n",
       "        0.94901961, 0.98823529, 0.98823529, 0.90588235, 0.45882353,\n",
       "        0.02352941, 0.        , 0.        , 0.        , 0.        ,\n",
       "        0.        , 0.        , 0.        ],\n",
       "       [0.        , 0.        , 0.        , 0.        , 0.        ,\n",
       "        0.        , 0.        , 0.02352941, 0.30588235, 0.98823529,\n",
       "        0.98823529, 0.49019608, 0.23137255, 0.        , 0.07058824,\n",
       "        0.81568627, 0.98823529, 0.98823529, 0.98823529, 0.98823529,\n",
       "        0.34117647, 0.02745098, 0.        , 0.        , 0.        ,\n",
       "        0.        , 0.        , 0.        ],\n",
       "       [0.        , 0.        , 0.        , 0.        , 0.        ,\n",
       "        0.        , 0.01960784, 0.52941176, 0.98823529, 0.98823529,\n",
       "        0.70588235, 0.0627451 , 0.        , 0.08235294, 0.79607843,\n",
       "        0.99215686, 0.96862745, 0.50588235, 0.67843137, 0.98823529,\n",
       "        0.98823529, 0.72156863, 0.25882353, 0.19215686, 0.19215686,\n",
       "        0.        , 0.        , 0.        ],\n",
       "       [0.        , 0.        , 0.        , 0.        , 0.        ,\n",
       "        0.01176471, 0.53333333, 0.98823529, 0.94509804, 0.41568627,\n",
       "        0.06666667, 0.        , 0.20784314, 0.78431373, 0.98823529,\n",
       "        0.84705882, 0.25490196, 0.        , 0.05490196, 0.28235294,\n",
       "        0.63921569, 0.94509804, 0.98823529, 0.98823529, 0.8745098 ,\n",
       "        0.        , 0.        , 0.        ],\n",
       "       [0.        , 0.        , 0.        , 0.        , 0.        ,\n",
       "        0.41176471, 0.98823529, 0.94901961, 0.34509804, 0.07058824,\n",
       "        0.28627451, 0.66666667, 0.95686275, 0.98823529, 0.49411765,\n",
       "        0.11372549, 0.        , 0.        , 0.        , 0.        ,\n",
       "        0.        , 0.34901961, 0.70588235, 0.70588235, 0.14509804,\n",
       "        0.        , 0.        , 0.        ],\n",
       "       [0.        , 0.        , 0.        , 0.        , 0.        ,\n",
       "        0.90588235, 0.98823529, 0.96078431, 0.80392157, 0.84705882,\n",
       "        0.98823529, 0.98823529, 0.98823529, 0.48627451, 0.01176471,\n",
       "        0.        , 0.        , 0.        , 0.        , 0.        ,\n",
       "        0.        , 0.        , 0.        , 0.        , 0.        ,\n",
       "        0.        , 0.        , 0.        ],\n",
       "       [0.        , 0.        , 0.        , 0.        , 0.        ,\n",
       "        0.81176471, 0.98823529, 0.98823529, 0.98823529, 0.98823529,\n",
       "        0.69803922, 0.45490196, 0.14117647, 0.01568627, 0.        ,\n",
       "        0.        , 0.        , 0.        , 0.        , 0.        ,\n",
       "        0.        , 0.        , 0.        , 0.        , 0.        ,\n",
       "        0.        , 0.        , 0.        ],\n",
       "       [0.        , 0.        , 0.        , 0.        , 0.        ,\n",
       "        0.05098039, 0.36470588, 0.56078431, 0.4745098 , 0.09019608,\n",
       "        0.02352941, 0.        , 0.        , 0.        , 0.        ,\n",
       "        0.        , 0.        , 0.        , 0.        , 0.        ,\n",
       "        0.        , 0.        , 0.        , 0.        , 0.        ,\n",
       "        0.        , 0.        , 0.        ],\n",
       "       [0.        , 0.        , 0.        , 0.        , 0.        ,\n",
       "        0.        , 0.        , 0.        , 0.        , 0.        ,\n",
       "        0.        , 0.        , 0.        , 0.        , 0.        ,\n",
       "        0.        , 0.        , 0.        , 0.        , 0.        ,\n",
       "        0.        , 0.        , 0.        , 0.        , 0.        ,\n",
       "        0.        , 0.        , 0.        ],\n",
       "       [0.        , 0.        , 0.        , 0.        , 0.        ,\n",
       "        0.        , 0.        , 0.        , 0.        , 0.        ,\n",
       "        0.        , 0.        , 0.        , 0.        , 0.        ,\n",
       "        0.        , 0.        , 0.        , 0.        , 0.        ,\n",
       "        0.        , 0.        , 0.        , 0.        , 0.        ,\n",
       "        0.        , 0.        , 0.        ],\n",
       "       [0.        , 0.        , 0.        , 0.        , 0.        ,\n",
       "        0.        , 0.        , 0.        , 0.        , 0.        ,\n",
       "        0.        , 0.        , 0.        , 0.        , 0.        ,\n",
       "        0.        , 0.        , 0.        , 0.        , 0.        ,\n",
       "        0.        , 0.        , 0.        , 0.        , 0.        ,\n",
       "        0.        , 0.        , 0.        ],\n",
       "       [0.        , 0.        , 0.        , 0.        , 0.        ,\n",
       "        0.        , 0.        , 0.        , 0.        , 0.        ,\n",
       "        0.        , 0.        , 0.        , 0.        , 0.        ,\n",
       "        0.        , 0.        , 0.        , 0.        , 0.        ,\n",
       "        0.        , 0.        , 0.        , 0.        , 0.        ,\n",
       "        0.        , 0.        , 0.        ],\n",
       "       [0.        , 0.        , 0.        , 0.        , 0.        ,\n",
       "        0.        , 0.        , 0.        , 0.        , 0.        ,\n",
       "        0.        , 0.        , 0.        , 0.        , 0.        ,\n",
       "        0.        , 0.        , 0.        , 0.        , 0.        ,\n",
       "        0.        , 0.        , 0.        , 0.        , 0.        ,\n",
       "        0.        , 0.        , 0.        ]])"
      ]
     },
     "execution_count": 41,
     "metadata": {},
     "output_type": "execute_result"
    }
   ],
   "source": [
    "X_train_scaled[5]"
   ]
  },
  {
   "cell_type": "code",
   "execution_count": null,
   "metadata": {
    "id": "fDDoiYukd85w"
   },
   "outputs": [],
   "source": [
    "model = Sequential()\n",
    "\n",
    "model.add(Flatten(input_shape = (28,28))) # Since our data is in this format (28 * 28).All picsel values are in 2 D. So we will have to flatten the input layer.\n",
    "model.add(Dense(128, activation = 'relu')) # First Hidden Layer\n",
    "model.add(Dense(28, activation = 'relu'))\n",
    "model.add(Dense(10, activation = 'softmax')) # If we have nodes greater than 1, we will use softmax"
   ]
  },
  {
   "cell_type": "code",
   "execution_count": null,
   "metadata": {
    "colab": {
     "base_uri": "https://localhost:8080/"
    },
    "id": "inQuMPN8fegE",
    "outputId": "879e4c12-f595-4650-95d5-21e5a655189a"
   },
   "outputs": [
    {
     "name": "stdout",
     "output_type": "stream",
     "text": [
      "Model: \"sequential_1\"\n",
      "_________________________________________________________________\n",
      " Layer (type)                Output Shape              Param #   \n",
      "=================================================================\n",
      " flatten_1 (Flatten)         (None, 784)               0         \n",
      "                                                                 \n",
      " dense_2 (Dense)             (None, 128)               100480    \n",
      "                                                                 \n",
      " dense_3 (Dense)             (None, 28)                3612      \n",
      "                                                                 \n",
      " dense_4 (Dense)             (None, 10)                290       \n",
      "                                                                 \n",
      "=================================================================\n",
      "Total params: 104,382\n",
      "Trainable params: 104,382\n",
      "Non-trainable params: 0\n",
      "_________________________________________________________________\n"
     ]
    }
   ],
   "source": [
    "model.summary()"
   ]
  },
  {
   "cell_type": "code",
   "execution_count": null,
   "metadata": {
    "colab": {
     "base_uri": "https://localhost:8080/"
    },
    "id": "e9BWVRGWfxxo",
    "outputId": "59ac8f13-e632-426e-df68-4eec82569391"
   },
   "outputs": [
    {
     "name": "stdout",
     "output_type": "stream",
     "text": [
      "Epoch 1/25\n",
      "1500/1500 [==============================] - 7s 4ms/step - loss: 0.2917 - accuracy: 0.9148 - val_loss: 0.1523 - val_accuracy: 0.9551\n",
      "Epoch 2/25\n",
      "1500/1500 [==============================] - 5s 3ms/step - loss: 0.1251 - accuracy: 0.9625 - val_loss: 0.1194 - val_accuracy: 0.9634\n",
      "Epoch 3/25\n",
      "1500/1500 [==============================] - 5s 3ms/step - loss: 0.0858 - accuracy: 0.9742 - val_loss: 0.0996 - val_accuracy: 0.9713\n",
      "Epoch 4/25\n",
      "1500/1500 [==============================] - 5s 4ms/step - loss: 0.0645 - accuracy: 0.9795 - val_loss: 0.1011 - val_accuracy: 0.9697\n",
      "Epoch 5/25\n",
      "1500/1500 [==============================] - 5s 4ms/step - loss: 0.0490 - accuracy: 0.9846 - val_loss: 0.1024 - val_accuracy: 0.9709\n",
      "Epoch 6/25\n",
      "1500/1500 [==============================] - 5s 3ms/step - loss: 0.0383 - accuracy: 0.9879 - val_loss: 0.0929 - val_accuracy: 0.9746\n",
      "Epoch 7/25\n",
      "1500/1500 [==============================] - 5s 3ms/step - loss: 0.0316 - accuracy: 0.9899 - val_loss: 0.1071 - val_accuracy: 0.9707\n",
      "Epoch 8/25\n",
      "1500/1500 [==============================] - 5s 3ms/step - loss: 0.0266 - accuracy: 0.9915 - val_loss: 0.1035 - val_accuracy: 0.9740\n",
      "Epoch 9/25\n",
      "1500/1500 [==============================] - 5s 3ms/step - loss: 0.0221 - accuracy: 0.9927 - val_loss: 0.1314 - val_accuracy: 0.9675\n",
      "Epoch 10/25\n",
      "1500/1500 [==============================] - 5s 3ms/step - loss: 0.0188 - accuracy: 0.9938 - val_loss: 0.1281 - val_accuracy: 0.9713\n",
      "Epoch 11/25\n",
      "1500/1500 [==============================] - 5s 3ms/step - loss: 0.0167 - accuracy: 0.9940 - val_loss: 0.1214 - val_accuracy: 0.9729\n",
      "Epoch 12/25\n",
      "1500/1500 [==============================] - 5s 3ms/step - loss: 0.0166 - accuracy: 0.9941 - val_loss: 0.1284 - val_accuracy: 0.9716\n",
      "Epoch 13/25\n",
      "1500/1500 [==============================] - 5s 3ms/step - loss: 0.0150 - accuracy: 0.9949 - val_loss: 0.1305 - val_accuracy: 0.9728\n",
      "Epoch 14/25\n",
      "1500/1500 [==============================] - 5s 4ms/step - loss: 0.0118 - accuracy: 0.9960 - val_loss: 0.1523 - val_accuracy: 0.9701\n",
      "Epoch 15/25\n",
      "1500/1500 [==============================] - 5s 3ms/step - loss: 0.0129 - accuracy: 0.9956 - val_loss: 0.1373 - val_accuracy: 0.9714\n",
      "Epoch 16/25\n",
      "1500/1500 [==============================] - 5s 3ms/step - loss: 0.0108 - accuracy: 0.9963 - val_loss: 0.1269 - val_accuracy: 0.9759\n",
      "Epoch 17/25\n",
      "1500/1500 [==============================] - 5s 3ms/step - loss: 0.0117 - accuracy: 0.9962 - val_loss: 0.1311 - val_accuracy: 0.9738\n",
      "Epoch 18/25\n",
      "1500/1500 [==============================] - 5s 3ms/step - loss: 0.0097 - accuracy: 0.9967 - val_loss: 0.1363 - val_accuracy: 0.9734\n",
      "Epoch 19/25\n",
      "1500/1500 [==============================] - 5s 3ms/step - loss: 0.0108 - accuracy: 0.9963 - val_loss: 0.1352 - val_accuracy: 0.9757\n",
      "Epoch 20/25\n",
      "1500/1500 [==============================] - 5s 3ms/step - loss: 0.0113 - accuracy: 0.9964 - val_loss: 0.1626 - val_accuracy: 0.9728\n",
      "Epoch 21/25\n",
      "1500/1500 [==============================] - 5s 3ms/step - loss: 0.0081 - accuracy: 0.9974 - val_loss: 0.1619 - val_accuracy: 0.9709\n",
      "Epoch 22/25\n",
      "1500/1500 [==============================] - 5s 4ms/step - loss: 0.0092 - accuracy: 0.9969 - val_loss: 0.1623 - val_accuracy: 0.9736\n",
      "Epoch 23/25\n",
      "1500/1500 [==============================] - 5s 3ms/step - loss: 0.0081 - accuracy: 0.9975 - val_loss: 0.1516 - val_accuracy: 0.9728\n",
      "Epoch 24/25\n",
      "1500/1500 [==============================] - 5s 3ms/step - loss: 0.0079 - accuracy: 0.9977 - val_loss: 0.1526 - val_accuracy: 0.9741\n",
      "Epoch 25/25\n",
      "1500/1500 [==============================] - 5s 3ms/step - loss: 0.0118 - accuracy: 0.9964 - val_loss: 0.1623 - val_accuracy: 0.9737\n"
     ]
    }
   ],
   "source": [
    "model.compile(loss = 'sparse_categorical_crossentropy', optimizer = 'Adam', metrics = ['accuracy']) # If we use loss = 'sparse_categorical_crossentropy' instead of 'categorical_crossentropy', then we will not have to do OneHotEncoding our labels (1,2,3,...,9)\n",
    "history = model.fit(X_train_scaled, y_train, epochs = 25, validation_split = 0.2)"
   ]
  },
  {
   "cell_type": "code",
   "execution_count": null,
   "metadata": {
    "colab": {
     "base_uri": "https://localhost:8080/"
    },
    "id": "k42GsilPgRd5",
    "outputId": "d59ed738-4448-4be2-bdf5-fdd1e7ac575e"
   },
   "outputs": [
    {
     "data": {
      "text/plain": [
       "[]"
      ]
     },
     "execution_count": 20,
     "metadata": {},
     "output_type": "execute_result"
    }
   ],
   "source": [
    "model.layers[0].get_weights()"
   ]
  },
  {
   "cell_type": "code",
   "execution_count": null,
   "metadata": {
    "colab": {
     "base_uri": "https://localhost:8080/"
    },
    "id": "s__rytLZg2E8",
    "outputId": "8898b3d5-73fc-43a2-fd9d-68ec781e5d0d"
   },
   "outputs": [
    {
     "data": {
      "text/plain": [
       "[array([[-0.0380072 ,  0.07722866,  0.05237747, ...,  0.0657971 ,\n",
       "          0.0601422 ,  0.05717399],\n",
       "        [-0.02630775, -0.05480016,  0.01466946, ...,  0.03390986,\n",
       "          0.00674552,  0.03039838],\n",
       "        [ 0.00278731, -0.00485328,  0.07191076, ...,  0.05649229,\n",
       "         -0.00662948,  0.03002176],\n",
       "        ...,\n",
       "        [ 0.03380236,  0.00706094,  0.01324047, ...,  0.07555441,\n",
       "         -0.04612883,  0.07679113],\n",
       "        [-0.05046012, -0.00457028, -0.00294099, ..., -0.01332621,\n",
       "          0.06341758, -0.02680279],\n",
       "        [ 0.03559094, -0.08032836, -0.01267372, ..., -0.05427851,\n",
       "         -0.00669917,  0.0081792 ]], dtype=float32),\n",
       " array([ 0.2581    , -0.03738201, -0.11999121,  0.22542629,  0.30390114,\n",
       "        -0.02271737, -0.13499378, -0.03417956,  0.0340593 , -0.02929108,\n",
       "        -0.2660595 , -0.03750728,  0.00605276, -0.21034683, -0.0678241 ,\n",
       "        -0.10017062, -0.0407028 ,  0.04242976,  0.00333943,  0.13410299,\n",
       "        -0.11235343, -0.15121397,  0.00548311,  0.16432266,  0.12318877,\n",
       "         0.17166509,  0.04149266,  0.16064094, -0.12305071,  0.07148465,\n",
       "        -0.20821388,  0.03967382,  0.09309528,  0.08305474,  0.14672416,\n",
       "        -0.01581836, -0.01528076,  0.05874483, -0.08236135,  0.00663161,\n",
       "        -0.20765111,  0.0489688 , -0.0360724 ,  0.06990232,  0.085581  ,\n",
       "        -0.09124515,  0.11820618, -0.11242366, -0.14226499,  0.13925847,\n",
       "         0.03662295, -0.02226987, -0.09322973, -0.15557921,  0.02823573,\n",
       "         0.03654137, -0.06120818,  0.12710331, -0.07495995, -0.02272296,\n",
       "         0.01266401,  0.16739888, -0.04284847,  0.0067649 ,  0.15852028,\n",
       "        -0.09774844, -0.05624278,  0.02315144, -0.01212208, -0.11098213,\n",
       "         0.07048023,  0.02849677,  0.01333384,  0.10181286,  0.11933063,\n",
       "         0.08417422, -0.06084871,  0.09792452, -0.14173016, -0.20380734,\n",
       "         0.28061432,  0.03864113, -0.21899062,  0.1502741 ,  0.07357019,\n",
       "        -0.04852627,  0.17479405, -0.04264281,  0.04051222,  0.01512013,\n",
       "        -0.11280156,  0.11122621,  0.07430708, -0.09139062, -0.0116824 ,\n",
       "        -0.10527567,  0.21356602, -0.00993191,  0.21133028, -0.04243501,\n",
       "         0.05532397,  0.18929733,  0.04977335,  0.11866365, -0.27414644,\n",
       "         0.19819368,  0.24620764, -0.07513216,  0.0243294 , -0.11778533,\n",
       "         0.04654774, -0.05900834,  0.13412929,  0.17060006, -0.03685117,\n",
       "        -0.17164536,  0.01865308,  0.08160219, -0.00389512,  0.0234699 ,\n",
       "         0.0630405 ,  0.03686538,  0.02396957, -0.19689922, -0.11479977,\n",
       "        -0.11382338, -0.02106824, -0.07566205], dtype=float32)]"
      ]
     },
     "execution_count": 21,
     "metadata": {},
     "output_type": "execute_result"
    }
   ],
   "source": [
    "model.layers[1].get_weights()"
   ]
  },
  {
   "cell_type": "code",
   "execution_count": null,
   "metadata": {
    "colab": {
     "base_uri": "https://localhost:8080/"
    },
    "id": "jM4rUGpAg58s",
    "outputId": "f8d4acb7-db57-4706-ecb0-2f07ac3d40da"
   },
   "outputs": [
    {
     "data": {
      "text/plain": [
       "[array([[-0.5322318 , -0.36648697, -0.09553091, ..., -0.5372835 ,\n",
       "          0.25518385, -0.5634107 ],\n",
       "        [ 0.09697021,  0.13949071,  0.2647395 , ..., -0.03401095,\n",
       "         -0.11252085,  0.32716906],\n",
       "        [ 0.06618461, -0.2490792 ,  0.16246723, ...,  0.05793743,\n",
       "          0.26332173,  0.02023746],\n",
       "        ...,\n",
       "        [ 0.1151064 , -0.0051029 , -0.21601167, ...,  0.6395827 ,\n",
       "         -0.5593326 , -0.0065673 ],\n",
       "        [-0.04691838, -0.40252638,  0.20337325, ..., -0.41014403,\n",
       "         -0.35822153, -0.2994334 ],\n",
       "        [ 0.10576592, -0.10755254, -0.18045808, ...,  0.21051322,\n",
       "         -0.12862757, -0.11698653]], dtype=float32),\n",
       " array([ 0.165626  , -0.07255752, -0.14089468,  0.31965455,  0.259782  ,\n",
       "         0.14384155,  0.2558962 ,  0.20139934, -0.08877883, -0.11943161,\n",
       "         0.15002222, -0.06459435, -0.02313343,  0.03486959, -0.07441495,\n",
       "         0.3759758 ,  0.22172584, -0.05152642,  0.19578677,  0.19180481,\n",
       "         0.03695887,  0.08580389, -0.14523049,  0.14265488,  0.06839678,\n",
       "         0.26390025, -0.09854303, -0.08530159], dtype=float32)]"
      ]
     },
     "execution_count": 22,
     "metadata": {},
     "output_type": "execute_result"
    }
   ],
   "source": [
    "model.layers[2].get_weights()"
   ]
  },
  {
   "cell_type": "code",
   "execution_count": null,
   "metadata": {
    "colab": {
     "base_uri": "https://localhost:8080/"
    },
    "id": "8UEKxquahGx6",
    "outputId": "ccd8381f-0de6-458b-fd94-2208e224ca90"
   },
   "outputs": [
    {
     "data": {
      "text/plain": [
       "[array([[-0.00540685, -0.8472686 ,  0.35039285,  0.42320427, -0.80621463,\n",
       "         -0.4066212 , -0.44581744,  0.20392522,  0.33593687,  0.3217241 ],\n",
       "        [-0.7273439 ,  0.55181557,  0.1614185 , -0.59545   , -0.20728502,\n",
       "          0.2722921 ,  0.26555464,  0.29458794,  0.11814671,  0.30975184],\n",
       "        [-0.05988001, -0.1096559 , -0.02026462, -0.28203118, -0.46385732,\n",
       "         -0.86723137,  0.37350327,  0.44231606, -0.721952  ,  0.2830777 ],\n",
       "        [-0.12676187, -0.20610516, -0.15893523, -0.4861783 ,  0.25088054,\n",
       "         -0.4672026 ,  0.09926646, -0.7131846 , -0.11602031, -0.47737253],\n",
       "        [ 0.44819134,  0.22142564, -0.73334885, -0.4890066 ,  0.5267535 ,\n",
       "         -0.38063052,  0.25247693, -0.14807615,  0.11696545,  0.3921043 ],\n",
       "        [-0.17680885, -0.32384428, -0.5136823 ,  0.19523144, -0.07949904,\n",
       "         -0.5779918 ,  0.6154002 , -0.50469786,  0.13786897, -0.55140555],\n",
       "        [-0.0569219 , -0.8907045 , -0.2429215 , -0.19277236,  0.15145743,\n",
       "          0.33746275, -0.4438655 ,  0.15338303,  0.18346238,  0.4984886 ],\n",
       "        [ 0.2589199 , -0.6425035 , -0.5073241 , -0.16414201, -0.23104046,\n",
       "          0.41639334,  0.5127651 ,  0.12227451,  0.28052965, -0.5675091 ],\n",
       "        [ 0.64727306,  0.25699776,  0.4384727 , -0.14651442,  0.06412423,\n",
       "         -0.26491854,  0.07550444, -0.24020301, -0.5228779 , -0.29463926],\n",
       "        [-0.20308171,  0.08822957, -0.3816592 , -0.41611508, -0.5374317 ,\n",
       "          0.1484966 , -0.6811886 ,  0.820307  , -0.03297651, -0.04674624],\n",
       "        [-0.29638413, -0.986479  ,  0.07035914, -0.2759094 ,  0.42854226,\n",
       "          0.04285339, -0.54995257, -0.85644287, -0.14052811,  0.18613005],\n",
       "        [-0.42361978, -0.13436642,  0.08802248, -0.5570328 ,  0.2518128 ,\n",
       "         -0.71774584, -0.26578084,  0.04695255, -1.1468709 , -0.08983661],\n",
       "        [ 0.13625675, -0.10143522,  0.2564785 ,  0.11839679,  0.10233365,\n",
       "         -0.08839278,  0.35493517, -0.04489912,  0.21697584, -0.2809269 ],\n",
       "        [ 0.09927852,  0.10579141, -0.81183267,  0.33513066, -0.06420171,\n",
       "          0.2534257 , -0.4302575 , -0.05584994, -0.1009338 ,  0.3878751 ],\n",
       "        [ 0.05451483, -1.2198957 ,  0.30379266, -0.34373108, -0.13633507,\n",
       "         -0.91203976, -0.40358293,  0.4540205 , -0.35540164,  0.15511003],\n",
       "        [-0.14062706, -0.69010866,  0.19818538,  0.2764653 ,  0.08669779,\n",
       "         -0.5576571 ,  0.13044824,  0.12708648,  0.69062734, -0.5847907 ],\n",
       "        [-0.5741364 ,  0.04837084, -0.75215435, -0.7542494 ,  0.3684013 ,\n",
       "          0.3726519 ,  0.30209443, -0.4431355 ,  0.23496747,  0.42153412],\n",
       "        [ 0.0516583 ,  0.5756981 , -0.11548055,  0.131939  , -0.51788026,\n",
       "         -0.07683387, -0.57369345,  0.41857734,  0.28815454, -0.20264538],\n",
       "        [ 0.5770065 ,  0.13274413,  0.481666  , -0.25148728, -0.72376037,\n",
       "          0.33178288,  0.17202502, -0.29395118,  0.3823421 , -0.21895196],\n",
       "        [ 0.42664206, -0.80606586, -0.06165096,  0.35561353, -0.81560206,\n",
       "          0.31361076, -0.20591497, -0.8868852 ,  0.17578483, -0.01132707],\n",
       "        [-0.39923096, -0.29739407,  0.19048443,  0.3495247 , -0.05519313,\n",
       "          0.34167403,  0.05960554, -0.70431364,  0.08565701,  0.3374527 ],\n",
       "        [-0.6070292 , -0.03122162,  0.54558456, -0.44538242, -0.22490102,\n",
       "         -0.04660842,  0.32218346, -0.0019045 , -0.05322536, -0.8575499 ],\n",
       "        [-0.6271296 ,  0.28273448,  0.29035133, -0.08289592, -0.81625134,\n",
       "          0.5184246 ,  0.04416963,  0.28239438, -0.25906485, -0.8901841 ],\n",
       "        [-0.6545887 ,  0.1834386 ,  0.22445779,  0.4863128 ,  0.66608834,\n",
       "          0.30045483, -0.73634183,  0.350369  ,  0.16616803, -0.3017632 ],\n",
       "        [-0.12037723,  0.34594652,  0.3843753 ,  0.36949605, -0.12151305,\n",
       "         -0.20806038, -0.7796373 , -0.01351672,  0.25932565,  0.44121447],\n",
       "        [-0.5063648 ,  0.53233486,  0.03154019,  0.26111227,  0.1706623 ,\n",
       "         -0.56496406,  0.08153663, -0.35663995,  0.41465303, -0.2849417 ],\n",
       "        [-0.055333  , -0.08932674, -0.35129258,  0.18355557, -0.8820841 ,\n",
       "          0.58481514,  0.26693   , -0.63741755, -0.6326201 , -0.05650099],\n",
       "        [ 0.07463607, -0.22259681,  0.24455906,  0.39697078, -0.7855379 ,\n",
       "         -0.06544753,  0.41020298,  0.02397301, -0.14032985, -0.8042254 ]],\n",
       "       dtype=float32),\n",
       " array([-0.00073632, -0.04937674, -0.13075659, -0.01995617,  0.22335455,\n",
       "        -0.05030972, -0.12796792, -0.24880801,  0.27569625, -0.01727104],\n",
       "       dtype=float32)]"
      ]
     },
     "execution_count": 23,
     "metadata": {},
     "output_type": "execute_result"
    }
   ],
   "source": [
    "model.layers[3].get_weights()"
   ]
  },
  {
   "cell_type": "code",
   "execution_count": null,
   "metadata": {
    "colab": {
     "base_uri": "https://localhost:8080/"
    },
    "id": "jHvtPL7PhLCf",
    "outputId": "c4e2d733-fee1-4fe1-e0f1-2f0a3f00f971"
   },
   "outputs": [
    {
     "name": "stdout",
     "output_type": "stream",
     "text": [
      "313/313 [==============================] - 1s 2ms/step\n"
     ]
    }
   ],
   "source": [
    "y_prob = model.predict(X_test) \n",
    "y_pred = y_prob.argmax(axis=1) # we have to find maximum probabilty for each image"
   ]
  },
  {
   "cell_type": "code",
   "execution_count": null,
   "metadata": {
    "colab": {
     "base_uri": "https://localhost:8080/"
    },
    "id": "7s0P0rDyinFe",
    "outputId": "49efb740-3595-4c80-9406-4165561ad23b"
   },
   "outputs": [
    {
     "data": {
      "text/plain": [
       "array([7, 2, 1, ..., 4, 5, 6])"
      ]
     },
     "execution_count": 28,
     "metadata": {},
     "output_type": "execute_result"
    }
   ],
   "source": [
    "y_pred"
   ]
  },
  {
   "cell_type": "code",
   "execution_count": null,
   "metadata": {
    "colab": {
     "base_uri": "https://localhost:8080/"
    },
    "id": "36ZR0E8jiokh",
    "outputId": "008c2fb4-5081-4021-926c-a6f7b27570a8"
   },
   "outputs": [
    {
     "data": {
      "text/plain": [
       "0.9763"
      ]
     },
     "execution_count": 29,
     "metadata": {},
     "output_type": "execute_result"
    }
   ],
   "source": [
    "from sklearn.metrics import accuracy_score\n",
    "accuracy_score(y_test,y_pred)"
   ]
  },
  {
   "cell_type": "code",
   "execution_count": null,
   "metadata": {
    "colab": {
     "base_uri": "https://localhost:8080/",
     "height": 283
    },
    "id": "YDHOpfC8iuZZ",
    "outputId": "3cb03eed-45d6-4a60-f01a-2298a5bc4578"
   },
   "outputs": [
    {
     "data": {
      "text/plain": [
       "[<matplotlib.lines.Line2D at 0x7fa2a6034400>]"
      ]
     },
     "execution_count": 30,
     "metadata": {},
     "output_type": "execute_result"
    },
    {
     "data": {
      "image/png": "[encoded data removed]",
      "text/plain": [
       "<Figure size 432x288 with 1 Axes>"
      ]
     },
     "metadata": {
      "needs_background": "light"
     },
     "output_type": "display_data"
    }
   ],
   "source": [
    "plt.plot(history.history['loss'])\n",
    "plt.plot(history.history['val_loss'])"
   ]
  },
  {
   "cell_type": "code",
   "execution_count": null,
   "metadata": {
    "colab": {
     "base_uri": "https://localhost:8080/",
     "height": 283
    },
    "id": "VpbsacODiyCy",
    "outputId": "696ac97f-7142-48b3-b431-ef225912484e"
   },
   "outputs": [
    {
     "data": {
      "text/plain": [
       "[<matplotlib.lines.Line2D at 0x7fa2a5f9beb0>]"
      ]
     },
     "execution_count": 33,
     "metadata": {},
     "output_type": "execute_result"
    },
    {
     "data": {
      "image/png": "[encoded data removed]",
      "text/plain": [
       "<Figure size 432x288 with 1 Axes>"
      ]
     },
     "metadata": {
      "needs_background": "light"
     },
     "output_type": "display_data"
    }
   ],
   "source": [
    "plt.plot(history.history['accuracy'])\n",
    "plt.plot(history.history['val_accuracy'])"
   ]
  },
  {
   "cell_type": "code",
   "execution_count": null,
   "metadata": {
    "colab": {
     "base_uri": "https://localhost:8080/",
     "height": 283
    },
    "id": "IYW26cNYjXDz",
    "outputId": "aba42aef-8166-45d7-a0ca-7b5a76205950"
   },
   "outputs": [
    {
     "data": {
      "text/plain": [
       "<matplotlib.image.AxesImage at 0x7fa2a5ea8550>"
      ]
     },
     "execution_count": 34,
     "metadata": {},
     "output_type": "execute_result"
    },
    {
     "data": {
      "image/png": "[encoded data removed]",
      "text/plain": [
       "<Figure size 432x288 with 1 Axes>"
      ]
     },
     "metadata": {
      "needs_background": "light"
     },
     "output_type": "display_data"
    }
   ],
   "source": [
    "# Checking Prediction\n",
    "\n",
    "plt.imshow(X_test[0])"
   ]
  },
  {
   "cell_type": "code",
   "execution_count": null,
   "metadata": {
    "colab": {
     "base_uri": "https://localhost:8080/"
    },
    "id": "8GWRC5fbjknU",
    "outputId": "fa9e2b40-db3d-497c-81f0-88f300362f81"
   },
   "outputs": [
    {
     "name": "stdout",
     "output_type": "stream",
     "text": [
      "1/1 [==============================] - 0s 19ms/step\n"
     ]
    },
    {
     "data": {
      "text/plain": [
       "array([7])"
      ]
     },
     "execution_count": 38,
     "metadata": {},
     "output_type": "execute_result"
    }
   ],
   "source": [
    "model.predict(X_test[0].reshape(1,28,28)).argmax(axis=1)"
   ]
  },
  {
   "cell_type": "code",
   "execution_count": null,
   "metadata": {
    "colab": {
     "base_uri": "https://localhost:8080/"
    },
    "id": "pdct_S35jiGZ",
    "outputId": "6aef4315-ec1a-4a4d-e8f3-b8fa16b10333"
   },
   "outputs": [
    {
     "data": {
      "text/plain": [
       "7"
      ]
     },
     "execution_count": 39,
     "metadata": {},
     "output_type": "execute_result"
    }
   ],
   "source": [
    "y_test[0]"
   ]
  },
  {
   "cell_type": "code",
   "execution_count": null,
   "metadata": {
    "id": "wDCqrw2HjvRw"
   },
   "outputs": [],
   "source": []
  },
  {
   "cell_type": "code",
   "execution_count": null,
   "metadata": {
    "id": "UtwF-QjpiR6b"
   },
   "outputs": [],
   "source": []
  }
 ],
 "metadata": {
  "colab": {
   "provenance": []
  },
  "kernelspec": {
   "display_name": "Python 3 (ipykernel)",
   "language": "python",
   "name": "python3"
  },
  "language_info": {
   "codemirror_mode": {
    "name": "ipython",
    "version": 3
   },
   "file_extension": ".py",
   "mimetype": "text/x-python",
   "name": "python",
   "nbconvert_exporter": "python",
   "pygments_lexer": "ipython3",
   "version": "3.9.12"
  }
 },
 "nbformat": 4,
 "nbformat_minor": 1
}
