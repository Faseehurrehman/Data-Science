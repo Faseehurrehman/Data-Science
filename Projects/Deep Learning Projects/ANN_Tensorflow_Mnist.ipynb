{
  "nbformat": 4,
  "nbformat_minor": 0,
  "metadata": {
    "colab": {
      "provenance": []
    },
    "kernelspec": {
      "name": "python3",
      "display_name": "Python 3"
    },
    "language_info": {
      "name": "python"
    }
  },
  "cells": [
    {
      "cell_type": "code",
      "source": [
        "import tensorflow as tf\n",
        "from tensorflow.keras.datasets import fashion_mnist"
      ],
      "metadata": {
        "id": "vbnQsQ2WHsRg"
      },
      "execution_count": null,
      "outputs": []
    },
    {
      "cell_type": "code",
      "source": [
        "(X_train, y_train), (X_test, y_test) = fashion_mnist.load_data()"
      ],
      "metadata": {
        "id": "1ezaXFGIHs0g"
      },
      "execution_count": null,
      "outputs": []
    },
    {
      "cell_type": "code",
      "source": [
        "X_train.shape"
      ],
      "metadata": {
        "colab": {
          "base_uri": "https://localhost:8080/"
        },
        "id": "JDxTSPitcrlr",
        "outputId": "03b1d01f-363c-445e-891c-62eee9cab9ad"
      },
      "execution_count": null,
      "outputs": [
        {
          "output_type": "execute_result",
          "data": {
            "text/plain": [
              "(60000, 28, 28)"
            ]
          },
          "metadata": {},
          "execution_count": 25
        }
      ]
    },
    {
      "cell_type": "code",
      "source": [
        "y_train.shape"
      ],
      "metadata": {
        "colab": {
          "base_uri": "https://localhost:8080/"
        },
        "id": "7XTFDLpyc2B6",
        "outputId": "c6aa082f-c784-4814-b546-fe5b5e678342"
      },
      "execution_count": null,
      "outputs": [
        {
          "output_type": "execute_result",
          "data": {
            "text/plain": [
              "(60000,)"
            ]
          },
          "metadata": {},
          "execution_count": 26
        }
      ]
    },
    {
      "cell_type": "code",
      "source": [
        "X_test.shape"
      ],
      "metadata": {
        "colab": {
          "base_uri": "https://localhost:8080/"
        },
        "id": "CxA1my7AG69q",
        "outputId": "97792475-ca91-472a-b8dc-be6bbc2254d0"
      },
      "execution_count": null,
      "outputs": [
        {
          "output_type": "execute_result",
          "data": {
            "text/plain": [
              "(10000, 28, 28)"
            ]
          },
          "metadata": {},
          "execution_count": 27
        }
      ]
    },
    {
      "cell_type": "code",
      "source": [
        "y_test.shape"
      ],
      "metadata": {
        "colab": {
          "base_uri": "https://localhost:8080/"
        },
        "id": "xJ8NXQZZHADr",
        "outputId": "31563438-356c-4f92-f105-9f5cee9289f8"
      },
      "execution_count": null,
      "outputs": [
        {
          "output_type": "execute_result",
          "data": {
            "text/plain": [
              "(10000,)"
            ]
          },
          "metadata": {},
          "execution_count": 28
        }
      ]
    },
    {
      "cell_type": "code",
      "source": [
        "type(X_train[0])"
      ],
      "metadata": {
        "colab": {
          "base_uri": "https://localhost:8080/"
        },
        "id": "AuYtI8H-GDIz",
        "outputId": "0323d573-cb00-4560-d8bb-2270f4069b7c"
      },
      "execution_count": null,
      "outputs": [
        {
          "output_type": "execute_result",
          "data": {
            "text/plain": [
              "numpy.ndarray"
            ]
          },
          "metadata": {},
          "execution_count": 29
        }
      ]
    },
    {
      "cell_type": "code",
      "source": [
        "X_train[0].shape"
      ],
      "metadata": {
        "colab": {
          "base_uri": "https://localhost:8080/"
        },
        "id": "827awfUjGDE0",
        "outputId": "b9f9f8ba-27ab-436b-9e2f-622930d6fab2"
      },
      "execution_count": null,
      "outputs": [
        {
          "output_type": "execute_result",
          "data": {
            "text/plain": [
              "(28, 28)"
            ]
          },
          "metadata": {},
          "execution_count": 30
        }
      ]
    },
    {
      "cell_type": "code",
      "source": [],
      "metadata": {
        "id": "RFnwRrXQGC8z"
      },
      "execution_count": null,
      "outputs": []
    },
    {
      "cell_type": "code",
      "source": [
        "import matplotlib.pyplot as plt\n",
        "plt.imshow(X_train[100])"
      ],
      "metadata": {
        "colab": {
          "base_uri": "https://localhost:8080/",
          "height": 282
        },
        "id": "g9xUBzDDc16K",
        "outputId": "f3b467a4-b461-43c4-e67c-cf41286c1b4e"
      },
      "execution_count": null,
      "outputs": [
        {
          "output_type": "execute_result",
          "data": {
            "text/plain": [
              "<matplotlib.image.AxesImage at 0x7f977a52a5b0>"
            ]
          },
          "metadata": {},
          "execution_count": 31
        },
        {
          "output_type": "display_data",
          "data": {
            "text/plain": [
              "<Figure size 432x288 with 1 Axes>"
            ],
            "image/png": "[encoded data removed]"
          },
          "metadata": {
            "needs_background": "light"
          }
        }
      ]
    },
    {
      "cell_type": "code",
      "source": [
        "X_train[10]\n"
      ],
      "metadata": {
        "id": "8zXvAiEnc1u6",
        "colab": {
          "base_uri": "https://localhost:8080/"
        },
        "outputId": "860f0a33-2375-426d-8308-5bfa46d454cb"
      },
      "execution_count": null,
      "outputs": [
        {
          "output_type": "execute_result",
          "data": {
            "text/plain": [
              "array([[  0,   0,   0,   0,   0,   0,   0,  11, 142, 200, 106,   0,   0,\n",
              "          0,   0,   0,   0,   0,  85, 185, 112,   0,   0,   0,   0,   0,\n",
              "          0,   0],\n",
              "       [  0,   0,   0,   0,   0,   0, 152, 214, 217, 194, 236, 216, 187,\n",
              "        149, 135, 153, 211, 217, 231, 205, 217, 188,  34,   0,   0,   0,\n",
              "          0,   0],\n",
              "       [  0,   0,   0,   0,   0,  66, 185, 166, 180, 181, 190, 211, 221,\n",
              "        197, 146, 198, 206, 191, 168, 190, 172, 188, 175,   0,   0,   0,\n",
              "          0,   0],\n",
              "       [  0,   0,   0,   0,   0, 135, 153, 160, 175, 180, 170, 186, 187,\n",
              "        190, 188, 190, 187, 174, 195, 185, 174, 161, 175,  59,   0,   0,\n",
              "          0,   0],\n",
              "       [  0,   0,   0,   0,   0, 161, 147, 160, 170, 178, 177, 180, 168,\n",
              "        173, 174, 171, 185, 184, 185, 172, 171, 164, 174, 120,   0,   0,\n",
              "          0,   0],\n",
              "       [  0,   0,   0,   0,   2, 175, 146, 145, 168, 178, 181, 185, 180,\n",
              "        184, 178, 179, 187, 191, 193, 190, 181, 171, 172, 158,   0,   0,\n",
              "          0,   0],\n",
              "       [  0,   0,   0,   0,  35, 177, 155, 140, 151, 172, 191, 187, 186,\n",
              "        187, 186, 187, 182, 191, 194, 188, 180, 161, 161, 185,   0,   0,\n",
              "          0,   0],\n",
              "       [  0,   0,   0,   0,  59, 170, 153, 141, 120, 154, 160, 161, 172,\n",
              "        168, 166, 161, 165, 172, 170, 164, 139, 149, 162, 166,  21,   0,\n",
              "          0,   0],\n",
              "       [  0,   0,   0,   0,  79, 145, 160, 214, 123, 128, 153, 160, 164,\n",
              "        158, 157, 154, 155, 170, 165, 141, 195, 193, 152, 166,  61,   0,\n",
              "          0,   0],\n",
              "       [  0,   0,   0,   0, 100, 157, 225, 245, 175, 113, 174, 158, 158,\n",
              "        160, 155, 160, 164, 178, 188, 135, 185, 240, 201, 172, 108,   0,\n",
              "          0,   0],\n",
              "       [  0,   0,   0,   0,   0,  31, 174,  28, 126, 153, 166, 152, 158,\n",
              "        158, 160, 161, 157, 168, 191, 188,  18, 132, 159,   7,   0,   0,\n",
              "          0,   0],\n",
              "       [  0,   0,   0,   0,   0,   0,   0,   0,  82, 187, 159, 153, 157,\n",
              "        158, 162, 164, 164, 154, 187, 190,   0,   0,   0,   0,   0,   0,\n",
              "          0,   0],\n",
              "       [  0,   0,   0,   0,   1,   3,   5,   0,  37, 175, 158, 155, 162,\n",
              "        158, 160, 162, 165, 153, 177, 205,   0,   0,   3,   3,   0,   0,\n",
              "          0,   0],\n",
              "       [  0,   0,   0,   0,   0,   0,   1,   0,  25, 175, 152, 160, 158,\n",
              "        161, 160, 164, 164, 161, 166, 200,   0,   0,   1,   0,   0,   0,\n",
              "          0,   0],\n",
              "       [  0,   0,   0,   0,   0,   0,   4,   0,  30, 171, 147, 164, 155,\n",
              "        165, 161, 165, 162, 170, 164, 162,   0,   0,   2,   0,   0,   0,\n",
              "          0,   0],\n",
              "       [  0,   0,   0,   0,   0,   0,   4,   0,  57, 166, 155, 164, 166,\n",
              "        161, 161, 164, 167, 165, 165, 162,  28,   0,   3,   0,   0,   0,\n",
              "          0,   0],\n",
              "       [  0,   0,   0,   0,   0,   0,   3,   0, 114, 161, 161, 166, 159,\n",
              "        168, 161, 161, 172, 162, 165, 171,  50,   0,   5,   0,   0,   0,\n",
              "          0,   0],\n",
              "       [  0,   0,   0,   0,   0,   0,   1,   0, 149, 157, 167, 172, 159,\n",
              "        172, 164, 161, 172, 170, 160, 171,  89,   0,   4,   0,   0,   0,\n",
              "          0,   0],\n",
              "       [  0,   0,   0,   0,   0,   2,   0,   4, 171, 164, 166, 173, 159,\n",
              "        179, 166, 160, 174, 167, 162, 166, 128,   0,   2,   0,   0,   0,\n",
              "          0,   0],\n",
              "       [  0,   0,   0,   0,   0,   3,   0,  18, 152, 173, 160, 179, 154,\n",
              "        181, 166, 164, 175, 170, 166, 170, 164,   0,   0,   1,   0,   0,\n",
              "          0,   0],\n",
              "       [  0,   0,   0,   0,   0,   4,   0,  47, 165, 172, 167, 185, 153,\n",
              "        187, 173, 165, 174, 179, 166, 166, 158,   5,   0,   3,   0,   0,\n",
              "          0,   0],\n",
              "       [  0,   0,   0,   0,   0,   4,   0,  87, 180, 162, 179, 179, 157,\n",
              "        191, 182, 165, 168, 190, 173, 165, 166,  20,   0,   4,   0,   0,\n",
              "          0,   0],\n",
              "       [  0,   0,   0,   0,   0,   4,   0, 105, 187, 157, 194, 175, 161,\n",
              "        190, 184, 170, 158, 205, 177, 168, 171,  44,   0,   4,   0,   0,\n",
              "          0,   0],\n",
              "       [  0,   0,   0,   0,   0,   5,   0, 138, 181, 158, 205, 160, 167,\n",
              "        190, 198, 167, 152, 218, 186, 170, 172,  57,   0,   5,   0,   0,\n",
              "          0,   0],\n",
              "       [  0,   0,   0,   0,   0,   5,   0, 135, 174, 167, 199, 155, 166,\n",
              "        201, 219, 165, 158, 218, 188, 167, 175,  56,   0,   7,   0,   0,\n",
              "          0,   0],\n",
              "       [  0,   0,   0,   0,   0,   5,   0, 129, 171, 172, 177, 153, 159,\n",
              "        206, 216, 148, 157, 206, 190, 165, 175,  48,   0,   5,   0,   0,\n",
              "          0,   0],\n",
              "       [  0,   0,   0,   0,   0,   5,   0, 167, 187, 182, 198, 194, 200,\n",
              "        226, 240, 184, 206, 255, 197, 178, 179,  42,   0,   5,   0,   0,\n",
              "          0,   0],\n",
              "       [  0,   0,   0,   0,   0,   3,   0, 115, 135, 113, 106,  85,  82,\n",
              "        108, 133,  83,  90, 121, 120, 110, 158,  18,   0,   3,   0,   0,\n",
              "          0,   0]], dtype=uint8)"
            ]
          },
          "metadata": {},
          "execution_count": 32
        }
      ]
    },
    {
      "cell_type": "code",
      "source": [
        "y_train[100]"
      ],
      "metadata": {
        "colab": {
          "base_uri": "https://localhost:8080/"
        },
        "id": "DobGT-6OHREb",
        "outputId": "574f0b88-d187-4a1e-a197-13d5a6d78f02"
      },
      "execution_count": null,
      "outputs": [
        {
          "output_type": "execute_result",
          "data": {
            "text/plain": [
              "8"
            ]
          },
          "metadata": {},
          "execution_count": 33
        }
      ]
    },
    {
      "cell_type": "code",
      "source": [
        " plt.imshow(X_train[1])"
      ],
      "metadata": {
        "colab": {
          "base_uri": "https://localhost:8080/",
          "height": 282
        },
        "id": "L8q463RudzJm",
        "outputId": "e4731f83-a814-4336-a939-e21860965217"
      },
      "execution_count": null,
      "outputs": [
        {
          "output_type": "execute_result",
          "data": {
            "text/plain": [
              "<matplotlib.image.AxesImage at 0x7f977a4f4640>"
            ]
          },
          "metadata": {},
          "execution_count": 34
        },
        {
          "output_type": "display_data",
          "data": {
            "text/plain": [
              "<Figure size 432x288 with 1 Axes>"
            ],
            "image/png": "[encoded data removed]"
          },
          "metadata": {
            "needs_background": "light"
          }
        }
      ]
    },
    {
      "cell_type": "code",
      "source": [
        "y_train[1]"
      ],
      "metadata": {
        "colab": {
          "base_uri": "https://localhost:8080/"
        },
        "id": "rZg0sOUcHhZi",
        "outputId": "3ac9640f-f0ee-4c86-ce8d-fecd0babe3d1"
      },
      "execution_count": null,
      "outputs": [
        {
          "output_type": "execute_result",
          "data": {
            "text/plain": [
              "0"
            ]
          },
          "metadata": {},
          "execution_count": 35
        }
      ]
    },
    {
      "cell_type": "code",
      "source": [
        "X_train.shape"
      ],
      "metadata": {
        "colab": {
          "base_uri": "https://localhost:8080/"
        },
        "id": "BiKziIKmeEnH",
        "outputId": "74cf4463-4d3d-4736-905e-de2c4e74530e"
      },
      "execution_count": null,
      "outputs": [
        {
          "output_type": "execute_result",
          "data": {
            "text/plain": [
              "(60000, 28, 28)"
            ]
          },
          "metadata": {},
          "execution_count": 36
        }
      ]
    },
    {
      "cell_type": "code",
      "source": [
        "y_train.shape"
      ],
      "metadata": {
        "colab": {
          "base_uri": "https://localhost:8080/"
        },
        "id": "RnqU-Qx0eQ7Q",
        "outputId": "70ebc88a-2e32-4ebf-dd55-5f75156dd909"
      },
      "execution_count": null,
      "outputs": [
        {
          "output_type": "execute_result",
          "data": {
            "text/plain": [
              "(60000,)"
            ]
          },
          "metadata": {},
          "execution_count": 37
        }
      ]
    },
    {
      "cell_type": "code",
      "source": [
        "X_test.shape"
      ],
      "metadata": {
        "colab": {
          "base_uri": "https://localhost:8080/"
        },
        "id": "msdTQiggeKyp",
        "outputId": "7b3a0c56-a631-4394-f4b4-f256366c3036"
      },
      "execution_count": null,
      "outputs": [
        {
          "output_type": "execute_result",
          "data": {
            "text/plain": [
              "(10000, 28, 28)"
            ]
          },
          "metadata": {},
          "execution_count": 38
        }
      ]
    },
    {
      "cell_type": "markdown",
      "source": [
        "**Data Preprocess**"
      ],
      "metadata": {
        "id": "bLiinZJpeg5q"
      }
    },
    {
      "cell_type": "code",
      "source": [
        "#convert image to grayscale\n",
        "X_train = X_train/255.0\n",
        "X_test = X_test/255.0"
      ],
      "metadata": {
        "id": "9-CY9jlxHw_Y"
      },
      "execution_count": null,
      "outputs": []
    },
    {
      "cell_type": "code",
      "source": [
        "X_train[10]"
      ],
      "metadata": {
        "colab": {
          "base_uri": "https://localhost:8080/"
        },
        "id": "UYTrbJghIFjL",
        "outputId": "eacef3f7-cdf9-4c30-87ee-c2af470f5c47"
      },
      "execution_count": null,
      "outputs": [
        {
          "output_type": "execute_result",
          "data": {
            "text/plain": [
              "array([[0.        , 0.        , 0.        , 0.        , 0.        ,\n",
              "        0.        , 0.        , 0.04313725, 0.55686275, 0.78431373,\n",
              "        0.41568627, 0.        , 0.        , 0.        , 0.        ,\n",
              "        0.        , 0.        , 0.        , 0.33333333, 0.7254902 ,\n",
              "        0.43921569, 0.        , 0.        , 0.        , 0.        ,\n",
              "        0.        , 0.        , 0.        ],\n",
              "       [0.        , 0.        , 0.        , 0.        , 0.        ,\n",
              "        0.        , 0.59607843, 0.83921569, 0.85098039, 0.76078431,\n",
              "        0.9254902 , 0.84705882, 0.73333333, 0.58431373, 0.52941176,\n",
              "        0.6       , 0.82745098, 0.85098039, 0.90588235, 0.80392157,\n",
              "        0.85098039, 0.7372549 , 0.13333333, 0.        , 0.        ,\n",
              "        0.        , 0.        , 0.        ],\n",
              "       [0.        , 0.        , 0.        , 0.        , 0.        ,\n",
              "        0.25882353, 0.7254902 , 0.65098039, 0.70588235, 0.70980392,\n",
              "        0.74509804, 0.82745098, 0.86666667, 0.77254902, 0.57254902,\n",
              "        0.77647059, 0.80784314, 0.74901961, 0.65882353, 0.74509804,\n",
              "        0.6745098 , 0.7372549 , 0.68627451, 0.        , 0.        ,\n",
              "        0.        , 0.        , 0.        ],\n",
              "       [0.        , 0.        , 0.        , 0.        , 0.        ,\n",
              "        0.52941176, 0.6       , 0.62745098, 0.68627451, 0.70588235,\n",
              "        0.66666667, 0.72941176, 0.73333333, 0.74509804, 0.7372549 ,\n",
              "        0.74509804, 0.73333333, 0.68235294, 0.76470588, 0.7254902 ,\n",
              "        0.68235294, 0.63137255, 0.68627451, 0.23137255, 0.        ,\n",
              "        0.        , 0.        , 0.        ],\n",
              "       [0.        , 0.        , 0.        , 0.        , 0.        ,\n",
              "        0.63137255, 0.57647059, 0.62745098, 0.66666667, 0.69803922,\n",
              "        0.69411765, 0.70588235, 0.65882353, 0.67843137, 0.68235294,\n",
              "        0.67058824, 0.7254902 , 0.72156863, 0.7254902 , 0.6745098 ,\n",
              "        0.67058824, 0.64313725, 0.68235294, 0.47058824, 0.        ,\n",
              "        0.        , 0.        , 0.        ],\n",
              "       [0.        , 0.        , 0.        , 0.        , 0.00784314,\n",
              "        0.68627451, 0.57254902, 0.56862745, 0.65882353, 0.69803922,\n",
              "        0.70980392, 0.7254902 , 0.70588235, 0.72156863, 0.69803922,\n",
              "        0.70196078, 0.73333333, 0.74901961, 0.75686275, 0.74509804,\n",
              "        0.70980392, 0.67058824, 0.6745098 , 0.61960784, 0.        ,\n",
              "        0.        , 0.        , 0.        ],\n",
              "       [0.        , 0.        , 0.        , 0.        , 0.1372549 ,\n",
              "        0.69411765, 0.60784314, 0.54901961, 0.59215686, 0.6745098 ,\n",
              "        0.74901961, 0.73333333, 0.72941176, 0.73333333, 0.72941176,\n",
              "        0.73333333, 0.71372549, 0.74901961, 0.76078431, 0.7372549 ,\n",
              "        0.70588235, 0.63137255, 0.63137255, 0.7254902 , 0.        ,\n",
              "        0.        , 0.        , 0.        ],\n",
              "       [0.        , 0.        , 0.        , 0.        , 0.23137255,\n",
              "        0.66666667, 0.6       , 0.55294118, 0.47058824, 0.60392157,\n",
              "        0.62745098, 0.63137255, 0.6745098 , 0.65882353, 0.65098039,\n",
              "        0.63137255, 0.64705882, 0.6745098 , 0.66666667, 0.64313725,\n",
              "        0.54509804, 0.58431373, 0.63529412, 0.65098039, 0.08235294,\n",
              "        0.        , 0.        , 0.        ],\n",
              "       [0.        , 0.        , 0.        , 0.        , 0.30980392,\n",
              "        0.56862745, 0.62745098, 0.83921569, 0.48235294, 0.50196078,\n",
              "        0.6       , 0.62745098, 0.64313725, 0.61960784, 0.61568627,\n",
              "        0.60392157, 0.60784314, 0.66666667, 0.64705882, 0.55294118,\n",
              "        0.76470588, 0.75686275, 0.59607843, 0.65098039, 0.23921569,\n",
              "        0.        , 0.        , 0.        ],\n",
              "       [0.        , 0.        , 0.        , 0.        , 0.39215686,\n",
              "        0.61568627, 0.88235294, 0.96078431, 0.68627451, 0.44313725,\n",
              "        0.68235294, 0.61960784, 0.61960784, 0.62745098, 0.60784314,\n",
              "        0.62745098, 0.64313725, 0.69803922, 0.7372549 , 0.52941176,\n",
              "        0.7254902 , 0.94117647, 0.78823529, 0.6745098 , 0.42352941,\n",
              "        0.        , 0.        , 0.        ],\n",
              "       [0.        , 0.        , 0.        , 0.        , 0.        ,\n",
              "        0.12156863, 0.68235294, 0.10980392, 0.49411765, 0.6       ,\n",
              "        0.65098039, 0.59607843, 0.61960784, 0.61960784, 0.62745098,\n",
              "        0.63137255, 0.61568627, 0.65882353, 0.74901961, 0.7372549 ,\n",
              "        0.07058824, 0.51764706, 0.62352941, 0.02745098, 0.        ,\n",
              "        0.        , 0.        , 0.        ],\n",
              "       [0.        , 0.        , 0.        , 0.        , 0.        ,\n",
              "        0.        , 0.        , 0.        , 0.32156863, 0.73333333,\n",
              "        0.62352941, 0.6       , 0.61568627, 0.61960784, 0.63529412,\n",
              "        0.64313725, 0.64313725, 0.60392157, 0.73333333, 0.74509804,\n",
              "        0.        , 0.        , 0.        , 0.        , 0.        ,\n",
              "        0.        , 0.        , 0.        ],\n",
              "       [0.        , 0.        , 0.        , 0.        , 0.00392157,\n",
              "        0.01176471, 0.01960784, 0.        , 0.14509804, 0.68627451,\n",
              "        0.61960784, 0.60784314, 0.63529412, 0.61960784, 0.62745098,\n",
              "        0.63529412, 0.64705882, 0.6       , 0.69411765, 0.80392157,\n",
              "        0.        , 0.        , 0.01176471, 0.01176471, 0.        ,\n",
              "        0.        , 0.        , 0.        ],\n",
              "       [0.        , 0.        , 0.        , 0.        , 0.        ,\n",
              "        0.        , 0.00392157, 0.        , 0.09803922, 0.68627451,\n",
              "        0.59607843, 0.62745098, 0.61960784, 0.63137255, 0.62745098,\n",
              "        0.64313725, 0.64313725, 0.63137255, 0.65098039, 0.78431373,\n",
              "        0.        , 0.        , 0.00392157, 0.        , 0.        ,\n",
              "        0.        , 0.        , 0.        ],\n",
              "       [0.        , 0.        , 0.        , 0.        , 0.        ,\n",
              "        0.        , 0.01568627, 0.        , 0.11764706, 0.67058824,\n",
              "        0.57647059, 0.64313725, 0.60784314, 0.64705882, 0.63137255,\n",
              "        0.64705882, 0.63529412, 0.66666667, 0.64313725, 0.63529412,\n",
              "        0.        , 0.        , 0.00784314, 0.        , 0.        ,\n",
              "        0.        , 0.        , 0.        ],\n",
              "       [0.        , 0.        , 0.        , 0.        , 0.        ,\n",
              "        0.        , 0.01568627, 0.        , 0.22352941, 0.65098039,\n",
              "        0.60784314, 0.64313725, 0.65098039, 0.63137255, 0.63137255,\n",
              "        0.64313725, 0.65490196, 0.64705882, 0.64705882, 0.63529412,\n",
              "        0.10980392, 0.        , 0.01176471, 0.        , 0.        ,\n",
              "        0.        , 0.        , 0.        ],\n",
              "       [0.        , 0.        , 0.        , 0.        , 0.        ,\n",
              "        0.        , 0.01176471, 0.        , 0.44705882, 0.63137255,\n",
              "        0.63137255, 0.65098039, 0.62352941, 0.65882353, 0.63137255,\n",
              "        0.63137255, 0.6745098 , 0.63529412, 0.64705882, 0.67058824,\n",
              "        0.19607843, 0.        , 0.01960784, 0.        , 0.        ,\n",
              "        0.        , 0.        , 0.        ],\n",
              "       [0.        , 0.        , 0.        , 0.        , 0.        ,\n",
              "        0.        , 0.00392157, 0.        , 0.58431373, 0.61568627,\n",
              "        0.65490196, 0.6745098 , 0.62352941, 0.6745098 , 0.64313725,\n",
              "        0.63137255, 0.6745098 , 0.66666667, 0.62745098, 0.67058824,\n",
              "        0.34901961, 0.        , 0.01568627, 0.        , 0.        ,\n",
              "        0.        , 0.        , 0.        ],\n",
              "       [0.        , 0.        , 0.        , 0.        , 0.        ,\n",
              "        0.00784314, 0.        , 0.01568627, 0.67058824, 0.64313725,\n",
              "        0.65098039, 0.67843137, 0.62352941, 0.70196078, 0.65098039,\n",
              "        0.62745098, 0.68235294, 0.65490196, 0.63529412, 0.65098039,\n",
              "        0.50196078, 0.        , 0.00784314, 0.        , 0.        ,\n",
              "        0.        , 0.        , 0.        ],\n",
              "       [0.        , 0.        , 0.        , 0.        , 0.        ,\n",
              "        0.01176471, 0.        , 0.07058824, 0.59607843, 0.67843137,\n",
              "        0.62745098, 0.70196078, 0.60392157, 0.70980392, 0.65098039,\n",
              "        0.64313725, 0.68627451, 0.66666667, 0.65098039, 0.66666667,\n",
              "        0.64313725, 0.        , 0.        , 0.00392157, 0.        ,\n",
              "        0.        , 0.        , 0.        ],\n",
              "       [0.        , 0.        , 0.        , 0.        , 0.        ,\n",
              "        0.01568627, 0.        , 0.18431373, 0.64705882, 0.6745098 ,\n",
              "        0.65490196, 0.7254902 , 0.6       , 0.73333333, 0.67843137,\n",
              "        0.64705882, 0.68235294, 0.70196078, 0.65098039, 0.65098039,\n",
              "        0.61960784, 0.01960784, 0.        , 0.01176471, 0.        ,\n",
              "        0.        , 0.        , 0.        ],\n",
              "       [0.        , 0.        , 0.        , 0.        , 0.        ,\n",
              "        0.01568627, 0.        , 0.34117647, 0.70588235, 0.63529412,\n",
              "        0.70196078, 0.70196078, 0.61568627, 0.74901961, 0.71372549,\n",
              "        0.64705882, 0.65882353, 0.74509804, 0.67843137, 0.64705882,\n",
              "        0.65098039, 0.07843137, 0.        , 0.01568627, 0.        ,\n",
              "        0.        , 0.        , 0.        ],\n",
              "       [0.        , 0.        , 0.        , 0.        , 0.        ,\n",
              "        0.01568627, 0.        , 0.41176471, 0.73333333, 0.61568627,\n",
              "        0.76078431, 0.68627451, 0.63137255, 0.74509804, 0.72156863,\n",
              "        0.66666667, 0.61960784, 0.80392157, 0.69411765, 0.65882353,\n",
              "        0.67058824, 0.17254902, 0.        , 0.01568627, 0.        ,\n",
              "        0.        , 0.        , 0.        ],\n",
              "       [0.        , 0.        , 0.        , 0.        , 0.        ,\n",
              "        0.01960784, 0.        , 0.54117647, 0.70980392, 0.61960784,\n",
              "        0.80392157, 0.62745098, 0.65490196, 0.74509804, 0.77647059,\n",
              "        0.65490196, 0.59607843, 0.85490196, 0.72941176, 0.66666667,\n",
              "        0.6745098 , 0.22352941, 0.        , 0.01960784, 0.        ,\n",
              "        0.        , 0.        , 0.        ],\n",
              "       [0.        , 0.        , 0.        , 0.        , 0.        ,\n",
              "        0.01960784, 0.        , 0.52941176, 0.68235294, 0.65490196,\n",
              "        0.78039216, 0.60784314, 0.65098039, 0.78823529, 0.85882353,\n",
              "        0.64705882, 0.61960784, 0.85490196, 0.7372549 , 0.65490196,\n",
              "        0.68627451, 0.21960784, 0.        , 0.02745098, 0.        ,\n",
              "        0.        , 0.        , 0.        ],\n",
              "       [0.        , 0.        , 0.        , 0.        , 0.        ,\n",
              "        0.01960784, 0.        , 0.50588235, 0.67058824, 0.6745098 ,\n",
              "        0.69411765, 0.6       , 0.62352941, 0.80784314, 0.84705882,\n",
              "        0.58039216, 0.61568627, 0.80784314, 0.74509804, 0.64705882,\n",
              "        0.68627451, 0.18823529, 0.        , 0.01960784, 0.        ,\n",
              "        0.        , 0.        , 0.        ],\n",
              "       [0.        , 0.        , 0.        , 0.        , 0.        ,\n",
              "        0.01960784, 0.        , 0.65490196, 0.73333333, 0.71372549,\n",
              "        0.77647059, 0.76078431, 0.78431373, 0.88627451, 0.94117647,\n",
              "        0.72156863, 0.80784314, 1.        , 0.77254902, 0.69803922,\n",
              "        0.70196078, 0.16470588, 0.        , 0.01960784, 0.        ,\n",
              "        0.        , 0.        , 0.        ],\n",
              "       [0.        , 0.        , 0.        , 0.        , 0.        ,\n",
              "        0.01176471, 0.        , 0.45098039, 0.52941176, 0.44313725,\n",
              "        0.41568627, 0.33333333, 0.32156863, 0.42352941, 0.52156863,\n",
              "        0.3254902 , 0.35294118, 0.4745098 , 0.47058824, 0.43137255,\n",
              "        0.61960784, 0.07058824, 0.        , 0.01176471, 0.        ,\n",
              "        0.        , 0.        , 0.        ]])"
            ]
          },
          "metadata": {},
          "execution_count": 40
        }
      ]
    },
    {
      "cell_type": "code",
      "source": [
        "plt.imshow(X_train[1])"
      ],
      "metadata": {
        "colab": {
          "base_uri": "https://localhost:8080/",
          "height": 282
        },
        "id": "qvpPlif0gV0v",
        "outputId": "c1704f72-3175-4988-fbb2-bbc50c274e0f"
      },
      "execution_count": null,
      "outputs": [
        {
          "output_type": "execute_result",
          "data": {
            "text/plain": [
              "<matplotlib.image.AxesImage at 0x7f977a445460>"
            ]
          },
          "metadata": {},
          "execution_count": 41
        },
        {
          "output_type": "display_data",
          "data": {
            "text/plain": [
              "<Figure size 432x288 with 1 Axes>"
            ],
            "image/png": "[encoded data removed]"
          },
          "metadata": {
            "needs_background": "light"
          }
        }
      ]
    },
    {
      "cell_type": "code",
      "source": [
        "#convert each image to 28x28\n",
        "#X_train = X_train.reshape(-1, 28*28)\n",
        "#X_test = X_test.reshape(-1, 28*28)"
      ],
      "metadata": {
        "id": "ZI_N5e0WH0bh"
      },
      "execution_count": null,
      "outputs": []
    },
    {
      "cell_type": "code",
      "source": [
        "X_train.shape"
      ],
      "metadata": {
        "id": "1_ujLHJmfJQN",
        "colab": {
          "base_uri": "https://localhost:8080/"
        },
        "outputId": "314a2d0d-6bdc-4388-d24c-7e8073ccf2a5"
      },
      "execution_count": null,
      "outputs": [
        {
          "output_type": "execute_result",
          "data": {
            "text/plain": [
              "(60000, 28, 28)"
            ]
          },
          "metadata": {},
          "execution_count": 43
        }
      ]
    },
    {
      "cell_type": "code",
      "source": [
        "X_train[0].shape"
      ],
      "metadata": {
        "id": "7tvBLsL5f7oO",
        "colab": {
          "base_uri": "https://localhost:8080/"
        },
        "outputId": "c33c4691-1d66-4553-ff17-efbe350ab1d3"
      },
      "execution_count": null,
      "outputs": [
        {
          "output_type": "execute_result",
          "data": {
            "text/plain": [
              "(28, 28)"
            ]
          },
          "metadata": {},
          "execution_count": 44
        }
      ]
    },
    {
      "cell_type": "code",
      "source": [
        "model = tf.keras.models.Sequential()\n",
        "#input layer\n",
        "model.add(tf.keras.layers.Flatten(input_shape=(28, 28)))\n",
        "# first hidden layer\n",
        "model.add(tf.keras.layers.Dense(units = 128, \n",
        "                                activation = 'relu'))\n",
        "# second hidden layer\n",
        "model.add(tf.keras.layers.Dense(units = 64, \n",
        "                                activation = 'sigmoid'))\n",
        "#output layer\n",
        "model.add(tf.keras.layers.Dense(units = 10, \n",
        "                                activation = 'softmax'))"
      ],
      "metadata": {
        "id": "IZ0Wt3TtH3AA"
      },
      "execution_count": null,
      "outputs": []
    },
    {
      "cell_type": "code",
      "source": [
        "model.compile(optimizer = 'adam', loss = 'sparse_categorical_crossentropy', metrics = ['sparse_categorical_accuracy'])"
      ],
      "metadata": {
        "id": "OIBSHqqxIEyY"
      },
      "execution_count": null,
      "outputs": []
    },
    {
      "cell_type": "code",
      "source": [
        "model.fit(X_train, y_train, epochs =20)"
      ],
      "metadata": {
        "colab": {
          "base_uri": "https://localhost:8080/"
        },
        "id": "kfplsvbSIHT_",
        "outputId": "96ed78e1-2779-4e8d-bf22-a313b257772b"
      },
      "execution_count": null,
      "outputs": [
        {
          "output_type": "stream",
          "name": "stdout",
          "text": [
            "Epoch 1/20\n",
            "1875/1875 [==============================] - 6s 3ms/step - loss: 0.5236 - sparse_categorical_accuracy: 0.8178\n",
            "Epoch 2/20\n",
            "1875/1875 [==============================] - 6s 3ms/step - loss: 0.3702 - sparse_categorical_accuracy: 0.8649\n",
            "Epoch 3/20\n",
            "1875/1875 [==============================] - 6s 3ms/step - loss: 0.3330 - sparse_categorical_accuracy: 0.8776\n",
            "Epoch 4/20\n",
            "1875/1875 [==============================] - 6s 3ms/step - loss: 0.3081 - sparse_categorical_accuracy: 0.8856\n",
            "Epoch 5/20\n",
            "1875/1875 [==============================] - 6s 3ms/step - loss: 0.2919 - sparse_categorical_accuracy: 0.8918\n",
            "Epoch 6/20\n",
            "1875/1875 [==============================] - 6s 3ms/step - loss: 0.2747 - sparse_categorical_accuracy: 0.8973\n",
            "Epoch 7/20\n",
            "1875/1875 [==============================] - 6s 3ms/step - loss: 0.2630 - sparse_categorical_accuracy: 0.9006\n",
            "Epoch 8/20\n",
            "1875/1875 [==============================] - 5s 3ms/step - loss: 0.2520 - sparse_categorical_accuracy: 0.9056\n",
            "Epoch 9/20\n",
            "1875/1875 [==============================] - 6s 3ms/step - loss: 0.2416 - sparse_categorical_accuracy: 0.9093\n",
            "Epoch 10/20\n",
            "1875/1875 [==============================] - 6s 3ms/step - loss: 0.2340 - sparse_categorical_accuracy: 0.9115\n",
            "Epoch 11/20\n",
            "1875/1875 [==============================] - 6s 3ms/step - loss: 0.2251 - sparse_categorical_accuracy: 0.9158\n",
            "Epoch 12/20\n",
            "1875/1875 [==============================] - 6s 3ms/step - loss: 0.2173 - sparse_categorical_accuracy: 0.9181\n",
            "Epoch 13/20\n",
            "1875/1875 [==============================] - 6s 3ms/step - loss: 0.2102 - sparse_categorical_accuracy: 0.9211\n",
            "Epoch 14/20\n",
            "1875/1875 [==============================] - 6s 3ms/step - loss: 0.2040 - sparse_categorical_accuracy: 0.9231\n",
            "Epoch 15/20\n",
            "1875/1875 [==============================] - 6s 3ms/step - loss: 0.1990 - sparse_categorical_accuracy: 0.9260\n",
            "Epoch 16/20\n",
            "1875/1875 [==============================] - 6s 3ms/step - loss: 0.1915 - sparse_categorical_accuracy: 0.9289\n",
            "Epoch 17/20\n",
            "1875/1875 [==============================] - 5s 3ms/step - loss: 0.1868 - sparse_categorical_accuracy: 0.9305\n",
            "Epoch 18/20\n",
            "1875/1875 [==============================] - 5s 3ms/step - loss: 0.1803 - sparse_categorical_accuracy: 0.9324\n",
            "Epoch 19/20\n",
            "1875/1875 [==============================] - 6s 3ms/step - loss: 0.1746 - sparse_categorical_accuracy: 0.9346\n",
            "Epoch 20/20\n",
            "1875/1875 [==============================] - 6s 3ms/step - loss: 0.1716 - sparse_categorical_accuracy: 0.9354\n"
          ]
        },
        {
          "output_type": "execute_result",
          "data": {
            "text/plain": [
              "<keras.callbacks.History at 0x7f9775dd3640>"
            ]
          },
          "metadata": {},
          "execution_count": 47
        }
      ]
    },
    {
      "cell_type": "code",
      "source": [
        "test_loss, test_accuracy = model.evaluate(X_test, y_test)"
      ],
      "metadata": {
        "colab": {
          "base_uri": "https://localhost:8080/"
        },
        "id": "nhxPoaiPIKSv",
        "outputId": "15286477-fbca-4b4c-ce6f-a048f4950354"
      },
      "execution_count": null,
      "outputs": [
        {
          "output_type": "stream",
          "name": "stdout",
          "text": [
            "313/313 [==============================] - 1s 2ms/step - loss: 0.3275 - sparse_categorical_accuracy: 0.8877\n"
          ]
        }
      ]
    },
    {
      "cell_type": "code",
      "source": [],
      "metadata": {
        "id": "k-mItRvMIV5I"
      },
      "execution_count": null,
      "outputs": []
    }
  ]
}