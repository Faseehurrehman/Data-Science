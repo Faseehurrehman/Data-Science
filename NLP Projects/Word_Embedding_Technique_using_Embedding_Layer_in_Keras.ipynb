{
  "nbformat": 4,
  "nbformat_minor": 0,
  "metadata": {
    "colab": {
      "provenance": []
    },
    "kernelspec": {
      "name": "python3",
      "display_name": "Python 3"
    },
    "accelerator": "GPU"
  },
  "cells": [
    {
      "cell_type": "code",
      "metadata": {
        "id": "bzNVrcVW6BG8"
      },
      "source": [
        "#We use structure called as LSTM RNN to solve vanishing gradient and exploding gradient problems when we update weights in backpropagation."
      ],
      "execution_count": null,
      "outputs": []
    },
    {
      "cell_type": "code",
      "metadata": {
        "id": "CxInHVrX-9UJ"
      },
      "source": [
        "#Our RNN suffers short time memory problem, LSTM RNN solves this short memory problem (e.g. Today, due to my current job situation and family conditions, I need to take an action. To predict word need, it needs to know word today.Because of vanishing gradient problems, traditional rnn have short time memory.so they don't remeber which word appeared in beginning.To rember long time memory, we need to indroduce long time memory LSTM RNN)\n",
        "#Memory cell is used for remembering and forgettig based on the context of input. As the context of statement changes,some of the previous information it should remeber and also be able to new information."
      ],
      "execution_count": null,
      "outputs": []
    },
    {
      "cell_type": "code",
      "metadata": {
        "id": "NQGbX0umCNM2"
      },
      "source": [
        "from tensorflow.keras.preprocessing.text import one_hot"
      ],
      "execution_count": null,
      "outputs": []
    },
    {
      "cell_type": "code",
      "metadata": {
        "id": "x_uJu2mECd_j"
      },
      "source": [
        "#sentences\n",
        "sent=['the glass of milk',\n",
        "      'the cup of tea',\n",
        "      'he is a good boy',\n",
        "      'I am Faseeh Ur Rehman']"
      ],
      "execution_count": null,
      "outputs": []
    },
    {
      "cell_type": "code",
      "metadata": {
        "colab": {
          "base_uri": "https://localhost:8080/"
        },
        "id": "4tnVk3X9C83N",
        "outputId": "9aea5ed0-462a-4f34-9fa9-6782fe6c7474"
      },
      "source": [
        "sent"
      ],
      "execution_count": null,
      "outputs": [
        {
          "output_type": "execute_result",
          "data": {
            "text/plain": [
              "['the glass of milk',\n",
              " 'the cup of tea',\n",
              " 'he is a good boy',\n",
              " 'I am Faseeh Ur Rehman']"
            ]
          },
          "metadata": {
            "tags": []
          },
          "execution_count": 5
        }
      ]
    },
    {
      "cell_type": "code",
      "metadata": {
        "id": "MvTepk7SC-xe"
      },
      "source": [
        "#vocabulary size\n",
        "voc_size=1000"
      ],
      "execution_count": null,
      "outputs": []
    },
    {
      "cell_type": "markdown",
      "metadata": {
        "id": "5r7LrCnwDM5B"
      },
      "source": [
        "## One Hot Representation"
      ]
    },
    {
      "cell_type": "code",
      "metadata": {
        "colab": {
          "base_uri": "https://localhost:8080/"
        },
        "id": "q35dzAzrDWN2",
        "outputId": "beca3b9d-f171-4459-d434-35164975f8cf"
      },
      "source": [
        "onehot_repr=[one_hot(words, voc_size)for words in sent]\n",
        "print(onehot_repr)"
      ],
      "execution_count": null,
      "outputs": [
        {
          "output_type": "stream",
          "text": [
            "[[710, 140, 710, 132], [710, 801, 710, 952], [35, 627, 279, 35, 242], [733, 960, 864, 465, 527]]\n"
          ],
          "name": "stdout"
        }
      ]
    },
    {
      "cell_type": "code",
      "metadata": {
        "id": "QSSLrDhdDwPi"
      },
      "source": [
        "from tensorflow.keras.layers import Embedding\n",
        "from tensorflow.keras.preprocessing.sequence import pad_sequences\n",
        "from tensorflow.keras.models import Sequential"
      ],
      "execution_count": null,
      "outputs": []
    },
    {
      "cell_type": "code",
      "metadata": {
        "id": "EPCUN6N6EmWE"
      },
      "source": [
        "import numpy as np"
      ],
      "execution_count": null,
      "outputs": []
    },
    {
      "cell_type": "code",
      "metadata": {
        "colab": {
          "base_uri": "https://localhost:8080/"
        },
        "id": "SQcWcA8sEsxu",
        "outputId": "685c8a89-a411-4513-c922-0124c6f536db"
      },
      "source": [
        "sent_length=8\n",
        "embedded_docs=pad_sequences(onehot_repr,padding='pre',maxlen=sent_length)\n",
        "print(embedded_docs)"
      ],
      "execution_count": null,
      "outputs": [
        {
          "output_type": "stream",
          "text": [
            "[[  0   0   0   0 710 140 710 132]\n",
            " [  0   0   0   0 710 801 710 952]\n",
            " [  0   0   0  35 627 279  35 242]\n",
            " [  0   0   0 733 960 864 465 527]]\n"
          ],
          "name": "stdout"
        }
      ]
    },
    {
      "cell_type": "code",
      "metadata": {
        "id": "JfzCOomXFWAD"
      },
      "source": [
        "dim=10"
      ],
      "execution_count": null,
      "outputs": []
    },
    {
      "cell_type": "code",
      "metadata": {
        "id": "JNmXdR6CFfAe"
      },
      "source": [
        "model=Sequential()\n",
        "model.add(Embedding(voc_size,10,input_length=sent_length))\n",
        "model.compile('adam','mse')"
      ],
      "execution_count": null,
      "outputs": []
    },
    {
      "cell_type": "code",
      "metadata": {
        "colab": {
          "base_uri": "https://localhost:8080/"
        },
        "id": "9wC12v2rF8FP",
        "outputId": "021c430f-0e47-47cf-f8a3-6c3d73b58079"
      },
      "source": [
        "model.summary()"
      ],
      "execution_count": null,
      "outputs": [
        {
          "output_type": "stream",
          "text": [
            "Model: \"sequential_1\"\n",
            "_________________________________________________________________\n",
            "Layer (type)                 Output Shape              Param #   \n",
            "=================================================================\n",
            "embedding (Embedding)        (None, 8, 10)             10000     \n",
            "=================================================================\n",
            "Total params: 10,000\n",
            "Trainable params: 10,000\n",
            "Non-trainable params: 0\n",
            "_________________________________________________________________\n"
          ],
          "name": "stdout"
        }
      ]
    },
    {
      "cell_type": "code",
      "metadata": {
        "colab": {
          "base_uri": "https://localhost:8080/"
        },
        "id": "N8I2QjRNGNFV",
        "outputId": "d2e82ee3-09b7-44a4-fe97-f1d7bbd098fd"
      },
      "source": [
        "print(model.predict(embedded_docs))"
      ],
      "execution_count": null,
      "outputs": [
        {
          "output_type": "stream",
          "text": [
            "[[[ 0.03086385 -0.01594454 -0.00343667 -0.01774197  0.00630287\n",
            "    0.00609045  0.00497197  0.03956093  0.0031427   0.04009655]\n",
            "  [ 0.03086385 -0.01594454 -0.00343667 -0.01774197  0.00630287\n",
            "    0.00609045  0.00497197  0.03956093  0.0031427   0.04009655]\n",
            "  [ 0.03086385 -0.01594454 -0.00343667 -0.01774197  0.00630287\n",
            "    0.00609045  0.00497197  0.03956093  0.0031427   0.04009655]\n",
            "  [ 0.03086385 -0.01594454 -0.00343667 -0.01774197  0.00630287\n",
            "    0.00609045  0.00497197  0.03956093  0.0031427   0.04009655]\n",
            "  [ 0.0048113  -0.03782547 -0.03903252  0.00484579  0.02703295\n",
            "    0.00273655  0.02168695  0.03333605 -0.00562031  0.00935534]\n",
            "  [ 0.02901936  0.04543563 -0.03695554 -0.00583567 -0.03225058\n",
            "    0.01679722  0.00350072 -0.00636773  0.02998208 -0.04091451]\n",
            "  [ 0.0048113  -0.03782547 -0.03903252  0.00484579  0.02703295\n",
            "    0.00273655  0.02168695  0.03333605 -0.00562031  0.00935534]\n",
            "  [ 0.04684515  0.01640785  0.03967712  0.03187178  0.00926591\n",
            "   -0.02188549 -0.02094936 -0.04418519  0.01362551  0.00665518]]\n",
            "\n",
            " [[ 0.03086385 -0.01594454 -0.00343667 -0.01774197  0.00630287\n",
            "    0.00609045  0.00497197  0.03956093  0.0031427   0.04009655]\n",
            "  [ 0.03086385 -0.01594454 -0.00343667 -0.01774197  0.00630287\n",
            "    0.00609045  0.00497197  0.03956093  0.0031427   0.04009655]\n",
            "  [ 0.03086385 -0.01594454 -0.00343667 -0.01774197  0.00630287\n",
            "    0.00609045  0.00497197  0.03956093  0.0031427   0.04009655]\n",
            "  [ 0.03086385 -0.01594454 -0.00343667 -0.01774197  0.00630287\n",
            "    0.00609045  0.00497197  0.03956093  0.0031427   0.04009655]\n",
            "  [ 0.0048113  -0.03782547 -0.03903252  0.00484579  0.02703295\n",
            "    0.00273655  0.02168695  0.03333605 -0.00562031  0.00935534]\n",
            "  [-0.02420121 -0.04995749  0.00398665  0.03335679 -0.04264833\n",
            "   -0.04898442  0.03359694  0.01834499 -0.03906713  0.01204709]\n",
            "  [ 0.0048113  -0.03782547 -0.03903252  0.00484579  0.02703295\n",
            "    0.00273655  0.02168695  0.03333605 -0.00562031  0.00935534]\n",
            "  [-0.03963649  0.0012272  -0.04753274  0.00411956  0.03284157\n",
            "    0.03973034  0.01684222  0.03547224 -0.02786787 -0.04673985]]\n",
            "\n",
            " [[ 0.03086385 -0.01594454 -0.00343667 -0.01774197  0.00630287\n",
            "    0.00609045  0.00497197  0.03956093  0.0031427   0.04009655]\n",
            "  [ 0.03086385 -0.01594454 -0.00343667 -0.01774197  0.00630287\n",
            "    0.00609045  0.00497197  0.03956093  0.0031427   0.04009655]\n",
            "  [ 0.03086385 -0.01594454 -0.00343667 -0.01774197  0.00630287\n",
            "    0.00609045  0.00497197  0.03956093  0.0031427   0.04009655]\n",
            "  [-0.04187182  0.02061088 -0.01775005 -0.04295358 -0.0432634\n",
            "   -0.03368817  0.03033665 -0.0254758   0.01903133 -0.03974612]\n",
            "  [ 0.01843966 -0.03572599 -0.03089117 -0.01503438 -0.03027449\n",
            "   -0.0231507  -0.03391389  0.02597127  0.04563539  0.0343964 ]\n",
            "  [-0.04506035  0.0083475  -0.02104433 -0.03387873  0.04965184\n",
            "   -0.04369075 -0.02301005  0.01044137 -0.00631851  0.03291621]\n",
            "  [-0.04187182  0.02061088 -0.01775005 -0.04295358 -0.0432634\n",
            "   -0.03368817  0.03033665 -0.0254758   0.01903133 -0.03974612]\n",
            "  [ 0.01997212 -0.01366788 -0.04544871 -0.01058936  0.01752852\n",
            "    0.00283281 -0.04605621  0.0339766   0.02450052  0.02711529]]\n",
            "\n",
            " [[ 0.03086385 -0.01594454 -0.00343667 -0.01774197  0.00630287\n",
            "    0.00609045  0.00497197  0.03956093  0.0031427   0.04009655]\n",
            "  [ 0.03086385 -0.01594454 -0.00343667 -0.01774197  0.00630287\n",
            "    0.00609045  0.00497197  0.03956093  0.0031427   0.04009655]\n",
            "  [ 0.03086385 -0.01594454 -0.00343667 -0.01774197  0.00630287\n",
            "    0.00609045  0.00497197  0.03956093  0.0031427   0.04009655]\n",
            "  [-0.0375332   0.04741833  0.04990137  0.0467292   0.00871537\n",
            "    0.04895571 -0.03677596 -0.02085995  0.00663854  0.02696199]\n",
            "  [ 0.03408942  0.01540614 -0.04083556 -0.03329034  0.02707381\n",
            "   -0.00434    -0.0114776  -0.0292173   0.01476306  0.0036693 ]\n",
            "  [-0.04808396  0.03910334  0.04343954 -0.04834412 -0.01487141\n",
            "   -0.01483687 -0.03289779  0.0162652  -0.04704941  0.03257754]\n",
            "  [-0.01846137  0.03261488  0.00354341 -0.03537624  0.00264893\n",
            "    0.02354428 -0.00872052  0.01110507  0.0365569   0.04912094]\n",
            "  [-0.0105427  -0.01571214 -0.03575534  0.04957334  0.00948329\n",
            "   -0.03057158  0.04988087 -0.02614485 -0.02270892 -0.0451515 ]]]\n"
          ],
          "name": "stdout"
        }
      ]
    },
    {
      "cell_type": "code",
      "metadata": {
        "colab": {
          "base_uri": "https://localhost:8080/"
        },
        "id": "ATXtnAORGY2P",
        "outputId": "bad69e4c-2582-473a-9130-f00b5f02f8c3"
      },
      "source": [
        "embedded_docs[0]"
      ],
      "execution_count": null,
      "outputs": [
        {
          "output_type": "execute_result",
          "data": {
            "text/plain": [
              "array([  0,   0,   0,   0, 710, 140, 710, 132], dtype=int32)"
            ]
          },
          "metadata": {
            "tags": []
          },
          "execution_count": 16
        }
      ]
    },
    {
      "cell_type": "code",
      "metadata": {
        "colab": {
          "base_uri": "https://localhost:8080/"
        },
        "id": "BKVt0Av7Gfi4",
        "outputId": "43837006-a05a-4685-b9c3-84d2c9914a4a"
      },
      "source": [
        "print(model.predict(embedded_docs)[0])"
      ],
      "execution_count": null,
      "outputs": [
        {
          "output_type": "stream",
          "text": [
            "[[ 0.03086385 -0.01594454 -0.00343667 -0.01774197  0.00630287  0.00609045\n",
            "   0.00497197  0.03956093  0.0031427   0.04009655]\n",
            " [ 0.03086385 -0.01594454 -0.00343667 -0.01774197  0.00630287  0.00609045\n",
            "   0.00497197  0.03956093  0.0031427   0.04009655]\n",
            " [ 0.03086385 -0.01594454 -0.00343667 -0.01774197  0.00630287  0.00609045\n",
            "   0.00497197  0.03956093  0.0031427   0.04009655]\n",
            " [ 0.03086385 -0.01594454 -0.00343667 -0.01774197  0.00630287  0.00609045\n",
            "   0.00497197  0.03956093  0.0031427   0.04009655]\n",
            " [ 0.0048113  -0.03782547 -0.03903252  0.00484579  0.02703295  0.00273655\n",
            "   0.02168695  0.03333605 -0.00562031  0.00935534]\n",
            " [ 0.02901936  0.04543563 -0.03695554 -0.00583567 -0.03225058  0.01679722\n",
            "   0.00350072 -0.00636773  0.02998208 -0.04091451]\n",
            " [ 0.0048113  -0.03782547 -0.03903252  0.00484579  0.02703295  0.00273655\n",
            "   0.02168695  0.03333605 -0.00562031  0.00935534]\n",
            " [ 0.04684515  0.01640785  0.03967712  0.03187178  0.00926591 -0.02188549\n",
            "  -0.02094936 -0.04418519  0.01362551  0.00665518]]\n"
          ],
          "name": "stdout"
        }
      ]
    },
    {
      "cell_type": "code",
      "metadata": {
        "id": "MRFAJVMvGnQe"
      },
      "source": [],
      "execution_count": null,
      "outputs": []
    },
    {
      "cell_type": "code",
      "metadata": {
        "id": "4C3qyO5UDSPg"
      },
      "source": [],
      "execution_count": null,
      "outputs": []
    },
    {
      "cell_type": "code",
      "metadata": {
        "id": "aIbRRJOHDLNX"
      },
      "source": [],
      "execution_count": null,
      "outputs": []
    }
  ]
}