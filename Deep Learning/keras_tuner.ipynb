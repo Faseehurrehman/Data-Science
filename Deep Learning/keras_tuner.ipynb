{
  "nbformat": 4,
  "nbformat_minor": 0,
  "metadata": {
    "colab": {
      "provenance": []
    },
    "kernelspec": {
      "name": "python3",
      "display_name": "Python 3"
    },
    "language_info": {
      "name": "python"
    }
  },
  "cells": [
    {
      "cell_type": "code",
      "source": [
        "import numpy as np\n",
        "import pandas as pd"
      ],
      "metadata": {
        "id": "sCaxJkKi45SG"
      },
      "execution_count": null,
      "outputs": []
    },
    {
      "cell_type": "code",
      "source": [
        "df = pd.read_csv('/content/diabetes.csv')\n",
        "df.head()"
      ],
      "metadata": {
        "colab": {
          "base_uri": "https://localhost:8080/",
          "height": 206
        },
        "id": "eoKNMf-V5-ec",
        "outputId": "ca65e635-bdff-44f4-f62e-2af7b68f59e6"
      },
      "execution_count": null,
      "outputs": [
        {
          "output_type": "execute_result",
          "data": {
            "text/plain": [
              "   Pregnancies  Glucose  BloodPressure  SkinThickness  Insulin   BMI  \\\n",
              "0            6      148             72             35        0  33.6   \n",
              "1            1       85             66             29        0  26.6   \n",
              "2            8      183             64              0        0  23.3   \n",
              "3            1       89             66             23       94  28.1   \n",
              "4            0      137             40             35      168  43.1   \n",
              "\n",
              "   DiabetesPedigreeFunction  Age  Outcome  \n",
              "0                     0.627   50        1  \n",
              "1                     0.351   31        0  \n",
              "2                     0.672   32        1  \n",
              "3                     0.167   21        0  \n",
              "4                     2.288   33        1  "
            ],
            "text/html": [
              "\n",
              "  <div id=\"df-a7d5b421-8bee-4095-ac23-275d68d5c624\">\n",
              "    <div class=\"colab-df-container\">\n",
              "      <div>\n",
              "<style scoped>\n",
              "    .dataframe tbody tr th:only-of-type {\n",
              "        vertical-align: middle;\n",
              "    }\n",
              "\n",
              "    .dataframe tbody tr th {\n",
              "        vertical-align: top;\n",
              "    }\n",
              "\n",
              "    .dataframe thead th {\n",
              "        text-align: right;\n",
              "    }\n",
              "</style>\n",
              "<table border=\"1\" class=\"dataframe\">\n",
              "  <thead>\n",
              "    <tr style=\"text-align: right;\">\n",
              "      <th></th>\n",
              "      <th>Pregnancies</th>\n",
              "      <th>Glucose</th>\n",
              "      <th>BloodPressure</th>\n",
              "      <th>SkinThickness</th>\n",
              "      <th>Insulin</th>\n",
              "      <th>BMI</th>\n",
              "      <th>DiabetesPedigreeFunction</th>\n",
              "      <th>Age</th>\n",
              "      <th>Outcome</th>\n",
              "    </tr>\n",
              "  </thead>\n",
              "  <tbody>\n",
              "    <tr>\n",
              "      <th>0</th>\n",
              "      <td>6</td>\n",
              "      <td>148</td>\n",
              "      <td>72</td>\n",
              "      <td>35</td>\n",
              "      <td>0</td>\n",
              "      <td>33.6</td>\n",
              "      <td>0.627</td>\n",
              "      <td>50</td>\n",
              "      <td>1</td>\n",
              "    </tr>\n",
              "    <tr>\n",
              "      <th>1</th>\n",
              "      <td>1</td>\n",
              "      <td>85</td>\n",
              "      <td>66</td>\n",
              "      <td>29</td>\n",
              "      <td>0</td>\n",
              "      <td>26.6</td>\n",
              "      <td>0.351</td>\n",
              "      <td>31</td>\n",
              "      <td>0</td>\n",
              "    </tr>\n",
              "    <tr>\n",
              "      <th>2</th>\n",
              "      <td>8</td>\n",
              "      <td>183</td>\n",
              "      <td>64</td>\n",
              "      <td>0</td>\n",
              "      <td>0</td>\n",
              "      <td>23.3</td>\n",
              "      <td>0.672</td>\n",
              "      <td>32</td>\n",
              "      <td>1</td>\n",
              "    </tr>\n",
              "    <tr>\n",
              "      <th>3</th>\n",
              "      <td>1</td>\n",
              "      <td>89</td>\n",
              "      <td>66</td>\n",
              "      <td>23</td>\n",
              "      <td>94</td>\n",
              "      <td>28.1</td>\n",
              "      <td>0.167</td>\n",
              "      <td>21</td>\n",
              "      <td>0</td>\n",
              "    </tr>\n",
              "    <tr>\n",
              "      <th>4</th>\n",
              "      <td>0</td>\n",
              "      <td>137</td>\n",
              "      <td>40</td>\n",
              "      <td>35</td>\n",
              "      <td>168</td>\n",
              "      <td>43.1</td>\n",
              "      <td>2.288</td>\n",
              "      <td>33</td>\n",
              "      <td>1</td>\n",
              "    </tr>\n",
              "  </tbody>\n",
              "</table>\n",
              "</div>\n",
              "      <button class=\"colab-df-convert\" onclick=\"convertToInteractive('df-a7d5b421-8bee-4095-ac23-275d68d5c624')\"\n",
              "              title=\"Convert this dataframe to an interactive table.\"\n",
              "              style=\"display:none;\">\n",
              "        \n",
              "  <svg xmlns=\"http://www.w3.org/2000/svg\" height=\"24px\"viewBox=\"0 0 24 24\"\n",
              "       width=\"24px\">\n",
              "    <path d=\"M0 0h24v24H0V0z\" fill=\"none\"/>\n",
              "    <path d=\"M18.56 5.44l.94 2.06.94-2.06 2.06-.94-2.06-.94-.94-2.06-.94 2.06-2.06.94zm-11 1L8.5 8.5l.94-2.06 2.06-.94-2.06-.94L8.5 2.5l-.94 2.06-2.06.94zm10 10l.94 2.06.94-2.06 2.06-.94-2.06-.94-.94-2.06-.94 2.06-2.06.94z\"/><path d=\"M17.41 7.96l-1.37-1.37c-.4-.4-.92-.59-1.43-.59-.52 0-1.04.2-1.43.59L10.3 9.45l-7.72 7.72c-.78.78-.78 2.05 0 2.83L4 21.41c.39.39.9.59 1.41.59.51 0 1.02-.2 1.41-.59l7.78-7.78 2.81-2.81c.8-.78.8-2.07 0-2.86zM5.41 20L4 18.59l7.72-7.72 1.47 1.35L5.41 20z\"/>\n",
              "  </svg>\n",
              "      </button>\n",
              "      \n",
              "  <style>\n",
              "    .colab-df-container {\n",
              "      display:flex;\n",
              "      flex-wrap:wrap;\n",
              "      gap: 12px;\n",
              "    }\n",
              "\n",
              "    .colab-df-convert {\n",
              "      background-color: #E8F0FE;\n",
              "      border: none;\n",
              "      border-radius: 50%;\n",
              "      cursor: pointer;\n",
              "      display: none;\n",
              "      fill: #1967D2;\n",
              "      height: 32px;\n",
              "      padding: 0 0 0 0;\n",
              "      width: 32px;\n",
              "    }\n",
              "\n",
              "    .colab-df-convert:hover {\n",
              "      background-color: #E2EBFA;\n",
              "      box-shadow: 0px 1px 2px rgba(60, 64, 67, 0.3), 0px 1px 3px 1px rgba(60, 64, 67, 0.15);\n",
              "      fill: #174EA6;\n",
              "    }\n",
              "\n",
              "    [theme=dark] .colab-df-convert {\n",
              "      background-color: #3B4455;\n",
              "      fill: #D2E3FC;\n",
              "    }\n",
              "\n",
              "    [theme=dark] .colab-df-convert:hover {\n",
              "      background-color: #434B5C;\n",
              "      box-shadow: 0px 1px 3px 1px rgba(0, 0, 0, 0.15);\n",
              "      filter: drop-shadow(0px 1px 2px rgba(0, 0, 0, 0.3));\n",
              "      fill: #FFFFFF;\n",
              "    }\n",
              "  </style>\n",
              "\n",
              "      <script>\n",
              "        const buttonEl =\n",
              "          document.querySelector('#df-a7d5b421-8bee-4095-ac23-275d68d5c624 button.colab-df-convert');\n",
              "        buttonEl.style.display =\n",
              "          google.colab.kernel.accessAllowed ? 'block' : 'none';\n",
              "\n",
              "        async function convertToInteractive(key) {\n",
              "          const element = document.querySelector('#df-a7d5b421-8bee-4095-ac23-275d68d5c624');\n",
              "          const dataTable =\n",
              "            await google.colab.kernel.invokeFunction('convertToInteractive',\n",
              "                                                     [key], {});\n",
              "          if (!dataTable) return;\n",
              "\n",
              "          const docLinkHtml = 'Like what you see? Visit the ' +\n",
              "            '<a target=\"_blank\" href=https://colab.research.google.com/notebooks/data_table.ipynb>data table notebook</a>'\n",
              "            + ' to learn more about interactive tables.';\n",
              "          element.innerHTML = '';\n",
              "          dataTable['output_type'] = 'display_data';\n",
              "          await google.colab.output.renderOutput(dataTable, element);\n",
              "          const docLink = document.createElement('div');\n",
              "          docLink.innerHTML = docLinkHtml;\n",
              "          element.appendChild(docLink);\n",
              "        }\n",
              "      </script>\n",
              "    </div>\n",
              "  </div>\n",
              "  "
            ]
          },
          "metadata": {},
          "execution_count": 2
        }
      ]
    },
    {
      "cell_type": "code",
      "source": [
        "df.corr()['Outcome']"
      ],
      "metadata": {
        "colab": {
          "base_uri": "https://localhost:8080/"
        },
        "id": "V5ekUlcJ6EYG",
        "outputId": "e95daa79-2676-4887-cb16-464d5ce3dfbe"
      },
      "execution_count": null,
      "outputs": [
        {
          "output_type": "execute_result",
          "data": {
            "text/plain": [
              "Pregnancies                 0.221898\n",
              "Glucose                     0.466581\n",
              "BloodPressure               0.065068\n",
              "SkinThickness               0.074752\n",
              "Insulin                     0.130548\n",
              "BMI                         0.292695\n",
              "DiabetesPedigreeFunction    0.173844\n",
              "Age                         0.238356\n",
              "Outcome                     1.000000\n",
              "Name: Outcome, dtype: float64"
            ]
          },
          "metadata": {},
          "execution_count": 3
        }
      ]
    },
    {
      "cell_type": "code",
      "source": [
        "X = df.iloc[:,:-1].values\n",
        "y = df.iloc[:,-1].values"
      ],
      "metadata": {
        "id": "HvpRfzWa6kEw"
      },
      "execution_count": null,
      "outputs": []
    },
    {
      "cell_type": "code",
      "source": [
        "X"
      ],
      "metadata": {
        "colab": {
          "base_uri": "https://localhost:8080/"
        },
        "id": "u_t-qr3h7YTE",
        "outputId": "079a8092-432c-4189-ecc9-294bf8655342"
      },
      "execution_count": null,
      "outputs": [
        {
          "output_type": "execute_result",
          "data": {
            "text/plain": [
              "array([[  6.   , 148.   ,  72.   , ...,  33.6  ,   0.627,  50.   ],\n",
              "       [  1.   ,  85.   ,  66.   , ...,  26.6  ,   0.351,  31.   ],\n",
              "       [  8.   , 183.   ,  64.   , ...,  23.3  ,   0.672,  32.   ],\n",
              "       ...,\n",
              "       [  5.   , 121.   ,  72.   , ...,  26.2  ,   0.245,  30.   ],\n",
              "       [  1.   , 126.   ,  60.   , ...,  30.1  ,   0.349,  47.   ],\n",
              "       [  1.   ,  93.   ,  70.   , ...,  30.4  ,   0.315,  23.   ]])"
            ]
          },
          "metadata": {},
          "execution_count": 5
        }
      ]
    },
    {
      "cell_type": "code",
      "source": [
        "from sklearn.preprocessing import StandardScaler\n",
        "scaler = StandardScaler()\n",
        "X = scaler.fit_transform(X)  # Values in range of -1 and 1\n",
        "X"
      ],
      "metadata": {
        "colab": {
          "base_uri": "https://localhost:8080/"
        },
        "id": "FekIXw3d7Aoy",
        "outputId": "6db86d65-7865-43a9-966e-6435d0f0ffbd"
      },
      "execution_count": null,
      "outputs": [
        {
          "output_type": "execute_result",
          "data": {
            "text/plain": [
              "array([[ 0.63994726,  0.84832379,  0.14964075, ...,  0.20401277,\n",
              "         0.46849198,  1.4259954 ],\n",
              "       [-0.84488505, -1.12339636, -0.16054575, ..., -0.68442195,\n",
              "        -0.36506078, -0.19067191],\n",
              "       [ 1.23388019,  1.94372388, -0.26394125, ..., -1.10325546,\n",
              "         0.60439732, -0.10558415],\n",
              "       ...,\n",
              "       [ 0.3429808 ,  0.00330087,  0.14964075, ..., -0.73518964,\n",
              "        -0.68519336, -0.27575966],\n",
              "       [-0.84488505,  0.1597866 , -0.47073225, ..., -0.24020459,\n",
              "        -0.37110101,  1.17073215],\n",
              "       [-0.84488505, -0.8730192 ,  0.04624525, ..., -0.20212881,\n",
              "        -0.47378505, -0.87137393]])"
            ]
          },
          "metadata": {},
          "execution_count": 6
        }
      ]
    },
    {
      "cell_type": "code",
      "source": [
        "X.shape"
      ],
      "metadata": {
        "colab": {
          "base_uri": "https://localhost:8080/"
        },
        "id": "rIxr_gsZ7dv3",
        "outputId": "715c2807-8903-4fd0-a904-ebd22b9a32b2"
      },
      "execution_count": null,
      "outputs": [
        {
          "output_type": "execute_result",
          "data": {
            "text/plain": [
              "(768, 8)"
            ]
          },
          "metadata": {},
          "execution_count": 7
        }
      ]
    },
    {
      "cell_type": "code",
      "source": [
        "from sklearn.model_selection import train_test_split\n",
        "X_train,X_test,y_train,y_test = train_test_split(X,y,test_size=0.2,random_state = 1)"
      ],
      "metadata": {
        "id": "RmLl9iTj7uv2"
      },
      "execution_count": null,
      "outputs": []
    },
    {
      "cell_type": "code",
      "source": [
        "import tensorflow as tf\n",
        "from tensorflow import keras\n",
        "from keras import Sequential\n",
        "from keras.layers import Dense,Dropout"
      ],
      "metadata": {
        "id": "RZKxOcbl8Da3"
      },
      "execution_count": null,
      "outputs": []
    },
    {
      "cell_type": "code",
      "source": [
        "model = Sequential()\n",
        "model.add(Dense(32,activation='relu',input_dim=8))\n",
        "model.add(Dense(1,activation='sigmoid'))\n",
        "\n",
        "model.compile(optimizer = 'Adam', loss='binary_crossentropy',metrics=['accuracy'])\n",
        "model.summary()\n"
      ],
      "metadata": {
        "colab": {
          "base_uri": "https://localhost:8080/"
        },
        "id": "Ew-VK0yp8P_g",
        "outputId": "94049611-ca04-4ac4-84a4-813187b067b5"
      },
      "execution_count": null,
      "outputs": [
        {
          "output_type": "stream",
          "name": "stdout",
          "text": [
            "Model: \"sequential\"\n",
            "_________________________________________________________________\n",
            " Layer (type)                Output Shape              Param #   \n",
            "=================================================================\n",
            " dense (Dense)               (None, 32)                288       \n",
            "                                                                 \n",
            " dense_1 (Dense)             (None, 1)                 33        \n",
            "                                                                 \n",
            "=================================================================\n",
            "Total params: 321\n",
            "Trainable params: 321\n",
            "Non-trainable params: 0\n",
            "_________________________________________________________________\n"
          ]
        }
      ]
    },
    {
      "cell_type": "code",
      "source": [
        "model.get_weights()"
      ],
      "metadata": {
        "colab": {
          "base_uri": "https://localhost:8080/"
        },
        "id": "3tMTwqhLAAIi",
        "outputId": "fcbd111a-d408-4aa7-8aea-f2b957ae70cc"
      },
      "execution_count": null,
      "outputs": [
        {
          "output_type": "execute_result",
          "data": {
            "text/plain": [
              "[array([[ 0.313555  ,  0.35129958,  0.06634641,  0.14441627, -0.21143655,\n",
              "         -0.23600033,  0.11452562,  0.32754213,  0.0599243 ,  0.14728135,\n",
              "         -0.33480328, -0.1790594 , -0.3113005 ,  0.08733001,  0.25490427,\n",
              "         -0.2291229 , -0.11205879, -0.35322687, -0.38321298,  0.06255367,\n",
              "         -0.16998164,  0.2738251 ,  0.23864347, -0.29744998, -0.157091  ,\n",
              "          0.00880417,  0.2599389 ,  0.00145093,  0.29893118, -0.25021595,\n",
              "         -0.10313439, -0.3451375 ],\n",
              "        [ 0.22704673, -0.15100622, -0.17577915,  0.21795613, -0.31495193,\n",
              "          0.1730277 ,  0.29640758,  0.16131061, -0.02483231, -0.13280573,\n",
              "          0.32943904,  0.29037678, -0.26666218, -0.20919871, -0.08126628,\n",
              "         -0.19269817,  0.11589032, -0.09965265, -0.130048  , -0.36387238,\n",
              "         -0.20749219, -0.3122935 , -0.03167278, -0.07691693,  0.23703551,\n",
              "          0.3347261 , -0.01826838,  0.12015867,  0.02195039, -0.16075335,\n",
              "          0.23584723, -0.2989335 ],\n",
              "        [-0.05920711,  0.19655389, -0.2771507 , -0.18515222, -0.34591472,\n",
              "          0.23087245,  0.26413494,  0.0538362 ,  0.17164183,  0.13487744,\n",
              "         -0.3732724 ,  0.07368928,  0.17244601, -0.36018002, -0.3804959 ,\n",
              "         -0.23848332,  0.06809539,  0.37912834,  0.12018156, -0.17165732,\n",
              "          0.36944348,  0.3549394 , -0.17470811,  0.2691598 ,  0.03933987,\n",
              "          0.11625987, -0.24201576,  0.07958367,  0.2658111 ,  0.02301729,\n",
              "         -0.29935476, -0.11911064],\n",
              "        [ 0.23427987, -0.0071573 ,  0.1757018 , -0.17063965, -0.38095325,\n",
              "         -0.18354976,  0.3189407 ,  0.258573  ,  0.29001546, -0.27098578,\n",
              "          0.12355149,  0.2940265 ,  0.1139285 ,  0.26412028,  0.13010424,\n",
              "          0.23393506, -0.10652739,  0.222126  ,  0.1938076 , -0.20618199,\n",
              "          0.11818999,  0.21488911, -0.00271875, -0.12219521,  0.29022068,\n",
              "          0.01003349,  0.26156902, -0.17989562, -0.1978471 ,  0.00309393,\n",
              "         -0.35464713, -0.15567295],\n",
              "        [ 0.29156458,  0.37219888,  0.26489526, -0.16657794, -0.2678985 ,\n",
              "          0.12715095, -0.22154224, -0.33724833,  0.30944318,  0.06355694,\n",
              "          0.01608178,  0.07164499,  0.36232078,  0.1722514 , -0.07137251,\n",
              "         -0.3146255 , -0.13872355, -0.36672068, -0.3711098 ,  0.11542612,\n",
              "          0.37398422,  0.05027202,  0.15276039,  0.38211286,  0.10047105,\n",
              "          0.14104134, -0.06757006, -0.19919792, -0.33282188,  0.3534242 ,\n",
              "         -0.2367445 ,  0.24555284],\n",
              "        [ 0.15894562,  0.21251786,  0.16459161, -0.26442268,  0.20502824,\n",
              "         -0.256813  ,  0.12229067, -0.08459666,  0.06386524,  0.0194639 ,\n",
              "         -0.23127644,  0.08528331,  0.16324347, -0.26081187,  0.18042463,\n",
              "          0.30079818,  0.35693824,  0.07814261,  0.1247617 ,  0.22968793,\n",
              "         -0.0650205 ,  0.2698788 , -0.33144778,  0.33442378,  0.08595046,\n",
              "          0.29292655, -0.3298394 ,  0.00500062,  0.26203722, -0.01706326,\n",
              "         -0.09146145,  0.09768638],\n",
              "        [-0.09687233, -0.34660524,  0.2908876 ,  0.0262098 ,  0.19666857,\n",
              "         -0.00656208, -0.00200912, -0.28610113,  0.23359203,  0.2808681 ,\n",
              "          0.1257152 ,  0.25002545, -0.16909546, -0.02247009, -0.23241581,\n",
              "          0.08142462,  0.07394943,  0.12018102,  0.38595158, -0.18192913,\n",
              "         -0.16502017,  0.01913506,  0.22473162, -0.36305213, -0.2701372 ,\n",
              "          0.00810102, -0.3109544 ,  0.18204355, -0.3174618 ,  0.23920321,\n",
              "          0.2584805 , -0.21539319],\n",
              "        [ 0.11161131,  0.35515106, -0.23932149,  0.22201121, -0.10048324,\n",
              "         -0.04770091,  0.02328902, -0.3790474 ,  0.20750779, -0.19559088,\n",
              "          0.32777554, -0.35281697, -0.38304946, -0.21132287,  0.19721532,\n",
              "         -0.12510943, -0.3145643 ,  0.11344451, -0.02314147,  0.3024841 ,\n",
              "         -0.19395085,  0.28383505, -0.3446711 ,  0.25988972,  0.22511417,\n",
              "         -0.15894029, -0.15861996,  0.06539309, -0.33376768,  0.09065837,\n",
              "          0.06389552, -0.17786454]], dtype=float32),\n",
              " array([0., 0., 0., 0., 0., 0., 0., 0., 0., 0., 0., 0., 0., 0., 0., 0., 0.,\n",
              "        0., 0., 0., 0., 0., 0., 0., 0., 0., 0., 0., 0., 0., 0., 0.],\n",
              "       dtype=float32),\n",
              " array([[ 0.16162544],\n",
              "        [ 0.06875128],\n",
              "        [-0.06934142],\n",
              "        [ 0.12528086],\n",
              "        [ 0.07941031],\n",
              "        [-0.10823151],\n",
              "        [ 0.22126424],\n",
              "        [-0.17082056],\n",
              "        [-0.18981062],\n",
              "        [-0.1990085 ],\n",
              "        [-0.00909722],\n",
              "        [ 0.38214195],\n",
              "        [-0.4065005 ],\n",
              "        [ 0.17995715],\n",
              "        [ 0.3269776 ],\n",
              "        [-0.40537012],\n",
              "        [ 0.3191738 ],\n",
              "        [ 0.17235017],\n",
              "        [-0.39159226],\n",
              "        [ 0.2933734 ],\n",
              "        [ 0.37712198],\n",
              "        [-0.38414827],\n",
              "        [-0.0404748 ],\n",
              "        [ 0.1263662 ],\n",
              "        [-0.01328683],\n",
              "        [ 0.01719055],\n",
              "        [-0.05747381],\n",
              "        [-0.23462884],\n",
              "        [ 0.01261726],\n",
              "        [-0.41561612],\n",
              "        [ 0.19570142],\n",
              "        [ 0.12706238]], dtype=float32),\n",
              " array([0.], dtype=float32)]"
            ]
          },
          "metadata": {},
          "execution_count": 11
        }
      ]
    },
    {
      "cell_type": "code",
      "source": [
        "history = model.fit(X_train,y_train,epochs=10,batch_size=30,validation_data=(X_test, y_test))"
      ],
      "metadata": {
        "colab": {
          "base_uri": "https://localhost:8080/"
        },
        "id": "a1fzMQc0-Tgk",
        "outputId": "967c1980-f647-4f8b-b6c8-0de6015f4567"
      },
      "execution_count": null,
      "outputs": [
        {
          "output_type": "stream",
          "name": "stdout",
          "text": [
            "Epoch 1/10\n",
            "21/21 [==============================] - 1s 18ms/step - loss: 0.6560 - accuracy: 0.6270 - val_loss: 0.6424 - val_accuracy: 0.6883\n",
            "Epoch 2/10\n",
            "21/21 [==============================] - 0s 5ms/step - loss: 0.6044 - accuracy: 0.7280 - val_loss: 0.5971 - val_accuracy: 0.7597\n",
            "Epoch 3/10\n",
            "21/21 [==============================] - 0s 5ms/step - loss: 0.5685 - accuracy: 0.7508 - val_loss: 0.5603 - val_accuracy: 0.7922\n",
            "Epoch 4/10\n",
            "21/21 [==============================] - 0s 6ms/step - loss: 0.5408 - accuracy: 0.7443 - val_loss: 0.5365 - val_accuracy: 0.7922\n",
            "Epoch 5/10\n",
            "21/21 [==============================] - 0s 5ms/step - loss: 0.5218 - accuracy: 0.7476 - val_loss: 0.5177 - val_accuracy: 0.8052\n",
            "Epoch 6/10\n",
            "21/21 [==============================] - 0s 6ms/step - loss: 0.5074 - accuracy: 0.7459 - val_loss: 0.5065 - val_accuracy: 0.7922\n",
            "Epoch 7/10\n",
            "21/21 [==============================] - 0s 4ms/step - loss: 0.4974 - accuracy: 0.7541 - val_loss: 0.4955 - val_accuracy: 0.7857\n",
            "Epoch 8/10\n",
            "21/21 [==============================] - 0s 6ms/step - loss: 0.4881 - accuracy: 0.7622 - val_loss: 0.4876 - val_accuracy: 0.7857\n",
            "Epoch 9/10\n",
            "21/21 [==============================] - 0s 5ms/step - loss: 0.4813 - accuracy: 0.7638 - val_loss: 0.4828 - val_accuracy: 0.7857\n",
            "Epoch 10/10\n",
            "21/21 [==============================] - 0s 5ms/step - loss: 0.4772 - accuracy: 0.7655 - val_loss: 0.4777 - val_accuracy: 0.7792\n"
          ]
        }
      ]
    },
    {
      "cell_type": "code",
      "source": [
        "import matplotlib.pyplot as plt\n",
        "\n",
        "plt.plot(history.history['loss'], label='train')\n",
        "plt.plot(history.history['val_loss'], label='test')\n",
        "plt.legend()\n",
        "plt.show()"
      ],
      "metadata": {
        "colab": {
          "base_uri": "https://localhost:8080/",
          "height": 265
        },
        "id": "rY9fmf-f_t0O",
        "outputId": "5aebc002-b80c-4034-ff94-892f182478e4"
      },
      "execution_count": null,
      "outputs": [
        {
          "output_type": "display_data",
          "data": {
            "text/plain": [
              "<Figure size 432x288 with 1 Axes>"
            ],
            "image/png": "[encoded data removed]"
          },
          "metadata": {
            "needs_background": "light"
          }
        }
      ]
    },
    {
      "cell_type": "code",
      "source": [
        "plt.plot(history.history['accuracy'],color='red',label='train')\n",
        "plt.plot(history.history['val_accuracy'],color='blue',label='validation')\n",
        "plt.legend()\n",
        "plt.show()"
      ],
      "metadata": {
        "colab": {
          "base_uri": "https://localhost:8080/",
          "height": 265
        },
        "id": "TaG5wt16AX0X",
        "outputId": "dc3067c3-1208-4ba3-e20d-0c5f758d3115"
      },
      "execution_count": null,
      "outputs": [
        {
          "output_type": "display_data",
          "data": {
            "text/plain": [
              "<Figure size 432x288 with 1 Axes>"
            ],
            "image/png": "[encoded data removed]"
          },
          "metadata": {
            "needs_background": "light"
          }
        }
      ]
    },
    {
      "cell_type": "code",
      "source": [
        "# how to select appropraite optimizer\n",
        "# how to choose no. of nodes in layer\n",
        "# how to select number of hidden layers\n",
        "# Making all in all model selecting all above parameters right"
      ],
      "metadata": {
        "id": "E_6ze6B-AvR7"
      },
      "execution_count": null,
      "outputs": []
    },
    {
      "cell_type": "code",
      "source": [
        "pip install -U keras-tuner"
      ],
      "metadata": {
        "colab": {
          "base_uri": "https://localhost:8080/"
        },
        "id": "4_M6R_tJBglW",
        "outputId": "956fb25e-db8f-447a-d8e9-868c6e06fe9b"
      },
      "execution_count": null,
      "outputs": [
        {
          "output_type": "stream",
          "name": "stdout",
          "text": [
            "Looking in indexes: https://pypi.org/simple, https://us-python.pkg.dev/colab-wheels/public/simple/\n",
            "Requirement already satisfied: keras-tuner in /usr/local/lib/python3.8/dist-packages (1.1.3)\n",
            "Requirement already satisfied: kt-legacy in /usr/local/lib/python3.8/dist-packages (from keras-tuner) (1.0.4)\n",
            "Requirement already satisfied: packaging in /usr/local/lib/python3.8/dist-packages (from keras-tuner) (21.3)\n",
            "Requirement already satisfied: tensorboard in /usr/local/lib/python3.8/dist-packages (from keras-tuner) (2.9.1)\n",
            "Requirement already satisfied: requests in /usr/local/lib/python3.8/dist-packages (from keras-tuner) (2.23.0)\n",
            "Requirement already satisfied: ipython in /usr/local/lib/python3.8/dist-packages (from keras-tuner) (7.9.0)\n",
            "Requirement already satisfied: numpy in /usr/local/lib/python3.8/dist-packages (from keras-tuner) (1.21.6)\n",
            "Requirement already satisfied: setuptools>=18.5 in /usr/local/lib/python3.8/dist-packages (from ipython->keras-tuner) (57.4.0)\n",
            "Requirement already satisfied: jedi>=0.10 in /usr/local/lib/python3.8/dist-packages (from ipython->keras-tuner) (0.18.2)\n",
            "Requirement already satisfied: pickleshare in /usr/local/lib/python3.8/dist-packages (from ipython->keras-tuner) (0.7.5)\n",
            "Requirement already satisfied: pygments in /usr/local/lib/python3.8/dist-packages (from ipython->keras-tuner) (2.6.1)\n",
            "Requirement already satisfied: traitlets>=4.2 in /usr/local/lib/python3.8/dist-packages (from ipython->keras-tuner) (5.7.1)\n",
            "Requirement already satisfied: prompt-toolkit<2.1.0,>=2.0.0 in /usr/local/lib/python3.8/dist-packages (from ipython->keras-tuner) (2.0.10)\n",
            "Requirement already satisfied: pexpect in /usr/local/lib/python3.8/dist-packages (from ipython->keras-tuner) (4.8.0)\n",
            "Requirement already satisfied: decorator in /usr/local/lib/python3.8/dist-packages (from ipython->keras-tuner) (4.4.2)\n",
            "Requirement already satisfied: backcall in /usr/local/lib/python3.8/dist-packages (from ipython->keras-tuner) (0.2.0)\n",
            "Requirement already satisfied: parso<0.9.0,>=0.8.0 in /usr/local/lib/python3.8/dist-packages (from jedi>=0.10->ipython->keras-tuner) (0.8.3)\n",
            "Requirement already satisfied: wcwidth in /usr/local/lib/python3.8/dist-packages (from prompt-toolkit<2.1.0,>=2.0.0->ipython->keras-tuner) (0.2.5)\n",
            "Requirement already satisfied: six>=1.9.0 in /usr/local/lib/python3.8/dist-packages (from prompt-toolkit<2.1.0,>=2.0.0->ipython->keras-tuner) (1.15.0)\n",
            "Requirement already satisfied: pyparsing!=3.0.5,>=2.0.2 in /usr/local/lib/python3.8/dist-packages (from packaging->keras-tuner) (3.0.9)\n",
            "Requirement already satisfied: ptyprocess>=0.5 in /usr/local/lib/python3.8/dist-packages (from pexpect->ipython->keras-tuner) (0.7.0)\n",
            "Requirement already satisfied: urllib3!=1.25.0,!=1.25.1,<1.26,>=1.21.1 in /usr/local/lib/python3.8/dist-packages (from requests->keras-tuner) (1.24.3)\n",
            "Requirement already satisfied: idna<3,>=2.5 in /usr/local/lib/python3.8/dist-packages (from requests->keras-tuner) (2.10)\n",
            "Requirement already satisfied: certifi>=2017.4.17 in /usr/local/lib/python3.8/dist-packages (from requests->keras-tuner) (2022.12.7)\n",
            "Requirement already satisfied: chardet<4,>=3.0.2 in /usr/local/lib/python3.8/dist-packages (from requests->keras-tuner) (3.0.4)\n",
            "Requirement already satisfied: markdown>=2.6.8 in /usr/local/lib/python3.8/dist-packages (from tensorboard->keras-tuner) (3.4.1)\n",
            "Requirement already satisfied: protobuf<3.20,>=3.9.2 in /usr/local/lib/python3.8/dist-packages (from tensorboard->keras-tuner) (3.19.6)\n",
            "Requirement already satisfied: werkzeug>=1.0.1 in /usr/local/lib/python3.8/dist-packages (from tensorboard->keras-tuner) (1.0.1)\n",
            "Requirement already satisfied: google-auth-oauthlib<0.5,>=0.4.1 in /usr/local/lib/python3.8/dist-packages (from tensorboard->keras-tuner) (0.4.6)\n",
            "Requirement already satisfied: google-auth<3,>=1.6.3 in /usr/local/lib/python3.8/dist-packages (from tensorboard->keras-tuner) (2.15.0)\n",
            "Requirement already satisfied: grpcio>=1.24.3 in /usr/local/lib/python3.8/dist-packages (from tensorboard->keras-tuner) (1.51.1)\n",
            "Requirement already satisfied: wheel>=0.26 in /usr/local/lib/python3.8/dist-packages (from tensorboard->keras-tuner) (0.38.4)\n",
            "Requirement already satisfied: tensorboard-plugin-wit>=1.6.0 in /usr/local/lib/python3.8/dist-packages (from tensorboard->keras-tuner) (1.8.1)\n",
            "Requirement already satisfied: tensorboard-data-server<0.7.0,>=0.6.0 in /usr/local/lib/python3.8/dist-packages (from tensorboard->keras-tuner) (0.6.1)\n",
            "Requirement already satisfied: absl-py>=0.4 in /usr/local/lib/python3.8/dist-packages (from tensorboard->keras-tuner) (1.3.0)\n",
            "Requirement already satisfied: rsa<5,>=3.1.4 in /usr/local/lib/python3.8/dist-packages (from google-auth<3,>=1.6.3->tensorboard->keras-tuner) (4.9)\n",
            "Requirement already satisfied: pyasn1-modules>=0.2.1 in /usr/local/lib/python3.8/dist-packages (from google-auth<3,>=1.6.3->tensorboard->keras-tuner) (0.2.8)\n",
            "Requirement already satisfied: cachetools<6.0,>=2.0.0 in /usr/local/lib/python3.8/dist-packages (from google-auth<3,>=1.6.3->tensorboard->keras-tuner) (5.2.0)\n",
            "Requirement already satisfied: requests-oauthlib>=0.7.0 in /usr/local/lib/python3.8/dist-packages (from google-auth-oauthlib<0.5,>=0.4.1->tensorboard->keras-tuner) (1.3.1)\n",
            "Requirement already satisfied: importlib-metadata>=4.4 in /usr/local/lib/python3.8/dist-packages (from markdown>=2.6.8->tensorboard->keras-tuner) (5.1.0)\n",
            "Requirement already satisfied: zipp>=0.5 in /usr/local/lib/python3.8/dist-packages (from importlib-metadata>=4.4->markdown>=2.6.8->tensorboard->keras-tuner) (3.11.0)\n",
            "Requirement already satisfied: pyasn1<0.5.0,>=0.4.6 in /usr/local/lib/python3.8/dist-packages (from pyasn1-modules>=0.2.1->google-auth<3,>=1.6.3->tensorboard->keras-tuner) (0.4.8)\n",
            "Requirement already satisfied: oauthlib>=3.0.0 in /usr/local/lib/python3.8/dist-packages (from requests-oauthlib>=0.7.0->google-auth-oauthlib<0.5,>=0.4.1->tensorboard->keras-tuner) (3.2.2)\n"
          ]
        }
      ]
    },
    {
      "cell_type": "code",
      "source": [
        "import kerastuner as kt"
      ],
      "metadata": {
        "colab": {
          "base_uri": "https://localhost:8080/"
        },
        "id": "LBpftp-vB1NV",
        "outputId": "03e5e658-2c1f-4ea9-9a81-c2a16aa3b8e1"
      },
      "execution_count": null,
      "outputs": [
        {
          "output_type": "stream",
          "name": "stderr",
          "text": [
            "<ipython-input-17-5fd8096cdee5>:1: DeprecationWarning: `import kerastuner` is deprecated, please use `import keras_tuner`.\n",
            "  import kerastuner as kt\n"
          ]
        }
      ]
    },
    {
      "cell_type": "code",
      "source": [
        "# How to select appropriate optimizer\n",
        "\n",
        "def build_model(hp):  # hp is object\n",
        "  model = Sequential()\n",
        "  model.add(Dense(32,activation='relu',input_dim=8))\n",
        "  model.add(Dense(1,activation='sigmoid'))\n",
        "\n",
        "  optimizer = hp.Choice('optimizer',values = ['adam','rmsprop','sgd','adadelta'])\n",
        "  model.compile(optimizer = optimizer,loss = 'binary_crossentropy',metrics=['accuracy'])\n",
        "  return model\n"
      ],
      "metadata": {
        "id": "RmD2RWI5B5VV"
      },
      "execution_count": null,
      "outputs": []
    },
    {
      "cell_type": "code",
      "source": [
        "tuner = kt.RandomSearch(build_model, objective = 'val_accuracy',max_trials = 5) # Make tuner object"
      ],
      "metadata": {
        "id": "k6mE5EEHED2T"
      },
      "execution_count": null,
      "outputs": []
    },
    {
      "cell_type": "code",
      "source": [
        "tuner.search(X_train,y_train,epochs=5, validation_data = (X_test,y_test))"
      ],
      "metadata": {
        "id": "dVGD13G1FHE3"
      },
      "execution_count": null,
      "outputs": []
    },
    {
      "cell_type": "code",
      "source": [
        "tuner.get_best_hyperparameters()[0].values"
      ],
      "metadata": {
        "colab": {
          "base_uri": "https://localhost:8080/"
        },
        "id": "bOD3RnLfFcuh",
        "outputId": "20f24a28-71d1-458d-9c19-04a1f77d6fb5"
      },
      "execution_count": null,
      "outputs": [
        {
          "output_type": "execute_result",
          "data": {
            "text/plain": [
              "{'optimizer': 'adam'}"
            ]
          },
          "metadata": {},
          "execution_count": 21
        }
      ]
    },
    {
      "cell_type": "code",
      "source": [
        "model = tuner.get_best_models(num_models=1)[0]"
      ],
      "metadata": {
        "id": "DEdpOY3UGhCO"
      },
      "execution_count": null,
      "outputs": []
    },
    {
      "cell_type": "code",
      "source": [
        "model.summary()"
      ],
      "metadata": {
        "colab": {
          "base_uri": "https://localhost:8080/"
        },
        "id": "zXoTzz_jHJJo",
        "outputId": "d4ed1fd2-e1be-44d2-e570-c7b8d002d12c"
      },
      "execution_count": null,
      "outputs": [
        {
          "output_type": "stream",
          "name": "stdout",
          "text": [
            "Model: \"sequential\"\n",
            "_________________________________________________________________\n",
            " Layer (type)                Output Shape              Param #   \n",
            "=================================================================\n",
            " dense (Dense)               (None, 32)                288       \n",
            "                                                                 \n",
            " dense_1 (Dense)             (None, 1)                 33        \n",
            "                                                                 \n",
            "=================================================================\n",
            "Total params: 321\n",
            "Trainable params: 321\n",
            "Non-trainable params: 0\n",
            "_________________________________________________________________\n"
          ]
        }
      ]
    },
    {
      "cell_type": "code",
      "source": [
        "model.fit(X_train,y_train,epochs=100,initial_epoch=6,validation_data=(X_test,y_test))"
      ],
      "metadata": {
        "colab": {
          "base_uri": "https://localhost:8080/"
        },
        "id": "hXG-XI6kHK-G",
        "outputId": "a8f60258-f982-42c6-b3c5-49e85577225c"
      },
      "execution_count": null,
      "outputs": [
        {
          "output_type": "stream",
          "name": "stdout",
          "text": [
            "Epoch 7/100\n",
            "20/20 [==============================] - 1s 14ms/step - loss: 0.5710 - accuracy: 0.7329 - val_loss: 0.5546 - val_accuracy: 0.7857\n",
            "Epoch 8/100\n",
            "20/20 [==============================] - 0s 4ms/step - loss: 0.5470 - accuracy: 0.7557 - val_loss: 0.5350 - val_accuracy: 0.7922\n",
            "Epoch 9/100\n",
            "20/20 [==============================] - 0s 6ms/step - loss: 0.5284 - accuracy: 0.7557 - val_loss: 0.5221 - val_accuracy: 0.7922\n",
            "Epoch 10/100\n",
            "20/20 [==============================] - 0s 4ms/step - loss: 0.5134 - accuracy: 0.7606 - val_loss: 0.5126 - val_accuracy: 0.7922\n",
            "Epoch 11/100\n",
            "20/20 [==============================] - 0s 5ms/step - loss: 0.5013 - accuracy: 0.7655 - val_loss: 0.5033 - val_accuracy: 0.7857\n",
            "Epoch 12/100\n",
            "20/20 [==============================] - 0s 14ms/step - loss: 0.4913 - accuracy: 0.7704 - val_loss: 0.4961 - val_accuracy: 0.7987\n",
            "Epoch 13/100\n",
            "20/20 [==============================] - 0s 10ms/step - loss: 0.4829 - accuracy: 0.7736 - val_loss: 0.4903 - val_accuracy: 0.7987\n",
            "Epoch 14/100\n",
            "20/20 [==============================] - 0s 5ms/step - loss: 0.4771 - accuracy: 0.7785 - val_loss: 0.4860 - val_accuracy: 0.8052\n",
            "Epoch 15/100\n",
            "20/20 [==============================] - 0s 5ms/step - loss: 0.4716 - accuracy: 0.7769 - val_loss: 0.4836 - val_accuracy: 0.7857\n",
            "Epoch 16/100\n",
            "20/20 [==============================] - 0s 5ms/step - loss: 0.4670 - accuracy: 0.7769 - val_loss: 0.4811 - val_accuracy: 0.7857\n",
            "Epoch 17/100\n",
            "20/20 [==============================] - 0s 5ms/step - loss: 0.4635 - accuracy: 0.7801 - val_loss: 0.4798 - val_accuracy: 0.7857\n",
            "Epoch 18/100\n",
            "20/20 [==============================] - 0s 5ms/step - loss: 0.4606 - accuracy: 0.7785 - val_loss: 0.4780 - val_accuracy: 0.7792\n",
            "Epoch 19/100\n",
            "20/20 [==============================] - 0s 6ms/step - loss: 0.4583 - accuracy: 0.7785 - val_loss: 0.4766 - val_accuracy: 0.7857\n",
            "Epoch 20/100\n",
            "20/20 [==============================] - 0s 6ms/step - loss: 0.4561 - accuracy: 0.7785 - val_loss: 0.4763 - val_accuracy: 0.7857\n",
            "Epoch 21/100\n",
            "20/20 [==============================] - 0s 6ms/step - loss: 0.4548 - accuracy: 0.7785 - val_loss: 0.4750 - val_accuracy: 0.7922\n",
            "Epoch 22/100\n",
            "20/20 [==============================] - 0s 6ms/step - loss: 0.4529 - accuracy: 0.7752 - val_loss: 0.4762 - val_accuracy: 0.7922\n",
            "Epoch 23/100\n",
            "20/20 [==============================] - 0s 5ms/step - loss: 0.4518 - accuracy: 0.7769 - val_loss: 0.4763 - val_accuracy: 0.7987\n",
            "Epoch 24/100\n",
            "20/20 [==============================] - 0s 5ms/step - loss: 0.4505 - accuracy: 0.7801 - val_loss: 0.4753 - val_accuracy: 0.7987\n",
            "Epoch 25/100\n",
            "20/20 [==============================] - 0s 6ms/step - loss: 0.4496 - accuracy: 0.7785 - val_loss: 0.4745 - val_accuracy: 0.8052\n",
            "Epoch 26/100\n",
            "20/20 [==============================] - 0s 6ms/step - loss: 0.4487 - accuracy: 0.7801 - val_loss: 0.4755 - val_accuracy: 0.8052\n",
            "Epoch 27/100\n",
            "20/20 [==============================] - 0s 5ms/step - loss: 0.4478 - accuracy: 0.7801 - val_loss: 0.4755 - val_accuracy: 0.8117\n",
            "Epoch 28/100\n",
            "20/20 [==============================] - 0s 5ms/step - loss: 0.4474 - accuracy: 0.7752 - val_loss: 0.4750 - val_accuracy: 0.7987\n",
            "Epoch 29/100\n",
            "20/20 [==============================] - 0s 4ms/step - loss: 0.4462 - accuracy: 0.7769 - val_loss: 0.4766 - val_accuracy: 0.7987\n",
            "Epoch 30/100\n",
            "20/20 [==============================] - 0s 5ms/step - loss: 0.4458 - accuracy: 0.7818 - val_loss: 0.4778 - val_accuracy: 0.7922\n",
            "Epoch 31/100\n",
            "20/20 [==============================] - 0s 5ms/step - loss: 0.4453 - accuracy: 0.7818 - val_loss: 0.4781 - val_accuracy: 0.7922\n",
            "Epoch 32/100\n",
            "20/20 [==============================] - 0s 4ms/step - loss: 0.4443 - accuracy: 0.7801 - val_loss: 0.4762 - val_accuracy: 0.7922\n",
            "Epoch 33/100\n",
            "20/20 [==============================] - 0s 5ms/step - loss: 0.4442 - accuracy: 0.7785 - val_loss: 0.4744 - val_accuracy: 0.7922\n",
            "Epoch 34/100\n",
            "20/20 [==============================] - 0s 5ms/step - loss: 0.4432 - accuracy: 0.7769 - val_loss: 0.4766 - val_accuracy: 0.7987\n",
            "Epoch 35/100\n",
            "20/20 [==============================] - 0s 5ms/step - loss: 0.4425 - accuracy: 0.7752 - val_loss: 0.4762 - val_accuracy: 0.7987\n",
            "Epoch 36/100\n",
            "20/20 [==============================] - 0s 5ms/step - loss: 0.4415 - accuracy: 0.7801 - val_loss: 0.4750 - val_accuracy: 0.7922\n",
            "Epoch 37/100\n",
            "20/20 [==============================] - 0s 5ms/step - loss: 0.4414 - accuracy: 0.7785 - val_loss: 0.4750 - val_accuracy: 0.7922\n",
            "Epoch 38/100\n",
            "20/20 [==============================] - 0s 6ms/step - loss: 0.4409 - accuracy: 0.7801 - val_loss: 0.4743 - val_accuracy: 0.7922\n",
            "Epoch 39/100\n",
            "20/20 [==============================] - 0s 4ms/step - loss: 0.4402 - accuracy: 0.7883 - val_loss: 0.4752 - val_accuracy: 0.8052\n",
            "Epoch 40/100\n",
            "20/20 [==============================] - 0s 4ms/step - loss: 0.4401 - accuracy: 0.7834 - val_loss: 0.4761 - val_accuracy: 0.7987\n",
            "Epoch 41/100\n",
            "20/20 [==============================] - 0s 6ms/step - loss: 0.4390 - accuracy: 0.7866 - val_loss: 0.4749 - val_accuracy: 0.7987\n",
            "Epoch 42/100\n",
            "20/20 [==============================] - 0s 6ms/step - loss: 0.4385 - accuracy: 0.7850 - val_loss: 0.4728 - val_accuracy: 0.7922\n",
            "Epoch 43/100\n",
            "20/20 [==============================] - 0s 4ms/step - loss: 0.4383 - accuracy: 0.7866 - val_loss: 0.4723 - val_accuracy: 0.8052\n",
            "Epoch 44/100\n",
            "20/20 [==============================] - 0s 5ms/step - loss: 0.4384 - accuracy: 0.7866 - val_loss: 0.4707 - val_accuracy: 0.8052\n",
            "Epoch 45/100\n",
            "20/20 [==============================] - 0s 9ms/step - loss: 0.4382 - accuracy: 0.7850 - val_loss: 0.4703 - val_accuracy: 0.7987\n",
            "Epoch 46/100\n",
            "20/20 [==============================] - 0s 8ms/step - loss: 0.4370 - accuracy: 0.7850 - val_loss: 0.4714 - val_accuracy: 0.7987\n",
            "Epoch 47/100\n",
            "20/20 [==============================] - 0s 5ms/step - loss: 0.4361 - accuracy: 0.7915 - val_loss: 0.4712 - val_accuracy: 0.7987\n",
            "Epoch 48/100\n",
            "20/20 [==============================] - 0s 6ms/step - loss: 0.4356 - accuracy: 0.7915 - val_loss: 0.4715 - val_accuracy: 0.7987\n",
            "Epoch 49/100\n",
            "20/20 [==============================] - 0s 5ms/step - loss: 0.4354 - accuracy: 0.7850 - val_loss: 0.4719 - val_accuracy: 0.8052\n",
            "Epoch 50/100\n",
            "20/20 [==============================] - 0s 5ms/step - loss: 0.4352 - accuracy: 0.7850 - val_loss: 0.4714 - val_accuracy: 0.7987\n",
            "Epoch 51/100\n",
            "20/20 [==============================] - 0s 5ms/step - loss: 0.4344 - accuracy: 0.7899 - val_loss: 0.4714 - val_accuracy: 0.7987\n",
            "Epoch 52/100\n",
            "20/20 [==============================] - 0s 5ms/step - loss: 0.4338 - accuracy: 0.7883 - val_loss: 0.4720 - val_accuracy: 0.7987\n",
            "Epoch 53/100\n",
            "20/20 [==============================] - 0s 4ms/step - loss: 0.4330 - accuracy: 0.7866 - val_loss: 0.4723 - val_accuracy: 0.8052\n",
            "Epoch 54/100\n",
            "20/20 [==============================] - 0s 6ms/step - loss: 0.4327 - accuracy: 0.7932 - val_loss: 0.4732 - val_accuracy: 0.8052\n",
            "Epoch 55/100\n",
            "20/20 [==============================] - 0s 6ms/step - loss: 0.4323 - accuracy: 0.7964 - val_loss: 0.4698 - val_accuracy: 0.7987\n",
            "Epoch 56/100\n",
            "20/20 [==============================] - 0s 5ms/step - loss: 0.4317 - accuracy: 0.7932 - val_loss: 0.4689 - val_accuracy: 0.7987\n",
            "Epoch 57/100\n",
            "20/20 [==============================] - 0s 5ms/step - loss: 0.4319 - accuracy: 0.7915 - val_loss: 0.4692 - val_accuracy: 0.7987\n",
            "Epoch 58/100\n",
            "20/20 [==============================] - 0s 5ms/step - loss: 0.4310 - accuracy: 0.7899 - val_loss: 0.4703 - val_accuracy: 0.7987\n",
            "Epoch 59/100\n",
            "20/20 [==============================] - 0s 5ms/step - loss: 0.4307 - accuracy: 0.7948 - val_loss: 0.4717 - val_accuracy: 0.7987\n",
            "Epoch 60/100\n",
            "20/20 [==============================] - 0s 5ms/step - loss: 0.4304 - accuracy: 0.7932 - val_loss: 0.4714 - val_accuracy: 0.8052\n",
            "Epoch 61/100\n",
            "20/20 [==============================] - 0s 5ms/step - loss: 0.4301 - accuracy: 0.7932 - val_loss: 0.4698 - val_accuracy: 0.8052\n",
            "Epoch 62/100\n",
            "20/20 [==============================] - 0s 5ms/step - loss: 0.4291 - accuracy: 0.7997 - val_loss: 0.4722 - val_accuracy: 0.7987\n",
            "Epoch 63/100\n",
            "20/20 [==============================] - 0s 5ms/step - loss: 0.4291 - accuracy: 0.7997 - val_loss: 0.4724 - val_accuracy: 0.7987\n",
            "Epoch 64/100\n",
            "20/20 [==============================] - 0s 5ms/step - loss: 0.4287 - accuracy: 0.7964 - val_loss: 0.4722 - val_accuracy: 0.8052\n",
            "Epoch 65/100\n",
            "20/20 [==============================] - 0s 4ms/step - loss: 0.4283 - accuracy: 0.7964 - val_loss: 0.4700 - val_accuracy: 0.8052\n",
            "Epoch 66/100\n",
            "20/20 [==============================] - 0s 4ms/step - loss: 0.4280 - accuracy: 0.7948 - val_loss: 0.4691 - val_accuracy: 0.8052\n",
            "Epoch 67/100\n",
            "20/20 [==============================] - 0s 5ms/step - loss: 0.4274 - accuracy: 0.7932 - val_loss: 0.4684 - val_accuracy: 0.8052\n",
            "Epoch 68/100\n",
            "20/20 [==============================] - 0s 4ms/step - loss: 0.4272 - accuracy: 0.7915 - val_loss: 0.4689 - val_accuracy: 0.8052\n",
            "Epoch 69/100\n",
            "20/20 [==============================] - 0s 5ms/step - loss: 0.4268 - accuracy: 0.7964 - val_loss: 0.4669 - val_accuracy: 0.8052\n",
            "Epoch 70/100\n",
            "20/20 [==============================] - 0s 6ms/step - loss: 0.4263 - accuracy: 0.7899 - val_loss: 0.4652 - val_accuracy: 0.7987\n",
            "Epoch 71/100\n",
            "20/20 [==============================] - 0s 4ms/step - loss: 0.4261 - accuracy: 0.7899 - val_loss: 0.4659 - val_accuracy: 0.7987\n",
            "Epoch 72/100\n",
            "20/20 [==============================] - 0s 5ms/step - loss: 0.4255 - accuracy: 0.7915 - val_loss: 0.4664 - val_accuracy: 0.8052\n",
            "Epoch 73/100\n",
            "20/20 [==============================] - 0s 5ms/step - loss: 0.4255 - accuracy: 0.7948 - val_loss: 0.4677 - val_accuracy: 0.8052\n",
            "Epoch 74/100\n",
            "20/20 [==============================] - 0s 5ms/step - loss: 0.4256 - accuracy: 0.7964 - val_loss: 0.4661 - val_accuracy: 0.8117\n",
            "Epoch 75/100\n",
            "20/20 [==============================] - 0s 6ms/step - loss: 0.4246 - accuracy: 0.7932 - val_loss: 0.4669 - val_accuracy: 0.8052\n",
            "Epoch 76/100\n",
            "20/20 [==============================] - 0s 5ms/step - loss: 0.4240 - accuracy: 0.7948 - val_loss: 0.4675 - val_accuracy: 0.7987\n",
            "Epoch 77/100\n",
            "20/20 [==============================] - 0s 5ms/step - loss: 0.4240 - accuracy: 0.7948 - val_loss: 0.4662 - val_accuracy: 0.8052\n",
            "Epoch 78/100\n",
            "20/20 [==============================] - 0s 6ms/step - loss: 0.4240 - accuracy: 0.7980 - val_loss: 0.4657 - val_accuracy: 0.7987\n",
            "Epoch 79/100\n",
            "20/20 [==============================] - 0s 5ms/step - loss: 0.4240 - accuracy: 0.7932 - val_loss: 0.4659 - val_accuracy: 0.7922\n",
            "Epoch 80/100\n",
            "20/20 [==============================] - 0s 5ms/step - loss: 0.4232 - accuracy: 0.7932 - val_loss: 0.4669 - val_accuracy: 0.7922\n",
            "Epoch 81/100\n",
            "20/20 [==============================] - 0s 5ms/step - loss: 0.4227 - accuracy: 0.7932 - val_loss: 0.4661 - val_accuracy: 0.7987\n",
            "Epoch 82/100\n",
            "20/20 [==============================] - 0s 5ms/step - loss: 0.4221 - accuracy: 0.7980 - val_loss: 0.4683 - val_accuracy: 0.7922\n",
            "Epoch 83/100\n",
            "20/20 [==============================] - 0s 6ms/step - loss: 0.4218 - accuracy: 0.7964 - val_loss: 0.4675 - val_accuracy: 0.7922\n",
            "Epoch 84/100\n",
            "20/20 [==============================] - 0s 5ms/step - loss: 0.4220 - accuracy: 0.8029 - val_loss: 0.4689 - val_accuracy: 0.7922\n",
            "Epoch 85/100\n",
            "20/20 [==============================] - 0s 4ms/step - loss: 0.4218 - accuracy: 0.8013 - val_loss: 0.4686 - val_accuracy: 0.8052\n",
            "Epoch 86/100\n",
            "20/20 [==============================] - 0s 4ms/step - loss: 0.4207 - accuracy: 0.8013 - val_loss: 0.4664 - val_accuracy: 0.8117\n",
            "Epoch 87/100\n",
            "20/20 [==============================] - 0s 6ms/step - loss: 0.4206 - accuracy: 0.8013 - val_loss: 0.4667 - val_accuracy: 0.7987\n",
            "Epoch 88/100\n",
            "20/20 [==============================] - 0s 5ms/step - loss: 0.4203 - accuracy: 0.8029 - val_loss: 0.4665 - val_accuracy: 0.7987\n",
            "Epoch 89/100\n",
            "20/20 [==============================] - 0s 6ms/step - loss: 0.4200 - accuracy: 0.7997 - val_loss: 0.4678 - val_accuracy: 0.7987\n",
            "Epoch 90/100\n",
            "20/20 [==============================] - 0s 7ms/step - loss: 0.4200 - accuracy: 0.7980 - val_loss: 0.4677 - val_accuracy: 0.7987\n",
            "Epoch 91/100\n",
            "20/20 [==============================] - 0s 6ms/step - loss: 0.4192 - accuracy: 0.7980 - val_loss: 0.4669 - val_accuracy: 0.8052\n",
            "Epoch 92/100\n",
            "20/20 [==============================] - 0s 13ms/step - loss: 0.4193 - accuracy: 0.7980 - val_loss: 0.4671 - val_accuracy: 0.7922\n",
            "Epoch 93/100\n",
            "20/20 [==============================] - 0s 10ms/step - loss: 0.4185 - accuracy: 0.7997 - val_loss: 0.4666 - val_accuracy: 0.7987\n",
            "Epoch 94/100\n",
            "20/20 [==============================] - 0s 8ms/step - loss: 0.4188 - accuracy: 0.7980 - val_loss: 0.4663 - val_accuracy: 0.7987\n",
            "Epoch 95/100\n",
            "20/20 [==============================] - 0s 8ms/step - loss: 0.4179 - accuracy: 0.7997 - val_loss: 0.4657 - val_accuracy: 0.7987\n",
            "Epoch 96/100\n",
            "20/20 [==============================] - 0s 9ms/step - loss: 0.4182 - accuracy: 0.7997 - val_loss: 0.4650 - val_accuracy: 0.8052\n",
            "Epoch 97/100\n",
            "20/20 [==============================] - 0s 10ms/step - loss: 0.4182 - accuracy: 0.7980 - val_loss: 0.4644 - val_accuracy: 0.8117\n",
            "Epoch 98/100\n",
            "20/20 [==============================] - 0s 8ms/step - loss: 0.4169 - accuracy: 0.7997 - val_loss: 0.4650 - val_accuracy: 0.7987\n",
            "Epoch 99/100\n",
            "20/20 [==============================] - 0s 12ms/step - loss: 0.4171 - accuracy: 0.7964 - val_loss: 0.4647 - val_accuracy: 0.7922\n",
            "Epoch 100/100\n",
            "20/20 [==============================] - 0s 7ms/step - loss: 0.4165 - accuracy: 0.8029 - val_loss: 0.4651 - val_accuracy: 0.7922\n"
          ]
        },
        {
          "output_type": "execute_result",
          "data": {
            "text/plain": [
              "<keras.callbacks.History at 0x7f8a95e1f460>"
            ]
          },
          "metadata": {},
          "execution_count": 24
        }
      ]
    },
    {
      "cell_type": "code",
      "source": [
        "# To choose right number of neurons in layer\n",
        "\n",
        "def build_model(hp):  # hp is object\n",
        "  model = Sequential()\n",
        "  units = hp.Int('units',min_value = 8,max_value = 128) #OR units = hp.Int('units',min_value = 8,max_value = 128,step=8)\n",
        "  model.add(Dense(units=units,activation='relu',input_dim=8))\n",
        "  model.add(Dense(1,activation='sigmoid'))\n",
        "\n",
        "  \n",
        "  model.compile(optimizer ='rmsprop',loss = 'binary_crossentropy',metrics=['accuracy'])\n",
        "  return model\n"
      ],
      "metadata": {
        "id": "TGuXJp0GHuUj"
      },
      "execution_count": null,
      "outputs": []
    },
    {
      "cell_type": "code",
      "source": [
        "tuner = kt.RandomSearch(build_model, objective = 'val_accuracy',max_trials = 5,directory='mydir',project_name='Project1') # Make tuner object"
      ],
      "metadata": {
        "id": "UXsbvaZaeRdF"
      },
      "execution_count": null,
      "outputs": []
    },
    {
      "cell_type": "code",
      "source": [
        "tuner.search(X_train,y_train,epochs=5, validation_data = (X_test,y_test))"
      ],
      "metadata": {
        "id": "hb2rz-tleZfc"
      },
      "execution_count": null,
      "outputs": []
    },
    {
      "cell_type": "code",
      "source": [
        "tuner.get_best_hyperparameters()[0].values"
      ],
      "metadata": {
        "colab": {
          "base_uri": "https://localhost:8080/"
        },
        "id": "fy1j9JlVfxix",
        "outputId": "7106920e-33b0-496d-d656-b53fadd6f9e3"
      },
      "execution_count": null,
      "outputs": [
        {
          "output_type": "execute_result",
          "data": {
            "text/plain": [
              "{'units': 96}"
            ]
          },
          "metadata": {},
          "execution_count": 28
        }
      ]
    },
    {
      "cell_type": "code",
      "source": [
        "model = tuner.get_best_models(num_models=1)[0]"
      ],
      "metadata": {
        "id": "hM_ZGR80gA1_"
      },
      "execution_count": null,
      "outputs": []
    },
    {
      "cell_type": "code",
      "source": [
        "model.fit(X_train,y_train,batch_size = 30,epochs=100,initial_epoch=6,validation_data=(X_test,y_test))"
      ],
      "metadata": {
        "colab": {
          "base_uri": "https://localhost:8080/"
        },
        "id": "5EsN4VBlkS4_",
        "outputId": "ffe3387f-a28e-4b25-9984-8092eece3f21"
      },
      "execution_count": null,
      "outputs": [
        {
          "output_type": "stream",
          "name": "stdout",
          "text": [
            "Epoch 7/100\n",
            "21/21 [==============================] - 1s 18ms/step - loss: 0.5367 - accuracy: 0.7443 - val_loss: 0.5125 - val_accuracy: 0.7922\n",
            "Epoch 8/100\n",
            "21/21 [==============================] - 0s 6ms/step - loss: 0.5098 - accuracy: 0.7541 - val_loss: 0.4902 - val_accuracy: 0.7922\n",
            "Epoch 9/100\n",
            "21/21 [==============================] - 0s 6ms/step - loss: 0.4919 - accuracy: 0.7720 - val_loss: 0.4779 - val_accuracy: 0.7857\n",
            "Epoch 10/100\n",
            "21/21 [==============================] - 0s 5ms/step - loss: 0.4796 - accuracy: 0.7818 - val_loss: 0.4696 - val_accuracy: 0.7987\n",
            "Epoch 11/100\n",
            "21/21 [==============================] - 0s 5ms/step - loss: 0.4710 - accuracy: 0.7834 - val_loss: 0.4628 - val_accuracy: 0.7987\n",
            "Epoch 12/100\n",
            "21/21 [==============================] - 0s 7ms/step - loss: 0.4652 - accuracy: 0.7752 - val_loss: 0.4605 - val_accuracy: 0.7987\n",
            "Epoch 13/100\n",
            "21/21 [==============================] - 0s 6ms/step - loss: 0.4610 - accuracy: 0.7850 - val_loss: 0.4592 - val_accuracy: 0.7987\n",
            "Epoch 14/100\n",
            "21/21 [==============================] - 0s 6ms/step - loss: 0.4570 - accuracy: 0.7769 - val_loss: 0.4590 - val_accuracy: 0.7987\n",
            "Epoch 15/100\n",
            "21/21 [==============================] - 0s 10ms/step - loss: 0.4546 - accuracy: 0.7752 - val_loss: 0.4585 - val_accuracy: 0.7922\n",
            "Epoch 16/100\n",
            "21/21 [==============================] - 0s 11ms/step - loss: 0.4522 - accuracy: 0.7818 - val_loss: 0.4581 - val_accuracy: 0.7922\n",
            "Epoch 17/100\n",
            "21/21 [==============================] - 0s 10ms/step - loss: 0.4508 - accuracy: 0.7801 - val_loss: 0.4569 - val_accuracy: 0.7987\n",
            "Epoch 18/100\n",
            "21/21 [==============================] - 0s 7ms/step - loss: 0.4489 - accuracy: 0.7752 - val_loss: 0.4566 - val_accuracy: 0.7857\n",
            "Epoch 19/100\n",
            "21/21 [==============================] - 0s 7ms/step - loss: 0.4482 - accuracy: 0.7801 - val_loss: 0.4560 - val_accuracy: 0.7987\n",
            "Epoch 20/100\n",
            "21/21 [==============================] - 0s 12ms/step - loss: 0.4468 - accuracy: 0.7687 - val_loss: 0.4556 - val_accuracy: 0.8052\n",
            "Epoch 21/100\n",
            "21/21 [==============================] - 0s 10ms/step - loss: 0.4450 - accuracy: 0.7785 - val_loss: 0.4567 - val_accuracy: 0.7922\n",
            "Epoch 22/100\n",
            "21/21 [==============================] - 0s 11ms/step - loss: 0.4435 - accuracy: 0.7785 - val_loss: 0.4556 - val_accuracy: 0.7987\n",
            "Epoch 23/100\n",
            "21/21 [==============================] - 0s 8ms/step - loss: 0.4421 - accuracy: 0.7818 - val_loss: 0.4560 - val_accuracy: 0.7987\n",
            "Epoch 24/100\n",
            "21/21 [==============================] - 0s 7ms/step - loss: 0.4419 - accuracy: 0.7801 - val_loss: 0.4572 - val_accuracy: 0.8052\n",
            "Epoch 25/100\n",
            "21/21 [==============================] - 0s 7ms/step - loss: 0.4407 - accuracy: 0.7752 - val_loss: 0.4576 - val_accuracy: 0.8052\n",
            "Epoch 26/100\n",
            "21/21 [==============================] - 0s 6ms/step - loss: 0.4394 - accuracy: 0.7785 - val_loss: 0.4587 - val_accuracy: 0.7987\n",
            "Epoch 27/100\n",
            "21/21 [==============================] - 0s 6ms/step - loss: 0.4382 - accuracy: 0.7769 - val_loss: 0.4564 - val_accuracy: 0.7987\n",
            "Epoch 28/100\n",
            "21/21 [==============================] - 0s 9ms/step - loss: 0.4376 - accuracy: 0.7785 - val_loss: 0.4566 - val_accuracy: 0.7987\n",
            "Epoch 29/100\n",
            "21/21 [==============================] - 0s 7ms/step - loss: 0.4369 - accuracy: 0.7736 - val_loss: 0.4573 - val_accuracy: 0.7922\n",
            "Epoch 30/100\n",
            "21/21 [==============================] - 0s 6ms/step - loss: 0.4353 - accuracy: 0.7834 - val_loss: 0.4551 - val_accuracy: 0.7987\n",
            "Epoch 31/100\n",
            "21/21 [==============================] - 0s 7ms/step - loss: 0.4353 - accuracy: 0.7818 - val_loss: 0.4551 - val_accuracy: 0.7922\n",
            "Epoch 32/100\n",
            "21/21 [==============================] - 0s 7ms/step - loss: 0.4342 - accuracy: 0.7834 - val_loss: 0.4540 - val_accuracy: 0.7987\n",
            "Epoch 33/100\n",
            "21/21 [==============================] - 0s 6ms/step - loss: 0.4343 - accuracy: 0.7769 - val_loss: 0.4528 - val_accuracy: 0.7987\n",
            "Epoch 34/100\n",
            "21/21 [==============================] - 0s 10ms/step - loss: 0.4328 - accuracy: 0.7818 - val_loss: 0.4536 - val_accuracy: 0.7987\n",
            "Epoch 35/100\n",
            "21/21 [==============================] - 0s 9ms/step - loss: 0.4316 - accuracy: 0.7834 - val_loss: 0.4555 - val_accuracy: 0.7987\n",
            "Epoch 36/100\n",
            "21/21 [==============================] - 0s 7ms/step - loss: 0.4315 - accuracy: 0.7850 - val_loss: 0.4564 - val_accuracy: 0.7987\n",
            "Epoch 37/100\n",
            "21/21 [==============================] - 0s 8ms/step - loss: 0.4303 - accuracy: 0.7834 - val_loss: 0.4563 - val_accuracy: 0.7987\n",
            "Epoch 38/100\n",
            "21/21 [==============================] - 0s 7ms/step - loss: 0.4295 - accuracy: 0.7866 - val_loss: 0.4575 - val_accuracy: 0.8052\n",
            "Epoch 39/100\n",
            "21/21 [==============================] - 0s 8ms/step - loss: 0.4285 - accuracy: 0.7866 - val_loss: 0.4549 - val_accuracy: 0.7987\n",
            "Epoch 40/100\n",
            "21/21 [==============================] - 0s 9ms/step - loss: 0.4277 - accuracy: 0.7834 - val_loss: 0.4547 - val_accuracy: 0.7987\n",
            "Epoch 41/100\n",
            "21/21 [==============================] - 0s 9ms/step - loss: 0.4271 - accuracy: 0.7899 - val_loss: 0.4543 - val_accuracy: 0.7987\n",
            "Epoch 42/100\n",
            "21/21 [==============================] - 0s 7ms/step - loss: 0.4269 - accuracy: 0.7932 - val_loss: 0.4553 - val_accuracy: 0.7987\n",
            "Epoch 43/100\n",
            "21/21 [==============================] - 0s 6ms/step - loss: 0.4258 - accuracy: 0.7915 - val_loss: 0.4537 - val_accuracy: 0.7987\n",
            "Epoch 44/100\n",
            "21/21 [==============================] - 0s 7ms/step - loss: 0.4255 - accuracy: 0.7932 - val_loss: 0.4546 - val_accuracy: 0.7987\n",
            "Epoch 45/100\n",
            "21/21 [==============================] - 0s 6ms/step - loss: 0.4238 - accuracy: 0.7932 - val_loss: 0.4535 - val_accuracy: 0.7987\n",
            "Epoch 46/100\n",
            "21/21 [==============================] - 0s 7ms/step - loss: 0.4240 - accuracy: 0.7948 - val_loss: 0.4525 - val_accuracy: 0.7987\n",
            "Epoch 47/100\n",
            "21/21 [==============================] - 0s 10ms/step - loss: 0.4226 - accuracy: 0.7915 - val_loss: 0.4529 - val_accuracy: 0.8052\n",
            "Epoch 48/100\n",
            "21/21 [==============================] - 0s 18ms/step - loss: 0.4230 - accuracy: 0.7883 - val_loss: 0.4532 - val_accuracy: 0.8052\n",
            "Epoch 49/100\n",
            "21/21 [==============================] - 0s 13ms/step - loss: 0.4219 - accuracy: 0.7948 - val_loss: 0.4549 - val_accuracy: 0.8052\n",
            "Epoch 50/100\n",
            "21/21 [==============================] - 0s 17ms/step - loss: 0.4212 - accuracy: 0.7964 - val_loss: 0.4533 - val_accuracy: 0.8182\n",
            "Epoch 51/100\n",
            "21/21 [==============================] - 0s 11ms/step - loss: 0.4208 - accuracy: 0.7932 - val_loss: 0.4524 - val_accuracy: 0.8117\n",
            "Epoch 52/100\n",
            "21/21 [==============================] - 0s 9ms/step - loss: 0.4199 - accuracy: 0.7964 - val_loss: 0.4505 - val_accuracy: 0.8182\n",
            "Epoch 53/100\n",
            "21/21 [==============================] - 0s 11ms/step - loss: 0.4195 - accuracy: 0.8013 - val_loss: 0.4529 - val_accuracy: 0.8182\n",
            "Epoch 54/100\n",
            "21/21 [==============================] - 0s 9ms/step - loss: 0.4190 - accuracy: 0.7980 - val_loss: 0.4532 - val_accuracy: 0.8117\n",
            "Epoch 55/100\n",
            "21/21 [==============================] - 0s 10ms/step - loss: 0.4183 - accuracy: 0.7997 - val_loss: 0.4535 - val_accuracy: 0.8117\n",
            "Epoch 56/100\n",
            "21/21 [==============================] - 0s 13ms/step - loss: 0.4174 - accuracy: 0.7980 - val_loss: 0.4544 - val_accuracy: 0.8117\n",
            "Epoch 57/100\n",
            "21/21 [==============================] - 0s 9ms/step - loss: 0.4181 - accuracy: 0.7980 - val_loss: 0.4541 - val_accuracy: 0.8117\n",
            "Epoch 58/100\n",
            "21/21 [==============================] - 0s 9ms/step - loss: 0.4169 - accuracy: 0.7980 - val_loss: 0.4529 - val_accuracy: 0.8247\n",
            "Epoch 59/100\n",
            "21/21 [==============================] - 0s 10ms/step - loss: 0.4166 - accuracy: 0.8013 - val_loss: 0.4533 - val_accuracy: 0.8182\n",
            "Epoch 60/100\n",
            "21/21 [==============================] - 0s 12ms/step - loss: 0.4155 - accuracy: 0.7980 - val_loss: 0.4530 - val_accuracy: 0.8182\n",
            "Epoch 61/100\n",
            "21/21 [==============================] - 0s 10ms/step - loss: 0.4152 - accuracy: 0.8029 - val_loss: 0.4552 - val_accuracy: 0.8182\n",
            "Epoch 62/100\n",
            "21/21 [==============================] - 0s 15ms/step - loss: 0.4144 - accuracy: 0.7964 - val_loss: 0.4547 - val_accuracy: 0.8247\n",
            "Epoch 63/100\n",
            "21/21 [==============================] - 0s 10ms/step - loss: 0.4140 - accuracy: 0.7997 - val_loss: 0.4538 - val_accuracy: 0.8247\n",
            "Epoch 64/100\n",
            "21/21 [==============================] - 0s 7ms/step - loss: 0.4132 - accuracy: 0.8062 - val_loss: 0.4555 - val_accuracy: 0.8117\n",
            "Epoch 65/100\n",
            "21/21 [==============================] - 0s 11ms/step - loss: 0.4123 - accuracy: 0.8029 - val_loss: 0.4531 - val_accuracy: 0.8247\n",
            "Epoch 66/100\n",
            "21/21 [==============================] - 0s 7ms/step - loss: 0.4125 - accuracy: 0.8046 - val_loss: 0.4540 - val_accuracy: 0.8182\n",
            "Epoch 67/100\n",
            "21/21 [==============================] - 0s 7ms/step - loss: 0.4114 - accuracy: 0.8078 - val_loss: 0.4544 - val_accuracy: 0.8247\n",
            "Epoch 68/100\n",
            "21/21 [==============================] - 0s 8ms/step - loss: 0.4112 - accuracy: 0.8013 - val_loss: 0.4554 - val_accuracy: 0.8182\n",
            "Epoch 69/100\n",
            "21/21 [==============================] - 0s 10ms/step - loss: 0.4102 - accuracy: 0.8062 - val_loss: 0.4588 - val_accuracy: 0.8182\n",
            "Epoch 70/100\n",
            "21/21 [==============================] - 0s 11ms/step - loss: 0.4104 - accuracy: 0.8062 - val_loss: 0.4564 - val_accuracy: 0.8247\n",
            "Epoch 71/100\n",
            "21/21 [==============================] - 0s 10ms/step - loss: 0.4098 - accuracy: 0.8078 - val_loss: 0.4557 - val_accuracy: 0.8247\n",
            "Epoch 72/100\n",
            "21/21 [==============================] - 0s 10ms/step - loss: 0.4081 - accuracy: 0.8046 - val_loss: 0.4570 - val_accuracy: 0.8182\n",
            "Epoch 73/100\n",
            "21/21 [==============================] - 0s 12ms/step - loss: 0.4084 - accuracy: 0.8111 - val_loss: 0.4591 - val_accuracy: 0.8182\n",
            "Epoch 74/100\n",
            "21/21 [==============================] - 0s 7ms/step - loss: 0.4080 - accuracy: 0.8029 - val_loss: 0.4576 - val_accuracy: 0.8117\n",
            "Epoch 75/100\n",
            "21/21 [==============================] - 0s 10ms/step - loss: 0.4076 - accuracy: 0.8078 - val_loss: 0.4575 - val_accuracy: 0.8117\n",
            "Epoch 76/100\n",
            "21/21 [==============================] - 0s 11ms/step - loss: 0.4068 - accuracy: 0.8078 - val_loss: 0.4583 - val_accuracy: 0.8117\n",
            "Epoch 77/100\n",
            "21/21 [==============================] - 0s 10ms/step - loss: 0.4071 - accuracy: 0.8046 - val_loss: 0.4584 - val_accuracy: 0.8117\n",
            "Epoch 78/100\n",
            "21/21 [==============================] - 0s 10ms/step - loss: 0.4057 - accuracy: 0.8111 - val_loss: 0.4565 - val_accuracy: 0.8247\n",
            "Epoch 79/100\n",
            "21/21 [==============================] - 0s 11ms/step - loss: 0.4052 - accuracy: 0.8062 - val_loss: 0.4570 - val_accuracy: 0.8117\n",
            "Epoch 80/100\n",
            "21/21 [==============================] - 0s 11ms/step - loss: 0.4048 - accuracy: 0.8127 - val_loss: 0.4575 - val_accuracy: 0.8182\n",
            "Epoch 81/100\n",
            "21/21 [==============================] - 0s 9ms/step - loss: 0.4042 - accuracy: 0.8111 - val_loss: 0.4591 - val_accuracy: 0.8182\n",
            "Epoch 82/100\n",
            "21/21 [==============================] - 0s 9ms/step - loss: 0.4034 - accuracy: 0.8013 - val_loss: 0.4562 - val_accuracy: 0.8182\n",
            "Epoch 83/100\n",
            "21/21 [==============================] - 0s 8ms/step - loss: 0.4036 - accuracy: 0.8225 - val_loss: 0.4587 - val_accuracy: 0.8117\n",
            "Epoch 84/100\n",
            "21/21 [==============================] - 0s 8ms/step - loss: 0.4029 - accuracy: 0.8127 - val_loss: 0.4602 - val_accuracy: 0.8182\n",
            "Epoch 85/100\n",
            "21/21 [==============================] - 0s 7ms/step - loss: 0.4026 - accuracy: 0.8160 - val_loss: 0.4573 - val_accuracy: 0.8182\n",
            "Epoch 86/100\n",
            "21/21 [==============================] - 0s 18ms/step - loss: 0.4022 - accuracy: 0.8111 - val_loss: 0.4570 - val_accuracy: 0.8182\n",
            "Epoch 87/100\n",
            "21/21 [==============================] - 0s 20ms/step - loss: 0.4012 - accuracy: 0.8160 - val_loss: 0.4599 - val_accuracy: 0.8182\n",
            "Epoch 88/100\n",
            "21/21 [==============================] - 0s 13ms/step - loss: 0.4006 - accuracy: 0.8078 - val_loss: 0.4614 - val_accuracy: 0.8052\n",
            "Epoch 89/100\n",
            "21/21 [==============================] - 0s 10ms/step - loss: 0.4010 - accuracy: 0.8094 - val_loss: 0.4597 - val_accuracy: 0.8117\n",
            "Epoch 90/100\n",
            "21/21 [==============================] - 0s 11ms/step - loss: 0.4001 - accuracy: 0.8192 - val_loss: 0.4596 - val_accuracy: 0.8117\n",
            "Epoch 91/100\n",
            "21/21 [==============================] - 0s 13ms/step - loss: 0.3993 - accuracy: 0.8208 - val_loss: 0.4584 - val_accuracy: 0.8117\n",
            "Epoch 92/100\n",
            "21/21 [==============================] - 0s 7ms/step - loss: 0.3995 - accuracy: 0.8176 - val_loss: 0.4586 - val_accuracy: 0.8182\n",
            "Epoch 93/100\n",
            "21/21 [==============================] - 0s 8ms/step - loss: 0.3990 - accuracy: 0.8176 - val_loss: 0.4591 - val_accuracy: 0.8182\n",
            "Epoch 94/100\n",
            "21/21 [==============================] - 0s 9ms/step - loss: 0.3982 - accuracy: 0.8192 - val_loss: 0.4604 - val_accuracy: 0.8182\n",
            "Epoch 95/100\n",
            "21/21 [==============================] - 0s 10ms/step - loss: 0.3972 - accuracy: 0.8192 - val_loss: 0.4572 - val_accuracy: 0.8247\n",
            "Epoch 96/100\n",
            "21/21 [==============================] - 0s 13ms/step - loss: 0.3980 - accuracy: 0.8127 - val_loss: 0.4592 - val_accuracy: 0.8117\n",
            "Epoch 97/100\n",
            "21/21 [==============================] - 0s 10ms/step - loss: 0.3965 - accuracy: 0.8143 - val_loss: 0.4603 - val_accuracy: 0.8182\n",
            "Epoch 98/100\n",
            "21/21 [==============================] - 0s 15ms/step - loss: 0.3967 - accuracy: 0.8208 - val_loss: 0.4602 - val_accuracy: 0.8182\n",
            "Epoch 99/100\n",
            "21/21 [==============================] - 0s 10ms/step - loss: 0.3960 - accuracy: 0.8160 - val_loss: 0.4617 - val_accuracy: 0.8117\n",
            "Epoch 100/100\n",
            "21/21 [==============================] - 0s 16ms/step - loss: 0.3958 - accuracy: 0.8176 - val_loss: 0.4593 - val_accuracy: 0.8117\n"
          ]
        },
        {
          "output_type": "execute_result",
          "data": {
            "text/plain": [
              "<keras.callbacks.History at 0x7f8af5c006a0>"
            ]
          },
          "metadata": {},
          "execution_count": 30
        }
      ]
    },
    {
      "cell_type": "code",
      "source": [
        "# How to select number of hidden layers\n",
        "\n",
        "def build_model(hp):  # hp is object\n",
        "  model = Sequential()\n",
        "  model.add(Dense(72,activation='relu',input_dim=8))\n",
        "\n",
        "  for i in range(hp.Int('num_layers',min_value=1,max_value=10)):\n",
        "    model.add(Dense(72,activation='relu'))\n",
        "    \n",
        "  model.add(Dense(1,activation='sigmoid'))\n",
        "  \n",
        "  model.compile(optimizer='rmsprop',loss='binary_crossentropy',metrics=['accuracy'])\n",
        "\n",
        "  return model"
      ],
      "metadata": {
        "id": "icPXSBVKkreP"
      },
      "execution_count": null,
      "outputs": []
    },
    {
      "cell_type": "code",
      "source": [
        "tuner = kt.RandomSearch(build_model, objective = 'val_accuracy',max_trials = 5,directory='mydir',project_name='Project2') # Make tuner object"
      ],
      "metadata": {
        "id": "Gq0KFE0PogIB"
      },
      "execution_count": null,
      "outputs": []
    },
    {
      "cell_type": "code",
      "source": [
        "tuner.search(X_train,y_train,epochs=5, validation_data = (X_test,y_test))"
      ],
      "metadata": {
        "id": "_j2fdabwoqKE"
      },
      "execution_count": null,
      "outputs": []
    },
    {
      "cell_type": "code",
      "source": [
        "tuner.get_best_hyperparameters()[0].values"
      ],
      "metadata": {
        "colab": {
          "base_uri": "https://localhost:8080/"
        },
        "id": "nxNC12TNpTl9",
        "outputId": "23e32d5c-0a92-4344-b0b0-612633b474ee"
      },
      "execution_count": null,
      "outputs": [
        {
          "output_type": "execute_result",
          "data": {
            "text/plain": [
              "{'num_layers': 9}"
            ]
          },
          "metadata": {},
          "execution_count": 34
        }
      ]
    },
    {
      "cell_type": "code",
      "source": [
        "model = tuner.get_best_models(num_models=1)[0]"
      ],
      "metadata": {
        "id": "JJvt0HCTpY5C"
      },
      "execution_count": null,
      "outputs": []
    },
    {
      "cell_type": "code",
      "source": [
        "model.fit(X_train,y_train,batch_size = 30,epochs=100,initial_epoch=6,validation_data=(X_test,y_test))"
      ],
      "metadata": {
        "colab": {
          "base_uri": "https://localhost:8080/"
        },
        "id": "a2_jYy_UqIhb",
        "outputId": "85061186-a7a8-41b6-b38b-1c6ef16e3ce1"
      },
      "execution_count": null,
      "outputs": [
        {
          "output_type": "stream",
          "name": "stdout",
          "text": [
            "Epoch 7/100\n",
            "21/21 [==============================] - 6s 56ms/step - loss: 0.4620 - accuracy: 0.7704 - val_loss: 0.5158 - val_accuracy: 0.8052\n",
            "Epoch 8/100\n",
            "21/21 [==============================] - 0s 13ms/step - loss: 0.4500 - accuracy: 0.7834 - val_loss: 0.5083 - val_accuracy: 0.8052\n",
            "Epoch 9/100\n",
            "21/21 [==============================] - 0s 13ms/step - loss: 0.4330 - accuracy: 0.7948 - val_loss: 0.5240 - val_accuracy: 0.8117\n",
            "Epoch 10/100\n",
            "21/21 [==============================] - 0s 10ms/step - loss: 0.4140 - accuracy: 0.7915 - val_loss: 0.4959 - val_accuracy: 0.7857\n",
            "Epoch 11/100\n",
            "21/21 [==============================] - 0s 13ms/step - loss: 0.4024 - accuracy: 0.8274 - val_loss: 0.5149 - val_accuracy: 0.7987\n",
            "Epoch 12/100\n",
            "21/21 [==============================] - 0s 18ms/step - loss: 0.3910 - accuracy: 0.8192 - val_loss: 0.4848 - val_accuracy: 0.7857\n",
            "Epoch 13/100\n",
            "21/21 [==============================] - 0s 16ms/step - loss: 0.3657 - accuracy: 0.8306 - val_loss: 0.5298 - val_accuracy: 0.7597\n",
            "Epoch 14/100\n",
            "21/21 [==============================] - 0s 15ms/step - loss: 0.3712 - accuracy: 0.8453 - val_loss: 0.5916 - val_accuracy: 0.7338\n",
            "Epoch 15/100\n",
            "21/21 [==============================] - 0s 13ms/step - loss: 0.3397 - accuracy: 0.8567 - val_loss: 0.5780 - val_accuracy: 0.7727\n",
            "Epoch 16/100\n",
            "21/21 [==============================] - 0s 18ms/step - loss: 0.3568 - accuracy: 0.8453 - val_loss: 0.5251 - val_accuracy: 0.7662\n",
            "Epoch 17/100\n",
            "21/21 [==============================] - 0s 11ms/step - loss: 0.3228 - accuracy: 0.8713 - val_loss: 0.6052 - val_accuracy: 0.7922\n",
            "Epoch 18/100\n",
            "21/21 [==============================] - 0s 13ms/step - loss: 0.3088 - accuracy: 0.8746 - val_loss: 0.6459 - val_accuracy: 0.7727\n",
            "Epoch 19/100\n",
            "21/21 [==============================] - 0s 12ms/step - loss: 0.2978 - accuracy: 0.8827 - val_loss: 0.6715 - val_accuracy: 0.7662\n",
            "Epoch 20/100\n",
            "21/21 [==============================] - 0s 17ms/step - loss: 0.3092 - accuracy: 0.8632 - val_loss: 0.6705 - val_accuracy: 0.7662\n",
            "Epoch 21/100\n",
            "21/21 [==============================] - 0s 12ms/step - loss: 0.2739 - accuracy: 0.8958 - val_loss: 0.6720 - val_accuracy: 0.7597\n",
            "Epoch 22/100\n",
            "21/21 [==============================] - 0s 16ms/step - loss: 0.2857 - accuracy: 0.8893 - val_loss: 0.6989 - val_accuracy: 0.7597\n",
            "Epoch 23/100\n",
            "21/21 [==============================] - 0s 11ms/step - loss: 0.2544 - accuracy: 0.9023 - val_loss: 0.8409 - val_accuracy: 0.7208\n",
            "Epoch 24/100\n",
            "21/21 [==============================] - 0s 15ms/step - loss: 0.2578 - accuracy: 0.9039 - val_loss: 0.6429 - val_accuracy: 0.7468\n",
            "Epoch 25/100\n",
            "21/21 [==============================] - 0s 13ms/step - loss: 0.2126 - accuracy: 0.9186 - val_loss: 0.7876 - val_accuracy: 0.7597\n",
            "Epoch 26/100\n",
            "21/21 [==============================] - 0s 11ms/step - loss: 0.2339 - accuracy: 0.9072 - val_loss: 0.8385 - val_accuracy: 0.7662\n",
            "Epoch 27/100\n",
            "21/21 [==============================] - 0s 10ms/step - loss: 0.1887 - accuracy: 0.9267 - val_loss: 1.1034 - val_accuracy: 0.7078\n",
            "Epoch 28/100\n",
            "21/21 [==============================] - 0s 11ms/step - loss: 0.1921 - accuracy: 0.9267 - val_loss: 1.2103 - val_accuracy: 0.6623\n",
            "Epoch 29/100\n",
            "21/21 [==============================] - 0s 9ms/step - loss: 0.2014 - accuracy: 0.9186 - val_loss: 0.9777 - val_accuracy: 0.7078\n",
            "Epoch 30/100\n",
            "21/21 [==============================] - 0s 10ms/step - loss: 0.1681 - accuracy: 0.9349 - val_loss: 1.0524 - val_accuracy: 0.7532\n",
            "Epoch 31/100\n",
            "21/21 [==============================] - 0s 15ms/step - loss: 0.1736 - accuracy: 0.9251 - val_loss: 1.1038 - val_accuracy: 0.7403\n",
            "Epoch 32/100\n",
            "21/21 [==============================] - 0s 17ms/step - loss: 0.1568 - accuracy: 0.9397 - val_loss: 1.0317 - val_accuracy: 0.7403\n",
            "Epoch 33/100\n",
            "21/21 [==============================] - 0s 12ms/step - loss: 0.1722 - accuracy: 0.9332 - val_loss: 1.3003 - val_accuracy: 0.7208\n",
            "Epoch 34/100\n",
            "21/21 [==============================] - 0s 17ms/step - loss: 0.1329 - accuracy: 0.9414 - val_loss: 1.4538 - val_accuracy: 0.7532\n",
            "Epoch 35/100\n",
            "21/21 [==============================] - 0s 19ms/step - loss: 0.1938 - accuracy: 0.9349 - val_loss: 1.1766 - val_accuracy: 0.7338\n",
            "Epoch 36/100\n",
            "21/21 [==============================] - 0s 22ms/step - loss: 0.1146 - accuracy: 0.9560 - val_loss: 1.3857 - val_accuracy: 0.7403\n",
            "Epoch 37/100\n",
            "21/21 [==============================] - 0s 17ms/step - loss: 0.1427 - accuracy: 0.9544 - val_loss: 1.4599 - val_accuracy: 0.7532\n",
            "Epoch 38/100\n",
            "21/21 [==============================] - 0s 15ms/step - loss: 0.1220 - accuracy: 0.9528 - val_loss: 1.6636 - val_accuracy: 0.7662\n",
            "Epoch 39/100\n",
            "21/21 [==============================] - 0s 13ms/step - loss: 0.1425 - accuracy: 0.9544 - val_loss: 1.4322 - val_accuracy: 0.7403\n",
            "Epoch 40/100\n",
            "21/21 [==============================] - 0s 9ms/step - loss: 0.0950 - accuracy: 0.9593 - val_loss: 1.5064 - val_accuracy: 0.7532\n",
            "Epoch 41/100\n",
            "21/21 [==============================] - 0s 10ms/step - loss: 0.1367 - accuracy: 0.9381 - val_loss: 1.4384 - val_accuracy: 0.7403\n",
            "Epoch 42/100\n",
            "21/21 [==============================] - 0s 12ms/step - loss: 0.0762 - accuracy: 0.9772 - val_loss: 1.4858 - val_accuracy: 0.7532\n",
            "Epoch 43/100\n",
            "21/21 [==============================] - 0s 14ms/step - loss: 0.1026 - accuracy: 0.9593 - val_loss: 1.4616 - val_accuracy: 0.7208\n",
            "Epoch 44/100\n",
            "21/21 [==============================] - 0s 13ms/step - loss: 0.1246 - accuracy: 0.9625 - val_loss: 1.6384 - val_accuracy: 0.7597\n",
            "Epoch 45/100\n",
            "21/21 [==============================] - 0s 11ms/step - loss: 0.0733 - accuracy: 0.9756 - val_loss: 1.3564 - val_accuracy: 0.7208\n",
            "Epoch 46/100\n",
            "21/21 [==============================] - 0s 15ms/step - loss: 0.0875 - accuracy: 0.9642 - val_loss: 1.3927 - val_accuracy: 0.7273\n",
            "Epoch 47/100\n",
            "21/21 [==============================] - 0s 15ms/step - loss: 0.1093 - accuracy: 0.9691 - val_loss: 1.7153 - val_accuracy: 0.7597\n",
            "Epoch 48/100\n",
            "21/21 [==============================] - 0s 16ms/step - loss: 0.0783 - accuracy: 0.9739 - val_loss: 2.0039 - val_accuracy: 0.7338\n",
            "Epoch 49/100\n",
            "21/21 [==============================] - 0s 24ms/step - loss: 0.0728 - accuracy: 0.9756 - val_loss: 1.6898 - val_accuracy: 0.7273\n",
            "Epoch 50/100\n",
            "21/21 [==============================] - 1s 27ms/step - loss: 0.0541 - accuracy: 0.9853 - val_loss: 1.7507 - val_accuracy: 0.7273\n",
            "Epoch 51/100\n",
            "21/21 [==============================] - 0s 13ms/step - loss: 0.0779 - accuracy: 0.9707 - val_loss: 2.1301 - val_accuracy: 0.7597\n",
            "Epoch 52/100\n",
            "21/21 [==============================] - 0s 13ms/step - loss: 0.0637 - accuracy: 0.9805 - val_loss: 1.9624 - val_accuracy: 0.7403\n",
            "Epoch 53/100\n",
            "21/21 [==============================] - 0s 12ms/step - loss: 0.0698 - accuracy: 0.9658 - val_loss: 1.8122 - val_accuracy: 0.7208\n",
            "Epoch 54/100\n",
            "21/21 [==============================] - 0s 12ms/step - loss: 0.0464 - accuracy: 0.9821 - val_loss: 2.2829 - val_accuracy: 0.7338\n",
            "Epoch 55/100\n",
            "21/21 [==============================] - 0s 13ms/step - loss: 0.0650 - accuracy: 0.9756 - val_loss: 1.8627 - val_accuracy: 0.7662\n",
            "Epoch 56/100\n",
            "21/21 [==============================] - 0s 13ms/step - loss: 0.0579 - accuracy: 0.9886 - val_loss: 1.9625 - val_accuracy: 0.7597\n",
            "Epoch 57/100\n",
            "21/21 [==============================] - 0s 12ms/step - loss: 0.0659 - accuracy: 0.9870 - val_loss: 2.3237 - val_accuracy: 0.7273\n",
            "Epoch 58/100\n",
            "21/21 [==============================] - 0s 12ms/step - loss: 0.0380 - accuracy: 0.9870 - val_loss: 2.3187 - val_accuracy: 0.7078\n",
            "Epoch 59/100\n",
            "21/21 [==============================] - 0s 13ms/step - loss: 0.1005 - accuracy: 0.9674 - val_loss: 2.0661 - val_accuracy: 0.7338\n",
            "Epoch 60/100\n",
            "21/21 [==============================] - 0s 15ms/step - loss: 0.0481 - accuracy: 0.9821 - val_loss: 2.0819 - val_accuracy: 0.7013\n",
            "Epoch 61/100\n",
            "21/21 [==============================] - 0s 13ms/step - loss: 0.0232 - accuracy: 0.9935 - val_loss: 2.5581 - val_accuracy: 0.7273\n",
            "Epoch 62/100\n",
            "21/21 [==============================] - 0s 12ms/step - loss: 0.0586 - accuracy: 0.9853 - val_loss: 3.3201 - val_accuracy: 0.7532\n",
            "Epoch 63/100\n",
            "21/21 [==============================] - 0s 10ms/step - loss: 0.0803 - accuracy: 0.9707 - val_loss: 2.1785 - val_accuracy: 0.7403\n",
            "Epoch 64/100\n",
            "21/21 [==============================] - 0s 12ms/step - loss: 0.0221 - accuracy: 0.9935 - val_loss: 2.5826 - val_accuracy: 0.7403\n",
            "Epoch 65/100\n",
            "21/21 [==============================] - 0s 12ms/step - loss: 0.0635 - accuracy: 0.9788 - val_loss: 2.1390 - val_accuracy: 0.7338\n",
            "Epoch 66/100\n",
            "21/21 [==============================] - 0s 14ms/step - loss: 0.0667 - accuracy: 0.9821 - val_loss: 1.9865 - val_accuracy: 0.7208\n",
            "Epoch 67/100\n",
            "21/21 [==============================] - 0s 12ms/step - loss: 0.0166 - accuracy: 0.9951 - val_loss: 2.5628 - val_accuracy: 0.7338\n",
            "Epoch 68/100\n",
            "21/21 [==============================] - 0s 13ms/step - loss: 0.0197 - accuracy: 0.9919 - val_loss: 2.7126 - val_accuracy: 0.7143\n",
            "Epoch 69/100\n",
            "21/21 [==============================] - 0s 11ms/step - loss: 0.0382 - accuracy: 0.9870 - val_loss: 2.3190 - val_accuracy: 0.6883\n",
            "Epoch 70/100\n",
            "21/21 [==============================] - 0s 9ms/step - loss: 0.0319 - accuracy: 0.9870 - val_loss: 3.0459 - val_accuracy: 0.7338\n",
            "Epoch 71/100\n",
            "21/21 [==============================] - 0s 6ms/step - loss: 0.0128 - accuracy: 0.9967 - val_loss: 3.0674 - val_accuracy: 0.7532\n",
            "Epoch 72/100\n",
            "21/21 [==============================] - 0s 8ms/step - loss: 0.0517 - accuracy: 0.9902 - val_loss: 3.4032 - val_accuracy: 0.6948\n",
            "Epoch 73/100\n",
            "21/21 [==============================] - 0s 8ms/step - loss: 0.0485 - accuracy: 0.9837 - val_loss: 3.0097 - val_accuracy: 0.7208\n",
            "Epoch 74/100\n",
            "21/21 [==============================] - 0s 8ms/step - loss: 0.0215 - accuracy: 0.9935 - val_loss: 2.7882 - val_accuracy: 0.6883\n",
            "Epoch 75/100\n",
            "21/21 [==============================] - 0s 6ms/step - loss: 0.0853 - accuracy: 0.9821 - val_loss: 2.3407 - val_accuracy: 0.7532\n",
            "Epoch 76/100\n",
            "21/21 [==============================] - 0s 7ms/step - loss: 0.0071 - accuracy: 0.9984 - val_loss: 2.9690 - val_accuracy: 0.7338\n",
            "Epoch 77/100\n",
            "21/21 [==============================] - 0s 7ms/step - loss: 0.0046 - accuracy: 0.9967 - val_loss: 3.6155 - val_accuracy: 0.7273\n",
            "Epoch 78/100\n",
            "21/21 [==============================] - 0s 7ms/step - loss: 0.0699 - accuracy: 0.9821 - val_loss: 2.2830 - val_accuracy: 0.7338\n",
            "Epoch 79/100\n",
            "21/21 [==============================] - 0s 7ms/step - loss: 0.0523 - accuracy: 0.9853 - val_loss: 2.5277 - val_accuracy: 0.7143\n",
            "Epoch 80/100\n",
            "21/21 [==============================] - 0s 8ms/step - loss: 0.0415 - accuracy: 0.9805 - val_loss: 2.3796 - val_accuracy: 0.7468\n",
            "Epoch 81/100\n",
            "21/21 [==============================] - 0s 8ms/step - loss: 0.0131 - accuracy: 0.9951 - val_loss: 3.3878 - val_accuracy: 0.7468\n",
            "Epoch 82/100\n",
            "21/21 [==============================] - 0s 6ms/step - loss: 0.0076 - accuracy: 0.9984 - val_loss: 3.7923 - val_accuracy: 0.7468\n",
            "Epoch 83/100\n",
            "21/21 [==============================] - 0s 6ms/step - loss: 0.0987 - accuracy: 0.9821 - val_loss: 3.2848 - val_accuracy: 0.7597\n",
            "Epoch 84/100\n",
            "21/21 [==============================] - 0s 6ms/step - loss: 0.0234 - accuracy: 0.9935 - val_loss: 3.2862 - val_accuracy: 0.7532\n",
            "Epoch 85/100\n",
            "21/21 [==============================] - 0s 7ms/step - loss: 0.0393 - accuracy: 0.9853 - val_loss: 3.4066 - val_accuracy: 0.7273\n",
            "Epoch 86/100\n",
            "21/21 [==============================] - 0s 6ms/step - loss: 0.0322 - accuracy: 0.9919 - val_loss: 3.0563 - val_accuracy: 0.7338\n",
            "Epoch 87/100\n",
            "21/21 [==============================] - 0s 7ms/step - loss: 0.0247 - accuracy: 0.9919 - val_loss: 3.5706 - val_accuracy: 0.7338\n",
            "Epoch 88/100\n",
            "21/21 [==============================] - 0s 6ms/step - loss: 0.0419 - accuracy: 0.9853 - val_loss: 2.8447 - val_accuracy: 0.7403\n",
            "Epoch 89/100\n",
            "21/21 [==============================] - 0s 7ms/step - loss: 0.0253 - accuracy: 0.9902 - val_loss: 3.5622 - val_accuracy: 0.7208\n",
            "Epoch 90/100\n",
            "21/21 [==============================] - 0s 6ms/step - loss: 0.0585 - accuracy: 0.9870 - val_loss: 3.0898 - val_accuracy: 0.7403\n",
            "Epoch 91/100\n",
            "21/21 [==============================] - 0s 7ms/step - loss: 0.0054 - accuracy: 0.9984 - val_loss: 3.8594 - val_accuracy: 0.7468\n",
            "Epoch 92/100\n",
            "21/21 [==============================] - 0s 6ms/step - loss: 0.0711 - accuracy: 0.9805 - val_loss: 2.1866 - val_accuracy: 0.7273\n",
            "Epoch 93/100\n",
            "21/21 [==============================] - 0s 8ms/step - loss: 0.0231 - accuracy: 0.9935 - val_loss: 3.0325 - val_accuracy: 0.7078\n",
            "Epoch 94/100\n",
            "21/21 [==============================] - 0s 7ms/step - loss: 0.0083 - accuracy: 0.9967 - val_loss: 3.7758 - val_accuracy: 0.7078\n",
            "Epoch 95/100\n",
            "21/21 [==============================] - 0s 6ms/step - loss: 0.0149 - accuracy: 0.9967 - val_loss: 3.5731 - val_accuracy: 0.7013\n",
            "Epoch 96/100\n",
            "21/21 [==============================] - 0s 7ms/step - loss: 0.0781 - accuracy: 0.9788 - val_loss: 2.2925 - val_accuracy: 0.7403\n",
            "Epoch 97/100\n",
            "21/21 [==============================] - 0s 8ms/step - loss: 0.0255 - accuracy: 0.9935 - val_loss: 2.7172 - val_accuracy: 0.7208\n",
            "Epoch 98/100\n",
            "21/21 [==============================] - 0s 7ms/step - loss: 0.0062 - accuracy: 0.9967 - val_loss: 3.5493 - val_accuracy: 0.7338\n",
            "Epoch 99/100\n",
            "21/21 [==============================] - 0s 8ms/step - loss: 0.0205 - accuracy: 0.9967 - val_loss: 3.4112 - val_accuracy: 0.6818\n",
            "Epoch 100/100\n",
            "21/21 [==============================] - 0s 9ms/step - loss: 0.0568 - accuracy: 0.9837 - val_loss: 3.2665 - val_accuracy: 0.7078\n"
          ]
        },
        {
          "output_type": "execute_result",
          "data": {
            "text/plain": [
              "<keras.callbacks.History at 0x7f8af5c00bb0>"
            ]
          },
          "metadata": {},
          "execution_count": 36
        }
      ]
    },
    {
      "cell_type": "code",
      "source": [
        "def build_model(hp):  # hp is object\n",
        "  model = Sequential()\n",
        "  counter = 0\n",
        "\n",
        "  for i in range(hp.Int('num_layers',min_value=1,max_value=10)):\n",
        "    if counter == 0:\n",
        "      model.add(Dense(hp.Int('units' +str(i),min_value=8,max_value=128,step=8),activation=hp.Choice('activation' + str(i),values=['relu','tanh','sigmoid']),input_dim=8))\n",
        "      model.add(Dropout(hp.Choice('dropout' +str(i),values=[0.1,0.2,0.3,0.4,0.5,0.6,0.7,0.8,0.9])))\n",
        "    \n",
        "    else:\n",
        "      model.add(Dense(hp.Int('units' +str(i),min_value=8,max_value=128,step=8),activation=hp.Choice('activation' + str(i),values=['relu','tanh','sigmoid']),input_dim=8))\n",
        "      model.add(Dropout(hp.Choice('dropout' +str(i),values=[0.1,0.2,0.3,0.4,0.5,0.6,0.7,0.8,0.9])))\n",
        "    counter+=1\n",
        "    \n",
        "  model.add(Dense(1,activation='sigmoid'))\n",
        "  \n",
        "  model.compile(optimizer=hp.Choice('optimizer',values=['rmsprop','adam','sgd','nadam','adadelta']),loss='binary_crossentropy',metrics=['accuracy'])\n",
        "\n",
        "  return model"
      ],
      "metadata": {
        "id": "7SfxwGeQqcSf"
      },
      "execution_count": null,
      "outputs": []
    },
    {
      "cell_type": "code",
      "source": [
        "tuner = kt.RandomSearch(build_model, objective = 'val_accuracy',max_trials = 5,directory='mydir',project_name='Project3')"
      ],
      "metadata": {
        "id": "d8xMww94Anlj"
      },
      "execution_count": null,
      "outputs": []
    },
    {
      "cell_type": "code",
      "source": [
        "tuner.search(X_train,y_train,epochs=5, validation_data = (X_test,y_test))"
      ],
      "metadata": {
        "id": "D73CJ6aKA22B"
      },
      "execution_count": null,
      "outputs": []
    },
    {
      "cell_type": "code",
      "source": [
        "tuner.get_best_hyperparameters()[0].values"
      ],
      "metadata": {
        "colab": {
          "base_uri": "https://localhost:8080/"
        },
        "id": "IC-7X1jNB4HM",
        "outputId": "13029d8c-0523-45c2-f438-e7bf0a6274c7"
      },
      "execution_count": null,
      "outputs": [
        {
          "output_type": "execute_result",
          "data": {
            "text/plain": [
              "{'num_layers': 4,\n",
              " 'units0': 64,\n",
              " 'activation0': 'sigmoid',\n",
              " 'optimizer': 'rmsprop',\n",
              " 'units1': 32,\n",
              " 'activation1': 'tanh',\n",
              " 'units2': 64,\n",
              " 'activation2': 'tanh',\n",
              " 'units3': 96,\n",
              " 'activation3': 'sigmoid',\n",
              " 'units4': 120,\n",
              " 'activation4': 'relu',\n",
              " 'units5': 32,\n",
              " 'activation5': 'tanh'}"
            ]
          },
          "metadata": {},
          "execution_count": 44
        }
      ]
    },
    {
      "cell_type": "code",
      "source": [
        "model = tuner.get_best_models(num_models=1)[0]"
      ],
      "metadata": {
        "colab": {
          "base_uri": "https://localhost:8080/"
        },
        "id": "dOKFSw0JB-KL",
        "outputId": "4f70c556-1645-4f61-c8bf-d92c40926154"
      },
      "execution_count": null,
      "outputs": [
        {
          "output_type": "stream",
          "name": "stderr",
          "text": [
            "WARNING:tensorflow:Inconsistent references when loading the checkpoint into this object graph. For example, in the saved checkpoint object, `model.layer.weight` and `model.layer_copy.weight` reference the same variable, while in the current object these are two different variables. The referenced variables are:(<keras.layers.core.dense.Dense object at 0x7f8af55a8df0> and <keras.layers.regularization.dropout.Dropout object at 0x7f8af5955820>).\n",
            "WARNING:tensorflow:Inconsistent references when loading the checkpoint into this object graph. For example, in the saved checkpoint object, `model.layer.weight` and `model.layer_copy.weight` reference the same variable, while in the current object these are two different variables. The referenced variables are:(<keras.layers.core.dense.Dense object at 0x7f8af558ea90> and <keras.layers.core.dense.Dense object at 0x7f8af55a8df0>).\n",
            "WARNING:tensorflow:Inconsistent references when loading the checkpoint into this object graph. For example, in the saved checkpoint object, `model.layer.weight` and `model.layer_copy.weight` reference the same variable, while in the current object these are two different variables. The referenced variables are:(<keras.layers.core.dense.Dense object at 0x7f8af55fca90> and <keras.layers.regularization.dropout.Dropout object at 0x7f8af55a8a90>).\n",
            "WARNING:tensorflow:Inconsistent references when loading the checkpoint into this object graph. For example, in the saved checkpoint object, `model.layer.weight` and `model.layer_copy.weight` reference the same variable, while in the current object these are two different variables. The referenced variables are:(<keras.layers.core.dense.Dense object at 0x7f8a91866100> and <keras.layers.core.dense.Dense object at 0x7f8af558ea90>).\n"
          ]
        }
      ]
    },
    {
      "cell_type": "code",
      "source": [
        "model.fit(X_train,y_train,batch_size = 30,epochs=100,initial_epoch=6,validation_data=(X_test,y_test))"
      ],
      "metadata": {
        "colab": {
          "base_uri": "https://localhost:8080/"
        },
        "id": "08-I-nGpDA4Y",
        "outputId": "1f541aef-ebdd-458b-e14b-d97925925ffb"
      },
      "execution_count": null,
      "outputs": [
        {
          "output_type": "stream",
          "name": "stdout",
          "text": [
            "Epoch 7/100\n",
            "21/21 [==============================] - 1s 12ms/step - loss: 0.5173 - accuracy: 0.7378 - val_loss: 0.4775 - val_accuracy: 0.7792\n",
            "Epoch 8/100\n",
            "21/21 [==============================] - 0s 4ms/step - loss: 0.5238 - accuracy: 0.7378 - val_loss: 0.4822 - val_accuracy: 0.7727\n",
            "Epoch 9/100\n",
            "21/21 [==============================] - 0s 3ms/step - loss: 0.4959 - accuracy: 0.7508 - val_loss: 0.5254 - val_accuracy: 0.7468\n",
            "Epoch 10/100\n",
            "21/21 [==============================] - 0s 4ms/step - loss: 0.4949 - accuracy: 0.7492 - val_loss: 0.4896 - val_accuracy: 0.7597\n",
            "Epoch 11/100\n",
            "21/21 [==============================] - 0s 3ms/step - loss: 0.5174 - accuracy: 0.7492 - val_loss: 0.4766 - val_accuracy: 0.7922\n",
            "Epoch 12/100\n",
            "21/21 [==============================] - 0s 4ms/step - loss: 0.5025 - accuracy: 0.7687 - val_loss: 0.4766 - val_accuracy: 0.7792\n",
            "Epoch 13/100\n",
            "21/21 [==============================] - 0s 4ms/step - loss: 0.5107 - accuracy: 0.7524 - val_loss: 0.4743 - val_accuracy: 0.7922\n",
            "Epoch 14/100\n",
            "21/21 [==============================] - 0s 3ms/step - loss: 0.4958 - accuracy: 0.7557 - val_loss: 0.4831 - val_accuracy: 0.7597\n",
            "Epoch 15/100\n",
            "21/21 [==============================] - 0s 4ms/step - loss: 0.5061 - accuracy: 0.7476 - val_loss: 0.4731 - val_accuracy: 0.7792\n",
            "Epoch 16/100\n",
            "21/21 [==============================] - 0s 4ms/step - loss: 0.5056 - accuracy: 0.7524 - val_loss: 0.4701 - val_accuracy: 0.7857\n",
            "Epoch 17/100\n",
            "21/21 [==============================] - 0s 3ms/step - loss: 0.5063 - accuracy: 0.7524 - val_loss: 0.4748 - val_accuracy: 0.7922\n",
            "Epoch 18/100\n",
            "21/21 [==============================] - 0s 4ms/step - loss: 0.5063 - accuracy: 0.7557 - val_loss: 0.5015 - val_accuracy: 0.7662\n",
            "Epoch 19/100\n",
            "21/21 [==============================] - 0s 4ms/step - loss: 0.5098 - accuracy: 0.7638 - val_loss: 0.4723 - val_accuracy: 0.7857\n",
            "Epoch 20/100\n",
            "21/21 [==============================] - 0s 4ms/step - loss: 0.5071 - accuracy: 0.7410 - val_loss: 0.4895 - val_accuracy: 0.7662\n",
            "Epoch 21/100\n",
            "21/21 [==============================] - 0s 5ms/step - loss: 0.4874 - accuracy: 0.7655 - val_loss: 0.4708 - val_accuracy: 0.7857\n",
            "Epoch 22/100\n",
            "21/21 [==============================] - 0s 4ms/step - loss: 0.5001 - accuracy: 0.7590 - val_loss: 0.4812 - val_accuracy: 0.7662\n",
            "Epoch 23/100\n",
            "21/21 [==============================] - 0s 5ms/step - loss: 0.4865 - accuracy: 0.7622 - val_loss: 0.4761 - val_accuracy: 0.7792\n",
            "Epoch 24/100\n",
            "21/21 [==============================] - 0s 4ms/step - loss: 0.5053 - accuracy: 0.7492 - val_loss: 0.4787 - val_accuracy: 0.7792\n",
            "Epoch 25/100\n",
            "21/21 [==============================] - 0s 4ms/step - loss: 0.5002 - accuracy: 0.7606 - val_loss: 0.4998 - val_accuracy: 0.8052\n",
            "Epoch 26/100\n",
            "21/21 [==============================] - 0s 5ms/step - loss: 0.4849 - accuracy: 0.7573 - val_loss: 0.4800 - val_accuracy: 0.7792\n",
            "Epoch 27/100\n",
            "21/21 [==============================] - 0s 3ms/step - loss: 0.4892 - accuracy: 0.7720 - val_loss: 0.4772 - val_accuracy: 0.8052\n",
            "Epoch 28/100\n",
            "21/21 [==============================] - 0s 5ms/step - loss: 0.4900 - accuracy: 0.7590 - val_loss: 0.4782 - val_accuracy: 0.8052\n",
            "Epoch 29/100\n",
            "21/21 [==============================] - 0s 4ms/step - loss: 0.4984 - accuracy: 0.7541 - val_loss: 0.4750 - val_accuracy: 0.7987\n",
            "Epoch 30/100\n",
            "21/21 [==============================] - 0s 3ms/step - loss: 0.4824 - accuracy: 0.7622 - val_loss: 0.4708 - val_accuracy: 0.7792\n",
            "Epoch 31/100\n",
            "21/21 [==============================] - 0s 5ms/step - loss: 0.4705 - accuracy: 0.7720 - val_loss: 0.4720 - val_accuracy: 0.7792\n",
            "Epoch 32/100\n",
            "21/21 [==============================] - 0s 4ms/step - loss: 0.4877 - accuracy: 0.7638 - val_loss: 0.4701 - val_accuracy: 0.7987\n",
            "Epoch 33/100\n",
            "21/21 [==============================] - 0s 4ms/step - loss: 0.4953 - accuracy: 0.7524 - val_loss: 0.4694 - val_accuracy: 0.7792\n",
            "Epoch 34/100\n",
            "21/21 [==============================] - 0s 4ms/step - loss: 0.4825 - accuracy: 0.7622 - val_loss: 0.4847 - val_accuracy: 0.7987\n",
            "Epoch 35/100\n",
            "21/21 [==============================] - 0s 4ms/step - loss: 0.4862 - accuracy: 0.7655 - val_loss: 0.4767 - val_accuracy: 0.8052\n",
            "Epoch 36/100\n",
            "21/21 [==============================] - 0s 4ms/step - loss: 0.4924 - accuracy: 0.7557 - val_loss: 0.4714 - val_accuracy: 0.7987\n",
            "Epoch 37/100\n",
            "21/21 [==============================] - 0s 3ms/step - loss: 0.4841 - accuracy: 0.7850 - val_loss: 0.4692 - val_accuracy: 0.7922\n",
            "Epoch 38/100\n",
            "21/21 [==============================] - 0s 4ms/step - loss: 0.5023 - accuracy: 0.7508 - val_loss: 0.4697 - val_accuracy: 0.7987\n",
            "Epoch 39/100\n",
            "21/21 [==============================] - 0s 4ms/step - loss: 0.4858 - accuracy: 0.7541 - val_loss: 0.4827 - val_accuracy: 0.7792\n",
            "Epoch 40/100\n",
            "21/21 [==============================] - 0s 4ms/step - loss: 0.4891 - accuracy: 0.7541 - val_loss: 0.4699 - val_accuracy: 0.7922\n",
            "Epoch 41/100\n",
            "21/21 [==============================] - 0s 4ms/step - loss: 0.4925 - accuracy: 0.7557 - val_loss: 0.4711 - val_accuracy: 0.7792\n",
            "Epoch 42/100\n",
            "21/21 [==============================] - 0s 4ms/step - loss: 0.4891 - accuracy: 0.7606 - val_loss: 0.4740 - val_accuracy: 0.7857\n",
            "Epoch 43/100\n",
            "21/21 [==============================] - 0s 3ms/step - loss: 0.4837 - accuracy: 0.7622 - val_loss: 0.4880 - val_accuracy: 0.7792\n",
            "Epoch 44/100\n",
            "21/21 [==============================] - 0s 4ms/step - loss: 0.4883 - accuracy: 0.7622 - val_loss: 0.4876 - val_accuracy: 0.8117\n",
            "Epoch 45/100\n",
            "21/21 [==============================] - 0s 5ms/step - loss: 0.4887 - accuracy: 0.7508 - val_loss: 0.4735 - val_accuracy: 0.7857\n",
            "Epoch 46/100\n",
            "21/21 [==============================] - 0s 5ms/step - loss: 0.4813 - accuracy: 0.7573 - val_loss: 0.4857 - val_accuracy: 0.8052\n",
            "Epoch 47/100\n",
            "21/21 [==============================] - 0s 4ms/step - loss: 0.4922 - accuracy: 0.7573 - val_loss: 0.4681 - val_accuracy: 0.7857\n",
            "Epoch 48/100\n",
            "21/21 [==============================] - 0s 4ms/step - loss: 0.4725 - accuracy: 0.7736 - val_loss: 0.4715 - val_accuracy: 0.7987\n",
            "Epoch 49/100\n",
            "21/21 [==============================] - 0s 4ms/step - loss: 0.4850 - accuracy: 0.7606 - val_loss: 0.4704 - val_accuracy: 0.7987\n",
            "Epoch 50/100\n",
            "21/21 [==============================] - 0s 4ms/step - loss: 0.4773 - accuracy: 0.7655 - val_loss: 0.4733 - val_accuracy: 0.7987\n",
            "Epoch 51/100\n",
            "21/21 [==============================] - 0s 4ms/step - loss: 0.4873 - accuracy: 0.7655 - val_loss: 0.4740 - val_accuracy: 0.8052\n",
            "Epoch 52/100\n",
            "21/21 [==============================] - 0s 4ms/step - loss: 0.4844 - accuracy: 0.7590 - val_loss: 0.4672 - val_accuracy: 0.7857\n",
            "Epoch 53/100\n",
            "21/21 [==============================] - 0s 4ms/step - loss: 0.4828 - accuracy: 0.7736 - val_loss: 0.4735 - val_accuracy: 0.7857\n",
            "Epoch 54/100\n",
            "21/21 [==============================] - 0s 4ms/step - loss: 0.4660 - accuracy: 0.7704 - val_loss: 0.4737 - val_accuracy: 0.7857\n",
            "Epoch 55/100\n",
            "21/21 [==============================] - 0s 4ms/step - loss: 0.4802 - accuracy: 0.7524 - val_loss: 0.4692 - val_accuracy: 0.7857\n",
            "Epoch 56/100\n",
            "21/21 [==============================] - 0s 5ms/step - loss: 0.4740 - accuracy: 0.7638 - val_loss: 0.4663 - val_accuracy: 0.7857\n",
            "Epoch 57/100\n",
            "21/21 [==============================] - 0s 5ms/step - loss: 0.4796 - accuracy: 0.7590 - val_loss: 0.4663 - val_accuracy: 0.7857\n",
            "Epoch 58/100\n",
            "21/21 [==============================] - 0s 4ms/step - loss: 0.4931 - accuracy: 0.7606 - val_loss: 0.4684 - val_accuracy: 0.7857\n",
            "Epoch 59/100\n",
            "21/21 [==============================] - 0s 4ms/step - loss: 0.4784 - accuracy: 0.7655 - val_loss: 0.4652 - val_accuracy: 0.7792\n",
            "Epoch 60/100\n",
            "21/21 [==============================] - 0s 4ms/step - loss: 0.4735 - accuracy: 0.7687 - val_loss: 0.4676 - val_accuracy: 0.7792\n",
            "Epoch 61/100\n",
            "21/21 [==============================] - 0s 4ms/step - loss: 0.4770 - accuracy: 0.7687 - val_loss: 0.4656 - val_accuracy: 0.7987\n",
            "Epoch 62/100\n",
            "21/21 [==============================] - 0s 4ms/step - loss: 0.4682 - accuracy: 0.7736 - val_loss: 0.5037 - val_accuracy: 0.7792\n",
            "Epoch 63/100\n",
            "21/21 [==============================] - 0s 4ms/step - loss: 0.4660 - accuracy: 0.7899 - val_loss: 0.4664 - val_accuracy: 0.7922\n",
            "Epoch 64/100\n",
            "21/21 [==============================] - 0s 4ms/step - loss: 0.4792 - accuracy: 0.7622 - val_loss: 0.4675 - val_accuracy: 0.7922\n",
            "Epoch 65/100\n",
            "21/21 [==============================] - 0s 4ms/step - loss: 0.4853 - accuracy: 0.7801 - val_loss: 0.4677 - val_accuracy: 0.7857\n",
            "Epoch 66/100\n",
            "21/21 [==============================] - 0s 4ms/step - loss: 0.4804 - accuracy: 0.7687 - val_loss: 0.4673 - val_accuracy: 0.7922\n",
            "Epoch 67/100\n",
            "21/21 [==============================] - 0s 4ms/step - loss: 0.4730 - accuracy: 0.7606 - val_loss: 0.4790 - val_accuracy: 0.7857\n",
            "Epoch 68/100\n",
            "21/21 [==============================] - 0s 4ms/step - loss: 0.4815 - accuracy: 0.7638 - val_loss: 0.4661 - val_accuracy: 0.7987\n",
            "Epoch 69/100\n",
            "21/21 [==============================] - 0s 4ms/step - loss: 0.4733 - accuracy: 0.7606 - val_loss: 0.4828 - val_accuracy: 0.7857\n",
            "Epoch 70/100\n",
            "21/21 [==============================] - 0s 4ms/step - loss: 0.4833 - accuracy: 0.7573 - val_loss: 0.4760 - val_accuracy: 0.7792\n",
            "Epoch 71/100\n",
            "21/21 [==============================] - 0s 4ms/step - loss: 0.4797 - accuracy: 0.7476 - val_loss: 0.4658 - val_accuracy: 0.7922\n",
            "Epoch 72/100\n",
            "21/21 [==============================] - 0s 4ms/step - loss: 0.4723 - accuracy: 0.7687 - val_loss: 0.4655 - val_accuracy: 0.7922\n",
            "Epoch 73/100\n",
            "21/21 [==============================] - 0s 4ms/step - loss: 0.4731 - accuracy: 0.7752 - val_loss: 0.4758 - val_accuracy: 0.7792\n",
            "Epoch 74/100\n",
            "21/21 [==============================] - 0s 4ms/step - loss: 0.4709 - accuracy: 0.7671 - val_loss: 0.4669 - val_accuracy: 0.7857\n",
            "Epoch 75/100\n",
            "21/21 [==============================] - 0s 4ms/step - loss: 0.4801 - accuracy: 0.7687 - val_loss: 0.4712 - val_accuracy: 0.7792\n",
            "Epoch 76/100\n",
            "21/21 [==============================] - 0s 4ms/step - loss: 0.4773 - accuracy: 0.7704 - val_loss: 0.4766 - val_accuracy: 0.7922\n",
            "Epoch 77/100\n",
            "21/21 [==============================] - 0s 4ms/step - loss: 0.4789 - accuracy: 0.7736 - val_loss: 0.4652 - val_accuracy: 0.7922\n",
            "Epoch 78/100\n",
            "21/21 [==============================] - 0s 5ms/step - loss: 0.4701 - accuracy: 0.7704 - val_loss: 0.4816 - val_accuracy: 0.8052\n",
            "Epoch 79/100\n",
            "21/21 [==============================] - 0s 4ms/step - loss: 0.4711 - accuracy: 0.7655 - val_loss: 0.4705 - val_accuracy: 0.7987\n",
            "Epoch 80/100\n",
            "21/21 [==============================] - 0s 3ms/step - loss: 0.4676 - accuracy: 0.7687 - val_loss: 0.4840 - val_accuracy: 0.8052\n",
            "Epoch 81/100\n",
            "21/21 [==============================] - 0s 5ms/step - loss: 0.4733 - accuracy: 0.7655 - val_loss: 0.4669 - val_accuracy: 0.7987\n",
            "Epoch 82/100\n",
            "21/21 [==============================] - 0s 4ms/step - loss: 0.4682 - accuracy: 0.7573 - val_loss: 0.4707 - val_accuracy: 0.7987\n",
            "Epoch 83/100\n",
            "21/21 [==============================] - 0s 4ms/step - loss: 0.4732 - accuracy: 0.7671 - val_loss: 0.4796 - val_accuracy: 0.8052\n",
            "Epoch 84/100\n",
            "21/21 [==============================] - 0s 4ms/step - loss: 0.4752 - accuracy: 0.7541 - val_loss: 0.4774 - val_accuracy: 0.7922\n",
            "Epoch 85/100\n",
            "21/21 [==============================] - 0s 4ms/step - loss: 0.4725 - accuracy: 0.7622 - val_loss: 0.4668 - val_accuracy: 0.7792\n",
            "Epoch 86/100\n",
            "21/21 [==============================] - 0s 4ms/step - loss: 0.4662 - accuracy: 0.7606 - val_loss: 0.4696 - val_accuracy: 0.7792\n",
            "Epoch 87/100\n",
            "21/21 [==============================] - 0s 4ms/step - loss: 0.4803 - accuracy: 0.7508 - val_loss: 0.4651 - val_accuracy: 0.7857\n",
            "Epoch 88/100\n",
            "21/21 [==============================] - 0s 4ms/step - loss: 0.4737 - accuracy: 0.7720 - val_loss: 0.4691 - val_accuracy: 0.7987\n",
            "Epoch 89/100\n",
            "21/21 [==============================] - 0s 6ms/step - loss: 0.4695 - accuracy: 0.7638 - val_loss: 0.4639 - val_accuracy: 0.7857\n",
            "Epoch 90/100\n",
            "21/21 [==============================] - 0s 4ms/step - loss: 0.4726 - accuracy: 0.7736 - val_loss: 0.4746 - val_accuracy: 0.7857\n",
            "Epoch 91/100\n",
            "21/21 [==============================] - 0s 4ms/step - loss: 0.4734 - accuracy: 0.7720 - val_loss: 0.4809 - val_accuracy: 0.7857\n",
            "Epoch 92/100\n",
            "21/21 [==============================] - 0s 4ms/step - loss: 0.4757 - accuracy: 0.7573 - val_loss: 0.4605 - val_accuracy: 0.8182\n",
            "Epoch 93/100\n",
            "21/21 [==============================] - 0s 4ms/step - loss: 0.4699 - accuracy: 0.7557 - val_loss: 0.4594 - val_accuracy: 0.8052\n",
            "Epoch 94/100\n",
            "21/21 [==============================] - 0s 4ms/step - loss: 0.4688 - accuracy: 0.7736 - val_loss: 0.4619 - val_accuracy: 0.7857\n",
            "Epoch 95/100\n",
            "21/21 [==============================] - 0s 4ms/step - loss: 0.4624 - accuracy: 0.7769 - val_loss: 0.4569 - val_accuracy: 0.8182\n",
            "Epoch 96/100\n",
            "21/21 [==============================] - 0s 4ms/step - loss: 0.4665 - accuracy: 0.7638 - val_loss: 0.4808 - val_accuracy: 0.7857\n",
            "Epoch 97/100\n",
            "21/21 [==============================] - 0s 4ms/step - loss: 0.4676 - accuracy: 0.7785 - val_loss: 0.4608 - val_accuracy: 0.7857\n",
            "Epoch 98/100\n",
            "21/21 [==============================] - 0s 4ms/step - loss: 0.4694 - accuracy: 0.7720 - val_loss: 0.4608 - val_accuracy: 0.8247\n",
            "Epoch 99/100\n",
            "21/21 [==============================] - 0s 4ms/step - loss: 0.4743 - accuracy: 0.7736 - val_loss: 0.4593 - val_accuracy: 0.8117\n",
            "Epoch 100/100\n",
            "21/21 [==============================] - 0s 4ms/step - loss: 0.4702 - accuracy: 0.7687 - val_loss: 0.4589 - val_accuracy: 0.7987\n"
          ]
        },
        {
          "output_type": "execute_result",
          "data": {
            "text/plain": [
              "<keras.callbacks.History at 0x7f8af57c7a90>"
            ]
          },
          "metadata": {},
          "execution_count": 52
        }
      ]
    },
    {
      "cell_type": "code",
      "source": [],
      "metadata": {
        "id": "KnItLl-GDQPZ"
      },
      "execution_count": null,
      "outputs": []
    },
    {
      "cell_type": "code",
      "source": [],
      "metadata": {
        "id": "Karj_JiCHGFf"
      },
      "execution_count": null,
      "outputs": []
    },
    {
      "cell_type": "code",
      "source": [],
      "metadata": {
        "id": "s5b-5FgAHBFE"
      },
      "execution_count": null,
      "outputs": []
    },
    {
      "cell_type": "code",
      "source": [],
      "metadata": {
        "id": "QahcXjtQFEmm"
      },
      "execution_count": null,
      "outputs": []
    },
    {
      "cell_type": "code",
      "source": [],
      "metadata": {
        "id": "WTz3E3uw5C05"
      },
      "execution_count": null,
      "outputs": []
    }
  ]
}